{
 "cells": [
  {
   "cell_type": "markdown",
   "metadata": {
    "cell_id": "00000-e708fda4-850b-47c4-9cad-59c6e5daf511",
    "deepnote_cell_type": "markdown",
    "tags": []
   },
   "source": [
    "# Assignment #2\n",
    "\n",
    "**Name:** Shaimar R. Gonzalez Morales\n",
    "\n",
    "**Date:** 2/10/2021"
   ]
  },
  {
   "cell_type": "markdown",
   "metadata": {
    "cell_id": "00001-51f6393e-58f7-47be-b00b-731c16cd31c2",
    "deepnote_cell_type": "markdown",
    "tags": []
   },
   "source": [
    "## Step 1: Asking the user for 10 integers"
   ]
  },
  {
   "cell_type": "code",
   "execution_count": 23,
   "metadata": {
    "cell_id": "00002-3e497eeb-800b-4196-a428-c1587cd35205",
    "deepnote_cell_type": "code",
    "deepnote_to_be_reexecuted": false,
    "execution_millis": 5669,
    "execution_start": 1612896478034,
    "source_hash": "a64dc81a",
    "tags": []
   },
   "outputs": [
    {
     "name": "stdout",
     "output_type": "stream",
     "text": [
      "Please enter 10 integer:1\n",
      "Please enter 10 integer:2\n",
      "Please enter 10 integer:3\n",
      "Please enter 10 integer:4\n",
      "Please enter 10 integer:5\n",
      "Please enter 10 integer:6\n",
      "Please enter 10 integer:7\n",
      "Please enter 10 integer:8\n",
      "Please enter 10 integer:9\n",
      "Please enter 10 integer:10\n",
      "The 10 integers have been entered ['1', '2', '3', '4', '5', '6', '7', '8', '9', '10']\n"
     ]
    }
   ],
   "source": [
    "user_inputs=[]\n",
    "for i in range (1,11): # making the range that so that 10 integer are added\n",
    "    user_input = input(\"Please enter 10 integer:\")\n",
    "    user_inputs.append(user_input) # add the integers to the list\n",
    "print(\"The 10 integers have been entered\",user_inputs)"
   ]
  },
  {
   "cell_type": "markdown",
   "metadata": {
    "cell_id": "00003-14f5c2dc-f8f7-4f85-b55b-1cf9ed2e888a",
    "deepnote_cell_type": "markdown",
    "tags": []
   },
   "source": [
    "## Step 2: Reminding them how many integers they have put"
   ]
  },
  {
   "cell_type": "code",
   "execution_count": 24,
   "metadata": {
    "cell_id": "00004-f620f994-eedb-4318-b9a9-4e8039389a66",
    "deepnote_cell_type": "code",
    "deepnote_to_be_reexecuted": true,
    "execution_millis": 25376,
    "source_hash": "b4be95a3",
    "tags": []
   },
   "outputs": [
    {
     "name": "stdout",
     "output_type": "stream",
     "text": [
      "Please enter 10 integer:1\n",
      "Integer #1: 1\n",
      "Please enter 10 integer:2\n",
      "Integer #2: 2\n",
      "Please enter 10 integer:3\n",
      "Integer #3: 3\n",
      "Please enter 10 integer:4\n",
      "Integer #4: 4\n",
      "Please enter 10 integer:5\n",
      "Integer #5: 5\n",
      "Please enter 10 integer:6\n",
      "Integer #6: 6\n",
      "Please enter 10 integer:7\n",
      "Integer #7: 7\n",
      "Please enter 10 integer:8\n",
      "Integer #8: 8\n",
      "Please enter 10 integer:9\n",
      "Integer #9: 9\n",
      "Please enter 10 integer:10\n",
      "Integer #10: 10\n",
      "The 10 integers, you entered are: ['1', '2', '3', '4', '5', '6', '7', '8', '9', '10']\n"
     ]
    }
   ],
   "source": [
    "user_inputs =[]\n",
    "for i in range(1, 11):\n",
    "    user_input = input(\"Please enter 10 integer:\")\n",
    "    user_inputs.append(user_input)   # add the integers to the list\n",
    "    print(f\"Integer #{i}:\", user_input) #remind them the # of integer\n",
    "\n",
    "print(\"The 10 integers, you entered are:\", user_inputs) # show the list of integers"
   ]
  },
  {
   "cell_type": "markdown",
   "metadata": {
    "cell_id": "00005-ba2f11f8-2b82-4a41-a33d-fecabbf9571a",
    "deepnote_cell_type": "markdown",
    "tags": []
   },
   "source": [
    "## Step 3: Accepting only integers and stop when reached 10 tries"
   ]
  },
  {
   "cell_type": "code",
   "execution_count": 25,
   "metadata": {},
   "outputs": [
    {
     "name": "stdout",
     "output_type": "stream",
     "text": [
      "Please enter 10 integer:1\n",
      "Integer #1: 1\n",
      "You have entered: [1]\n",
      "Please enter 10 integer:2\n",
      "Integer #1: 2\n",
      "You have entered: [1, 2]\n",
      "Please enter 10 integer:3\n",
      "Integer #1: 3\n",
      "You have entered: [1, 2, 3]\n",
      "Please enter 10 integer:4\n",
      "Integer #1: 4\n",
      "You have entered: [1, 2, 3, 4]\n",
      "Please enter 10 integer:5\n",
      "Integer #1: 5\n",
      "You have entered: [1, 2, 3, 4, 5]\n",
      "Please enter 10 integer:6\n",
      "Integer #1: 6\n",
      "You have entered: [1, 2, 3, 4, 5, 6]\n",
      "Please enter 10 integer:7\n",
      "Integer #1: 7\n",
      "You have entered: [1, 2, 3, 4, 5, 6, 7]\n",
      "Please enter 10 integer:8\n",
      "Integer #1: 8\n",
      "You have entered: [1, 2, 3, 4, 5, 6, 7, 8]\n",
      "Please enter 10 integer:9\n",
      "Integer #1: 9\n",
      "You have entered: [1, 2, 3, 4, 5, 6, 7, 8, 9]\n",
      "Please enter 10 integer:10\n",
      "Integer #1: 10\n",
      "[1, 2, 3, 4, 5, 6, 7, 8, 9, 10]\n"
     ]
    }
   ],
   "source": [
    "user_inputs=[]\n",
    "b=[1,2,3,4,5,6,7,8,9,10]\n",
    "while True:\n",
    "    for i in range (1,11):\n",
    "        try: \n",
    "            user_input = int(input(\"Please enter 10 integer:\"))\n",
    "            user_inputs.append(user_input)\n",
    "            print(f\"Integer #{i}:\", user_input)\n",
    "            break\n",
    "        except:\n",
    "            pass\n",
    "            print(\"Only integer are allowed. Try again\")\n",
    "    if len(user_inputs) == len(b): #making sure 10 integers are added \n",
    "        break\n",
    "    print(\"You have entered:\", user_inputs) \n",
    "print(user_inputs)     "
   ]
  },
  {
   "cell_type": "markdown",
   "metadata": {
    "cell_id": "00007-c9634693-0bc2-4ffc-8e70-cbb683df4acc",
    "deepnote_cell_type": "markdown",
    "tags": []
   },
   "source": [
    "## Step 4: Pausing when entered incorrect value and resume "
   ]
  },
  {
   "cell_type": "code",
   "execution_count": 26,
   "metadata": {
    "cell_id": "00010-c2115c26-7fcb-4fe2-9261-eb79ace67c8f",
    "deepnote_cell_type": "code",
    "deepnote_to_be_reexecuted": true,
    "execution_millis": 29651,
    "source_hash": "8eeb43fb",
    "tags": []
   },
   "outputs": [
    {
     "name": "stdout",
     "output_type": "stream",
     "text": [
      "Please enter 10 integer:1\n",
      "Integer #1: 1\n",
      "Please enter 10 integer:bob\n",
      "Only integer are allowed. Try again\n",
      "Please enter 10 integer:3\n",
      "Integer #2: 3\n",
      "Please enter 10 integer:5\n",
      "Integer #3: 5\n",
      "Please enter 10 integer:4.5\n",
      "Only integer are allowed. Try again\n",
      "Please enter 10 integer:7\n",
      "Integer #4: 7\n",
      "Please enter 10 integer:9\n",
      "Integer #5: 9\n",
      "Please enter 10 integer:10\n",
      "Integer #6: 10\n",
      "Please enter 10 integer:11\n",
      "Integer #7: 11\n",
      "Please enter 10 integer:12\n",
      "Integer #8: 12\n",
      "Please enter 10 integer:12\n",
      "Integer #9: 12\n",
      "Please enter 10 integer:13\n",
      "Integer #10: 13\n",
      "The 10 integers, you have entered: [1, 3, 5, 7, 9, 10, 11, 12, 12, 13]\n"
     ]
    }
   ],
   "source": [
    "user_inputs =[]\n",
    "n=0\n",
    "while True:\n",
    "    try:\n",
    "        user_input = int(input(\"Please enter 10 integer:\"))\n",
    "        user_inputs.append(user_input)\n",
    "        n += 1\n",
    "        print(f\"Integer #{n}:\", user_input)\n",
    "    except: #making an excepion\n",
    "        print(\"Only integer are allowed. Try again\") \n",
    "    if n==10:\n",
    "        break\n",
    "print(\"The 10 integers, you have entered:\", user_inputs)           "
   ]
  },
  {
   "cell_type": "markdown",
   "metadata": {
    "cell_id": "00011-6a73338d-1a5e-4c54-a651-3f4432e99806",
    "deepnote_cell_type": "markdown",
    "tags": []
   },
   "source": [
    "## Step 5: Calculating minimum"
   ]
  },
  {
   "cell_type": "code",
   "execution_count": 27,
   "metadata": {
    "cell_id": "00013-434b02c9-bc7f-4338-b2e0-cdbdc7d267a6",
    "deepnote_cell_type": "code",
    "deepnote_to_be_reexecuted": false,
    "execution_millis": 1,
    "execution_start": 1612896734745,
    "source_hash": "abd6e6e",
    "tags": []
   },
   "outputs": [],
   "source": [
    "def minimum (a): #defining a minimum function\n",
    "    minimum_num = a[0]\n",
    "    for i in a[1:]:\n",
    "        if i < minimum_num: \n",
    "            minimum_num = i \n",
    "    return (minimum_num)"
   ]
  },
  {
   "cell_type": "code",
   "execution_count": 28,
   "metadata": {
    "cell_id": "00013-3a674ba4-1552-429f-9661-c6ad00d3ab98",
    "deepnote_cell_type": "code",
    "deepnote_to_be_reexecuted": true,
    "execution_millis": 29227,
    "source_hash": "996d9a64",
    "tags": []
   },
   "outputs": [
    {
     "name": "stdout",
     "output_type": "stream",
     "text": [
      "Please enter 10 integer:4\n",
      "Integer #1: 4\n",
      "Please enter 10 integer:5\n",
      "Integer #2: 5\n",
      "Please enter 10 integer:6\n",
      "Integer #3: 6\n",
      "Please enter 10 integer:2\n",
      "Integer #4: 2\n",
      "Please enter 10 integer:7\n",
      "Integer #5: 7\n",
      "Please enter 10 integer:8\n",
      "Integer #6: 8\n",
      "Please enter 10 integer:9\n",
      "Integer #7: 9\n",
      "Please enter 10 integer:10\n",
      "Integer #8: 10\n",
      "Please enter 10 integer:33\n",
      "Integer #9: 33\n",
      "Please enter 10 integer:45\n",
      "Integer #10: 45\n",
      "The 10 integers, you have entered: [4, 5, 6, 2, 7, 8, 9, 10, 33, 45]\n",
      "Minimum: 2\n"
     ]
    }
   ],
   "source": [
    "user_inputs =[]\n",
    "n=0\n",
    "while True:\n",
    "    try:\n",
    "        user_input = int(input(\"Please enter 10 integer:\"))\n",
    "        user_inputs.append(user_input)\n",
    "        n += 1\n",
    "        print(f\"Integer #{n}:\", user_input)\n",
    "    except: #making an excepion\n",
    "        print(\"Only integer are allowed. Try again\") \n",
    "    if n==10:\n",
    "        break\n",
    "print(\"The 10 integers, you have entered:\", user_inputs)\n",
    "print(\"Minimum:\",minimum(user_inputs)) #asking for the min"
   ]
  },
  {
   "cell_type": "markdown",
   "metadata": {
    "cell_id": "00013-efd99bf0-346a-44e9-9ef5-11cfc9efe448",
    "deepnote_cell_type": "markdown",
    "tags": []
   },
   "source": [
    "## Step 6: Calculating maximum"
   ]
  },
  {
   "cell_type": "code",
   "execution_count": 29,
   "metadata": {
    "cell_id": "00012-b77bad80-7f70-4404-b055-eb5639102b7c",
    "deepnote_cell_type": "code",
    "deepnote_to_be_reexecuted": false,
    "execution_millis": 8,
    "execution_start": 1612896786437,
    "source_hash": "c8aa896e",
    "tags": []
   },
   "outputs": [],
   "source": [
    "def maximum (c):#defining a maximum function\n",
    "    maximum_num = c[0]\n",
    "    for x in c:\n",
    "        if x > maximum_num:\n",
    "            maximum_num=x\n",
    "    return (maximum_num)"
   ]
  },
  {
   "cell_type": "code",
   "execution_count": 30,
   "metadata": {
    "cell_id": "00017-db70b607-7300-4dc0-82d5-f77c198317d4",
    "deepnote_cell_type": "code",
    "deepnote_to_be_reexecuted": true,
    "execution_millis": 41726,
    "source_hash": "e3d9ab4e",
    "tags": []
   },
   "outputs": [
    {
     "name": "stdout",
     "output_type": "stream",
     "text": [
      "Please enter 10 integer:1\n",
      "Integer #1: 1\n",
      "Please enter 10 integer:3\n",
      "Integer #2: 3\n",
      "Please enter 10 integer:55\n",
      "Integer #3: 55\n",
      "Please enter 10 integer:6\n",
      "Integer #4: 6\n",
      "Please enter 10 integer:7\n",
      "Integer #5: 7\n",
      "Please enter 10 integer:43\n",
      "Integer #6: 43\n",
      "Please enter 10 integer:64\n",
      "Integer #7: 64\n",
      "Please enter 10 integer:7\n",
      "Integer #8: 7\n",
      "Please enter 10 integer:3\n",
      "Integer #9: 3\n",
      "Please enter 10 integer:2\n",
      "Integer #10: 2\n",
      "The 10 integers, you have entered: [1, 3, 55, 6, 7, 43, 64, 7, 3, 2]\n",
      "Maximum: 64\n"
     ]
    }
   ],
   "source": [
    "user_inputs =[]\n",
    "n=0\n",
    "while True:\n",
    "    try:\n",
    "        user_input = int(input(\"Please enter 10 integer:\"))\n",
    "        user_inputs.append(user_input)\n",
    "        n += 1\n",
    "        print(f\"Integer #{n}:\", user_input)\n",
    "    except: #making an excepion\n",
    "        print(\"Only integer are allowed. Try again\") \n",
    "    if n==10:\n",
    "        break\n",
    "print(\"The 10 integers, you have entered:\", user_inputs)\n",
    "print(\"Maximum:\",maximum(user_inputs))#asking for max"
   ]
  },
  {
   "cell_type": "markdown",
   "metadata": {
    "cell_id": "00015-3401159c-99b5-4eeb-a18c-a48ab0941ee5",
    "deepnote_cell_type": "markdown",
    "tags": []
   },
   "source": [
    "## Step 7: Range"
   ]
  },
  {
   "cell_type": "code",
   "execution_count": 31,
   "metadata": {
    "cell_id": "00015-5d01e461-fa63-4420-8297-8621bda805e9",
    "deepnote_cell_type": "code",
    "deepnote_to_be_reexecuted": false,
    "execution_millis": 11,
    "execution_start": 1612896781861,
    "source_hash": "95624cdf",
    "tags": []
   },
   "outputs": [],
   "source": [
    "def Range (a):#defining a minimum function\n",
    "    '''Function return largest number of a list -the lower number of the list'''\n",
    "    return (maximum(a)-minimum(a))"
   ]
  },
  {
   "cell_type": "code",
   "execution_count": 32,
   "metadata": {
    "cell_id": "00020-cd1c3a41-cb1d-4beb-a994-45b8850f5ac8",
    "deepnote_cell_type": "code",
    "deepnote_to_be_reexecuted": false,
    "execution_millis": 27717,
    "execution_start": 1612900715521,
    "source_hash": "4796b33b",
    "tags": []
   },
   "outputs": [
    {
     "name": "stdout",
     "output_type": "stream",
     "text": [
      "Please enter 10 integer:4\n",
      "Integer #1: 4\n",
      "Please enter 10 integer:6\n",
      "Integer #2: 6\n",
      "Please enter 10 integer:66\n",
      "Integer #3: 66\n",
      "Please enter 10 integer:2\n",
      "Integer #4: 2\n",
      "Please enter 10 integer:1\n",
      "Integer #5: 1\n",
      "Please enter 10 integer:7\n",
      "Integer #6: 7\n",
      "Please enter 10 integer:9\n",
      "Integer #7: 9\n",
      "Please enter 10 integer:10\n",
      "Integer #8: 10\n",
      "Please enter 10 integer:33\n",
      "Integer #9: 33\n",
      "Please enter 10 integer:bob\n",
      "Only integer are allowed. Try again\n",
      "Please enter 10 integer:5\n",
      "Integer #10: 5\n",
      "The 10 integers, you have entered: [4, 6, 66, 2, 1, 7, 9, 10, 33, 5]\n",
      "Range: 65\n"
     ]
    }
   ],
   "source": [
    "user_inputs =[]\n",
    "n=0\n",
    "while True:\n",
    "    try:\n",
    "        user_input = int(input(\"Please enter 10 integer:\"))\n",
    "        user_inputs.append(user_input)\n",
    "        n += 1\n",
    "        print(f\"Integer #{n}:\", user_input)\n",
    "    except: #making an excepion\n",
    "        print(\"Only integer are allowed. Try again\") \n",
    "    if n==10:\n",
    "        break\n",
    "print(\"The 10 integers, you have entered:\", user_inputs)\n",
    "print(\"Range:\",Range(user_inputs))#asking for range"
   ]
  },
  {
   "cell_type": "markdown",
   "metadata": {
    "cell_id": "00018-867671c4-497b-4a57-88d9-82a7034a241e",
    "deepnote_cell_type": "markdown",
    "tags": []
   },
   "source": [
    "## Step 8: Mean"
   ]
  },
  {
   "cell_type": "code",
   "execution_count": 33,
   "metadata": {
    "cell_id": "00017-a65a76b8-7280-43e3-a898-81ce59b5d87f",
    "deepnote_cell_type": "code",
    "deepnote_to_be_reexecuted": false,
    "execution_millis": 2,
    "execution_start": 1612908300447,
    "source_hash": "a285ffc",
    "tags": []
   },
   "outputs": [],
   "source": [
    "def Mean(a):\n",
    "    '''Function calculate the the sum of values in the list \n",
    "    and the total numbers of the list return the mean'''\n",
    "    sum_list=sum(a)\n",
    "    len_list=len(a)\n",
    "    mean_num=c=sum_list/len_list\n",
    "    return(mean_num)\n"
   ]
  },
  {
   "cell_type": "code",
   "execution_count": 35,
   "metadata": {
    "cell_id": "00023-a86b0441-ad0e-4e9e-b49a-e1a9dd948c4d",
    "deepnote_cell_type": "code",
    "deepnote_to_be_reexecuted": false,
    "execution_millis": 29548,
    "execution_start": 1612897673578,
    "source_hash": "fd866317",
    "tags": []
   },
   "outputs": [
    {
     "name": "stdout",
     "output_type": "stream",
     "text": [
      "Please enter 10 integer:1\n",
      "Integer #1: 1\n",
      "Please enter 10 integer:2\n",
      "Integer #2: 2\n",
      "Please enter 10 integer:3\n",
      "Integer #3: 3\n",
      "Please enter 10 integer:4\n",
      "Integer #4: 4\n",
      "Please enter 10 integer:5\n",
      "Integer #5: 5\n",
      "Please enter 10 integer:6\n",
      "Integer #6: 6\n",
      "Please enter 10 integer:7\n",
      "Integer #7: 7\n",
      "Please enter 10 integer:8\n",
      "Integer #8: 8\n",
      "Please enter 10 integer:9\n",
      "Integer #9: 9\n",
      "Please enter 10 integer:10\n",
      "Integer #10: 10\n",
      "The 10 integers, you have entered: [1, 2, 3, 4, 5, 6, 7, 8, 9, 10]\n",
      "Mean: 5.5\n"
     ]
    }
   ],
   "source": [
    "user_inputs =[]\n",
    "n=0\n",
    "while True:\n",
    "    try:\n",
    "        user_input = int(input(\"Please enter 10 integer:\"))\n",
    "        user_inputs.append(user_input)\n",
    "        n += 1\n",
    "        print(f\"Integer #{n}:\", user_input)\n",
    "    except: #making an excepion\n",
    "        print(\"Only integer are allowed. Try again\") \n",
    "    if n==10:\n",
    "        break\n",
    "print(\"The 10 integers, you have entered:\", user_inputs)\n",
    "print(\"Mean:\",Mean(user_inputs))#asking for mean"
   ]
  },
  {
   "cell_type": "markdown",
   "metadata": {
    "cell_id": "00020-39ff3f84-1ab6-483b-a042-22f8f3991372",
    "deepnote_cell_type": "markdown",
    "tags": []
   },
   "source": [
    "## Step 9: Variance"
   ]
  },
  {
   "cell_type": "code",
   "execution_count": 36,
   "metadata": {
    "cell_id": "00019-51770dca-e271-4916-9ba9-68843e3c249a",
    "deepnote_cell_type": "code",
    "deepnote_to_be_reexecuted": false,
    "execution_millis": 2,
    "execution_start": 1612910567694,
    "source_hash": "35f27a0d",
    "tags": []
   },
   "outputs": [],
   "source": [
    "def Variance(a):\n",
    "    m=Mean(a)\n",
    "    b=sum((x-m)**2 for x in a)\n",
    "    len_list=len(a)\n",
    "    variance_num=b/len_list\n",
    "    return(variance_num)"
   ]
  },
  {
   "cell_type": "code",
   "execution_count": 37,
   "metadata": {
    "cell_id": "00026-93ba8e7b-3c85-41e9-ac70-90a6f06f13a5",
    "deepnote_cell_type": "code",
    "deepnote_to_be_reexecuted": false,
    "execution_millis": 22993,
    "execution_start": 1612910571211,
    "source_hash": "814fa9ec",
    "tags": []
   },
   "outputs": [
    {
     "name": "stdout",
     "output_type": "stream",
     "text": [
      "Please enter 10 integer:1\n",
      "Integer #1: 1\n",
      "Please enter 10 integer:4\n",
      "Integer #2: 4\n",
      "Please enter 10 integer:4\n",
      "Integer #3: 4\n",
      "Please enter 10 integer:5\n",
      "Integer #4: 5\n",
      "Please enter 10 integer:6\n",
      "Integer #5: 6\n",
      "Please enter 10 integer:7\n",
      "Integer #6: 7\n",
      "Please enter 10 integer:8\n",
      "Integer #7: 8\n",
      "Please enter 10 integer:9\n",
      "Integer #8: 9\n",
      "Please enter 10 integer:10\n",
      "Integer #9: 10\n",
      "Please enter 10 integer:11\n",
      "Integer #10: 11\n",
      "The 10 integers, you have entered: [1, 4, 4, 5, 6, 7, 8, 9, 10, 11]\n",
      "Variance: 8.65\n"
     ]
    }
   ],
   "source": [
    "user_inputs =[]\n",
    "n=0\n",
    "while True:\n",
    "    try:\n",
    "        user_input = int(input(\"Please enter 10 integer:\"))\n",
    "        user_inputs.append(user_input)\n",
    "        n += 1\n",
    "        print(f\"Integer #{n}:\", user_input)\n",
    "    except: #making an excepion\n",
    "        print(\"Only integer are allowed. Try again\") \n",
    "    if n==10:\n",
    "        break\n",
    "print(\"The 10 integers, you have entered:\", user_inputs)\n",
    "print(\"Variance:\",Variance(user_inputs))#calculate the variance"
   ]
  },
  {
   "cell_type": "markdown",
   "metadata": {
    "cell_id": "00028-d1542bb1-d721-4278-8b40-4ab94369ac58",
    "deepnote_cell_type": "markdown",
    "tags": []
   },
   "source": [
    "### Confirming with libraries"
   ]
  },
  {
   "cell_type": "code",
   "execution_count": 38,
   "metadata": {
    "cell_id": "00028-1c872695-50eb-498f-9b99-df5f629098f3",
    "deepnote_cell_type": "code",
    "deepnote_to_be_reexecuted": false,
    "execution_millis": 6,
    "execution_start": 1612910681059,
    "source_hash": "a6f11d5b",
    "tags": []
   },
   "outputs": [
    {
     "name": "stdout",
     "output_type": "stream",
     "text": [
      "8.65\n"
     ]
    }
   ],
   "source": [
    "import statistics\n",
    "test_list=[1, 4, 4, 5, 6, 7, 8, 9, 10, 11]\n",
    "a=statistics.pvariance(test_list)\n",
    "print(a)"
   ]
  },
  {
   "cell_type": "markdown",
   "metadata": {
    "cell_id": "00022-6e2f8b1c-f8db-4295-b749-1f1c49e98426",
    "deepnote_cell_type": "markdown",
    "tags": []
   },
   "source": [
    "## Step 10: Standard deviation"
   ]
  },
  {
   "cell_type": "code",
   "execution_count": 39,
   "metadata": {
    "cell_id": "00028-b942788c-a4a0-452a-a123-633a52c57ef9",
    "deepnote_cell_type": "code",
    "tags": []
   },
   "outputs": [],
   "source": [
    "import math\n",
    "def Standard(a):\n",
    "    variance_list=Variance(a)\n",
    "    standard_num=math.sqrt(variance_list)\n",
    "    return(standard_num)"
   ]
  },
  {
   "cell_type": "code",
   "execution_count": 40,
   "metadata": {},
   "outputs": [
    {
     "name": "stdout",
     "output_type": "stream",
     "text": [
      "Please enter 10 integer:1\n",
      "Integer #1: 1\n",
      "Please enter 10 integer:4\n",
      "Integer #2: 4\n",
      "Please enter 10 integer:4\n",
      "Integer #3: 4\n",
      "Please enter 10 integer:5\n",
      "Integer #4: 5\n",
      "Please enter 10 integer:6\n",
      "Integer #5: 6\n",
      "Please enter 10 integer:7\n",
      "Integer #6: 7\n",
      "Please enter 10 integer:8\n",
      "Integer #7: 8\n",
      "Please enter 10 integer:9\n",
      "Integer #8: 9\n",
      "Please enter 10 integer:10\n",
      "Integer #9: 10\n",
      "Please enter 10 integer:11\n",
      "Integer #10: 11\n",
      "The 10 integers, you have entered: [1, 4, 4, 5, 6, 7, 8, 9, 10, 11]\n",
      "Standard deviation: 2.9410882339705484\n"
     ]
    }
   ],
   "source": [
    "user_inputs =[]\n",
    "n=0\n",
    "while True:\n",
    "    try:\n",
    "        user_input = int(input(\"Please enter 10 integer:\"))\n",
    "        user_inputs.append(user_input)\n",
    "        n += 1 #continue the number if is correct input\n",
    "        print(f\"Integer #{n}:\", user_input)\n",
    "    except: #making an excepion\n",
    "        print(\"Only integer are allowed. Try again\") \n",
    "    if n==10: #break when reach 10\n",
    "        break\n",
    "print(\"The 10 integers, you have entered:\", user_inputs)\n",
    "print(\"Standard deviation:\",Standard(user_inputs))# calculate standard deviation"
   ]
  },
  {
   "cell_type": "markdown",
   "metadata": {
    "cell_id": "00026-2638bd77-8982-416b-9f48-6033a54e21cc",
    "deepnote_cell_type": "markdown",
    "tags": []
   },
   "source": [
    "## Step 11: Running all the code together"
   ]
  },
  {
   "cell_type": "code",
   "execution_count": 41,
   "metadata": {
    "cell_id": "00022-46be6d67-f6db-422a-b1a6-a531d192c411",
    "deepnote_cell_type": "code",
    "deepnote_to_be_reexecuted": true,
    "execution_millis": 5,
    "source_hash": "994f6300",
    "tags": []
   },
   "outputs": [
    {
     "name": "stdout",
     "output_type": "stream",
     "text": [
      "Please enter 10 integer:1\n",
      "Integer #1: 1\n",
      "Please enter 10 integer:4\n",
      "Integer #2: 4\n",
      "Please enter 10 integer:4\n",
      "Integer #3: 4\n",
      "Please enter 10 integer:5\n",
      "Integer #4: 5\n",
      "Please enter 10 integer:6\n",
      "Integer #5: 6\n",
      "Please enter 10 integer:7\n",
      "Integer #6: 7\n",
      "Please enter 10 integer:8\n",
      "Integer #7: 8\n",
      "Please enter 10 integer:9\n",
      "Integer #8: 9\n",
      "Please enter 10 integer:10\n",
      "Integer #9: 10\n",
      "Please enter 10 integer:11\n",
      "Integer #10: 11\n",
      "The 10 integers, you have entered: [1, 4, 4, 5, 6, 7, 8, 9, 10, 11]\n",
      "Minimum: 1\n",
      "Maximum: 11\n",
      "Range: 10\n",
      "Mean: 6.5\n",
      "Variance: 8.65\n",
      "Standard deviation: 2.9410882339705484\n"
     ]
    }
   ],
   "source": [
    "user_inputs =[]\n",
    "n=0\n",
    "while True:\n",
    "    try:\n",
    "        user_input = int(input(\"Please enter 10 integer:\"))\n",
    "        user_inputs.append(user_input)\n",
    "        n += 1\n",
    "        print(f\"Integer #{n}:\", user_input)\n",
    "    except: #making an excepion\n",
    "        print(\"Only integer are allowed. Try again\") \n",
    "    if n==10:\n",
    "        break\n",
    "print(\"The 10 integers, you have entered:\", user_inputs)\n",
    "print(\"Minimum:\",minimum(user_inputs)) #asking for the min\n",
    "print(\"Maximum:\",maximum(user_inputs))#asking for max\n",
    "print(\"Range:\",Range(user_inputs))#asking for range\n",
    "print(\"Mean:\",Mean(user_inputs))#asking for mean\n",
    "print(\"Variance:\",Variance(user_inputs))#calculate the variance\n",
    "print(\"Standard deviation:\",Standard(user_inputs))# calculate standard deviation"
   ]
  },
  {
   "cell_type": "markdown",
   "metadata": {},
   "source": [
    "*I tried to put names in the variables that makes sense but I don't know what to called some of them*"
   ]
  },
  {
   "cell_type": "markdown",
   "metadata": {
    "created_in_deepnote_cell": true,
    "deepnote_cell_type": "markdown",
    "tags": []
   },
   "source": [
    "<a style='text-decoration:none;line-height:16px;display:flex;color:#5B5B62;padding:10px;justify-content:end;' href='https://deepnote.com?utm_source=created-in-deepnote-cell&projectId=5e850d88-26c1-4229-ad7b-bc0cc7c74f9d' target=\"_blank\">\n",
    "<img style='display:inline;max-height:16px;margin:0px;margin-right:7.5px;' src='data:image/svg+xml;base64,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' > </img>\n",
    "Created in <span style='font-weight:600;margin-left:4px;'>Deepnote</span></a>"
   ]
  }
 ],
 "metadata": {
  "deepnote": {},
  "deepnote_execution_queue": [],
  "deepnote_notebook_id": "63f3e5f7-ed9d-44de-848f-9a23575385f2",
  "kernelspec": {
   "display_name": "Python 3",
   "language": "python",
   "name": "python3"
  },
  "language_info": {
   "codemirror_mode": {
    "name": "ipython",
    "version": 3
   },
   "file_extension": ".py",
   "mimetype": "text/x-python",
   "name": "python",
   "nbconvert_exporter": "python",
   "pygments_lexer": "ipython3",
   "version": "3.7.6"
  }
 },
 "nbformat": 4,
 "nbformat_minor": 2
}

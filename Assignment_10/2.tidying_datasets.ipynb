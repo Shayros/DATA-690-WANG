{
  "cells": [
    {
      "cell_type": "markdown",
      "source": "# Assignment 10\n\nName: Shaimar R. González Morales\n\nDate: 5/2/2021",
      "metadata": {
        "tags": [],
        "cell_id": "00000-2788b8df-8573-4fc8-9d6a-75c5628a5078",
        "deepnote_cell_type": "markdown"
      }
    },
    {
      "cell_type": "markdown",
      "source": "",
      "metadata": {
        "tags": [],
        "cell_id": "00001-ecb6bd3e-a926-423f-b328-bf884cad7378",
        "deepnote_cell_type": "markdown"
      }
    },
    {
      "cell_type": "markdown",
      "source": "## 1. Import libraries",
      "metadata": {
        "tags": [],
        "cell_id": "00001-19e662ea-193f-4a09-b185-79dc50f04bf6",
        "deepnote_cell_type": "markdown"
      }
    },
    {
      "cell_type": "code",
      "metadata": {
        "tags": [],
        "cell_id": "00000-cf0614c7-2db7-4d80-bc5b-69aa41e6057c",
        "deepnote_to_be_reexecuted": false,
        "source_hash": "9b82ee11",
        "execution_start": 1620038034075,
        "execution_millis": 43,
        "deepnote_cell_type": "code"
      },
      "source": "import pandas as pd",
      "execution_count": 1,
      "outputs": []
    },
    {
      "cell_type": "code",
      "metadata": {
        "tags": [],
        "cell_id": "00003-99a0875f-8dca-41aa-a5d3-f339acf771eb",
        "deepnote_to_be_reexecuted": false,
        "source_hash": "ff3df36b",
        "execution_start": 1620038034118,
        "execution_millis": 0,
        "deepnote_cell_type": "code"
      },
      "source": "pew=pd.read_csv('/work/pew.csv') # load data",
      "execution_count": 2,
      "outputs": []
    },
    {
      "cell_type": "code",
      "metadata": {
        "tags": [],
        "cell_id": "00004-d452eca7-1ef3-4e13-9a93-8e8ab97fb41f",
        "deepnote_to_be_reexecuted": false,
        "source_hash": "9cd3556a",
        "execution_start": 1620038034119,
        "execution_millis": 26,
        "deepnote_cell_type": "code"
      },
      "source": "pew.head() #top 5",
      "execution_count": 3,
      "outputs": [
        {
          "output_type": "execute_result",
          "execution_count": 3,
          "data": {
            "application/vnd.deepnote.dataframe.v2+json": {
              "row_count": 5,
              "column_count": 11,
              "columns": [
                {
                  "name": "religion",
                  "dtype": "object",
                  "stats": {
                    "unique_count": 5,
                    "nan_count": 0,
                    "categories": [
                      {
                        "name": "Agnostic",
                        "count": 1
                      },
                      {
                        "name": "Atheist",
                        "count": 1
                      },
                      {
                        "name": "3 others",
                        "count": 3
                      }
                    ]
                  }
                },
                {
                  "name": "<$10k",
                  "dtype": "int64",
                  "stats": {
                    "unique_count": 4,
                    "nan_count": 0,
                    "min": "12",
                    "max": "418",
                    "histogram": [
                      {
                        "bin_start": 12,
                        "bin_end": 52.6,
                        "count": 4
                      },
                      {
                        "bin_start": 52.6,
                        "bin_end": 93.2,
                        "count": 0
                      },
                      {
                        "bin_start": 93.2,
                        "bin_end": 133.8,
                        "count": 0
                      },
                      {
                        "bin_start": 133.8,
                        "bin_end": 174.4,
                        "count": 0
                      },
                      {
                        "bin_start": 174.4,
                        "bin_end": 215,
                        "count": 0
                      },
                      {
                        "bin_start": 215,
                        "bin_end": 255.60000000000002,
                        "count": 0
                      },
                      {
                        "bin_start": 255.60000000000002,
                        "bin_end": 296.2,
                        "count": 0
                      },
                      {
                        "bin_start": 296.2,
                        "bin_end": 336.8,
                        "count": 0
                      },
                      {
                        "bin_start": 336.8,
                        "bin_end": 377.40000000000003,
                        "count": 0
                      },
                      {
                        "bin_start": 377.40000000000003,
                        "bin_end": 418,
                        "count": 1
                      }
                    ]
                  }
                },
                {
                  "name": "$10-20k",
                  "dtype": "int64",
                  "stats": {
                    "unique_count": 5,
                    "nan_count": 0,
                    "min": "14",
                    "max": "617",
                    "histogram": [
                      {
                        "bin_start": 14,
                        "bin_end": 74.3,
                        "count": 4
                      },
                      {
                        "bin_start": 74.3,
                        "bin_end": 134.6,
                        "count": 0
                      },
                      {
                        "bin_start": 134.6,
                        "bin_end": 194.89999999999998,
                        "count": 0
                      },
                      {
                        "bin_start": 194.89999999999998,
                        "bin_end": 255.2,
                        "count": 0
                      },
                      {
                        "bin_start": 255.2,
                        "bin_end": 315.5,
                        "count": 0
                      },
                      {
                        "bin_start": 315.5,
                        "bin_end": 375.79999999999995,
                        "count": 0
                      },
                      {
                        "bin_start": 375.79999999999995,
                        "bin_end": 436.09999999999997,
                        "count": 0
                      },
                      {
                        "bin_start": 436.09999999999997,
                        "bin_end": 496.4,
                        "count": 0
                      },
                      {
                        "bin_start": 496.4,
                        "bin_end": 556.6999999999999,
                        "count": 0
                      },
                      {
                        "bin_start": 556.6999999999999,
                        "bin_end": 617,
                        "count": 1
                      }
                    ]
                  }
                },
                {
                  "name": "$20-30k",
                  "dtype": "int64",
                  "stats": {
                    "unique_count": 5,
                    "nan_count": 0,
                    "min": "15",
                    "max": "732",
                    "histogram": [
                      {
                        "bin_start": 15,
                        "bin_end": 86.7,
                        "count": 4
                      },
                      {
                        "bin_start": 86.7,
                        "bin_end": 158.4,
                        "count": 0
                      },
                      {
                        "bin_start": 158.4,
                        "bin_end": 230.10000000000002,
                        "count": 0
                      },
                      {
                        "bin_start": 230.10000000000002,
                        "bin_end": 301.8,
                        "count": 0
                      },
                      {
                        "bin_start": 301.8,
                        "bin_end": 373.5,
                        "count": 0
                      },
                      {
                        "bin_start": 373.5,
                        "bin_end": 445.20000000000005,
                        "count": 0
                      },
                      {
                        "bin_start": 445.20000000000005,
                        "bin_end": 516.9000000000001,
                        "count": 0
                      },
                      {
                        "bin_start": 516.9000000000001,
                        "bin_end": 588.6,
                        "count": 0
                      },
                      {
                        "bin_start": 588.6,
                        "bin_end": 660.3000000000001,
                        "count": 0
                      },
                      {
                        "bin_start": 660.3000000000001,
                        "bin_end": 732,
                        "count": 1
                      }
                    ]
                  }
                },
                {
                  "name": "$30-40k",
                  "dtype": "int64",
                  "stats": {
                    "unique_count": 5,
                    "nan_count": 0,
                    "min": "11",
                    "max": "670",
                    "histogram": [
                      {
                        "bin_start": 11,
                        "bin_end": 76.9,
                        "count": 3
                      },
                      {
                        "bin_start": 76.9,
                        "bin_end": 142.8,
                        "count": 1
                      },
                      {
                        "bin_start": 142.8,
                        "bin_end": 208.70000000000002,
                        "count": 0
                      },
                      {
                        "bin_start": 208.70000000000002,
                        "bin_end": 274.6,
                        "count": 0
                      },
                      {
                        "bin_start": 274.6,
                        "bin_end": 340.5,
                        "count": 0
                      },
                      {
                        "bin_start": 340.5,
                        "bin_end": 406.40000000000003,
                        "count": 0
                      },
                      {
                        "bin_start": 406.40000000000003,
                        "bin_end": 472.30000000000007,
                        "count": 0
                      },
                      {
                        "bin_start": 472.30000000000007,
                        "bin_end": 538.2,
                        "count": 0
                      },
                      {
                        "bin_start": 538.2,
                        "bin_end": 604.1,
                        "count": 0
                      },
                      {
                        "bin_start": 604.1,
                        "bin_end": 670,
                        "count": 1
                      }
                    ]
                  }
                },
                {
                  "name": "$40-50k",
                  "dtype": "int64",
                  "stats": {
                    "unique_count": 5,
                    "nan_count": 0,
                    "min": "10",
                    "max": "638",
                    "histogram": [
                      {
                        "bin_start": 10,
                        "bin_end": 72.8,
                        "count": 3
                      },
                      {
                        "bin_start": 72.8,
                        "bin_end": 135.6,
                        "count": 1
                      },
                      {
                        "bin_start": 135.6,
                        "bin_end": 198.39999999999998,
                        "count": 0
                      },
                      {
                        "bin_start": 198.39999999999998,
                        "bin_end": 261.2,
                        "count": 0
                      },
                      {
                        "bin_start": 261.2,
                        "bin_end": 324,
                        "count": 0
                      },
                      {
                        "bin_start": 324,
                        "bin_end": 386.79999999999995,
                        "count": 0
                      },
                      {
                        "bin_start": 386.79999999999995,
                        "bin_end": 449.59999999999997,
                        "count": 0
                      },
                      {
                        "bin_start": 449.59999999999997,
                        "bin_end": 512.4,
                        "count": 0
                      },
                      {
                        "bin_start": 512.4,
                        "bin_end": 575.1999999999999,
                        "count": 0
                      },
                      {
                        "bin_start": 575.1999999999999,
                        "bin_end": 638,
                        "count": 1
                      }
                    ]
                  }
                },
                {
                  "name": "$50-75k",
                  "dtype": "int64",
                  "stats": {
                    "unique_count": 5,
                    "nan_count": 0,
                    "min": "35",
                    "max": "1116",
                    "histogram": [
                      {
                        "bin_start": 35,
                        "bin_end": 143.1,
                        "count": 4
                      },
                      {
                        "bin_start": 143.1,
                        "bin_end": 251.2,
                        "count": 0
                      },
                      {
                        "bin_start": 251.2,
                        "bin_end": 359.29999999999995,
                        "count": 0
                      },
                      {
                        "bin_start": 359.29999999999995,
                        "bin_end": 467.4,
                        "count": 0
                      },
                      {
                        "bin_start": 467.4,
                        "bin_end": 575.5,
                        "count": 0
                      },
                      {
                        "bin_start": 575.5,
                        "bin_end": 683.5999999999999,
                        "count": 0
                      },
                      {
                        "bin_start": 683.5999999999999,
                        "bin_end": 791.6999999999999,
                        "count": 0
                      },
                      {
                        "bin_start": 791.6999999999999,
                        "bin_end": 899.8,
                        "count": 0
                      },
                      {
                        "bin_start": 899.8,
                        "bin_end": 1007.9,
                        "count": 0
                      },
                      {
                        "bin_start": 1007.9,
                        "bin_end": 1116,
                        "count": 1
                      }
                    ]
                  }
                },
                {
                  "name": "$75-100k",
                  "dtype": "int64",
                  "stats": {
                    "unique_count": 5,
                    "nan_count": 0,
                    "min": "21",
                    "max": "949",
                    "histogram": [
                      {
                        "bin_start": 21,
                        "bin_end": 113.8,
                        "count": 3
                      },
                      {
                        "bin_start": 113.8,
                        "bin_end": 206.6,
                        "count": 1
                      },
                      {
                        "bin_start": 206.6,
                        "bin_end": 299.4,
                        "count": 0
                      },
                      {
                        "bin_start": 299.4,
                        "bin_end": 392.2,
                        "count": 0
                      },
                      {
                        "bin_start": 392.2,
                        "bin_end": 485,
                        "count": 0
                      },
                      {
                        "bin_start": 485,
                        "bin_end": 577.8,
                        "count": 0
                      },
                      {
                        "bin_start": 577.8,
                        "bin_end": 670.6,
                        "count": 0
                      },
                      {
                        "bin_start": 670.6,
                        "bin_end": 763.4,
                        "count": 0
                      },
                      {
                        "bin_start": 763.4,
                        "bin_end": 856.1999999999999,
                        "count": 0
                      },
                      {
                        "bin_start": 856.1999999999999,
                        "bin_end": 949,
                        "count": 1
                      }
                    ]
                  }
                },
                {
                  "name": "$100-150k",
                  "dtype": "int64",
                  "stats": {
                    "unique_count": 5,
                    "nan_count": 0,
                    "min": "17",
                    "max": "792",
                    "histogram": [
                      {
                        "bin_start": 17,
                        "bin_end": 94.5,
                        "count": 3
                      },
                      {
                        "bin_start": 94.5,
                        "bin_end": 172,
                        "count": 1
                      },
                      {
                        "bin_start": 172,
                        "bin_end": 249.5,
                        "count": 0
                      },
                      {
                        "bin_start": 249.5,
                        "bin_end": 327,
                        "count": 0
                      },
                      {
                        "bin_start": 327,
                        "bin_end": 404.5,
                        "count": 0
                      },
                      {
                        "bin_start": 404.5,
                        "bin_end": 482,
                        "count": 0
                      },
                      {
                        "bin_start": 482,
                        "bin_end": 559.5,
                        "count": 0
                      },
                      {
                        "bin_start": 559.5,
                        "bin_end": 637,
                        "count": 0
                      },
                      {
                        "bin_start": 637,
                        "bin_end": 714.5,
                        "count": 0
                      },
                      {
                        "bin_start": 714.5,
                        "bin_end": 792,
                        "count": 1
                      }
                    ]
                  }
                },
                {
                  "name": ">150k",
                  "dtype": "int64",
                  "stats": {
                    "unique_count": 5,
                    "nan_count": 0,
                    "min": "18",
                    "max": "633",
                    "histogram": [
                      {
                        "bin_start": 18,
                        "bin_end": 79.5,
                        "count": 3
                      },
                      {
                        "bin_start": 79.5,
                        "bin_end": 141,
                        "count": 1
                      },
                      {
                        "bin_start": 141,
                        "bin_end": 202.5,
                        "count": 0
                      },
                      {
                        "bin_start": 202.5,
                        "bin_end": 264,
                        "count": 0
                      },
                      {
                        "bin_start": 264,
                        "bin_end": 325.5,
                        "count": 0
                      },
                      {
                        "bin_start": 325.5,
                        "bin_end": 387,
                        "count": 0
                      },
                      {
                        "bin_start": 387,
                        "bin_end": 448.5,
                        "count": 0
                      },
                      {
                        "bin_start": 448.5,
                        "bin_end": 510,
                        "count": 0
                      },
                      {
                        "bin_start": 510,
                        "bin_end": 571.5,
                        "count": 0
                      },
                      {
                        "bin_start": 571.5,
                        "bin_end": 633,
                        "count": 1
                      }
                    ]
                  }
                },
                {
                  "name": "Don't know/refused",
                  "dtype": "int64",
                  "stats": {
                    "unique_count": 5,
                    "nan_count": 0,
                    "min": "54",
                    "max": "1489",
                    "histogram": [
                      {
                        "bin_start": 54,
                        "bin_end": 197.5,
                        "count": 4
                      },
                      {
                        "bin_start": 197.5,
                        "bin_end": 341,
                        "count": 0
                      },
                      {
                        "bin_start": 341,
                        "bin_end": 484.5,
                        "count": 0
                      },
                      {
                        "bin_start": 484.5,
                        "bin_end": 628,
                        "count": 0
                      },
                      {
                        "bin_start": 628,
                        "bin_end": 771.5,
                        "count": 0
                      },
                      {
                        "bin_start": 771.5,
                        "bin_end": 915,
                        "count": 0
                      },
                      {
                        "bin_start": 915,
                        "bin_end": 1058.5,
                        "count": 0
                      },
                      {
                        "bin_start": 1058.5,
                        "bin_end": 1202,
                        "count": 0
                      },
                      {
                        "bin_start": 1202,
                        "bin_end": 1345.5,
                        "count": 0
                      },
                      {
                        "bin_start": 1345.5,
                        "bin_end": 1489,
                        "count": 1
                      }
                    ]
                  }
                },
                {
                  "name": "_deepnote_index_column",
                  "dtype": "int64"
                }
              ],
              "rows_top": [
                {
                  "religion": "Agnostic",
                  "<$10k": 27,
                  "$10-20k": 34,
                  "$20-30k": 60,
                  "$30-40k": 81,
                  "$40-50k": 76,
                  "$50-75k": 137,
                  "$75-100k": 122,
                  "$100-150k": 109,
                  ">150k": 84,
                  "Don't know/refused": 96,
                  "_deepnote_index_column": 0
                },
                {
                  "religion": "Atheist",
                  "<$10k": 12,
                  "$10-20k": 27,
                  "$20-30k": 37,
                  "$30-40k": 52,
                  "$40-50k": 35,
                  "$50-75k": 70,
                  "$75-100k": 73,
                  "$100-150k": 59,
                  ">150k": 74,
                  "Don't know/refused": 76,
                  "_deepnote_index_column": 1
                },
                {
                  "religion": "Buddhist",
                  "<$10k": 27,
                  "$10-20k": 21,
                  "$20-30k": 30,
                  "$30-40k": 34,
                  "$40-50k": 33,
                  "$50-75k": 58,
                  "$75-100k": 62,
                  "$100-150k": 39,
                  ">150k": 53,
                  "Don't know/refused": 54,
                  "_deepnote_index_column": 2
                },
                {
                  "religion": "Catholic",
                  "<$10k": 418,
                  "$10-20k": 617,
                  "$20-30k": 732,
                  "$30-40k": 670,
                  "$40-50k": 638,
                  "$50-75k": 1116,
                  "$75-100k": 949,
                  "$100-150k": 792,
                  ">150k": 633,
                  "Don't know/refused": 1489,
                  "_deepnote_index_column": 3
                },
                {
                  "religion": "Don’t know/refused",
                  "<$10k": 15,
                  "$10-20k": 14,
                  "$20-30k": 15,
                  "$30-40k": 11,
                  "$40-50k": 10,
                  "$50-75k": 35,
                  "$75-100k": 21,
                  "$100-150k": 17,
                  ">150k": 18,
                  "Don't know/refused": 116,
                  "_deepnote_index_column": 4
                }
              ],
              "rows_bottom": null
            },
            "text/plain": "             religion  <$10k  $10-20k  $20-30k  $30-40k  $40-50k  $50-75k  \\\n0            Agnostic     27       34       60       81       76      137   \n1             Atheist     12       27       37       52       35       70   \n2            Buddhist     27       21       30       34       33       58   \n3            Catholic    418      617      732      670      638     1116   \n4  Don’t know/refused     15       14       15       11       10       35   \n\n   $75-100k  $100-150k  >150k  Don't know/refused  \n0       122        109     84                  96  \n1        73         59     74                  76  \n2        62         39     53                  54  \n3       949        792    633                1489  \n4        21         17     18                 116  ",
            "text/html": "<div>\n<style scoped>\n    .dataframe tbody tr th:only-of-type {\n        vertical-align: middle;\n    }\n\n    .dataframe tbody tr th {\n        vertical-align: top;\n    }\n\n    .dataframe thead th {\n        text-align: right;\n    }\n</style>\n<table border=\"1\" class=\"dataframe\">\n  <thead>\n    <tr style=\"text-align: right;\">\n      <th></th>\n      <th>religion</th>\n      <th>&lt;$10k</th>\n      <th>$10-20k</th>\n      <th>$20-30k</th>\n      <th>$30-40k</th>\n      <th>$40-50k</th>\n      <th>$50-75k</th>\n      <th>$75-100k</th>\n      <th>$100-150k</th>\n      <th>&gt;150k</th>\n      <th>Don't know/refused</th>\n    </tr>\n  </thead>\n  <tbody>\n    <tr>\n      <th>0</th>\n      <td>Agnostic</td>\n      <td>27</td>\n      <td>34</td>\n      <td>60</td>\n      <td>81</td>\n      <td>76</td>\n      <td>137</td>\n      <td>122</td>\n      <td>109</td>\n      <td>84</td>\n      <td>96</td>\n    </tr>\n    <tr>\n      <th>1</th>\n      <td>Atheist</td>\n      <td>12</td>\n      <td>27</td>\n      <td>37</td>\n      <td>52</td>\n      <td>35</td>\n      <td>70</td>\n      <td>73</td>\n      <td>59</td>\n      <td>74</td>\n      <td>76</td>\n    </tr>\n    <tr>\n      <th>2</th>\n      <td>Buddhist</td>\n      <td>27</td>\n      <td>21</td>\n      <td>30</td>\n      <td>34</td>\n      <td>33</td>\n      <td>58</td>\n      <td>62</td>\n      <td>39</td>\n      <td>53</td>\n      <td>54</td>\n    </tr>\n    <tr>\n      <th>3</th>\n      <td>Catholic</td>\n      <td>418</td>\n      <td>617</td>\n      <td>732</td>\n      <td>670</td>\n      <td>638</td>\n      <td>1116</td>\n      <td>949</td>\n      <td>792</td>\n      <td>633</td>\n      <td>1489</td>\n    </tr>\n    <tr>\n      <th>4</th>\n      <td>Don’t know/refused</td>\n      <td>15</td>\n      <td>14</td>\n      <td>15</td>\n      <td>11</td>\n      <td>10</td>\n      <td>35</td>\n      <td>21</td>\n      <td>17</td>\n      <td>18</td>\n      <td>116</td>\n    </tr>\n  </tbody>\n</table>\n</div>"
          },
          "metadata": {}
        }
      ]
    },
    {
      "cell_type": "markdown",
      "source": "## 2. Create a column with the income and another for counts",
      "metadata": {
        "tags": [],
        "cell_id": "00005-2ba7f8cf-23ea-48bf-9f2f-aab37ef980eb",
        "deepnote_cell_type": "markdown"
      }
    },
    {
      "cell_type": "code",
      "metadata": {
        "tags": [],
        "cell_id": "00006-1aa40e9a-19f8-4a18-bd4a-2c5c11dee519",
        "deepnote_to_be_reexecuted": false,
        "source_hash": "5044f0e8",
        "execution_start": 1620038034147,
        "execution_millis": 3,
        "deepnote_cell_type": "code"
      },
      "source": "#turn column to one column from wide to long data\npew_long=pd.melt(pew,id_vars='religion') #id_vars= what we don't want to change",
      "execution_count": 4,
      "outputs": []
    },
    {
      "cell_type": "code",
      "metadata": {
        "tags": [],
        "cell_id": "00007-a2b9399d-5df7-4a50-9fe2-72eda5b1276f",
        "deepnote_to_be_reexecuted": false,
        "source_hash": "9497170b",
        "execution_start": 1620038034202,
        "execution_millis": 5,
        "deepnote_cell_type": "code"
      },
      "source": "pew_long.head() #top 5",
      "execution_count": 5,
      "outputs": [
        {
          "output_type": "execute_result",
          "execution_count": 5,
          "data": {
            "application/vnd.deepnote.dataframe.v2+json": {
              "row_count": 5,
              "column_count": 3,
              "columns": [
                {
                  "name": "religion",
                  "dtype": "object",
                  "stats": {
                    "unique_count": 5,
                    "nan_count": 0,
                    "categories": [
                      {
                        "name": "Agnostic",
                        "count": 1
                      },
                      {
                        "name": "Atheist",
                        "count": 1
                      },
                      {
                        "name": "3 others",
                        "count": 3
                      }
                    ]
                  }
                },
                {
                  "name": "variable",
                  "dtype": "object",
                  "stats": {
                    "unique_count": 1,
                    "nan_count": 0,
                    "categories": [
                      {
                        "name": "<$10k",
                        "count": 5
                      }
                    ]
                  }
                },
                {
                  "name": "value",
                  "dtype": "int64",
                  "stats": {
                    "unique_count": 4,
                    "nan_count": 0,
                    "min": "12",
                    "max": "418",
                    "histogram": [
                      {
                        "bin_start": 12,
                        "bin_end": 52.6,
                        "count": 4
                      },
                      {
                        "bin_start": 52.6,
                        "bin_end": 93.2,
                        "count": 0
                      },
                      {
                        "bin_start": 93.2,
                        "bin_end": 133.8,
                        "count": 0
                      },
                      {
                        "bin_start": 133.8,
                        "bin_end": 174.4,
                        "count": 0
                      },
                      {
                        "bin_start": 174.4,
                        "bin_end": 215,
                        "count": 0
                      },
                      {
                        "bin_start": 215,
                        "bin_end": 255.60000000000002,
                        "count": 0
                      },
                      {
                        "bin_start": 255.60000000000002,
                        "bin_end": 296.2,
                        "count": 0
                      },
                      {
                        "bin_start": 296.2,
                        "bin_end": 336.8,
                        "count": 0
                      },
                      {
                        "bin_start": 336.8,
                        "bin_end": 377.40000000000003,
                        "count": 0
                      },
                      {
                        "bin_start": 377.40000000000003,
                        "bin_end": 418,
                        "count": 1
                      }
                    ]
                  }
                },
                {
                  "name": "_deepnote_index_column",
                  "dtype": "int64"
                }
              ],
              "rows_top": [
                {
                  "religion": "Agnostic",
                  "variable": "<$10k",
                  "value": 27,
                  "_deepnote_index_column": 0
                },
                {
                  "religion": "Atheist",
                  "variable": "<$10k",
                  "value": 12,
                  "_deepnote_index_column": 1
                },
                {
                  "religion": "Buddhist",
                  "variable": "<$10k",
                  "value": 27,
                  "_deepnote_index_column": 2
                },
                {
                  "religion": "Catholic",
                  "variable": "<$10k",
                  "value": 418,
                  "_deepnote_index_column": 3
                },
                {
                  "religion": "Don’t know/refused",
                  "variable": "<$10k",
                  "value": 15,
                  "_deepnote_index_column": 4
                }
              ],
              "rows_bottom": null
            },
            "text/plain": "             religion variable  value\n0            Agnostic    <$10k     27\n1             Atheist    <$10k     12\n2            Buddhist    <$10k     27\n3            Catholic    <$10k    418\n4  Don’t know/refused    <$10k     15",
            "text/html": "<div>\n<style scoped>\n    .dataframe tbody tr th:only-of-type {\n        vertical-align: middle;\n    }\n\n    .dataframe tbody tr th {\n        vertical-align: top;\n    }\n\n    .dataframe thead th {\n        text-align: right;\n    }\n</style>\n<table border=\"1\" class=\"dataframe\">\n  <thead>\n    <tr style=\"text-align: right;\">\n      <th></th>\n      <th>religion</th>\n      <th>variable</th>\n      <th>value</th>\n    </tr>\n  </thead>\n  <tbody>\n    <tr>\n      <th>0</th>\n      <td>Agnostic</td>\n      <td>&lt;$10k</td>\n      <td>27</td>\n    </tr>\n    <tr>\n      <th>1</th>\n      <td>Atheist</td>\n      <td>&lt;$10k</td>\n      <td>12</td>\n    </tr>\n    <tr>\n      <th>2</th>\n      <td>Buddhist</td>\n      <td>&lt;$10k</td>\n      <td>27</td>\n    </tr>\n    <tr>\n      <th>3</th>\n      <td>Catholic</td>\n      <td>&lt;$10k</td>\n      <td>418</td>\n    </tr>\n    <tr>\n      <th>4</th>\n      <td>Don’t know/refused</td>\n      <td>&lt;$10k</td>\n      <td>15</td>\n    </tr>\n  </tbody>\n</table>\n</div>"
          },
          "metadata": {}
        }
      ]
    },
    {
      "cell_type": "markdown",
      "source": "Everything that is not spcified in the id_vars are trow into variable and value",
      "metadata": {
        "tags": [],
        "cell_id": "00008-5db99777-e567-41e5-a7fb-aed6cd93629e",
        "deepnote_cell_type": "markdown"
      }
    },
    {
      "cell_type": "code",
      "metadata": {
        "tags": [],
        "cell_id": "00009-a3ccbe04-baf2-4cd1-94b2-bcf65ef99088",
        "deepnote_to_be_reexecuted": false,
        "source_hash": "9ca16a98",
        "execution_start": 1620038034203,
        "execution_millis": 0,
        "deepnote_cell_type": "code"
      },
      "source": "pew_long=pd.melt(pew,id_vars='religion', var_name=\"income\",\nvalue_name=\"count\") # specify the name of the column",
      "execution_count": 6,
      "outputs": []
    },
    {
      "cell_type": "code",
      "metadata": {
        "tags": [],
        "cell_id": "00010-b4e8fcd8-f6b3-4731-b9c8-7e2c7bff298a",
        "deepnote_to_be_reexecuted": false,
        "source_hash": "9092df3e",
        "execution_start": 1620038034205,
        "execution_millis": 36,
        "deepnote_cell_type": "code"
      },
      "source": "pew_long.head() # top 5",
      "execution_count": 7,
      "outputs": [
        {
          "output_type": "execute_result",
          "execution_count": 7,
          "data": {
            "application/vnd.deepnote.dataframe.v2+json": {
              "row_count": 5,
              "column_count": 3,
              "columns": [
                {
                  "name": "religion",
                  "dtype": "object",
                  "stats": {
                    "unique_count": 5,
                    "nan_count": 0,
                    "categories": [
                      {
                        "name": "Agnostic",
                        "count": 1
                      },
                      {
                        "name": "Atheist",
                        "count": 1
                      },
                      {
                        "name": "3 others",
                        "count": 3
                      }
                    ]
                  }
                },
                {
                  "name": "income",
                  "dtype": "object",
                  "stats": {
                    "unique_count": 1,
                    "nan_count": 0,
                    "categories": [
                      {
                        "name": "<$10k",
                        "count": 5
                      }
                    ]
                  }
                },
                {
                  "name": "count",
                  "dtype": "int64",
                  "stats": {
                    "unique_count": 4,
                    "nan_count": 0,
                    "min": "12",
                    "max": "418",
                    "histogram": [
                      {
                        "bin_start": 12,
                        "bin_end": 52.6,
                        "count": 4
                      },
                      {
                        "bin_start": 52.6,
                        "bin_end": 93.2,
                        "count": 0
                      },
                      {
                        "bin_start": 93.2,
                        "bin_end": 133.8,
                        "count": 0
                      },
                      {
                        "bin_start": 133.8,
                        "bin_end": 174.4,
                        "count": 0
                      },
                      {
                        "bin_start": 174.4,
                        "bin_end": 215,
                        "count": 0
                      },
                      {
                        "bin_start": 215,
                        "bin_end": 255.60000000000002,
                        "count": 0
                      },
                      {
                        "bin_start": 255.60000000000002,
                        "bin_end": 296.2,
                        "count": 0
                      },
                      {
                        "bin_start": 296.2,
                        "bin_end": 336.8,
                        "count": 0
                      },
                      {
                        "bin_start": 336.8,
                        "bin_end": 377.40000000000003,
                        "count": 0
                      },
                      {
                        "bin_start": 377.40000000000003,
                        "bin_end": 418,
                        "count": 1
                      }
                    ]
                  }
                },
                {
                  "name": "_deepnote_index_column",
                  "dtype": "int64"
                }
              ],
              "rows_top": [
                {
                  "religion": "Agnostic",
                  "income": "<$10k",
                  "count": 27,
                  "_deepnote_index_column": 0
                },
                {
                  "religion": "Atheist",
                  "income": "<$10k",
                  "count": 12,
                  "_deepnote_index_column": 1
                },
                {
                  "religion": "Buddhist",
                  "income": "<$10k",
                  "count": 27,
                  "_deepnote_index_column": 2
                },
                {
                  "religion": "Catholic",
                  "income": "<$10k",
                  "count": 418,
                  "_deepnote_index_column": 3
                },
                {
                  "religion": "Don’t know/refused",
                  "income": "<$10k",
                  "count": 15,
                  "_deepnote_index_column": 4
                }
              ],
              "rows_bottom": null
            },
            "text/plain": "             religion income  count\n0            Agnostic  <$10k     27\n1             Atheist  <$10k     12\n2            Buddhist  <$10k     27\n3            Catholic  <$10k    418\n4  Don’t know/refused  <$10k     15",
            "text/html": "<div>\n<style scoped>\n    .dataframe tbody tr th:only-of-type {\n        vertical-align: middle;\n    }\n\n    .dataframe tbody tr th {\n        vertical-align: top;\n    }\n\n    .dataframe thead th {\n        text-align: right;\n    }\n</style>\n<table border=\"1\" class=\"dataframe\">\n  <thead>\n    <tr style=\"text-align: right;\">\n      <th></th>\n      <th>religion</th>\n      <th>income</th>\n      <th>count</th>\n    </tr>\n  </thead>\n  <tbody>\n    <tr>\n      <th>0</th>\n      <td>Agnostic</td>\n      <td>&lt;$10k</td>\n      <td>27</td>\n    </tr>\n    <tr>\n      <th>1</th>\n      <td>Atheist</td>\n      <td>&lt;$10k</td>\n      <td>12</td>\n    </tr>\n    <tr>\n      <th>2</th>\n      <td>Buddhist</td>\n      <td>&lt;$10k</td>\n      <td>27</td>\n    </tr>\n    <tr>\n      <th>3</th>\n      <td>Catholic</td>\n      <td>&lt;$10k</td>\n      <td>418</td>\n    </tr>\n    <tr>\n      <th>4</th>\n      <td>Don’t know/refused</td>\n      <td>&lt;$10k</td>\n      <td>15</td>\n    </tr>\n  </tbody>\n</table>\n</div>"
          },
          "metadata": {}
        }
      ]
    },
    {
      "cell_type": "markdown",
      "source": "## 3. Dealing with more columns",
      "metadata": {
        "tags": [],
        "cell_id": "00008-2aa17148-a9c2-4d78-b210-6365375c454c",
        "deepnote_cell_type": "markdown"
      }
    },
    {
      "cell_type": "code",
      "metadata": {
        "tags": [],
        "cell_id": "00012-7f373719-e923-48e4-b3dc-20f85774ee45",
        "deepnote_to_be_reexecuted": false,
        "source_hash": "7dac750b",
        "execution_start": 1620038034281,
        "execution_millis": 1,
        "deepnote_cell_type": "code"
      },
      "source": "billboard=pd.read_csv('/work/billboard.csv') #load data",
      "execution_count": 8,
      "outputs": []
    },
    {
      "cell_type": "code",
      "metadata": {
        "tags": [],
        "cell_id": "00013-cb1b3900-369a-4390-85ed-b0e2e5e325c3",
        "deepnote_to_be_reexecuted": false,
        "source_hash": "c6b9f973",
        "execution_start": 1620038034326,
        "execution_millis": 188,
        "deepnote_cell_type": "code"
      },
      "source": "billboard.head() # top5",
      "execution_count": 9,
      "outputs": [
        {
          "output_type": "execute_result",
          "execution_count": 9,
          "data": {
            "application/vnd.deepnote.dataframe.v2+json": {
              "row_count": 5,
              "column_count": 81,
              "columns": [
                {
                  "name": "year",
                  "dtype": "int64",
                  "stats": {
                    "unique_count": 1,
                    "nan_count": 0,
                    "min": "2000",
                    "max": "2000",
                    "histogram": [
                      {
                        "bin_start": 1999.5,
                        "bin_end": 1999.6,
                        "count": 0
                      },
                      {
                        "bin_start": 1999.6,
                        "bin_end": 1999.7,
                        "count": 0
                      },
                      {
                        "bin_start": 1999.7,
                        "bin_end": 1999.8,
                        "count": 0
                      },
                      {
                        "bin_start": 1999.8,
                        "bin_end": 1999.9,
                        "count": 0
                      },
                      {
                        "bin_start": 1999.9,
                        "bin_end": 2000,
                        "count": 0
                      },
                      {
                        "bin_start": 2000,
                        "bin_end": 2000.1,
                        "count": 5
                      },
                      {
                        "bin_start": 2000.1,
                        "bin_end": 2000.2,
                        "count": 0
                      },
                      {
                        "bin_start": 2000.2,
                        "bin_end": 2000.3,
                        "count": 0
                      },
                      {
                        "bin_start": 2000.3,
                        "bin_end": 2000.4,
                        "count": 0
                      },
                      {
                        "bin_start": 2000.4,
                        "bin_end": 2000.5,
                        "count": 0
                      }
                    ]
                  }
                },
                {
                  "name": "artist",
                  "dtype": "object",
                  "stats": {
                    "unique_count": 4,
                    "nan_count": 0,
                    "categories": [
                      {
                        "name": "3 Doors Down",
                        "count": 2
                      },
                      {
                        "name": "2 Pac",
                        "count": 1
                      },
                      {
                        "name": "2 others",
                        "count": 2
                      }
                    ]
                  }
                },
                {
                  "name": "track",
                  "dtype": "object",
                  "stats": {
                    "unique_count": 5,
                    "nan_count": 0,
                    "categories": [
                      {
                        "name": "Baby Don't Cry (Keep...",
                        "count": 1
                      },
                      {
                        "name": "The Hardest Part Of ...",
                        "count": 1
                      },
                      {
                        "name": "3 others",
                        "count": 3
                      }
                    ]
                  }
                },
                {
                  "name": "time",
                  "dtype": "object",
                  "stats": {
                    "unique_count": 5,
                    "nan_count": 0,
                    "categories": [
                      {
                        "name": "4:22",
                        "count": 1
                      },
                      {
                        "name": "3:15",
                        "count": 1
                      },
                      {
                        "name": "3 others",
                        "count": 3
                      }
                    ]
                  }
                },
                {
                  "name": "date.entered",
                  "dtype": "object",
                  "stats": {
                    "unique_count": 5,
                    "nan_count": 0,
                    "categories": [
                      {
                        "name": "2000-02-26",
                        "count": 1
                      },
                      {
                        "name": "2000-09-02",
                        "count": 1
                      },
                      {
                        "name": "3 others",
                        "count": 3
                      }
                    ]
                  }
                },
                {
                  "name": "wk1",
                  "dtype": "int64",
                  "stats": {
                    "unique_count": 5,
                    "nan_count": 0,
                    "min": "57",
                    "max": "91",
                    "histogram": [
                      {
                        "bin_start": 57,
                        "bin_end": 60.4,
                        "count": 1
                      },
                      {
                        "bin_start": 60.4,
                        "bin_end": 63.8,
                        "count": 0
                      },
                      {
                        "bin_start": 63.8,
                        "bin_end": 67.2,
                        "count": 0
                      },
                      {
                        "bin_start": 67.2,
                        "bin_end": 70.6,
                        "count": 0
                      },
                      {
                        "bin_start": 70.6,
                        "bin_end": 74,
                        "count": 0
                      },
                      {
                        "bin_start": 74,
                        "bin_end": 77.4,
                        "count": 1
                      },
                      {
                        "bin_start": 77.4,
                        "bin_end": 80.8,
                        "count": 0
                      },
                      {
                        "bin_start": 80.8,
                        "bin_end": 84.2,
                        "count": 1
                      },
                      {
                        "bin_start": 84.2,
                        "bin_end": 87.6,
                        "count": 1
                      },
                      {
                        "bin_start": 87.6,
                        "bin_end": 91,
                        "count": 1
                      }
                    ]
                  }
                },
                {
                  "name": "wk2",
                  "dtype": "float64",
                  "stats": {
                    "unique_count": 5,
                    "nan_count": 0,
                    "min": "34.0",
                    "max": "87.0",
                    "histogram": [
                      {
                        "bin_start": 34,
                        "bin_end": 39.3,
                        "count": 1
                      },
                      {
                        "bin_start": 39.3,
                        "bin_end": 44.6,
                        "count": 0
                      },
                      {
                        "bin_start": 44.6,
                        "bin_end": 49.9,
                        "count": 0
                      },
                      {
                        "bin_start": 49.9,
                        "bin_end": 55.2,
                        "count": 0
                      },
                      {
                        "bin_start": 55.2,
                        "bin_end": 60.5,
                        "count": 0
                      },
                      {
                        "bin_start": 60.5,
                        "bin_end": 65.8,
                        "count": 0
                      },
                      {
                        "bin_start": 65.8,
                        "bin_end": 71.1,
                        "count": 1
                      },
                      {
                        "bin_start": 71.1,
                        "bin_end": 76.4,
                        "count": 1
                      },
                      {
                        "bin_start": 76.4,
                        "bin_end": 81.69999999999999,
                        "count": 0
                      },
                      {
                        "bin_start": 81.69999999999999,
                        "bin_end": 87,
                        "count": 2
                      }
                    ]
                  }
                },
                {
                  "name": "wk3",
                  "dtype": "float64",
                  "stats": {
                    "unique_count": 4,
                    "nan_count": 0,
                    "min": "25.0",
                    "max": "92.0",
                    "histogram": [
                      {
                        "bin_start": 25,
                        "bin_end": 31.7,
                        "count": 1
                      },
                      {
                        "bin_start": 31.7,
                        "bin_end": 38.4,
                        "count": 0
                      },
                      {
                        "bin_start": 38.4,
                        "bin_end": 45.1,
                        "count": 0
                      },
                      {
                        "bin_start": 45.1,
                        "bin_end": 51.8,
                        "count": 0
                      },
                      {
                        "bin_start": 51.8,
                        "bin_end": 58.5,
                        "count": 0
                      },
                      {
                        "bin_start": 58.5,
                        "bin_end": 65.2,
                        "count": 0
                      },
                      {
                        "bin_start": 65.2,
                        "bin_end": 71.9,
                        "count": 1
                      },
                      {
                        "bin_start": 71.9,
                        "bin_end": 78.6,
                        "count": 2
                      },
                      {
                        "bin_start": 78.6,
                        "bin_end": 85.30000000000001,
                        "count": 0
                      },
                      {
                        "bin_start": 85.30000000000001,
                        "bin_end": 92,
                        "count": 1
                      }
                    ]
                  }
                },
                {
                  "name": "wk4",
                  "dtype": "float64",
                  "stats": {
                    "unique_count": 4,
                    "nan_count": 1,
                    "min": "17.0",
                    "max": "77.0",
                    "histogram": [
                      {
                        "bin_start": 17,
                        "bin_end": 23,
                        "count": 1
                      },
                      {
                        "bin_start": 23,
                        "bin_end": 29,
                        "count": 0
                      },
                      {
                        "bin_start": 29,
                        "bin_end": 35,
                        "count": 0
                      },
                      {
                        "bin_start": 35,
                        "bin_end": 41,
                        "count": 0
                      },
                      {
                        "bin_start": 41,
                        "bin_end": 47,
                        "count": 0
                      },
                      {
                        "bin_start": 47,
                        "bin_end": 53,
                        "count": 0
                      },
                      {
                        "bin_start": 53,
                        "bin_end": 59,
                        "count": 0
                      },
                      {
                        "bin_start": 59,
                        "bin_end": 65,
                        "count": 0
                      },
                      {
                        "bin_start": 65,
                        "bin_end": 71,
                        "count": 2
                      },
                      {
                        "bin_start": 71,
                        "bin_end": 77,
                        "count": 1
                      }
                    ]
                  }
                },
                {
                  "name": "wk5",
                  "dtype": "float64",
                  "stats": {
                    "unique_count": 4,
                    "nan_count": 1,
                    "min": "17.0",
                    "max": "87.0",
                    "histogram": [
                      {
                        "bin_start": 17,
                        "bin_end": 24,
                        "count": 1
                      },
                      {
                        "bin_start": 24,
                        "bin_end": 31,
                        "count": 0
                      },
                      {
                        "bin_start": 31,
                        "bin_end": 38,
                        "count": 0
                      },
                      {
                        "bin_start": 38,
                        "bin_end": 45,
                        "count": 0
                      },
                      {
                        "bin_start": 45,
                        "bin_end": 52,
                        "count": 0
                      },
                      {
                        "bin_start": 52,
                        "bin_end": 59,
                        "count": 0
                      },
                      {
                        "bin_start": 59,
                        "bin_end": 66,
                        "count": 0
                      },
                      {
                        "bin_start": 66,
                        "bin_end": 73,
                        "count": 2
                      },
                      {
                        "bin_start": 73,
                        "bin_end": 80,
                        "count": 0
                      },
                      {
                        "bin_start": 80,
                        "bin_end": 87,
                        "count": 1
                      }
                    ]
                  }
                },
                {
                  "name": "wk6",
                  "dtype": "float64",
                  "stats": {
                    "unique_count": 4,
                    "nan_count": 1,
                    "min": "31.0",
                    "max": "94.0",
                    "histogram": [
                      {
                        "bin_start": 31,
                        "bin_end": 37.3,
                        "count": 1
                      },
                      {
                        "bin_start": 37.3,
                        "bin_end": 43.6,
                        "count": 0
                      },
                      {
                        "bin_start": 43.6,
                        "bin_end": 49.9,
                        "count": 0
                      },
                      {
                        "bin_start": 49.9,
                        "bin_end": 56.2,
                        "count": 0
                      },
                      {
                        "bin_start": 56.2,
                        "bin_end": 62.5,
                        "count": 1
                      },
                      {
                        "bin_start": 62.5,
                        "bin_end": 68.8,
                        "count": 1
                      },
                      {
                        "bin_start": 68.8,
                        "bin_end": 75.1,
                        "count": 0
                      },
                      {
                        "bin_start": 75.1,
                        "bin_end": 81.4,
                        "count": 0
                      },
                      {
                        "bin_start": 81.4,
                        "bin_end": 87.69999999999999,
                        "count": 0
                      },
                      {
                        "bin_start": 87.69999999999999,
                        "bin_end": 94,
                        "count": 1
                      }
                    ]
                  }
                },
                {
                  "name": "wk7",
                  "dtype": "float64",
                  "stats": {
                    "unique_count": 4,
                    "nan_count": 1,
                    "min": "36.0",
                    "max": "99.0",
                    "histogram": [
                      {
                        "bin_start": 36,
                        "bin_end": 42.3,
                        "count": 1
                      },
                      {
                        "bin_start": 42.3,
                        "bin_end": 48.6,
                        "count": 0
                      },
                      {
                        "bin_start": 48.6,
                        "bin_end": 54.9,
                        "count": 1
                      },
                      {
                        "bin_start": 54.9,
                        "bin_end": 61.2,
                        "count": 1
                      },
                      {
                        "bin_start": 61.2,
                        "bin_end": 67.5,
                        "count": 0
                      },
                      {
                        "bin_start": 67.5,
                        "bin_end": 73.8,
                        "count": 0
                      },
                      {
                        "bin_start": 73.8,
                        "bin_end": 80.1,
                        "count": 0
                      },
                      {
                        "bin_start": 80.1,
                        "bin_end": 86.4,
                        "count": 0
                      },
                      {
                        "bin_start": 86.4,
                        "bin_end": 92.69999999999999,
                        "count": 0
                      },
                      {
                        "bin_start": 92.69999999999999,
                        "bin_end": 99,
                        "count": 1
                      }
                    ]
                  }
                },
                {
                  "name": "wk8",
                  "dtype": "float64",
                  "stats": {
                    "unique_count": 3,
                    "nan_count": 2,
                    "min": "49.0",
                    "max": "59.0",
                    "histogram": [
                      {
                        "bin_start": 49,
                        "bin_end": 50,
                        "count": 1
                      },
                      {
                        "bin_start": 50,
                        "bin_end": 51,
                        "count": 0
                      },
                      {
                        "bin_start": 51,
                        "bin_end": 52,
                        "count": 0
                      },
                      {
                        "bin_start": 52,
                        "bin_end": 53,
                        "count": 0
                      },
                      {
                        "bin_start": 53,
                        "bin_end": 54,
                        "count": 1
                      },
                      {
                        "bin_start": 54,
                        "bin_end": 55,
                        "count": 0
                      },
                      {
                        "bin_start": 55,
                        "bin_end": 56,
                        "count": 0
                      },
                      {
                        "bin_start": 56,
                        "bin_end": 57,
                        "count": 0
                      },
                      {
                        "bin_start": 57,
                        "bin_end": 58,
                        "count": 0
                      },
                      {
                        "bin_start": 58,
                        "bin_end": 59,
                        "count": 1
                      }
                    ]
                  }
                },
                {
                  "name": "wk9",
                  "dtype": "float64",
                  "stats": {
                    "unique_count": 3,
                    "nan_count": 2,
                    "min": "51.0",
                    "max": "62.0",
                    "histogram": [
                      {
                        "bin_start": 51,
                        "bin_end": 52.1,
                        "count": 1
                      },
                      {
                        "bin_start": 52.1,
                        "bin_end": 53.2,
                        "count": 1
                      },
                      {
                        "bin_start": 53.2,
                        "bin_end": 54.3,
                        "count": 0
                      },
                      {
                        "bin_start": 54.3,
                        "bin_end": 55.4,
                        "count": 0
                      },
                      {
                        "bin_start": 55.4,
                        "bin_end": 56.5,
                        "count": 0
                      },
                      {
                        "bin_start": 56.5,
                        "bin_end": 57.6,
                        "count": 0
                      },
                      {
                        "bin_start": 57.6,
                        "bin_end": 58.7,
                        "count": 0
                      },
                      {
                        "bin_start": 58.7,
                        "bin_end": 59.8,
                        "count": 0
                      },
                      {
                        "bin_start": 59.8,
                        "bin_end": 60.9,
                        "count": 0
                      },
                      {
                        "bin_start": 60.9,
                        "bin_end": 62,
                        "count": 1
                      }
                    ]
                  }
                },
                {
                  "name": "wk10",
                  "dtype": "float64",
                  "stats": {
                    "unique_count": 3,
                    "nan_count": 2,
                    "min": "51.0",
                    "max": "61.0",
                    "histogram": [
                      {
                        "bin_start": 51,
                        "bin_end": 52,
                        "count": 1
                      },
                      {
                        "bin_start": 52,
                        "bin_end": 53,
                        "count": 0
                      },
                      {
                        "bin_start": 53,
                        "bin_end": 54,
                        "count": 0
                      },
                      {
                        "bin_start": 54,
                        "bin_end": 55,
                        "count": 0
                      },
                      {
                        "bin_start": 55,
                        "bin_end": 56,
                        "count": 0
                      },
                      {
                        "bin_start": 56,
                        "bin_end": 57,
                        "count": 0
                      },
                      {
                        "bin_start": 57,
                        "bin_end": 58,
                        "count": 1
                      },
                      {
                        "bin_start": 58,
                        "bin_end": 59,
                        "count": 0
                      },
                      {
                        "bin_start": 59,
                        "bin_end": 60,
                        "count": 0
                      },
                      {
                        "bin_start": 60,
                        "bin_end": 61,
                        "count": 1
                      }
                    ]
                  }
                },
                {
                  "name": "wk11",
                  "dtype": "float64",
                  "stats": {
                    "unique_count": 3,
                    "nan_count": 2,
                    "min": "51.0",
                    "max": "64.0",
                    "histogram": [
                      {
                        "bin_start": 51,
                        "bin_end": 52.3,
                        "count": 1
                      },
                      {
                        "bin_start": 52.3,
                        "bin_end": 53.6,
                        "count": 0
                      },
                      {
                        "bin_start": 53.6,
                        "bin_end": 54.9,
                        "count": 0
                      },
                      {
                        "bin_start": 54.9,
                        "bin_end": 56.2,
                        "count": 0
                      },
                      {
                        "bin_start": 56.2,
                        "bin_end": 57.5,
                        "count": 0
                      },
                      {
                        "bin_start": 57.5,
                        "bin_end": 58.8,
                        "count": 0
                      },
                      {
                        "bin_start": 58.8,
                        "bin_end": 60.1,
                        "count": 0
                      },
                      {
                        "bin_start": 60.1,
                        "bin_end": 61.4,
                        "count": 1
                      },
                      {
                        "bin_start": 61.4,
                        "bin_end": 62.7,
                        "count": 0
                      },
                      {
                        "bin_start": 62.7,
                        "bin_end": 64,
                        "count": 1
                      }
                    ]
                  }
                },
                {
                  "name": "wk12",
                  "dtype": "float64",
                  "stats": {
                    "unique_count": 3,
                    "nan_count": 2,
                    "min": "51.0",
                    "max": "70.0",
                    "histogram": [
                      {
                        "bin_start": 51,
                        "bin_end": 52.9,
                        "count": 1
                      },
                      {
                        "bin_start": 52.9,
                        "bin_end": 54.8,
                        "count": 0
                      },
                      {
                        "bin_start": 54.8,
                        "bin_end": 56.7,
                        "count": 0
                      },
                      {
                        "bin_start": 56.7,
                        "bin_end": 58.6,
                        "count": 0
                      },
                      {
                        "bin_start": 58.6,
                        "bin_end": 60.5,
                        "count": 1
                      },
                      {
                        "bin_start": 60.5,
                        "bin_end": 62.4,
                        "count": 0
                      },
                      {
                        "bin_start": 62.4,
                        "bin_end": 64.3,
                        "count": 0
                      },
                      {
                        "bin_start": 64.3,
                        "bin_end": 66.2,
                        "count": 0
                      },
                      {
                        "bin_start": 66.2,
                        "bin_end": 68.1,
                        "count": 0
                      },
                      {
                        "bin_start": 68.1,
                        "bin_end": 70,
                        "count": 1
                      }
                    ]
                  }
                },
                {
                  "name": "wk13",
                  "dtype": "float64",
                  "stats": {
                    "unique_count": 3,
                    "nan_count": 2,
                    "min": "47.0",
                    "max": "75.0",
                    "histogram": [
                      {
                        "bin_start": 47,
                        "bin_end": 49.8,
                        "count": 1
                      },
                      {
                        "bin_start": 49.8,
                        "bin_end": 52.6,
                        "count": 0
                      },
                      {
                        "bin_start": 52.6,
                        "bin_end": 55.4,
                        "count": 0
                      },
                      {
                        "bin_start": 55.4,
                        "bin_end": 58.2,
                        "count": 0
                      },
                      {
                        "bin_start": 58.2,
                        "bin_end": 61,
                        "count": 0
                      },
                      {
                        "bin_start": 61,
                        "bin_end": 63.8,
                        "count": 1
                      },
                      {
                        "bin_start": 63.8,
                        "bin_end": 66.6,
                        "count": 0
                      },
                      {
                        "bin_start": 66.6,
                        "bin_end": 69.4,
                        "count": 0
                      },
                      {
                        "bin_start": 69.4,
                        "bin_end": 72.2,
                        "count": 0
                      },
                      {
                        "bin_start": 72.2,
                        "bin_end": 75,
                        "count": 1
                      }
                    ]
                  }
                },
                {
                  "name": "wk14",
                  "dtype": "float64",
                  "stats": {
                    "unique_count": 3,
                    "nan_count": 2,
                    "min": "44.0",
                    "max": "76.0",
                    "histogram": [
                      {
                        "bin_start": 44,
                        "bin_end": 47.2,
                        "count": 1
                      },
                      {
                        "bin_start": 47.2,
                        "bin_end": 50.4,
                        "count": 0
                      },
                      {
                        "bin_start": 50.4,
                        "bin_end": 53.6,
                        "count": 0
                      },
                      {
                        "bin_start": 53.6,
                        "bin_end": 56.8,
                        "count": 0
                      },
                      {
                        "bin_start": 56.8,
                        "bin_end": 60,
                        "count": 0
                      },
                      {
                        "bin_start": 60,
                        "bin_end": 63.2,
                        "count": 0
                      },
                      {
                        "bin_start": 63.2,
                        "bin_end": 66.4,
                        "count": 1
                      },
                      {
                        "bin_start": 66.4,
                        "bin_end": 69.6,
                        "count": 0
                      },
                      {
                        "bin_start": 69.6,
                        "bin_end": 72.8,
                        "count": 0
                      },
                      {
                        "bin_start": 72.8,
                        "bin_end": 76,
                        "count": 1
                      }
                    ]
                  }
                },
                {
                  "name": "wk15",
                  "dtype": "float64",
                  "stats": {
                    "unique_count": 3,
                    "nan_count": 2,
                    "min": "38.0",
                    "max": "78.0",
                    "histogram": [
                      {
                        "bin_start": 38,
                        "bin_end": 42,
                        "count": 1
                      },
                      {
                        "bin_start": 42,
                        "bin_end": 46,
                        "count": 0
                      },
                      {
                        "bin_start": 46,
                        "bin_end": 50,
                        "count": 0
                      },
                      {
                        "bin_start": 50,
                        "bin_end": 54,
                        "count": 0
                      },
                      {
                        "bin_start": 54,
                        "bin_end": 58,
                        "count": 0
                      },
                      {
                        "bin_start": 58,
                        "bin_end": 62,
                        "count": 0
                      },
                      {
                        "bin_start": 62,
                        "bin_end": 66,
                        "count": 0
                      },
                      {
                        "bin_start": 66,
                        "bin_end": 70,
                        "count": 0
                      },
                      {
                        "bin_start": 70,
                        "bin_end": 74,
                        "count": 1
                      },
                      {
                        "bin_start": 74,
                        "bin_end": 78,
                        "count": 1
                      }
                    ]
                  }
                },
                {
                  "name": "wk16",
                  "dtype": "float64",
                  "stats": {
                    "unique_count": 3,
                    "nan_count": 2,
                    "min": "28.0",
                    "max": "85.0",
                    "histogram": [
                      {
                        "bin_start": 28,
                        "bin_end": 33.7,
                        "count": 1
                      },
                      {
                        "bin_start": 33.7,
                        "bin_end": 39.4,
                        "count": 0
                      },
                      {
                        "bin_start": 39.4,
                        "bin_end": 45.1,
                        "count": 0
                      },
                      {
                        "bin_start": 45.1,
                        "bin_end": 50.8,
                        "count": 0
                      },
                      {
                        "bin_start": 50.8,
                        "bin_end": 56.5,
                        "count": 0
                      },
                      {
                        "bin_start": 56.5,
                        "bin_end": 62.2,
                        "count": 0
                      },
                      {
                        "bin_start": 62.2,
                        "bin_end": 67.9,
                        "count": 0
                      },
                      {
                        "bin_start": 67.9,
                        "bin_end": 73.6,
                        "count": 0
                      },
                      {
                        "bin_start": 73.6,
                        "bin_end": 79.30000000000001,
                        "count": 1
                      },
                      {
                        "bin_start": 79.30000000000001,
                        "bin_end": 85,
                        "count": 1
                      }
                    ]
                  }
                },
                {
                  "name": "wk17",
                  "dtype": "float64",
                  "stats": {
                    "unique_count": 3,
                    "nan_count": 2,
                    "min": "22.0",
                    "max": "92.0",
                    "histogram": [
                      {
                        "bin_start": 22,
                        "bin_end": 29,
                        "count": 1
                      },
                      {
                        "bin_start": 29,
                        "bin_end": 36,
                        "count": 0
                      },
                      {
                        "bin_start": 36,
                        "bin_end": 43,
                        "count": 0
                      },
                      {
                        "bin_start": 43,
                        "bin_end": 50,
                        "count": 0
                      },
                      {
                        "bin_start": 50,
                        "bin_end": 57,
                        "count": 0
                      },
                      {
                        "bin_start": 57,
                        "bin_end": 64,
                        "count": 0
                      },
                      {
                        "bin_start": 64,
                        "bin_end": 71,
                        "count": 0
                      },
                      {
                        "bin_start": 71,
                        "bin_end": 78,
                        "count": 1
                      },
                      {
                        "bin_start": 78,
                        "bin_end": 85,
                        "count": 0
                      },
                      {
                        "bin_start": 85,
                        "bin_end": 92,
                        "count": 1
                      }
                    ]
                  }
                },
                {
                  "name": "wk18",
                  "dtype": "float64",
                  "stats": {
                    "unique_count": 3,
                    "nan_count": 2,
                    "min": "18.0",
                    "max": "96.0",
                    "histogram": [
                      {
                        "bin_start": 18,
                        "bin_end": 25.8,
                        "count": 1
                      },
                      {
                        "bin_start": 25.8,
                        "bin_end": 33.6,
                        "count": 0
                      },
                      {
                        "bin_start": 33.6,
                        "bin_end": 41.4,
                        "count": 0
                      },
                      {
                        "bin_start": 41.4,
                        "bin_end": 49.2,
                        "count": 0
                      },
                      {
                        "bin_start": 49.2,
                        "bin_end": 57,
                        "count": 0
                      },
                      {
                        "bin_start": 57,
                        "bin_end": 64.8,
                        "count": 0
                      },
                      {
                        "bin_start": 64.8,
                        "bin_end": 72.6,
                        "count": 1
                      },
                      {
                        "bin_start": 72.6,
                        "bin_end": 80.4,
                        "count": 0
                      },
                      {
                        "bin_start": 80.4,
                        "bin_end": 88.2,
                        "count": 0
                      },
                      {
                        "bin_start": 88.2,
                        "bin_end": 96,
                        "count": 1
                      }
                    ]
                  }
                },
                {
                  "name": "wk19",
                  "dtype": "float64",
                  "stats": {
                    "unique_count": 2,
                    "nan_count": 3,
                    "min": "18.0",
                    "max": "73.0",
                    "histogram": [
                      {
                        "bin_start": 18,
                        "bin_end": 23.5,
                        "count": 1
                      },
                      {
                        "bin_start": 23.5,
                        "bin_end": 29,
                        "count": 0
                      },
                      {
                        "bin_start": 29,
                        "bin_end": 34.5,
                        "count": 0
                      },
                      {
                        "bin_start": 34.5,
                        "bin_end": 40,
                        "count": 0
                      },
                      {
                        "bin_start": 40,
                        "bin_end": 45.5,
                        "count": 0
                      },
                      {
                        "bin_start": 45.5,
                        "bin_end": 51,
                        "count": 0
                      },
                      {
                        "bin_start": 51,
                        "bin_end": 56.5,
                        "count": 0
                      },
                      {
                        "bin_start": 56.5,
                        "bin_end": 62,
                        "count": 0
                      },
                      {
                        "bin_start": 62,
                        "bin_end": 67.5,
                        "count": 0
                      },
                      {
                        "bin_start": 67.5,
                        "bin_end": 73,
                        "count": 1
                      }
                    ]
                  }
                },
                {
                  "name": "wk20",
                  "dtype": "float64",
                  "stats": {
                    "unique_count": 2,
                    "nan_count": 3,
                    "min": "14.0",
                    "max": "70.0",
                    "histogram": [
                      {
                        "bin_start": 14,
                        "bin_end": 19.6,
                        "count": 1
                      },
                      {
                        "bin_start": 19.6,
                        "bin_end": 25.2,
                        "count": 0
                      },
                      {
                        "bin_start": 25.2,
                        "bin_end": 30.799999999999997,
                        "count": 0
                      },
                      {
                        "bin_start": 30.799999999999997,
                        "bin_end": 36.4,
                        "count": 0
                      },
                      {
                        "bin_start": 36.4,
                        "bin_end": 42,
                        "count": 0
                      },
                      {
                        "bin_start": 42,
                        "bin_end": 47.599999999999994,
                        "count": 0
                      },
                      {
                        "bin_start": 47.599999999999994,
                        "bin_end": 53.199999999999996,
                        "count": 0
                      },
                      {
                        "bin_start": 53.199999999999996,
                        "bin_end": 58.8,
                        "count": 0
                      },
                      {
                        "bin_start": 58.8,
                        "bin_end": 64.4,
                        "count": 0
                      },
                      {
                        "bin_start": 64.4,
                        "bin_end": 70,
                        "count": 1
                      }
                    ]
                  }
                },
                {
                  "name": "wk21",
                  "dtype": "float64",
                  "stats": {
                    "unique_count": 1,
                    "nan_count": 4,
                    "min": "12.0",
                    "max": "12.0",
                    "histogram": [
                      {
                        "bin_start": 11.5,
                        "bin_end": 11.6,
                        "count": 0
                      },
                      {
                        "bin_start": 11.6,
                        "bin_end": 11.7,
                        "count": 0
                      },
                      {
                        "bin_start": 11.7,
                        "bin_end": 11.8,
                        "count": 0
                      },
                      {
                        "bin_start": 11.8,
                        "bin_end": 11.9,
                        "count": 0
                      },
                      {
                        "bin_start": 11.9,
                        "bin_end": 12,
                        "count": 0
                      },
                      {
                        "bin_start": 12,
                        "bin_end": 12.1,
                        "count": 1
                      },
                      {
                        "bin_start": 12.1,
                        "bin_end": 12.2,
                        "count": 0
                      },
                      {
                        "bin_start": 12.2,
                        "bin_end": 12.3,
                        "count": 0
                      },
                      {
                        "bin_start": 12.3,
                        "bin_end": 12.4,
                        "count": 0
                      },
                      {
                        "bin_start": 12.4,
                        "bin_end": 12.5,
                        "count": 0
                      }
                    ]
                  }
                },
                {
                  "name": "wk22",
                  "dtype": "float64",
                  "stats": {
                    "unique_count": 1,
                    "nan_count": 4,
                    "min": "7.0",
                    "max": "7.0",
                    "histogram": [
                      {
                        "bin_start": 6.5,
                        "bin_end": 6.6,
                        "count": 0
                      },
                      {
                        "bin_start": 6.6,
                        "bin_end": 6.7,
                        "count": 0
                      },
                      {
                        "bin_start": 6.7,
                        "bin_end": 6.8,
                        "count": 0
                      },
                      {
                        "bin_start": 6.8,
                        "bin_end": 6.9,
                        "count": 0
                      },
                      {
                        "bin_start": 6.9,
                        "bin_end": 7,
                        "count": 0
                      },
                      {
                        "bin_start": 7,
                        "bin_end": 7.1,
                        "count": 1
                      },
                      {
                        "bin_start": 7.1,
                        "bin_end": 7.2,
                        "count": 0
                      },
                      {
                        "bin_start": 7.2,
                        "bin_end": 7.3,
                        "count": 0
                      },
                      {
                        "bin_start": 7.3,
                        "bin_end": 7.4,
                        "count": 0
                      },
                      {
                        "bin_start": 7.4,
                        "bin_end": 7.5,
                        "count": 0
                      }
                    ]
                  }
                },
                {
                  "name": "wk23",
                  "dtype": "float64",
                  "stats": {
                    "unique_count": 1,
                    "nan_count": 4,
                    "min": "6.0",
                    "max": "6.0",
                    "histogram": [
                      {
                        "bin_start": 5.5,
                        "bin_end": 5.6,
                        "count": 0
                      },
                      {
                        "bin_start": 5.6,
                        "bin_end": 5.7,
                        "count": 0
                      },
                      {
                        "bin_start": 5.7,
                        "bin_end": 5.8,
                        "count": 0
                      },
                      {
                        "bin_start": 5.8,
                        "bin_end": 5.9,
                        "count": 0
                      },
                      {
                        "bin_start": 5.9,
                        "bin_end": 6,
                        "count": 0
                      },
                      {
                        "bin_start": 6,
                        "bin_end": 6.1,
                        "count": 1
                      },
                      {
                        "bin_start": 6.1,
                        "bin_end": 6.2,
                        "count": 0
                      },
                      {
                        "bin_start": 6.2,
                        "bin_end": 6.3,
                        "count": 0
                      },
                      {
                        "bin_start": 6.3,
                        "bin_end": 6.4,
                        "count": 0
                      },
                      {
                        "bin_start": 6.4,
                        "bin_end": 6.5,
                        "count": 0
                      }
                    ]
                  }
                },
                {
                  "name": "wk24",
                  "dtype": "float64",
                  "stats": {
                    "unique_count": 1,
                    "nan_count": 4,
                    "min": "6.0",
                    "max": "6.0",
                    "histogram": [
                      {
                        "bin_start": 5.5,
                        "bin_end": 5.6,
                        "count": 0
                      },
                      {
                        "bin_start": 5.6,
                        "bin_end": 5.7,
                        "count": 0
                      },
                      {
                        "bin_start": 5.7,
                        "bin_end": 5.8,
                        "count": 0
                      },
                      {
                        "bin_start": 5.8,
                        "bin_end": 5.9,
                        "count": 0
                      },
                      {
                        "bin_start": 5.9,
                        "bin_end": 6,
                        "count": 0
                      },
                      {
                        "bin_start": 6,
                        "bin_end": 6.1,
                        "count": 1
                      },
                      {
                        "bin_start": 6.1,
                        "bin_end": 6.2,
                        "count": 0
                      },
                      {
                        "bin_start": 6.2,
                        "bin_end": 6.3,
                        "count": 0
                      },
                      {
                        "bin_start": 6.3,
                        "bin_end": 6.4,
                        "count": 0
                      },
                      {
                        "bin_start": 6.4,
                        "bin_end": 6.5,
                        "count": 0
                      }
                    ]
                  }
                },
                {
                  "name": "wk25",
                  "dtype": "float64",
                  "stats": {
                    "unique_count": 1,
                    "nan_count": 4,
                    "min": "6.0",
                    "max": "6.0",
                    "histogram": [
                      {
                        "bin_start": 5.5,
                        "bin_end": 5.6,
                        "count": 0
                      },
                      {
                        "bin_start": 5.6,
                        "bin_end": 5.7,
                        "count": 0
                      },
                      {
                        "bin_start": 5.7,
                        "bin_end": 5.8,
                        "count": 0
                      },
                      {
                        "bin_start": 5.8,
                        "bin_end": 5.9,
                        "count": 0
                      },
                      {
                        "bin_start": 5.9,
                        "bin_end": 6,
                        "count": 0
                      },
                      {
                        "bin_start": 6,
                        "bin_end": 6.1,
                        "count": 1
                      },
                      {
                        "bin_start": 6.1,
                        "bin_end": 6.2,
                        "count": 0
                      },
                      {
                        "bin_start": 6.2,
                        "bin_end": 6.3,
                        "count": 0
                      },
                      {
                        "bin_start": 6.3,
                        "bin_end": 6.4,
                        "count": 0
                      },
                      {
                        "bin_start": 6.4,
                        "bin_end": 6.5,
                        "count": 0
                      }
                    ]
                  }
                },
                {
                  "name": "wk26",
                  "dtype": "float64",
                  "stats": {
                    "unique_count": 1,
                    "nan_count": 4,
                    "min": "5.0",
                    "max": "5.0",
                    "histogram": [
                      {
                        "bin_start": 4.5,
                        "bin_end": 4.6,
                        "count": 0
                      },
                      {
                        "bin_start": 4.6,
                        "bin_end": 4.7,
                        "count": 0
                      },
                      {
                        "bin_start": 4.7,
                        "bin_end": 4.8,
                        "count": 0
                      },
                      {
                        "bin_start": 4.8,
                        "bin_end": 4.9,
                        "count": 0
                      },
                      {
                        "bin_start": 4.9,
                        "bin_end": 5,
                        "count": 0
                      },
                      {
                        "bin_start": 5,
                        "bin_end": 5.1,
                        "count": 1
                      },
                      {
                        "bin_start": 5.1,
                        "bin_end": 5.2,
                        "count": 0
                      },
                      {
                        "bin_start": 5.2,
                        "bin_end": 5.3,
                        "count": 0
                      },
                      {
                        "bin_start": 5.3,
                        "bin_end": 5.4,
                        "count": 0
                      },
                      {
                        "bin_start": 5.4,
                        "bin_end": 5.5,
                        "count": 0
                      }
                    ]
                  }
                },
                {
                  "name": "wk27",
                  "dtype": "float64",
                  "stats": {
                    "unique_count": 1,
                    "nan_count": 4,
                    "min": "5.0",
                    "max": "5.0",
                    "histogram": [
                      {
                        "bin_start": 4.5,
                        "bin_end": 4.6,
                        "count": 0
                      },
                      {
                        "bin_start": 4.6,
                        "bin_end": 4.7,
                        "count": 0
                      },
                      {
                        "bin_start": 4.7,
                        "bin_end": 4.8,
                        "count": 0
                      },
                      {
                        "bin_start": 4.8,
                        "bin_end": 4.9,
                        "count": 0
                      },
                      {
                        "bin_start": 4.9,
                        "bin_end": 5,
                        "count": 0
                      },
                      {
                        "bin_start": 5,
                        "bin_end": 5.1,
                        "count": 1
                      },
                      {
                        "bin_start": 5.1,
                        "bin_end": 5.2,
                        "count": 0
                      },
                      {
                        "bin_start": 5.2,
                        "bin_end": 5.3,
                        "count": 0
                      },
                      {
                        "bin_start": 5.3,
                        "bin_end": 5.4,
                        "count": 0
                      },
                      {
                        "bin_start": 5.4,
                        "bin_end": 5.5,
                        "count": 0
                      }
                    ]
                  }
                },
                {
                  "name": "wk28",
                  "dtype": "float64",
                  "stats": {
                    "unique_count": 1,
                    "nan_count": 4,
                    "min": "4.0",
                    "max": "4.0",
                    "histogram": [
                      {
                        "bin_start": 3.5,
                        "bin_end": 3.6,
                        "count": 0
                      },
                      {
                        "bin_start": 3.6,
                        "bin_end": 3.7,
                        "count": 0
                      },
                      {
                        "bin_start": 3.7,
                        "bin_end": 3.8,
                        "count": 0
                      },
                      {
                        "bin_start": 3.8,
                        "bin_end": 3.9,
                        "count": 0
                      },
                      {
                        "bin_start": 3.9,
                        "bin_end": 4,
                        "count": 0
                      },
                      {
                        "bin_start": 4,
                        "bin_end": 4.1,
                        "count": 1
                      },
                      {
                        "bin_start": 4.1,
                        "bin_end": 4.2,
                        "count": 0
                      },
                      {
                        "bin_start": 4.2,
                        "bin_end": 4.3,
                        "count": 0
                      },
                      {
                        "bin_start": 4.3,
                        "bin_end": 4.4,
                        "count": 0
                      },
                      {
                        "bin_start": 4.4,
                        "bin_end": 4.5,
                        "count": 0
                      }
                    ]
                  }
                },
                {
                  "name": "wk29",
                  "dtype": "float64",
                  "stats": {
                    "unique_count": 1,
                    "nan_count": 4,
                    "min": "4.0",
                    "max": "4.0",
                    "histogram": [
                      {
                        "bin_start": 3.5,
                        "bin_end": 3.6,
                        "count": 0
                      },
                      {
                        "bin_start": 3.6,
                        "bin_end": 3.7,
                        "count": 0
                      },
                      {
                        "bin_start": 3.7,
                        "bin_end": 3.8,
                        "count": 0
                      },
                      {
                        "bin_start": 3.8,
                        "bin_end": 3.9,
                        "count": 0
                      },
                      {
                        "bin_start": 3.9,
                        "bin_end": 4,
                        "count": 0
                      },
                      {
                        "bin_start": 4,
                        "bin_end": 4.1,
                        "count": 1
                      },
                      {
                        "bin_start": 4.1,
                        "bin_end": 4.2,
                        "count": 0
                      },
                      {
                        "bin_start": 4.2,
                        "bin_end": 4.3,
                        "count": 0
                      },
                      {
                        "bin_start": 4.3,
                        "bin_end": 4.4,
                        "count": 0
                      },
                      {
                        "bin_start": 4.4,
                        "bin_end": 4.5,
                        "count": 0
                      }
                    ]
                  }
                },
                {
                  "name": "wk30",
                  "dtype": "float64",
                  "stats": {
                    "unique_count": 1,
                    "nan_count": 4,
                    "min": "4.0",
                    "max": "4.0",
                    "histogram": [
                      {
                        "bin_start": 3.5,
                        "bin_end": 3.6,
                        "count": 0
                      },
                      {
                        "bin_start": 3.6,
                        "bin_end": 3.7,
                        "count": 0
                      },
                      {
                        "bin_start": 3.7,
                        "bin_end": 3.8,
                        "count": 0
                      },
                      {
                        "bin_start": 3.8,
                        "bin_end": 3.9,
                        "count": 0
                      },
                      {
                        "bin_start": 3.9,
                        "bin_end": 4,
                        "count": 0
                      },
                      {
                        "bin_start": 4,
                        "bin_end": 4.1,
                        "count": 1
                      },
                      {
                        "bin_start": 4.1,
                        "bin_end": 4.2,
                        "count": 0
                      },
                      {
                        "bin_start": 4.2,
                        "bin_end": 4.3,
                        "count": 0
                      },
                      {
                        "bin_start": 4.3,
                        "bin_end": 4.4,
                        "count": 0
                      },
                      {
                        "bin_start": 4.4,
                        "bin_end": 4.5,
                        "count": 0
                      }
                    ]
                  }
                },
                {
                  "name": "wk31",
                  "dtype": "float64",
                  "stats": {
                    "unique_count": 1,
                    "nan_count": 4,
                    "min": "4.0",
                    "max": "4.0",
                    "histogram": [
                      {
                        "bin_start": 3.5,
                        "bin_end": 3.6,
                        "count": 0
                      },
                      {
                        "bin_start": 3.6,
                        "bin_end": 3.7,
                        "count": 0
                      },
                      {
                        "bin_start": 3.7,
                        "bin_end": 3.8,
                        "count": 0
                      },
                      {
                        "bin_start": 3.8,
                        "bin_end": 3.9,
                        "count": 0
                      },
                      {
                        "bin_start": 3.9,
                        "bin_end": 4,
                        "count": 0
                      },
                      {
                        "bin_start": 4,
                        "bin_end": 4.1,
                        "count": 1
                      },
                      {
                        "bin_start": 4.1,
                        "bin_end": 4.2,
                        "count": 0
                      },
                      {
                        "bin_start": 4.2,
                        "bin_end": 4.3,
                        "count": 0
                      },
                      {
                        "bin_start": 4.3,
                        "bin_end": 4.4,
                        "count": 0
                      },
                      {
                        "bin_start": 4.4,
                        "bin_end": 4.5,
                        "count": 0
                      }
                    ]
                  }
                },
                {
                  "name": "wk32",
                  "dtype": "float64",
                  "stats": {
                    "unique_count": 1,
                    "nan_count": 4,
                    "min": "3.0",
                    "max": "3.0",
                    "histogram": [
                      {
                        "bin_start": 2.5,
                        "bin_end": 2.6,
                        "count": 0
                      },
                      {
                        "bin_start": 2.6,
                        "bin_end": 2.7,
                        "count": 0
                      },
                      {
                        "bin_start": 2.7,
                        "bin_end": 2.8,
                        "count": 0
                      },
                      {
                        "bin_start": 2.8,
                        "bin_end": 2.9,
                        "count": 0
                      },
                      {
                        "bin_start": 2.9,
                        "bin_end": 3,
                        "count": 0
                      },
                      {
                        "bin_start": 3,
                        "bin_end": 3.1,
                        "count": 1
                      },
                      {
                        "bin_start": 3.1,
                        "bin_end": 3.2,
                        "count": 0
                      },
                      {
                        "bin_start": 3.2,
                        "bin_end": 3.3,
                        "count": 0
                      },
                      {
                        "bin_start": 3.3,
                        "bin_end": 3.4,
                        "count": 0
                      },
                      {
                        "bin_start": 3.4,
                        "bin_end": 3.5,
                        "count": 0
                      }
                    ]
                  }
                },
                {
                  "name": "wk33",
                  "dtype": "float64",
                  "stats": {
                    "unique_count": 1,
                    "nan_count": 4,
                    "min": "3.0",
                    "max": "3.0",
                    "histogram": [
                      {
                        "bin_start": 2.5,
                        "bin_end": 2.6,
                        "count": 0
                      },
                      {
                        "bin_start": 2.6,
                        "bin_end": 2.7,
                        "count": 0
                      },
                      {
                        "bin_start": 2.7,
                        "bin_end": 2.8,
                        "count": 0
                      },
                      {
                        "bin_start": 2.8,
                        "bin_end": 2.9,
                        "count": 0
                      },
                      {
                        "bin_start": 2.9,
                        "bin_end": 3,
                        "count": 0
                      },
                      {
                        "bin_start": 3,
                        "bin_end": 3.1,
                        "count": 1
                      },
                      {
                        "bin_start": 3.1,
                        "bin_end": 3.2,
                        "count": 0
                      },
                      {
                        "bin_start": 3.2,
                        "bin_end": 3.3,
                        "count": 0
                      },
                      {
                        "bin_start": 3.3,
                        "bin_end": 3.4,
                        "count": 0
                      },
                      {
                        "bin_start": 3.4,
                        "bin_end": 3.5,
                        "count": 0
                      }
                    ]
                  }
                },
                {
                  "name": "wk34",
                  "dtype": "float64",
                  "stats": {
                    "unique_count": 1,
                    "nan_count": 4,
                    "min": "3.0",
                    "max": "3.0",
                    "histogram": [
                      {
                        "bin_start": 2.5,
                        "bin_end": 2.6,
                        "count": 0
                      },
                      {
                        "bin_start": 2.6,
                        "bin_end": 2.7,
                        "count": 0
                      },
                      {
                        "bin_start": 2.7,
                        "bin_end": 2.8,
                        "count": 0
                      },
                      {
                        "bin_start": 2.8,
                        "bin_end": 2.9,
                        "count": 0
                      },
                      {
                        "bin_start": 2.9,
                        "bin_end": 3,
                        "count": 0
                      },
                      {
                        "bin_start": 3,
                        "bin_end": 3.1,
                        "count": 1
                      },
                      {
                        "bin_start": 3.1,
                        "bin_end": 3.2,
                        "count": 0
                      },
                      {
                        "bin_start": 3.2,
                        "bin_end": 3.3,
                        "count": 0
                      },
                      {
                        "bin_start": 3.3,
                        "bin_end": 3.4,
                        "count": 0
                      },
                      {
                        "bin_start": 3.4,
                        "bin_end": 3.5,
                        "count": 0
                      }
                    ]
                  }
                },
                {
                  "name": "wk35",
                  "dtype": "float64",
                  "stats": {
                    "unique_count": 1,
                    "nan_count": 4,
                    "min": "4.0",
                    "max": "4.0",
                    "histogram": [
                      {
                        "bin_start": 3.5,
                        "bin_end": 3.6,
                        "count": 0
                      },
                      {
                        "bin_start": 3.6,
                        "bin_end": 3.7,
                        "count": 0
                      },
                      {
                        "bin_start": 3.7,
                        "bin_end": 3.8,
                        "count": 0
                      },
                      {
                        "bin_start": 3.8,
                        "bin_end": 3.9,
                        "count": 0
                      },
                      {
                        "bin_start": 3.9,
                        "bin_end": 4,
                        "count": 0
                      },
                      {
                        "bin_start": 4,
                        "bin_end": 4.1,
                        "count": 1
                      },
                      {
                        "bin_start": 4.1,
                        "bin_end": 4.2,
                        "count": 0
                      },
                      {
                        "bin_start": 4.2,
                        "bin_end": 4.3,
                        "count": 0
                      },
                      {
                        "bin_start": 4.3,
                        "bin_end": 4.4,
                        "count": 0
                      },
                      {
                        "bin_start": 4.4,
                        "bin_end": 4.5,
                        "count": 0
                      }
                    ]
                  }
                },
                {
                  "name": "wk36",
                  "dtype": "float64",
                  "stats": {
                    "unique_count": 1,
                    "nan_count": 4,
                    "min": "5.0",
                    "max": "5.0",
                    "histogram": [
                      {
                        "bin_start": 4.5,
                        "bin_end": 4.6,
                        "count": 0
                      },
                      {
                        "bin_start": 4.6,
                        "bin_end": 4.7,
                        "count": 0
                      },
                      {
                        "bin_start": 4.7,
                        "bin_end": 4.8,
                        "count": 0
                      },
                      {
                        "bin_start": 4.8,
                        "bin_end": 4.9,
                        "count": 0
                      },
                      {
                        "bin_start": 4.9,
                        "bin_end": 5,
                        "count": 0
                      },
                      {
                        "bin_start": 5,
                        "bin_end": 5.1,
                        "count": 1
                      },
                      {
                        "bin_start": 5.1,
                        "bin_end": 5.2,
                        "count": 0
                      },
                      {
                        "bin_start": 5.2,
                        "bin_end": 5.3,
                        "count": 0
                      },
                      {
                        "bin_start": 5.3,
                        "bin_end": 5.4,
                        "count": 0
                      },
                      {
                        "bin_start": 5.4,
                        "bin_end": 5.5,
                        "count": 0
                      }
                    ]
                  }
                },
                {
                  "name": "wk37",
                  "dtype": "float64",
                  "stats": {
                    "unique_count": 1,
                    "nan_count": 4,
                    "min": "5.0",
                    "max": "5.0",
                    "histogram": [
                      {
                        "bin_start": 4.5,
                        "bin_end": 4.6,
                        "count": 0
                      },
                      {
                        "bin_start": 4.6,
                        "bin_end": 4.7,
                        "count": 0
                      },
                      {
                        "bin_start": 4.7,
                        "bin_end": 4.8,
                        "count": 0
                      },
                      {
                        "bin_start": 4.8,
                        "bin_end": 4.9,
                        "count": 0
                      },
                      {
                        "bin_start": 4.9,
                        "bin_end": 5,
                        "count": 0
                      },
                      {
                        "bin_start": 5,
                        "bin_end": 5.1,
                        "count": 1
                      },
                      {
                        "bin_start": 5.1,
                        "bin_end": 5.2,
                        "count": 0
                      },
                      {
                        "bin_start": 5.2,
                        "bin_end": 5.3,
                        "count": 0
                      },
                      {
                        "bin_start": 5.3,
                        "bin_end": 5.4,
                        "count": 0
                      },
                      {
                        "bin_start": 5.4,
                        "bin_end": 5.5,
                        "count": 0
                      }
                    ]
                  }
                },
                {
                  "name": "wk38",
                  "dtype": "float64",
                  "stats": {
                    "unique_count": 1,
                    "nan_count": 4,
                    "min": "9.0",
                    "max": "9.0",
                    "histogram": [
                      {
                        "bin_start": 8.5,
                        "bin_end": 8.6,
                        "count": 0
                      },
                      {
                        "bin_start": 8.6,
                        "bin_end": 8.7,
                        "count": 0
                      },
                      {
                        "bin_start": 8.7,
                        "bin_end": 8.8,
                        "count": 0
                      },
                      {
                        "bin_start": 8.8,
                        "bin_end": 8.9,
                        "count": 0
                      },
                      {
                        "bin_start": 8.9,
                        "bin_end": 9,
                        "count": 0
                      },
                      {
                        "bin_start": 9,
                        "bin_end": 9.1,
                        "count": 1
                      },
                      {
                        "bin_start": 9.1,
                        "bin_end": 9.2,
                        "count": 0
                      },
                      {
                        "bin_start": 9.2,
                        "bin_end": 9.3,
                        "count": 0
                      },
                      {
                        "bin_start": 9.3,
                        "bin_end": 9.4,
                        "count": 0
                      },
                      {
                        "bin_start": 9.4,
                        "bin_end": 9.5,
                        "count": 0
                      }
                    ]
                  }
                },
                {
                  "name": "wk39",
                  "dtype": "float64",
                  "stats": {
                    "unique_count": 1,
                    "nan_count": 4,
                    "min": "9.0",
                    "max": "9.0",
                    "histogram": [
                      {
                        "bin_start": 8.5,
                        "bin_end": 8.6,
                        "count": 0
                      },
                      {
                        "bin_start": 8.6,
                        "bin_end": 8.7,
                        "count": 0
                      },
                      {
                        "bin_start": 8.7,
                        "bin_end": 8.8,
                        "count": 0
                      },
                      {
                        "bin_start": 8.8,
                        "bin_end": 8.9,
                        "count": 0
                      },
                      {
                        "bin_start": 8.9,
                        "bin_end": 9,
                        "count": 0
                      },
                      {
                        "bin_start": 9,
                        "bin_end": 9.1,
                        "count": 1
                      },
                      {
                        "bin_start": 9.1,
                        "bin_end": 9.2,
                        "count": 0
                      },
                      {
                        "bin_start": 9.2,
                        "bin_end": 9.3,
                        "count": 0
                      },
                      {
                        "bin_start": 9.3,
                        "bin_end": 9.4,
                        "count": 0
                      },
                      {
                        "bin_start": 9.4,
                        "bin_end": 9.5,
                        "count": 0
                      }
                    ]
                  }
                },
                {
                  "name": "wk40",
                  "dtype": "float64",
                  "stats": {
                    "unique_count": 1,
                    "nan_count": 4,
                    "min": "15.0",
                    "max": "15.0",
                    "histogram": [
                      {
                        "bin_start": 14.5,
                        "bin_end": 14.6,
                        "count": 0
                      },
                      {
                        "bin_start": 14.6,
                        "bin_end": 14.7,
                        "count": 0
                      },
                      {
                        "bin_start": 14.7,
                        "bin_end": 14.8,
                        "count": 0
                      },
                      {
                        "bin_start": 14.8,
                        "bin_end": 14.9,
                        "count": 0
                      },
                      {
                        "bin_start": 14.9,
                        "bin_end": 15,
                        "count": 0
                      },
                      {
                        "bin_start": 15,
                        "bin_end": 15.1,
                        "count": 1
                      },
                      {
                        "bin_start": 15.1,
                        "bin_end": 15.2,
                        "count": 0
                      },
                      {
                        "bin_start": 15.2,
                        "bin_end": 15.3,
                        "count": 0
                      },
                      {
                        "bin_start": 15.3,
                        "bin_end": 15.4,
                        "count": 0
                      },
                      {
                        "bin_start": 15.4,
                        "bin_end": 15.5,
                        "count": 0
                      }
                    ]
                  }
                },
                {
                  "name": "wk41",
                  "dtype": "float64",
                  "stats": {
                    "unique_count": 1,
                    "nan_count": 4,
                    "min": "14.0",
                    "max": "14.0",
                    "histogram": [
                      {
                        "bin_start": 13.5,
                        "bin_end": 13.6,
                        "count": 0
                      },
                      {
                        "bin_start": 13.6,
                        "bin_end": 13.7,
                        "count": 0
                      },
                      {
                        "bin_start": 13.7,
                        "bin_end": 13.8,
                        "count": 0
                      },
                      {
                        "bin_start": 13.8,
                        "bin_end": 13.9,
                        "count": 0
                      },
                      {
                        "bin_start": 13.9,
                        "bin_end": 14,
                        "count": 0
                      },
                      {
                        "bin_start": 14,
                        "bin_end": 14.1,
                        "count": 1
                      },
                      {
                        "bin_start": 14.1,
                        "bin_end": 14.2,
                        "count": 0
                      },
                      {
                        "bin_start": 14.2,
                        "bin_end": 14.3,
                        "count": 0
                      },
                      {
                        "bin_start": 14.3,
                        "bin_end": 14.4,
                        "count": 0
                      },
                      {
                        "bin_start": 14.4,
                        "bin_end": 14.5,
                        "count": 0
                      }
                    ]
                  }
                },
                {
                  "name": "wk42",
                  "dtype": "float64",
                  "stats": {
                    "unique_count": 1,
                    "nan_count": 4,
                    "min": "13.0",
                    "max": "13.0",
                    "histogram": [
                      {
                        "bin_start": 12.5,
                        "bin_end": 12.6,
                        "count": 0
                      },
                      {
                        "bin_start": 12.6,
                        "bin_end": 12.7,
                        "count": 0
                      },
                      {
                        "bin_start": 12.7,
                        "bin_end": 12.8,
                        "count": 0
                      },
                      {
                        "bin_start": 12.8,
                        "bin_end": 12.9,
                        "count": 0
                      },
                      {
                        "bin_start": 12.9,
                        "bin_end": 13,
                        "count": 0
                      },
                      {
                        "bin_start": 13,
                        "bin_end": 13.1,
                        "count": 1
                      },
                      {
                        "bin_start": 13.1,
                        "bin_end": 13.2,
                        "count": 0
                      },
                      {
                        "bin_start": 13.2,
                        "bin_end": 13.3,
                        "count": 0
                      },
                      {
                        "bin_start": 13.3,
                        "bin_end": 13.4,
                        "count": 0
                      },
                      {
                        "bin_start": 13.4,
                        "bin_end": 13.5,
                        "count": 0
                      }
                    ]
                  }
                },
                {
                  "name": "wk43",
                  "dtype": "float64",
                  "stats": {
                    "unique_count": 1,
                    "nan_count": 4,
                    "min": "14.0",
                    "max": "14.0",
                    "histogram": [
                      {
                        "bin_start": 13.5,
                        "bin_end": 13.6,
                        "count": 0
                      },
                      {
                        "bin_start": 13.6,
                        "bin_end": 13.7,
                        "count": 0
                      },
                      {
                        "bin_start": 13.7,
                        "bin_end": 13.8,
                        "count": 0
                      },
                      {
                        "bin_start": 13.8,
                        "bin_end": 13.9,
                        "count": 0
                      },
                      {
                        "bin_start": 13.9,
                        "bin_end": 14,
                        "count": 0
                      },
                      {
                        "bin_start": 14,
                        "bin_end": 14.1,
                        "count": 1
                      },
                      {
                        "bin_start": 14.1,
                        "bin_end": 14.2,
                        "count": 0
                      },
                      {
                        "bin_start": 14.2,
                        "bin_end": 14.3,
                        "count": 0
                      },
                      {
                        "bin_start": 14.3,
                        "bin_end": 14.4,
                        "count": 0
                      },
                      {
                        "bin_start": 14.4,
                        "bin_end": 14.5,
                        "count": 0
                      }
                    ]
                  }
                },
                {
                  "name": "wk44",
                  "dtype": "float64",
                  "stats": {
                    "unique_count": 1,
                    "nan_count": 4,
                    "min": "16.0",
                    "max": "16.0",
                    "histogram": [
                      {
                        "bin_start": 15.5,
                        "bin_end": 15.6,
                        "count": 0
                      },
                      {
                        "bin_start": 15.6,
                        "bin_end": 15.7,
                        "count": 0
                      },
                      {
                        "bin_start": 15.7,
                        "bin_end": 15.8,
                        "count": 0
                      },
                      {
                        "bin_start": 15.8,
                        "bin_end": 15.9,
                        "count": 0
                      },
                      {
                        "bin_start": 15.9,
                        "bin_end": 16,
                        "count": 0
                      },
                      {
                        "bin_start": 16,
                        "bin_end": 16.1,
                        "count": 1
                      },
                      {
                        "bin_start": 16.1,
                        "bin_end": 16.2,
                        "count": 0
                      },
                      {
                        "bin_start": 16.2,
                        "bin_end": 16.3,
                        "count": 0
                      },
                      {
                        "bin_start": 16.3,
                        "bin_end": 16.4,
                        "count": 0
                      },
                      {
                        "bin_start": 16.4,
                        "bin_end": 16.5,
                        "count": 0
                      }
                    ]
                  }
                },
                {
                  "name": "wk45",
                  "dtype": "float64",
                  "stats": {
                    "unique_count": 1,
                    "nan_count": 4,
                    "min": "17.0",
                    "max": "17.0",
                    "histogram": [
                      {
                        "bin_start": 16.5,
                        "bin_end": 16.6,
                        "count": 0
                      },
                      {
                        "bin_start": 16.6,
                        "bin_end": 16.7,
                        "count": 0
                      },
                      {
                        "bin_start": 16.7,
                        "bin_end": 16.8,
                        "count": 0
                      },
                      {
                        "bin_start": 16.8,
                        "bin_end": 16.9,
                        "count": 0
                      },
                      {
                        "bin_start": 16.9,
                        "bin_end": 17,
                        "count": 0
                      },
                      {
                        "bin_start": 17,
                        "bin_end": 17.1,
                        "count": 1
                      },
                      {
                        "bin_start": 17.1,
                        "bin_end": 17.2,
                        "count": 0
                      },
                      {
                        "bin_start": 17.2,
                        "bin_end": 17.3,
                        "count": 0
                      },
                      {
                        "bin_start": 17.3,
                        "bin_end": 17.4,
                        "count": 0
                      },
                      {
                        "bin_start": 17.4,
                        "bin_end": 17.5,
                        "count": 0
                      }
                    ]
                  }
                },
                {
                  "name": "wk46",
                  "dtype": "float64",
                  "stats": {
                    "unique_count": 1,
                    "nan_count": 4,
                    "min": "21.0",
                    "max": "21.0",
                    "histogram": [
                      {
                        "bin_start": 20.5,
                        "bin_end": 20.6,
                        "count": 0
                      },
                      {
                        "bin_start": 20.6,
                        "bin_end": 20.7,
                        "count": 0
                      },
                      {
                        "bin_start": 20.7,
                        "bin_end": 20.8,
                        "count": 0
                      },
                      {
                        "bin_start": 20.8,
                        "bin_end": 20.9,
                        "count": 0
                      },
                      {
                        "bin_start": 20.9,
                        "bin_end": 21,
                        "count": 0
                      },
                      {
                        "bin_start": 21,
                        "bin_end": 21.1,
                        "count": 1
                      },
                      {
                        "bin_start": 21.1,
                        "bin_end": 21.2,
                        "count": 0
                      },
                      {
                        "bin_start": 21.2,
                        "bin_end": 21.3,
                        "count": 0
                      },
                      {
                        "bin_start": 21.3,
                        "bin_end": 21.4,
                        "count": 0
                      },
                      {
                        "bin_start": 21.4,
                        "bin_end": 21.5,
                        "count": 0
                      }
                    ]
                  }
                },
                {
                  "name": "wk47",
                  "dtype": "float64",
                  "stats": {
                    "unique_count": 1,
                    "nan_count": 4,
                    "min": "22.0",
                    "max": "22.0",
                    "histogram": [
                      {
                        "bin_start": 21.5,
                        "bin_end": 21.6,
                        "count": 0
                      },
                      {
                        "bin_start": 21.6,
                        "bin_end": 21.7,
                        "count": 0
                      },
                      {
                        "bin_start": 21.7,
                        "bin_end": 21.8,
                        "count": 0
                      },
                      {
                        "bin_start": 21.8,
                        "bin_end": 21.9,
                        "count": 0
                      },
                      {
                        "bin_start": 21.9,
                        "bin_end": 22,
                        "count": 0
                      },
                      {
                        "bin_start": 22,
                        "bin_end": 22.1,
                        "count": 1
                      },
                      {
                        "bin_start": 22.1,
                        "bin_end": 22.2,
                        "count": 0
                      },
                      {
                        "bin_start": 22.2,
                        "bin_end": 22.3,
                        "count": 0
                      },
                      {
                        "bin_start": 22.3,
                        "bin_end": 22.4,
                        "count": 0
                      },
                      {
                        "bin_start": 22.4,
                        "bin_end": 22.5,
                        "count": 0
                      }
                    ]
                  }
                },
                {
                  "name": "wk48",
                  "dtype": "float64",
                  "stats": {
                    "unique_count": 1,
                    "nan_count": 4,
                    "min": "24.0",
                    "max": "24.0",
                    "histogram": [
                      {
                        "bin_start": 23.5,
                        "bin_end": 23.6,
                        "count": 0
                      },
                      {
                        "bin_start": 23.6,
                        "bin_end": 23.7,
                        "count": 0
                      },
                      {
                        "bin_start": 23.7,
                        "bin_end": 23.8,
                        "count": 0
                      },
                      {
                        "bin_start": 23.8,
                        "bin_end": 23.9,
                        "count": 0
                      },
                      {
                        "bin_start": 23.9,
                        "bin_end": 24,
                        "count": 0
                      },
                      {
                        "bin_start": 24,
                        "bin_end": 24.1,
                        "count": 1
                      },
                      {
                        "bin_start": 24.1,
                        "bin_end": 24.2,
                        "count": 0
                      },
                      {
                        "bin_start": 24.2,
                        "bin_end": 24.3,
                        "count": 0
                      },
                      {
                        "bin_start": 24.3,
                        "bin_end": 24.4,
                        "count": 0
                      },
                      {
                        "bin_start": 24.4,
                        "bin_end": 24.5,
                        "count": 0
                      }
                    ]
                  }
                },
                {
                  "name": "wk49",
                  "dtype": "float64",
                  "stats": {
                    "unique_count": 1,
                    "nan_count": 4,
                    "min": "28.0",
                    "max": "28.0",
                    "histogram": [
                      {
                        "bin_start": 27.5,
                        "bin_end": 27.6,
                        "count": 0
                      },
                      {
                        "bin_start": 27.6,
                        "bin_end": 27.7,
                        "count": 0
                      },
                      {
                        "bin_start": 27.7,
                        "bin_end": 27.8,
                        "count": 0
                      },
                      {
                        "bin_start": 27.8,
                        "bin_end": 27.9,
                        "count": 0
                      },
                      {
                        "bin_start": 27.9,
                        "bin_end": 28,
                        "count": 0
                      },
                      {
                        "bin_start": 28,
                        "bin_end": 28.1,
                        "count": 1
                      },
                      {
                        "bin_start": 28.1,
                        "bin_end": 28.2,
                        "count": 0
                      },
                      {
                        "bin_start": 28.2,
                        "bin_end": 28.3,
                        "count": 0
                      },
                      {
                        "bin_start": 28.3,
                        "bin_end": 28.4,
                        "count": 0
                      },
                      {
                        "bin_start": 28.4,
                        "bin_end": 28.5,
                        "count": 0
                      }
                    ]
                  }
                },
                {
                  "name": "wk50",
                  "dtype": "float64",
                  "stats": {
                    "unique_count": 1,
                    "nan_count": 4,
                    "min": "33.0",
                    "max": "33.0",
                    "histogram": [
                      {
                        "bin_start": 32.5,
                        "bin_end": 32.6,
                        "count": 0
                      },
                      {
                        "bin_start": 32.6,
                        "bin_end": 32.7,
                        "count": 0
                      },
                      {
                        "bin_start": 32.7,
                        "bin_end": 32.8,
                        "count": 0
                      },
                      {
                        "bin_start": 32.8,
                        "bin_end": 32.9,
                        "count": 0
                      },
                      {
                        "bin_start": 32.9,
                        "bin_end": 33,
                        "count": 0
                      },
                      {
                        "bin_start": 33,
                        "bin_end": 33.1,
                        "count": 1
                      },
                      {
                        "bin_start": 33.1,
                        "bin_end": 33.2,
                        "count": 0
                      },
                      {
                        "bin_start": 33.2,
                        "bin_end": 33.3,
                        "count": 0
                      },
                      {
                        "bin_start": 33.3,
                        "bin_end": 33.4,
                        "count": 0
                      },
                      {
                        "bin_start": 33.4,
                        "bin_end": 33.5,
                        "count": 0
                      }
                    ]
                  }
                },
                {
                  "name": "wk51",
                  "dtype": "float64",
                  "stats": {
                    "unique_count": 1,
                    "nan_count": 4,
                    "min": "42.0",
                    "max": "42.0",
                    "histogram": [
                      {
                        "bin_start": 41.5,
                        "bin_end": 41.6,
                        "count": 0
                      },
                      {
                        "bin_start": 41.6,
                        "bin_end": 41.7,
                        "count": 0
                      },
                      {
                        "bin_start": 41.7,
                        "bin_end": 41.8,
                        "count": 0
                      },
                      {
                        "bin_start": 41.8,
                        "bin_end": 41.9,
                        "count": 0
                      },
                      {
                        "bin_start": 41.9,
                        "bin_end": 42,
                        "count": 0
                      },
                      {
                        "bin_start": 42,
                        "bin_end": 42.1,
                        "count": 1
                      },
                      {
                        "bin_start": 42.1,
                        "bin_end": 42.2,
                        "count": 0
                      },
                      {
                        "bin_start": 42.2,
                        "bin_end": 42.3,
                        "count": 0
                      },
                      {
                        "bin_start": 42.3,
                        "bin_end": 42.4,
                        "count": 0
                      },
                      {
                        "bin_start": 42.4,
                        "bin_end": 42.5,
                        "count": 0
                      }
                    ]
                  }
                },
                {
                  "name": "wk52",
                  "dtype": "float64",
                  "stats": {
                    "unique_count": 1,
                    "nan_count": 4,
                    "min": "42.0",
                    "max": "42.0",
                    "histogram": [
                      {
                        "bin_start": 41.5,
                        "bin_end": 41.6,
                        "count": 0
                      },
                      {
                        "bin_start": 41.6,
                        "bin_end": 41.7,
                        "count": 0
                      },
                      {
                        "bin_start": 41.7,
                        "bin_end": 41.8,
                        "count": 0
                      },
                      {
                        "bin_start": 41.8,
                        "bin_end": 41.9,
                        "count": 0
                      },
                      {
                        "bin_start": 41.9,
                        "bin_end": 42,
                        "count": 0
                      },
                      {
                        "bin_start": 42,
                        "bin_end": 42.1,
                        "count": 1
                      },
                      {
                        "bin_start": 42.1,
                        "bin_end": 42.2,
                        "count": 0
                      },
                      {
                        "bin_start": 42.2,
                        "bin_end": 42.3,
                        "count": 0
                      },
                      {
                        "bin_start": 42.3,
                        "bin_end": 42.4,
                        "count": 0
                      },
                      {
                        "bin_start": 42.4,
                        "bin_end": 42.5,
                        "count": 0
                      }
                    ]
                  }
                },
                {
                  "name": "wk53",
                  "dtype": "float64",
                  "stats": {
                    "unique_count": 1,
                    "nan_count": 4,
                    "min": "49.0",
                    "max": "49.0",
                    "histogram": [
                      {
                        "bin_start": 48.5,
                        "bin_end": 48.6,
                        "count": 0
                      },
                      {
                        "bin_start": 48.6,
                        "bin_end": 48.7,
                        "count": 0
                      },
                      {
                        "bin_start": 48.7,
                        "bin_end": 48.8,
                        "count": 0
                      },
                      {
                        "bin_start": 48.8,
                        "bin_end": 48.9,
                        "count": 0
                      },
                      {
                        "bin_start": 48.9,
                        "bin_end": 49,
                        "count": 0
                      },
                      {
                        "bin_start": 49,
                        "bin_end": 49.1,
                        "count": 1
                      },
                      {
                        "bin_start": 49.1,
                        "bin_end": 49.2,
                        "count": 0
                      },
                      {
                        "bin_start": 49.2,
                        "bin_end": 49.3,
                        "count": 0
                      },
                      {
                        "bin_start": 49.3,
                        "bin_end": 49.4,
                        "count": 0
                      },
                      {
                        "bin_start": 49.4,
                        "bin_end": 49.5,
                        "count": 0
                      }
                    ]
                  }
                },
                {
                  "name": "wk54",
                  "dtype": "float64",
                  "stats": {
                    "unique_count": 0,
                    "nan_count": 5,
                    "min": null,
                    "max": null,
                    "histogram": [
                      {
                        "bin_start": 0,
                        "bin_end": 0.1,
                        "count": 0
                      },
                      {
                        "bin_start": 0.1,
                        "bin_end": 0.2,
                        "count": 0
                      },
                      {
                        "bin_start": 0.2,
                        "bin_end": 0.30000000000000004,
                        "count": 0
                      },
                      {
                        "bin_start": 0.30000000000000004,
                        "bin_end": 0.4,
                        "count": 0
                      },
                      {
                        "bin_start": 0.4,
                        "bin_end": 0.5,
                        "count": 0
                      },
                      {
                        "bin_start": 0.5,
                        "bin_end": 0.6000000000000001,
                        "count": 0
                      },
                      {
                        "bin_start": 0.6000000000000001,
                        "bin_end": 0.7000000000000001,
                        "count": 0
                      },
                      {
                        "bin_start": 0.7000000000000001,
                        "bin_end": 0.8,
                        "count": 0
                      },
                      {
                        "bin_start": 0.8,
                        "bin_end": 0.9,
                        "count": 0
                      },
                      {
                        "bin_start": 0.9,
                        "bin_end": 1,
                        "count": 0
                      }
                    ]
                  }
                },
                {
                  "name": "wk55",
                  "dtype": "float64",
                  "stats": {
                    "unique_count": 0,
                    "nan_count": 5,
                    "min": null,
                    "max": null,
                    "histogram": [
                      {
                        "bin_start": 0,
                        "bin_end": 0.1,
                        "count": 0
                      },
                      {
                        "bin_start": 0.1,
                        "bin_end": 0.2,
                        "count": 0
                      },
                      {
                        "bin_start": 0.2,
                        "bin_end": 0.30000000000000004,
                        "count": 0
                      },
                      {
                        "bin_start": 0.30000000000000004,
                        "bin_end": 0.4,
                        "count": 0
                      },
                      {
                        "bin_start": 0.4,
                        "bin_end": 0.5,
                        "count": 0
                      },
                      {
                        "bin_start": 0.5,
                        "bin_end": 0.6000000000000001,
                        "count": 0
                      },
                      {
                        "bin_start": 0.6000000000000001,
                        "bin_end": 0.7000000000000001,
                        "count": 0
                      },
                      {
                        "bin_start": 0.7000000000000001,
                        "bin_end": 0.8,
                        "count": 0
                      },
                      {
                        "bin_start": 0.8,
                        "bin_end": 0.9,
                        "count": 0
                      },
                      {
                        "bin_start": 0.9,
                        "bin_end": 1,
                        "count": 0
                      }
                    ]
                  }
                },
                {
                  "name": "wk56",
                  "dtype": "float64",
                  "stats": {
                    "unique_count": 0,
                    "nan_count": 5,
                    "min": null,
                    "max": null,
                    "histogram": [
                      {
                        "bin_start": 0,
                        "bin_end": 0.1,
                        "count": 0
                      },
                      {
                        "bin_start": 0.1,
                        "bin_end": 0.2,
                        "count": 0
                      },
                      {
                        "bin_start": 0.2,
                        "bin_end": 0.30000000000000004,
                        "count": 0
                      },
                      {
                        "bin_start": 0.30000000000000004,
                        "bin_end": 0.4,
                        "count": 0
                      },
                      {
                        "bin_start": 0.4,
                        "bin_end": 0.5,
                        "count": 0
                      },
                      {
                        "bin_start": 0.5,
                        "bin_end": 0.6000000000000001,
                        "count": 0
                      },
                      {
                        "bin_start": 0.6000000000000001,
                        "bin_end": 0.7000000000000001,
                        "count": 0
                      },
                      {
                        "bin_start": 0.7000000000000001,
                        "bin_end": 0.8,
                        "count": 0
                      },
                      {
                        "bin_start": 0.8,
                        "bin_end": 0.9,
                        "count": 0
                      },
                      {
                        "bin_start": 0.9,
                        "bin_end": 1,
                        "count": 0
                      }
                    ]
                  }
                },
                {
                  "name": "wk57",
                  "dtype": "float64",
                  "stats": {
                    "unique_count": 0,
                    "nan_count": 5,
                    "min": null,
                    "max": null,
                    "histogram": [
                      {
                        "bin_start": 0,
                        "bin_end": 0.1,
                        "count": 0
                      },
                      {
                        "bin_start": 0.1,
                        "bin_end": 0.2,
                        "count": 0
                      },
                      {
                        "bin_start": 0.2,
                        "bin_end": 0.30000000000000004,
                        "count": 0
                      },
                      {
                        "bin_start": 0.30000000000000004,
                        "bin_end": 0.4,
                        "count": 0
                      },
                      {
                        "bin_start": 0.4,
                        "bin_end": 0.5,
                        "count": 0
                      },
                      {
                        "bin_start": 0.5,
                        "bin_end": 0.6000000000000001,
                        "count": 0
                      },
                      {
                        "bin_start": 0.6000000000000001,
                        "bin_end": 0.7000000000000001,
                        "count": 0
                      },
                      {
                        "bin_start": 0.7000000000000001,
                        "bin_end": 0.8,
                        "count": 0
                      },
                      {
                        "bin_start": 0.8,
                        "bin_end": 0.9,
                        "count": 0
                      },
                      {
                        "bin_start": 0.9,
                        "bin_end": 1,
                        "count": 0
                      }
                    ]
                  }
                },
                {
                  "name": "wk58",
                  "dtype": "float64",
                  "stats": {
                    "unique_count": 0,
                    "nan_count": 5,
                    "min": null,
                    "max": null,
                    "histogram": [
                      {
                        "bin_start": 0,
                        "bin_end": 0.1,
                        "count": 0
                      },
                      {
                        "bin_start": 0.1,
                        "bin_end": 0.2,
                        "count": 0
                      },
                      {
                        "bin_start": 0.2,
                        "bin_end": 0.30000000000000004,
                        "count": 0
                      },
                      {
                        "bin_start": 0.30000000000000004,
                        "bin_end": 0.4,
                        "count": 0
                      },
                      {
                        "bin_start": 0.4,
                        "bin_end": 0.5,
                        "count": 0
                      },
                      {
                        "bin_start": 0.5,
                        "bin_end": 0.6000000000000001,
                        "count": 0
                      },
                      {
                        "bin_start": 0.6000000000000001,
                        "bin_end": 0.7000000000000001,
                        "count": 0
                      },
                      {
                        "bin_start": 0.7000000000000001,
                        "bin_end": 0.8,
                        "count": 0
                      },
                      {
                        "bin_start": 0.8,
                        "bin_end": 0.9,
                        "count": 0
                      },
                      {
                        "bin_start": 0.9,
                        "bin_end": 1,
                        "count": 0
                      }
                    ]
                  }
                },
                {
                  "name": "wk59",
                  "dtype": "float64",
                  "stats": {
                    "unique_count": 0,
                    "nan_count": 5,
                    "min": null,
                    "max": null,
                    "histogram": [
                      {
                        "bin_start": 0,
                        "bin_end": 0.1,
                        "count": 0
                      },
                      {
                        "bin_start": 0.1,
                        "bin_end": 0.2,
                        "count": 0
                      },
                      {
                        "bin_start": 0.2,
                        "bin_end": 0.30000000000000004,
                        "count": 0
                      },
                      {
                        "bin_start": 0.30000000000000004,
                        "bin_end": 0.4,
                        "count": 0
                      },
                      {
                        "bin_start": 0.4,
                        "bin_end": 0.5,
                        "count": 0
                      },
                      {
                        "bin_start": 0.5,
                        "bin_end": 0.6000000000000001,
                        "count": 0
                      },
                      {
                        "bin_start": 0.6000000000000001,
                        "bin_end": 0.7000000000000001,
                        "count": 0
                      },
                      {
                        "bin_start": 0.7000000000000001,
                        "bin_end": 0.8,
                        "count": 0
                      },
                      {
                        "bin_start": 0.8,
                        "bin_end": 0.9,
                        "count": 0
                      },
                      {
                        "bin_start": 0.9,
                        "bin_end": 1,
                        "count": 0
                      }
                    ]
                  }
                },
                {
                  "name": "wk60",
                  "dtype": "float64",
                  "stats": {
                    "unique_count": 0,
                    "nan_count": 5,
                    "min": null,
                    "max": null,
                    "histogram": [
                      {
                        "bin_start": 0,
                        "bin_end": 0.1,
                        "count": 0
                      },
                      {
                        "bin_start": 0.1,
                        "bin_end": 0.2,
                        "count": 0
                      },
                      {
                        "bin_start": 0.2,
                        "bin_end": 0.30000000000000004,
                        "count": 0
                      },
                      {
                        "bin_start": 0.30000000000000004,
                        "bin_end": 0.4,
                        "count": 0
                      },
                      {
                        "bin_start": 0.4,
                        "bin_end": 0.5,
                        "count": 0
                      },
                      {
                        "bin_start": 0.5,
                        "bin_end": 0.6000000000000001,
                        "count": 0
                      },
                      {
                        "bin_start": 0.6000000000000001,
                        "bin_end": 0.7000000000000001,
                        "count": 0
                      },
                      {
                        "bin_start": 0.7000000000000001,
                        "bin_end": 0.8,
                        "count": 0
                      },
                      {
                        "bin_start": 0.8,
                        "bin_end": 0.9,
                        "count": 0
                      },
                      {
                        "bin_start": 0.9,
                        "bin_end": 1,
                        "count": 0
                      }
                    ]
                  }
                },
                {
                  "name": "wk61",
                  "dtype": "float64",
                  "stats": {
                    "unique_count": 0,
                    "nan_count": 5,
                    "min": null,
                    "max": null,
                    "histogram": [
                      {
                        "bin_start": 0,
                        "bin_end": 0.1,
                        "count": 0
                      },
                      {
                        "bin_start": 0.1,
                        "bin_end": 0.2,
                        "count": 0
                      },
                      {
                        "bin_start": 0.2,
                        "bin_end": 0.30000000000000004,
                        "count": 0
                      },
                      {
                        "bin_start": 0.30000000000000004,
                        "bin_end": 0.4,
                        "count": 0
                      },
                      {
                        "bin_start": 0.4,
                        "bin_end": 0.5,
                        "count": 0
                      },
                      {
                        "bin_start": 0.5,
                        "bin_end": 0.6000000000000001,
                        "count": 0
                      },
                      {
                        "bin_start": 0.6000000000000001,
                        "bin_end": 0.7000000000000001,
                        "count": 0
                      },
                      {
                        "bin_start": 0.7000000000000001,
                        "bin_end": 0.8,
                        "count": 0
                      },
                      {
                        "bin_start": 0.8,
                        "bin_end": 0.9,
                        "count": 0
                      },
                      {
                        "bin_start": 0.9,
                        "bin_end": 1,
                        "count": 0
                      }
                    ]
                  }
                },
                {
                  "name": "wk62",
                  "dtype": "float64",
                  "stats": {
                    "unique_count": 0,
                    "nan_count": 5,
                    "min": null,
                    "max": null,
                    "histogram": [
                      {
                        "bin_start": 0,
                        "bin_end": 0.1,
                        "count": 0
                      },
                      {
                        "bin_start": 0.1,
                        "bin_end": 0.2,
                        "count": 0
                      },
                      {
                        "bin_start": 0.2,
                        "bin_end": 0.30000000000000004,
                        "count": 0
                      },
                      {
                        "bin_start": 0.30000000000000004,
                        "bin_end": 0.4,
                        "count": 0
                      },
                      {
                        "bin_start": 0.4,
                        "bin_end": 0.5,
                        "count": 0
                      },
                      {
                        "bin_start": 0.5,
                        "bin_end": 0.6000000000000001,
                        "count": 0
                      },
                      {
                        "bin_start": 0.6000000000000001,
                        "bin_end": 0.7000000000000001,
                        "count": 0
                      },
                      {
                        "bin_start": 0.7000000000000001,
                        "bin_end": 0.8,
                        "count": 0
                      },
                      {
                        "bin_start": 0.8,
                        "bin_end": 0.9,
                        "count": 0
                      },
                      {
                        "bin_start": 0.9,
                        "bin_end": 1,
                        "count": 0
                      }
                    ]
                  }
                },
                {
                  "name": "wk63",
                  "dtype": "float64",
                  "stats": {
                    "unique_count": 0,
                    "nan_count": 5,
                    "min": null,
                    "max": null,
                    "histogram": [
                      {
                        "bin_start": 0,
                        "bin_end": 0.1,
                        "count": 0
                      },
                      {
                        "bin_start": 0.1,
                        "bin_end": 0.2,
                        "count": 0
                      },
                      {
                        "bin_start": 0.2,
                        "bin_end": 0.30000000000000004,
                        "count": 0
                      },
                      {
                        "bin_start": 0.30000000000000004,
                        "bin_end": 0.4,
                        "count": 0
                      },
                      {
                        "bin_start": 0.4,
                        "bin_end": 0.5,
                        "count": 0
                      },
                      {
                        "bin_start": 0.5,
                        "bin_end": 0.6000000000000001,
                        "count": 0
                      },
                      {
                        "bin_start": 0.6000000000000001,
                        "bin_end": 0.7000000000000001,
                        "count": 0
                      },
                      {
                        "bin_start": 0.7000000000000001,
                        "bin_end": 0.8,
                        "count": 0
                      },
                      {
                        "bin_start": 0.8,
                        "bin_end": 0.9,
                        "count": 0
                      },
                      {
                        "bin_start": 0.9,
                        "bin_end": 1,
                        "count": 0
                      }
                    ]
                  }
                },
                {
                  "name": "wk64",
                  "dtype": "float64",
                  "stats": {
                    "unique_count": 0,
                    "nan_count": 5,
                    "min": null,
                    "max": null,
                    "histogram": [
                      {
                        "bin_start": 0,
                        "bin_end": 0.1,
                        "count": 0
                      },
                      {
                        "bin_start": 0.1,
                        "bin_end": 0.2,
                        "count": 0
                      },
                      {
                        "bin_start": 0.2,
                        "bin_end": 0.30000000000000004,
                        "count": 0
                      },
                      {
                        "bin_start": 0.30000000000000004,
                        "bin_end": 0.4,
                        "count": 0
                      },
                      {
                        "bin_start": 0.4,
                        "bin_end": 0.5,
                        "count": 0
                      },
                      {
                        "bin_start": 0.5,
                        "bin_end": 0.6000000000000001,
                        "count": 0
                      },
                      {
                        "bin_start": 0.6000000000000001,
                        "bin_end": 0.7000000000000001,
                        "count": 0
                      },
                      {
                        "bin_start": 0.7000000000000001,
                        "bin_end": 0.8,
                        "count": 0
                      },
                      {
                        "bin_start": 0.8,
                        "bin_end": 0.9,
                        "count": 0
                      },
                      {
                        "bin_start": 0.9,
                        "bin_end": 1,
                        "count": 0
                      }
                    ]
                  }
                },
                {
                  "name": "wk65",
                  "dtype": "float64",
                  "stats": {
                    "unique_count": 0,
                    "nan_count": 5,
                    "min": null,
                    "max": null,
                    "histogram": [
                      {
                        "bin_start": 0,
                        "bin_end": 0.1,
                        "count": 0
                      },
                      {
                        "bin_start": 0.1,
                        "bin_end": 0.2,
                        "count": 0
                      },
                      {
                        "bin_start": 0.2,
                        "bin_end": 0.30000000000000004,
                        "count": 0
                      },
                      {
                        "bin_start": 0.30000000000000004,
                        "bin_end": 0.4,
                        "count": 0
                      },
                      {
                        "bin_start": 0.4,
                        "bin_end": 0.5,
                        "count": 0
                      },
                      {
                        "bin_start": 0.5,
                        "bin_end": 0.6000000000000001,
                        "count": 0
                      },
                      {
                        "bin_start": 0.6000000000000001,
                        "bin_end": 0.7000000000000001,
                        "count": 0
                      },
                      {
                        "bin_start": 0.7000000000000001,
                        "bin_end": 0.8,
                        "count": 0
                      },
                      {
                        "bin_start": 0.8,
                        "bin_end": 0.9,
                        "count": 0
                      },
                      {
                        "bin_start": 0.9,
                        "bin_end": 1,
                        "count": 0
                      }
                    ]
                  }
                },
                {
                  "name": "wk66",
                  "dtype": "float64",
                  "stats": {
                    "unique_count": 0,
                    "nan_count": 5,
                    "min": null,
                    "max": null,
                    "histogram": [
                      {
                        "bin_start": 0,
                        "bin_end": 0.1,
                        "count": 0
                      },
                      {
                        "bin_start": 0.1,
                        "bin_end": 0.2,
                        "count": 0
                      },
                      {
                        "bin_start": 0.2,
                        "bin_end": 0.30000000000000004,
                        "count": 0
                      },
                      {
                        "bin_start": 0.30000000000000004,
                        "bin_end": 0.4,
                        "count": 0
                      },
                      {
                        "bin_start": 0.4,
                        "bin_end": 0.5,
                        "count": 0
                      },
                      {
                        "bin_start": 0.5,
                        "bin_end": 0.6000000000000001,
                        "count": 0
                      },
                      {
                        "bin_start": 0.6000000000000001,
                        "bin_end": 0.7000000000000001,
                        "count": 0
                      },
                      {
                        "bin_start": 0.7000000000000001,
                        "bin_end": 0.8,
                        "count": 0
                      },
                      {
                        "bin_start": 0.8,
                        "bin_end": 0.9,
                        "count": 0
                      },
                      {
                        "bin_start": 0.9,
                        "bin_end": 1,
                        "count": 0
                      }
                    ]
                  }
                },
                {
                  "name": "wk67",
                  "dtype": "float64",
                  "stats": {
                    "unique_count": 0,
                    "nan_count": 5,
                    "min": null,
                    "max": null,
                    "histogram": [
                      {
                        "bin_start": 0,
                        "bin_end": 0.1,
                        "count": 0
                      },
                      {
                        "bin_start": 0.1,
                        "bin_end": 0.2,
                        "count": 0
                      },
                      {
                        "bin_start": 0.2,
                        "bin_end": 0.30000000000000004,
                        "count": 0
                      },
                      {
                        "bin_start": 0.30000000000000004,
                        "bin_end": 0.4,
                        "count": 0
                      },
                      {
                        "bin_start": 0.4,
                        "bin_end": 0.5,
                        "count": 0
                      },
                      {
                        "bin_start": 0.5,
                        "bin_end": 0.6000000000000001,
                        "count": 0
                      },
                      {
                        "bin_start": 0.6000000000000001,
                        "bin_end": 0.7000000000000001,
                        "count": 0
                      },
                      {
                        "bin_start": 0.7000000000000001,
                        "bin_end": 0.8,
                        "count": 0
                      },
                      {
                        "bin_start": 0.8,
                        "bin_end": 0.9,
                        "count": 0
                      },
                      {
                        "bin_start": 0.9,
                        "bin_end": 1,
                        "count": 0
                      }
                    ]
                  }
                },
                {
                  "name": "wk68",
                  "dtype": "float64",
                  "stats": {
                    "unique_count": 0,
                    "nan_count": 5,
                    "min": null,
                    "max": null,
                    "histogram": [
                      {
                        "bin_start": 0,
                        "bin_end": 0.1,
                        "count": 0
                      },
                      {
                        "bin_start": 0.1,
                        "bin_end": 0.2,
                        "count": 0
                      },
                      {
                        "bin_start": 0.2,
                        "bin_end": 0.30000000000000004,
                        "count": 0
                      },
                      {
                        "bin_start": 0.30000000000000004,
                        "bin_end": 0.4,
                        "count": 0
                      },
                      {
                        "bin_start": 0.4,
                        "bin_end": 0.5,
                        "count": 0
                      },
                      {
                        "bin_start": 0.5,
                        "bin_end": 0.6000000000000001,
                        "count": 0
                      },
                      {
                        "bin_start": 0.6000000000000001,
                        "bin_end": 0.7000000000000001,
                        "count": 0
                      },
                      {
                        "bin_start": 0.7000000000000001,
                        "bin_end": 0.8,
                        "count": 0
                      },
                      {
                        "bin_start": 0.8,
                        "bin_end": 0.9,
                        "count": 0
                      },
                      {
                        "bin_start": 0.9,
                        "bin_end": 1,
                        "count": 0
                      }
                    ]
                  }
                },
                {
                  "name": "wk69",
                  "dtype": "float64",
                  "stats": {
                    "unique_count": 0,
                    "nan_count": 5,
                    "min": null,
                    "max": null,
                    "histogram": [
                      {
                        "bin_start": 0,
                        "bin_end": 0.1,
                        "count": 0
                      },
                      {
                        "bin_start": 0.1,
                        "bin_end": 0.2,
                        "count": 0
                      },
                      {
                        "bin_start": 0.2,
                        "bin_end": 0.30000000000000004,
                        "count": 0
                      },
                      {
                        "bin_start": 0.30000000000000004,
                        "bin_end": 0.4,
                        "count": 0
                      },
                      {
                        "bin_start": 0.4,
                        "bin_end": 0.5,
                        "count": 0
                      },
                      {
                        "bin_start": 0.5,
                        "bin_end": 0.6000000000000001,
                        "count": 0
                      },
                      {
                        "bin_start": 0.6000000000000001,
                        "bin_end": 0.7000000000000001,
                        "count": 0
                      },
                      {
                        "bin_start": 0.7000000000000001,
                        "bin_end": 0.8,
                        "count": 0
                      },
                      {
                        "bin_start": 0.8,
                        "bin_end": 0.9,
                        "count": 0
                      },
                      {
                        "bin_start": 0.9,
                        "bin_end": 1,
                        "count": 0
                      }
                    ]
                  }
                },
                {
                  "name": "wk70",
                  "dtype": "float64",
                  "stats": {
                    "unique_count": 0,
                    "nan_count": 5,
                    "min": null,
                    "max": null,
                    "histogram": [
                      {
                        "bin_start": 0,
                        "bin_end": 0.1,
                        "count": 0
                      },
                      {
                        "bin_start": 0.1,
                        "bin_end": 0.2,
                        "count": 0
                      },
                      {
                        "bin_start": 0.2,
                        "bin_end": 0.30000000000000004,
                        "count": 0
                      },
                      {
                        "bin_start": 0.30000000000000004,
                        "bin_end": 0.4,
                        "count": 0
                      },
                      {
                        "bin_start": 0.4,
                        "bin_end": 0.5,
                        "count": 0
                      },
                      {
                        "bin_start": 0.5,
                        "bin_end": 0.6000000000000001,
                        "count": 0
                      },
                      {
                        "bin_start": 0.6000000000000001,
                        "bin_end": 0.7000000000000001,
                        "count": 0
                      },
                      {
                        "bin_start": 0.7000000000000001,
                        "bin_end": 0.8,
                        "count": 0
                      },
                      {
                        "bin_start": 0.8,
                        "bin_end": 0.9,
                        "count": 0
                      },
                      {
                        "bin_start": 0.9,
                        "bin_end": 1,
                        "count": 0
                      }
                    ]
                  }
                },
                {
                  "name": "wk71",
                  "dtype": "float64",
                  "stats": {
                    "unique_count": 0,
                    "nan_count": 5,
                    "min": null,
                    "max": null,
                    "histogram": [
                      {
                        "bin_start": 0,
                        "bin_end": 0.1,
                        "count": 0
                      },
                      {
                        "bin_start": 0.1,
                        "bin_end": 0.2,
                        "count": 0
                      },
                      {
                        "bin_start": 0.2,
                        "bin_end": 0.30000000000000004,
                        "count": 0
                      },
                      {
                        "bin_start": 0.30000000000000004,
                        "bin_end": 0.4,
                        "count": 0
                      },
                      {
                        "bin_start": 0.4,
                        "bin_end": 0.5,
                        "count": 0
                      },
                      {
                        "bin_start": 0.5,
                        "bin_end": 0.6000000000000001,
                        "count": 0
                      },
                      {
                        "bin_start": 0.6000000000000001,
                        "bin_end": 0.7000000000000001,
                        "count": 0
                      },
                      {
                        "bin_start": 0.7000000000000001,
                        "bin_end": 0.8,
                        "count": 0
                      },
                      {
                        "bin_start": 0.8,
                        "bin_end": 0.9,
                        "count": 0
                      },
                      {
                        "bin_start": 0.9,
                        "bin_end": 1,
                        "count": 0
                      }
                    ]
                  }
                },
                {
                  "name": "wk72",
                  "dtype": "float64",
                  "stats": {
                    "unique_count": 0,
                    "nan_count": 5,
                    "min": null,
                    "max": null,
                    "histogram": [
                      {
                        "bin_start": 0,
                        "bin_end": 0.1,
                        "count": 0
                      },
                      {
                        "bin_start": 0.1,
                        "bin_end": 0.2,
                        "count": 0
                      },
                      {
                        "bin_start": 0.2,
                        "bin_end": 0.30000000000000004,
                        "count": 0
                      },
                      {
                        "bin_start": 0.30000000000000004,
                        "bin_end": 0.4,
                        "count": 0
                      },
                      {
                        "bin_start": 0.4,
                        "bin_end": 0.5,
                        "count": 0
                      },
                      {
                        "bin_start": 0.5,
                        "bin_end": 0.6000000000000001,
                        "count": 0
                      },
                      {
                        "bin_start": 0.6000000000000001,
                        "bin_end": 0.7000000000000001,
                        "count": 0
                      },
                      {
                        "bin_start": 0.7000000000000001,
                        "bin_end": 0.8,
                        "count": 0
                      },
                      {
                        "bin_start": 0.8,
                        "bin_end": 0.9,
                        "count": 0
                      },
                      {
                        "bin_start": 0.9,
                        "bin_end": 1,
                        "count": 0
                      }
                    ]
                  }
                },
                {
                  "name": "wk73",
                  "dtype": "float64",
                  "stats": {
                    "unique_count": 0,
                    "nan_count": 5,
                    "min": null,
                    "max": null,
                    "histogram": [
                      {
                        "bin_start": 0,
                        "bin_end": 0.1,
                        "count": 0
                      },
                      {
                        "bin_start": 0.1,
                        "bin_end": 0.2,
                        "count": 0
                      },
                      {
                        "bin_start": 0.2,
                        "bin_end": 0.30000000000000004,
                        "count": 0
                      },
                      {
                        "bin_start": 0.30000000000000004,
                        "bin_end": 0.4,
                        "count": 0
                      },
                      {
                        "bin_start": 0.4,
                        "bin_end": 0.5,
                        "count": 0
                      },
                      {
                        "bin_start": 0.5,
                        "bin_end": 0.6000000000000001,
                        "count": 0
                      },
                      {
                        "bin_start": 0.6000000000000001,
                        "bin_end": 0.7000000000000001,
                        "count": 0
                      },
                      {
                        "bin_start": 0.7000000000000001,
                        "bin_end": 0.8,
                        "count": 0
                      },
                      {
                        "bin_start": 0.8,
                        "bin_end": 0.9,
                        "count": 0
                      },
                      {
                        "bin_start": 0.9,
                        "bin_end": 1,
                        "count": 0
                      }
                    ]
                  }
                },
                {
                  "name": "wk74",
                  "dtype": "float64",
                  "stats": {
                    "unique_count": 0,
                    "nan_count": 5,
                    "min": null,
                    "max": null,
                    "histogram": [
                      {
                        "bin_start": 0,
                        "bin_end": 0.1,
                        "count": 0
                      },
                      {
                        "bin_start": 0.1,
                        "bin_end": 0.2,
                        "count": 0
                      },
                      {
                        "bin_start": 0.2,
                        "bin_end": 0.30000000000000004,
                        "count": 0
                      },
                      {
                        "bin_start": 0.30000000000000004,
                        "bin_end": 0.4,
                        "count": 0
                      },
                      {
                        "bin_start": 0.4,
                        "bin_end": 0.5,
                        "count": 0
                      },
                      {
                        "bin_start": 0.5,
                        "bin_end": 0.6000000000000001,
                        "count": 0
                      },
                      {
                        "bin_start": 0.6000000000000001,
                        "bin_end": 0.7000000000000001,
                        "count": 0
                      },
                      {
                        "bin_start": 0.7000000000000001,
                        "bin_end": 0.8,
                        "count": 0
                      },
                      {
                        "bin_start": 0.8,
                        "bin_end": 0.9,
                        "count": 0
                      },
                      {
                        "bin_start": 0.9,
                        "bin_end": 1,
                        "count": 0
                      }
                    ]
                  }
                },
                {
                  "name": "wk75",
                  "dtype": "float64",
                  "stats": {
                    "unique_count": 0,
                    "nan_count": 5,
                    "min": null,
                    "max": null,
                    "histogram": [
                      {
                        "bin_start": 0,
                        "bin_end": 0.1,
                        "count": 0
                      },
                      {
                        "bin_start": 0.1,
                        "bin_end": 0.2,
                        "count": 0
                      },
                      {
                        "bin_start": 0.2,
                        "bin_end": 0.30000000000000004,
                        "count": 0
                      },
                      {
                        "bin_start": 0.30000000000000004,
                        "bin_end": 0.4,
                        "count": 0
                      },
                      {
                        "bin_start": 0.4,
                        "bin_end": 0.5,
                        "count": 0
                      },
                      {
                        "bin_start": 0.5,
                        "bin_end": 0.6000000000000001,
                        "count": 0
                      },
                      {
                        "bin_start": 0.6000000000000001,
                        "bin_end": 0.7000000000000001,
                        "count": 0
                      },
                      {
                        "bin_start": 0.7000000000000001,
                        "bin_end": 0.8,
                        "count": 0
                      },
                      {
                        "bin_start": 0.8,
                        "bin_end": 0.9,
                        "count": 0
                      },
                      {
                        "bin_start": 0.9,
                        "bin_end": 1,
                        "count": 0
                      }
                    ]
                  }
                },
                {
                  "name": "wk76",
                  "dtype": "float64",
                  "stats": {
                    "unique_count": 0,
                    "nan_count": 5,
                    "min": null,
                    "max": null,
                    "histogram": [
                      {
                        "bin_start": 0,
                        "bin_end": 0.1,
                        "count": 0
                      },
                      {
                        "bin_start": 0.1,
                        "bin_end": 0.2,
                        "count": 0
                      },
                      {
                        "bin_start": 0.2,
                        "bin_end": 0.30000000000000004,
                        "count": 0
                      },
                      {
                        "bin_start": 0.30000000000000004,
                        "bin_end": 0.4,
                        "count": 0
                      },
                      {
                        "bin_start": 0.4,
                        "bin_end": 0.5,
                        "count": 0
                      },
                      {
                        "bin_start": 0.5,
                        "bin_end": 0.6000000000000001,
                        "count": 0
                      },
                      {
                        "bin_start": 0.6000000000000001,
                        "bin_end": 0.7000000000000001,
                        "count": 0
                      },
                      {
                        "bin_start": 0.7000000000000001,
                        "bin_end": 0.8,
                        "count": 0
                      },
                      {
                        "bin_start": 0.8,
                        "bin_end": 0.9,
                        "count": 0
                      },
                      {
                        "bin_start": 0.9,
                        "bin_end": 1,
                        "count": 0
                      }
                    ]
                  }
                },
                {
                  "name": "_deepnote_index_column",
                  "dtype": "int64"
                }
              ],
              "rows_top": [
                {
                  "year": 2000,
                  "artist": "2 Pac",
                  "track": "Baby Don't Cry (Keep...",
                  "time": "4:22",
                  "date.entered": "2000-02-26",
                  "wk1": 87,
                  "wk2": 82,
                  "wk3": 72,
                  "wk4": "77.0",
                  "wk5": "87.0",
                  "wk6": "94.0",
                  "wk7": "99.0",
                  "wk8": "nan",
                  "wk9": "nan",
                  "wk10": "nan",
                  "wk11": "nan",
                  "wk12": "nan",
                  "wk13": "nan",
                  "wk14": "nan",
                  "wk15": "nan",
                  "wk16": "nan",
                  "wk17": "nan",
                  "wk18": "nan",
                  "wk19": "nan",
                  "wk20": "nan",
                  "wk21": "nan",
                  "wk22": "nan",
                  "wk23": "nan",
                  "wk24": "nan",
                  "wk25": "nan",
                  "wk26": "nan",
                  "wk27": "nan",
                  "wk28": "nan",
                  "wk29": "nan",
                  "wk30": "nan",
                  "wk31": "nan",
                  "wk32": "nan",
                  "wk33": "nan",
                  "wk34": "nan",
                  "wk35": "nan",
                  "wk36": "nan",
                  "wk37": "nan",
                  "wk38": "nan",
                  "wk39": "nan",
                  "wk40": "nan",
                  "wk41": "nan",
                  "wk42": "nan",
                  "wk43": "nan",
                  "wk44": "nan",
                  "wk45": "nan",
                  "wk46": "nan",
                  "wk47": "nan",
                  "wk48": "nan",
                  "wk49": "nan",
                  "wk50": "nan",
                  "wk51": "nan",
                  "wk52": "nan",
                  "wk53": "nan",
                  "wk54": "nan",
                  "wk55": "nan",
                  "wk56": "nan",
                  "wk57": "nan",
                  "wk58": "nan",
                  "wk59": "nan",
                  "wk60": "nan",
                  "wk61": "nan",
                  "wk62": "nan",
                  "wk63": "nan",
                  "wk64": "nan",
                  "wk65": "nan",
                  "wk66": "nan",
                  "wk67": "nan",
                  "wk68": "nan",
                  "wk69": "nan",
                  "wk70": "nan",
                  "wk71": "nan",
                  "wk72": "nan",
                  "wk73": "nan",
                  "wk74": "nan",
                  "wk75": "nan",
                  "wk76": "nan",
                  "_deepnote_index_column": 0
                },
                {
                  "year": 2000,
                  "artist": "2Ge+her",
                  "track": "The Hardest Part Of ...",
                  "time": "3:15",
                  "date.entered": "2000-09-02",
                  "wk1": 91,
                  "wk2": 87,
                  "wk3": 92,
                  "wk4": "nan",
                  "wk5": "nan",
                  "wk6": "nan",
                  "wk7": "nan",
                  "wk8": "nan",
                  "wk9": "nan",
                  "wk10": "nan",
                  "wk11": "nan",
                  "wk12": "nan",
                  "wk13": "nan",
                  "wk14": "nan",
                  "wk15": "nan",
                  "wk16": "nan",
                  "wk17": "nan",
                  "wk18": "nan",
                  "wk19": "nan",
                  "wk20": "nan",
                  "wk21": "nan",
                  "wk22": "nan",
                  "wk23": "nan",
                  "wk24": "nan",
                  "wk25": "nan",
                  "wk26": "nan",
                  "wk27": "nan",
                  "wk28": "nan",
                  "wk29": "nan",
                  "wk30": "nan",
                  "wk31": "nan",
                  "wk32": "nan",
                  "wk33": "nan",
                  "wk34": "nan",
                  "wk35": "nan",
                  "wk36": "nan",
                  "wk37": "nan",
                  "wk38": "nan",
                  "wk39": "nan",
                  "wk40": "nan",
                  "wk41": "nan",
                  "wk42": "nan",
                  "wk43": "nan",
                  "wk44": "nan",
                  "wk45": "nan",
                  "wk46": "nan",
                  "wk47": "nan",
                  "wk48": "nan",
                  "wk49": "nan",
                  "wk50": "nan",
                  "wk51": "nan",
                  "wk52": "nan",
                  "wk53": "nan",
                  "wk54": "nan",
                  "wk55": "nan",
                  "wk56": "nan",
                  "wk57": "nan",
                  "wk58": "nan",
                  "wk59": "nan",
                  "wk60": "nan",
                  "wk61": "nan",
                  "wk62": "nan",
                  "wk63": "nan",
                  "wk64": "nan",
                  "wk65": "nan",
                  "wk66": "nan",
                  "wk67": "nan",
                  "wk68": "nan",
                  "wk69": "nan",
                  "wk70": "nan",
                  "wk71": "nan",
                  "wk72": "nan",
                  "wk73": "nan",
                  "wk74": "nan",
                  "wk75": "nan",
                  "wk76": "nan",
                  "_deepnote_index_column": 1
                },
                {
                  "year": 2000,
                  "artist": "3 Doors Down",
                  "track": "Kryptonite",
                  "time": "3:53",
                  "date.entered": "2000-04-08",
                  "wk1": 81,
                  "wk2": 70,
                  "wk3": 68,
                  "wk4": "67.0",
                  "wk5": "66.0",
                  "wk6": "57.0",
                  "wk7": "54.0",
                  "wk8": "53.0",
                  "wk9": "51.0",
                  "wk10": "51.0",
                  "wk11": "51.0",
                  "wk12": "51.0",
                  "wk13": "47.0",
                  "wk14": "44.0",
                  "wk15": "38.0",
                  "wk16": "28.0",
                  "wk17": "22.0",
                  "wk18": "18.0",
                  "wk19": "18.0",
                  "wk20": "14.0",
                  "wk21": "12.0",
                  "wk22": "7.0",
                  "wk23": "6.0",
                  "wk24": "6.0",
                  "wk25": "6.0",
                  "wk26": "5.0",
                  "wk27": "5.0",
                  "wk28": "4.0",
                  "wk29": "4.0",
                  "wk30": "4.0",
                  "wk31": "4.0",
                  "wk32": "3.0",
                  "wk33": "3.0",
                  "wk34": "3.0",
                  "wk35": "4.0",
                  "wk36": "5.0",
                  "wk37": "5.0",
                  "wk38": "9.0",
                  "wk39": "9.0",
                  "wk40": "15.0",
                  "wk41": "14.0",
                  "wk42": "13.0",
                  "wk43": "14.0",
                  "wk44": "16.0",
                  "wk45": "17.0",
                  "wk46": "21.0",
                  "wk47": "22.0",
                  "wk48": "24.0",
                  "wk49": "28.0",
                  "wk50": "33.0",
                  "wk51": "42.0",
                  "wk52": "42.0",
                  "wk53": "49.0",
                  "wk54": "nan",
                  "wk55": "nan",
                  "wk56": "nan",
                  "wk57": "nan",
                  "wk58": "nan",
                  "wk59": "nan",
                  "wk60": "nan",
                  "wk61": "nan",
                  "wk62": "nan",
                  "wk63": "nan",
                  "wk64": "nan",
                  "wk65": "nan",
                  "wk66": "nan",
                  "wk67": "nan",
                  "wk68": "nan",
                  "wk69": "nan",
                  "wk70": "nan",
                  "wk71": "nan",
                  "wk72": "nan",
                  "wk73": "nan",
                  "wk74": "nan",
                  "wk75": "nan",
                  "wk76": "nan",
                  "_deepnote_index_column": 2
                },
                {
                  "year": 2000,
                  "artist": "3 Doors Down",
                  "track": "Loser",
                  "time": "4:24",
                  "date.entered": "2000-10-21",
                  "wk1": 76,
                  "wk2": 76,
                  "wk3": 72,
                  "wk4": "69.0",
                  "wk5": "67.0",
                  "wk6": "65.0",
                  "wk7": "55.0",
                  "wk8": "59.0",
                  "wk9": "62.0",
                  "wk10": "61.0",
                  "wk11": "61.0",
                  "wk12": "59.0",
                  "wk13": "61.0",
                  "wk14": "66.0",
                  "wk15": "72.0",
                  "wk16": "76.0",
                  "wk17": "75.0",
                  "wk18": "67.0",
                  "wk19": "73.0",
                  "wk20": "70.0",
                  "wk21": "nan",
                  "wk22": "nan",
                  "wk23": "nan",
                  "wk24": "nan",
                  "wk25": "nan",
                  "wk26": "nan",
                  "wk27": "nan",
                  "wk28": "nan",
                  "wk29": "nan",
                  "wk30": "nan",
                  "wk31": "nan",
                  "wk32": "nan",
                  "wk33": "nan",
                  "wk34": "nan",
                  "wk35": "nan",
                  "wk36": "nan",
                  "wk37": "nan",
                  "wk38": "nan",
                  "wk39": "nan",
                  "wk40": "nan",
                  "wk41": "nan",
                  "wk42": "nan",
                  "wk43": "nan",
                  "wk44": "nan",
                  "wk45": "nan",
                  "wk46": "nan",
                  "wk47": "nan",
                  "wk48": "nan",
                  "wk49": "nan",
                  "wk50": "nan",
                  "wk51": "nan",
                  "wk52": "nan",
                  "wk53": "nan",
                  "wk54": "nan",
                  "wk55": "nan",
                  "wk56": "nan",
                  "wk57": "nan",
                  "wk58": "nan",
                  "wk59": "nan",
                  "wk60": "nan",
                  "wk61": "nan",
                  "wk62": "nan",
                  "wk63": "nan",
                  "wk64": "nan",
                  "wk65": "nan",
                  "wk66": "nan",
                  "wk67": "nan",
                  "wk68": "nan",
                  "wk69": "nan",
                  "wk70": "nan",
                  "wk71": "nan",
                  "wk72": "nan",
                  "wk73": "nan",
                  "wk74": "nan",
                  "wk75": "nan",
                  "wk76": "nan",
                  "_deepnote_index_column": 3
                },
                {
                  "year": 2000,
                  "artist": "504 Boyz",
                  "track": "Wobble Wobble",
                  "time": "3:35",
                  "date.entered": "2000-04-15",
                  "wk1": 57,
                  "wk2": 34,
                  "wk3": 25,
                  "wk4": "17.0",
                  "wk5": "17.0",
                  "wk6": "31.0",
                  "wk7": "36.0",
                  "wk8": "49.0",
                  "wk9": "53.0",
                  "wk10": "57.0",
                  "wk11": "64.0",
                  "wk12": "70.0",
                  "wk13": "75.0",
                  "wk14": "76.0",
                  "wk15": "78.0",
                  "wk16": "85.0",
                  "wk17": "92.0",
                  "wk18": "96.0",
                  "wk19": "nan",
                  "wk20": "nan",
                  "wk21": "nan",
                  "wk22": "nan",
                  "wk23": "nan",
                  "wk24": "nan",
                  "wk25": "nan",
                  "wk26": "nan",
                  "wk27": "nan",
                  "wk28": "nan",
                  "wk29": "nan",
                  "wk30": "nan",
                  "wk31": "nan",
                  "wk32": "nan",
                  "wk33": "nan",
                  "wk34": "nan",
                  "wk35": "nan",
                  "wk36": "nan",
                  "wk37": "nan",
                  "wk38": "nan",
                  "wk39": "nan",
                  "wk40": "nan",
                  "wk41": "nan",
                  "wk42": "nan",
                  "wk43": "nan",
                  "wk44": "nan",
                  "wk45": "nan",
                  "wk46": "nan",
                  "wk47": "nan",
                  "wk48": "nan",
                  "wk49": "nan",
                  "wk50": "nan",
                  "wk51": "nan",
                  "wk52": "nan",
                  "wk53": "nan",
                  "wk54": "nan",
                  "wk55": "nan",
                  "wk56": "nan",
                  "wk57": "nan",
                  "wk58": "nan",
                  "wk59": "nan",
                  "wk60": "nan",
                  "wk61": "nan",
                  "wk62": "nan",
                  "wk63": "nan",
                  "wk64": "nan",
                  "wk65": "nan",
                  "wk66": "nan",
                  "wk67": "nan",
                  "wk68": "nan",
                  "wk69": "nan",
                  "wk70": "nan",
                  "wk71": "nan",
                  "wk72": "nan",
                  "wk73": "nan",
                  "wk74": "nan",
                  "wk75": "nan",
                  "wk76": "nan",
                  "_deepnote_index_column": 4
                }
              ],
              "rows_bottom": null
            },
            "text/plain": "   year        artist                    track  time date.entered  wk1   wk2  \\\n0  2000         2 Pac  Baby Don't Cry (Keep...  4:22   2000-02-26   87  82.0   \n1  2000       2Ge+her  The Hardest Part Of ...  3:15   2000-09-02   91  87.0   \n2  2000  3 Doors Down               Kryptonite  3:53   2000-04-08   81  70.0   \n3  2000  3 Doors Down                    Loser  4:24   2000-10-21   76  76.0   \n4  2000      504 Boyz            Wobble Wobble  3:35   2000-04-15   57  34.0   \n\n    wk3   wk4   wk5  ...  wk67  wk68  wk69  wk70  wk71  wk72  wk73  wk74  \\\n0  72.0  77.0  87.0  ...   NaN   NaN   NaN   NaN   NaN   NaN   NaN   NaN   \n1  92.0   NaN   NaN  ...   NaN   NaN   NaN   NaN   NaN   NaN   NaN   NaN   \n2  68.0  67.0  66.0  ...   NaN   NaN   NaN   NaN   NaN   NaN   NaN   NaN   \n3  72.0  69.0  67.0  ...   NaN   NaN   NaN   NaN   NaN   NaN   NaN   NaN   \n4  25.0  17.0  17.0  ...   NaN   NaN   NaN   NaN   NaN   NaN   NaN   NaN   \n\n   wk75  wk76  \n0   NaN   NaN  \n1   NaN   NaN  \n2   NaN   NaN  \n3   NaN   NaN  \n4   NaN   NaN  \n\n[5 rows x 81 columns]",
            "text/html": "<div>\n<style scoped>\n    .dataframe tbody tr th:only-of-type {\n        vertical-align: middle;\n    }\n\n    .dataframe tbody tr th {\n        vertical-align: top;\n    }\n\n    .dataframe thead th {\n        text-align: right;\n    }\n</style>\n<table border=\"1\" class=\"dataframe\">\n  <thead>\n    <tr style=\"text-align: right;\">\n      <th></th>\n      <th>year</th>\n      <th>artist</th>\n      <th>track</th>\n      <th>time</th>\n      <th>date.entered</th>\n      <th>wk1</th>\n      <th>wk2</th>\n      <th>wk3</th>\n      <th>wk4</th>\n      <th>wk5</th>\n      <th>...</th>\n      <th>wk67</th>\n      <th>wk68</th>\n      <th>wk69</th>\n      <th>wk70</th>\n      <th>wk71</th>\n      <th>wk72</th>\n      <th>wk73</th>\n      <th>wk74</th>\n      <th>wk75</th>\n      <th>wk76</th>\n    </tr>\n  </thead>\n  <tbody>\n    <tr>\n      <th>0</th>\n      <td>2000</td>\n      <td>2 Pac</td>\n      <td>Baby Don't Cry (Keep...</td>\n      <td>4:22</td>\n      <td>2000-02-26</td>\n      <td>87</td>\n      <td>82.0</td>\n      <td>72.0</td>\n      <td>77.0</td>\n      <td>87.0</td>\n      <td>...</td>\n      <td>NaN</td>\n      <td>NaN</td>\n      <td>NaN</td>\n      <td>NaN</td>\n      <td>NaN</td>\n      <td>NaN</td>\n      <td>NaN</td>\n      <td>NaN</td>\n      <td>NaN</td>\n      <td>NaN</td>\n    </tr>\n    <tr>\n      <th>1</th>\n      <td>2000</td>\n      <td>2Ge+her</td>\n      <td>The Hardest Part Of ...</td>\n      <td>3:15</td>\n      <td>2000-09-02</td>\n      <td>91</td>\n      <td>87.0</td>\n      <td>92.0</td>\n      <td>NaN</td>\n      <td>NaN</td>\n      <td>...</td>\n      <td>NaN</td>\n      <td>NaN</td>\n      <td>NaN</td>\n      <td>NaN</td>\n      <td>NaN</td>\n      <td>NaN</td>\n      <td>NaN</td>\n      <td>NaN</td>\n      <td>NaN</td>\n      <td>NaN</td>\n    </tr>\n    <tr>\n      <th>2</th>\n      <td>2000</td>\n      <td>3 Doors Down</td>\n      <td>Kryptonite</td>\n      <td>3:53</td>\n      <td>2000-04-08</td>\n      <td>81</td>\n      <td>70.0</td>\n      <td>68.0</td>\n      <td>67.0</td>\n      <td>66.0</td>\n      <td>...</td>\n      <td>NaN</td>\n      <td>NaN</td>\n      <td>NaN</td>\n      <td>NaN</td>\n      <td>NaN</td>\n      <td>NaN</td>\n      <td>NaN</td>\n      <td>NaN</td>\n      <td>NaN</td>\n      <td>NaN</td>\n    </tr>\n    <tr>\n      <th>3</th>\n      <td>2000</td>\n      <td>3 Doors Down</td>\n      <td>Loser</td>\n      <td>4:24</td>\n      <td>2000-10-21</td>\n      <td>76</td>\n      <td>76.0</td>\n      <td>72.0</td>\n      <td>69.0</td>\n      <td>67.0</td>\n      <td>...</td>\n      <td>NaN</td>\n      <td>NaN</td>\n      <td>NaN</td>\n      <td>NaN</td>\n      <td>NaN</td>\n      <td>NaN</td>\n      <td>NaN</td>\n      <td>NaN</td>\n      <td>NaN</td>\n      <td>NaN</td>\n    </tr>\n    <tr>\n      <th>4</th>\n      <td>2000</td>\n      <td>504 Boyz</td>\n      <td>Wobble Wobble</td>\n      <td>3:35</td>\n      <td>2000-04-15</td>\n      <td>57</td>\n      <td>34.0</td>\n      <td>25.0</td>\n      <td>17.0</td>\n      <td>17.0</td>\n      <td>...</td>\n      <td>NaN</td>\n      <td>NaN</td>\n      <td>NaN</td>\n      <td>NaN</td>\n      <td>NaN</td>\n      <td>NaN</td>\n      <td>NaN</td>\n      <td>NaN</td>\n      <td>NaN</td>\n      <td>NaN</td>\n    </tr>\n  </tbody>\n</table>\n<p>5 rows × 81 columns</p>\n</div>"
          },
          "metadata": {}
        }
      ]
    },
    {
      "cell_type": "code",
      "metadata": {
        "tags": [],
        "cell_id": "00014-accbfecf-dfec-44da-b3fa-24e378b52290",
        "deepnote_to_be_reexecuted": false,
        "source_hash": "c2e66b9c",
        "execution_start": 1620038034510,
        "execution_millis": 19,
        "deepnote_cell_type": "code"
      },
      "source": "# as we have more than one to keep use the brackets to add the others\nbillboard_melt=pd.melt(\n    billboard, \n    id_vars=['year', 'artist', 'track', 'time', 'date.entered'],\n    var_name='week',\n    value_name='rating'\n)",
      "execution_count": 10,
      "outputs": []
    },
    {
      "cell_type": "code",
      "metadata": {
        "tags": [],
        "cell_id": "00015-f0e557f0-5b9f-487d-8ca4-d7deb5d681b2",
        "deepnote_to_be_reexecuted": false,
        "source_hash": "350d0e98",
        "execution_start": 1620038034535,
        "execution_millis": 36,
        "deepnote_cell_type": "code"
      },
      "source": "billboard_melt.head() #top 5",
      "execution_count": 11,
      "outputs": [
        {
          "output_type": "execute_result",
          "execution_count": 11,
          "data": {
            "application/vnd.deepnote.dataframe.v2+json": {
              "row_count": 5,
              "column_count": 7,
              "columns": [
                {
                  "name": "year",
                  "dtype": "int64",
                  "stats": {
                    "unique_count": 1,
                    "nan_count": 0,
                    "min": "2000",
                    "max": "2000",
                    "histogram": [
                      {
                        "bin_start": 1999.5,
                        "bin_end": 1999.6,
                        "count": 0
                      },
                      {
                        "bin_start": 1999.6,
                        "bin_end": 1999.7,
                        "count": 0
                      },
                      {
                        "bin_start": 1999.7,
                        "bin_end": 1999.8,
                        "count": 0
                      },
                      {
                        "bin_start": 1999.8,
                        "bin_end": 1999.9,
                        "count": 0
                      },
                      {
                        "bin_start": 1999.9,
                        "bin_end": 2000,
                        "count": 0
                      },
                      {
                        "bin_start": 2000,
                        "bin_end": 2000.1,
                        "count": 5
                      },
                      {
                        "bin_start": 2000.1,
                        "bin_end": 2000.2,
                        "count": 0
                      },
                      {
                        "bin_start": 2000.2,
                        "bin_end": 2000.3,
                        "count": 0
                      },
                      {
                        "bin_start": 2000.3,
                        "bin_end": 2000.4,
                        "count": 0
                      },
                      {
                        "bin_start": 2000.4,
                        "bin_end": 2000.5,
                        "count": 0
                      }
                    ]
                  }
                },
                {
                  "name": "artist",
                  "dtype": "object",
                  "stats": {
                    "unique_count": 4,
                    "nan_count": 0,
                    "categories": [
                      {
                        "name": "3 Doors Down",
                        "count": 2
                      },
                      {
                        "name": "2 Pac",
                        "count": 1
                      },
                      {
                        "name": "2 others",
                        "count": 2
                      }
                    ]
                  }
                },
                {
                  "name": "track",
                  "dtype": "object",
                  "stats": {
                    "unique_count": 5,
                    "nan_count": 0,
                    "categories": [
                      {
                        "name": "Baby Don't Cry (Keep...",
                        "count": 1
                      },
                      {
                        "name": "The Hardest Part Of ...",
                        "count": 1
                      },
                      {
                        "name": "3 others",
                        "count": 3
                      }
                    ]
                  }
                },
                {
                  "name": "time",
                  "dtype": "object",
                  "stats": {
                    "unique_count": 5,
                    "nan_count": 0,
                    "categories": [
                      {
                        "name": "4:22",
                        "count": 1
                      },
                      {
                        "name": "3:15",
                        "count": 1
                      },
                      {
                        "name": "3 others",
                        "count": 3
                      }
                    ]
                  }
                },
                {
                  "name": "date.entered",
                  "dtype": "object",
                  "stats": {
                    "unique_count": 5,
                    "nan_count": 0,
                    "categories": [
                      {
                        "name": "2000-02-26",
                        "count": 1
                      },
                      {
                        "name": "2000-09-02",
                        "count": 1
                      },
                      {
                        "name": "3 others",
                        "count": 3
                      }
                    ]
                  }
                },
                {
                  "name": "week",
                  "dtype": "object",
                  "stats": {
                    "unique_count": 1,
                    "nan_count": 0,
                    "categories": [
                      {
                        "name": "wk1",
                        "count": 5
                      }
                    ]
                  }
                },
                {
                  "name": "rating",
                  "dtype": "float64",
                  "stats": {
                    "unique_count": 5,
                    "nan_count": 0,
                    "min": "57.0",
                    "max": "91.0",
                    "histogram": [
                      {
                        "bin_start": 57,
                        "bin_end": 60.4,
                        "count": 1
                      },
                      {
                        "bin_start": 60.4,
                        "bin_end": 63.8,
                        "count": 0
                      },
                      {
                        "bin_start": 63.8,
                        "bin_end": 67.2,
                        "count": 0
                      },
                      {
                        "bin_start": 67.2,
                        "bin_end": 70.6,
                        "count": 0
                      },
                      {
                        "bin_start": 70.6,
                        "bin_end": 74,
                        "count": 0
                      },
                      {
                        "bin_start": 74,
                        "bin_end": 77.4,
                        "count": 1
                      },
                      {
                        "bin_start": 77.4,
                        "bin_end": 80.8,
                        "count": 0
                      },
                      {
                        "bin_start": 80.8,
                        "bin_end": 84.2,
                        "count": 1
                      },
                      {
                        "bin_start": 84.2,
                        "bin_end": 87.6,
                        "count": 1
                      },
                      {
                        "bin_start": 87.6,
                        "bin_end": 91,
                        "count": 1
                      }
                    ]
                  }
                },
                {
                  "name": "_deepnote_index_column",
                  "dtype": "int64"
                }
              ],
              "rows_top": [
                {
                  "year": 2000,
                  "artist": "2 Pac",
                  "track": "Baby Don't Cry (Keep...",
                  "time": "4:22",
                  "date.entered": "2000-02-26",
                  "week": "wk1",
                  "rating": 87,
                  "_deepnote_index_column": 0
                },
                {
                  "year": 2000,
                  "artist": "2Ge+her",
                  "track": "The Hardest Part Of ...",
                  "time": "3:15",
                  "date.entered": "2000-09-02",
                  "week": "wk1",
                  "rating": 91,
                  "_deepnote_index_column": 1
                },
                {
                  "year": 2000,
                  "artist": "3 Doors Down",
                  "track": "Kryptonite",
                  "time": "3:53",
                  "date.entered": "2000-04-08",
                  "week": "wk1",
                  "rating": 81,
                  "_deepnote_index_column": 2
                },
                {
                  "year": 2000,
                  "artist": "3 Doors Down",
                  "track": "Loser",
                  "time": "4:24",
                  "date.entered": "2000-10-21",
                  "week": "wk1",
                  "rating": 76,
                  "_deepnote_index_column": 3
                },
                {
                  "year": 2000,
                  "artist": "504 Boyz",
                  "track": "Wobble Wobble",
                  "time": "3:35",
                  "date.entered": "2000-04-15",
                  "week": "wk1",
                  "rating": 57,
                  "_deepnote_index_column": 4
                }
              ],
              "rows_bottom": null
            },
            "text/plain": "   year        artist                    track  time date.entered week  rating\n0  2000         2 Pac  Baby Don't Cry (Keep...  4:22   2000-02-26  wk1    87.0\n1  2000       2Ge+her  The Hardest Part Of ...  3:15   2000-09-02  wk1    91.0\n2  2000  3 Doors Down               Kryptonite  3:53   2000-04-08  wk1    81.0\n3  2000  3 Doors Down                    Loser  4:24   2000-10-21  wk1    76.0\n4  2000      504 Boyz            Wobble Wobble  3:35   2000-04-15  wk1    57.0",
            "text/html": "<div>\n<style scoped>\n    .dataframe tbody tr th:only-of-type {\n        vertical-align: middle;\n    }\n\n    .dataframe tbody tr th {\n        vertical-align: top;\n    }\n\n    .dataframe thead th {\n        text-align: right;\n    }\n</style>\n<table border=\"1\" class=\"dataframe\">\n  <thead>\n    <tr style=\"text-align: right;\">\n      <th></th>\n      <th>year</th>\n      <th>artist</th>\n      <th>track</th>\n      <th>time</th>\n      <th>date.entered</th>\n      <th>week</th>\n      <th>rating</th>\n    </tr>\n  </thead>\n  <tbody>\n    <tr>\n      <th>0</th>\n      <td>2000</td>\n      <td>2 Pac</td>\n      <td>Baby Don't Cry (Keep...</td>\n      <td>4:22</td>\n      <td>2000-02-26</td>\n      <td>wk1</td>\n      <td>87.0</td>\n    </tr>\n    <tr>\n      <th>1</th>\n      <td>2000</td>\n      <td>2Ge+her</td>\n      <td>The Hardest Part Of ...</td>\n      <td>3:15</td>\n      <td>2000-09-02</td>\n      <td>wk1</td>\n      <td>91.0</td>\n    </tr>\n    <tr>\n      <th>2</th>\n      <td>2000</td>\n      <td>3 Doors Down</td>\n      <td>Kryptonite</td>\n      <td>3:53</td>\n      <td>2000-04-08</td>\n      <td>wk1</td>\n      <td>81.0</td>\n    </tr>\n    <tr>\n      <th>3</th>\n      <td>2000</td>\n      <td>3 Doors Down</td>\n      <td>Loser</td>\n      <td>4:24</td>\n      <td>2000-10-21</td>\n      <td>wk1</td>\n      <td>76.0</td>\n    </tr>\n    <tr>\n      <th>4</th>\n      <td>2000</td>\n      <td>504 Boyz</td>\n      <td>Wobble Wobble</td>\n      <td>3:35</td>\n      <td>2000-04-15</td>\n      <td>wk1</td>\n      <td>57.0</td>\n    </tr>\n  </tbody>\n</table>\n</div>"
          },
          "metadata": {}
        }
      ]
    },
    {
      "cell_type": "code",
      "metadata": {
        "tags": [],
        "cell_id": "00016-09fdb016-ebf2-4af7-8cc3-db2be236318d",
        "deepnote_to_be_reexecuted": false,
        "source_hash": "e8c67543",
        "execution_start": 1620038034580,
        "execution_millis": 14,
        "deepnote_cell_type": "code"
      },
      "source": "billboard.shape #orignal DataFrame",
      "execution_count": 12,
      "outputs": [
        {
          "output_type": "execute_result",
          "execution_count": 12,
          "data": {
            "text/plain": "(317, 81)"
          },
          "metadata": {}
        }
      ]
    },
    {
      "cell_type": "code",
      "metadata": {
        "tags": [],
        "cell_id": "00016-9c7b638b-ecf5-4fcd-af5d-94a986809d7c",
        "deepnote_to_be_reexecuted": false,
        "source_hash": "a0b4f671",
        "execution_start": 1620038034631,
        "execution_millis": 3219631,
        "deepnote_cell_type": "code"
      },
      "source": "billboard_melt.shape # result after melting",
      "execution_count": 13,
      "outputs": [
        {
          "output_type": "execute_result",
          "execution_count": 13,
          "data": {
            "text/plain": "(24092, 7)"
          },
          "metadata": {}
        }
      ]
    },
    {
      "cell_type": "markdown",
      "source": "## 4. Addressing multiple data store in one column",
      "metadata": {
        "tags": [],
        "cell_id": "00018-0ef7f662-1e2d-4773-a49c-ece49dbe31fa",
        "deepnote_cell_type": "markdown"
      }
    },
    {
      "cell_type": "code",
      "metadata": {
        "tags": [],
        "cell_id": "00019-16f656a7-fb82-4f4c-b34b-66ac23a2e7ce",
        "deepnote_to_be_reexecuted": false,
        "source_hash": "eb0660b2",
        "execution_start": 1620039508895,
        "execution_millis": 5,
        "deepnote_cell_type": "code"
      },
      "source": "ebola= pd.read_csv('/work/country_timeseries.csv') # load data",
      "execution_count": 47,
      "outputs": []
    },
    {
      "cell_type": "code",
      "metadata": {
        "tags": [],
        "cell_id": "00020-a09803f3-2368-4143-b8f8-a21883116309",
        "deepnote_to_be_reexecuted": false,
        "source_hash": "7bd6e382",
        "execution_start": 1620039511630,
        "execution_millis": 76,
        "deepnote_cell_type": "code"
      },
      "source": "ebola.head()# top5",
      "execution_count": 48,
      "outputs": [
        {
          "output_type": "execute_result",
          "execution_count": 48,
          "data": {
            "application/vnd.deepnote.dataframe.v2+json": {
              "row_count": 5,
              "column_count": 18,
              "columns": [
                {
                  "name": "Date",
                  "dtype": "object",
                  "stats": {
                    "unique_count": 5,
                    "nan_count": 0,
                    "categories": [
                      {
                        "name": "1/5/2015",
                        "count": 1
                      },
                      {
                        "name": "1/4/2015",
                        "count": 1
                      },
                      {
                        "name": "3 others",
                        "count": 3
                      }
                    ]
                  }
                },
                {
                  "name": "Day",
                  "dtype": "int64",
                  "stats": {
                    "unique_count": 5,
                    "nan_count": 0,
                    "min": "284",
                    "max": "289",
                    "histogram": [
                      {
                        "bin_start": 284,
                        "bin_end": 284.5,
                        "count": 1
                      },
                      {
                        "bin_start": 284.5,
                        "bin_end": 285,
                        "count": 0
                      },
                      {
                        "bin_start": 285,
                        "bin_end": 285.5,
                        "count": 0
                      },
                      {
                        "bin_start": 285.5,
                        "bin_end": 286,
                        "count": 0
                      },
                      {
                        "bin_start": 286,
                        "bin_end": 286.5,
                        "count": 1
                      },
                      {
                        "bin_start": 286.5,
                        "bin_end": 287,
                        "count": 0
                      },
                      {
                        "bin_start": 287,
                        "bin_end": 287.5,
                        "count": 1
                      },
                      {
                        "bin_start": 287.5,
                        "bin_end": 288,
                        "count": 0
                      },
                      {
                        "bin_start": 288,
                        "bin_end": 288.5,
                        "count": 1
                      },
                      {
                        "bin_start": 288.5,
                        "bin_end": 289,
                        "count": 1
                      }
                    ]
                  }
                },
                {
                  "name": "Cases_Guinea",
                  "dtype": "float64",
                  "stats": {
                    "unique_count": 4,
                    "nan_count": 1,
                    "min": "2730.0",
                    "max": "2776.0",
                    "histogram": [
                      {
                        "bin_start": 2730,
                        "bin_end": 2734.6,
                        "count": 1
                      },
                      {
                        "bin_start": 2734.6,
                        "bin_end": 2739.2,
                        "count": 0
                      },
                      {
                        "bin_start": 2739.2,
                        "bin_end": 2743.8,
                        "count": 0
                      },
                      {
                        "bin_start": 2743.8,
                        "bin_end": 2748.4,
                        "count": 0
                      },
                      {
                        "bin_start": 2748.4,
                        "bin_end": 2753,
                        "count": 0
                      },
                      {
                        "bin_start": 2753,
                        "bin_end": 2757.6,
                        "count": 0
                      },
                      {
                        "bin_start": 2757.6,
                        "bin_end": 2762.2,
                        "count": 0
                      },
                      {
                        "bin_start": 2762.2,
                        "bin_end": 2766.8,
                        "count": 0
                      },
                      {
                        "bin_start": 2766.8,
                        "bin_end": 2771.4,
                        "count": 1
                      },
                      {
                        "bin_start": 2771.4,
                        "bin_end": 2776,
                        "count": 2
                      }
                    ]
                  }
                },
                {
                  "name": "Cases_Liberia",
                  "dtype": "float64",
                  "stats": {
                    "unique_count": 3,
                    "nan_count": 2,
                    "min": "8115.0",
                    "max": "8166.0",
                    "histogram": [
                      {
                        "bin_start": 8115,
                        "bin_end": 8120.1,
                        "count": 1
                      },
                      {
                        "bin_start": 8120.1,
                        "bin_end": 8125.2,
                        "count": 0
                      },
                      {
                        "bin_start": 8125.2,
                        "bin_end": 8130.3,
                        "count": 0
                      },
                      {
                        "bin_start": 8130.3,
                        "bin_end": 8135.4,
                        "count": 0
                      },
                      {
                        "bin_start": 8135.4,
                        "bin_end": 8140.5,
                        "count": 0
                      },
                      {
                        "bin_start": 8140.5,
                        "bin_end": 8145.6,
                        "count": 0
                      },
                      {
                        "bin_start": 8145.6,
                        "bin_end": 8150.7,
                        "count": 0
                      },
                      {
                        "bin_start": 8150.7,
                        "bin_end": 8155.8,
                        "count": 0
                      },
                      {
                        "bin_start": 8155.8,
                        "bin_end": 8160.9,
                        "count": 1
                      },
                      {
                        "bin_start": 8160.9,
                        "bin_end": 8166,
                        "count": 1
                      }
                    ]
                  }
                },
                {
                  "name": "Cases_SierraLeone",
                  "dtype": "float64",
                  "stats": {
                    "unique_count": 4,
                    "nan_count": 1,
                    "min": "9633.0",
                    "max": "10030.0",
                    "histogram": [
                      {
                        "bin_start": 9633,
                        "bin_end": 9672.7,
                        "count": 1
                      },
                      {
                        "bin_start": 9672.7,
                        "bin_end": 9712.4,
                        "count": 0
                      },
                      {
                        "bin_start": 9712.4,
                        "bin_end": 9752.1,
                        "count": 1
                      },
                      {
                        "bin_start": 9752.1,
                        "bin_end": 9791.8,
                        "count": 1
                      },
                      {
                        "bin_start": 9791.8,
                        "bin_end": 9831.5,
                        "count": 0
                      },
                      {
                        "bin_start": 9831.5,
                        "bin_end": 9871.2,
                        "count": 0
                      },
                      {
                        "bin_start": 9871.2,
                        "bin_end": 9910.9,
                        "count": 0
                      },
                      {
                        "bin_start": 9910.9,
                        "bin_end": 9950.6,
                        "count": 0
                      },
                      {
                        "bin_start": 9950.6,
                        "bin_end": 9990.3,
                        "count": 0
                      },
                      {
                        "bin_start": 9990.3,
                        "bin_end": 10030,
                        "count": 1
                      }
                    ]
                  }
                },
                {
                  "name": "Cases_Nigeria",
                  "dtype": "float64",
                  "stats": {
                    "unique_count": 0,
                    "nan_count": 5,
                    "min": null,
                    "max": null,
                    "histogram": [
                      {
                        "bin_start": 0,
                        "bin_end": 0.1,
                        "count": 0
                      },
                      {
                        "bin_start": 0.1,
                        "bin_end": 0.2,
                        "count": 0
                      },
                      {
                        "bin_start": 0.2,
                        "bin_end": 0.30000000000000004,
                        "count": 0
                      },
                      {
                        "bin_start": 0.30000000000000004,
                        "bin_end": 0.4,
                        "count": 0
                      },
                      {
                        "bin_start": 0.4,
                        "bin_end": 0.5,
                        "count": 0
                      },
                      {
                        "bin_start": 0.5,
                        "bin_end": 0.6000000000000001,
                        "count": 0
                      },
                      {
                        "bin_start": 0.6000000000000001,
                        "bin_end": 0.7000000000000001,
                        "count": 0
                      },
                      {
                        "bin_start": 0.7000000000000001,
                        "bin_end": 0.8,
                        "count": 0
                      },
                      {
                        "bin_start": 0.8,
                        "bin_end": 0.9,
                        "count": 0
                      },
                      {
                        "bin_start": 0.9,
                        "bin_end": 1,
                        "count": 0
                      }
                    ]
                  }
                },
                {
                  "name": "Cases_Senegal",
                  "dtype": "float64",
                  "stats": {
                    "unique_count": 0,
                    "nan_count": 5,
                    "min": null,
                    "max": null,
                    "histogram": [
                      {
                        "bin_start": 0,
                        "bin_end": 0.1,
                        "count": 0
                      },
                      {
                        "bin_start": 0.1,
                        "bin_end": 0.2,
                        "count": 0
                      },
                      {
                        "bin_start": 0.2,
                        "bin_end": 0.30000000000000004,
                        "count": 0
                      },
                      {
                        "bin_start": 0.30000000000000004,
                        "bin_end": 0.4,
                        "count": 0
                      },
                      {
                        "bin_start": 0.4,
                        "bin_end": 0.5,
                        "count": 0
                      },
                      {
                        "bin_start": 0.5,
                        "bin_end": 0.6000000000000001,
                        "count": 0
                      },
                      {
                        "bin_start": 0.6000000000000001,
                        "bin_end": 0.7000000000000001,
                        "count": 0
                      },
                      {
                        "bin_start": 0.7000000000000001,
                        "bin_end": 0.8,
                        "count": 0
                      },
                      {
                        "bin_start": 0.8,
                        "bin_end": 0.9,
                        "count": 0
                      },
                      {
                        "bin_start": 0.9,
                        "bin_end": 1,
                        "count": 0
                      }
                    ]
                  }
                },
                {
                  "name": "Cases_UnitedStates",
                  "dtype": "float64",
                  "stats": {
                    "unique_count": 0,
                    "nan_count": 5,
                    "min": null,
                    "max": null,
                    "histogram": [
                      {
                        "bin_start": 0,
                        "bin_end": 0.1,
                        "count": 0
                      },
                      {
                        "bin_start": 0.1,
                        "bin_end": 0.2,
                        "count": 0
                      },
                      {
                        "bin_start": 0.2,
                        "bin_end": 0.30000000000000004,
                        "count": 0
                      },
                      {
                        "bin_start": 0.30000000000000004,
                        "bin_end": 0.4,
                        "count": 0
                      },
                      {
                        "bin_start": 0.4,
                        "bin_end": 0.5,
                        "count": 0
                      },
                      {
                        "bin_start": 0.5,
                        "bin_end": 0.6000000000000001,
                        "count": 0
                      },
                      {
                        "bin_start": 0.6000000000000001,
                        "bin_end": 0.7000000000000001,
                        "count": 0
                      },
                      {
                        "bin_start": 0.7000000000000001,
                        "bin_end": 0.8,
                        "count": 0
                      },
                      {
                        "bin_start": 0.8,
                        "bin_end": 0.9,
                        "count": 0
                      },
                      {
                        "bin_start": 0.9,
                        "bin_end": 1,
                        "count": 0
                      }
                    ]
                  }
                },
                {
                  "name": "Cases_Spain",
                  "dtype": "float64",
                  "stats": {
                    "unique_count": 0,
                    "nan_count": 5,
                    "min": null,
                    "max": null,
                    "histogram": [
                      {
                        "bin_start": 0,
                        "bin_end": 0.1,
                        "count": 0
                      },
                      {
                        "bin_start": 0.1,
                        "bin_end": 0.2,
                        "count": 0
                      },
                      {
                        "bin_start": 0.2,
                        "bin_end": 0.30000000000000004,
                        "count": 0
                      },
                      {
                        "bin_start": 0.30000000000000004,
                        "bin_end": 0.4,
                        "count": 0
                      },
                      {
                        "bin_start": 0.4,
                        "bin_end": 0.5,
                        "count": 0
                      },
                      {
                        "bin_start": 0.5,
                        "bin_end": 0.6000000000000001,
                        "count": 0
                      },
                      {
                        "bin_start": 0.6000000000000001,
                        "bin_end": 0.7000000000000001,
                        "count": 0
                      },
                      {
                        "bin_start": 0.7000000000000001,
                        "bin_end": 0.8,
                        "count": 0
                      },
                      {
                        "bin_start": 0.8,
                        "bin_end": 0.9,
                        "count": 0
                      },
                      {
                        "bin_start": 0.9,
                        "bin_end": 1,
                        "count": 0
                      }
                    ]
                  }
                },
                {
                  "name": "Cases_Mali",
                  "dtype": "float64",
                  "stats": {
                    "unique_count": 0,
                    "nan_count": 5,
                    "min": null,
                    "max": null,
                    "histogram": [
                      {
                        "bin_start": 0,
                        "bin_end": 0.1,
                        "count": 0
                      },
                      {
                        "bin_start": 0.1,
                        "bin_end": 0.2,
                        "count": 0
                      },
                      {
                        "bin_start": 0.2,
                        "bin_end": 0.30000000000000004,
                        "count": 0
                      },
                      {
                        "bin_start": 0.30000000000000004,
                        "bin_end": 0.4,
                        "count": 0
                      },
                      {
                        "bin_start": 0.4,
                        "bin_end": 0.5,
                        "count": 0
                      },
                      {
                        "bin_start": 0.5,
                        "bin_end": 0.6000000000000001,
                        "count": 0
                      },
                      {
                        "bin_start": 0.6000000000000001,
                        "bin_end": 0.7000000000000001,
                        "count": 0
                      },
                      {
                        "bin_start": 0.7000000000000001,
                        "bin_end": 0.8,
                        "count": 0
                      },
                      {
                        "bin_start": 0.8,
                        "bin_end": 0.9,
                        "count": 0
                      },
                      {
                        "bin_start": 0.9,
                        "bin_end": 1,
                        "count": 0
                      }
                    ]
                  }
                },
                {
                  "name": "Deaths_Guinea",
                  "dtype": "float64",
                  "stats": {
                    "unique_count": 4,
                    "nan_count": 1,
                    "min": "1739.0",
                    "max": "1786.0",
                    "histogram": [
                      {
                        "bin_start": 1739,
                        "bin_end": 1743.7,
                        "count": 1
                      },
                      {
                        "bin_start": 1743.7,
                        "bin_end": 1748.4,
                        "count": 0
                      },
                      {
                        "bin_start": 1748.4,
                        "bin_end": 1753.1,
                        "count": 0
                      },
                      {
                        "bin_start": 1753.1,
                        "bin_end": 1757.8,
                        "count": 0
                      },
                      {
                        "bin_start": 1757.8,
                        "bin_end": 1762.5,
                        "count": 0
                      },
                      {
                        "bin_start": 1762.5,
                        "bin_end": 1767.2,
                        "count": 1
                      },
                      {
                        "bin_start": 1767.2,
                        "bin_end": 1771.9,
                        "count": 0
                      },
                      {
                        "bin_start": 1771.9,
                        "bin_end": 1776.6,
                        "count": 0
                      },
                      {
                        "bin_start": 1776.6,
                        "bin_end": 1781.3,
                        "count": 1
                      },
                      {
                        "bin_start": 1781.3,
                        "bin_end": 1786,
                        "count": 1
                      }
                    ]
                  }
                },
                {
                  "name": "Deaths_Liberia",
                  "dtype": "float64",
                  "stats": {
                    "unique_count": 2,
                    "nan_count": 2,
                    "min": "3471.0",
                    "max": "3496.0",
                    "histogram": [
                      {
                        "bin_start": 3471,
                        "bin_end": 3473.5,
                        "count": 1
                      },
                      {
                        "bin_start": 3473.5,
                        "bin_end": 3476,
                        "count": 0
                      },
                      {
                        "bin_start": 3476,
                        "bin_end": 3478.5,
                        "count": 0
                      },
                      {
                        "bin_start": 3478.5,
                        "bin_end": 3481,
                        "count": 0
                      },
                      {
                        "bin_start": 3481,
                        "bin_end": 3483.5,
                        "count": 0
                      },
                      {
                        "bin_start": 3483.5,
                        "bin_end": 3486,
                        "count": 0
                      },
                      {
                        "bin_start": 3486,
                        "bin_end": 3488.5,
                        "count": 0
                      },
                      {
                        "bin_start": 3488.5,
                        "bin_end": 3491,
                        "count": 0
                      },
                      {
                        "bin_start": 3491,
                        "bin_end": 3493.5,
                        "count": 0
                      },
                      {
                        "bin_start": 3493.5,
                        "bin_end": 3496,
                        "count": 2
                      }
                    ]
                  }
                },
                {
                  "name": "Deaths_SierraLeone",
                  "dtype": "float64",
                  "stats": {
                    "unique_count": 4,
                    "nan_count": 1,
                    "min": "2827.0",
                    "max": "2977.0",
                    "histogram": [
                      {
                        "bin_start": 2827,
                        "bin_end": 2842,
                        "count": 1
                      },
                      {
                        "bin_start": 2842,
                        "bin_end": 2857,
                        "count": 0
                      },
                      {
                        "bin_start": 2857,
                        "bin_end": 2872,
                        "count": 0
                      },
                      {
                        "bin_start": 2872,
                        "bin_end": 2887,
                        "count": 0
                      },
                      {
                        "bin_start": 2887,
                        "bin_end": 2902,
                        "count": 0
                      },
                      {
                        "bin_start": 2902,
                        "bin_end": 2917,
                        "count": 1
                      },
                      {
                        "bin_start": 2917,
                        "bin_end": 2932,
                        "count": 0
                      },
                      {
                        "bin_start": 2932,
                        "bin_end": 2947,
                        "count": 1
                      },
                      {
                        "bin_start": 2947,
                        "bin_end": 2962,
                        "count": 0
                      },
                      {
                        "bin_start": 2962,
                        "bin_end": 2977,
                        "count": 1
                      }
                    ]
                  }
                },
                {
                  "name": "Deaths_Nigeria",
                  "dtype": "float64",
                  "stats": {
                    "unique_count": 0,
                    "nan_count": 5,
                    "min": null,
                    "max": null,
                    "histogram": [
                      {
                        "bin_start": 0,
                        "bin_end": 0.1,
                        "count": 0
                      },
                      {
                        "bin_start": 0.1,
                        "bin_end": 0.2,
                        "count": 0
                      },
                      {
                        "bin_start": 0.2,
                        "bin_end": 0.30000000000000004,
                        "count": 0
                      },
                      {
                        "bin_start": 0.30000000000000004,
                        "bin_end": 0.4,
                        "count": 0
                      },
                      {
                        "bin_start": 0.4,
                        "bin_end": 0.5,
                        "count": 0
                      },
                      {
                        "bin_start": 0.5,
                        "bin_end": 0.6000000000000001,
                        "count": 0
                      },
                      {
                        "bin_start": 0.6000000000000001,
                        "bin_end": 0.7000000000000001,
                        "count": 0
                      },
                      {
                        "bin_start": 0.7000000000000001,
                        "bin_end": 0.8,
                        "count": 0
                      },
                      {
                        "bin_start": 0.8,
                        "bin_end": 0.9,
                        "count": 0
                      },
                      {
                        "bin_start": 0.9,
                        "bin_end": 1,
                        "count": 0
                      }
                    ]
                  }
                },
                {
                  "name": "Deaths_Senegal",
                  "dtype": "float64",
                  "stats": {
                    "unique_count": 0,
                    "nan_count": 5,
                    "min": null,
                    "max": null,
                    "histogram": [
                      {
                        "bin_start": 0,
                        "bin_end": 0.1,
                        "count": 0
                      },
                      {
                        "bin_start": 0.1,
                        "bin_end": 0.2,
                        "count": 0
                      },
                      {
                        "bin_start": 0.2,
                        "bin_end": 0.30000000000000004,
                        "count": 0
                      },
                      {
                        "bin_start": 0.30000000000000004,
                        "bin_end": 0.4,
                        "count": 0
                      },
                      {
                        "bin_start": 0.4,
                        "bin_end": 0.5,
                        "count": 0
                      },
                      {
                        "bin_start": 0.5,
                        "bin_end": 0.6000000000000001,
                        "count": 0
                      },
                      {
                        "bin_start": 0.6000000000000001,
                        "bin_end": 0.7000000000000001,
                        "count": 0
                      },
                      {
                        "bin_start": 0.7000000000000001,
                        "bin_end": 0.8,
                        "count": 0
                      },
                      {
                        "bin_start": 0.8,
                        "bin_end": 0.9,
                        "count": 0
                      },
                      {
                        "bin_start": 0.9,
                        "bin_end": 1,
                        "count": 0
                      }
                    ]
                  }
                },
                {
                  "name": "Deaths_UnitedStates",
                  "dtype": "float64",
                  "stats": {
                    "unique_count": 0,
                    "nan_count": 5,
                    "min": null,
                    "max": null,
                    "histogram": [
                      {
                        "bin_start": 0,
                        "bin_end": 0.1,
                        "count": 0
                      },
                      {
                        "bin_start": 0.1,
                        "bin_end": 0.2,
                        "count": 0
                      },
                      {
                        "bin_start": 0.2,
                        "bin_end": 0.30000000000000004,
                        "count": 0
                      },
                      {
                        "bin_start": 0.30000000000000004,
                        "bin_end": 0.4,
                        "count": 0
                      },
                      {
                        "bin_start": 0.4,
                        "bin_end": 0.5,
                        "count": 0
                      },
                      {
                        "bin_start": 0.5,
                        "bin_end": 0.6000000000000001,
                        "count": 0
                      },
                      {
                        "bin_start": 0.6000000000000001,
                        "bin_end": 0.7000000000000001,
                        "count": 0
                      },
                      {
                        "bin_start": 0.7000000000000001,
                        "bin_end": 0.8,
                        "count": 0
                      },
                      {
                        "bin_start": 0.8,
                        "bin_end": 0.9,
                        "count": 0
                      },
                      {
                        "bin_start": 0.9,
                        "bin_end": 1,
                        "count": 0
                      }
                    ]
                  }
                },
                {
                  "name": "Deaths_Spain",
                  "dtype": "float64",
                  "stats": {
                    "unique_count": 0,
                    "nan_count": 5,
                    "min": null,
                    "max": null,
                    "histogram": [
                      {
                        "bin_start": 0,
                        "bin_end": 0.1,
                        "count": 0
                      },
                      {
                        "bin_start": 0.1,
                        "bin_end": 0.2,
                        "count": 0
                      },
                      {
                        "bin_start": 0.2,
                        "bin_end": 0.30000000000000004,
                        "count": 0
                      },
                      {
                        "bin_start": 0.30000000000000004,
                        "bin_end": 0.4,
                        "count": 0
                      },
                      {
                        "bin_start": 0.4,
                        "bin_end": 0.5,
                        "count": 0
                      },
                      {
                        "bin_start": 0.5,
                        "bin_end": 0.6000000000000001,
                        "count": 0
                      },
                      {
                        "bin_start": 0.6000000000000001,
                        "bin_end": 0.7000000000000001,
                        "count": 0
                      },
                      {
                        "bin_start": 0.7000000000000001,
                        "bin_end": 0.8,
                        "count": 0
                      },
                      {
                        "bin_start": 0.8,
                        "bin_end": 0.9,
                        "count": 0
                      },
                      {
                        "bin_start": 0.9,
                        "bin_end": 1,
                        "count": 0
                      }
                    ]
                  }
                },
                {
                  "name": "Deaths_Mali",
                  "dtype": "float64",
                  "stats": {
                    "unique_count": 0,
                    "nan_count": 5,
                    "min": null,
                    "max": null,
                    "histogram": [
                      {
                        "bin_start": 0,
                        "bin_end": 0.1,
                        "count": 0
                      },
                      {
                        "bin_start": 0.1,
                        "bin_end": 0.2,
                        "count": 0
                      },
                      {
                        "bin_start": 0.2,
                        "bin_end": 0.30000000000000004,
                        "count": 0
                      },
                      {
                        "bin_start": 0.30000000000000004,
                        "bin_end": 0.4,
                        "count": 0
                      },
                      {
                        "bin_start": 0.4,
                        "bin_end": 0.5,
                        "count": 0
                      },
                      {
                        "bin_start": 0.5,
                        "bin_end": 0.6000000000000001,
                        "count": 0
                      },
                      {
                        "bin_start": 0.6000000000000001,
                        "bin_end": 0.7000000000000001,
                        "count": 0
                      },
                      {
                        "bin_start": 0.7000000000000001,
                        "bin_end": 0.8,
                        "count": 0
                      },
                      {
                        "bin_start": 0.8,
                        "bin_end": 0.9,
                        "count": 0
                      },
                      {
                        "bin_start": 0.9,
                        "bin_end": 1,
                        "count": 0
                      }
                    ]
                  }
                },
                {
                  "name": "_deepnote_index_column",
                  "dtype": "int64"
                }
              ],
              "rows_top": [
                {
                  "Date": "1/5/2015",
                  "Day": 289,
                  "Cases_Guinea": "2776.0",
                  "Cases_Liberia": "nan",
                  "Cases_SierraLeone": "10030.0",
                  "Cases_Nigeria": "nan",
                  "Cases_Senegal": "nan",
                  "Cases_UnitedStates": "nan",
                  "Cases_Spain": "nan",
                  "Cases_Mali": "nan",
                  "Deaths_Guinea": "1786.0",
                  "Deaths_Liberia": "nan",
                  "Deaths_SierraLeone": "2977.0",
                  "Deaths_Nigeria": "nan",
                  "Deaths_Senegal": "nan",
                  "Deaths_UnitedStates": "nan",
                  "Deaths_Spain": "nan",
                  "Deaths_Mali": "nan",
                  "_deepnote_index_column": 0
                },
                {
                  "Date": "1/4/2015",
                  "Day": 288,
                  "Cases_Guinea": "2775.0",
                  "Cases_Liberia": "nan",
                  "Cases_SierraLeone": "9780.0",
                  "Cases_Nigeria": "nan",
                  "Cases_Senegal": "nan",
                  "Cases_UnitedStates": "nan",
                  "Cases_Spain": "nan",
                  "Cases_Mali": "nan",
                  "Deaths_Guinea": "1781.0",
                  "Deaths_Liberia": "nan",
                  "Deaths_SierraLeone": "2943.0",
                  "Deaths_Nigeria": "nan",
                  "Deaths_Senegal": "nan",
                  "Deaths_UnitedStates": "nan",
                  "Deaths_Spain": "nan",
                  "Deaths_Mali": "nan",
                  "_deepnote_index_column": 1
                },
                {
                  "Date": "1/3/2015",
                  "Day": 287,
                  "Cases_Guinea": "2769.0",
                  "Cases_Liberia": "8166.0",
                  "Cases_SierraLeone": "9722.0",
                  "Cases_Nigeria": "nan",
                  "Cases_Senegal": "nan",
                  "Cases_UnitedStates": "nan",
                  "Cases_Spain": "nan",
                  "Cases_Mali": "nan",
                  "Deaths_Guinea": "1767.0",
                  "Deaths_Liberia": "3496.0",
                  "Deaths_SierraLeone": "2915.0",
                  "Deaths_Nigeria": "nan",
                  "Deaths_Senegal": "nan",
                  "Deaths_UnitedStates": "nan",
                  "Deaths_Spain": "nan",
                  "Deaths_Mali": "nan",
                  "_deepnote_index_column": 2
                },
                {
                  "Date": "1/2/2015",
                  "Day": 286,
                  "Cases_Guinea": "nan",
                  "Cases_Liberia": "8157.0",
                  "Cases_SierraLeone": "nan",
                  "Cases_Nigeria": "nan",
                  "Cases_Senegal": "nan",
                  "Cases_UnitedStates": "nan",
                  "Cases_Spain": "nan",
                  "Cases_Mali": "nan",
                  "Deaths_Guinea": "nan",
                  "Deaths_Liberia": "3496.0",
                  "Deaths_SierraLeone": "nan",
                  "Deaths_Nigeria": "nan",
                  "Deaths_Senegal": "nan",
                  "Deaths_UnitedStates": "nan",
                  "Deaths_Spain": "nan",
                  "Deaths_Mali": "nan",
                  "_deepnote_index_column": 3
                },
                {
                  "Date": "12/31/2014",
                  "Day": 284,
                  "Cases_Guinea": "2730.0",
                  "Cases_Liberia": "8115.0",
                  "Cases_SierraLeone": "9633.0",
                  "Cases_Nigeria": "nan",
                  "Cases_Senegal": "nan",
                  "Cases_UnitedStates": "nan",
                  "Cases_Spain": "nan",
                  "Cases_Mali": "nan",
                  "Deaths_Guinea": "1739.0",
                  "Deaths_Liberia": "3471.0",
                  "Deaths_SierraLeone": "2827.0",
                  "Deaths_Nigeria": "nan",
                  "Deaths_Senegal": "nan",
                  "Deaths_UnitedStates": "nan",
                  "Deaths_Spain": "nan",
                  "Deaths_Mali": "nan",
                  "_deepnote_index_column": 4
                }
              ],
              "rows_bottom": null
            },
            "text/plain": "         Date  Day  Cases_Guinea  Cases_Liberia  Cases_SierraLeone  \\\n0    1/5/2015  289        2776.0            NaN            10030.0   \n1    1/4/2015  288        2775.0            NaN             9780.0   \n2    1/3/2015  287        2769.0         8166.0             9722.0   \n3    1/2/2015  286           NaN         8157.0                NaN   \n4  12/31/2014  284        2730.0         8115.0             9633.0   \n\n   Cases_Nigeria  Cases_Senegal  Cases_UnitedStates  Cases_Spain  Cases_Mali  \\\n0            NaN            NaN                 NaN          NaN         NaN   \n1            NaN            NaN                 NaN          NaN         NaN   \n2            NaN            NaN                 NaN          NaN         NaN   \n3            NaN            NaN                 NaN          NaN         NaN   \n4            NaN            NaN                 NaN          NaN         NaN   \n\n   Deaths_Guinea  Deaths_Liberia  Deaths_SierraLeone  Deaths_Nigeria  \\\n0         1786.0             NaN              2977.0             NaN   \n1         1781.0             NaN              2943.0             NaN   \n2         1767.0          3496.0              2915.0             NaN   \n3            NaN          3496.0                 NaN             NaN   \n4         1739.0          3471.0              2827.0             NaN   \n\n   Deaths_Senegal  Deaths_UnitedStates  Deaths_Spain  Deaths_Mali  \n0             NaN                  NaN           NaN          NaN  \n1             NaN                  NaN           NaN          NaN  \n2             NaN                  NaN           NaN          NaN  \n3             NaN                  NaN           NaN          NaN  \n4             NaN                  NaN           NaN          NaN  ",
            "text/html": "<div>\n<style scoped>\n    .dataframe tbody tr th:only-of-type {\n        vertical-align: middle;\n    }\n\n    .dataframe tbody tr th {\n        vertical-align: top;\n    }\n\n    .dataframe thead th {\n        text-align: right;\n    }\n</style>\n<table border=\"1\" class=\"dataframe\">\n  <thead>\n    <tr style=\"text-align: right;\">\n      <th></th>\n      <th>Date</th>\n      <th>Day</th>\n      <th>Cases_Guinea</th>\n      <th>Cases_Liberia</th>\n      <th>Cases_SierraLeone</th>\n      <th>Cases_Nigeria</th>\n      <th>Cases_Senegal</th>\n      <th>Cases_UnitedStates</th>\n      <th>Cases_Spain</th>\n      <th>Cases_Mali</th>\n      <th>Deaths_Guinea</th>\n      <th>Deaths_Liberia</th>\n      <th>Deaths_SierraLeone</th>\n      <th>Deaths_Nigeria</th>\n      <th>Deaths_Senegal</th>\n      <th>Deaths_UnitedStates</th>\n      <th>Deaths_Spain</th>\n      <th>Deaths_Mali</th>\n    </tr>\n  </thead>\n  <tbody>\n    <tr>\n      <th>0</th>\n      <td>1/5/2015</td>\n      <td>289</td>\n      <td>2776.0</td>\n      <td>NaN</td>\n      <td>10030.0</td>\n      <td>NaN</td>\n      <td>NaN</td>\n      <td>NaN</td>\n      <td>NaN</td>\n      <td>NaN</td>\n      <td>1786.0</td>\n      <td>NaN</td>\n      <td>2977.0</td>\n      <td>NaN</td>\n      <td>NaN</td>\n      <td>NaN</td>\n      <td>NaN</td>\n      <td>NaN</td>\n    </tr>\n    <tr>\n      <th>1</th>\n      <td>1/4/2015</td>\n      <td>288</td>\n      <td>2775.0</td>\n      <td>NaN</td>\n      <td>9780.0</td>\n      <td>NaN</td>\n      <td>NaN</td>\n      <td>NaN</td>\n      <td>NaN</td>\n      <td>NaN</td>\n      <td>1781.0</td>\n      <td>NaN</td>\n      <td>2943.0</td>\n      <td>NaN</td>\n      <td>NaN</td>\n      <td>NaN</td>\n      <td>NaN</td>\n      <td>NaN</td>\n    </tr>\n    <tr>\n      <th>2</th>\n      <td>1/3/2015</td>\n      <td>287</td>\n      <td>2769.0</td>\n      <td>8166.0</td>\n      <td>9722.0</td>\n      <td>NaN</td>\n      <td>NaN</td>\n      <td>NaN</td>\n      <td>NaN</td>\n      <td>NaN</td>\n      <td>1767.0</td>\n      <td>3496.0</td>\n      <td>2915.0</td>\n      <td>NaN</td>\n      <td>NaN</td>\n      <td>NaN</td>\n      <td>NaN</td>\n      <td>NaN</td>\n    </tr>\n    <tr>\n      <th>3</th>\n      <td>1/2/2015</td>\n      <td>286</td>\n      <td>NaN</td>\n      <td>8157.0</td>\n      <td>NaN</td>\n      <td>NaN</td>\n      <td>NaN</td>\n      <td>NaN</td>\n      <td>NaN</td>\n      <td>NaN</td>\n      <td>NaN</td>\n      <td>3496.0</td>\n      <td>NaN</td>\n      <td>NaN</td>\n      <td>NaN</td>\n      <td>NaN</td>\n      <td>NaN</td>\n      <td>NaN</td>\n    </tr>\n    <tr>\n      <th>4</th>\n      <td>12/31/2014</td>\n      <td>284</td>\n      <td>2730.0</td>\n      <td>8115.0</td>\n      <td>9633.0</td>\n      <td>NaN</td>\n      <td>NaN</td>\n      <td>NaN</td>\n      <td>NaN</td>\n      <td>NaN</td>\n      <td>1739.0</td>\n      <td>3471.0</td>\n      <td>2827.0</td>\n      <td>NaN</td>\n      <td>NaN</td>\n      <td>NaN</td>\n      <td>NaN</td>\n      <td>NaN</td>\n    </tr>\n  </tbody>\n</table>\n</div>"
          },
          "metadata": {}
        }
      ]
    },
    {
      "cell_type": "markdown",
      "source": "We need to distiguish Death, Cases, Country and Count",
      "metadata": {
        "tags": [],
        "cell_id": "00021-7b9ae6a7-c22e-4f5f-9b61-b5ed5d3a003b",
        "deepnote_cell_type": "markdown"
      }
    },
    {
      "cell_type": "code",
      "metadata": {
        "tags": [],
        "cell_id": "00022-9ccf5b18-83d2-4094-bb42-e779abe8ad48",
        "deepnote_to_be_reexecuted": false,
        "source_hash": "99fe6347",
        "execution_start": 1620039515386,
        "execution_millis": 3,
        "deepnote_cell_type": "code"
      },
      "source": "ebola_long=pd.melt(\n    ebola,\n    id_vars=['Date', 'Day']\n) # this will give Death, Cases, Country and Count into two columns",
      "execution_count": 49,
      "outputs": []
    },
    {
      "cell_type": "code",
      "metadata": {
        "tags": [],
        "cell_id": "00023-c6a375e7-8cca-48bb-9bc1-04de5ec3f4f4",
        "deepnote_to_be_reexecuted": false,
        "source_hash": "e99e7435",
        "execution_start": 1620039518455,
        "execution_millis": 15,
        "deepnote_cell_type": "code"
      },
      "source": "ebola_long.head() # top 5",
      "execution_count": 50,
      "outputs": [
        {
          "output_type": "execute_result",
          "execution_count": 50,
          "data": {
            "application/vnd.deepnote.dataframe.v2+json": {
              "row_count": 5,
              "column_count": 4,
              "columns": [
                {
                  "name": "Date",
                  "dtype": "object",
                  "stats": {
                    "unique_count": 5,
                    "nan_count": 0,
                    "categories": [
                      {
                        "name": "1/5/2015",
                        "count": 1
                      },
                      {
                        "name": "1/4/2015",
                        "count": 1
                      },
                      {
                        "name": "3 others",
                        "count": 3
                      }
                    ]
                  }
                },
                {
                  "name": "Day",
                  "dtype": "int64",
                  "stats": {
                    "unique_count": 5,
                    "nan_count": 0,
                    "min": "284",
                    "max": "289",
                    "histogram": [
                      {
                        "bin_start": 284,
                        "bin_end": 284.5,
                        "count": 1
                      },
                      {
                        "bin_start": 284.5,
                        "bin_end": 285,
                        "count": 0
                      },
                      {
                        "bin_start": 285,
                        "bin_end": 285.5,
                        "count": 0
                      },
                      {
                        "bin_start": 285.5,
                        "bin_end": 286,
                        "count": 0
                      },
                      {
                        "bin_start": 286,
                        "bin_end": 286.5,
                        "count": 1
                      },
                      {
                        "bin_start": 286.5,
                        "bin_end": 287,
                        "count": 0
                      },
                      {
                        "bin_start": 287,
                        "bin_end": 287.5,
                        "count": 1
                      },
                      {
                        "bin_start": 287.5,
                        "bin_end": 288,
                        "count": 0
                      },
                      {
                        "bin_start": 288,
                        "bin_end": 288.5,
                        "count": 1
                      },
                      {
                        "bin_start": 288.5,
                        "bin_end": 289,
                        "count": 1
                      }
                    ]
                  }
                },
                {
                  "name": "variable",
                  "dtype": "object",
                  "stats": {
                    "unique_count": 1,
                    "nan_count": 0,
                    "categories": [
                      {
                        "name": "Cases_Guinea",
                        "count": 5
                      }
                    ]
                  }
                },
                {
                  "name": "value",
                  "dtype": "float64",
                  "stats": {
                    "unique_count": 4,
                    "nan_count": 1,
                    "min": "2730.0",
                    "max": "2776.0",
                    "histogram": [
                      {
                        "bin_start": 2730,
                        "bin_end": 2734.6,
                        "count": 1
                      },
                      {
                        "bin_start": 2734.6,
                        "bin_end": 2739.2,
                        "count": 0
                      },
                      {
                        "bin_start": 2739.2,
                        "bin_end": 2743.8,
                        "count": 0
                      },
                      {
                        "bin_start": 2743.8,
                        "bin_end": 2748.4,
                        "count": 0
                      },
                      {
                        "bin_start": 2748.4,
                        "bin_end": 2753,
                        "count": 0
                      },
                      {
                        "bin_start": 2753,
                        "bin_end": 2757.6,
                        "count": 0
                      },
                      {
                        "bin_start": 2757.6,
                        "bin_end": 2762.2,
                        "count": 0
                      },
                      {
                        "bin_start": 2762.2,
                        "bin_end": 2766.8,
                        "count": 0
                      },
                      {
                        "bin_start": 2766.8,
                        "bin_end": 2771.4,
                        "count": 1
                      },
                      {
                        "bin_start": 2771.4,
                        "bin_end": 2776,
                        "count": 2
                      }
                    ]
                  }
                },
                {
                  "name": "_deepnote_index_column",
                  "dtype": "int64"
                }
              ],
              "rows_top": [
                {
                  "Date": "1/5/2015",
                  "Day": 289,
                  "variable": "Cases_Guinea",
                  "value": "2776.0",
                  "_deepnote_index_column": 0
                },
                {
                  "Date": "1/4/2015",
                  "Day": 288,
                  "variable": "Cases_Guinea",
                  "value": "2775.0",
                  "_deepnote_index_column": 1
                },
                {
                  "Date": "1/3/2015",
                  "Day": 287,
                  "variable": "Cases_Guinea",
                  "value": "2769.0",
                  "_deepnote_index_column": 2
                },
                {
                  "Date": "1/2/2015",
                  "Day": 286,
                  "variable": "Cases_Guinea",
                  "value": "nan",
                  "_deepnote_index_column": 3
                },
                {
                  "Date": "12/31/2014",
                  "Day": 284,
                  "variable": "Cases_Guinea",
                  "value": "2730.0",
                  "_deepnote_index_column": 4
                }
              ],
              "rows_bottom": null
            },
            "text/plain": "         Date  Day      variable   value\n0    1/5/2015  289  Cases_Guinea  2776.0\n1    1/4/2015  288  Cases_Guinea  2775.0\n2    1/3/2015  287  Cases_Guinea  2769.0\n3    1/2/2015  286  Cases_Guinea     NaN\n4  12/31/2014  284  Cases_Guinea  2730.0",
            "text/html": "<div>\n<style scoped>\n    .dataframe tbody tr th:only-of-type {\n        vertical-align: middle;\n    }\n\n    .dataframe tbody tr th {\n        vertical-align: top;\n    }\n\n    .dataframe thead th {\n        text-align: right;\n    }\n</style>\n<table border=\"1\" class=\"dataframe\">\n  <thead>\n    <tr style=\"text-align: right;\">\n      <th></th>\n      <th>Date</th>\n      <th>Day</th>\n      <th>variable</th>\n      <th>value</th>\n    </tr>\n  </thead>\n  <tbody>\n    <tr>\n      <th>0</th>\n      <td>1/5/2015</td>\n      <td>289</td>\n      <td>Cases_Guinea</td>\n      <td>2776.0</td>\n    </tr>\n    <tr>\n      <th>1</th>\n      <td>1/4/2015</td>\n      <td>288</td>\n      <td>Cases_Guinea</td>\n      <td>2775.0</td>\n    </tr>\n    <tr>\n      <th>2</th>\n      <td>1/3/2015</td>\n      <td>287</td>\n      <td>Cases_Guinea</td>\n      <td>2769.0</td>\n    </tr>\n    <tr>\n      <th>3</th>\n      <td>1/2/2015</td>\n      <td>286</td>\n      <td>Cases_Guinea</td>\n      <td>NaN</td>\n    </tr>\n    <tr>\n      <th>4</th>\n      <td>12/31/2014</td>\n      <td>284</td>\n      <td>Cases_Guinea</td>\n      <td>2730.0</td>\n    </tr>\n  </tbody>\n</table>\n</div>"
          },
          "metadata": {}
        }
      ]
    },
    {
      "cell_type": "markdown",
      "source": "To separate cases from death and the location:",
      "metadata": {
        "tags": [],
        "cell_id": "00024-2ad48ef3-14ae-489c-9ba0-bb99e39a3284",
        "deepnote_cell_type": "markdown"
      }
    },
    {
      "cell_type": "code",
      "metadata": {
        "tags": [],
        "cell_id": "00025-3376dd8a-708a-44cc-80ed-00fe889c7208",
        "deepnote_to_be_reexecuted": false,
        "source_hash": "3cc1790a",
        "execution_start": 1620039521870,
        "execution_millis": 4,
        "deepnote_cell_type": "code"
      },
      "source": "'Cases_Guinea'.split('_') #this command can divide the name into cases and country",
      "execution_count": 51,
      "outputs": [
        {
          "output_type": "execute_result",
          "execution_count": 51,
          "data": {
            "text/plain": "['Cases', 'Guinea']"
          },
          "metadata": {}
        }
      ]
    },
    {
      "cell_type": "code",
      "metadata": {
        "tags": [],
        "cell_id": "00026-136f5425-7c7e-4408-aa69-3f3d9a48166e",
        "deepnote_to_be_reexecuted": false,
        "source_hash": "51238ce",
        "execution_start": 1620039528211,
        "execution_millis": 0,
        "deepnote_cell_type": "code"
      },
      "source": "variable_split=ebola_long['variable'].str.split('_')# apply split to divide the two elements",
      "execution_count": 52,
      "outputs": []
    },
    {
      "cell_type": "code",
      "metadata": {
        "tags": [],
        "cell_id": "00027-23a93b3f-beb1-483c-94ea-b81c7666c160",
        "deepnote_to_be_reexecuted": false,
        "source_hash": "5b80e257",
        "execution_start": 1620039531069,
        "execution_millis": 5,
        "deepnote_cell_type": "code"
      },
      "source": "variable_split",
      "execution_count": 53,
      "outputs": [
        {
          "output_type": "execute_result",
          "execution_count": 53,
          "data": {
            "text/plain": "0       [Cases, Guinea]\n1       [Cases, Guinea]\n2       [Cases, Guinea]\n3       [Cases, Guinea]\n4       [Cases, Guinea]\n             ...       \n1947     [Deaths, Mali]\n1948     [Deaths, Mali]\n1949     [Deaths, Mali]\n1950     [Deaths, Mali]\n1951     [Deaths, Mali]\nName: variable, Length: 1952, dtype: object"
          },
          "metadata": {}
        }
      ]
    },
    {
      "cell_type": "code",
      "metadata": {
        "tags": [],
        "cell_id": "00028-1117c6ba-3a6b-49ee-b0ae-d9e83a207588",
        "deepnote_to_be_reexecuted": false,
        "source_hash": "aaada2c2",
        "execution_start": 1620039534859,
        "execution_millis": 16,
        "deepnote_cell_type": "code"
      },
      "source": "type(variable_split) #it return a column",
      "execution_count": 54,
      "outputs": [
        {
          "output_type": "execute_result",
          "execution_count": 54,
          "data": {
            "text/plain": "pandas.core.series.Series"
          },
          "metadata": {}
        }
      ]
    },
    {
      "cell_type": "code",
      "metadata": {
        "tags": [],
        "cell_id": "00029-54b2d0b4-8208-4efd-b963-56991f8e780f",
        "deepnote_to_be_reexecuted": false,
        "source_hash": "5f5da1ac",
        "execution_start": 1620039537016,
        "execution_millis": 6,
        "deepnote_cell_type": "code"
      },
      "source": "type(variable_split[0])#since this is a series we can use [] instead of iloc",
      "execution_count": 55,
      "outputs": [
        {
          "output_type": "execute_result",
          "execution_count": 55,
          "data": {
            "text/plain": "list"
          },
          "metadata": {}
        }
      ]
    },
    {
      "cell_type": "code",
      "metadata": {
        "tags": [],
        "cell_id": "00030-7818a077-7c36-4c2f-a46a-8e7110e7a687",
        "deepnote_to_be_reexecuted": false,
        "source_hash": "d433f425",
        "execution_start": 1620039540030,
        "execution_millis": 7,
        "deepnote_cell_type": "code"
      },
      "source": "(variable_split[0][0]) #get the first element of the list",
      "execution_count": 56,
      "outputs": [
        {
          "output_type": "execute_result",
          "execution_count": 56,
          "data": {
            "text/plain": "'Cases'"
          },
          "metadata": {}
        }
      ]
    },
    {
      "cell_type": "code",
      "metadata": {
        "tags": [],
        "cell_id": "00031-6d2e01a0-f321-42bc-8890-e96954d8219a",
        "deepnote_to_be_reexecuted": false,
        "source_hash": "1dbb8d66",
        "execution_start": 1620039541909,
        "execution_millis": 9,
        "deepnote_cell_type": "code"
      },
      "source": "type(variable_split[0][0]) #now we can confirm that we have a str",
      "execution_count": 57,
      "outputs": [
        {
          "output_type": "execute_result",
          "execution_count": 57,
          "data": {
            "text/plain": "str"
          },
          "metadata": {}
        }
      ]
    },
    {
      "cell_type": "code",
      "metadata": {
        "tags": [],
        "cell_id": "00033-62f737bf-789e-4e81-a2cd-703cc66b4e5b",
        "deepnote_to_be_reexecuted": false,
        "source_hash": "f2647e",
        "execution_start": 1620039544422,
        "execution_millis": 7,
        "deepnote_cell_type": "code"
      },
      "source": "variable_split.str.get(0) # get the first column",
      "execution_count": 58,
      "outputs": [
        {
          "output_type": "execute_result",
          "execution_count": 58,
          "data": {
            "text/plain": "0        Cases\n1        Cases\n2        Cases\n3        Cases\n4        Cases\n         ...  \n1947    Deaths\n1948    Deaths\n1949    Deaths\n1950    Deaths\n1951    Deaths\nName: variable, Length: 1952, dtype: object"
          },
          "metadata": {}
        }
      ]
    },
    {
      "cell_type": "code",
      "metadata": {
        "tags": [],
        "cell_id": "00034-d30c14c3-907d-48a3-83db-58c01b886dee",
        "deepnote_to_be_reexecuted": false,
        "source_hash": "9b905706",
        "execution_start": 1620039548533,
        "execution_millis": 0,
        "deepnote_cell_type": "code"
      },
      "source": "variable_split.str.get(1) #get second column",
      "execution_count": 59,
      "outputs": [
        {
          "output_type": "execute_result",
          "execution_count": 59,
          "data": {
            "text/plain": "0       Guinea\n1       Guinea\n2       Guinea\n3       Guinea\n4       Guinea\n         ...  \n1947      Mali\n1948      Mali\n1949      Mali\n1950      Mali\n1951      Mali\nName: variable, Length: 1952, dtype: object"
          },
          "metadata": {}
        }
      ]
    },
    {
      "cell_type": "code",
      "metadata": {
        "tags": [],
        "cell_id": "00035-06973175-bca6-4ffd-96d7-ac1a770719f0",
        "deepnote_to_be_reexecuted": false,
        "source_hash": "48f2e2eb",
        "execution_start": 1620039557828,
        "execution_millis": 1,
        "deepnote_cell_type": "code"
      },
      "source": "ebola_long['stats']=variable_split.str.get(0) #naming first column",
      "execution_count": 60,
      "outputs": []
    },
    {
      "cell_type": "code",
      "metadata": {
        "tags": [],
        "cell_id": "00036-2308b3e6-cd15-4578-b928-f8d8cc626921",
        "deepnote_to_be_reexecuted": false,
        "source_hash": "16fb344c",
        "execution_start": 1620039559924,
        "execution_millis": 2,
        "deepnote_cell_type": "code"
      },
      "source": "ebola_long['country']=variable_split.str.get(1) #naming second column",
      "execution_count": 61,
      "outputs": []
    },
    {
      "cell_type": "code",
      "metadata": {
        "tags": [],
        "cell_id": "00037-92ad6157-d1e8-40c0-a394-5f63cad4827d",
        "deepnote_to_be_reexecuted": false,
        "source_hash": "6c2a7a1a",
        "execution_start": 1620039563767,
        "execution_millis": 24,
        "deepnote_cell_type": "code"
      },
      "source": "ebola_long.head() #confirm result",
      "execution_count": 62,
      "outputs": [
        {
          "output_type": "execute_result",
          "execution_count": 62,
          "data": {
            "application/vnd.deepnote.dataframe.v2+json": {
              "row_count": 5,
              "column_count": 6,
              "columns": [
                {
                  "name": "Date",
                  "dtype": "object",
                  "stats": {
                    "unique_count": 5,
                    "nan_count": 0,
                    "categories": [
                      {
                        "name": "1/5/2015",
                        "count": 1
                      },
                      {
                        "name": "1/4/2015",
                        "count": 1
                      },
                      {
                        "name": "3 others",
                        "count": 3
                      }
                    ]
                  }
                },
                {
                  "name": "Day",
                  "dtype": "int64",
                  "stats": {
                    "unique_count": 5,
                    "nan_count": 0,
                    "min": "284",
                    "max": "289",
                    "histogram": [
                      {
                        "bin_start": 284,
                        "bin_end": 284.5,
                        "count": 1
                      },
                      {
                        "bin_start": 284.5,
                        "bin_end": 285,
                        "count": 0
                      },
                      {
                        "bin_start": 285,
                        "bin_end": 285.5,
                        "count": 0
                      },
                      {
                        "bin_start": 285.5,
                        "bin_end": 286,
                        "count": 0
                      },
                      {
                        "bin_start": 286,
                        "bin_end": 286.5,
                        "count": 1
                      },
                      {
                        "bin_start": 286.5,
                        "bin_end": 287,
                        "count": 0
                      },
                      {
                        "bin_start": 287,
                        "bin_end": 287.5,
                        "count": 1
                      },
                      {
                        "bin_start": 287.5,
                        "bin_end": 288,
                        "count": 0
                      },
                      {
                        "bin_start": 288,
                        "bin_end": 288.5,
                        "count": 1
                      },
                      {
                        "bin_start": 288.5,
                        "bin_end": 289,
                        "count": 1
                      }
                    ]
                  }
                },
                {
                  "name": "variable",
                  "dtype": "object",
                  "stats": {
                    "unique_count": 1,
                    "nan_count": 0,
                    "categories": [
                      {
                        "name": "Cases_Guinea",
                        "count": 5
                      }
                    ]
                  }
                },
                {
                  "name": "value",
                  "dtype": "float64",
                  "stats": {
                    "unique_count": 4,
                    "nan_count": 1,
                    "min": "2730.0",
                    "max": "2776.0",
                    "histogram": [
                      {
                        "bin_start": 2730,
                        "bin_end": 2734.6,
                        "count": 1
                      },
                      {
                        "bin_start": 2734.6,
                        "bin_end": 2739.2,
                        "count": 0
                      },
                      {
                        "bin_start": 2739.2,
                        "bin_end": 2743.8,
                        "count": 0
                      },
                      {
                        "bin_start": 2743.8,
                        "bin_end": 2748.4,
                        "count": 0
                      },
                      {
                        "bin_start": 2748.4,
                        "bin_end": 2753,
                        "count": 0
                      },
                      {
                        "bin_start": 2753,
                        "bin_end": 2757.6,
                        "count": 0
                      },
                      {
                        "bin_start": 2757.6,
                        "bin_end": 2762.2,
                        "count": 0
                      },
                      {
                        "bin_start": 2762.2,
                        "bin_end": 2766.8,
                        "count": 0
                      },
                      {
                        "bin_start": 2766.8,
                        "bin_end": 2771.4,
                        "count": 1
                      },
                      {
                        "bin_start": 2771.4,
                        "bin_end": 2776,
                        "count": 2
                      }
                    ]
                  }
                },
                {
                  "name": "stats",
                  "dtype": "object",
                  "stats": {
                    "unique_count": 1,
                    "nan_count": 0,
                    "categories": [
                      {
                        "name": "Cases",
                        "count": 5
                      }
                    ]
                  }
                },
                {
                  "name": "country",
                  "dtype": "object",
                  "stats": {
                    "unique_count": 1,
                    "nan_count": 0,
                    "categories": [
                      {
                        "name": "Guinea",
                        "count": 5
                      }
                    ]
                  }
                },
                {
                  "name": "_deepnote_index_column",
                  "dtype": "int64"
                }
              ],
              "rows_top": [
                {
                  "Date": "1/5/2015",
                  "Day": 289,
                  "variable": "Cases_Guinea",
                  "value": "2776.0",
                  "stats": "Cases",
                  "country": "Guinea",
                  "_deepnote_index_column": 0
                },
                {
                  "Date": "1/4/2015",
                  "Day": 288,
                  "variable": "Cases_Guinea",
                  "value": "2775.0",
                  "stats": "Cases",
                  "country": "Guinea",
                  "_deepnote_index_column": 1
                },
                {
                  "Date": "1/3/2015",
                  "Day": 287,
                  "variable": "Cases_Guinea",
                  "value": "2769.0",
                  "stats": "Cases",
                  "country": "Guinea",
                  "_deepnote_index_column": 2
                },
                {
                  "Date": "1/2/2015",
                  "Day": 286,
                  "variable": "Cases_Guinea",
                  "value": "nan",
                  "stats": "Cases",
                  "country": "Guinea",
                  "_deepnote_index_column": 3
                },
                {
                  "Date": "12/31/2014",
                  "Day": 284,
                  "variable": "Cases_Guinea",
                  "value": "2730.0",
                  "stats": "Cases",
                  "country": "Guinea",
                  "_deepnote_index_column": 4
                }
              ],
              "rows_bottom": null
            },
            "text/plain": "         Date  Day      variable   value  stats country\n0    1/5/2015  289  Cases_Guinea  2776.0  Cases  Guinea\n1    1/4/2015  288  Cases_Guinea  2775.0  Cases  Guinea\n2    1/3/2015  287  Cases_Guinea  2769.0  Cases  Guinea\n3    1/2/2015  286  Cases_Guinea     NaN  Cases  Guinea\n4  12/31/2014  284  Cases_Guinea  2730.0  Cases  Guinea",
            "text/html": "<div>\n<style scoped>\n    .dataframe tbody tr th:only-of-type {\n        vertical-align: middle;\n    }\n\n    .dataframe tbody tr th {\n        vertical-align: top;\n    }\n\n    .dataframe thead th {\n        text-align: right;\n    }\n</style>\n<table border=\"1\" class=\"dataframe\">\n  <thead>\n    <tr style=\"text-align: right;\">\n      <th></th>\n      <th>Date</th>\n      <th>Day</th>\n      <th>variable</th>\n      <th>value</th>\n      <th>stats</th>\n      <th>country</th>\n    </tr>\n  </thead>\n  <tbody>\n    <tr>\n      <th>0</th>\n      <td>1/5/2015</td>\n      <td>289</td>\n      <td>Cases_Guinea</td>\n      <td>2776.0</td>\n      <td>Cases</td>\n      <td>Guinea</td>\n    </tr>\n    <tr>\n      <th>1</th>\n      <td>1/4/2015</td>\n      <td>288</td>\n      <td>Cases_Guinea</td>\n      <td>2775.0</td>\n      <td>Cases</td>\n      <td>Guinea</td>\n    </tr>\n    <tr>\n      <th>2</th>\n      <td>1/3/2015</td>\n      <td>287</td>\n      <td>Cases_Guinea</td>\n      <td>2769.0</td>\n      <td>Cases</td>\n      <td>Guinea</td>\n    </tr>\n    <tr>\n      <th>3</th>\n      <td>1/2/2015</td>\n      <td>286</td>\n      <td>Cases_Guinea</td>\n      <td>NaN</td>\n      <td>Cases</td>\n      <td>Guinea</td>\n    </tr>\n    <tr>\n      <th>4</th>\n      <td>12/31/2014</td>\n      <td>284</td>\n      <td>Cases_Guinea</td>\n      <td>2730.0</td>\n      <td>Cases</td>\n      <td>Guinea</td>\n    </tr>\n  </tbody>\n</table>\n</div>"
          },
          "metadata": {}
        }
      ]
    },
    {
      "cell_type": "code",
      "metadata": {
        "tags": [],
        "cell_id": "00038-99fc9054-6bfc-497d-9995-ce7fc11d9ace",
        "deepnote_to_be_reexecuted": false,
        "source_hash": "ee7844de",
        "execution_start": 1620039589744,
        "execution_millis": 48,
        "deepnote_cell_type": "code"
      },
      "source": "ebola_long.drop(columns='variable')# taking the column that you don't need out",
      "execution_count": 63,
      "outputs": [
        {
          "output_type": "execute_result",
          "execution_count": 63,
          "data": {
            "application/vnd.deepnote.dataframe.v2+json": {
              "row_count": 1952,
              "column_count": 5,
              "columns": [
                {
                  "name": "Date",
                  "dtype": "object",
                  "stats": {
                    "unique_count": 122,
                    "nan_count": 0,
                    "categories": [
                      {
                        "name": "1/5/2015",
                        "count": 16
                      },
                      {
                        "name": "1/4/2015",
                        "count": 16
                      },
                      {
                        "name": "120 others",
                        "count": 1920
                      }
                    ]
                  }
                },
                {
                  "name": "Day",
                  "dtype": "int64",
                  "stats": {
                    "unique_count": 122,
                    "nan_count": 0,
                    "min": "0",
                    "max": "289",
                    "histogram": [
                      {
                        "bin_start": 0,
                        "bin_end": 28.9,
                        "count": 272
                      },
                      {
                        "bin_start": 28.9,
                        "bin_end": 57.8,
                        "count": 192
                      },
                      {
                        "bin_start": 57.8,
                        "bin_end": 86.69999999999999,
                        "count": 128
                      },
                      {
                        "bin_start": 86.69999999999999,
                        "bin_end": 115.6,
                        "count": 176
                      },
                      {
                        "bin_start": 115.6,
                        "bin_end": 144.5,
                        "count": 176
                      },
                      {
                        "bin_start": 144.5,
                        "bin_end": 173.39999999999998,
                        "count": 144
                      },
                      {
                        "bin_start": 173.39999999999998,
                        "bin_end": 202.29999999999998,
                        "count": 208
                      },
                      {
                        "bin_start": 202.29999999999998,
                        "bin_end": 231.2,
                        "count": 256
                      },
                      {
                        "bin_start": 231.2,
                        "bin_end": 260.09999999999997,
                        "count": 192
                      },
                      {
                        "bin_start": 260.09999999999997,
                        "bin_end": 289,
                        "count": 208
                      }
                    ]
                  }
                },
                {
                  "name": "value",
                  "dtype": "float64",
                  "stats": {
                    "unique_count": 415,
                    "nan_count": 1214,
                    "min": "0.0",
                    "max": "10030.0",
                    "histogram": [
                      {
                        "bin_start": 0,
                        "bin_end": 1003,
                        "count": 556
                      },
                      {
                        "bin_start": 1003,
                        "bin_end": 2006,
                        "count": 73
                      },
                      {
                        "bin_start": 2006,
                        "bin_end": 3009,
                        "count": 45
                      },
                      {
                        "bin_start": 3009,
                        "bin_end": 4012,
                        "count": 21
                      },
                      {
                        "bin_start": 4012,
                        "bin_end": 5015,
                        "count": 6
                      },
                      {
                        "bin_start": 5015,
                        "bin_end": 6018,
                        "count": 4
                      },
                      {
                        "bin_start": 6018,
                        "bin_end": 7021,
                        "count": 8
                      },
                      {
                        "bin_start": 7021,
                        "bin_end": 8024,
                        "count": 12
                      },
                      {
                        "bin_start": 8024,
                        "bin_end": 9027,
                        "count": 6
                      },
                      {
                        "bin_start": 9027,
                        "bin_end": 10030,
                        "count": 7
                      }
                    ]
                  }
                },
                {
                  "name": "stats",
                  "dtype": "object",
                  "stats": {
                    "unique_count": 2,
                    "nan_count": 0,
                    "categories": [
                      {
                        "name": "Cases",
                        "count": 976
                      },
                      {
                        "name": "Deaths",
                        "count": 976
                      }
                    ]
                  }
                },
                {
                  "name": "country",
                  "dtype": "object",
                  "stats": {
                    "unique_count": 8,
                    "nan_count": 0,
                    "categories": [
                      {
                        "name": "Guinea",
                        "count": 244
                      },
                      {
                        "name": "Liberia",
                        "count": 244
                      },
                      {
                        "name": "6 others",
                        "count": 1464
                      }
                    ]
                  }
                },
                {
                  "name": "_deepnote_index_column",
                  "dtype": "int64"
                }
              ],
              "rows_top": [
                {
                  "Date": "1/5/2015",
                  "Day": 289,
                  "value": "2776.0",
                  "stats": "Cases",
                  "country": "Guinea",
                  "_deepnote_index_column": 0
                },
                {
                  "Date": "1/4/2015",
                  "Day": 288,
                  "value": "2775.0",
                  "stats": "Cases",
                  "country": "Guinea",
                  "_deepnote_index_column": 1
                },
                {
                  "Date": "1/3/2015",
                  "Day": 287,
                  "value": "2769.0",
                  "stats": "Cases",
                  "country": "Guinea",
                  "_deepnote_index_column": 2
                },
                {
                  "Date": "1/2/2015",
                  "Day": 286,
                  "value": "nan",
                  "stats": "Cases",
                  "country": "Guinea",
                  "_deepnote_index_column": 3
                },
                {
                  "Date": "12/31/2014",
                  "Day": 284,
                  "value": "2730.0",
                  "stats": "Cases",
                  "country": "Guinea",
                  "_deepnote_index_column": 4
                },
                {
                  "Date": "12/28/2014",
                  "Day": 281,
                  "value": "2706.0",
                  "stats": "Cases",
                  "country": "Guinea",
                  "_deepnote_index_column": 5
                },
                {
                  "Date": "12/27/2014",
                  "Day": 280,
                  "value": "2695.0",
                  "stats": "Cases",
                  "country": "Guinea",
                  "_deepnote_index_column": 6
                },
                {
                  "Date": "12/24/2014",
                  "Day": 277,
                  "value": "2630.0",
                  "stats": "Cases",
                  "country": "Guinea",
                  "_deepnote_index_column": 7
                },
                {
                  "Date": "12/21/2014",
                  "Day": 273,
                  "value": "2597.0",
                  "stats": "Cases",
                  "country": "Guinea",
                  "_deepnote_index_column": 8
                },
                {
                  "Date": "12/20/2014",
                  "Day": 272,
                  "value": "2571.0",
                  "stats": "Cases",
                  "country": "Guinea",
                  "_deepnote_index_column": 9
                },
                {
                  "Date": "12/18/2014",
                  "Day": 271,
                  "value": "nan",
                  "stats": "Cases",
                  "country": "Guinea",
                  "_deepnote_index_column": 10
                },
                {
                  "Date": "12/14/2014",
                  "Day": 267,
                  "value": "2416.0",
                  "stats": "Cases",
                  "country": "Guinea",
                  "_deepnote_index_column": 11
                },
                {
                  "Date": "12/9/2014",
                  "Day": 262,
                  "value": "nan",
                  "stats": "Cases",
                  "country": "Guinea",
                  "_deepnote_index_column": 12
                },
                {
                  "Date": "12/7/2014",
                  "Day": 260,
                  "value": "2292.0",
                  "stats": "Cases",
                  "country": "Guinea",
                  "_deepnote_index_column": 13
                },
                {
                  "Date": "12/3/2014",
                  "Day": 256,
                  "value": "nan",
                  "stats": "Cases",
                  "country": "Guinea",
                  "_deepnote_index_column": 14
                },
                {
                  "Date": "11/30/2014",
                  "Day": 253,
                  "value": "2164.0",
                  "stats": "Cases",
                  "country": "Guinea",
                  "_deepnote_index_column": 15
                },
                {
                  "Date": "11/28/2014",
                  "Day": 251,
                  "value": "nan",
                  "stats": "Cases",
                  "country": "Guinea",
                  "_deepnote_index_column": 16
                },
                {
                  "Date": "11/23/2014",
                  "Day": 246,
                  "value": "2134.0",
                  "stats": "Cases",
                  "country": "Guinea",
                  "_deepnote_index_column": 17
                },
                {
                  "Date": "11/22/2014",
                  "Day": 245,
                  "value": "nan",
                  "stats": "Cases",
                  "country": "Guinea",
                  "_deepnote_index_column": 18
                },
                {
                  "Date": "11/18/2014",
                  "Day": 241,
                  "value": "2047.0",
                  "stats": "Cases",
                  "country": "Guinea",
                  "_deepnote_index_column": 19
                },
                {
                  "Date": "11/16/2014",
                  "Day": 239,
                  "value": "1971.0",
                  "stats": "Cases",
                  "country": "Guinea",
                  "_deepnote_index_column": 20
                },
                {
                  "Date": "11/15/2014",
                  "Day": 238,
                  "value": "nan",
                  "stats": "Cases",
                  "country": "Guinea",
                  "_deepnote_index_column": 21
                },
                {
                  "Date": "11/11/2014",
                  "Day": 234,
                  "value": "1919.0",
                  "stats": "Cases",
                  "country": "Guinea",
                  "_deepnote_index_column": 22
                },
                {
                  "Date": "11/10/2014",
                  "Day": 233,
                  "value": "nan",
                  "stats": "Cases",
                  "country": "Guinea",
                  "_deepnote_index_column": 23
                },
                {
                  "Date": "11/9/2014",
                  "Day": 232,
                  "value": "1878.0",
                  "stats": "Cases",
                  "country": "Guinea",
                  "_deepnote_index_column": 24
                },
                {
                  "Date": "11/8/2014",
                  "Day": 231,
                  "value": "nan",
                  "stats": "Cases",
                  "country": "Guinea",
                  "_deepnote_index_column": 25
                },
                {
                  "Date": "11/4/2014",
                  "Day": 227,
                  "value": "nan",
                  "stats": "Cases",
                  "country": "Guinea",
                  "_deepnote_index_column": 26
                },
                {
                  "Date": "11/3/2014",
                  "Day": 226,
                  "value": "1760.0",
                  "stats": "Cases",
                  "country": "Guinea",
                  "_deepnote_index_column": 27
                },
                {
                  "Date": "11/2/2014",
                  "Day": 225,
                  "value": "1731.0",
                  "stats": "Cases",
                  "country": "Guinea",
                  "_deepnote_index_column": 28
                },
                {
                  "Date": "10/31/2014",
                  "Day": 222,
                  "value": "nan",
                  "stats": "Cases",
                  "country": "Guinea",
                  "_deepnote_index_column": 29
                },
                {
                  "Date": "10/29/2014",
                  "Day": 220,
                  "value": "1667.0",
                  "stats": "Cases",
                  "country": "Guinea",
                  "_deepnote_index_column": 30
                },
                {
                  "Date": "10/27/2014",
                  "Day": 218,
                  "value": "1906.0",
                  "stats": "Cases",
                  "country": "Guinea",
                  "_deepnote_index_column": 31
                },
                {
                  "Date": "10/25/2014",
                  "Day": 216,
                  "value": "nan",
                  "stats": "Cases",
                  "country": "Guinea",
                  "_deepnote_index_column": 32
                },
                {
                  "Date": "10/22/2014",
                  "Day": 214,
                  "value": "nan",
                  "stats": "Cases",
                  "country": "Guinea",
                  "_deepnote_index_column": 33
                },
                {
                  "Date": "10/21/2014",
                  "Day": 213,
                  "value": "1553.0",
                  "stats": "Cases",
                  "country": "Guinea",
                  "_deepnote_index_column": 34
                },
                {
                  "Date": "10/19/2014",
                  "Day": 211,
                  "value": "1540.0",
                  "stats": "Cases",
                  "country": "Guinea",
                  "_deepnote_index_column": 35
                },
                {
                  "Date": "10/18/2014",
                  "Day": 210,
                  "value": "nan",
                  "stats": "Cases",
                  "country": "Guinea",
                  "_deepnote_index_column": 36
                },
                {
                  "Date": "10/14/2014",
                  "Day": 206,
                  "value": "1519.0",
                  "stats": "Cases",
                  "country": "Guinea",
                  "_deepnote_index_column": 37
                },
                {
                  "Date": "10/13/2014",
                  "Day": 205,
                  "value": "nan",
                  "stats": "Cases",
                  "country": "Guinea",
                  "_deepnote_index_column": 38
                },
                {
                  "Date": "10/12/2014",
                  "Day": 204,
                  "value": "1472.0",
                  "stats": "Cases",
                  "country": "Guinea",
                  "_deepnote_index_column": 39
                },
                {
                  "Date": "10/11/2014",
                  "Day": 203,
                  "value": "nan",
                  "stats": "Cases",
                  "country": "Guinea",
                  "_deepnote_index_column": 40
                },
                {
                  "Date": "10/8/2014",
                  "Day": 200,
                  "value": "nan",
                  "stats": "Cases",
                  "country": "Guinea",
                  "_deepnote_index_column": 41
                },
                {
                  "Date": "10/7/2014",
                  "Day": 199,
                  "value": "1350.0",
                  "stats": "Cases",
                  "country": "Guinea",
                  "_deepnote_index_column": 42
                },
                {
                  "Date": "10/5/2014",
                  "Day": 197,
                  "value": "1298.0",
                  "stats": "Cases",
                  "country": "Guinea",
                  "_deepnote_index_column": 43
                },
                {
                  "Date": "10/4/2014",
                  "Day": 196,
                  "value": "nan",
                  "stats": "Cases",
                  "country": "Guinea",
                  "_deepnote_index_column": 44
                },
                {
                  "Date": "10/1/2014",
                  "Day": 193,
                  "value": "1199.0",
                  "stats": "Cases",
                  "country": "Guinea",
                  "_deepnote_index_column": 45
                },
                {
                  "Date": "9/28/2014",
                  "Day": 190,
                  "value": "1157.0",
                  "stats": "Cases",
                  "country": "Guinea",
                  "_deepnote_index_column": 46
                },
                {
                  "Date": "9/23/2014",
                  "Day": 185,
                  "value": "1074.0",
                  "stats": "Cases",
                  "country": "Guinea",
                  "_deepnote_index_column": 47
                },
                {
                  "Date": "9/21/2014",
                  "Day": 183,
                  "value": "1022.0",
                  "stats": "Cases",
                  "country": "Guinea",
                  "_deepnote_index_column": 48
                },
                {
                  "Date": "9/20/2014",
                  "Day": 182,
                  "value": "nan",
                  "stats": "Cases",
                  "country": "Guinea",
                  "_deepnote_index_column": 49
                },
                {
                  "Date": "9/19/2014",
                  "Day": 181,
                  "value": "1008.0",
                  "stats": "Cases",
                  "country": "Guinea",
                  "_deepnote_index_column": 50
                },
                {
                  "Date": "9/17/2014",
                  "Day": 179,
                  "value": "nan",
                  "stats": "Cases",
                  "country": "Guinea",
                  "_deepnote_index_column": 51
                },
                {
                  "Date": "9/14/2014",
                  "Day": 176,
                  "value": "942.0",
                  "stats": "Cases",
                  "country": "Guinea",
                  "_deepnote_index_column": 52
                },
                {
                  "Date": "9/13/2014",
                  "Day": 175,
                  "value": "936.0",
                  "stats": "Cases",
                  "country": "Guinea",
                  "_deepnote_index_column": 53
                },
                {
                  "Date": "9/10/2014",
                  "Day": 172,
                  "value": "899.0",
                  "stats": "Cases",
                  "country": "Guinea",
                  "_deepnote_index_column": 54
                },
                {
                  "Date": "9/9/2014",
                  "Day": 171,
                  "value": "nan",
                  "stats": "Cases",
                  "country": "Guinea",
                  "_deepnote_index_column": 55
                },
                {
                  "Date": "9/7/2014",
                  "Day": 169,
                  "value": "861.0",
                  "stats": "Cases",
                  "country": "Guinea",
                  "_deepnote_index_column": 56
                },
                {
                  "Date": "9/5/2014",
                  "Day": 167,
                  "value": "812.0",
                  "stats": "Cases",
                  "country": "Guinea",
                  "_deepnote_index_column": 57
                },
                {
                  "Date": "8/31/2014",
                  "Day": 162,
                  "value": "771.0",
                  "stats": "Cases",
                  "country": "Guinea",
                  "_deepnote_index_column": 58
                },
                {
                  "Date": "8/26/2014",
                  "Day": 157,
                  "value": "648.0",
                  "stats": "Cases",
                  "country": "Guinea",
                  "_deepnote_index_column": 59
                },
                {
                  "Date": "8/20/2014",
                  "Day": 151,
                  "value": "607.0",
                  "stats": "Cases",
                  "country": "Guinea",
                  "_deepnote_index_column": 60
                },
                {
                  "Date": "8/18/2014",
                  "Day": 149,
                  "value": "579.0",
                  "stats": "Cases",
                  "country": "Guinea",
                  "_deepnote_index_column": 61
                },
                {
                  "Date": "8/16/2014",
                  "Day": 147,
                  "value": "543.0",
                  "stats": "Cases",
                  "country": "Guinea",
                  "_deepnote_index_column": 62
                },
                {
                  "Date": "8/13/2014",
                  "Day": 144,
                  "value": "519.0",
                  "stats": "Cases",
                  "country": "Guinea",
                  "_deepnote_index_column": 63
                },
                {
                  "Date": "8/11/2014",
                  "Day": 142,
                  "value": "510.0",
                  "stats": "Cases",
                  "country": "Guinea",
                  "_deepnote_index_column": 64
                },
                {
                  "Date": "8/9/2014",
                  "Day": 140,
                  "value": "506.0",
                  "stats": "Cases",
                  "country": "Guinea",
                  "_deepnote_index_column": 65
                },
                {
                  "Date": "8/6/2014",
                  "Day": 137,
                  "value": "495.0",
                  "stats": "Cases",
                  "country": "Guinea",
                  "_deepnote_index_column": 66
                },
                {
                  "Date": "8/4/2014",
                  "Day": 135,
                  "value": "495.0",
                  "stats": "Cases",
                  "country": "Guinea",
                  "_deepnote_index_column": 67
                },
                {
                  "Date": "8/1/2014",
                  "Day": 132,
                  "value": "485.0",
                  "stats": "Cases",
                  "country": "Guinea",
                  "_deepnote_index_column": 68
                },
                {
                  "Date": "7/30/2014",
                  "Day": 129,
                  "value": "472.0",
                  "stats": "Cases",
                  "country": "Guinea",
                  "_deepnote_index_column": 69
                },
                {
                  "Date": "7/27/2014",
                  "Day": 126,
                  "value": "460.0",
                  "stats": "Cases",
                  "country": "Guinea",
                  "_deepnote_index_column": 70
                },
                {
                  "Date": "7/23/2014",
                  "Day": 123,
                  "value": "427.0",
                  "stats": "Cases",
                  "country": "Guinea",
                  "_deepnote_index_column": 71
                },
                {
                  "Date": "7/20/2014",
                  "Day": 120,
                  "value": "415.0",
                  "stats": "Cases",
                  "country": "Guinea",
                  "_deepnote_index_column": 72
                },
                {
                  "Date": "7/17/2014",
                  "Day": 117,
                  "value": "410.0",
                  "stats": "Cases",
                  "country": "Guinea",
                  "_deepnote_index_column": 73
                },
                {
                  "Date": "7/14/2014",
                  "Day": 114,
                  "value": "411.0",
                  "stats": "Cases",
                  "country": "Guinea",
                  "_deepnote_index_column": 74
                },
                {
                  "Date": "7/12/2014",
                  "Day": 112,
                  "value": "406.0",
                  "stats": "Cases",
                  "country": "Guinea",
                  "_deepnote_index_column": 75
                },
                {
                  "Date": "7/8/2014",
                  "Day": 108,
                  "value": "409.0",
                  "stats": "Cases",
                  "country": "Guinea",
                  "_deepnote_index_column": 76
                },
                {
                  "Date": "7/6/2014",
                  "Day": 106,
                  "value": "408.0",
                  "stats": "Cases",
                  "country": "Guinea",
                  "_deepnote_index_column": 77
                },
                {
                  "Date": "7/2/2014",
                  "Day": 102,
                  "value": "412.0",
                  "stats": "Cases",
                  "country": "Guinea",
                  "_deepnote_index_column": 78
                },
                {
                  "Date": "6/30/2014",
                  "Day": 100,
                  "value": "413.0",
                  "stats": "Cases",
                  "country": "Guinea",
                  "_deepnote_index_column": 79
                },
                {
                  "Date": "6/22/2014",
                  "Day": 92,
                  "value": "nan",
                  "stats": "Cases",
                  "country": "Guinea",
                  "_deepnote_index_column": 80
                },
                {
                  "Date": "6/20/2014",
                  "Day": 90,
                  "value": "390.0",
                  "stats": "Cases",
                  "country": "Guinea",
                  "_deepnote_index_column": 81
                },
                {
                  "Date": "6/19/2014",
                  "Day": 89,
                  "value": "nan",
                  "stats": "Cases",
                  "country": "Guinea",
                  "_deepnote_index_column": 82
                },
                {
                  "Date": "6/18/2014",
                  "Day": 88,
                  "value": "390.0",
                  "stats": "Cases",
                  "country": "Guinea",
                  "_deepnote_index_column": 83
                },
                {
                  "Date": "6/17/2014",
                  "Day": 87,
                  "value": "nan",
                  "stats": "Cases",
                  "country": "Guinea",
                  "_deepnote_index_column": 84
                },
                {
                  "Date": "6/16/2014",
                  "Day": 86,
                  "value": "398.0",
                  "stats": "Cases",
                  "country": "Guinea",
                  "_deepnote_index_column": 85
                },
                {
                  "Date": "6/10/2014",
                  "Day": 80,
                  "value": "351.0",
                  "stats": "Cases",
                  "country": "Guinea",
                  "_deepnote_index_column": 86
                },
                {
                  "Date": "6/5/2014",
                  "Day": 75,
                  "value": "nan",
                  "stats": "Cases",
                  "country": "Guinea",
                  "_deepnote_index_column": 87
                },
                {
                  "Date": "6/3/2014",
                  "Day": 73,
                  "value": "344.0",
                  "stats": "Cases",
                  "country": "Guinea",
                  "_deepnote_index_column": 88
                },
                {
                  "Date": "6/1/2014",
                  "Day": 71,
                  "value": "328.0",
                  "stats": "Cases",
                  "country": "Guinea",
                  "_deepnote_index_column": 89
                },
                {
                  "Date": "5/28/2014",
                  "Day": 67,
                  "value": "291.0",
                  "stats": "Cases",
                  "country": "Guinea",
                  "_deepnote_index_column": 90
                },
                {
                  "Date": "5/27/2014",
                  "Day": 66,
                  "value": "281.0",
                  "stats": "Cases",
                  "country": "Guinea",
                  "_deepnote_index_column": 91
                },
                {
                  "Date": "5/23/2014",
                  "Day": 62,
                  "value": "258.0",
                  "stats": "Cases",
                  "country": "Guinea",
                  "_deepnote_index_column": 92
                },
                {
                  "Date": "5/12/2014",
                  "Day": 51,
                  "value": "248.0",
                  "stats": "Cases",
                  "country": "Guinea",
                  "_deepnote_index_column": 93
                },
                {
                  "Date": "5/10/2014",
                  "Day": 49,
                  "value": "233.0",
                  "stats": "Cases",
                  "country": "Guinea",
                  "_deepnote_index_column": 94
                },
                {
                  "Date": "5/7/2014",
                  "Day": 46,
                  "value": "236.0",
                  "stats": "Cases",
                  "country": "Guinea",
                  "_deepnote_index_column": 95
                },
                {
                  "Date": "5/5/2014",
                  "Day": 44,
                  "value": "235.0",
                  "stats": "Cases",
                  "country": "Guinea",
                  "_deepnote_index_column": 96
                },
                {
                  "Date": "5/3/2014",
                  "Day": 42,
                  "value": "231.0",
                  "stats": "Cases",
                  "country": "Guinea",
                  "_deepnote_index_column": 97
                },
                {
                  "Date": "5/1/2014",
                  "Day": 40,
                  "value": "226.0",
                  "stats": "Cases",
                  "country": "Guinea",
                  "_deepnote_index_column": 98
                },
                {
                  "Date": "4/26/2014",
                  "Day": 35,
                  "value": "224.0",
                  "stats": "Cases",
                  "country": "Guinea",
                  "_deepnote_index_column": 99
                }
              ],
              "rows_bottom": [
                {
                  "Date": "11/11/2014",
                  "Day": 234,
                  "value": "3.0",
                  "stats": "Deaths",
                  "country": "Mali",
                  "_deepnote_index_column": 1852
                },
                {
                  "Date": "11/10/2014",
                  "Day": 233,
                  "value": "nan",
                  "stats": "Deaths",
                  "country": "Mali",
                  "_deepnote_index_column": 1853
                },
                {
                  "Date": "11/9/2014",
                  "Day": 232,
                  "value": "1.0",
                  "stats": "Deaths",
                  "country": "Mali",
                  "_deepnote_index_column": 1854
                },
                {
                  "Date": "11/8/2014",
                  "Day": 231,
                  "value": "nan",
                  "stats": "Deaths",
                  "country": "Mali",
                  "_deepnote_index_column": 1855
                },
                {
                  "Date": "11/4/2014",
                  "Day": 227,
                  "value": "1.0",
                  "stats": "Deaths",
                  "country": "Mali",
                  "_deepnote_index_column": 1856
                },
                {
                  "Date": "11/3/2014",
                  "Day": 226,
                  "value": "nan",
                  "stats": "Deaths",
                  "country": "Mali",
                  "_deepnote_index_column": 1857
                },
                {
                  "Date": "11/2/2014",
                  "Day": 225,
                  "value": "1.0",
                  "stats": "Deaths",
                  "country": "Mali",
                  "_deepnote_index_column": 1858
                },
                {
                  "Date": "10/31/2014",
                  "Day": 222,
                  "value": "nan",
                  "stats": "Deaths",
                  "country": "Mali",
                  "_deepnote_index_column": 1859
                },
                {
                  "Date": "10/29/2014",
                  "Day": 220,
                  "value": "1.0",
                  "stats": "Deaths",
                  "country": "Mali",
                  "_deepnote_index_column": 1860
                },
                {
                  "Date": "10/27/2014",
                  "Day": 218,
                  "value": "1.0",
                  "stats": "Deaths",
                  "country": "Mali",
                  "_deepnote_index_column": 1861
                },
                {
                  "Date": "10/25/2014",
                  "Day": 216,
                  "value": "nan",
                  "stats": "Deaths",
                  "country": "Mali",
                  "_deepnote_index_column": 1862
                },
                {
                  "Date": "10/22/2014",
                  "Day": 214,
                  "value": "1.0",
                  "stats": "Deaths",
                  "country": "Mali",
                  "_deepnote_index_column": 1863
                },
                {
                  "Date": "10/21/2014",
                  "Day": 213,
                  "value": "nan",
                  "stats": "Deaths",
                  "country": "Mali",
                  "_deepnote_index_column": 1864
                },
                {
                  "Date": "10/19/2014",
                  "Day": 211,
                  "value": "nan",
                  "stats": "Deaths",
                  "country": "Mali",
                  "_deepnote_index_column": 1865
                },
                {
                  "Date": "10/18/2014",
                  "Day": 210,
                  "value": "nan",
                  "stats": "Deaths",
                  "country": "Mali",
                  "_deepnote_index_column": 1866
                },
                {
                  "Date": "10/14/2014",
                  "Day": 206,
                  "value": "nan",
                  "stats": "Deaths",
                  "country": "Mali",
                  "_deepnote_index_column": 1867
                },
                {
                  "Date": "10/13/2014",
                  "Day": 205,
                  "value": "nan",
                  "stats": "Deaths",
                  "country": "Mali",
                  "_deepnote_index_column": 1868
                },
                {
                  "Date": "10/12/2014",
                  "Day": 204,
                  "value": "nan",
                  "stats": "Deaths",
                  "country": "Mali",
                  "_deepnote_index_column": 1869
                },
                {
                  "Date": "10/11/2014",
                  "Day": 203,
                  "value": "nan",
                  "stats": "Deaths",
                  "country": "Mali",
                  "_deepnote_index_column": 1870
                },
                {
                  "Date": "10/8/2014",
                  "Day": 200,
                  "value": "nan",
                  "stats": "Deaths",
                  "country": "Mali",
                  "_deepnote_index_column": 1871
                },
                {
                  "Date": "10/7/2014",
                  "Day": 199,
                  "value": "nan",
                  "stats": "Deaths",
                  "country": "Mali",
                  "_deepnote_index_column": 1872
                },
                {
                  "Date": "10/5/2014",
                  "Day": 197,
                  "value": "nan",
                  "stats": "Deaths",
                  "country": "Mali",
                  "_deepnote_index_column": 1873
                },
                {
                  "Date": "10/4/2014",
                  "Day": 196,
                  "value": "nan",
                  "stats": "Deaths",
                  "country": "Mali",
                  "_deepnote_index_column": 1874
                },
                {
                  "Date": "10/1/2014",
                  "Day": 193,
                  "value": "nan",
                  "stats": "Deaths",
                  "country": "Mali",
                  "_deepnote_index_column": 1875
                },
                {
                  "Date": "9/28/2014",
                  "Day": 190,
                  "value": "nan",
                  "stats": "Deaths",
                  "country": "Mali",
                  "_deepnote_index_column": 1876
                },
                {
                  "Date": "9/23/2014",
                  "Day": 185,
                  "value": "nan",
                  "stats": "Deaths",
                  "country": "Mali",
                  "_deepnote_index_column": 1877
                },
                {
                  "Date": "9/21/2014",
                  "Day": 183,
                  "value": "nan",
                  "stats": "Deaths",
                  "country": "Mali",
                  "_deepnote_index_column": 1878
                },
                {
                  "Date": "9/20/2014",
                  "Day": 182,
                  "value": "nan",
                  "stats": "Deaths",
                  "country": "Mali",
                  "_deepnote_index_column": 1879
                },
                {
                  "Date": "9/19/2014",
                  "Day": 181,
                  "value": "nan",
                  "stats": "Deaths",
                  "country": "Mali",
                  "_deepnote_index_column": 1880
                },
                {
                  "Date": "9/17/2014",
                  "Day": 179,
                  "value": "nan",
                  "stats": "Deaths",
                  "country": "Mali",
                  "_deepnote_index_column": 1881
                },
                {
                  "Date": "9/14/2014",
                  "Day": 176,
                  "value": "nan",
                  "stats": "Deaths",
                  "country": "Mali",
                  "_deepnote_index_column": 1882
                },
                {
                  "Date": "9/13/2014",
                  "Day": 175,
                  "value": "nan",
                  "stats": "Deaths",
                  "country": "Mali",
                  "_deepnote_index_column": 1883
                },
                {
                  "Date": "9/10/2014",
                  "Day": 172,
                  "value": "nan",
                  "stats": "Deaths",
                  "country": "Mali",
                  "_deepnote_index_column": 1884
                },
                {
                  "Date": "9/9/2014",
                  "Day": 171,
                  "value": "nan",
                  "stats": "Deaths",
                  "country": "Mali",
                  "_deepnote_index_column": 1885
                },
                {
                  "Date": "9/7/2014",
                  "Day": 169,
                  "value": "nan",
                  "stats": "Deaths",
                  "country": "Mali",
                  "_deepnote_index_column": 1886
                },
                {
                  "Date": "9/5/2014",
                  "Day": 167,
                  "value": "nan",
                  "stats": "Deaths",
                  "country": "Mali",
                  "_deepnote_index_column": 1887
                },
                {
                  "Date": "8/31/2014",
                  "Day": 162,
                  "value": "nan",
                  "stats": "Deaths",
                  "country": "Mali",
                  "_deepnote_index_column": 1888
                },
                {
                  "Date": "8/26/2014",
                  "Day": 157,
                  "value": "nan",
                  "stats": "Deaths",
                  "country": "Mali",
                  "_deepnote_index_column": 1889
                },
                {
                  "Date": "8/20/2014",
                  "Day": 151,
                  "value": "nan",
                  "stats": "Deaths",
                  "country": "Mali",
                  "_deepnote_index_column": 1890
                },
                {
                  "Date": "8/18/2014",
                  "Day": 149,
                  "value": "nan",
                  "stats": "Deaths",
                  "country": "Mali",
                  "_deepnote_index_column": 1891
                },
                {
                  "Date": "8/16/2014",
                  "Day": 147,
                  "value": "nan",
                  "stats": "Deaths",
                  "country": "Mali",
                  "_deepnote_index_column": 1892
                },
                {
                  "Date": "8/13/2014",
                  "Day": 144,
                  "value": "nan",
                  "stats": "Deaths",
                  "country": "Mali",
                  "_deepnote_index_column": 1893
                },
                {
                  "Date": "8/11/2014",
                  "Day": 142,
                  "value": "nan",
                  "stats": "Deaths",
                  "country": "Mali",
                  "_deepnote_index_column": 1894
                },
                {
                  "Date": "8/9/2014",
                  "Day": 140,
                  "value": "nan",
                  "stats": "Deaths",
                  "country": "Mali",
                  "_deepnote_index_column": 1895
                },
                {
                  "Date": "8/6/2014",
                  "Day": 137,
                  "value": "nan",
                  "stats": "Deaths",
                  "country": "Mali",
                  "_deepnote_index_column": 1896
                },
                {
                  "Date": "8/4/2014",
                  "Day": 135,
                  "value": "nan",
                  "stats": "Deaths",
                  "country": "Mali",
                  "_deepnote_index_column": 1897
                },
                {
                  "Date": "8/1/2014",
                  "Day": 132,
                  "value": "nan",
                  "stats": "Deaths",
                  "country": "Mali",
                  "_deepnote_index_column": 1898
                },
                {
                  "Date": "7/30/2014",
                  "Day": 129,
                  "value": "nan",
                  "stats": "Deaths",
                  "country": "Mali",
                  "_deepnote_index_column": 1899
                },
                {
                  "Date": "7/27/2014",
                  "Day": 126,
                  "value": "nan",
                  "stats": "Deaths",
                  "country": "Mali",
                  "_deepnote_index_column": 1900
                },
                {
                  "Date": "7/23/2014",
                  "Day": 123,
                  "value": "nan",
                  "stats": "Deaths",
                  "country": "Mali",
                  "_deepnote_index_column": 1901
                },
                {
                  "Date": "7/20/2014",
                  "Day": 120,
                  "value": "nan",
                  "stats": "Deaths",
                  "country": "Mali",
                  "_deepnote_index_column": 1902
                },
                {
                  "Date": "7/17/2014",
                  "Day": 117,
                  "value": "nan",
                  "stats": "Deaths",
                  "country": "Mali",
                  "_deepnote_index_column": 1903
                },
                {
                  "Date": "7/14/2014",
                  "Day": 114,
                  "value": "nan",
                  "stats": "Deaths",
                  "country": "Mali",
                  "_deepnote_index_column": 1904
                },
                {
                  "Date": "7/12/2014",
                  "Day": 112,
                  "value": "nan",
                  "stats": "Deaths",
                  "country": "Mali",
                  "_deepnote_index_column": 1905
                },
                {
                  "Date": "7/8/2014",
                  "Day": 108,
                  "value": "nan",
                  "stats": "Deaths",
                  "country": "Mali",
                  "_deepnote_index_column": 1906
                },
                {
                  "Date": "7/6/2014",
                  "Day": 106,
                  "value": "nan",
                  "stats": "Deaths",
                  "country": "Mali",
                  "_deepnote_index_column": 1907
                },
                {
                  "Date": "7/2/2014",
                  "Day": 102,
                  "value": "nan",
                  "stats": "Deaths",
                  "country": "Mali",
                  "_deepnote_index_column": 1908
                },
                {
                  "Date": "6/30/2014",
                  "Day": 100,
                  "value": "nan",
                  "stats": "Deaths",
                  "country": "Mali",
                  "_deepnote_index_column": 1909
                },
                {
                  "Date": "6/22/2014",
                  "Day": 92,
                  "value": "nan",
                  "stats": "Deaths",
                  "country": "Mali",
                  "_deepnote_index_column": 1910
                },
                {
                  "Date": "6/20/2014",
                  "Day": 90,
                  "value": "nan",
                  "stats": "Deaths",
                  "country": "Mali",
                  "_deepnote_index_column": 1911
                },
                {
                  "Date": "6/19/2014",
                  "Day": 89,
                  "value": "nan",
                  "stats": "Deaths",
                  "country": "Mali",
                  "_deepnote_index_column": 1912
                },
                {
                  "Date": "6/18/2014",
                  "Day": 88,
                  "value": "nan",
                  "stats": "Deaths",
                  "country": "Mali",
                  "_deepnote_index_column": 1913
                },
                {
                  "Date": "6/17/2014",
                  "Day": 87,
                  "value": "nan",
                  "stats": "Deaths",
                  "country": "Mali",
                  "_deepnote_index_column": 1914
                },
                {
                  "Date": "6/16/2014",
                  "Day": 86,
                  "value": "nan",
                  "stats": "Deaths",
                  "country": "Mali",
                  "_deepnote_index_column": 1915
                },
                {
                  "Date": "6/10/2014",
                  "Day": 80,
                  "value": "nan",
                  "stats": "Deaths",
                  "country": "Mali",
                  "_deepnote_index_column": 1916
                },
                {
                  "Date": "6/5/2014",
                  "Day": 75,
                  "value": "nan",
                  "stats": "Deaths",
                  "country": "Mali",
                  "_deepnote_index_column": 1917
                },
                {
                  "Date": "6/3/2014",
                  "Day": 73,
                  "value": "nan",
                  "stats": "Deaths",
                  "country": "Mali",
                  "_deepnote_index_column": 1918
                },
                {
                  "Date": "6/1/2014",
                  "Day": 71,
                  "value": "nan",
                  "stats": "Deaths",
                  "country": "Mali",
                  "_deepnote_index_column": 1919
                },
                {
                  "Date": "5/28/2014",
                  "Day": 67,
                  "value": "nan",
                  "stats": "Deaths",
                  "country": "Mali",
                  "_deepnote_index_column": 1920
                },
                {
                  "Date": "5/27/2014",
                  "Day": 66,
                  "value": "nan",
                  "stats": "Deaths",
                  "country": "Mali",
                  "_deepnote_index_column": 1921
                },
                {
                  "Date": "5/23/2014",
                  "Day": 62,
                  "value": "nan",
                  "stats": "Deaths",
                  "country": "Mali",
                  "_deepnote_index_column": 1922
                },
                {
                  "Date": "5/12/2014",
                  "Day": 51,
                  "value": "nan",
                  "stats": "Deaths",
                  "country": "Mali",
                  "_deepnote_index_column": 1923
                },
                {
                  "Date": "5/10/2014",
                  "Day": 49,
                  "value": "nan",
                  "stats": "Deaths",
                  "country": "Mali",
                  "_deepnote_index_column": 1924
                },
                {
                  "Date": "5/7/2014",
                  "Day": 46,
                  "value": "nan",
                  "stats": "Deaths",
                  "country": "Mali",
                  "_deepnote_index_column": 1925
                },
                {
                  "Date": "5/5/2014",
                  "Day": 44,
                  "value": "nan",
                  "stats": "Deaths",
                  "country": "Mali",
                  "_deepnote_index_column": 1926
                },
                {
                  "Date": "5/3/2014",
                  "Day": 42,
                  "value": "nan",
                  "stats": "Deaths",
                  "country": "Mali",
                  "_deepnote_index_column": 1927
                },
                {
                  "Date": "5/1/2014",
                  "Day": 40,
                  "value": "nan",
                  "stats": "Deaths",
                  "country": "Mali",
                  "_deepnote_index_column": 1928
                },
                {
                  "Date": "4/26/2014",
                  "Day": 35,
                  "value": "nan",
                  "stats": "Deaths",
                  "country": "Mali",
                  "_deepnote_index_column": 1929
                },
                {
                  "Date": "4/24/2014",
                  "Day": 33,
                  "value": "nan",
                  "stats": "Deaths",
                  "country": "Mali",
                  "_deepnote_index_column": 1930
                },
                {
                  "Date": "4/23/2014",
                  "Day": 32,
                  "value": "nan",
                  "stats": "Deaths",
                  "country": "Mali",
                  "_deepnote_index_column": 1931
                },
                {
                  "Date": "4/22/2014",
                  "Day": 31,
                  "value": "nan",
                  "stats": "Deaths",
                  "country": "Mali",
                  "_deepnote_index_column": 1932
                },
                {
                  "Date": "4/21/2014",
                  "Day": 30,
                  "value": "nan",
                  "stats": "Deaths",
                  "country": "Mali",
                  "_deepnote_index_column": 1933
                },
                {
                  "Date": "4/20/2014",
                  "Day": 29,
                  "value": "nan",
                  "stats": "Deaths",
                  "country": "Mali",
                  "_deepnote_index_column": 1934
                },
                {
                  "Date": "4/17/2014",
                  "Day": 26,
                  "value": "nan",
                  "stats": "Deaths",
                  "country": "Mali",
                  "_deepnote_index_column": 1935
                },
                {
                  "Date": "4/16/2014",
                  "Day": 25,
                  "value": "nan",
                  "stats": "Deaths",
                  "country": "Mali",
                  "_deepnote_index_column": 1936
                },
                {
                  "Date": "4/15/2014",
                  "Day": 24,
                  "value": "nan",
                  "stats": "Deaths",
                  "country": "Mali",
                  "_deepnote_index_column": 1937
                },
                {
                  "Date": "4/14/2014",
                  "Day": 23,
                  "value": "nan",
                  "stats": "Deaths",
                  "country": "Mali",
                  "_deepnote_index_column": 1938
                },
                {
                  "Date": "4/11/2014",
                  "Day": 20,
                  "value": "nan",
                  "stats": "Deaths",
                  "country": "Mali",
                  "_deepnote_index_column": 1939
                },
                {
                  "Date": "4/9/2014",
                  "Day": 18,
                  "value": "nan",
                  "stats": "Deaths",
                  "country": "Mali",
                  "_deepnote_index_column": 1940
                },
                {
                  "Date": "4/7/2014",
                  "Day": 16,
                  "value": "nan",
                  "stats": "Deaths",
                  "country": "Mali",
                  "_deepnote_index_column": 1941
                },
                {
                  "Date": "4/4/2014",
                  "Day": 13,
                  "value": "nan",
                  "stats": "Deaths",
                  "country": "Mali",
                  "_deepnote_index_column": 1942
                },
                {
                  "Date": "4/1/2014",
                  "Day": 10,
                  "value": "nan",
                  "stats": "Deaths",
                  "country": "Mali",
                  "_deepnote_index_column": 1943
                },
                {
                  "Date": "3/31/2014",
                  "Day": 9,
                  "value": "nan",
                  "stats": "Deaths",
                  "country": "Mali",
                  "_deepnote_index_column": 1944
                },
                {
                  "Date": "3/29/2014",
                  "Day": 7,
                  "value": "nan",
                  "stats": "Deaths",
                  "country": "Mali",
                  "_deepnote_index_column": 1945
                },
                {
                  "Date": "3/28/2014",
                  "Day": 6,
                  "value": "nan",
                  "stats": "Deaths",
                  "country": "Mali",
                  "_deepnote_index_column": 1946
                },
                {
                  "Date": "3/27/2014",
                  "Day": 5,
                  "value": "nan",
                  "stats": "Deaths",
                  "country": "Mali",
                  "_deepnote_index_column": 1947
                },
                {
                  "Date": "3/26/2014",
                  "Day": 4,
                  "value": "nan",
                  "stats": "Deaths",
                  "country": "Mali",
                  "_deepnote_index_column": 1948
                },
                {
                  "Date": "3/25/2014",
                  "Day": 3,
                  "value": "nan",
                  "stats": "Deaths",
                  "country": "Mali",
                  "_deepnote_index_column": 1949
                },
                {
                  "Date": "3/24/2014",
                  "Day": 2,
                  "value": "nan",
                  "stats": "Deaths",
                  "country": "Mali",
                  "_deepnote_index_column": 1950
                },
                {
                  "Date": "3/22/2014",
                  "Day": 0,
                  "value": "nan",
                  "stats": "Deaths",
                  "country": "Mali",
                  "_deepnote_index_column": 1951
                }
              ]
            },
            "text/plain": "            Date  Day   value   stats country\n0       1/5/2015  289  2776.0   Cases  Guinea\n1       1/4/2015  288  2775.0   Cases  Guinea\n2       1/3/2015  287  2769.0   Cases  Guinea\n3       1/2/2015  286     NaN   Cases  Guinea\n4     12/31/2014  284  2730.0   Cases  Guinea\n...          ...  ...     ...     ...     ...\n1947   3/27/2014    5     NaN  Deaths    Mali\n1948   3/26/2014    4     NaN  Deaths    Mali\n1949   3/25/2014    3     NaN  Deaths    Mali\n1950   3/24/2014    2     NaN  Deaths    Mali\n1951   3/22/2014    0     NaN  Deaths    Mali\n\n[1952 rows x 5 columns]",
            "text/html": "<div>\n<style scoped>\n    .dataframe tbody tr th:only-of-type {\n        vertical-align: middle;\n    }\n\n    .dataframe tbody tr th {\n        vertical-align: top;\n    }\n\n    .dataframe thead th {\n        text-align: right;\n    }\n</style>\n<table border=\"1\" class=\"dataframe\">\n  <thead>\n    <tr style=\"text-align: right;\">\n      <th></th>\n      <th>Date</th>\n      <th>Day</th>\n      <th>value</th>\n      <th>stats</th>\n      <th>country</th>\n    </tr>\n  </thead>\n  <tbody>\n    <tr>\n      <th>0</th>\n      <td>1/5/2015</td>\n      <td>289</td>\n      <td>2776.0</td>\n      <td>Cases</td>\n      <td>Guinea</td>\n    </tr>\n    <tr>\n      <th>1</th>\n      <td>1/4/2015</td>\n      <td>288</td>\n      <td>2775.0</td>\n      <td>Cases</td>\n      <td>Guinea</td>\n    </tr>\n    <tr>\n      <th>2</th>\n      <td>1/3/2015</td>\n      <td>287</td>\n      <td>2769.0</td>\n      <td>Cases</td>\n      <td>Guinea</td>\n    </tr>\n    <tr>\n      <th>3</th>\n      <td>1/2/2015</td>\n      <td>286</td>\n      <td>NaN</td>\n      <td>Cases</td>\n      <td>Guinea</td>\n    </tr>\n    <tr>\n      <th>4</th>\n      <td>12/31/2014</td>\n      <td>284</td>\n      <td>2730.0</td>\n      <td>Cases</td>\n      <td>Guinea</td>\n    </tr>\n    <tr>\n      <th>...</th>\n      <td>...</td>\n      <td>...</td>\n      <td>...</td>\n      <td>...</td>\n      <td>...</td>\n    </tr>\n    <tr>\n      <th>1947</th>\n      <td>3/27/2014</td>\n      <td>5</td>\n      <td>NaN</td>\n      <td>Deaths</td>\n      <td>Mali</td>\n    </tr>\n    <tr>\n      <th>1948</th>\n      <td>3/26/2014</td>\n      <td>4</td>\n      <td>NaN</td>\n      <td>Deaths</td>\n      <td>Mali</td>\n    </tr>\n    <tr>\n      <th>1949</th>\n      <td>3/25/2014</td>\n      <td>3</td>\n      <td>NaN</td>\n      <td>Deaths</td>\n      <td>Mali</td>\n    </tr>\n    <tr>\n      <th>1950</th>\n      <td>3/24/2014</td>\n      <td>2</td>\n      <td>NaN</td>\n      <td>Deaths</td>\n      <td>Mali</td>\n    </tr>\n    <tr>\n      <th>1951</th>\n      <td>3/22/2014</td>\n      <td>0</td>\n      <td>NaN</td>\n      <td>Deaths</td>\n      <td>Mali</td>\n    </tr>\n  </tbody>\n</table>\n<p>1952 rows × 5 columns</p>\n</div>"
          },
          "metadata": {}
        }
      ]
    },
    {
      "cell_type": "markdown",
      "source": "alternative method:",
      "metadata": {
        "tags": [],
        "cell_id": "00038-45e8f1f8-d075-4f71-8a90-b749365602d3",
        "deepnote_cell_type": "markdown"
      }
    },
    {
      "cell_type": "code",
      "metadata": {
        "tags": [],
        "cell_id": "00038-8fb71d7a-9aa7-4358-ad75-0594b6110710",
        "deepnote_to_be_reexecuted": false,
        "source_hash": "5cc224be",
        "execution_start": 1620039600274,
        "execution_millis": 2,
        "deepnote_cell_type": "code"
      },
      "source": "ebola_long[['status_e', 'country_e']]=ebola_long['variable'].str.split('_', expand=True) \n",
      "execution_count": 64,
      "outputs": []
    },
    {
      "cell_type": "code",
      "metadata": {
        "tags": [],
        "cell_id": "00040-85cd088e-35f1-4f30-845c-b3eb42ec728e",
        "deepnote_to_be_reexecuted": false,
        "source_hash": "ccbc24c4",
        "execution_start": 1620039602515,
        "execution_millis": 27,
        "deepnote_cell_type": "code"
      },
      "source": "ebola_long.head() #confirm",
      "execution_count": 65,
      "outputs": [
        {
          "output_type": "execute_result",
          "execution_count": 65,
          "data": {
            "application/vnd.deepnote.dataframe.v2+json": {
              "row_count": 5,
              "column_count": 8,
              "columns": [
                {
                  "name": "Date",
                  "dtype": "object",
                  "stats": {
                    "unique_count": 5,
                    "nan_count": 0,
                    "categories": [
                      {
                        "name": "1/5/2015",
                        "count": 1
                      },
                      {
                        "name": "1/4/2015",
                        "count": 1
                      },
                      {
                        "name": "3 others",
                        "count": 3
                      }
                    ]
                  }
                },
                {
                  "name": "Day",
                  "dtype": "int64",
                  "stats": {
                    "unique_count": 5,
                    "nan_count": 0,
                    "min": "284",
                    "max": "289",
                    "histogram": [
                      {
                        "bin_start": 284,
                        "bin_end": 284.5,
                        "count": 1
                      },
                      {
                        "bin_start": 284.5,
                        "bin_end": 285,
                        "count": 0
                      },
                      {
                        "bin_start": 285,
                        "bin_end": 285.5,
                        "count": 0
                      },
                      {
                        "bin_start": 285.5,
                        "bin_end": 286,
                        "count": 0
                      },
                      {
                        "bin_start": 286,
                        "bin_end": 286.5,
                        "count": 1
                      },
                      {
                        "bin_start": 286.5,
                        "bin_end": 287,
                        "count": 0
                      },
                      {
                        "bin_start": 287,
                        "bin_end": 287.5,
                        "count": 1
                      },
                      {
                        "bin_start": 287.5,
                        "bin_end": 288,
                        "count": 0
                      },
                      {
                        "bin_start": 288,
                        "bin_end": 288.5,
                        "count": 1
                      },
                      {
                        "bin_start": 288.5,
                        "bin_end": 289,
                        "count": 1
                      }
                    ]
                  }
                },
                {
                  "name": "variable",
                  "dtype": "object",
                  "stats": {
                    "unique_count": 1,
                    "nan_count": 0,
                    "categories": [
                      {
                        "name": "Cases_Guinea",
                        "count": 5
                      }
                    ]
                  }
                },
                {
                  "name": "value",
                  "dtype": "float64",
                  "stats": {
                    "unique_count": 4,
                    "nan_count": 1,
                    "min": "2730.0",
                    "max": "2776.0",
                    "histogram": [
                      {
                        "bin_start": 2730,
                        "bin_end": 2734.6,
                        "count": 1
                      },
                      {
                        "bin_start": 2734.6,
                        "bin_end": 2739.2,
                        "count": 0
                      },
                      {
                        "bin_start": 2739.2,
                        "bin_end": 2743.8,
                        "count": 0
                      },
                      {
                        "bin_start": 2743.8,
                        "bin_end": 2748.4,
                        "count": 0
                      },
                      {
                        "bin_start": 2748.4,
                        "bin_end": 2753,
                        "count": 0
                      },
                      {
                        "bin_start": 2753,
                        "bin_end": 2757.6,
                        "count": 0
                      },
                      {
                        "bin_start": 2757.6,
                        "bin_end": 2762.2,
                        "count": 0
                      },
                      {
                        "bin_start": 2762.2,
                        "bin_end": 2766.8,
                        "count": 0
                      },
                      {
                        "bin_start": 2766.8,
                        "bin_end": 2771.4,
                        "count": 1
                      },
                      {
                        "bin_start": 2771.4,
                        "bin_end": 2776,
                        "count": 2
                      }
                    ]
                  }
                },
                {
                  "name": "stats",
                  "dtype": "object",
                  "stats": {
                    "unique_count": 1,
                    "nan_count": 0,
                    "categories": [
                      {
                        "name": "Cases",
                        "count": 5
                      }
                    ]
                  }
                },
                {
                  "name": "country",
                  "dtype": "object",
                  "stats": {
                    "unique_count": 1,
                    "nan_count": 0,
                    "categories": [
                      {
                        "name": "Guinea",
                        "count": 5
                      }
                    ]
                  }
                },
                {
                  "name": "status_e",
                  "dtype": "object",
                  "stats": {
                    "unique_count": 1,
                    "nan_count": 0,
                    "categories": [
                      {
                        "name": "Cases",
                        "count": 5
                      }
                    ]
                  }
                },
                {
                  "name": "country_e",
                  "dtype": "object",
                  "stats": {
                    "unique_count": 1,
                    "nan_count": 0,
                    "categories": [
                      {
                        "name": "Guinea",
                        "count": 5
                      }
                    ]
                  }
                },
                {
                  "name": "_deepnote_index_column",
                  "dtype": "int64"
                }
              ],
              "rows_top": [
                {
                  "Date": "1/5/2015",
                  "Day": 289,
                  "variable": "Cases_Guinea",
                  "value": "2776.0",
                  "stats": "Cases",
                  "country": "Guinea",
                  "status_e": "Cases",
                  "country_e": "Guinea",
                  "_deepnote_index_column": 0
                },
                {
                  "Date": "1/4/2015",
                  "Day": 288,
                  "variable": "Cases_Guinea",
                  "value": "2775.0",
                  "stats": "Cases",
                  "country": "Guinea",
                  "status_e": "Cases",
                  "country_e": "Guinea",
                  "_deepnote_index_column": 1
                },
                {
                  "Date": "1/3/2015",
                  "Day": 287,
                  "variable": "Cases_Guinea",
                  "value": "2769.0",
                  "stats": "Cases",
                  "country": "Guinea",
                  "status_e": "Cases",
                  "country_e": "Guinea",
                  "_deepnote_index_column": 2
                },
                {
                  "Date": "1/2/2015",
                  "Day": 286,
                  "variable": "Cases_Guinea",
                  "value": "nan",
                  "stats": "Cases",
                  "country": "Guinea",
                  "status_e": "Cases",
                  "country_e": "Guinea",
                  "_deepnote_index_column": 3
                },
                {
                  "Date": "12/31/2014",
                  "Day": 284,
                  "variable": "Cases_Guinea",
                  "value": "2730.0",
                  "stats": "Cases",
                  "country": "Guinea",
                  "status_e": "Cases",
                  "country_e": "Guinea",
                  "_deepnote_index_column": 4
                }
              ],
              "rows_bottom": null
            },
            "text/plain": "         Date  Day      variable   value  stats country status_e country_e\n0    1/5/2015  289  Cases_Guinea  2776.0  Cases  Guinea    Cases    Guinea\n1    1/4/2015  288  Cases_Guinea  2775.0  Cases  Guinea    Cases    Guinea\n2    1/3/2015  287  Cases_Guinea  2769.0  Cases  Guinea    Cases    Guinea\n3    1/2/2015  286  Cases_Guinea     NaN  Cases  Guinea    Cases    Guinea\n4  12/31/2014  284  Cases_Guinea  2730.0  Cases  Guinea    Cases    Guinea",
            "text/html": "<div>\n<style scoped>\n    .dataframe tbody tr th:only-of-type {\n        vertical-align: middle;\n    }\n\n    .dataframe tbody tr th {\n        vertical-align: top;\n    }\n\n    .dataframe thead th {\n        text-align: right;\n    }\n</style>\n<table border=\"1\" class=\"dataframe\">\n  <thead>\n    <tr style=\"text-align: right;\">\n      <th></th>\n      <th>Date</th>\n      <th>Day</th>\n      <th>variable</th>\n      <th>value</th>\n      <th>stats</th>\n      <th>country</th>\n      <th>status_e</th>\n      <th>country_e</th>\n    </tr>\n  </thead>\n  <tbody>\n    <tr>\n      <th>0</th>\n      <td>1/5/2015</td>\n      <td>289</td>\n      <td>Cases_Guinea</td>\n      <td>2776.0</td>\n      <td>Cases</td>\n      <td>Guinea</td>\n      <td>Cases</td>\n      <td>Guinea</td>\n    </tr>\n    <tr>\n      <th>1</th>\n      <td>1/4/2015</td>\n      <td>288</td>\n      <td>Cases_Guinea</td>\n      <td>2775.0</td>\n      <td>Cases</td>\n      <td>Guinea</td>\n      <td>Cases</td>\n      <td>Guinea</td>\n    </tr>\n    <tr>\n      <th>2</th>\n      <td>1/3/2015</td>\n      <td>287</td>\n      <td>Cases_Guinea</td>\n      <td>2769.0</td>\n      <td>Cases</td>\n      <td>Guinea</td>\n      <td>Cases</td>\n      <td>Guinea</td>\n    </tr>\n    <tr>\n      <th>3</th>\n      <td>1/2/2015</td>\n      <td>286</td>\n      <td>Cases_Guinea</td>\n      <td>NaN</td>\n      <td>Cases</td>\n      <td>Guinea</td>\n      <td>Cases</td>\n      <td>Guinea</td>\n    </tr>\n    <tr>\n      <th>4</th>\n      <td>12/31/2014</td>\n      <td>284</td>\n      <td>Cases_Guinea</td>\n      <td>2730.0</td>\n      <td>Cases</td>\n      <td>Guinea</td>\n      <td>Cases</td>\n      <td>Guinea</td>\n    </tr>\n  </tbody>\n</table>\n</div>"
          },
          "metadata": {}
        }
      ]
    },
    {
      "cell_type": "markdown",
      "source": "## 5. Variable store in both rows and columns",
      "metadata": {
        "tags": [],
        "cell_id": "00042-4b37daf1-4859-4453-bd16-e6d39f6e4433",
        "deepnote_cell_type": "markdown"
      }
    },
    {
      "cell_type": "code",
      "metadata": {
        "tags": [],
        "cell_id": "00043-b29888e6-7838-4272-8ec5-26941a903f11",
        "deepnote_to_be_reexecuted": false,
        "source_hash": "3f8c8981",
        "execution_start": 1620039742146,
        "execution_millis": 0,
        "deepnote_cell_type": "code"
      },
      "source": "weather=pd.read_csv('/work/weather.csv')# load data",
      "execution_count": 67,
      "outputs": []
    },
    {
      "cell_type": "code",
      "metadata": {
        "tags": [],
        "cell_id": "00044-0ca5bcea-770d-4784-8166-772b5c17b2d0",
        "deepnote_to_be_reexecuted": false,
        "source_hash": "adf9c161",
        "execution_start": 1620039756152,
        "execution_millis": 128,
        "deepnote_cell_type": "code"
      },
      "source": "weather.head()# top 5",
      "execution_count": 68,
      "outputs": [
        {
          "output_type": "execute_result",
          "execution_count": 68,
          "data": {
            "application/vnd.deepnote.dataframe.v2+json": {
              "row_count": 5,
              "column_count": 35,
              "columns": [
                {
                  "name": "id",
                  "dtype": "object",
                  "stats": {
                    "unique_count": 1,
                    "nan_count": 0,
                    "categories": [
                      {
                        "name": "MX17004",
                        "count": 5
                      }
                    ]
                  }
                },
                {
                  "name": "year",
                  "dtype": "int64",
                  "stats": {
                    "unique_count": 1,
                    "nan_count": 0,
                    "min": "2010",
                    "max": "2010",
                    "histogram": [
                      {
                        "bin_start": 2009.5,
                        "bin_end": 2009.6,
                        "count": 0
                      },
                      {
                        "bin_start": 2009.6,
                        "bin_end": 2009.7,
                        "count": 0
                      },
                      {
                        "bin_start": 2009.7,
                        "bin_end": 2009.8,
                        "count": 0
                      },
                      {
                        "bin_start": 2009.8,
                        "bin_end": 2009.9,
                        "count": 0
                      },
                      {
                        "bin_start": 2009.9,
                        "bin_end": 2010,
                        "count": 0
                      },
                      {
                        "bin_start": 2010,
                        "bin_end": 2010.1,
                        "count": 5
                      },
                      {
                        "bin_start": 2010.1,
                        "bin_end": 2010.2,
                        "count": 0
                      },
                      {
                        "bin_start": 2010.2,
                        "bin_end": 2010.3,
                        "count": 0
                      },
                      {
                        "bin_start": 2010.3,
                        "bin_end": 2010.4,
                        "count": 0
                      },
                      {
                        "bin_start": 2010.4,
                        "bin_end": 2010.5,
                        "count": 0
                      }
                    ]
                  }
                },
                {
                  "name": "month",
                  "dtype": "int64",
                  "stats": {
                    "unique_count": 3,
                    "nan_count": 0,
                    "min": "1",
                    "max": "3",
                    "histogram": [
                      {
                        "bin_start": 1,
                        "bin_end": 1.2,
                        "count": 2
                      },
                      {
                        "bin_start": 1.2,
                        "bin_end": 1.4,
                        "count": 0
                      },
                      {
                        "bin_start": 1.4,
                        "bin_end": 1.6,
                        "count": 0
                      },
                      {
                        "bin_start": 1.6,
                        "bin_end": 1.8,
                        "count": 0
                      },
                      {
                        "bin_start": 1.8,
                        "bin_end": 2,
                        "count": 0
                      },
                      {
                        "bin_start": 2,
                        "bin_end": 2.2,
                        "count": 2
                      },
                      {
                        "bin_start": 2.2,
                        "bin_end": 2.4000000000000004,
                        "count": 0
                      },
                      {
                        "bin_start": 2.4000000000000004,
                        "bin_end": 2.6,
                        "count": 0
                      },
                      {
                        "bin_start": 2.6,
                        "bin_end": 2.8,
                        "count": 0
                      },
                      {
                        "bin_start": 2.8,
                        "bin_end": 3,
                        "count": 1
                      }
                    ]
                  }
                },
                {
                  "name": "element",
                  "dtype": "object",
                  "stats": {
                    "unique_count": 2,
                    "nan_count": 0,
                    "categories": [
                      {
                        "name": "tmax",
                        "count": 3
                      },
                      {
                        "name": "tmin",
                        "count": 2
                      }
                    ]
                  }
                },
                {
                  "name": "d1",
                  "dtype": "float64",
                  "stats": {
                    "unique_count": 0,
                    "nan_count": 5,
                    "min": null,
                    "max": null,
                    "histogram": [
                      {
                        "bin_start": 0,
                        "bin_end": 0.1,
                        "count": 0
                      },
                      {
                        "bin_start": 0.1,
                        "bin_end": 0.2,
                        "count": 0
                      },
                      {
                        "bin_start": 0.2,
                        "bin_end": 0.30000000000000004,
                        "count": 0
                      },
                      {
                        "bin_start": 0.30000000000000004,
                        "bin_end": 0.4,
                        "count": 0
                      },
                      {
                        "bin_start": 0.4,
                        "bin_end": 0.5,
                        "count": 0
                      },
                      {
                        "bin_start": 0.5,
                        "bin_end": 0.6000000000000001,
                        "count": 0
                      },
                      {
                        "bin_start": 0.6000000000000001,
                        "bin_end": 0.7000000000000001,
                        "count": 0
                      },
                      {
                        "bin_start": 0.7000000000000001,
                        "bin_end": 0.8,
                        "count": 0
                      },
                      {
                        "bin_start": 0.8,
                        "bin_end": 0.9,
                        "count": 0
                      },
                      {
                        "bin_start": 0.9,
                        "bin_end": 1,
                        "count": 0
                      }
                    ]
                  }
                },
                {
                  "name": "d2",
                  "dtype": "float64",
                  "stats": {
                    "unique_count": 2,
                    "nan_count": 3,
                    "min": "14.4",
                    "max": "27.3",
                    "histogram": [
                      {
                        "bin_start": 14.4,
                        "bin_end": 15.690000000000001,
                        "count": 1
                      },
                      {
                        "bin_start": 15.690000000000001,
                        "bin_end": 16.98,
                        "count": 0
                      },
                      {
                        "bin_start": 16.98,
                        "bin_end": 18.27,
                        "count": 0
                      },
                      {
                        "bin_start": 18.27,
                        "bin_end": 19.560000000000002,
                        "count": 0
                      },
                      {
                        "bin_start": 19.560000000000002,
                        "bin_end": 20.85,
                        "count": 0
                      },
                      {
                        "bin_start": 20.85,
                        "bin_end": 22.14,
                        "count": 0
                      },
                      {
                        "bin_start": 22.14,
                        "bin_end": 23.43,
                        "count": 0
                      },
                      {
                        "bin_start": 23.43,
                        "bin_end": 24.72,
                        "count": 0
                      },
                      {
                        "bin_start": 24.72,
                        "bin_end": 26.009999999999998,
                        "count": 0
                      },
                      {
                        "bin_start": 26.009999999999998,
                        "bin_end": 27.3,
                        "count": 1
                      }
                    ]
                  }
                },
                {
                  "name": "d3",
                  "dtype": "float64",
                  "stats": {
                    "unique_count": 2,
                    "nan_count": 3,
                    "min": "14.4",
                    "max": "24.1",
                    "histogram": [
                      {
                        "bin_start": 14.4,
                        "bin_end": 15.370000000000001,
                        "count": 1
                      },
                      {
                        "bin_start": 15.370000000000001,
                        "bin_end": 16.34,
                        "count": 0
                      },
                      {
                        "bin_start": 16.34,
                        "bin_end": 17.310000000000002,
                        "count": 0
                      },
                      {
                        "bin_start": 17.310000000000002,
                        "bin_end": 18.28,
                        "count": 0
                      },
                      {
                        "bin_start": 18.28,
                        "bin_end": 19.25,
                        "count": 0
                      },
                      {
                        "bin_start": 19.25,
                        "bin_end": 20.22,
                        "count": 0
                      },
                      {
                        "bin_start": 20.22,
                        "bin_end": 21.19,
                        "count": 0
                      },
                      {
                        "bin_start": 21.19,
                        "bin_end": 22.16,
                        "count": 0
                      },
                      {
                        "bin_start": 22.16,
                        "bin_end": 23.130000000000003,
                        "count": 0
                      },
                      {
                        "bin_start": 23.130000000000003,
                        "bin_end": 24.1,
                        "count": 1
                      }
                    ]
                  }
                },
                {
                  "name": "d4",
                  "dtype": "float64",
                  "stats": {
                    "unique_count": 0,
                    "nan_count": 5,
                    "min": null,
                    "max": null,
                    "histogram": [
                      {
                        "bin_start": 0,
                        "bin_end": 0.1,
                        "count": 0
                      },
                      {
                        "bin_start": 0.1,
                        "bin_end": 0.2,
                        "count": 0
                      },
                      {
                        "bin_start": 0.2,
                        "bin_end": 0.30000000000000004,
                        "count": 0
                      },
                      {
                        "bin_start": 0.30000000000000004,
                        "bin_end": 0.4,
                        "count": 0
                      },
                      {
                        "bin_start": 0.4,
                        "bin_end": 0.5,
                        "count": 0
                      },
                      {
                        "bin_start": 0.5,
                        "bin_end": 0.6000000000000001,
                        "count": 0
                      },
                      {
                        "bin_start": 0.6000000000000001,
                        "bin_end": 0.7000000000000001,
                        "count": 0
                      },
                      {
                        "bin_start": 0.7000000000000001,
                        "bin_end": 0.8,
                        "count": 0
                      },
                      {
                        "bin_start": 0.8,
                        "bin_end": 0.9,
                        "count": 0
                      },
                      {
                        "bin_start": 0.9,
                        "bin_end": 1,
                        "count": 0
                      }
                    ]
                  }
                },
                {
                  "name": "d5",
                  "dtype": "float64",
                  "stats": {
                    "unique_count": 1,
                    "nan_count": 4,
                    "min": "32.1",
                    "max": "32.1",
                    "histogram": [
                      {
                        "bin_start": 31.6,
                        "bin_end": 31.700000000000003,
                        "count": 0
                      },
                      {
                        "bin_start": 31.700000000000003,
                        "bin_end": 31.8,
                        "count": 0
                      },
                      {
                        "bin_start": 31.8,
                        "bin_end": 31.900000000000002,
                        "count": 0
                      },
                      {
                        "bin_start": 31.900000000000002,
                        "bin_end": 32,
                        "count": 0
                      },
                      {
                        "bin_start": 32,
                        "bin_end": 32.1,
                        "count": 0
                      },
                      {
                        "bin_start": 32.1,
                        "bin_end": 32.2,
                        "count": 1
                      },
                      {
                        "bin_start": 32.2,
                        "bin_end": 32.300000000000004,
                        "count": 0
                      },
                      {
                        "bin_start": 32.300000000000004,
                        "bin_end": 32.4,
                        "count": 0
                      },
                      {
                        "bin_start": 32.4,
                        "bin_end": 32.5,
                        "count": 0
                      },
                      {
                        "bin_start": 32.5,
                        "bin_end": 32.6,
                        "count": 0
                      }
                    ]
                  }
                },
                {
                  "name": "d6",
                  "dtype": "float64",
                  "stats": {
                    "unique_count": 0,
                    "nan_count": 5,
                    "min": null,
                    "max": null,
                    "histogram": [
                      {
                        "bin_start": 0,
                        "bin_end": 0.1,
                        "count": 0
                      },
                      {
                        "bin_start": 0.1,
                        "bin_end": 0.2,
                        "count": 0
                      },
                      {
                        "bin_start": 0.2,
                        "bin_end": 0.30000000000000004,
                        "count": 0
                      },
                      {
                        "bin_start": 0.30000000000000004,
                        "bin_end": 0.4,
                        "count": 0
                      },
                      {
                        "bin_start": 0.4,
                        "bin_end": 0.5,
                        "count": 0
                      },
                      {
                        "bin_start": 0.5,
                        "bin_end": 0.6000000000000001,
                        "count": 0
                      },
                      {
                        "bin_start": 0.6000000000000001,
                        "bin_end": 0.7000000000000001,
                        "count": 0
                      },
                      {
                        "bin_start": 0.7000000000000001,
                        "bin_end": 0.8,
                        "count": 0
                      },
                      {
                        "bin_start": 0.8,
                        "bin_end": 0.9,
                        "count": 0
                      },
                      {
                        "bin_start": 0.9,
                        "bin_end": 1,
                        "count": 0
                      }
                    ]
                  }
                },
                {
                  "name": "d7",
                  "dtype": "float64",
                  "stats": {
                    "unique_count": 0,
                    "nan_count": 5,
                    "min": null,
                    "max": null,
                    "histogram": [
                      {
                        "bin_start": 0,
                        "bin_end": 0.1,
                        "count": 0
                      },
                      {
                        "bin_start": 0.1,
                        "bin_end": 0.2,
                        "count": 0
                      },
                      {
                        "bin_start": 0.2,
                        "bin_end": 0.30000000000000004,
                        "count": 0
                      },
                      {
                        "bin_start": 0.30000000000000004,
                        "bin_end": 0.4,
                        "count": 0
                      },
                      {
                        "bin_start": 0.4,
                        "bin_end": 0.5,
                        "count": 0
                      },
                      {
                        "bin_start": 0.5,
                        "bin_end": 0.6000000000000001,
                        "count": 0
                      },
                      {
                        "bin_start": 0.6000000000000001,
                        "bin_end": 0.7000000000000001,
                        "count": 0
                      },
                      {
                        "bin_start": 0.7000000000000001,
                        "bin_end": 0.8,
                        "count": 0
                      },
                      {
                        "bin_start": 0.8,
                        "bin_end": 0.9,
                        "count": 0
                      },
                      {
                        "bin_start": 0.9,
                        "bin_end": 1,
                        "count": 0
                      }
                    ]
                  }
                },
                {
                  "name": "d8",
                  "dtype": "float64",
                  "stats": {
                    "unique_count": 0,
                    "nan_count": 5,
                    "min": null,
                    "max": null,
                    "histogram": [
                      {
                        "bin_start": 0,
                        "bin_end": 0.1,
                        "count": 0
                      },
                      {
                        "bin_start": 0.1,
                        "bin_end": 0.2,
                        "count": 0
                      },
                      {
                        "bin_start": 0.2,
                        "bin_end": 0.30000000000000004,
                        "count": 0
                      },
                      {
                        "bin_start": 0.30000000000000004,
                        "bin_end": 0.4,
                        "count": 0
                      },
                      {
                        "bin_start": 0.4,
                        "bin_end": 0.5,
                        "count": 0
                      },
                      {
                        "bin_start": 0.5,
                        "bin_end": 0.6000000000000001,
                        "count": 0
                      },
                      {
                        "bin_start": 0.6000000000000001,
                        "bin_end": 0.7000000000000001,
                        "count": 0
                      },
                      {
                        "bin_start": 0.7000000000000001,
                        "bin_end": 0.8,
                        "count": 0
                      },
                      {
                        "bin_start": 0.8,
                        "bin_end": 0.9,
                        "count": 0
                      },
                      {
                        "bin_start": 0.9,
                        "bin_end": 1,
                        "count": 0
                      }
                    ]
                  }
                },
                {
                  "name": "d9",
                  "dtype": "float64",
                  "stats": {
                    "unique_count": 0,
                    "nan_count": 5,
                    "min": null,
                    "max": null,
                    "histogram": [
                      {
                        "bin_start": 0,
                        "bin_end": 0.1,
                        "count": 0
                      },
                      {
                        "bin_start": 0.1,
                        "bin_end": 0.2,
                        "count": 0
                      },
                      {
                        "bin_start": 0.2,
                        "bin_end": 0.30000000000000004,
                        "count": 0
                      },
                      {
                        "bin_start": 0.30000000000000004,
                        "bin_end": 0.4,
                        "count": 0
                      },
                      {
                        "bin_start": 0.4,
                        "bin_end": 0.5,
                        "count": 0
                      },
                      {
                        "bin_start": 0.5,
                        "bin_end": 0.6000000000000001,
                        "count": 0
                      },
                      {
                        "bin_start": 0.6000000000000001,
                        "bin_end": 0.7000000000000001,
                        "count": 0
                      },
                      {
                        "bin_start": 0.7000000000000001,
                        "bin_end": 0.8,
                        "count": 0
                      },
                      {
                        "bin_start": 0.8,
                        "bin_end": 0.9,
                        "count": 0
                      },
                      {
                        "bin_start": 0.9,
                        "bin_end": 1,
                        "count": 0
                      }
                    ]
                  }
                },
                {
                  "name": "d10",
                  "dtype": "float64",
                  "stats": {
                    "unique_count": 1,
                    "nan_count": 4,
                    "min": "34.5",
                    "max": "34.5",
                    "histogram": [
                      {
                        "bin_start": 34,
                        "bin_end": 34.1,
                        "count": 0
                      },
                      {
                        "bin_start": 34.1,
                        "bin_end": 34.2,
                        "count": 0
                      },
                      {
                        "bin_start": 34.2,
                        "bin_end": 34.3,
                        "count": 0
                      },
                      {
                        "bin_start": 34.3,
                        "bin_end": 34.4,
                        "count": 0
                      },
                      {
                        "bin_start": 34.4,
                        "bin_end": 34.5,
                        "count": 0
                      },
                      {
                        "bin_start": 34.5,
                        "bin_end": 34.6,
                        "count": 1
                      },
                      {
                        "bin_start": 34.6,
                        "bin_end": 34.7,
                        "count": 0
                      },
                      {
                        "bin_start": 34.7,
                        "bin_end": 34.8,
                        "count": 0
                      },
                      {
                        "bin_start": 34.8,
                        "bin_end": 34.9,
                        "count": 0
                      },
                      {
                        "bin_start": 34.9,
                        "bin_end": 35,
                        "count": 0
                      }
                    ]
                  }
                },
                {
                  "name": "d11",
                  "dtype": "float64",
                  "stats": {
                    "unique_count": 2,
                    "nan_count": 3,
                    "min": "13.4",
                    "max": "29.7",
                    "histogram": [
                      {
                        "bin_start": 13.4,
                        "bin_end": 15.03,
                        "count": 1
                      },
                      {
                        "bin_start": 15.03,
                        "bin_end": 16.66,
                        "count": 0
                      },
                      {
                        "bin_start": 16.66,
                        "bin_end": 18.29,
                        "count": 0
                      },
                      {
                        "bin_start": 18.29,
                        "bin_end": 19.919999999999998,
                        "count": 0
                      },
                      {
                        "bin_start": 19.919999999999998,
                        "bin_end": 21.549999999999997,
                        "count": 0
                      },
                      {
                        "bin_start": 21.549999999999997,
                        "bin_end": 23.18,
                        "count": 0
                      },
                      {
                        "bin_start": 23.18,
                        "bin_end": 24.81,
                        "count": 0
                      },
                      {
                        "bin_start": 24.81,
                        "bin_end": 26.439999999999998,
                        "count": 0
                      },
                      {
                        "bin_start": 26.439999999999998,
                        "bin_end": 28.069999999999997,
                        "count": 0
                      },
                      {
                        "bin_start": 28.069999999999997,
                        "bin_end": 29.7,
                        "count": 1
                      }
                    ]
                  }
                },
                {
                  "name": "d12",
                  "dtype": "float64",
                  "stats": {
                    "unique_count": 0,
                    "nan_count": 5,
                    "min": null,
                    "max": null,
                    "histogram": [
                      {
                        "bin_start": 0,
                        "bin_end": 0.1,
                        "count": 0
                      },
                      {
                        "bin_start": 0.1,
                        "bin_end": 0.2,
                        "count": 0
                      },
                      {
                        "bin_start": 0.2,
                        "bin_end": 0.30000000000000004,
                        "count": 0
                      },
                      {
                        "bin_start": 0.30000000000000004,
                        "bin_end": 0.4,
                        "count": 0
                      },
                      {
                        "bin_start": 0.4,
                        "bin_end": 0.5,
                        "count": 0
                      },
                      {
                        "bin_start": 0.5,
                        "bin_end": 0.6000000000000001,
                        "count": 0
                      },
                      {
                        "bin_start": 0.6000000000000001,
                        "bin_end": 0.7000000000000001,
                        "count": 0
                      },
                      {
                        "bin_start": 0.7000000000000001,
                        "bin_end": 0.8,
                        "count": 0
                      },
                      {
                        "bin_start": 0.8,
                        "bin_end": 0.9,
                        "count": 0
                      },
                      {
                        "bin_start": 0.9,
                        "bin_end": 1,
                        "count": 0
                      }
                    ]
                  }
                },
                {
                  "name": "d13",
                  "dtype": "float64",
                  "stats": {
                    "unique_count": 0,
                    "nan_count": 5,
                    "min": null,
                    "max": null,
                    "histogram": [
                      {
                        "bin_start": 0,
                        "bin_end": 0.1,
                        "count": 0
                      },
                      {
                        "bin_start": 0.1,
                        "bin_end": 0.2,
                        "count": 0
                      },
                      {
                        "bin_start": 0.2,
                        "bin_end": 0.30000000000000004,
                        "count": 0
                      },
                      {
                        "bin_start": 0.30000000000000004,
                        "bin_end": 0.4,
                        "count": 0
                      },
                      {
                        "bin_start": 0.4,
                        "bin_end": 0.5,
                        "count": 0
                      },
                      {
                        "bin_start": 0.5,
                        "bin_end": 0.6000000000000001,
                        "count": 0
                      },
                      {
                        "bin_start": 0.6000000000000001,
                        "bin_end": 0.7000000000000001,
                        "count": 0
                      },
                      {
                        "bin_start": 0.7000000000000001,
                        "bin_end": 0.8,
                        "count": 0
                      },
                      {
                        "bin_start": 0.8,
                        "bin_end": 0.9,
                        "count": 0
                      },
                      {
                        "bin_start": 0.9,
                        "bin_end": 1,
                        "count": 0
                      }
                    ]
                  }
                },
                {
                  "name": "d14",
                  "dtype": "float64",
                  "stats": {
                    "unique_count": 0,
                    "nan_count": 5,
                    "min": null,
                    "max": null,
                    "histogram": [
                      {
                        "bin_start": 0,
                        "bin_end": 0.1,
                        "count": 0
                      },
                      {
                        "bin_start": 0.1,
                        "bin_end": 0.2,
                        "count": 0
                      },
                      {
                        "bin_start": 0.2,
                        "bin_end": 0.30000000000000004,
                        "count": 0
                      },
                      {
                        "bin_start": 0.30000000000000004,
                        "bin_end": 0.4,
                        "count": 0
                      },
                      {
                        "bin_start": 0.4,
                        "bin_end": 0.5,
                        "count": 0
                      },
                      {
                        "bin_start": 0.5,
                        "bin_end": 0.6000000000000001,
                        "count": 0
                      },
                      {
                        "bin_start": 0.6000000000000001,
                        "bin_end": 0.7000000000000001,
                        "count": 0
                      },
                      {
                        "bin_start": 0.7000000000000001,
                        "bin_end": 0.8,
                        "count": 0
                      },
                      {
                        "bin_start": 0.8,
                        "bin_end": 0.9,
                        "count": 0
                      },
                      {
                        "bin_start": 0.9,
                        "bin_end": 1,
                        "count": 0
                      }
                    ]
                  }
                },
                {
                  "name": "d15",
                  "dtype": "float64",
                  "stats": {
                    "unique_count": 0,
                    "nan_count": 5,
                    "min": null,
                    "max": null,
                    "histogram": [
                      {
                        "bin_start": 0,
                        "bin_end": 0.1,
                        "count": 0
                      },
                      {
                        "bin_start": 0.1,
                        "bin_end": 0.2,
                        "count": 0
                      },
                      {
                        "bin_start": 0.2,
                        "bin_end": 0.30000000000000004,
                        "count": 0
                      },
                      {
                        "bin_start": 0.30000000000000004,
                        "bin_end": 0.4,
                        "count": 0
                      },
                      {
                        "bin_start": 0.4,
                        "bin_end": 0.5,
                        "count": 0
                      },
                      {
                        "bin_start": 0.5,
                        "bin_end": 0.6000000000000001,
                        "count": 0
                      },
                      {
                        "bin_start": 0.6000000000000001,
                        "bin_end": 0.7000000000000001,
                        "count": 0
                      },
                      {
                        "bin_start": 0.7000000000000001,
                        "bin_end": 0.8,
                        "count": 0
                      },
                      {
                        "bin_start": 0.8,
                        "bin_end": 0.9,
                        "count": 0
                      },
                      {
                        "bin_start": 0.9,
                        "bin_end": 1,
                        "count": 0
                      }
                    ]
                  }
                },
                {
                  "name": "d16",
                  "dtype": "float64",
                  "stats": {
                    "unique_count": 1,
                    "nan_count": 4,
                    "min": "31.1",
                    "max": "31.1",
                    "histogram": [
                      {
                        "bin_start": 30.6,
                        "bin_end": 30.700000000000003,
                        "count": 0
                      },
                      {
                        "bin_start": 30.700000000000003,
                        "bin_end": 30.8,
                        "count": 0
                      },
                      {
                        "bin_start": 30.8,
                        "bin_end": 30.900000000000002,
                        "count": 0
                      },
                      {
                        "bin_start": 30.900000000000002,
                        "bin_end": 31,
                        "count": 0
                      },
                      {
                        "bin_start": 31,
                        "bin_end": 31.1,
                        "count": 0
                      },
                      {
                        "bin_start": 31.1,
                        "bin_end": 31.200000000000003,
                        "count": 1
                      },
                      {
                        "bin_start": 31.200000000000003,
                        "bin_end": 31.3,
                        "count": 0
                      },
                      {
                        "bin_start": 31.3,
                        "bin_end": 31.400000000000002,
                        "count": 0
                      },
                      {
                        "bin_start": 31.400000000000002,
                        "bin_end": 31.5,
                        "count": 0
                      },
                      {
                        "bin_start": 31.5,
                        "bin_end": 31.6,
                        "count": 0
                      }
                    ]
                  }
                },
                {
                  "name": "d17",
                  "dtype": "float64",
                  "stats": {
                    "unique_count": 0,
                    "nan_count": 5,
                    "min": null,
                    "max": null,
                    "histogram": [
                      {
                        "bin_start": 0,
                        "bin_end": 0.1,
                        "count": 0
                      },
                      {
                        "bin_start": 0.1,
                        "bin_end": 0.2,
                        "count": 0
                      },
                      {
                        "bin_start": 0.2,
                        "bin_end": 0.30000000000000004,
                        "count": 0
                      },
                      {
                        "bin_start": 0.30000000000000004,
                        "bin_end": 0.4,
                        "count": 0
                      },
                      {
                        "bin_start": 0.4,
                        "bin_end": 0.5,
                        "count": 0
                      },
                      {
                        "bin_start": 0.5,
                        "bin_end": 0.6000000000000001,
                        "count": 0
                      },
                      {
                        "bin_start": 0.6000000000000001,
                        "bin_end": 0.7000000000000001,
                        "count": 0
                      },
                      {
                        "bin_start": 0.7000000000000001,
                        "bin_end": 0.8,
                        "count": 0
                      },
                      {
                        "bin_start": 0.8,
                        "bin_end": 0.9,
                        "count": 0
                      },
                      {
                        "bin_start": 0.9,
                        "bin_end": 1,
                        "count": 0
                      }
                    ]
                  }
                },
                {
                  "name": "d18",
                  "dtype": "float64",
                  "stats": {
                    "unique_count": 0,
                    "nan_count": 5,
                    "min": null,
                    "max": null,
                    "histogram": [
                      {
                        "bin_start": 0,
                        "bin_end": 0.1,
                        "count": 0
                      },
                      {
                        "bin_start": 0.1,
                        "bin_end": 0.2,
                        "count": 0
                      },
                      {
                        "bin_start": 0.2,
                        "bin_end": 0.30000000000000004,
                        "count": 0
                      },
                      {
                        "bin_start": 0.30000000000000004,
                        "bin_end": 0.4,
                        "count": 0
                      },
                      {
                        "bin_start": 0.4,
                        "bin_end": 0.5,
                        "count": 0
                      },
                      {
                        "bin_start": 0.5,
                        "bin_end": 0.6000000000000001,
                        "count": 0
                      },
                      {
                        "bin_start": 0.6000000000000001,
                        "bin_end": 0.7000000000000001,
                        "count": 0
                      },
                      {
                        "bin_start": 0.7000000000000001,
                        "bin_end": 0.8,
                        "count": 0
                      },
                      {
                        "bin_start": 0.8,
                        "bin_end": 0.9,
                        "count": 0
                      },
                      {
                        "bin_start": 0.9,
                        "bin_end": 1,
                        "count": 0
                      }
                    ]
                  }
                },
                {
                  "name": "d19",
                  "dtype": "float64",
                  "stats": {
                    "unique_count": 0,
                    "nan_count": 5,
                    "min": null,
                    "max": null,
                    "histogram": [
                      {
                        "bin_start": 0,
                        "bin_end": 0.1,
                        "count": 0
                      },
                      {
                        "bin_start": 0.1,
                        "bin_end": 0.2,
                        "count": 0
                      },
                      {
                        "bin_start": 0.2,
                        "bin_end": 0.30000000000000004,
                        "count": 0
                      },
                      {
                        "bin_start": 0.30000000000000004,
                        "bin_end": 0.4,
                        "count": 0
                      },
                      {
                        "bin_start": 0.4,
                        "bin_end": 0.5,
                        "count": 0
                      },
                      {
                        "bin_start": 0.5,
                        "bin_end": 0.6000000000000001,
                        "count": 0
                      },
                      {
                        "bin_start": 0.6000000000000001,
                        "bin_end": 0.7000000000000001,
                        "count": 0
                      },
                      {
                        "bin_start": 0.7000000000000001,
                        "bin_end": 0.8,
                        "count": 0
                      },
                      {
                        "bin_start": 0.8,
                        "bin_end": 0.9,
                        "count": 0
                      },
                      {
                        "bin_start": 0.9,
                        "bin_end": 1,
                        "count": 0
                      }
                    ]
                  }
                },
                {
                  "name": "d20",
                  "dtype": "float64",
                  "stats": {
                    "unique_count": 0,
                    "nan_count": 5,
                    "min": null,
                    "max": null,
                    "histogram": [
                      {
                        "bin_start": 0,
                        "bin_end": 0.1,
                        "count": 0
                      },
                      {
                        "bin_start": 0.1,
                        "bin_end": 0.2,
                        "count": 0
                      },
                      {
                        "bin_start": 0.2,
                        "bin_end": 0.30000000000000004,
                        "count": 0
                      },
                      {
                        "bin_start": 0.30000000000000004,
                        "bin_end": 0.4,
                        "count": 0
                      },
                      {
                        "bin_start": 0.4,
                        "bin_end": 0.5,
                        "count": 0
                      },
                      {
                        "bin_start": 0.5,
                        "bin_end": 0.6000000000000001,
                        "count": 0
                      },
                      {
                        "bin_start": 0.6000000000000001,
                        "bin_end": 0.7000000000000001,
                        "count": 0
                      },
                      {
                        "bin_start": 0.7000000000000001,
                        "bin_end": 0.8,
                        "count": 0
                      },
                      {
                        "bin_start": 0.8,
                        "bin_end": 0.9,
                        "count": 0
                      },
                      {
                        "bin_start": 0.9,
                        "bin_end": 1,
                        "count": 0
                      }
                    ]
                  }
                },
                {
                  "name": "d21",
                  "dtype": "float64",
                  "stats": {
                    "unique_count": 0,
                    "nan_count": 5,
                    "min": null,
                    "max": null,
                    "histogram": [
                      {
                        "bin_start": 0,
                        "bin_end": 0.1,
                        "count": 0
                      },
                      {
                        "bin_start": 0.1,
                        "bin_end": 0.2,
                        "count": 0
                      },
                      {
                        "bin_start": 0.2,
                        "bin_end": 0.30000000000000004,
                        "count": 0
                      },
                      {
                        "bin_start": 0.30000000000000004,
                        "bin_end": 0.4,
                        "count": 0
                      },
                      {
                        "bin_start": 0.4,
                        "bin_end": 0.5,
                        "count": 0
                      },
                      {
                        "bin_start": 0.5,
                        "bin_end": 0.6000000000000001,
                        "count": 0
                      },
                      {
                        "bin_start": 0.6000000000000001,
                        "bin_end": 0.7000000000000001,
                        "count": 0
                      },
                      {
                        "bin_start": 0.7000000000000001,
                        "bin_end": 0.8,
                        "count": 0
                      },
                      {
                        "bin_start": 0.8,
                        "bin_end": 0.9,
                        "count": 0
                      },
                      {
                        "bin_start": 0.9,
                        "bin_end": 1,
                        "count": 0
                      }
                    ]
                  }
                },
                {
                  "name": "d22",
                  "dtype": "float64",
                  "stats": {
                    "unique_count": 0,
                    "nan_count": 5,
                    "min": null,
                    "max": null,
                    "histogram": [
                      {
                        "bin_start": 0,
                        "bin_end": 0.1,
                        "count": 0
                      },
                      {
                        "bin_start": 0.1,
                        "bin_end": 0.2,
                        "count": 0
                      },
                      {
                        "bin_start": 0.2,
                        "bin_end": 0.30000000000000004,
                        "count": 0
                      },
                      {
                        "bin_start": 0.30000000000000004,
                        "bin_end": 0.4,
                        "count": 0
                      },
                      {
                        "bin_start": 0.4,
                        "bin_end": 0.5,
                        "count": 0
                      },
                      {
                        "bin_start": 0.5,
                        "bin_end": 0.6000000000000001,
                        "count": 0
                      },
                      {
                        "bin_start": 0.6000000000000001,
                        "bin_end": 0.7000000000000001,
                        "count": 0
                      },
                      {
                        "bin_start": 0.7000000000000001,
                        "bin_end": 0.8,
                        "count": 0
                      },
                      {
                        "bin_start": 0.8,
                        "bin_end": 0.9,
                        "count": 0
                      },
                      {
                        "bin_start": 0.9,
                        "bin_end": 1,
                        "count": 0
                      }
                    ]
                  }
                },
                {
                  "name": "d23",
                  "dtype": "float64",
                  "stats": {
                    "unique_count": 2,
                    "nan_count": 3,
                    "min": "10.7",
                    "max": "29.9",
                    "histogram": [
                      {
                        "bin_start": 10.7,
                        "bin_end": 12.62,
                        "count": 1
                      },
                      {
                        "bin_start": 12.62,
                        "bin_end": 14.54,
                        "count": 0
                      },
                      {
                        "bin_start": 14.54,
                        "bin_end": 16.46,
                        "count": 0
                      },
                      {
                        "bin_start": 16.46,
                        "bin_end": 18.38,
                        "count": 0
                      },
                      {
                        "bin_start": 18.38,
                        "bin_end": 20.299999999999997,
                        "count": 0
                      },
                      {
                        "bin_start": 20.299999999999997,
                        "bin_end": 22.22,
                        "count": 0
                      },
                      {
                        "bin_start": 22.22,
                        "bin_end": 24.14,
                        "count": 0
                      },
                      {
                        "bin_start": 24.14,
                        "bin_end": 26.06,
                        "count": 0
                      },
                      {
                        "bin_start": 26.06,
                        "bin_end": 27.98,
                        "count": 0
                      },
                      {
                        "bin_start": 27.98,
                        "bin_end": 29.9,
                        "count": 1
                      }
                    ]
                  }
                },
                {
                  "name": "d24",
                  "dtype": "float64",
                  "stats": {
                    "unique_count": 0,
                    "nan_count": 5,
                    "min": null,
                    "max": null,
                    "histogram": [
                      {
                        "bin_start": 0,
                        "bin_end": 0.1,
                        "count": 0
                      },
                      {
                        "bin_start": 0.1,
                        "bin_end": 0.2,
                        "count": 0
                      },
                      {
                        "bin_start": 0.2,
                        "bin_end": 0.30000000000000004,
                        "count": 0
                      },
                      {
                        "bin_start": 0.30000000000000004,
                        "bin_end": 0.4,
                        "count": 0
                      },
                      {
                        "bin_start": 0.4,
                        "bin_end": 0.5,
                        "count": 0
                      },
                      {
                        "bin_start": 0.5,
                        "bin_end": 0.6000000000000001,
                        "count": 0
                      },
                      {
                        "bin_start": 0.6000000000000001,
                        "bin_end": 0.7000000000000001,
                        "count": 0
                      },
                      {
                        "bin_start": 0.7000000000000001,
                        "bin_end": 0.8,
                        "count": 0
                      },
                      {
                        "bin_start": 0.8,
                        "bin_end": 0.9,
                        "count": 0
                      },
                      {
                        "bin_start": 0.9,
                        "bin_end": 1,
                        "count": 0
                      }
                    ]
                  }
                },
                {
                  "name": "d25",
                  "dtype": "float64",
                  "stats": {
                    "unique_count": 0,
                    "nan_count": 5,
                    "min": null,
                    "max": null,
                    "histogram": [
                      {
                        "bin_start": 0,
                        "bin_end": 0.1,
                        "count": 0
                      },
                      {
                        "bin_start": 0.1,
                        "bin_end": 0.2,
                        "count": 0
                      },
                      {
                        "bin_start": 0.2,
                        "bin_end": 0.30000000000000004,
                        "count": 0
                      },
                      {
                        "bin_start": 0.30000000000000004,
                        "bin_end": 0.4,
                        "count": 0
                      },
                      {
                        "bin_start": 0.4,
                        "bin_end": 0.5,
                        "count": 0
                      },
                      {
                        "bin_start": 0.5,
                        "bin_end": 0.6000000000000001,
                        "count": 0
                      },
                      {
                        "bin_start": 0.6000000000000001,
                        "bin_end": 0.7000000000000001,
                        "count": 0
                      },
                      {
                        "bin_start": 0.7000000000000001,
                        "bin_end": 0.8,
                        "count": 0
                      },
                      {
                        "bin_start": 0.8,
                        "bin_end": 0.9,
                        "count": 0
                      },
                      {
                        "bin_start": 0.9,
                        "bin_end": 1,
                        "count": 0
                      }
                    ]
                  }
                },
                {
                  "name": "d26",
                  "dtype": "float64",
                  "stats": {
                    "unique_count": 0,
                    "nan_count": 5,
                    "min": null,
                    "max": null,
                    "histogram": [
                      {
                        "bin_start": 0,
                        "bin_end": 0.1,
                        "count": 0
                      },
                      {
                        "bin_start": 0.1,
                        "bin_end": 0.2,
                        "count": 0
                      },
                      {
                        "bin_start": 0.2,
                        "bin_end": 0.30000000000000004,
                        "count": 0
                      },
                      {
                        "bin_start": 0.30000000000000004,
                        "bin_end": 0.4,
                        "count": 0
                      },
                      {
                        "bin_start": 0.4,
                        "bin_end": 0.5,
                        "count": 0
                      },
                      {
                        "bin_start": 0.5,
                        "bin_end": 0.6000000000000001,
                        "count": 0
                      },
                      {
                        "bin_start": 0.6000000000000001,
                        "bin_end": 0.7000000000000001,
                        "count": 0
                      },
                      {
                        "bin_start": 0.7000000000000001,
                        "bin_end": 0.8,
                        "count": 0
                      },
                      {
                        "bin_start": 0.8,
                        "bin_end": 0.9,
                        "count": 0
                      },
                      {
                        "bin_start": 0.9,
                        "bin_end": 1,
                        "count": 0
                      }
                    ]
                  }
                },
                {
                  "name": "d27",
                  "dtype": "float64",
                  "stats": {
                    "unique_count": 0,
                    "nan_count": 5,
                    "min": null,
                    "max": null,
                    "histogram": [
                      {
                        "bin_start": 0,
                        "bin_end": 0.1,
                        "count": 0
                      },
                      {
                        "bin_start": 0.1,
                        "bin_end": 0.2,
                        "count": 0
                      },
                      {
                        "bin_start": 0.2,
                        "bin_end": 0.30000000000000004,
                        "count": 0
                      },
                      {
                        "bin_start": 0.30000000000000004,
                        "bin_end": 0.4,
                        "count": 0
                      },
                      {
                        "bin_start": 0.4,
                        "bin_end": 0.5,
                        "count": 0
                      },
                      {
                        "bin_start": 0.5,
                        "bin_end": 0.6000000000000001,
                        "count": 0
                      },
                      {
                        "bin_start": 0.6000000000000001,
                        "bin_end": 0.7000000000000001,
                        "count": 0
                      },
                      {
                        "bin_start": 0.7000000000000001,
                        "bin_end": 0.8,
                        "count": 0
                      },
                      {
                        "bin_start": 0.8,
                        "bin_end": 0.9,
                        "count": 0
                      },
                      {
                        "bin_start": 0.9,
                        "bin_end": 1,
                        "count": 0
                      }
                    ]
                  }
                },
                {
                  "name": "d28",
                  "dtype": "float64",
                  "stats": {
                    "unique_count": 0,
                    "nan_count": 5,
                    "min": null,
                    "max": null,
                    "histogram": [
                      {
                        "bin_start": 0,
                        "bin_end": 0.1,
                        "count": 0
                      },
                      {
                        "bin_start": 0.1,
                        "bin_end": 0.2,
                        "count": 0
                      },
                      {
                        "bin_start": 0.2,
                        "bin_end": 0.30000000000000004,
                        "count": 0
                      },
                      {
                        "bin_start": 0.30000000000000004,
                        "bin_end": 0.4,
                        "count": 0
                      },
                      {
                        "bin_start": 0.4,
                        "bin_end": 0.5,
                        "count": 0
                      },
                      {
                        "bin_start": 0.5,
                        "bin_end": 0.6000000000000001,
                        "count": 0
                      },
                      {
                        "bin_start": 0.6000000000000001,
                        "bin_end": 0.7000000000000001,
                        "count": 0
                      },
                      {
                        "bin_start": 0.7000000000000001,
                        "bin_end": 0.8,
                        "count": 0
                      },
                      {
                        "bin_start": 0.8,
                        "bin_end": 0.9,
                        "count": 0
                      },
                      {
                        "bin_start": 0.9,
                        "bin_end": 1,
                        "count": 0
                      }
                    ]
                  }
                },
                {
                  "name": "d29",
                  "dtype": "float64",
                  "stats": {
                    "unique_count": 0,
                    "nan_count": 5,
                    "min": null,
                    "max": null,
                    "histogram": [
                      {
                        "bin_start": 0,
                        "bin_end": 0.1,
                        "count": 0
                      },
                      {
                        "bin_start": 0.1,
                        "bin_end": 0.2,
                        "count": 0
                      },
                      {
                        "bin_start": 0.2,
                        "bin_end": 0.30000000000000004,
                        "count": 0
                      },
                      {
                        "bin_start": 0.30000000000000004,
                        "bin_end": 0.4,
                        "count": 0
                      },
                      {
                        "bin_start": 0.4,
                        "bin_end": 0.5,
                        "count": 0
                      },
                      {
                        "bin_start": 0.5,
                        "bin_end": 0.6000000000000001,
                        "count": 0
                      },
                      {
                        "bin_start": 0.6000000000000001,
                        "bin_end": 0.7000000000000001,
                        "count": 0
                      },
                      {
                        "bin_start": 0.7000000000000001,
                        "bin_end": 0.8,
                        "count": 0
                      },
                      {
                        "bin_start": 0.8,
                        "bin_end": 0.9,
                        "count": 0
                      },
                      {
                        "bin_start": 0.9,
                        "bin_end": 1,
                        "count": 0
                      }
                    ]
                  }
                },
                {
                  "name": "d30",
                  "dtype": "float64",
                  "stats": {
                    "unique_count": 2,
                    "nan_count": 3,
                    "min": "14.5",
                    "max": "27.8",
                    "histogram": [
                      {
                        "bin_start": 14.5,
                        "bin_end": 15.83,
                        "count": 1
                      },
                      {
                        "bin_start": 15.83,
                        "bin_end": 17.16,
                        "count": 0
                      },
                      {
                        "bin_start": 17.16,
                        "bin_end": 18.490000000000002,
                        "count": 0
                      },
                      {
                        "bin_start": 18.490000000000002,
                        "bin_end": 19.82,
                        "count": 0
                      },
                      {
                        "bin_start": 19.82,
                        "bin_end": 21.15,
                        "count": 0
                      },
                      {
                        "bin_start": 21.15,
                        "bin_end": 22.48,
                        "count": 0
                      },
                      {
                        "bin_start": 22.48,
                        "bin_end": 23.810000000000002,
                        "count": 0
                      },
                      {
                        "bin_start": 23.810000000000002,
                        "bin_end": 25.14,
                        "count": 0
                      },
                      {
                        "bin_start": 25.14,
                        "bin_end": 26.47,
                        "count": 0
                      },
                      {
                        "bin_start": 26.47,
                        "bin_end": 27.8,
                        "count": 1
                      }
                    ]
                  }
                },
                {
                  "name": "d31",
                  "dtype": "float64",
                  "stats": {
                    "unique_count": 0,
                    "nan_count": 5,
                    "min": null,
                    "max": null,
                    "histogram": [
                      {
                        "bin_start": 0,
                        "bin_end": 0.1,
                        "count": 0
                      },
                      {
                        "bin_start": 0.1,
                        "bin_end": 0.2,
                        "count": 0
                      },
                      {
                        "bin_start": 0.2,
                        "bin_end": 0.30000000000000004,
                        "count": 0
                      },
                      {
                        "bin_start": 0.30000000000000004,
                        "bin_end": 0.4,
                        "count": 0
                      },
                      {
                        "bin_start": 0.4,
                        "bin_end": 0.5,
                        "count": 0
                      },
                      {
                        "bin_start": 0.5,
                        "bin_end": 0.6000000000000001,
                        "count": 0
                      },
                      {
                        "bin_start": 0.6000000000000001,
                        "bin_end": 0.7000000000000001,
                        "count": 0
                      },
                      {
                        "bin_start": 0.7000000000000001,
                        "bin_end": 0.8,
                        "count": 0
                      },
                      {
                        "bin_start": 0.8,
                        "bin_end": 0.9,
                        "count": 0
                      },
                      {
                        "bin_start": 0.9,
                        "bin_end": 1,
                        "count": 0
                      }
                    ]
                  }
                },
                {
                  "name": "_deepnote_index_column",
                  "dtype": "int64"
                }
              ],
              "rows_top": [
                {
                  "id": "MX17004",
                  "year": 2010,
                  "month": 1,
                  "element": "tmax",
                  "d1": "nan",
                  "d2": "nan",
                  "d3": "nan",
                  "d4": "nan",
                  "d5": "nan",
                  "d6": "nan",
                  "d7": "nan",
                  "d8": "nan",
                  "d9": "nan",
                  "d10": "nan",
                  "d11": "nan",
                  "d12": "nan",
                  "d13": "nan",
                  "d14": "nan",
                  "d15": "nan",
                  "d16": "nan",
                  "d17": "nan",
                  "d18": "nan",
                  "d19": "nan",
                  "d20": "nan",
                  "d21": "nan",
                  "d22": "nan",
                  "d23": "nan",
                  "d24": "nan",
                  "d25": "nan",
                  "d26": "nan",
                  "d27": "nan",
                  "d28": "nan",
                  "d29": "nan",
                  "d30": "27.8",
                  "d31": "nan",
                  "_deepnote_index_column": 0
                },
                {
                  "id": "MX17004",
                  "year": 2010,
                  "month": 1,
                  "element": "tmin",
                  "d1": "nan",
                  "d2": "nan",
                  "d3": "nan",
                  "d4": "nan",
                  "d5": "nan",
                  "d6": "nan",
                  "d7": "nan",
                  "d8": "nan",
                  "d9": "nan",
                  "d10": "nan",
                  "d11": "nan",
                  "d12": "nan",
                  "d13": "nan",
                  "d14": "nan",
                  "d15": "nan",
                  "d16": "nan",
                  "d17": "nan",
                  "d18": "nan",
                  "d19": "nan",
                  "d20": "nan",
                  "d21": "nan",
                  "d22": "nan",
                  "d23": "nan",
                  "d24": "nan",
                  "d25": "nan",
                  "d26": "nan",
                  "d27": "nan",
                  "d28": "nan",
                  "d29": "nan",
                  "d30": "14.5",
                  "d31": "nan",
                  "_deepnote_index_column": 1
                },
                {
                  "id": "MX17004",
                  "year": 2010,
                  "month": 2,
                  "element": "tmax",
                  "d1": "nan",
                  "d2": "27.3",
                  "d3": "24.1",
                  "d4": "nan",
                  "d5": "nan",
                  "d6": "nan",
                  "d7": "nan",
                  "d8": "nan",
                  "d9": "nan",
                  "d10": "nan",
                  "d11": "29.7",
                  "d12": "nan",
                  "d13": "nan",
                  "d14": "nan",
                  "d15": "nan",
                  "d16": "nan",
                  "d17": "nan",
                  "d18": "nan",
                  "d19": "nan",
                  "d20": "nan",
                  "d21": "nan",
                  "d22": "nan",
                  "d23": "29.9",
                  "d24": "nan",
                  "d25": "nan",
                  "d26": "nan",
                  "d27": "nan",
                  "d28": "nan",
                  "d29": "nan",
                  "d30": "nan",
                  "d31": "nan",
                  "_deepnote_index_column": 2
                },
                {
                  "id": "MX17004",
                  "year": 2010,
                  "month": 2,
                  "element": "tmin",
                  "d1": "nan",
                  "d2": "14.4",
                  "d3": "14.4",
                  "d4": "nan",
                  "d5": "nan",
                  "d6": "nan",
                  "d7": "nan",
                  "d8": "nan",
                  "d9": "nan",
                  "d10": "nan",
                  "d11": "13.4",
                  "d12": "nan",
                  "d13": "nan",
                  "d14": "nan",
                  "d15": "nan",
                  "d16": "nan",
                  "d17": "nan",
                  "d18": "nan",
                  "d19": "nan",
                  "d20": "nan",
                  "d21": "nan",
                  "d22": "nan",
                  "d23": "10.7",
                  "d24": "nan",
                  "d25": "nan",
                  "d26": "nan",
                  "d27": "nan",
                  "d28": "nan",
                  "d29": "nan",
                  "d30": "nan",
                  "d31": "nan",
                  "_deepnote_index_column": 3
                },
                {
                  "id": "MX17004",
                  "year": 2010,
                  "month": 3,
                  "element": "tmax",
                  "d1": "nan",
                  "d2": "nan",
                  "d3": "nan",
                  "d4": "nan",
                  "d5": "32.1",
                  "d6": "nan",
                  "d7": "nan",
                  "d8": "nan",
                  "d9": "nan",
                  "d10": "34.5",
                  "d11": "nan",
                  "d12": "nan",
                  "d13": "nan",
                  "d14": "nan",
                  "d15": "nan",
                  "d16": "31.1",
                  "d17": "nan",
                  "d18": "nan",
                  "d19": "nan",
                  "d20": "nan",
                  "d21": "nan",
                  "d22": "nan",
                  "d23": "nan",
                  "d24": "nan",
                  "d25": "nan",
                  "d26": "nan",
                  "d27": "nan",
                  "d28": "nan",
                  "d29": "nan",
                  "d30": "nan",
                  "d31": "nan",
                  "_deepnote_index_column": 4
                }
              ],
              "rows_bottom": null
            },
            "text/plain": "        id  year  month element  d1    d2    d3  d4    d5  d6  ...  d22   d23  \\\n0  MX17004  2010      1    tmax NaN   NaN   NaN NaN   NaN NaN  ...  NaN   NaN   \n1  MX17004  2010      1    tmin NaN   NaN   NaN NaN   NaN NaN  ...  NaN   NaN   \n2  MX17004  2010      2    tmax NaN  27.3  24.1 NaN   NaN NaN  ...  NaN  29.9   \n3  MX17004  2010      2    tmin NaN  14.4  14.4 NaN   NaN NaN  ...  NaN  10.7   \n4  MX17004  2010      3    tmax NaN   NaN   NaN NaN  32.1 NaN  ...  NaN   NaN   \n\n   d24  d25  d26  d27  d28  d29   d30  d31  \n0  NaN  NaN  NaN  NaN  NaN  NaN  27.8  NaN  \n1  NaN  NaN  NaN  NaN  NaN  NaN  14.5  NaN  \n2  NaN  NaN  NaN  NaN  NaN  NaN   NaN  NaN  \n3  NaN  NaN  NaN  NaN  NaN  NaN   NaN  NaN  \n4  NaN  NaN  NaN  NaN  NaN  NaN   NaN  NaN  \n\n[5 rows x 35 columns]",
            "text/html": "<div>\n<style scoped>\n    .dataframe tbody tr th:only-of-type {\n        vertical-align: middle;\n    }\n\n    .dataframe tbody tr th {\n        vertical-align: top;\n    }\n\n    .dataframe thead th {\n        text-align: right;\n    }\n</style>\n<table border=\"1\" class=\"dataframe\">\n  <thead>\n    <tr style=\"text-align: right;\">\n      <th></th>\n      <th>id</th>\n      <th>year</th>\n      <th>month</th>\n      <th>element</th>\n      <th>d1</th>\n      <th>d2</th>\n      <th>d3</th>\n      <th>d4</th>\n      <th>d5</th>\n      <th>d6</th>\n      <th>...</th>\n      <th>d22</th>\n      <th>d23</th>\n      <th>d24</th>\n      <th>d25</th>\n      <th>d26</th>\n      <th>d27</th>\n      <th>d28</th>\n      <th>d29</th>\n      <th>d30</th>\n      <th>d31</th>\n    </tr>\n  </thead>\n  <tbody>\n    <tr>\n      <th>0</th>\n      <td>MX17004</td>\n      <td>2010</td>\n      <td>1</td>\n      <td>tmax</td>\n      <td>NaN</td>\n      <td>NaN</td>\n      <td>NaN</td>\n      <td>NaN</td>\n      <td>NaN</td>\n      <td>NaN</td>\n      <td>...</td>\n      <td>NaN</td>\n      <td>NaN</td>\n      <td>NaN</td>\n      <td>NaN</td>\n      <td>NaN</td>\n      <td>NaN</td>\n      <td>NaN</td>\n      <td>NaN</td>\n      <td>27.8</td>\n      <td>NaN</td>\n    </tr>\n    <tr>\n      <th>1</th>\n      <td>MX17004</td>\n      <td>2010</td>\n      <td>1</td>\n      <td>tmin</td>\n      <td>NaN</td>\n      <td>NaN</td>\n      <td>NaN</td>\n      <td>NaN</td>\n      <td>NaN</td>\n      <td>NaN</td>\n      <td>...</td>\n      <td>NaN</td>\n      <td>NaN</td>\n      <td>NaN</td>\n      <td>NaN</td>\n      <td>NaN</td>\n      <td>NaN</td>\n      <td>NaN</td>\n      <td>NaN</td>\n      <td>14.5</td>\n      <td>NaN</td>\n    </tr>\n    <tr>\n      <th>2</th>\n      <td>MX17004</td>\n      <td>2010</td>\n      <td>2</td>\n      <td>tmax</td>\n      <td>NaN</td>\n      <td>27.3</td>\n      <td>24.1</td>\n      <td>NaN</td>\n      <td>NaN</td>\n      <td>NaN</td>\n      <td>...</td>\n      <td>NaN</td>\n      <td>29.9</td>\n      <td>NaN</td>\n      <td>NaN</td>\n      <td>NaN</td>\n      <td>NaN</td>\n      <td>NaN</td>\n      <td>NaN</td>\n      <td>NaN</td>\n      <td>NaN</td>\n    </tr>\n    <tr>\n      <th>3</th>\n      <td>MX17004</td>\n      <td>2010</td>\n      <td>2</td>\n      <td>tmin</td>\n      <td>NaN</td>\n      <td>14.4</td>\n      <td>14.4</td>\n      <td>NaN</td>\n      <td>NaN</td>\n      <td>NaN</td>\n      <td>...</td>\n      <td>NaN</td>\n      <td>10.7</td>\n      <td>NaN</td>\n      <td>NaN</td>\n      <td>NaN</td>\n      <td>NaN</td>\n      <td>NaN</td>\n      <td>NaN</td>\n      <td>NaN</td>\n      <td>NaN</td>\n    </tr>\n    <tr>\n      <th>4</th>\n      <td>MX17004</td>\n      <td>2010</td>\n      <td>3</td>\n      <td>tmax</td>\n      <td>NaN</td>\n      <td>NaN</td>\n      <td>NaN</td>\n      <td>NaN</td>\n      <td>32.1</td>\n      <td>NaN</td>\n      <td>...</td>\n      <td>NaN</td>\n      <td>NaN</td>\n      <td>NaN</td>\n      <td>NaN</td>\n      <td>NaN</td>\n      <td>NaN</td>\n      <td>NaN</td>\n      <td>NaN</td>\n      <td>NaN</td>\n      <td>NaN</td>\n    </tr>\n  </tbody>\n</table>\n<p>5 rows × 35 columns</p>\n</div>"
          },
          "metadata": {}
        }
      ]
    },
    {
      "cell_type": "markdown",
      "source": "convert tmin and tmax to separate columns",
      "metadata": {
        "tags": [],
        "cell_id": "00045-f233087e-86b2-4cb8-b62a-3bca6cb0ec21",
        "deepnote_cell_type": "markdown"
      }
    },
    {
      "cell_type": "code",
      "metadata": {
        "tags": [],
        "cell_id": "00045-feded3a2-91e6-4f65-88a7-c398ca0da322",
        "deepnote_to_be_reexecuted": false,
        "source_hash": "7517d874",
        "execution_start": 1620040048846,
        "execution_millis": 1,
        "deepnote_cell_type": "code"
      },
      "source": "weather_melt=pd.melt(\n    weather,\n    id_vars=['id','year','month', 'element'],\n    var_name='day',\n    value_name='temp'\n)",
      "execution_count": 70,
      "outputs": []
    },
    {
      "cell_type": "code",
      "metadata": {
        "tags": [],
        "cell_id": "00047-2f544b28-4243-4c49-ac2a-4748c7743966",
        "deepnote_to_be_reexecuted": false,
        "source_hash": "27fea5b3",
        "execution_start": 1620040068204,
        "execution_millis": 39,
        "deepnote_cell_type": "code"
      },
      "source": "weather_melt.head()# confirm",
      "execution_count": 71,
      "outputs": [
        {
          "output_type": "execute_result",
          "execution_count": 71,
          "data": {
            "application/vnd.deepnote.dataframe.v2+json": {
              "row_count": 5,
              "column_count": 6,
              "columns": [
                {
                  "name": "id",
                  "dtype": "object",
                  "stats": {
                    "unique_count": 1,
                    "nan_count": 0,
                    "categories": [
                      {
                        "name": "MX17004",
                        "count": 5
                      }
                    ]
                  }
                },
                {
                  "name": "year",
                  "dtype": "int64",
                  "stats": {
                    "unique_count": 1,
                    "nan_count": 0,
                    "min": "2010",
                    "max": "2010",
                    "histogram": [
                      {
                        "bin_start": 2009.5,
                        "bin_end": 2009.6,
                        "count": 0
                      },
                      {
                        "bin_start": 2009.6,
                        "bin_end": 2009.7,
                        "count": 0
                      },
                      {
                        "bin_start": 2009.7,
                        "bin_end": 2009.8,
                        "count": 0
                      },
                      {
                        "bin_start": 2009.8,
                        "bin_end": 2009.9,
                        "count": 0
                      },
                      {
                        "bin_start": 2009.9,
                        "bin_end": 2010,
                        "count": 0
                      },
                      {
                        "bin_start": 2010,
                        "bin_end": 2010.1,
                        "count": 5
                      },
                      {
                        "bin_start": 2010.1,
                        "bin_end": 2010.2,
                        "count": 0
                      },
                      {
                        "bin_start": 2010.2,
                        "bin_end": 2010.3,
                        "count": 0
                      },
                      {
                        "bin_start": 2010.3,
                        "bin_end": 2010.4,
                        "count": 0
                      },
                      {
                        "bin_start": 2010.4,
                        "bin_end": 2010.5,
                        "count": 0
                      }
                    ]
                  }
                },
                {
                  "name": "month",
                  "dtype": "int64",
                  "stats": {
                    "unique_count": 3,
                    "nan_count": 0,
                    "min": "1",
                    "max": "3",
                    "histogram": [
                      {
                        "bin_start": 1,
                        "bin_end": 1.2,
                        "count": 2
                      },
                      {
                        "bin_start": 1.2,
                        "bin_end": 1.4,
                        "count": 0
                      },
                      {
                        "bin_start": 1.4,
                        "bin_end": 1.6,
                        "count": 0
                      },
                      {
                        "bin_start": 1.6,
                        "bin_end": 1.8,
                        "count": 0
                      },
                      {
                        "bin_start": 1.8,
                        "bin_end": 2,
                        "count": 0
                      },
                      {
                        "bin_start": 2,
                        "bin_end": 2.2,
                        "count": 2
                      },
                      {
                        "bin_start": 2.2,
                        "bin_end": 2.4000000000000004,
                        "count": 0
                      },
                      {
                        "bin_start": 2.4000000000000004,
                        "bin_end": 2.6,
                        "count": 0
                      },
                      {
                        "bin_start": 2.6,
                        "bin_end": 2.8,
                        "count": 0
                      },
                      {
                        "bin_start": 2.8,
                        "bin_end": 3,
                        "count": 1
                      }
                    ]
                  }
                },
                {
                  "name": "element",
                  "dtype": "object",
                  "stats": {
                    "unique_count": 2,
                    "nan_count": 0,
                    "categories": [
                      {
                        "name": "tmax",
                        "count": 3
                      },
                      {
                        "name": "tmin",
                        "count": 2
                      }
                    ]
                  }
                },
                {
                  "name": "day",
                  "dtype": "object",
                  "stats": {
                    "unique_count": 1,
                    "nan_count": 0,
                    "categories": [
                      {
                        "name": "d1",
                        "count": 5
                      }
                    ]
                  }
                },
                {
                  "name": "temp",
                  "dtype": "float64",
                  "stats": {
                    "unique_count": 0,
                    "nan_count": 5,
                    "min": null,
                    "max": null,
                    "histogram": [
                      {
                        "bin_start": 0,
                        "bin_end": 0.1,
                        "count": 0
                      },
                      {
                        "bin_start": 0.1,
                        "bin_end": 0.2,
                        "count": 0
                      },
                      {
                        "bin_start": 0.2,
                        "bin_end": 0.30000000000000004,
                        "count": 0
                      },
                      {
                        "bin_start": 0.30000000000000004,
                        "bin_end": 0.4,
                        "count": 0
                      },
                      {
                        "bin_start": 0.4,
                        "bin_end": 0.5,
                        "count": 0
                      },
                      {
                        "bin_start": 0.5,
                        "bin_end": 0.6000000000000001,
                        "count": 0
                      },
                      {
                        "bin_start": 0.6000000000000001,
                        "bin_end": 0.7000000000000001,
                        "count": 0
                      },
                      {
                        "bin_start": 0.7000000000000001,
                        "bin_end": 0.8,
                        "count": 0
                      },
                      {
                        "bin_start": 0.8,
                        "bin_end": 0.9,
                        "count": 0
                      },
                      {
                        "bin_start": 0.9,
                        "bin_end": 1,
                        "count": 0
                      }
                    ]
                  }
                },
                {
                  "name": "_deepnote_index_column",
                  "dtype": "int64"
                }
              ],
              "rows_top": [
                {
                  "id": "MX17004",
                  "year": 2010,
                  "month": 1,
                  "element": "tmax",
                  "day": "d1",
                  "temp": "nan",
                  "_deepnote_index_column": 0
                },
                {
                  "id": "MX17004",
                  "year": 2010,
                  "month": 1,
                  "element": "tmin",
                  "day": "d1",
                  "temp": "nan",
                  "_deepnote_index_column": 1
                },
                {
                  "id": "MX17004",
                  "year": 2010,
                  "month": 2,
                  "element": "tmax",
                  "day": "d1",
                  "temp": "nan",
                  "_deepnote_index_column": 2
                },
                {
                  "id": "MX17004",
                  "year": 2010,
                  "month": 2,
                  "element": "tmin",
                  "day": "d1",
                  "temp": "nan",
                  "_deepnote_index_column": 3
                },
                {
                  "id": "MX17004",
                  "year": 2010,
                  "month": 3,
                  "element": "tmax",
                  "day": "d1",
                  "temp": "nan",
                  "_deepnote_index_column": 4
                }
              ],
              "rows_bottom": null
            },
            "text/plain": "        id  year  month element day  temp\n0  MX17004  2010      1    tmax  d1   NaN\n1  MX17004  2010      1    tmin  d1   NaN\n2  MX17004  2010      2    tmax  d1   NaN\n3  MX17004  2010      2    tmin  d1   NaN\n4  MX17004  2010      3    tmax  d1   NaN",
            "text/html": "<div>\n<style scoped>\n    .dataframe tbody tr th:only-of-type {\n        vertical-align: middle;\n    }\n\n    .dataframe tbody tr th {\n        vertical-align: top;\n    }\n\n    .dataframe thead th {\n        text-align: right;\n    }\n</style>\n<table border=\"1\" class=\"dataframe\">\n  <thead>\n    <tr style=\"text-align: right;\">\n      <th></th>\n      <th>id</th>\n      <th>year</th>\n      <th>month</th>\n      <th>element</th>\n      <th>day</th>\n      <th>temp</th>\n    </tr>\n  </thead>\n  <tbody>\n    <tr>\n      <th>0</th>\n      <td>MX17004</td>\n      <td>2010</td>\n      <td>1</td>\n      <td>tmax</td>\n      <td>d1</td>\n      <td>NaN</td>\n    </tr>\n    <tr>\n      <th>1</th>\n      <td>MX17004</td>\n      <td>2010</td>\n      <td>1</td>\n      <td>tmin</td>\n      <td>d1</td>\n      <td>NaN</td>\n    </tr>\n    <tr>\n      <th>2</th>\n      <td>MX17004</td>\n      <td>2010</td>\n      <td>2</td>\n      <td>tmax</td>\n      <td>d1</td>\n      <td>NaN</td>\n    </tr>\n    <tr>\n      <th>3</th>\n      <td>MX17004</td>\n      <td>2010</td>\n      <td>2</td>\n      <td>tmin</td>\n      <td>d1</td>\n      <td>NaN</td>\n    </tr>\n    <tr>\n      <th>4</th>\n      <td>MX17004</td>\n      <td>2010</td>\n      <td>3</td>\n      <td>tmax</td>\n      <td>d1</td>\n      <td>NaN</td>\n    </tr>\n  </tbody>\n</table>\n</div>"
          },
          "metadata": {}
        }
      ]
    },
    {
      "cell_type": "markdown",
      "source": "This fixed the day but we still have problems with the temperature.",
      "metadata": {
        "tags": [],
        "cell_id": "00048-b017836c-c593-4b2f-80b3-cef858cf4193",
        "deepnote_cell_type": "markdown"
      }
    },
    {
      "cell_type": "code",
      "metadata": {
        "tags": [],
        "cell_id": "00049-e0198438-7368-40b5-babd-ce0af8837b7e",
        "deepnote_to_be_reexecuted": false,
        "source_hash": "25278e6f",
        "execution_start": 1620040489067,
        "execution_millis": 20,
        "deepnote_cell_type": "code"
      },
      "source": "#weather.melt() also work\nweather_tidy=weather_melt.pivot_table(\n    index=['id','year', 'month', 'day'],#things that we don't want to move\n    columns='element', # create column for every new element\n    values='temp'\n)",
      "execution_count": 72,
      "outputs": []
    },
    {
      "cell_type": "code",
      "metadata": {
        "tags": [],
        "cell_id": "00050-40d49258-f167-4e83-979b-106ce037d567",
        "deepnote_to_be_reexecuted": false,
        "source_hash": "33e3b928",
        "execution_start": 1620040567872,
        "execution_millis": 47,
        "deepnote_cell_type": "code"
      },
      "source": "weather_tidy # confirm",
      "execution_count": 74,
      "outputs": [
        {
          "output_type": "execute_result",
          "execution_count": 74,
          "data": {
            "application/vnd.deepnote.dataframe.v2+json": {
              "row_count": 33,
              "column_count": 2,
              "columns": [
                {
                  "name": "tmax",
                  "dtype": "float64",
                  "stats": {
                    "unique_count": 27,
                    "nan_count": 0,
                    "min": "24.1",
                    "max": "36.3",
                    "histogram": [
                      {
                        "bin_start": 24.1,
                        "bin_end": 25.32,
                        "count": 1
                      },
                      {
                        "bin_start": 25.32,
                        "bin_end": 26.54,
                        "count": 3
                      },
                      {
                        "bin_start": 26.54,
                        "bin_end": 27.759999999999998,
                        "count": 4
                      },
                      {
                        "bin_start": 27.759999999999998,
                        "bin_end": 28.98,
                        "count": 8
                      },
                      {
                        "bin_start": 28.98,
                        "bin_end": 30.2,
                        "count": 10
                      },
                      {
                        "bin_start": 30.2,
                        "bin_end": 31.419999999999998,
                        "count": 3
                      },
                      {
                        "bin_start": 31.419999999999998,
                        "bin_end": 32.64,
                        "count": 1
                      },
                      {
                        "bin_start": 32.64,
                        "bin_end": 33.86,
                        "count": 1
                      },
                      {
                        "bin_start": 33.86,
                        "bin_end": 35.08,
                        "count": 1
                      },
                      {
                        "bin_start": 35.08,
                        "bin_end": 36.3,
                        "count": 1
                      }
                    ]
                  }
                },
                {
                  "name": "tmin",
                  "dtype": "float64",
                  "stats": {
                    "unique_count": 27,
                    "nan_count": 0,
                    "min": "7.9",
                    "max": "18.2",
                    "histogram": [
                      {
                        "bin_start": 7.9,
                        "bin_end": 8.93,
                        "count": 1
                      },
                      {
                        "bin_start": 8.93,
                        "bin_end": 9.96,
                        "count": 0
                      },
                      {
                        "bin_start": 9.96,
                        "bin_end": 10.99,
                        "count": 3
                      },
                      {
                        "bin_start": 10.99,
                        "bin_end": 12.02,
                        "count": 1
                      },
                      {
                        "bin_start": 12.02,
                        "bin_end": 13.049999999999999,
                        "count": 3
                      },
                      {
                        "bin_start": 13.049999999999999,
                        "bin_end": 14.079999999999998,
                        "count": 3
                      },
                      {
                        "bin_start": 14.079999999999998,
                        "bin_end": 15.11,
                        "count": 7
                      },
                      {
                        "bin_start": 15.11,
                        "bin_end": 16.14,
                        "count": 4
                      },
                      {
                        "bin_start": 16.14,
                        "bin_end": 17.169999999999998,
                        "count": 5
                      },
                      {
                        "bin_start": 17.169999999999998,
                        "bin_end": 18.2,
                        "count": 6
                      }
                    ]
                  }
                },
                {
                  "name": "_deepnote_index_column",
                  "dtype": "object"
                }
              ],
              "rows_top": [
                {
                  "tmax": 27.8,
                  "tmin": 14.5,
                  "_deepnote_index_column": "('MX17004', 2010, 1, 'd30')"
                },
                {
                  "tmax": 29.7,
                  "tmin": 13.4,
                  "_deepnote_index_column": "('MX17004', 2010, 2, 'd11')"
                },
                {
                  "tmax": 27.3,
                  "tmin": 14.4,
                  "_deepnote_index_column": "('MX17004', 2010, 2, 'd2')"
                },
                {
                  "tmax": 29.9,
                  "tmin": 10.7,
                  "_deepnote_index_column": "('MX17004', 2010, 2, 'd23')"
                },
                {
                  "tmax": 24.1,
                  "tmin": 14.4,
                  "_deepnote_index_column": "('MX17004', 2010, 2, 'd3')"
                },
                {
                  "tmax": 34.5,
                  "tmin": 16.8,
                  "_deepnote_index_column": "('MX17004', 2010, 3, 'd10')"
                },
                {
                  "tmax": 31.1,
                  "tmin": 17.6,
                  "_deepnote_index_column": "('MX17004', 2010, 3, 'd16')"
                },
                {
                  "tmax": 32.1,
                  "tmin": 14.2,
                  "_deepnote_index_column": "('MX17004', 2010, 3, 'd5')"
                },
                {
                  "tmax": 36.3,
                  "tmin": 16.7,
                  "_deepnote_index_column": "('MX17004', 2010, 4, 'd27')"
                },
                {
                  "tmax": 33.2,
                  "tmin": 18.2,
                  "_deepnote_index_column": "('MX17004', 2010, 5, 'd27')"
                },
                {
                  "tmax": 28,
                  "tmin": 17.5,
                  "_deepnote_index_column": "('MX17004', 2010, 6, 'd17')"
                },
                {
                  "tmax": 30.1,
                  "tmin": 18,
                  "_deepnote_index_column": "('MX17004', 2010, 6, 'd29')"
                },
                {
                  "tmax": 28.6,
                  "tmin": 17.5,
                  "_deepnote_index_column": "('MX17004', 2010, 7, 'd3')"
                },
                {
                  "tmax": 29.9,
                  "tmin": 16.5,
                  "_deepnote_index_column": "('MX17004', 2010, 7, 'd14')"
                },
                {
                  "tmax": 26.4,
                  "tmin": 15,
                  "_deepnote_index_column": "('MX17004', 2010, 8, 'd23')"
                },
                {
                  "tmax": 29.6,
                  "tmin": 15.8,
                  "_deepnote_index_column": "('MX17004', 2010, 8, 'd5')"
                },
                {
                  "tmax": 28,
                  "tmin": 15.3,
                  "_deepnote_index_column": "('MX17004', 2010, 8, 'd29')"
                },
                {
                  "tmax": 29.8,
                  "tmin": 16.5,
                  "_deepnote_index_column": "('MX17004', 2010, 8, 'd13')"
                },
                {
                  "tmax": 29.7,
                  "tmin": 15.6,
                  "_deepnote_index_column": "('MX17004', 2010, 8, 'd25')"
                },
                {
                  "tmax": 25.4,
                  "tmin": 15.4,
                  "_deepnote_index_column": "('MX17004', 2010, 8, 'd31')"
                },
                {
                  "tmax": 29,
                  "tmin": 17.3,
                  "_deepnote_index_column": "('MX17004', 2010, 8, 'd8')"
                },
                {
                  "tmax": 27,
                  "tmin": 14,
                  "_deepnote_index_column": "('MX17004', 2010, 10, 'd5')"
                },
                {
                  "tmax": 29.5,
                  "tmin": 13,
                  "_deepnote_index_column": "('MX17004', 2010, 10, 'd14')"
                },
                {
                  "tmax": 28.7,
                  "tmin": 10.5,
                  "_deepnote_index_column": "('MX17004', 2010, 10, 'd15')"
                },
                {
                  "tmax": 31.2,
                  "tmin": 15,
                  "_deepnote_index_column": "('MX17004', 2010, 10, 'd28')"
                },
                {
                  "tmax": 28.1,
                  "tmin": 12.9,
                  "_deepnote_index_column": "('MX17004', 2010, 10, 'd7')"
                },
                {
                  "tmax": 31.3,
                  "tmin": 16.3,
                  "_deepnote_index_column": "('MX17004', 2010, 11, 'd2')"
                },
                {
                  "tmax": 26.3,
                  "tmin": 7.9,
                  "_deepnote_index_column": "('MX17004', 2010, 11, 'd5')"
                },
                {
                  "tmax": 27.7,
                  "tmin": 14.2,
                  "_deepnote_index_column": "('MX17004', 2010, 11, 'd27')"
                },
                {
                  "tmax": 28.1,
                  "tmin": 12.1,
                  "_deepnote_index_column": "('MX17004', 2010, 11, 'd26')"
                },
                {
                  "tmax": 27.2,
                  "tmin": 12,
                  "_deepnote_index_column": "('MX17004', 2010, 11, 'd4')"
                },
                {
                  "tmax": 29.9,
                  "tmin": 13.8,
                  "_deepnote_index_column": "('MX17004', 2010, 12, 'd1')"
                },
                {
                  "tmax": 27.8,
                  "tmin": 10.5,
                  "_deepnote_index_column": "('MX17004', 2010, 12, 'd6')"
                }
              ],
              "rows_bottom": null
            },
            "text/plain": "element                 tmax  tmin\nid      year month day            \nMX17004 2010 1     d30  27.8  14.5\n             2     d11  29.7  13.4\n                   d2   27.3  14.4\n                   d23  29.9  10.7\n                   d3   24.1  14.4\n             3     d10  34.5  16.8\n                   d16  31.1  17.6\n                   d5   32.1  14.2\n             4     d27  36.3  16.7\n             5     d27  33.2  18.2\n             6     d17  28.0  17.5\n                   d29  30.1  18.0\n             7     d3   28.6  17.5\n                   d14  29.9  16.5\n             8     d23  26.4  15.0\n                   d5   29.6  15.8\n                   d29  28.0  15.3\n                   d13  29.8  16.5\n                   d25  29.7  15.6\n                   d31  25.4  15.4\n                   d8   29.0  17.3\n             10    d5   27.0  14.0\n                   d14  29.5  13.0\n                   d15  28.7  10.5\n                   d28  31.2  15.0\n                   d7   28.1  12.9\n             11    d2   31.3  16.3\n                   d5   26.3   7.9\n                   d27  27.7  14.2\n                   d26  28.1  12.1\n                   d4   27.2  12.0\n             12    d1   29.9  13.8\n                   d6   27.8  10.5",
            "text/html": "<div>\n<style scoped>\n    .dataframe tbody tr th:only-of-type {\n        vertical-align: middle;\n    }\n\n    .dataframe tbody tr th {\n        vertical-align: top;\n    }\n\n    .dataframe thead th {\n        text-align: right;\n    }\n</style>\n<table border=\"1\" class=\"dataframe\">\n  <thead>\n    <tr style=\"text-align: right;\">\n      <th></th>\n      <th></th>\n      <th></th>\n      <th>element</th>\n      <th>tmax</th>\n      <th>tmin</th>\n    </tr>\n    <tr>\n      <th>id</th>\n      <th>year</th>\n      <th>month</th>\n      <th>day</th>\n      <th></th>\n      <th></th>\n    </tr>\n  </thead>\n  <tbody>\n    <tr>\n      <th rowspan=\"33\" valign=\"top\">MX17004</th>\n      <th rowspan=\"33\" valign=\"top\">2010</th>\n      <th>1</th>\n      <th>d30</th>\n      <td>27.8</td>\n      <td>14.5</td>\n    </tr>\n    <tr>\n      <th rowspan=\"4\" valign=\"top\">2</th>\n      <th>d11</th>\n      <td>29.7</td>\n      <td>13.4</td>\n    </tr>\n    <tr>\n      <th>d2</th>\n      <td>27.3</td>\n      <td>14.4</td>\n    </tr>\n    <tr>\n      <th>d23</th>\n      <td>29.9</td>\n      <td>10.7</td>\n    </tr>\n    <tr>\n      <th>d3</th>\n      <td>24.1</td>\n      <td>14.4</td>\n    </tr>\n    <tr>\n      <th rowspan=\"3\" valign=\"top\">3</th>\n      <th>d10</th>\n      <td>34.5</td>\n      <td>16.8</td>\n    </tr>\n    <tr>\n      <th>d16</th>\n      <td>31.1</td>\n      <td>17.6</td>\n    </tr>\n    <tr>\n      <th>d5</th>\n      <td>32.1</td>\n      <td>14.2</td>\n    </tr>\n    <tr>\n      <th>4</th>\n      <th>d27</th>\n      <td>36.3</td>\n      <td>16.7</td>\n    </tr>\n    <tr>\n      <th>5</th>\n      <th>d27</th>\n      <td>33.2</td>\n      <td>18.2</td>\n    </tr>\n    <tr>\n      <th rowspan=\"2\" valign=\"top\">6</th>\n      <th>d17</th>\n      <td>28.0</td>\n      <td>17.5</td>\n    </tr>\n    <tr>\n      <th>d29</th>\n      <td>30.1</td>\n      <td>18.0</td>\n    </tr>\n    <tr>\n      <th rowspan=\"2\" valign=\"top\">7</th>\n      <th>d3</th>\n      <td>28.6</td>\n      <td>17.5</td>\n    </tr>\n    <tr>\n      <th>d14</th>\n      <td>29.9</td>\n      <td>16.5</td>\n    </tr>\n    <tr>\n      <th rowspan=\"7\" valign=\"top\">8</th>\n      <th>d23</th>\n      <td>26.4</td>\n      <td>15.0</td>\n    </tr>\n    <tr>\n      <th>d5</th>\n      <td>29.6</td>\n      <td>15.8</td>\n    </tr>\n    <tr>\n      <th>d29</th>\n      <td>28.0</td>\n      <td>15.3</td>\n    </tr>\n    <tr>\n      <th>d13</th>\n      <td>29.8</td>\n      <td>16.5</td>\n    </tr>\n    <tr>\n      <th>d25</th>\n      <td>29.7</td>\n      <td>15.6</td>\n    </tr>\n    <tr>\n      <th>d31</th>\n      <td>25.4</td>\n      <td>15.4</td>\n    </tr>\n    <tr>\n      <th>d8</th>\n      <td>29.0</td>\n      <td>17.3</td>\n    </tr>\n    <tr>\n      <th rowspan=\"5\" valign=\"top\">10</th>\n      <th>d5</th>\n      <td>27.0</td>\n      <td>14.0</td>\n    </tr>\n    <tr>\n      <th>d14</th>\n      <td>29.5</td>\n      <td>13.0</td>\n    </tr>\n    <tr>\n      <th>d15</th>\n      <td>28.7</td>\n      <td>10.5</td>\n    </tr>\n    <tr>\n      <th>d28</th>\n      <td>31.2</td>\n      <td>15.0</td>\n    </tr>\n    <tr>\n      <th>d7</th>\n      <td>28.1</td>\n      <td>12.9</td>\n    </tr>\n    <tr>\n      <th rowspan=\"5\" valign=\"top\">11</th>\n      <th>d2</th>\n      <td>31.3</td>\n      <td>16.3</td>\n    </tr>\n    <tr>\n      <th>d5</th>\n      <td>26.3</td>\n      <td>7.9</td>\n    </tr>\n    <tr>\n      <th>d27</th>\n      <td>27.7</td>\n      <td>14.2</td>\n    </tr>\n    <tr>\n      <th>d26</th>\n      <td>28.1</td>\n      <td>12.1</td>\n    </tr>\n    <tr>\n      <th>d4</th>\n      <td>27.2</td>\n      <td>12.0</td>\n    </tr>\n    <tr>\n      <th rowspan=\"2\" valign=\"top\">12</th>\n      <th>d1</th>\n      <td>29.9</td>\n      <td>13.8</td>\n    </tr>\n    <tr>\n      <th>d6</th>\n      <td>27.8</td>\n      <td>10.5</td>\n    </tr>\n  </tbody>\n</table>\n</div>"
          },
          "metadata": {}
        }
      ]
    },
    {
      "cell_type": "code",
      "metadata": {
        "tags": [],
        "cell_id": "00051-31dd252b-7061-40e1-9f5f-35a1769f4986",
        "deepnote_to_be_reexecuted": false,
        "source_hash": "44bf04af",
        "execution_start": 1620040595725,
        "execution_millis": 43,
        "deepnote_cell_type": "code"
      },
      "source": "weather_tidy.reset_index() # flat dataset",
      "execution_count": 75,
      "outputs": [
        {
          "output_type": "execute_result",
          "execution_count": 75,
          "data": {
            "application/vnd.deepnote.dataframe.v2+json": {
              "row_count": 33,
              "column_count": 6,
              "columns": [
                {
                  "name": "id",
                  "dtype": "object",
                  "stats": {
                    "unique_count": 1,
                    "nan_count": 0,
                    "categories": [
                      {
                        "name": "MX17004",
                        "count": 33
                      }
                    ]
                  }
                },
                {
                  "name": "year",
                  "dtype": "int64",
                  "stats": {
                    "unique_count": 1,
                    "nan_count": 0,
                    "min": "2010",
                    "max": "2010",
                    "histogram": [
                      {
                        "bin_start": 2009.5,
                        "bin_end": 2009.6,
                        "count": 0
                      },
                      {
                        "bin_start": 2009.6,
                        "bin_end": 2009.7,
                        "count": 0
                      },
                      {
                        "bin_start": 2009.7,
                        "bin_end": 2009.8,
                        "count": 0
                      },
                      {
                        "bin_start": 2009.8,
                        "bin_end": 2009.9,
                        "count": 0
                      },
                      {
                        "bin_start": 2009.9,
                        "bin_end": 2010,
                        "count": 0
                      },
                      {
                        "bin_start": 2010,
                        "bin_end": 2010.1,
                        "count": 33
                      },
                      {
                        "bin_start": 2010.1,
                        "bin_end": 2010.2,
                        "count": 0
                      },
                      {
                        "bin_start": 2010.2,
                        "bin_end": 2010.3,
                        "count": 0
                      },
                      {
                        "bin_start": 2010.3,
                        "bin_end": 2010.4,
                        "count": 0
                      },
                      {
                        "bin_start": 2010.4,
                        "bin_end": 2010.5,
                        "count": 0
                      }
                    ]
                  }
                },
                {
                  "name": "month",
                  "dtype": "int64",
                  "stats": {
                    "unique_count": 11,
                    "nan_count": 0,
                    "min": "1",
                    "max": "12",
                    "histogram": [
                      {
                        "bin_start": 1,
                        "bin_end": 2.1,
                        "count": 5
                      },
                      {
                        "bin_start": 2.1,
                        "bin_end": 3.2,
                        "count": 3
                      },
                      {
                        "bin_start": 3.2,
                        "bin_end": 4.300000000000001,
                        "count": 1
                      },
                      {
                        "bin_start": 4.300000000000001,
                        "bin_end": 5.4,
                        "count": 1
                      },
                      {
                        "bin_start": 5.4,
                        "bin_end": 6.5,
                        "count": 2
                      },
                      {
                        "bin_start": 6.5,
                        "bin_end": 7.6000000000000005,
                        "count": 2
                      },
                      {
                        "bin_start": 7.6000000000000005,
                        "bin_end": 8.700000000000001,
                        "count": 7
                      },
                      {
                        "bin_start": 8.700000000000001,
                        "bin_end": 9.8,
                        "count": 0
                      },
                      {
                        "bin_start": 9.8,
                        "bin_end": 10.9,
                        "count": 5
                      },
                      {
                        "bin_start": 10.9,
                        "bin_end": 12,
                        "count": 7
                      }
                    ]
                  }
                },
                {
                  "name": "day",
                  "dtype": "object",
                  "stats": {
                    "unique_count": 23,
                    "nan_count": 0,
                    "categories": [
                      {
                        "name": "d5",
                        "count": 4
                      },
                      {
                        "name": "d27",
                        "count": 3
                      },
                      {
                        "name": "21 others",
                        "count": 26
                      }
                    ]
                  }
                },
                {
                  "name": "tmax",
                  "dtype": "float64",
                  "stats": {
                    "unique_count": 27,
                    "nan_count": 0,
                    "min": "24.1",
                    "max": "36.3",
                    "histogram": [
                      {
                        "bin_start": 24.1,
                        "bin_end": 25.32,
                        "count": 1
                      },
                      {
                        "bin_start": 25.32,
                        "bin_end": 26.54,
                        "count": 3
                      },
                      {
                        "bin_start": 26.54,
                        "bin_end": 27.759999999999998,
                        "count": 4
                      },
                      {
                        "bin_start": 27.759999999999998,
                        "bin_end": 28.98,
                        "count": 8
                      },
                      {
                        "bin_start": 28.98,
                        "bin_end": 30.2,
                        "count": 10
                      },
                      {
                        "bin_start": 30.2,
                        "bin_end": 31.419999999999998,
                        "count": 3
                      },
                      {
                        "bin_start": 31.419999999999998,
                        "bin_end": 32.64,
                        "count": 1
                      },
                      {
                        "bin_start": 32.64,
                        "bin_end": 33.86,
                        "count": 1
                      },
                      {
                        "bin_start": 33.86,
                        "bin_end": 35.08,
                        "count": 1
                      },
                      {
                        "bin_start": 35.08,
                        "bin_end": 36.3,
                        "count": 1
                      }
                    ]
                  }
                },
                {
                  "name": "tmin",
                  "dtype": "float64",
                  "stats": {
                    "unique_count": 27,
                    "nan_count": 0,
                    "min": "7.9",
                    "max": "18.2",
                    "histogram": [
                      {
                        "bin_start": 7.9,
                        "bin_end": 8.93,
                        "count": 1
                      },
                      {
                        "bin_start": 8.93,
                        "bin_end": 9.96,
                        "count": 0
                      },
                      {
                        "bin_start": 9.96,
                        "bin_end": 10.99,
                        "count": 3
                      },
                      {
                        "bin_start": 10.99,
                        "bin_end": 12.02,
                        "count": 1
                      },
                      {
                        "bin_start": 12.02,
                        "bin_end": 13.049999999999999,
                        "count": 3
                      },
                      {
                        "bin_start": 13.049999999999999,
                        "bin_end": 14.079999999999998,
                        "count": 3
                      },
                      {
                        "bin_start": 14.079999999999998,
                        "bin_end": 15.11,
                        "count": 7
                      },
                      {
                        "bin_start": 15.11,
                        "bin_end": 16.14,
                        "count": 4
                      },
                      {
                        "bin_start": 16.14,
                        "bin_end": 17.169999999999998,
                        "count": 5
                      },
                      {
                        "bin_start": 17.169999999999998,
                        "bin_end": 18.2,
                        "count": 6
                      }
                    ]
                  }
                },
                {
                  "name": "_deepnote_index_column",
                  "dtype": "int64"
                }
              ],
              "rows_top": [
                {
                  "id": "MX17004",
                  "year": 2010,
                  "month": 1,
                  "day": "d30",
                  "tmax": 27.8,
                  "tmin": 14.5,
                  "_deepnote_index_column": 0
                },
                {
                  "id": "MX17004",
                  "year": 2010,
                  "month": 2,
                  "day": "d11",
                  "tmax": 29.7,
                  "tmin": 13.4,
                  "_deepnote_index_column": 1
                },
                {
                  "id": "MX17004",
                  "year": 2010,
                  "month": 2,
                  "day": "d2",
                  "tmax": 27.3,
                  "tmin": 14.4,
                  "_deepnote_index_column": 2
                },
                {
                  "id": "MX17004",
                  "year": 2010,
                  "month": 2,
                  "day": "d23",
                  "tmax": 29.9,
                  "tmin": 10.7,
                  "_deepnote_index_column": 3
                },
                {
                  "id": "MX17004",
                  "year": 2010,
                  "month": 2,
                  "day": "d3",
                  "tmax": 24.1,
                  "tmin": 14.4,
                  "_deepnote_index_column": 4
                },
                {
                  "id": "MX17004",
                  "year": 2010,
                  "month": 3,
                  "day": "d10",
                  "tmax": 34.5,
                  "tmin": 16.8,
                  "_deepnote_index_column": 5
                },
                {
                  "id": "MX17004",
                  "year": 2010,
                  "month": 3,
                  "day": "d16",
                  "tmax": 31.1,
                  "tmin": 17.6,
                  "_deepnote_index_column": 6
                },
                {
                  "id": "MX17004",
                  "year": 2010,
                  "month": 3,
                  "day": "d5",
                  "tmax": 32.1,
                  "tmin": 14.2,
                  "_deepnote_index_column": 7
                },
                {
                  "id": "MX17004",
                  "year": 2010,
                  "month": 4,
                  "day": "d27",
                  "tmax": 36.3,
                  "tmin": 16.7,
                  "_deepnote_index_column": 8
                },
                {
                  "id": "MX17004",
                  "year": 2010,
                  "month": 5,
                  "day": "d27",
                  "tmax": 33.2,
                  "tmin": 18.2,
                  "_deepnote_index_column": 9
                },
                {
                  "id": "MX17004",
                  "year": 2010,
                  "month": 6,
                  "day": "d17",
                  "tmax": 28,
                  "tmin": 17.5,
                  "_deepnote_index_column": 10
                },
                {
                  "id": "MX17004",
                  "year": 2010,
                  "month": 6,
                  "day": "d29",
                  "tmax": 30.1,
                  "tmin": 18,
                  "_deepnote_index_column": 11
                },
                {
                  "id": "MX17004",
                  "year": 2010,
                  "month": 7,
                  "day": "d3",
                  "tmax": 28.6,
                  "tmin": 17.5,
                  "_deepnote_index_column": 12
                },
                {
                  "id": "MX17004",
                  "year": 2010,
                  "month": 7,
                  "day": "d14",
                  "tmax": 29.9,
                  "tmin": 16.5,
                  "_deepnote_index_column": 13
                },
                {
                  "id": "MX17004",
                  "year": 2010,
                  "month": 8,
                  "day": "d23",
                  "tmax": 26.4,
                  "tmin": 15,
                  "_deepnote_index_column": 14
                },
                {
                  "id": "MX17004",
                  "year": 2010,
                  "month": 8,
                  "day": "d5",
                  "tmax": 29.6,
                  "tmin": 15.8,
                  "_deepnote_index_column": 15
                },
                {
                  "id": "MX17004",
                  "year": 2010,
                  "month": 8,
                  "day": "d29",
                  "tmax": 28,
                  "tmin": 15.3,
                  "_deepnote_index_column": 16
                },
                {
                  "id": "MX17004",
                  "year": 2010,
                  "month": 8,
                  "day": "d13",
                  "tmax": 29.8,
                  "tmin": 16.5,
                  "_deepnote_index_column": 17
                },
                {
                  "id": "MX17004",
                  "year": 2010,
                  "month": 8,
                  "day": "d25",
                  "tmax": 29.7,
                  "tmin": 15.6,
                  "_deepnote_index_column": 18
                },
                {
                  "id": "MX17004",
                  "year": 2010,
                  "month": 8,
                  "day": "d31",
                  "tmax": 25.4,
                  "tmin": 15.4,
                  "_deepnote_index_column": 19
                },
                {
                  "id": "MX17004",
                  "year": 2010,
                  "month": 8,
                  "day": "d8",
                  "tmax": 29,
                  "tmin": 17.3,
                  "_deepnote_index_column": 20
                },
                {
                  "id": "MX17004",
                  "year": 2010,
                  "month": 10,
                  "day": "d5",
                  "tmax": 27,
                  "tmin": 14,
                  "_deepnote_index_column": 21
                },
                {
                  "id": "MX17004",
                  "year": 2010,
                  "month": 10,
                  "day": "d14",
                  "tmax": 29.5,
                  "tmin": 13,
                  "_deepnote_index_column": 22
                },
                {
                  "id": "MX17004",
                  "year": 2010,
                  "month": 10,
                  "day": "d15",
                  "tmax": 28.7,
                  "tmin": 10.5,
                  "_deepnote_index_column": 23
                },
                {
                  "id": "MX17004",
                  "year": 2010,
                  "month": 10,
                  "day": "d28",
                  "tmax": 31.2,
                  "tmin": 15,
                  "_deepnote_index_column": 24
                },
                {
                  "id": "MX17004",
                  "year": 2010,
                  "month": 10,
                  "day": "d7",
                  "tmax": 28.1,
                  "tmin": 12.9,
                  "_deepnote_index_column": 25
                },
                {
                  "id": "MX17004",
                  "year": 2010,
                  "month": 11,
                  "day": "d2",
                  "tmax": 31.3,
                  "tmin": 16.3,
                  "_deepnote_index_column": 26
                },
                {
                  "id": "MX17004",
                  "year": 2010,
                  "month": 11,
                  "day": "d5",
                  "tmax": 26.3,
                  "tmin": 7.9,
                  "_deepnote_index_column": 27
                },
                {
                  "id": "MX17004",
                  "year": 2010,
                  "month": 11,
                  "day": "d27",
                  "tmax": 27.7,
                  "tmin": 14.2,
                  "_deepnote_index_column": 28
                },
                {
                  "id": "MX17004",
                  "year": 2010,
                  "month": 11,
                  "day": "d26",
                  "tmax": 28.1,
                  "tmin": 12.1,
                  "_deepnote_index_column": 29
                },
                {
                  "id": "MX17004",
                  "year": 2010,
                  "month": 11,
                  "day": "d4",
                  "tmax": 27.2,
                  "tmin": 12,
                  "_deepnote_index_column": 30
                },
                {
                  "id": "MX17004",
                  "year": 2010,
                  "month": 12,
                  "day": "d1",
                  "tmax": 29.9,
                  "tmin": 13.8,
                  "_deepnote_index_column": 31
                },
                {
                  "id": "MX17004",
                  "year": 2010,
                  "month": 12,
                  "day": "d6",
                  "tmax": 27.8,
                  "tmin": 10.5,
                  "_deepnote_index_column": 32
                }
              ],
              "rows_bottom": null
            },
            "text/plain": "element       id  year  month  day  tmax  tmin\n0        MX17004  2010      1  d30  27.8  14.5\n1        MX17004  2010      2  d11  29.7  13.4\n2        MX17004  2010      2   d2  27.3  14.4\n3        MX17004  2010      2  d23  29.9  10.7\n4        MX17004  2010      2   d3  24.1  14.4\n5        MX17004  2010      3  d10  34.5  16.8\n6        MX17004  2010      3  d16  31.1  17.6\n7        MX17004  2010      3   d5  32.1  14.2\n8        MX17004  2010      4  d27  36.3  16.7\n9        MX17004  2010      5  d27  33.2  18.2\n10       MX17004  2010      6  d17  28.0  17.5\n11       MX17004  2010      6  d29  30.1  18.0\n12       MX17004  2010      7   d3  28.6  17.5\n13       MX17004  2010      7  d14  29.9  16.5\n14       MX17004  2010      8  d23  26.4  15.0\n15       MX17004  2010      8   d5  29.6  15.8\n16       MX17004  2010      8  d29  28.0  15.3\n17       MX17004  2010      8  d13  29.8  16.5\n18       MX17004  2010      8  d25  29.7  15.6\n19       MX17004  2010      8  d31  25.4  15.4\n20       MX17004  2010      8   d8  29.0  17.3\n21       MX17004  2010     10   d5  27.0  14.0\n22       MX17004  2010     10  d14  29.5  13.0\n23       MX17004  2010     10  d15  28.7  10.5\n24       MX17004  2010     10  d28  31.2  15.0\n25       MX17004  2010     10   d7  28.1  12.9\n26       MX17004  2010     11   d2  31.3  16.3\n27       MX17004  2010     11   d5  26.3   7.9\n28       MX17004  2010     11  d27  27.7  14.2\n29       MX17004  2010     11  d26  28.1  12.1\n30       MX17004  2010     11   d4  27.2  12.0\n31       MX17004  2010     12   d1  29.9  13.8\n32       MX17004  2010     12   d6  27.8  10.5",
            "text/html": "<div>\n<style scoped>\n    .dataframe tbody tr th:only-of-type {\n        vertical-align: middle;\n    }\n\n    .dataframe tbody tr th {\n        vertical-align: top;\n    }\n\n    .dataframe thead th {\n        text-align: right;\n    }\n</style>\n<table border=\"1\" class=\"dataframe\">\n  <thead>\n    <tr style=\"text-align: right;\">\n      <th>element</th>\n      <th>id</th>\n      <th>year</th>\n      <th>month</th>\n      <th>day</th>\n      <th>tmax</th>\n      <th>tmin</th>\n    </tr>\n  </thead>\n  <tbody>\n    <tr>\n      <th>0</th>\n      <td>MX17004</td>\n      <td>2010</td>\n      <td>1</td>\n      <td>d30</td>\n      <td>27.8</td>\n      <td>14.5</td>\n    </tr>\n    <tr>\n      <th>1</th>\n      <td>MX17004</td>\n      <td>2010</td>\n      <td>2</td>\n      <td>d11</td>\n      <td>29.7</td>\n      <td>13.4</td>\n    </tr>\n    <tr>\n      <th>2</th>\n      <td>MX17004</td>\n      <td>2010</td>\n      <td>2</td>\n      <td>d2</td>\n      <td>27.3</td>\n      <td>14.4</td>\n    </tr>\n    <tr>\n      <th>3</th>\n      <td>MX17004</td>\n      <td>2010</td>\n      <td>2</td>\n      <td>d23</td>\n      <td>29.9</td>\n      <td>10.7</td>\n    </tr>\n    <tr>\n      <th>4</th>\n      <td>MX17004</td>\n      <td>2010</td>\n      <td>2</td>\n      <td>d3</td>\n      <td>24.1</td>\n      <td>14.4</td>\n    </tr>\n    <tr>\n      <th>5</th>\n      <td>MX17004</td>\n      <td>2010</td>\n      <td>3</td>\n      <td>d10</td>\n      <td>34.5</td>\n      <td>16.8</td>\n    </tr>\n    <tr>\n      <th>6</th>\n      <td>MX17004</td>\n      <td>2010</td>\n      <td>3</td>\n      <td>d16</td>\n      <td>31.1</td>\n      <td>17.6</td>\n    </tr>\n    <tr>\n      <th>7</th>\n      <td>MX17004</td>\n      <td>2010</td>\n      <td>3</td>\n      <td>d5</td>\n      <td>32.1</td>\n      <td>14.2</td>\n    </tr>\n    <tr>\n      <th>8</th>\n      <td>MX17004</td>\n      <td>2010</td>\n      <td>4</td>\n      <td>d27</td>\n      <td>36.3</td>\n      <td>16.7</td>\n    </tr>\n    <tr>\n      <th>9</th>\n      <td>MX17004</td>\n      <td>2010</td>\n      <td>5</td>\n      <td>d27</td>\n      <td>33.2</td>\n      <td>18.2</td>\n    </tr>\n    <tr>\n      <th>10</th>\n      <td>MX17004</td>\n      <td>2010</td>\n      <td>6</td>\n      <td>d17</td>\n      <td>28.0</td>\n      <td>17.5</td>\n    </tr>\n    <tr>\n      <th>11</th>\n      <td>MX17004</td>\n      <td>2010</td>\n      <td>6</td>\n      <td>d29</td>\n      <td>30.1</td>\n      <td>18.0</td>\n    </tr>\n    <tr>\n      <th>12</th>\n      <td>MX17004</td>\n      <td>2010</td>\n      <td>7</td>\n      <td>d3</td>\n      <td>28.6</td>\n      <td>17.5</td>\n    </tr>\n    <tr>\n      <th>13</th>\n      <td>MX17004</td>\n      <td>2010</td>\n      <td>7</td>\n      <td>d14</td>\n      <td>29.9</td>\n      <td>16.5</td>\n    </tr>\n    <tr>\n      <th>14</th>\n      <td>MX17004</td>\n      <td>2010</td>\n      <td>8</td>\n      <td>d23</td>\n      <td>26.4</td>\n      <td>15.0</td>\n    </tr>\n    <tr>\n      <th>15</th>\n      <td>MX17004</td>\n      <td>2010</td>\n      <td>8</td>\n      <td>d5</td>\n      <td>29.6</td>\n      <td>15.8</td>\n    </tr>\n    <tr>\n      <th>16</th>\n      <td>MX17004</td>\n      <td>2010</td>\n      <td>8</td>\n      <td>d29</td>\n      <td>28.0</td>\n      <td>15.3</td>\n    </tr>\n    <tr>\n      <th>17</th>\n      <td>MX17004</td>\n      <td>2010</td>\n      <td>8</td>\n      <td>d13</td>\n      <td>29.8</td>\n      <td>16.5</td>\n    </tr>\n    <tr>\n      <th>18</th>\n      <td>MX17004</td>\n      <td>2010</td>\n      <td>8</td>\n      <td>d25</td>\n      <td>29.7</td>\n      <td>15.6</td>\n    </tr>\n    <tr>\n      <th>19</th>\n      <td>MX17004</td>\n      <td>2010</td>\n      <td>8</td>\n      <td>d31</td>\n      <td>25.4</td>\n      <td>15.4</td>\n    </tr>\n    <tr>\n      <th>20</th>\n      <td>MX17004</td>\n      <td>2010</td>\n      <td>8</td>\n      <td>d8</td>\n      <td>29.0</td>\n      <td>17.3</td>\n    </tr>\n    <tr>\n      <th>21</th>\n      <td>MX17004</td>\n      <td>2010</td>\n      <td>10</td>\n      <td>d5</td>\n      <td>27.0</td>\n      <td>14.0</td>\n    </tr>\n    <tr>\n      <th>22</th>\n      <td>MX17004</td>\n      <td>2010</td>\n      <td>10</td>\n      <td>d14</td>\n      <td>29.5</td>\n      <td>13.0</td>\n    </tr>\n    <tr>\n      <th>23</th>\n      <td>MX17004</td>\n      <td>2010</td>\n      <td>10</td>\n      <td>d15</td>\n      <td>28.7</td>\n      <td>10.5</td>\n    </tr>\n    <tr>\n      <th>24</th>\n      <td>MX17004</td>\n      <td>2010</td>\n      <td>10</td>\n      <td>d28</td>\n      <td>31.2</td>\n      <td>15.0</td>\n    </tr>\n    <tr>\n      <th>25</th>\n      <td>MX17004</td>\n      <td>2010</td>\n      <td>10</td>\n      <td>d7</td>\n      <td>28.1</td>\n      <td>12.9</td>\n    </tr>\n    <tr>\n      <th>26</th>\n      <td>MX17004</td>\n      <td>2010</td>\n      <td>11</td>\n      <td>d2</td>\n      <td>31.3</td>\n      <td>16.3</td>\n    </tr>\n    <tr>\n      <th>27</th>\n      <td>MX17004</td>\n      <td>2010</td>\n      <td>11</td>\n      <td>d5</td>\n      <td>26.3</td>\n      <td>7.9</td>\n    </tr>\n    <tr>\n      <th>28</th>\n      <td>MX17004</td>\n      <td>2010</td>\n      <td>11</td>\n      <td>d27</td>\n      <td>27.7</td>\n      <td>14.2</td>\n    </tr>\n    <tr>\n      <th>29</th>\n      <td>MX17004</td>\n      <td>2010</td>\n      <td>11</td>\n      <td>d26</td>\n      <td>28.1</td>\n      <td>12.1</td>\n    </tr>\n    <tr>\n      <th>30</th>\n      <td>MX17004</td>\n      <td>2010</td>\n      <td>11</td>\n      <td>d4</td>\n      <td>27.2</td>\n      <td>12.0</td>\n    </tr>\n    <tr>\n      <th>31</th>\n      <td>MX17004</td>\n      <td>2010</td>\n      <td>12</td>\n      <td>d1</td>\n      <td>29.9</td>\n      <td>13.8</td>\n    </tr>\n    <tr>\n      <th>32</th>\n      <td>MX17004</td>\n      <td>2010</td>\n      <td>12</td>\n      <td>d6</td>\n      <td>27.8</td>\n      <td>10.5</td>\n    </tr>\n  </tbody>\n</table>\n</div>"
          },
          "metadata": {}
        }
      ]
    },
    {
      "cell_type": "markdown",
      "source": "## 6. Multiple observation store in the same table",
      "metadata": {
        "tags": [],
        "cell_id": "00052-bbc35ab7-3765-4d4d-91bb-1179118a1bc5",
        "deepnote_cell_type": "markdown"
      }
    },
    {
      "cell_type": "code",
      "metadata": {
        "tags": [],
        "cell_id": "00053-6876d20e-fd06-4802-ab7c-bb5e303724c5",
        "deepnote_to_be_reexecuted": false,
        "source_hash": "b88aa83d",
        "execution_start": 1620041125686,
        "execution_millis": 257,
        "deepnote_cell_type": "code"
      },
      "source": "billboard # this data set have this type of problem",
      "execution_count": 84,
      "outputs": [
        {
          "output_type": "execute_result",
          "execution_count": 84,
          "data": {
            "application/vnd.deepnote.dataframe.v2+json": {
              "row_count": 317,
              "column_count": 81,
              "columns": [
                {
                  "name": "year",
                  "dtype": "int64",
                  "stats": {
                    "unique_count": 1,
                    "nan_count": 0,
                    "min": "2000",
                    "max": "2000",
                    "histogram": [
                      {
                        "bin_start": 1999.5,
                        "bin_end": 1999.6,
                        "count": 0
                      },
                      {
                        "bin_start": 1999.6,
                        "bin_end": 1999.7,
                        "count": 0
                      },
                      {
                        "bin_start": 1999.7,
                        "bin_end": 1999.8,
                        "count": 0
                      },
                      {
                        "bin_start": 1999.8,
                        "bin_end": 1999.9,
                        "count": 0
                      },
                      {
                        "bin_start": 1999.9,
                        "bin_end": 2000,
                        "count": 0
                      },
                      {
                        "bin_start": 2000,
                        "bin_end": 2000.1,
                        "count": 317
                      },
                      {
                        "bin_start": 2000.1,
                        "bin_end": 2000.2,
                        "count": 0
                      },
                      {
                        "bin_start": 2000.2,
                        "bin_end": 2000.3,
                        "count": 0
                      },
                      {
                        "bin_start": 2000.3,
                        "bin_end": 2000.4,
                        "count": 0
                      },
                      {
                        "bin_start": 2000.4,
                        "bin_end": 2000.5,
                        "count": 0
                      }
                    ]
                  }
                },
                {
                  "name": "artist",
                  "dtype": "object",
                  "stats": {
                    "unique_count": 228,
                    "nan_count": 0,
                    "categories": [
                      {
                        "name": "Jay-Z",
                        "count": 5
                      },
                      {
                        "name": "Dixie Chicks, The",
                        "count": 4
                      },
                      {
                        "name": "226 others",
                        "count": 308
                      }
                    ]
                  }
                },
                {
                  "name": "track",
                  "dtype": "object",
                  "stats": {
                    "unique_count": 316,
                    "nan_count": 0,
                    "categories": [
                      {
                        "name": "Where I Wanna Be",
                        "count": 2
                      },
                      {
                        "name": "Baby Don't Cry (Keep...",
                        "count": 1
                      },
                      {
                        "name": "314 others",
                        "count": 314
                      }
                    ]
                  }
                },
                {
                  "name": "time",
                  "dtype": "object",
                  "stats": {
                    "unique_count": 126,
                    "nan_count": 0,
                    "categories": [
                      {
                        "name": "3:50",
                        "count": 9
                      },
                      {
                        "name": "3:54",
                        "count": 7
                      },
                      {
                        "name": "124 others",
                        "count": 301
                      }
                    ]
                  }
                },
                {
                  "name": "date.entered",
                  "dtype": "object",
                  "stats": {
                    "unique_count": 68,
                    "nan_count": 0,
                    "categories": [
                      {
                        "name": "2000-01-29",
                        "count": 11
                      },
                      {
                        "name": "2000-08-12",
                        "count": 10
                      },
                      {
                        "name": "66 others",
                        "count": 296
                      }
                    ]
                  }
                },
                {
                  "name": "wk1",
                  "dtype": "int64",
                  "stats": {
                    "unique_count": 63,
                    "nan_count": 0,
                    "min": "15",
                    "max": "100",
                    "histogram": [
                      {
                        "bin_start": 15,
                        "bin_end": 23.5,
                        "count": 2
                      },
                      {
                        "bin_start": 23.5,
                        "bin_end": 32,
                        "count": 2
                      },
                      {
                        "bin_start": 32,
                        "bin_end": 40.5,
                        "count": 4
                      },
                      {
                        "bin_start": 40.5,
                        "bin_end": 49,
                        "count": 5
                      },
                      {
                        "bin_start": 49,
                        "bin_end": 57.5,
                        "count": 9
                      },
                      {
                        "bin_start": 57.5,
                        "bin_end": 66,
                        "count": 17
                      },
                      {
                        "bin_start": 66,
                        "bin_end": 74.5,
                        "count": 47
                      },
                      {
                        "bin_start": 74.5,
                        "bin_end": 83,
                        "count": 91
                      },
                      {
                        "bin_start": 83,
                        "bin_end": 91.5,
                        "count": 64
                      },
                      {
                        "bin_start": 91.5,
                        "bin_end": 100,
                        "count": 76
                      }
                    ]
                  }
                },
                {
                  "name": "wk2",
                  "dtype": "float64",
                  "stats": {
                    "unique_count": 72,
                    "nan_count": 5,
                    "min": "8.0",
                    "max": "100.0",
                    "histogram": [
                      {
                        "bin_start": 8,
                        "bin_end": 17.2,
                        "count": 2
                      },
                      {
                        "bin_start": 17.2,
                        "bin_end": 26.4,
                        "count": 5
                      },
                      {
                        "bin_start": 26.4,
                        "bin_end": 35.599999999999994,
                        "count": 14
                      },
                      {
                        "bin_start": 35.599999999999994,
                        "bin_end": 44.8,
                        "count": 7
                      },
                      {
                        "bin_start": 44.8,
                        "bin_end": 54,
                        "count": 18
                      },
                      {
                        "bin_start": 54,
                        "bin_end": 63.199999999999996,
                        "count": 35
                      },
                      {
                        "bin_start": 63.199999999999996,
                        "bin_end": 72.39999999999999,
                        "count": 72
                      },
                      {
                        "bin_start": 72.39999999999999,
                        "bin_end": 81.6,
                        "count": 66
                      },
                      {
                        "bin_start": 81.6,
                        "bin_end": 90.8,
                        "count": 48
                      },
                      {
                        "bin_start": 90.8,
                        "bin_end": 100,
                        "count": 45
                      }
                    ]
                  }
                },
                {
                  "name": "wk3",
                  "dtype": "float64",
                  "stats": {
                    "unique_count": 79,
                    "nan_count": 10,
                    "min": "6.0",
                    "max": "100.0",
                    "histogram": [
                      {
                        "bin_start": 6,
                        "bin_end": 15.4,
                        "count": 4
                      },
                      {
                        "bin_start": 15.4,
                        "bin_end": 24.8,
                        "count": 13
                      },
                      {
                        "bin_start": 24.8,
                        "bin_end": 34.2,
                        "count": 13
                      },
                      {
                        "bin_start": 34.2,
                        "bin_end": 43.6,
                        "count": 11
                      },
                      {
                        "bin_start": 43.6,
                        "bin_end": 53,
                        "count": 34
                      },
                      {
                        "bin_start": 53,
                        "bin_end": 62.400000000000006,
                        "count": 46
                      },
                      {
                        "bin_start": 62.400000000000006,
                        "bin_end": 71.8,
                        "count": 69
                      },
                      {
                        "bin_start": 71.8,
                        "bin_end": 81.2,
                        "count": 52
                      },
                      {
                        "bin_start": 81.2,
                        "bin_end": 90.60000000000001,
                        "count": 26
                      },
                      {
                        "bin_start": 90.60000000000001,
                        "bin_end": 100,
                        "count": 39
                      }
                    ]
                  }
                },
                {
                  "name": "wk4",
                  "dtype": "float64",
                  "stats": {
                    "unique_count": 88,
                    "nan_count": 17,
                    "min": "5.0",
                    "max": "100.0",
                    "histogram": [
                      {
                        "bin_start": 5,
                        "bin_end": 14.5,
                        "count": 6
                      },
                      {
                        "bin_start": 14.5,
                        "bin_end": 24,
                        "count": 16
                      },
                      {
                        "bin_start": 24,
                        "bin_end": 33.5,
                        "count": 19
                      },
                      {
                        "bin_start": 33.5,
                        "bin_end": 43,
                        "count": 29
                      },
                      {
                        "bin_start": 43,
                        "bin_end": 52.5,
                        "count": 35
                      },
                      {
                        "bin_start": 52.5,
                        "bin_end": 62,
                        "count": 47
                      },
                      {
                        "bin_start": 62,
                        "bin_end": 71.5,
                        "count": 54
                      },
                      {
                        "bin_start": 71.5,
                        "bin_end": 81,
                        "count": 40
                      },
                      {
                        "bin_start": 81,
                        "bin_end": 90.5,
                        "count": 23
                      },
                      {
                        "bin_start": 90.5,
                        "bin_end": 100,
                        "count": 31
                      }
                    ]
                  }
                },
                {
                  "name": "wk5",
                  "dtype": "float64",
                  "stats": {
                    "unique_count": 91,
                    "nan_count": 25,
                    "min": "2.0",
                    "max": "100.0",
                    "histogram": [
                      {
                        "bin_start": 2,
                        "bin_end": 11.8,
                        "count": 7
                      },
                      {
                        "bin_start": 11.8,
                        "bin_end": 21.6,
                        "count": 20
                      },
                      {
                        "bin_start": 21.6,
                        "bin_end": 31.400000000000002,
                        "count": 22
                      },
                      {
                        "bin_start": 31.400000000000002,
                        "bin_end": 41.2,
                        "count": 34
                      },
                      {
                        "bin_start": 41.2,
                        "bin_end": 51,
                        "count": 30
                      },
                      {
                        "bin_start": 51,
                        "bin_end": 60.800000000000004,
                        "count": 50
                      },
                      {
                        "bin_start": 60.800000000000004,
                        "bin_end": 70.60000000000001,
                        "count": 48
                      },
                      {
                        "bin_start": 70.60000000000001,
                        "bin_end": 80.4,
                        "count": 23
                      },
                      {
                        "bin_start": 80.4,
                        "bin_end": 90.2,
                        "count": 31
                      },
                      {
                        "bin_start": 90.2,
                        "bin_end": 100,
                        "count": 27
                      }
                    ]
                  }
                },
                {
                  "name": "wk6",
                  "dtype": "float64",
                  "stats": {
                    "unique_count": 92,
                    "nan_count": 37,
                    "min": "1.0",
                    "max": "99.0",
                    "histogram": [
                      {
                        "bin_start": 1,
                        "bin_end": 10.8,
                        "count": 8
                      },
                      {
                        "bin_start": 10.8,
                        "bin_end": 20.6,
                        "count": 25
                      },
                      {
                        "bin_start": 20.6,
                        "bin_end": 30.400000000000002,
                        "count": 24
                      },
                      {
                        "bin_start": 30.400000000000002,
                        "bin_end": 40.2,
                        "count": 36
                      },
                      {
                        "bin_start": 40.2,
                        "bin_end": 50,
                        "count": 41
                      },
                      {
                        "bin_start": 50,
                        "bin_end": 59.800000000000004,
                        "count": 39
                      },
                      {
                        "bin_start": 59.800000000000004,
                        "bin_end": 69.60000000000001,
                        "count": 32
                      },
                      {
                        "bin_start": 69.60000000000001,
                        "bin_end": 79.4,
                        "count": 29
                      },
                      {
                        "bin_start": 79.4,
                        "bin_end": 89.2,
                        "count": 24
                      },
                      {
                        "bin_start": 89.2,
                        "bin_end": 99,
                        "count": 22
                      }
                    ]
                  }
                },
                {
                  "name": "wk7",
                  "dtype": "float64",
                  "stats": {
                    "unique_count": 90,
                    "nan_count": 48,
                    "min": "1.0",
                    "max": "100.0",
                    "histogram": [
                      {
                        "bin_start": 1,
                        "bin_end": 10.9,
                        "count": 16
                      },
                      {
                        "bin_start": 10.9,
                        "bin_end": 20.8,
                        "count": 25
                      },
                      {
                        "bin_start": 20.8,
                        "bin_end": 30.700000000000003,
                        "count": 29
                      },
                      {
                        "bin_start": 30.700000000000003,
                        "bin_end": 40.6,
                        "count": 39
                      },
                      {
                        "bin_start": 40.6,
                        "bin_end": 50.5,
                        "count": 37
                      },
                      {
                        "bin_start": 50.5,
                        "bin_end": 60.400000000000006,
                        "count": 35
                      },
                      {
                        "bin_start": 60.400000000000006,
                        "bin_end": 70.3,
                        "count": 25
                      },
                      {
                        "bin_start": 70.3,
                        "bin_end": 80.2,
                        "count": 19
                      },
                      {
                        "bin_start": 80.2,
                        "bin_end": 90.10000000000001,
                        "count": 24
                      },
                      {
                        "bin_start": 90.10000000000001,
                        "bin_end": 100,
                        "count": 20
                      }
                    ]
                  }
                },
                {
                  "name": "wk8",
                  "dtype": "float64",
                  "stats": {
                    "unique_count": 91,
                    "nan_count": 57,
                    "min": "1.0",
                    "max": "99.0",
                    "histogram": [
                      {
                        "bin_start": 1,
                        "bin_end": 10.8,
                        "count": 24
                      },
                      {
                        "bin_start": 10.8,
                        "bin_end": 20.6,
                        "count": 23
                      },
                      {
                        "bin_start": 20.6,
                        "bin_end": 30.400000000000002,
                        "count": 32
                      },
                      {
                        "bin_start": 30.400000000000002,
                        "bin_end": 40.2,
                        "count": 37
                      },
                      {
                        "bin_start": 40.2,
                        "bin_end": 50,
                        "count": 31
                      },
                      {
                        "bin_start": 50,
                        "bin_end": 59.800000000000004,
                        "count": 33
                      },
                      {
                        "bin_start": 59.800000000000004,
                        "bin_end": 69.60000000000001,
                        "count": 20
                      },
                      {
                        "bin_start": 69.60000000000001,
                        "bin_end": 79.4,
                        "count": 17
                      },
                      {
                        "bin_start": 79.4,
                        "bin_end": 89.2,
                        "count": 24
                      },
                      {
                        "bin_start": 89.2,
                        "bin_end": 99,
                        "count": 19
                      }
                    ]
                  }
                },
                {
                  "name": "wk9",
                  "dtype": "float64",
                  "stats": {
                    "unique_count": 92,
                    "nan_count": 64,
                    "min": "1.0",
                    "max": "100.0",
                    "histogram": [
                      {
                        "bin_start": 1,
                        "bin_end": 10.9,
                        "count": 24
                      },
                      {
                        "bin_start": 10.9,
                        "bin_end": 20.8,
                        "count": 25
                      },
                      {
                        "bin_start": 20.8,
                        "bin_end": 30.700000000000003,
                        "count": 35
                      },
                      {
                        "bin_start": 30.700000000000003,
                        "bin_end": 40.6,
                        "count": 38
                      },
                      {
                        "bin_start": 40.6,
                        "bin_end": 50.5,
                        "count": 22
                      },
                      {
                        "bin_start": 50.5,
                        "bin_end": 60.400000000000006,
                        "count": 31
                      },
                      {
                        "bin_start": 60.400000000000006,
                        "bin_end": 70.3,
                        "count": 20
                      },
                      {
                        "bin_start": 70.3,
                        "bin_end": 80.2,
                        "count": 19
                      },
                      {
                        "bin_start": 80.2,
                        "bin_end": 90.10000000000001,
                        "count": 22
                      },
                      {
                        "bin_start": 90.10000000000001,
                        "bin_end": 100,
                        "count": 17
                      }
                    ]
                  }
                },
                {
                  "name": "wk10",
                  "dtype": "float64",
                  "stats": {
                    "unique_count": 92,
                    "nan_count": 73,
                    "min": "1.0",
                    "max": "100.0",
                    "histogram": [
                      {
                        "bin_start": 1,
                        "bin_end": 10.9,
                        "count": 28
                      },
                      {
                        "bin_start": 10.9,
                        "bin_end": 20.8,
                        "count": 25
                      },
                      {
                        "bin_start": 20.8,
                        "bin_end": 30.700000000000003,
                        "count": 34
                      },
                      {
                        "bin_start": 30.700000000000003,
                        "bin_end": 40.6,
                        "count": 36
                      },
                      {
                        "bin_start": 40.6,
                        "bin_end": 50.5,
                        "count": 18
                      },
                      {
                        "bin_start": 50.5,
                        "bin_end": 60.400000000000006,
                        "count": 28
                      },
                      {
                        "bin_start": 60.400000000000006,
                        "bin_end": 70.3,
                        "count": 20
                      },
                      {
                        "bin_start": 70.3,
                        "bin_end": 80.2,
                        "count": 17
                      },
                      {
                        "bin_start": 80.2,
                        "bin_end": 90.10000000000001,
                        "count": 16
                      },
                      {
                        "bin_start": 90.10000000000001,
                        "bin_end": 100,
                        "count": 22
                      }
                    ]
                  }
                },
                {
                  "name": "wk11",
                  "dtype": "float64",
                  "stats": {
                    "unique_count": 92,
                    "nan_count": 81,
                    "min": "1.0",
                    "max": "100.0",
                    "histogram": [
                      {
                        "bin_start": 1,
                        "bin_end": 10.9,
                        "count": 29
                      },
                      {
                        "bin_start": 10.9,
                        "bin_end": 20.8,
                        "count": 24
                      },
                      {
                        "bin_start": 20.8,
                        "bin_end": 30.700000000000003,
                        "count": 34
                      },
                      {
                        "bin_start": 30.700000000000003,
                        "bin_end": 40.6,
                        "count": 28
                      },
                      {
                        "bin_start": 40.6,
                        "bin_end": 50.5,
                        "count": 24
                      },
                      {
                        "bin_start": 50.5,
                        "bin_end": 60.400000000000006,
                        "count": 22
                      },
                      {
                        "bin_start": 60.400000000000006,
                        "bin_end": 70.3,
                        "count": 17
                      },
                      {
                        "bin_start": 70.3,
                        "bin_end": 80.2,
                        "count": 19
                      },
                      {
                        "bin_start": 80.2,
                        "bin_end": 90.10000000000001,
                        "count": 13
                      },
                      {
                        "bin_start": 90.10000000000001,
                        "bin_end": 100,
                        "count": 26
                      }
                    ]
                  }
                },
                {
                  "name": "wk12",
                  "dtype": "float64",
                  "stats": {
                    "unique_count": 91,
                    "nan_count": 95,
                    "min": "1.0",
                    "max": "100.0",
                    "histogram": [
                      {
                        "bin_start": 1,
                        "bin_end": 10.9,
                        "count": 32
                      },
                      {
                        "bin_start": 10.9,
                        "bin_end": 20.8,
                        "count": 24
                      },
                      {
                        "bin_start": 20.8,
                        "bin_end": 30.700000000000003,
                        "count": 32
                      },
                      {
                        "bin_start": 30.700000000000003,
                        "bin_end": 40.6,
                        "count": 20
                      },
                      {
                        "bin_start": 40.6,
                        "bin_end": 50.5,
                        "count": 25
                      },
                      {
                        "bin_start": 50.5,
                        "bin_end": 60.400000000000006,
                        "count": 26
                      },
                      {
                        "bin_start": 60.400000000000006,
                        "bin_end": 70.3,
                        "count": 13
                      },
                      {
                        "bin_start": 70.3,
                        "bin_end": 80.2,
                        "count": 11
                      },
                      {
                        "bin_start": 80.2,
                        "bin_end": 90.10000000000001,
                        "count": 22
                      },
                      {
                        "bin_start": 90.10000000000001,
                        "bin_end": 100,
                        "count": 17
                      }
                    ]
                  }
                },
                {
                  "name": "wk13",
                  "dtype": "float64",
                  "stats": {
                    "unique_count": 86,
                    "nan_count": 107,
                    "min": "1.0",
                    "max": "100.0",
                    "histogram": [
                      {
                        "bin_start": 1,
                        "bin_end": 10.9,
                        "count": 32
                      },
                      {
                        "bin_start": 10.9,
                        "bin_end": 20.8,
                        "count": 23
                      },
                      {
                        "bin_start": 20.8,
                        "bin_end": 30.700000000000003,
                        "count": 27
                      },
                      {
                        "bin_start": 30.700000000000003,
                        "bin_end": 40.6,
                        "count": 21
                      },
                      {
                        "bin_start": 40.6,
                        "bin_end": 50.5,
                        "count": 23
                      },
                      {
                        "bin_start": 50.5,
                        "bin_end": 60.400000000000006,
                        "count": 21
                      },
                      {
                        "bin_start": 60.400000000000006,
                        "bin_end": 70.3,
                        "count": 16
                      },
                      {
                        "bin_start": 70.3,
                        "bin_end": 80.2,
                        "count": 11
                      },
                      {
                        "bin_start": 80.2,
                        "bin_end": 90.10000000000001,
                        "count": 19
                      },
                      {
                        "bin_start": 90.10000000000001,
                        "bin_end": 100,
                        "count": 17
                      }
                    ]
                  }
                },
                {
                  "name": "wk14",
                  "dtype": "float64",
                  "stats": {
                    "unique_count": 87,
                    "nan_count": 113,
                    "min": "1.0",
                    "max": "100.0",
                    "histogram": [
                      {
                        "bin_start": 1,
                        "bin_end": 10.9,
                        "count": 32
                      },
                      {
                        "bin_start": 10.9,
                        "bin_end": 20.8,
                        "count": 23
                      },
                      {
                        "bin_start": 20.8,
                        "bin_end": 30.700000000000003,
                        "count": 22
                      },
                      {
                        "bin_start": 30.700000000000003,
                        "bin_end": 40.6,
                        "count": 21
                      },
                      {
                        "bin_start": 40.6,
                        "bin_end": 50.5,
                        "count": 16
                      },
                      {
                        "bin_start": 50.5,
                        "bin_end": 60.400000000000006,
                        "count": 21
                      },
                      {
                        "bin_start": 60.400000000000006,
                        "bin_end": 70.3,
                        "count": 17
                      },
                      {
                        "bin_start": 70.3,
                        "bin_end": 80.2,
                        "count": 10
                      },
                      {
                        "bin_start": 80.2,
                        "bin_end": 90.10000000000001,
                        "count": 20
                      },
                      {
                        "bin_start": 90.10000000000001,
                        "bin_end": 100,
                        "count": 22
                      }
                    ]
                  }
                },
                {
                  "name": "wk15",
                  "dtype": "float64",
                  "stats": {
                    "unique_count": 86,
                    "nan_count": 120,
                    "min": "1.0",
                    "max": "100.0",
                    "histogram": [
                      {
                        "bin_start": 1,
                        "bin_end": 10.9,
                        "count": 30
                      },
                      {
                        "bin_start": 10.9,
                        "bin_end": 20.8,
                        "count": 25
                      },
                      {
                        "bin_start": 20.8,
                        "bin_end": 30.700000000000003,
                        "count": 13
                      },
                      {
                        "bin_start": 30.700000000000003,
                        "bin_end": 40.6,
                        "count": 22
                      },
                      {
                        "bin_start": 40.6,
                        "bin_end": 50.5,
                        "count": 14
                      },
                      {
                        "bin_start": 50.5,
                        "bin_end": 60.400000000000006,
                        "count": 16
                      },
                      {
                        "bin_start": 60.400000000000006,
                        "bin_end": 70.3,
                        "count": 19
                      },
                      {
                        "bin_start": 70.3,
                        "bin_end": 80.2,
                        "count": 16
                      },
                      {
                        "bin_start": 80.2,
                        "bin_end": 90.10000000000001,
                        "count": 17
                      },
                      {
                        "bin_start": 90.10000000000001,
                        "bin_end": 100,
                        "count": 25
                      }
                    ]
                  }
                },
                {
                  "name": "wk16",
                  "dtype": "float64",
                  "stats": {
                    "unique_count": 78,
                    "nan_count": 135,
                    "min": "1.0",
                    "max": "100.0",
                    "histogram": [
                      {
                        "bin_start": 1,
                        "bin_end": 10.9,
                        "count": 30
                      },
                      {
                        "bin_start": 10.9,
                        "bin_end": 20.8,
                        "count": 22
                      },
                      {
                        "bin_start": 20.8,
                        "bin_end": 30.700000000000003,
                        "count": 13
                      },
                      {
                        "bin_start": 30.700000000000003,
                        "bin_end": 40.6,
                        "count": 16
                      },
                      {
                        "bin_start": 40.6,
                        "bin_end": 50.5,
                        "count": 16
                      },
                      {
                        "bin_start": 50.5,
                        "bin_end": 60.400000000000006,
                        "count": 8
                      },
                      {
                        "bin_start": 60.400000000000006,
                        "bin_end": 70.3,
                        "count": 21
                      },
                      {
                        "bin_start": 70.3,
                        "bin_end": 80.2,
                        "count": 15
                      },
                      {
                        "bin_start": 80.2,
                        "bin_end": 90.10000000000001,
                        "count": 19
                      },
                      {
                        "bin_start": 90.10000000000001,
                        "bin_end": 100,
                        "count": 22
                      }
                    ]
                  }
                },
                {
                  "name": "wk17",
                  "dtype": "float64",
                  "stats": {
                    "unique_count": 79,
                    "nan_count": 140,
                    "min": "1.0",
                    "max": "100.0",
                    "histogram": [
                      {
                        "bin_start": 1,
                        "bin_end": 10.9,
                        "count": 25
                      },
                      {
                        "bin_start": 10.9,
                        "bin_end": 20.8,
                        "count": 22
                      },
                      {
                        "bin_start": 20.8,
                        "bin_end": 30.700000000000003,
                        "count": 16
                      },
                      {
                        "bin_start": 30.700000000000003,
                        "bin_end": 40.6,
                        "count": 9
                      },
                      {
                        "bin_start": 40.6,
                        "bin_end": 50.5,
                        "count": 13
                      },
                      {
                        "bin_start": 50.5,
                        "bin_end": 60.400000000000006,
                        "count": 14
                      },
                      {
                        "bin_start": 60.400000000000006,
                        "bin_end": 70.3,
                        "count": 15
                      },
                      {
                        "bin_start": 70.3,
                        "bin_end": 80.2,
                        "count": 12
                      },
                      {
                        "bin_start": 80.2,
                        "bin_end": 90.10000000000001,
                        "count": 20
                      },
                      {
                        "bin_start": 90.10000000000001,
                        "bin_end": 100,
                        "count": 31
                      }
                    ]
                  }
                },
                {
                  "name": "wk18",
                  "dtype": "float64",
                  "stats": {
                    "unique_count": 83,
                    "nan_count": 151,
                    "min": "1.0",
                    "max": "100.0",
                    "histogram": [
                      {
                        "bin_start": 1,
                        "bin_end": 10.9,
                        "count": 23
                      },
                      {
                        "bin_start": 10.9,
                        "bin_end": 20.8,
                        "count": 22
                      },
                      {
                        "bin_start": 20.8,
                        "bin_end": 30.700000000000003,
                        "count": 14
                      },
                      {
                        "bin_start": 30.700000000000003,
                        "bin_end": 40.6,
                        "count": 9
                      },
                      {
                        "bin_start": 40.6,
                        "bin_end": 50.5,
                        "count": 11
                      },
                      {
                        "bin_start": 50.5,
                        "bin_end": 60.400000000000006,
                        "count": 10
                      },
                      {
                        "bin_start": 60.400000000000006,
                        "bin_end": 70.3,
                        "count": 15
                      },
                      {
                        "bin_start": 70.3,
                        "bin_end": 80.2,
                        "count": 10
                      },
                      {
                        "bin_start": 80.2,
                        "bin_end": 90.10000000000001,
                        "count": 26
                      },
                      {
                        "bin_start": 90.10000000000001,
                        "bin_end": 100,
                        "count": 26
                      }
                    ]
                  }
                },
                {
                  "name": "wk19",
                  "dtype": "float64",
                  "stats": {
                    "unique_count": 77,
                    "nan_count": 161,
                    "min": "1.0",
                    "max": "99.0",
                    "histogram": [
                      {
                        "bin_start": 1,
                        "bin_end": 10.8,
                        "count": 19
                      },
                      {
                        "bin_start": 10.8,
                        "bin_end": 20.6,
                        "count": 20
                      },
                      {
                        "bin_start": 20.6,
                        "bin_end": 30.400000000000002,
                        "count": 15
                      },
                      {
                        "bin_start": 30.400000000000002,
                        "bin_end": 40.2,
                        "count": 8
                      },
                      {
                        "bin_start": 40.2,
                        "bin_end": 50,
                        "count": 8
                      },
                      {
                        "bin_start": 50,
                        "bin_end": 59.800000000000004,
                        "count": 14
                      },
                      {
                        "bin_start": 59.800000000000004,
                        "bin_end": 69.60000000000001,
                        "count": 9
                      },
                      {
                        "bin_start": 69.60000000000001,
                        "bin_end": 79.4,
                        "count": 12
                      },
                      {
                        "bin_start": 79.4,
                        "bin_end": 89.2,
                        "count": 21
                      },
                      {
                        "bin_start": 89.2,
                        "bin_end": 99,
                        "count": 30
                      }
                    ]
                  }
                },
                {
                  "name": "wk20",
                  "dtype": "float64",
                  "stats": {
                    "unique_count": 73,
                    "nan_count": 171,
                    "min": "2.0",
                    "max": "100.0",
                    "histogram": [
                      {
                        "bin_start": 2,
                        "bin_end": 11.8,
                        "count": 18
                      },
                      {
                        "bin_start": 11.8,
                        "bin_end": 21.6,
                        "count": 17
                      },
                      {
                        "bin_start": 21.6,
                        "bin_end": 31.400000000000002,
                        "count": 16
                      },
                      {
                        "bin_start": 31.400000000000002,
                        "bin_end": 41.2,
                        "count": 6
                      },
                      {
                        "bin_start": 41.2,
                        "bin_end": 51,
                        "count": 9
                      },
                      {
                        "bin_start": 51,
                        "bin_end": 60.800000000000004,
                        "count": 10
                      },
                      {
                        "bin_start": 60.800000000000004,
                        "bin_end": 70.60000000000001,
                        "count": 13
                      },
                      {
                        "bin_start": 70.60000000000001,
                        "bin_end": 80.4,
                        "count": 9
                      },
                      {
                        "bin_start": 80.4,
                        "bin_end": 90.2,
                        "count": 25
                      },
                      {
                        "bin_start": 90.2,
                        "bin_end": 100,
                        "count": 23
                      }
                    ]
                  }
                },
                {
                  "name": "wk21",
                  "dtype": "float64",
                  "stats": {
                    "unique_count": 38,
                    "nan_count": 252,
                    "min": "3.0",
                    "max": "97.0",
                    "histogram": [
                      {
                        "bin_start": 3,
                        "bin_end": 12.4,
                        "count": 21
                      },
                      {
                        "bin_start": 12.4,
                        "bin_end": 21.8,
                        "count": 11
                      },
                      {
                        "bin_start": 21.8,
                        "bin_end": 31.200000000000003,
                        "count": 12
                      },
                      {
                        "bin_start": 31.200000000000003,
                        "bin_end": 40.6,
                        "count": 7
                      },
                      {
                        "bin_start": 40.6,
                        "bin_end": 50,
                        "count": 10
                      },
                      {
                        "bin_start": 50,
                        "bin_end": 59.400000000000006,
                        "count": 1
                      },
                      {
                        "bin_start": 59.400000000000006,
                        "bin_end": 68.8,
                        "count": 0
                      },
                      {
                        "bin_start": 68.8,
                        "bin_end": 78.2,
                        "count": 0
                      },
                      {
                        "bin_start": 78.2,
                        "bin_end": 87.60000000000001,
                        "count": 0
                      },
                      {
                        "bin_start": 87.60000000000001,
                        "bin_end": 97,
                        "count": 3
                      }
                    ]
                  }
                },
                {
                  "name": "wk22",
                  "dtype": "float64",
                  "stats": {
                    "unique_count": 37,
                    "nan_count": 262,
                    "min": "3.0",
                    "max": "100.0",
                    "histogram": [
                      {
                        "bin_start": 3,
                        "bin_end": 12.7,
                        "count": 19
                      },
                      {
                        "bin_start": 12.7,
                        "bin_end": 22.4,
                        "count": 10
                      },
                      {
                        "bin_start": 22.4,
                        "bin_end": 32.099999999999994,
                        "count": 9
                      },
                      {
                        "bin_start": 32.099999999999994,
                        "bin_end": 41.8,
                        "count": 9
                      },
                      {
                        "bin_start": 41.8,
                        "bin_end": 51.5,
                        "count": 5
                      },
                      {
                        "bin_start": 51.5,
                        "bin_end": 61.199999999999996,
                        "count": 0
                      },
                      {
                        "bin_start": 61.199999999999996,
                        "bin_end": 70.89999999999999,
                        "count": 0
                      },
                      {
                        "bin_start": 70.89999999999999,
                        "bin_end": 80.6,
                        "count": 1
                      },
                      {
                        "bin_start": 80.6,
                        "bin_end": 90.3,
                        "count": 0
                      },
                      {
                        "bin_start": 90.3,
                        "bin_end": 100,
                        "count": 2
                      }
                    ]
                  }
                },
                {
                  "name": "wk23",
                  "dtype": "float64",
                  "stats": {
                    "unique_count": 32,
                    "nan_count": 269,
                    "min": "3.0",
                    "max": "91.0",
                    "histogram": [
                      {
                        "bin_start": 3,
                        "bin_end": 11.8,
                        "count": 16
                      },
                      {
                        "bin_start": 11.8,
                        "bin_end": 20.6,
                        "count": 8
                      },
                      {
                        "bin_start": 20.6,
                        "bin_end": 29.400000000000002,
                        "count": 8
                      },
                      {
                        "bin_start": 29.400000000000002,
                        "bin_end": 38.2,
                        "count": 7
                      },
                      {
                        "bin_start": 38.2,
                        "bin_end": 47,
                        "count": 7
                      },
                      {
                        "bin_start": 47,
                        "bin_end": 55.800000000000004,
                        "count": 0
                      },
                      {
                        "bin_start": 55.800000000000004,
                        "bin_end": 64.60000000000001,
                        "count": 0
                      },
                      {
                        "bin_start": 64.60000000000001,
                        "bin_end": 73.4,
                        "count": 0
                      },
                      {
                        "bin_start": 73.4,
                        "bin_end": 82.2,
                        "count": 1
                      },
                      {
                        "bin_start": 82.2,
                        "bin_end": 91,
                        "count": 1
                      }
                    ]
                  }
                },
                {
                  "name": "wk24",
                  "dtype": "float64",
                  "stats": {
                    "unique_count": 32,
                    "nan_count": 271,
                    "min": "3.0",
                    "max": "91.0",
                    "histogram": [
                      {
                        "bin_start": 3,
                        "bin_end": 11.8,
                        "count": 10
                      },
                      {
                        "bin_start": 11.8,
                        "bin_end": 20.6,
                        "count": 12
                      },
                      {
                        "bin_start": 20.6,
                        "bin_end": 29.400000000000002,
                        "count": 4
                      },
                      {
                        "bin_start": 29.400000000000002,
                        "bin_end": 38.2,
                        "count": 7
                      },
                      {
                        "bin_start": 38.2,
                        "bin_end": 47,
                        "count": 7
                      },
                      {
                        "bin_start": 47,
                        "bin_end": 55.800000000000004,
                        "count": 4
                      },
                      {
                        "bin_start": 55.800000000000004,
                        "bin_end": 64.60000000000001,
                        "count": 0
                      },
                      {
                        "bin_start": 64.60000000000001,
                        "bin_end": 73.4,
                        "count": 1
                      },
                      {
                        "bin_start": 73.4,
                        "bin_end": 82.2,
                        "count": 0
                      },
                      {
                        "bin_start": 82.2,
                        "bin_end": 91,
                        "count": 1
                      }
                    ]
                  }
                },
                {
                  "name": "wk25",
                  "dtype": "float64",
                  "stats": {
                    "unique_count": 27,
                    "nan_count": 279,
                    "min": "2.0",
                    "max": "90.0",
                    "histogram": [
                      {
                        "bin_start": 2,
                        "bin_end": 10.8,
                        "count": 7
                      },
                      {
                        "bin_start": 10.8,
                        "bin_end": 19.6,
                        "count": 9
                      },
                      {
                        "bin_start": 19.6,
                        "bin_end": 28.400000000000002,
                        "count": 8
                      },
                      {
                        "bin_start": 28.400000000000002,
                        "bin_end": 37.2,
                        "count": 4
                      },
                      {
                        "bin_start": 37.2,
                        "bin_end": 46,
                        "count": 5
                      },
                      {
                        "bin_start": 46,
                        "bin_end": 54.800000000000004,
                        "count": 3
                      },
                      {
                        "bin_start": 54.800000000000004,
                        "bin_end": 63.60000000000001,
                        "count": 0
                      },
                      {
                        "bin_start": 63.60000000000001,
                        "bin_end": 72.4,
                        "count": 1
                      },
                      {
                        "bin_start": 72.4,
                        "bin_end": 81.2,
                        "count": 0
                      },
                      {
                        "bin_start": 81.2,
                        "bin_end": 90,
                        "count": 1
                      }
                    ]
                  }
                },
                {
                  "name": "wk26",
                  "dtype": "float64",
                  "stats": {
                    "unique_count": 32,
                    "nan_count": 281,
                    "min": "1.0",
                    "max": "89.0",
                    "histogram": [
                      {
                        "bin_start": 1,
                        "bin_end": 9.8,
                        "count": 6
                      },
                      {
                        "bin_start": 9.8,
                        "bin_end": 18.6,
                        "count": 8
                      },
                      {
                        "bin_start": 18.6,
                        "bin_end": 27.400000000000002,
                        "count": 5
                      },
                      {
                        "bin_start": 27.400000000000002,
                        "bin_end": 36.2,
                        "count": 5
                      },
                      {
                        "bin_start": 36.2,
                        "bin_end": 45,
                        "count": 4
                      },
                      {
                        "bin_start": 45,
                        "bin_end": 53.800000000000004,
                        "count": 6
                      },
                      {
                        "bin_start": 53.800000000000004,
                        "bin_end": 62.60000000000001,
                        "count": 1
                      },
                      {
                        "bin_start": 62.60000000000001,
                        "bin_end": 71.4,
                        "count": 0
                      },
                      {
                        "bin_start": 71.4,
                        "bin_end": 80.2,
                        "count": 0
                      },
                      {
                        "bin_start": 80.2,
                        "bin_end": 89,
                        "count": 1
                      }
                    ]
                  }
                },
                {
                  "name": "wk27",
                  "dtype": "float64",
                  "stats": {
                    "unique_count": 25,
                    "nan_count": 288,
                    "min": "1.0",
                    "max": "86.0",
                    "histogram": [
                      {
                        "bin_start": 1,
                        "bin_end": 9.5,
                        "count": 5
                      },
                      {
                        "bin_start": 9.5,
                        "bin_end": 18,
                        "count": 5
                      },
                      {
                        "bin_start": 18,
                        "bin_end": 26.5,
                        "count": 6
                      },
                      {
                        "bin_start": 26.5,
                        "bin_end": 35,
                        "count": 3
                      },
                      {
                        "bin_start": 35,
                        "bin_end": 43.5,
                        "count": 4
                      },
                      {
                        "bin_start": 43.5,
                        "bin_end": 52,
                        "count": 4
                      },
                      {
                        "bin_start": 52,
                        "bin_end": 60.5,
                        "count": 1
                      },
                      {
                        "bin_start": 60.5,
                        "bin_end": 69,
                        "count": 0
                      },
                      {
                        "bin_start": 69,
                        "bin_end": 77.5,
                        "count": 0
                      },
                      {
                        "bin_start": 77.5,
                        "bin_end": 86,
                        "count": 1
                      }
                    ]
                  }
                },
                {
                  "name": "wk28",
                  "dtype": "float64",
                  "stats": {
                    "unique_count": 19,
                    "nan_count": 293,
                    "min": "2.0",
                    "max": "58.0",
                    "histogram": [
                      {
                        "bin_start": 2,
                        "bin_end": 7.6,
                        "count": 5
                      },
                      {
                        "bin_start": 7.6,
                        "bin_end": 13.2,
                        "count": 1
                      },
                      {
                        "bin_start": 13.2,
                        "bin_end": 18.799999999999997,
                        "count": 3
                      },
                      {
                        "bin_start": 18.799999999999997,
                        "bin_end": 24.4,
                        "count": 5
                      },
                      {
                        "bin_start": 24.4,
                        "bin_end": 30,
                        "count": 1
                      },
                      {
                        "bin_start": 30,
                        "bin_end": 35.599999999999994,
                        "count": 2
                      },
                      {
                        "bin_start": 35.599999999999994,
                        "bin_end": 41.199999999999996,
                        "count": 2
                      },
                      {
                        "bin_start": 41.199999999999996,
                        "bin_end": 46.8,
                        "count": 3
                      },
                      {
                        "bin_start": 46.8,
                        "bin_end": 52.4,
                        "count": 1
                      },
                      {
                        "bin_start": 52.4,
                        "bin_end": 58,
                        "count": 1
                      }
                    ]
                  }
                },
                {
                  "name": "wk29",
                  "dtype": "float64",
                  "stats": {
                    "unique_count": 16,
                    "nan_count": 297,
                    "min": "2.0",
                    "max": "49.0",
                    "histogram": [
                      {
                        "bin_start": 2,
                        "bin_end": 6.7,
                        "count": 5
                      },
                      {
                        "bin_start": 6.7,
                        "bin_end": 11.4,
                        "count": 0
                      },
                      {
                        "bin_start": 11.4,
                        "bin_end": 16.1,
                        "count": 0
                      },
                      {
                        "bin_start": 16.1,
                        "bin_end": 20.8,
                        "count": 4
                      },
                      {
                        "bin_start": 20.8,
                        "bin_end": 25.5,
                        "count": 3
                      },
                      {
                        "bin_start": 25.5,
                        "bin_end": 30.200000000000003,
                        "count": 1
                      },
                      {
                        "bin_start": 30.200000000000003,
                        "bin_end": 34.9,
                        "count": 1
                      },
                      {
                        "bin_start": 34.9,
                        "bin_end": 39.6,
                        "count": 2
                      },
                      {
                        "bin_start": 39.6,
                        "bin_end": 44.300000000000004,
                        "count": 3
                      },
                      {
                        "bin_start": 44.300000000000004,
                        "bin_end": 49,
                        "count": 1
                      }
                    ]
                  }
                },
                {
                  "name": "wk30",
                  "dtype": "float64",
                  "stats": {
                    "unique_count": 16,
                    "nan_count": 297,
                    "min": "2.0",
                    "max": "45.0",
                    "histogram": [
                      {
                        "bin_start": 2,
                        "bin_end": 6.3,
                        "count": 4
                      },
                      {
                        "bin_start": 6.3,
                        "bin_end": 10.6,
                        "count": 1
                      },
                      {
                        "bin_start": 10.6,
                        "bin_end": 14.899999999999999,
                        "count": 0
                      },
                      {
                        "bin_start": 14.899999999999999,
                        "bin_end": 19.2,
                        "count": 1
                      },
                      {
                        "bin_start": 19.2,
                        "bin_end": 23.5,
                        "count": 2
                      },
                      {
                        "bin_start": 23.5,
                        "bin_end": 27.799999999999997,
                        "count": 1
                      },
                      {
                        "bin_start": 27.799999999999997,
                        "bin_end": 32.099999999999994,
                        "count": 1
                      },
                      {
                        "bin_start": 32.099999999999994,
                        "bin_end": 36.4,
                        "count": 4
                      },
                      {
                        "bin_start": 36.4,
                        "bin_end": 40.699999999999996,
                        "count": 1
                      },
                      {
                        "bin_start": 40.699999999999996,
                        "bin_end": 45,
                        "count": 5
                      }
                    ]
                  }
                },
                {
                  "name": "wk31",
                  "dtype": "float64",
                  "stats": {
                    "unique_count": 18,
                    "nan_count": 298,
                    "min": "3.0",
                    "max": "49.0",
                    "histogram": [
                      {
                        "bin_start": 3,
                        "bin_end": 7.6,
                        "count": 4
                      },
                      {
                        "bin_start": 7.6,
                        "bin_end": 12.2,
                        "count": 1
                      },
                      {
                        "bin_start": 12.2,
                        "bin_end": 16.799999999999997,
                        "count": 0
                      },
                      {
                        "bin_start": 16.799999999999997,
                        "bin_end": 21.4,
                        "count": 0
                      },
                      {
                        "bin_start": 21.4,
                        "bin_end": 26,
                        "count": 1
                      },
                      {
                        "bin_start": 26,
                        "bin_end": 30.599999999999998,
                        "count": 2
                      },
                      {
                        "bin_start": 30.599999999999998,
                        "bin_end": 35.199999999999996,
                        "count": 3
                      },
                      {
                        "bin_start": 35.199999999999996,
                        "bin_end": 39.8,
                        "count": 2
                      },
                      {
                        "bin_start": 39.8,
                        "bin_end": 44.4,
                        "count": 3
                      },
                      {
                        "bin_start": 44.4,
                        "bin_end": 49,
                        "count": 3
                      }
                    ]
                  }
                },
                {
                  "name": "wk32",
                  "dtype": "float64",
                  "stats": {
                    "unique_count": 14,
                    "nan_count": 299,
                    "min": "3.0",
                    "max": "47.0",
                    "histogram": [
                      {
                        "bin_start": 3,
                        "bin_end": 7.4,
                        "count": 4
                      },
                      {
                        "bin_start": 7.4,
                        "bin_end": 11.8,
                        "count": 1
                      },
                      {
                        "bin_start": 11.8,
                        "bin_end": 16.200000000000003,
                        "count": 0
                      },
                      {
                        "bin_start": 16.200000000000003,
                        "bin_end": 20.6,
                        "count": 0
                      },
                      {
                        "bin_start": 20.6,
                        "bin_end": 25,
                        "count": 0
                      },
                      {
                        "bin_start": 25,
                        "bin_end": 29.400000000000002,
                        "count": 3
                      },
                      {
                        "bin_start": 29.400000000000002,
                        "bin_end": 33.800000000000004,
                        "count": 0
                      },
                      {
                        "bin_start": 33.800000000000004,
                        "bin_end": 38.2,
                        "count": 1
                      },
                      {
                        "bin_start": 38.2,
                        "bin_end": 42.6,
                        "count": 2
                      },
                      {
                        "bin_start": 42.6,
                        "bin_end": 47,
                        "count": 7
                      }
                    ]
                  }
                },
                {
                  "name": "wk33",
                  "dtype": "float64",
                  "stats": {
                    "unique_count": 12,
                    "nan_count": 305,
                    "min": "2.0",
                    "max": "50.0",
                    "histogram": [
                      {
                        "bin_start": 2,
                        "bin_end": 6.8,
                        "count": 4
                      },
                      {
                        "bin_start": 6.8,
                        "bin_end": 11.6,
                        "count": 0
                      },
                      {
                        "bin_start": 11.6,
                        "bin_end": 16.4,
                        "count": 0
                      },
                      {
                        "bin_start": 16.4,
                        "bin_end": 21.2,
                        "count": 1
                      },
                      {
                        "bin_start": 21.2,
                        "bin_end": 26,
                        "count": 2
                      },
                      {
                        "bin_start": 26,
                        "bin_end": 30.799999999999997,
                        "count": 1
                      },
                      {
                        "bin_start": 30.799999999999997,
                        "bin_end": 35.6,
                        "count": 0
                      },
                      {
                        "bin_start": 35.6,
                        "bin_end": 40.4,
                        "count": 2
                      },
                      {
                        "bin_start": 40.4,
                        "bin_end": 45.199999999999996,
                        "count": 0
                      },
                      {
                        "bin_start": 45.199999999999996,
                        "bin_end": 50,
                        "count": 2
                      }
                    ]
                  }
                },
                {
                  "name": "wk34",
                  "dtype": "float64",
                  "stats": {
                    "unique_count": 9,
                    "nan_count": 307,
                    "min": "3.0",
                    "max": "49.0",
                    "histogram": [
                      {
                        "bin_start": 3,
                        "bin_end": 7.6,
                        "count": 3
                      },
                      {
                        "bin_start": 7.6,
                        "bin_end": 12.2,
                        "count": 1
                      },
                      {
                        "bin_start": 12.2,
                        "bin_end": 16.799999999999997,
                        "count": 0
                      },
                      {
                        "bin_start": 16.799999999999997,
                        "bin_end": 21.4,
                        "count": 2
                      },
                      {
                        "bin_start": 21.4,
                        "bin_end": 26,
                        "count": 1
                      },
                      {
                        "bin_start": 26,
                        "bin_end": 30.599999999999998,
                        "count": 1
                      },
                      {
                        "bin_start": 30.599999999999998,
                        "bin_end": 35.199999999999996,
                        "count": 1
                      },
                      {
                        "bin_start": 35.199999999999996,
                        "bin_end": 39.8,
                        "count": 0
                      },
                      {
                        "bin_start": 39.8,
                        "bin_end": 44.4,
                        "count": 0
                      },
                      {
                        "bin_start": 44.4,
                        "bin_end": 49,
                        "count": 1
                      }
                    ]
                  }
                },
                {
                  "name": "wk35",
                  "dtype": "float64",
                  "stats": {
                    "unique_count": 8,
                    "nan_count": 308,
                    "min": "4.0",
                    "max": "34.0",
                    "histogram": [
                      {
                        "bin_start": 4,
                        "bin_end": 7,
                        "count": 3
                      },
                      {
                        "bin_start": 7,
                        "bin_end": 10,
                        "count": 1
                      },
                      {
                        "bin_start": 10,
                        "bin_end": 13,
                        "count": 0
                      },
                      {
                        "bin_start": 13,
                        "bin_end": 16,
                        "count": 1
                      },
                      {
                        "bin_start": 16,
                        "bin_end": 19,
                        "count": 0
                      },
                      {
                        "bin_start": 19,
                        "bin_end": 22,
                        "count": 0
                      },
                      {
                        "bin_start": 22,
                        "bin_end": 25,
                        "count": 1
                      },
                      {
                        "bin_start": 25,
                        "bin_end": 28,
                        "count": 1
                      },
                      {
                        "bin_start": 28,
                        "bin_end": 31,
                        "count": 0
                      },
                      {
                        "bin_start": 31,
                        "bin_end": 34,
                        "count": 2
                      }
                    ]
                  }
                },
                {
                  "name": "wk36",
                  "dtype": "float64",
                  "stats": {
                    "unique_count": 8,
                    "nan_count": 308,
                    "min": "5.0",
                    "max": "41.0",
                    "histogram": [
                      {
                        "bin_start": 5,
                        "bin_end": 8.6,
                        "count": 3
                      },
                      {
                        "bin_start": 8.6,
                        "bin_end": 12.2,
                        "count": 1
                      },
                      {
                        "bin_start": 12.2,
                        "bin_end": 15.8,
                        "count": 0
                      },
                      {
                        "bin_start": 15.8,
                        "bin_end": 19.4,
                        "count": 2
                      },
                      {
                        "bin_start": 19.4,
                        "bin_end": 23,
                        "count": 0
                      },
                      {
                        "bin_start": 23,
                        "bin_end": 26.6,
                        "count": 0
                      },
                      {
                        "bin_start": 26.6,
                        "bin_end": 30.2,
                        "count": 1
                      },
                      {
                        "bin_start": 30.2,
                        "bin_end": 33.8,
                        "count": 0
                      },
                      {
                        "bin_start": 33.8,
                        "bin_end": 37.4,
                        "count": 1
                      },
                      {
                        "bin_start": 37.4,
                        "bin_end": 41,
                        "count": 1
                      }
                    ]
                  }
                },
                {
                  "name": "wk37",
                  "dtype": "float64",
                  "stats": {
                    "unique_count": 8,
                    "nan_count": 308,
                    "min": "5.0",
                    "max": "48.0",
                    "histogram": [
                      {
                        "bin_start": 5,
                        "bin_end": 9.3,
                        "count": 3
                      },
                      {
                        "bin_start": 9.3,
                        "bin_end": 13.6,
                        "count": 1
                      },
                      {
                        "bin_start": 13.6,
                        "bin_end": 17.9,
                        "count": 1
                      },
                      {
                        "bin_start": 17.9,
                        "bin_end": 22.2,
                        "count": 1
                      },
                      {
                        "bin_start": 22.2,
                        "bin_end": 26.5,
                        "count": 0
                      },
                      {
                        "bin_start": 26.5,
                        "bin_end": 30.799999999999997,
                        "count": 0
                      },
                      {
                        "bin_start": 30.799999999999997,
                        "bin_end": 35.099999999999994,
                        "count": 0
                      },
                      {
                        "bin_start": 35.099999999999994,
                        "bin_end": 39.4,
                        "count": 2
                      },
                      {
                        "bin_start": 39.4,
                        "bin_end": 43.699999999999996,
                        "count": 0
                      },
                      {
                        "bin_start": 43.699999999999996,
                        "bin_end": 48,
                        "count": 1
                      }
                    ]
                  }
                },
                {
                  "name": "wk38",
                  "dtype": "float64",
                  "stats": {
                    "unique_count": 5,
                    "nan_count": 309,
                    "min": "9.0",
                    "max": "40.0",
                    "histogram": [
                      {
                        "bin_start": 9,
                        "bin_end": 12.1,
                        "count": 3
                      },
                      {
                        "bin_start": 12.1,
                        "bin_end": 15.2,
                        "count": 1
                      },
                      {
                        "bin_start": 15.2,
                        "bin_end": 18.3,
                        "count": 2
                      },
                      {
                        "bin_start": 18.3,
                        "bin_end": 21.4,
                        "count": 0
                      },
                      {
                        "bin_start": 21.4,
                        "bin_end": 24.5,
                        "count": 0
                      },
                      {
                        "bin_start": 24.5,
                        "bin_end": 27.6,
                        "count": 0
                      },
                      {
                        "bin_start": 27.6,
                        "bin_end": 30.7,
                        "count": 0
                      },
                      {
                        "bin_start": 30.7,
                        "bin_end": 33.8,
                        "count": 0
                      },
                      {
                        "bin_start": 33.8,
                        "bin_end": 36.900000000000006,
                        "count": 0
                      },
                      {
                        "bin_start": 36.900000000000006,
                        "bin_end": 40,
                        "count": 2
                      }
                    ]
                  }
                },
                {
                  "name": "wk39",
                  "dtype": "float64",
                  "stats": {
                    "unique_count": 8,
                    "nan_count": 309,
                    "min": "3.0",
                    "max": "50.0",
                    "histogram": [
                      {
                        "bin_start": 3,
                        "bin_end": 7.7,
                        "count": 1
                      },
                      {
                        "bin_start": 7.7,
                        "bin_end": 12.4,
                        "count": 3
                      },
                      {
                        "bin_start": 12.4,
                        "bin_end": 17.1,
                        "count": 1
                      },
                      {
                        "bin_start": 17.1,
                        "bin_end": 21.8,
                        "count": 1
                      },
                      {
                        "bin_start": 21.8,
                        "bin_end": 26.5,
                        "count": 0
                      },
                      {
                        "bin_start": 26.5,
                        "bin_end": 31.200000000000003,
                        "count": 0
                      },
                      {
                        "bin_start": 31.200000000000003,
                        "bin_end": 35.9,
                        "count": 0
                      },
                      {
                        "bin_start": 35.9,
                        "bin_end": 40.6,
                        "count": 0
                      },
                      {
                        "bin_start": 40.6,
                        "bin_end": 45.300000000000004,
                        "count": 0
                      },
                      {
                        "bin_start": 45.300000000000004,
                        "bin_end": 50,
                        "count": 2
                      }
                    ]
                  }
                },
                {
                  "name": "wk40",
                  "dtype": "float64",
                  "stats": {
                    "unique_count": 6,
                    "nan_count": 310,
                    "min": "1.0",
                    "max": "47.0",
                    "histogram": [
                      {
                        "bin_start": 1,
                        "bin_end": 5.6,
                        "count": 1
                      },
                      {
                        "bin_start": 5.6,
                        "bin_end": 10.2,
                        "count": 0
                      },
                      {
                        "bin_start": 10.2,
                        "bin_end": 14.799999999999999,
                        "count": 3
                      },
                      {
                        "bin_start": 14.799999999999999,
                        "bin_end": 19.4,
                        "count": 1
                      },
                      {
                        "bin_start": 19.4,
                        "bin_end": 24,
                        "count": 1
                      },
                      {
                        "bin_start": 24,
                        "bin_end": 28.599999999999998,
                        "count": 0
                      },
                      {
                        "bin_start": 28.599999999999998,
                        "bin_end": 33.199999999999996,
                        "count": 0
                      },
                      {
                        "bin_start": 33.199999999999996,
                        "bin_end": 37.8,
                        "count": 0
                      },
                      {
                        "bin_start": 37.8,
                        "bin_end": 42.4,
                        "count": 0
                      },
                      {
                        "bin_start": 42.4,
                        "bin_end": 47,
                        "count": 1
                      }
                    ]
                  }
                },
                {
                  "name": "wk41",
                  "dtype": "float64",
                  "stats": {
                    "unique_count": 6,
                    "nan_count": 310,
                    "min": "1.0",
                    "max": "50.0",
                    "histogram": [
                      {
                        "bin_start": 1,
                        "bin_end": 5.9,
                        "count": 1
                      },
                      {
                        "bin_start": 5.9,
                        "bin_end": 10.8,
                        "count": 0
                      },
                      {
                        "bin_start": 10.8,
                        "bin_end": 15.700000000000001,
                        "count": 3
                      },
                      {
                        "bin_start": 15.700000000000001,
                        "bin_end": 20.6,
                        "count": 1
                      },
                      {
                        "bin_start": 20.6,
                        "bin_end": 25.5,
                        "count": 1
                      },
                      {
                        "bin_start": 25.5,
                        "bin_end": 30.400000000000002,
                        "count": 0
                      },
                      {
                        "bin_start": 30.400000000000002,
                        "bin_end": 35.300000000000004,
                        "count": 0
                      },
                      {
                        "bin_start": 35.300000000000004,
                        "bin_end": 40.2,
                        "count": 0
                      },
                      {
                        "bin_start": 40.2,
                        "bin_end": 45.1,
                        "count": 0
                      },
                      {
                        "bin_start": 45.1,
                        "bin_end": 50,
                        "count": 1
                      }
                    ]
                  }
                },
                {
                  "name": "wk42",
                  "dtype": "float64",
                  "stats": {
                    "unique_count": 6,
                    "nan_count": 311,
                    "min": "2.0",
                    "max": "22.0",
                    "histogram": [
                      {
                        "bin_start": 2,
                        "bin_end": 4,
                        "count": 1
                      },
                      {
                        "bin_start": 4,
                        "bin_end": 6,
                        "count": 0
                      },
                      {
                        "bin_start": 6,
                        "bin_end": 8,
                        "count": 0
                      },
                      {
                        "bin_start": 8,
                        "bin_end": 10,
                        "count": 0
                      },
                      {
                        "bin_start": 10,
                        "bin_end": 12,
                        "count": 1
                      },
                      {
                        "bin_start": 12,
                        "bin_end": 14,
                        "count": 1
                      },
                      {
                        "bin_start": 14,
                        "bin_end": 16,
                        "count": 0
                      },
                      {
                        "bin_start": 16,
                        "bin_end": 18,
                        "count": 1
                      },
                      {
                        "bin_start": 18,
                        "bin_end": 20,
                        "count": 0
                      },
                      {
                        "bin_start": 20,
                        "bin_end": 22,
                        "count": 2
                      }
                    ]
                  }
                },
                {
                  "name": "wk43",
                  "dtype": "float64",
                  "stats": {
                    "unique_count": 6,
                    "nan_count": 311,
                    "min": "3.0",
                    "max": "32.0",
                    "histogram": [
                      {
                        "bin_start": 3,
                        "bin_end": 5.9,
                        "count": 1
                      },
                      {
                        "bin_start": 5.9,
                        "bin_end": 8.8,
                        "count": 0
                      },
                      {
                        "bin_start": 8.8,
                        "bin_end": 11.7,
                        "count": 1
                      },
                      {
                        "bin_start": 11.7,
                        "bin_end": 14.6,
                        "count": 1
                      },
                      {
                        "bin_start": 14.6,
                        "bin_end": 17.5,
                        "count": 0
                      },
                      {
                        "bin_start": 17.5,
                        "bin_end": 20.4,
                        "count": 0
                      },
                      {
                        "bin_start": 20.4,
                        "bin_end": 23.3,
                        "count": 1
                      },
                      {
                        "bin_start": 23.3,
                        "bin_end": 26.2,
                        "count": 1
                      },
                      {
                        "bin_start": 26.2,
                        "bin_end": 29.099999999999998,
                        "count": 0
                      },
                      {
                        "bin_start": 29.099999999999998,
                        "bin_end": 32,
                        "count": 1
                      }
                    ]
                  }
                },
                {
                  "name": "wk44",
                  "dtype": "float64",
                  "stats": {
                    "unique_count": 6,
                    "nan_count": 311,
                    "min": "4.0",
                    "max": "45.0",
                    "histogram": [
                      {
                        "bin_start": 4,
                        "bin_end": 8.1,
                        "count": 1
                      },
                      {
                        "bin_start": 8.1,
                        "bin_end": 12.2,
                        "count": 1
                      },
                      {
                        "bin_start": 12.2,
                        "bin_end": 16.299999999999997,
                        "count": 1
                      },
                      {
                        "bin_start": 16.299999999999997,
                        "bin_end": 20.4,
                        "count": 0
                      },
                      {
                        "bin_start": 20.4,
                        "bin_end": 24.5,
                        "count": 0
                      },
                      {
                        "bin_start": 24.5,
                        "bin_end": 28.599999999999998,
                        "count": 1
                      },
                      {
                        "bin_start": 28.599999999999998,
                        "bin_end": 32.699999999999996,
                        "count": 1
                      },
                      {
                        "bin_start": 32.699999999999996,
                        "bin_end": 36.8,
                        "count": 0
                      },
                      {
                        "bin_start": 36.8,
                        "bin_end": 40.9,
                        "count": 0
                      },
                      {
                        "bin_start": 40.9,
                        "bin_end": 45,
                        "count": 1
                      }
                    ]
                  }
                },
                {
                  "name": "wk45",
                  "dtype": "float64",
                  "stats": {
                    "unique_count": 5,
                    "nan_count": 312,
                    "min": "4.0",
                    "max": "31.0",
                    "histogram": [
                      {
                        "bin_start": 4,
                        "bin_end": 6.7,
                        "count": 1
                      },
                      {
                        "bin_start": 6.7,
                        "bin_end": 9.4,
                        "count": 1
                      },
                      {
                        "bin_start": 9.4,
                        "bin_end": 12.100000000000001,
                        "count": 0
                      },
                      {
                        "bin_start": 12.100000000000001,
                        "bin_end": 14.8,
                        "count": 0
                      },
                      {
                        "bin_start": 14.8,
                        "bin_end": 17.5,
                        "count": 1
                      },
                      {
                        "bin_start": 17.5,
                        "bin_end": 20.200000000000003,
                        "count": 0
                      },
                      {
                        "bin_start": 20.200000000000003,
                        "bin_end": 22.900000000000002,
                        "count": 0
                      },
                      {
                        "bin_start": 22.900000000000002,
                        "bin_end": 25.6,
                        "count": 0
                      },
                      {
                        "bin_start": 25.6,
                        "bin_end": 28.3,
                        "count": 1
                      },
                      {
                        "bin_start": 28.3,
                        "bin_end": 31,
                        "count": 1
                      }
                    ]
                  }
                },
                {
                  "name": "wk46",
                  "dtype": "float64",
                  "stats": {
                    "unique_count": 5,
                    "nan_count": 312,
                    "min": "5.0",
                    "max": "37.0",
                    "histogram": [
                      {
                        "bin_start": 5,
                        "bin_end": 8.2,
                        "count": 2
                      },
                      {
                        "bin_start": 8.2,
                        "bin_end": 11.4,
                        "count": 0
                      },
                      {
                        "bin_start": 11.4,
                        "bin_end": 14.600000000000001,
                        "count": 0
                      },
                      {
                        "bin_start": 14.600000000000001,
                        "bin_end": 17.8,
                        "count": 0
                      },
                      {
                        "bin_start": 17.8,
                        "bin_end": 21,
                        "count": 0
                      },
                      {
                        "bin_start": 21,
                        "bin_end": 24.200000000000003,
                        "count": 1
                      },
                      {
                        "bin_start": 24.200000000000003,
                        "bin_end": 27.400000000000002,
                        "count": 0
                      },
                      {
                        "bin_start": 27.400000000000002,
                        "bin_end": 30.6,
                        "count": 0
                      },
                      {
                        "bin_start": 30.6,
                        "bin_end": 33.8,
                        "count": 1
                      },
                      {
                        "bin_start": 33.8,
                        "bin_end": 37,
                        "count": 1
                      }
                    ]
                  }
                },
                {
                  "name": "wk47",
                  "dtype": "float64",
                  "stats": {
                    "unique_count": 5,
                    "nan_count": 312,
                    "min": "6.0",
                    "max": "41.0",
                    "histogram": [
                      {
                        "bin_start": 6,
                        "bin_end": 9.5,
                        "count": 2
                      },
                      {
                        "bin_start": 9.5,
                        "bin_end": 13,
                        "count": 0
                      },
                      {
                        "bin_start": 13,
                        "bin_end": 16.5,
                        "count": 0
                      },
                      {
                        "bin_start": 16.5,
                        "bin_end": 20,
                        "count": 0
                      },
                      {
                        "bin_start": 20,
                        "bin_end": 23.5,
                        "count": 1
                      },
                      {
                        "bin_start": 23.5,
                        "bin_end": 27,
                        "count": 0
                      },
                      {
                        "bin_start": 27,
                        "bin_end": 30.5,
                        "count": 0
                      },
                      {
                        "bin_start": 30.5,
                        "bin_end": 34,
                        "count": 0
                      },
                      {
                        "bin_start": 34,
                        "bin_end": 37.5,
                        "count": 0
                      },
                      {
                        "bin_start": 37.5,
                        "bin_end": 41,
                        "count": 2
                      }
                    ]
                  }
                },
                {
                  "name": "wk48",
                  "dtype": "float64",
                  "stats": {
                    "unique_count": 4,
                    "nan_count": 313,
                    "min": "8.0",
                    "max": "39.0",
                    "histogram": [
                      {
                        "bin_start": 8,
                        "bin_end": 11.1,
                        "count": 2
                      },
                      {
                        "bin_start": 11.1,
                        "bin_end": 14.2,
                        "count": 0
                      },
                      {
                        "bin_start": 14.2,
                        "bin_end": 17.3,
                        "count": 0
                      },
                      {
                        "bin_start": 17.3,
                        "bin_end": 20.4,
                        "count": 0
                      },
                      {
                        "bin_start": 20.4,
                        "bin_end": 23.5,
                        "count": 0
                      },
                      {
                        "bin_start": 23.5,
                        "bin_end": 26.6,
                        "count": 1
                      },
                      {
                        "bin_start": 26.6,
                        "bin_end": 29.7,
                        "count": 0
                      },
                      {
                        "bin_start": 29.7,
                        "bin_end": 32.8,
                        "count": 0
                      },
                      {
                        "bin_start": 32.8,
                        "bin_end": 35.900000000000006,
                        "count": 0
                      },
                      {
                        "bin_start": 35.900000000000006,
                        "bin_end": 39,
                        "count": 1
                      }
                    ]
                  }
                },
                {
                  "name": "wk49",
                  "dtype": "float64",
                  "stats": {
                    "unique_count": 3,
                    "nan_count": 313,
                    "min": "9.0",
                    "max": "42.0",
                    "histogram": [
                      {
                        "bin_start": 9,
                        "bin_end": 12.3,
                        "count": 2
                      },
                      {
                        "bin_start": 12.3,
                        "bin_end": 15.6,
                        "count": 0
                      },
                      {
                        "bin_start": 15.6,
                        "bin_end": 18.9,
                        "count": 0
                      },
                      {
                        "bin_start": 18.9,
                        "bin_end": 22.2,
                        "count": 0
                      },
                      {
                        "bin_start": 22.2,
                        "bin_end": 25.5,
                        "count": 0
                      },
                      {
                        "bin_start": 25.5,
                        "bin_end": 28.799999999999997,
                        "count": 1
                      },
                      {
                        "bin_start": 28.799999999999997,
                        "bin_end": 32.099999999999994,
                        "count": 0
                      },
                      {
                        "bin_start": 32.099999999999994,
                        "bin_end": 35.4,
                        "count": 0
                      },
                      {
                        "bin_start": 35.4,
                        "bin_end": 38.7,
                        "count": 0
                      },
                      {
                        "bin_start": 38.7,
                        "bin_end": 42,
                        "count": 1
                      }
                    ]
                  }
                },
                {
                  "name": "wk50",
                  "dtype": "float64",
                  "stats": {
                    "unique_count": 4,
                    "nan_count": 313,
                    "min": "10.0",
                    "max": "49.0",
                    "histogram": [
                      {
                        "bin_start": 10,
                        "bin_end": 13.9,
                        "count": 2
                      },
                      {
                        "bin_start": 13.9,
                        "bin_end": 17.8,
                        "count": 0
                      },
                      {
                        "bin_start": 17.8,
                        "bin_end": 21.7,
                        "count": 0
                      },
                      {
                        "bin_start": 21.7,
                        "bin_end": 25.6,
                        "count": 0
                      },
                      {
                        "bin_start": 25.6,
                        "bin_end": 29.5,
                        "count": 0
                      },
                      {
                        "bin_start": 29.5,
                        "bin_end": 33.4,
                        "count": 1
                      },
                      {
                        "bin_start": 33.4,
                        "bin_end": 37.3,
                        "count": 0
                      },
                      {
                        "bin_start": 37.3,
                        "bin_end": 41.2,
                        "count": 0
                      },
                      {
                        "bin_start": 41.2,
                        "bin_end": 45.1,
                        "count": 0
                      },
                      {
                        "bin_start": 45.1,
                        "bin_end": 49,
                        "count": 1
                      }
                    ]
                  }
                },
                {
                  "name": "wk51",
                  "dtype": "float64",
                  "stats": {
                    "unique_count": 4,
                    "nan_count": 313,
                    "min": "12.0",
                    "max": "49.0",
                    "histogram": [
                      {
                        "bin_start": 12,
                        "bin_end": 15.7,
                        "count": 2
                      },
                      {
                        "bin_start": 15.7,
                        "bin_end": 19.4,
                        "count": 0
                      },
                      {
                        "bin_start": 19.4,
                        "bin_end": 23.1,
                        "count": 0
                      },
                      {
                        "bin_start": 23.1,
                        "bin_end": 26.8,
                        "count": 0
                      },
                      {
                        "bin_start": 26.8,
                        "bin_end": 30.5,
                        "count": 0
                      },
                      {
                        "bin_start": 30.5,
                        "bin_end": 34.2,
                        "count": 0
                      },
                      {
                        "bin_start": 34.2,
                        "bin_end": 37.900000000000006,
                        "count": 0
                      },
                      {
                        "bin_start": 37.900000000000006,
                        "bin_end": 41.6,
                        "count": 0
                      },
                      {
                        "bin_start": 41.6,
                        "bin_end": 45.300000000000004,
                        "count": 1
                      },
                      {
                        "bin_start": 45.300000000000004,
                        "bin_end": 49,
                        "count": 1
                      }
                    ]
                  }
                },
                {
                  "name": "wk52",
                  "dtype": "float64",
                  "stats": {
                    "unique_count": 4,
                    "nan_count": 313,
                    "min": "15.0",
                    "max": "48.0",
                    "histogram": [
                      {
                        "bin_start": 15,
                        "bin_end": 18.3,
                        "count": 2
                      },
                      {
                        "bin_start": 18.3,
                        "bin_end": 21.6,
                        "count": 0
                      },
                      {
                        "bin_start": 21.6,
                        "bin_end": 24.9,
                        "count": 0
                      },
                      {
                        "bin_start": 24.9,
                        "bin_end": 28.2,
                        "count": 0
                      },
                      {
                        "bin_start": 28.2,
                        "bin_end": 31.5,
                        "count": 0
                      },
                      {
                        "bin_start": 31.5,
                        "bin_end": 34.8,
                        "count": 0
                      },
                      {
                        "bin_start": 34.8,
                        "bin_end": 38.099999999999994,
                        "count": 0
                      },
                      {
                        "bin_start": 38.099999999999994,
                        "bin_end": 41.4,
                        "count": 0
                      },
                      {
                        "bin_start": 41.4,
                        "bin_end": 44.7,
                        "count": 1
                      },
                      {
                        "bin_start": 44.7,
                        "bin_end": 48,
                        "count": 1
                      }
                    ]
                  }
                },
                {
                  "name": "wk53",
                  "dtype": "float64",
                  "stats": {
                    "unique_count": 4,
                    "nan_count": 313,
                    "min": "17.0",
                    "max": "49.0",
                    "histogram": [
                      {
                        "bin_start": 17,
                        "bin_end": 20.2,
                        "count": 2
                      },
                      {
                        "bin_start": 20.2,
                        "bin_end": 23.4,
                        "count": 0
                      },
                      {
                        "bin_start": 23.4,
                        "bin_end": 26.6,
                        "count": 0
                      },
                      {
                        "bin_start": 26.6,
                        "bin_end": 29.8,
                        "count": 0
                      },
                      {
                        "bin_start": 29.8,
                        "bin_end": 33,
                        "count": 0
                      },
                      {
                        "bin_start": 33,
                        "bin_end": 36.2,
                        "count": 0
                      },
                      {
                        "bin_start": 36.2,
                        "bin_end": 39.400000000000006,
                        "count": 0
                      },
                      {
                        "bin_start": 39.400000000000006,
                        "bin_end": 42.6,
                        "count": 0
                      },
                      {
                        "bin_start": 42.6,
                        "bin_end": 45.8,
                        "count": 0
                      },
                      {
                        "bin_start": 45.8,
                        "bin_end": 49,
                        "count": 2
                      }
                    ]
                  }
                },
                {
                  "name": "wk54",
                  "dtype": "float64",
                  "stats": {
                    "unique_count": 2,
                    "nan_count": 315,
                    "min": "17.0",
                    "max": "22.0",
                    "histogram": [
                      {
                        "bin_start": 17,
                        "bin_end": 17.5,
                        "count": 1
                      },
                      {
                        "bin_start": 17.5,
                        "bin_end": 18,
                        "count": 0
                      },
                      {
                        "bin_start": 18,
                        "bin_end": 18.5,
                        "count": 0
                      },
                      {
                        "bin_start": 18.5,
                        "bin_end": 19,
                        "count": 0
                      },
                      {
                        "bin_start": 19,
                        "bin_end": 19.5,
                        "count": 0
                      },
                      {
                        "bin_start": 19.5,
                        "bin_end": 20,
                        "count": 0
                      },
                      {
                        "bin_start": 20,
                        "bin_end": 20.5,
                        "count": 0
                      },
                      {
                        "bin_start": 20.5,
                        "bin_end": 21,
                        "count": 0
                      },
                      {
                        "bin_start": 21,
                        "bin_end": 21.5,
                        "count": 0
                      },
                      {
                        "bin_start": 21.5,
                        "bin_end": 22,
                        "count": 1
                      }
                    ]
                  }
                },
                {
                  "name": "wk55",
                  "dtype": "float64",
                  "stats": {
                    "unique_count": 2,
                    "nan_count": 315,
                    "min": "21.0",
                    "max": "22.0",
                    "histogram": [
                      {
                        "bin_start": 21,
                        "bin_end": 21.1,
                        "count": 1
                      },
                      {
                        "bin_start": 21.1,
                        "bin_end": 21.2,
                        "count": 0
                      },
                      {
                        "bin_start": 21.2,
                        "bin_end": 21.3,
                        "count": 0
                      },
                      {
                        "bin_start": 21.3,
                        "bin_end": 21.4,
                        "count": 0
                      },
                      {
                        "bin_start": 21.4,
                        "bin_end": 21.5,
                        "count": 0
                      },
                      {
                        "bin_start": 21.5,
                        "bin_end": 21.6,
                        "count": 0
                      },
                      {
                        "bin_start": 21.6,
                        "bin_end": 21.7,
                        "count": 0
                      },
                      {
                        "bin_start": 21.7,
                        "bin_end": 21.8,
                        "count": 0
                      },
                      {
                        "bin_start": 21.8,
                        "bin_end": 21.9,
                        "count": 0
                      },
                      {
                        "bin_start": 21.9,
                        "bin_end": 22,
                        "count": 1
                      }
                    ]
                  }
                },
                {
                  "name": "wk56",
                  "dtype": "float64",
                  "stats": {
                    "unique_count": 2,
                    "nan_count": 315,
                    "min": "25.0",
                    "max": "26.0",
                    "histogram": [
                      {
                        "bin_start": 25,
                        "bin_end": 25.1,
                        "count": 1
                      },
                      {
                        "bin_start": 25.1,
                        "bin_end": 25.2,
                        "count": 0
                      },
                      {
                        "bin_start": 25.2,
                        "bin_end": 25.3,
                        "count": 0
                      },
                      {
                        "bin_start": 25.3,
                        "bin_end": 25.4,
                        "count": 0
                      },
                      {
                        "bin_start": 25.4,
                        "bin_end": 25.5,
                        "count": 0
                      },
                      {
                        "bin_start": 25.5,
                        "bin_end": 25.6,
                        "count": 0
                      },
                      {
                        "bin_start": 25.6,
                        "bin_end": 25.7,
                        "count": 0
                      },
                      {
                        "bin_start": 25.7,
                        "bin_end": 25.8,
                        "count": 0
                      },
                      {
                        "bin_start": 25.8,
                        "bin_end": 25.9,
                        "count": 0
                      },
                      {
                        "bin_start": 25.9,
                        "bin_end": 26,
                        "count": 1
                      }
                    ]
                  }
                },
                {
                  "name": "wk57",
                  "dtype": "float64",
                  "stats": {
                    "unique_count": 2,
                    "nan_count": 315,
                    "min": "26.0",
                    "max": "29.0",
                    "histogram": [
                      {
                        "bin_start": 26,
                        "bin_end": 26.3,
                        "count": 1
                      },
                      {
                        "bin_start": 26.3,
                        "bin_end": 26.6,
                        "count": 0
                      },
                      {
                        "bin_start": 26.6,
                        "bin_end": 26.9,
                        "count": 0
                      },
                      {
                        "bin_start": 26.9,
                        "bin_end": 27.2,
                        "count": 0
                      },
                      {
                        "bin_start": 27.2,
                        "bin_end": 27.5,
                        "count": 0
                      },
                      {
                        "bin_start": 27.5,
                        "bin_end": 27.8,
                        "count": 0
                      },
                      {
                        "bin_start": 27.8,
                        "bin_end": 28.1,
                        "count": 0
                      },
                      {
                        "bin_start": 28.1,
                        "bin_end": 28.4,
                        "count": 0
                      },
                      {
                        "bin_start": 28.4,
                        "bin_end": 28.7,
                        "count": 0
                      },
                      {
                        "bin_start": 28.7,
                        "bin_end": 29,
                        "count": 1
                      }
                    ]
                  }
                },
                {
                  "name": "wk58",
                  "dtype": "float64",
                  "stats": {
                    "unique_count": 2,
                    "nan_count": 315,
                    "min": "31.0",
                    "max": "32.0",
                    "histogram": [
                      {
                        "bin_start": 31,
                        "bin_end": 31.1,
                        "count": 1
                      },
                      {
                        "bin_start": 31.1,
                        "bin_end": 31.2,
                        "count": 0
                      },
                      {
                        "bin_start": 31.2,
                        "bin_end": 31.3,
                        "count": 0
                      },
                      {
                        "bin_start": 31.3,
                        "bin_end": 31.4,
                        "count": 0
                      },
                      {
                        "bin_start": 31.4,
                        "bin_end": 31.5,
                        "count": 0
                      },
                      {
                        "bin_start": 31.5,
                        "bin_end": 31.6,
                        "count": 0
                      },
                      {
                        "bin_start": 31.6,
                        "bin_end": 31.7,
                        "count": 0
                      },
                      {
                        "bin_start": 31.7,
                        "bin_end": 31.8,
                        "count": 0
                      },
                      {
                        "bin_start": 31.8,
                        "bin_end": 31.9,
                        "count": 0
                      },
                      {
                        "bin_start": 31.9,
                        "bin_end": 32,
                        "count": 1
                      }
                    ]
                  }
                },
                {
                  "name": "wk59",
                  "dtype": "float64",
                  "stats": {
                    "unique_count": 2,
                    "nan_count": 315,
                    "min": "32.0",
                    "max": "39.0",
                    "histogram": [
                      {
                        "bin_start": 32,
                        "bin_end": 32.7,
                        "count": 1
                      },
                      {
                        "bin_start": 32.7,
                        "bin_end": 33.4,
                        "count": 0
                      },
                      {
                        "bin_start": 33.4,
                        "bin_end": 34.1,
                        "count": 0
                      },
                      {
                        "bin_start": 34.1,
                        "bin_end": 34.8,
                        "count": 0
                      },
                      {
                        "bin_start": 34.8,
                        "bin_end": 35.5,
                        "count": 0
                      },
                      {
                        "bin_start": 35.5,
                        "bin_end": 36.2,
                        "count": 0
                      },
                      {
                        "bin_start": 36.2,
                        "bin_end": 36.9,
                        "count": 0
                      },
                      {
                        "bin_start": 36.9,
                        "bin_end": 37.6,
                        "count": 0
                      },
                      {
                        "bin_start": 37.6,
                        "bin_end": 38.3,
                        "count": 0
                      },
                      {
                        "bin_start": 38.3,
                        "bin_end": 39,
                        "count": 1
                      }
                    ]
                  }
                },
                {
                  "name": "wk60",
                  "dtype": "float64",
                  "stats": {
                    "unique_count": 2,
                    "nan_count": 315,
                    "min": "37.0",
                    "max": "39.0",
                    "histogram": [
                      {
                        "bin_start": 37,
                        "bin_end": 37.2,
                        "count": 1
                      },
                      {
                        "bin_start": 37.2,
                        "bin_end": 37.4,
                        "count": 0
                      },
                      {
                        "bin_start": 37.4,
                        "bin_end": 37.6,
                        "count": 0
                      },
                      {
                        "bin_start": 37.6,
                        "bin_end": 37.8,
                        "count": 0
                      },
                      {
                        "bin_start": 37.8,
                        "bin_end": 38,
                        "count": 0
                      },
                      {
                        "bin_start": 38,
                        "bin_end": 38.2,
                        "count": 0
                      },
                      {
                        "bin_start": 38.2,
                        "bin_end": 38.4,
                        "count": 0
                      },
                      {
                        "bin_start": 38.4,
                        "bin_end": 38.6,
                        "count": 0
                      },
                      {
                        "bin_start": 38.6,
                        "bin_end": 38.8,
                        "count": 0
                      },
                      {
                        "bin_start": 38.8,
                        "bin_end": 39,
                        "count": 1
                      }
                    ]
                  }
                },
                {
                  "name": "wk61",
                  "dtype": "float64",
                  "stats": {
                    "unique_count": 2,
                    "nan_count": 315,
                    "min": "42.0",
                    "max": "43.0",
                    "histogram": [
                      {
                        "bin_start": 42,
                        "bin_end": 42.1,
                        "count": 1
                      },
                      {
                        "bin_start": 42.1,
                        "bin_end": 42.2,
                        "count": 0
                      },
                      {
                        "bin_start": 42.2,
                        "bin_end": 42.3,
                        "count": 0
                      },
                      {
                        "bin_start": 42.3,
                        "bin_end": 42.4,
                        "count": 0
                      },
                      {
                        "bin_start": 42.4,
                        "bin_end": 42.5,
                        "count": 0
                      },
                      {
                        "bin_start": 42.5,
                        "bin_end": 42.6,
                        "count": 0
                      },
                      {
                        "bin_start": 42.6,
                        "bin_end": 42.7,
                        "count": 0
                      },
                      {
                        "bin_start": 42.7,
                        "bin_end": 42.8,
                        "count": 0
                      },
                      {
                        "bin_start": 42.8,
                        "bin_end": 42.9,
                        "count": 0
                      },
                      {
                        "bin_start": 42.9,
                        "bin_end": 43,
                        "count": 1
                      }
                    ]
                  }
                },
                {
                  "name": "wk62",
                  "dtype": "float64",
                  "stats": {
                    "unique_count": 2,
                    "nan_count": 315,
                    "min": "42.0",
                    "max": "47.0",
                    "histogram": [
                      {
                        "bin_start": 42,
                        "bin_end": 42.5,
                        "count": 1
                      },
                      {
                        "bin_start": 42.5,
                        "bin_end": 43,
                        "count": 0
                      },
                      {
                        "bin_start": 43,
                        "bin_end": 43.5,
                        "count": 0
                      },
                      {
                        "bin_start": 43.5,
                        "bin_end": 44,
                        "count": 0
                      },
                      {
                        "bin_start": 44,
                        "bin_end": 44.5,
                        "count": 0
                      },
                      {
                        "bin_start": 44.5,
                        "bin_end": 45,
                        "count": 0
                      },
                      {
                        "bin_start": 45,
                        "bin_end": 45.5,
                        "count": 0
                      },
                      {
                        "bin_start": 45.5,
                        "bin_end": 46,
                        "count": 0
                      },
                      {
                        "bin_start": 46,
                        "bin_end": 46.5,
                        "count": 0
                      },
                      {
                        "bin_start": 46.5,
                        "bin_end": 47,
                        "count": 1
                      }
                    ]
                  }
                },
                {
                  "name": "wk63",
                  "dtype": "float64",
                  "stats": {
                    "unique_count": 2,
                    "nan_count": 315,
                    "min": "45.0",
                    "max": "50.0",
                    "histogram": [
                      {
                        "bin_start": 45,
                        "bin_end": 45.5,
                        "count": 1
                      },
                      {
                        "bin_start": 45.5,
                        "bin_end": 46,
                        "count": 0
                      },
                      {
                        "bin_start": 46,
                        "bin_end": 46.5,
                        "count": 0
                      },
                      {
                        "bin_start": 46.5,
                        "bin_end": 47,
                        "count": 0
                      },
                      {
                        "bin_start": 47,
                        "bin_end": 47.5,
                        "count": 0
                      },
                      {
                        "bin_start": 47.5,
                        "bin_end": 48,
                        "count": 0
                      },
                      {
                        "bin_start": 48,
                        "bin_end": 48.5,
                        "count": 0
                      },
                      {
                        "bin_start": 48.5,
                        "bin_end": 49,
                        "count": 0
                      },
                      {
                        "bin_start": 49,
                        "bin_end": 49.5,
                        "count": 0
                      },
                      {
                        "bin_start": 49.5,
                        "bin_end": 50,
                        "count": 1
                      }
                    ]
                  }
                },
                {
                  "name": "wk64",
                  "dtype": "float64",
                  "stats": {
                    "unique_count": 1,
                    "nan_count": 315,
                    "min": "50.0",
                    "max": "50.0",
                    "histogram": [
                      {
                        "bin_start": 49.5,
                        "bin_end": 49.6,
                        "count": 0
                      },
                      {
                        "bin_start": 49.6,
                        "bin_end": 49.7,
                        "count": 0
                      },
                      {
                        "bin_start": 49.7,
                        "bin_end": 49.8,
                        "count": 0
                      },
                      {
                        "bin_start": 49.8,
                        "bin_end": 49.9,
                        "count": 0
                      },
                      {
                        "bin_start": 49.9,
                        "bin_end": 50,
                        "count": 0
                      },
                      {
                        "bin_start": 50,
                        "bin_end": 50.1,
                        "count": 2
                      },
                      {
                        "bin_start": 50.1,
                        "bin_end": 50.2,
                        "count": 0
                      },
                      {
                        "bin_start": 50.2,
                        "bin_end": 50.3,
                        "count": 0
                      },
                      {
                        "bin_start": 50.3,
                        "bin_end": 50.4,
                        "count": 0
                      },
                      {
                        "bin_start": 50.4,
                        "bin_end": 50.5,
                        "count": 0
                      }
                    ]
                  }
                },
                {
                  "name": "wk65",
                  "dtype": "float64",
                  "stats": {
                    "unique_count": 1,
                    "nan_count": 316,
                    "min": "49.0",
                    "max": "49.0",
                    "histogram": [
                      {
                        "bin_start": 48.5,
                        "bin_end": 48.6,
                        "count": 0
                      },
                      {
                        "bin_start": 48.6,
                        "bin_end": 48.7,
                        "count": 0
                      },
                      {
                        "bin_start": 48.7,
                        "bin_end": 48.8,
                        "count": 0
                      },
                      {
                        "bin_start": 48.8,
                        "bin_end": 48.9,
                        "count": 0
                      },
                      {
                        "bin_start": 48.9,
                        "bin_end": 49,
                        "count": 0
                      },
                      {
                        "bin_start": 49,
                        "bin_end": 49.1,
                        "count": 1
                      },
                      {
                        "bin_start": 49.1,
                        "bin_end": 49.2,
                        "count": 0
                      },
                      {
                        "bin_start": 49.2,
                        "bin_end": 49.3,
                        "count": 0
                      },
                      {
                        "bin_start": 49.3,
                        "bin_end": 49.4,
                        "count": 0
                      },
                      {
                        "bin_start": 49.4,
                        "bin_end": 49.5,
                        "count": 0
                      }
                    ]
                  }
                },
                {
                  "name": "wk66",
                  "dtype": "float64",
                  "stats": {
                    "unique_count": 0,
                    "nan_count": 317,
                    "min": null,
                    "max": null,
                    "histogram": [
                      {
                        "bin_start": 0,
                        "bin_end": 0.1,
                        "count": 0
                      },
                      {
                        "bin_start": 0.1,
                        "bin_end": 0.2,
                        "count": 0
                      },
                      {
                        "bin_start": 0.2,
                        "bin_end": 0.30000000000000004,
                        "count": 0
                      },
                      {
                        "bin_start": 0.30000000000000004,
                        "bin_end": 0.4,
                        "count": 0
                      },
                      {
                        "bin_start": 0.4,
                        "bin_end": 0.5,
                        "count": 0
                      },
                      {
                        "bin_start": 0.5,
                        "bin_end": 0.6000000000000001,
                        "count": 0
                      },
                      {
                        "bin_start": 0.6000000000000001,
                        "bin_end": 0.7000000000000001,
                        "count": 0
                      },
                      {
                        "bin_start": 0.7000000000000001,
                        "bin_end": 0.8,
                        "count": 0
                      },
                      {
                        "bin_start": 0.8,
                        "bin_end": 0.9,
                        "count": 0
                      },
                      {
                        "bin_start": 0.9,
                        "bin_end": 1,
                        "count": 0
                      }
                    ]
                  }
                },
                {
                  "name": "wk67",
                  "dtype": "float64",
                  "stats": {
                    "unique_count": 0,
                    "nan_count": 317,
                    "min": null,
                    "max": null,
                    "histogram": [
                      {
                        "bin_start": 0,
                        "bin_end": 0.1,
                        "count": 0
                      },
                      {
                        "bin_start": 0.1,
                        "bin_end": 0.2,
                        "count": 0
                      },
                      {
                        "bin_start": 0.2,
                        "bin_end": 0.30000000000000004,
                        "count": 0
                      },
                      {
                        "bin_start": 0.30000000000000004,
                        "bin_end": 0.4,
                        "count": 0
                      },
                      {
                        "bin_start": 0.4,
                        "bin_end": 0.5,
                        "count": 0
                      },
                      {
                        "bin_start": 0.5,
                        "bin_end": 0.6000000000000001,
                        "count": 0
                      },
                      {
                        "bin_start": 0.6000000000000001,
                        "bin_end": 0.7000000000000001,
                        "count": 0
                      },
                      {
                        "bin_start": 0.7000000000000001,
                        "bin_end": 0.8,
                        "count": 0
                      },
                      {
                        "bin_start": 0.8,
                        "bin_end": 0.9,
                        "count": 0
                      },
                      {
                        "bin_start": 0.9,
                        "bin_end": 1,
                        "count": 0
                      }
                    ]
                  }
                },
                {
                  "name": "wk68",
                  "dtype": "float64",
                  "stats": {
                    "unique_count": 0,
                    "nan_count": 317,
                    "min": null,
                    "max": null,
                    "histogram": [
                      {
                        "bin_start": 0,
                        "bin_end": 0.1,
                        "count": 0
                      },
                      {
                        "bin_start": 0.1,
                        "bin_end": 0.2,
                        "count": 0
                      },
                      {
                        "bin_start": 0.2,
                        "bin_end": 0.30000000000000004,
                        "count": 0
                      },
                      {
                        "bin_start": 0.30000000000000004,
                        "bin_end": 0.4,
                        "count": 0
                      },
                      {
                        "bin_start": 0.4,
                        "bin_end": 0.5,
                        "count": 0
                      },
                      {
                        "bin_start": 0.5,
                        "bin_end": 0.6000000000000001,
                        "count": 0
                      },
                      {
                        "bin_start": 0.6000000000000001,
                        "bin_end": 0.7000000000000001,
                        "count": 0
                      },
                      {
                        "bin_start": 0.7000000000000001,
                        "bin_end": 0.8,
                        "count": 0
                      },
                      {
                        "bin_start": 0.8,
                        "bin_end": 0.9,
                        "count": 0
                      },
                      {
                        "bin_start": 0.9,
                        "bin_end": 1,
                        "count": 0
                      }
                    ]
                  }
                },
                {
                  "name": "wk69",
                  "dtype": "float64",
                  "stats": {
                    "unique_count": 0,
                    "nan_count": 317,
                    "min": null,
                    "max": null,
                    "histogram": [
                      {
                        "bin_start": 0,
                        "bin_end": 0.1,
                        "count": 0
                      },
                      {
                        "bin_start": 0.1,
                        "bin_end": 0.2,
                        "count": 0
                      },
                      {
                        "bin_start": 0.2,
                        "bin_end": 0.30000000000000004,
                        "count": 0
                      },
                      {
                        "bin_start": 0.30000000000000004,
                        "bin_end": 0.4,
                        "count": 0
                      },
                      {
                        "bin_start": 0.4,
                        "bin_end": 0.5,
                        "count": 0
                      },
                      {
                        "bin_start": 0.5,
                        "bin_end": 0.6000000000000001,
                        "count": 0
                      },
                      {
                        "bin_start": 0.6000000000000001,
                        "bin_end": 0.7000000000000001,
                        "count": 0
                      },
                      {
                        "bin_start": 0.7000000000000001,
                        "bin_end": 0.8,
                        "count": 0
                      },
                      {
                        "bin_start": 0.8,
                        "bin_end": 0.9,
                        "count": 0
                      },
                      {
                        "bin_start": 0.9,
                        "bin_end": 1,
                        "count": 0
                      }
                    ]
                  }
                },
                {
                  "name": "wk70",
                  "dtype": "float64",
                  "stats": {
                    "unique_count": 0,
                    "nan_count": 317,
                    "min": null,
                    "max": null,
                    "histogram": [
                      {
                        "bin_start": 0,
                        "bin_end": 0.1,
                        "count": 0
                      },
                      {
                        "bin_start": 0.1,
                        "bin_end": 0.2,
                        "count": 0
                      },
                      {
                        "bin_start": 0.2,
                        "bin_end": 0.30000000000000004,
                        "count": 0
                      },
                      {
                        "bin_start": 0.30000000000000004,
                        "bin_end": 0.4,
                        "count": 0
                      },
                      {
                        "bin_start": 0.4,
                        "bin_end": 0.5,
                        "count": 0
                      },
                      {
                        "bin_start": 0.5,
                        "bin_end": 0.6000000000000001,
                        "count": 0
                      },
                      {
                        "bin_start": 0.6000000000000001,
                        "bin_end": 0.7000000000000001,
                        "count": 0
                      },
                      {
                        "bin_start": 0.7000000000000001,
                        "bin_end": 0.8,
                        "count": 0
                      },
                      {
                        "bin_start": 0.8,
                        "bin_end": 0.9,
                        "count": 0
                      },
                      {
                        "bin_start": 0.9,
                        "bin_end": 1,
                        "count": 0
                      }
                    ]
                  }
                },
                {
                  "name": "wk71",
                  "dtype": "float64",
                  "stats": {
                    "unique_count": 0,
                    "nan_count": 317,
                    "min": null,
                    "max": null,
                    "histogram": [
                      {
                        "bin_start": 0,
                        "bin_end": 0.1,
                        "count": 0
                      },
                      {
                        "bin_start": 0.1,
                        "bin_end": 0.2,
                        "count": 0
                      },
                      {
                        "bin_start": 0.2,
                        "bin_end": 0.30000000000000004,
                        "count": 0
                      },
                      {
                        "bin_start": 0.30000000000000004,
                        "bin_end": 0.4,
                        "count": 0
                      },
                      {
                        "bin_start": 0.4,
                        "bin_end": 0.5,
                        "count": 0
                      },
                      {
                        "bin_start": 0.5,
                        "bin_end": 0.6000000000000001,
                        "count": 0
                      },
                      {
                        "bin_start": 0.6000000000000001,
                        "bin_end": 0.7000000000000001,
                        "count": 0
                      },
                      {
                        "bin_start": 0.7000000000000001,
                        "bin_end": 0.8,
                        "count": 0
                      },
                      {
                        "bin_start": 0.8,
                        "bin_end": 0.9,
                        "count": 0
                      },
                      {
                        "bin_start": 0.9,
                        "bin_end": 1,
                        "count": 0
                      }
                    ]
                  }
                },
                {
                  "name": "wk72",
                  "dtype": "float64",
                  "stats": {
                    "unique_count": 0,
                    "nan_count": 317,
                    "min": null,
                    "max": null,
                    "histogram": [
                      {
                        "bin_start": 0,
                        "bin_end": 0.1,
                        "count": 0
                      },
                      {
                        "bin_start": 0.1,
                        "bin_end": 0.2,
                        "count": 0
                      },
                      {
                        "bin_start": 0.2,
                        "bin_end": 0.30000000000000004,
                        "count": 0
                      },
                      {
                        "bin_start": 0.30000000000000004,
                        "bin_end": 0.4,
                        "count": 0
                      },
                      {
                        "bin_start": 0.4,
                        "bin_end": 0.5,
                        "count": 0
                      },
                      {
                        "bin_start": 0.5,
                        "bin_end": 0.6000000000000001,
                        "count": 0
                      },
                      {
                        "bin_start": 0.6000000000000001,
                        "bin_end": 0.7000000000000001,
                        "count": 0
                      },
                      {
                        "bin_start": 0.7000000000000001,
                        "bin_end": 0.8,
                        "count": 0
                      },
                      {
                        "bin_start": 0.8,
                        "bin_end": 0.9,
                        "count": 0
                      },
                      {
                        "bin_start": 0.9,
                        "bin_end": 1,
                        "count": 0
                      }
                    ]
                  }
                },
                {
                  "name": "wk73",
                  "dtype": "float64",
                  "stats": {
                    "unique_count": 0,
                    "nan_count": 317,
                    "min": null,
                    "max": null,
                    "histogram": [
                      {
                        "bin_start": 0,
                        "bin_end": 0.1,
                        "count": 0
                      },
                      {
                        "bin_start": 0.1,
                        "bin_end": 0.2,
                        "count": 0
                      },
                      {
                        "bin_start": 0.2,
                        "bin_end": 0.30000000000000004,
                        "count": 0
                      },
                      {
                        "bin_start": 0.30000000000000004,
                        "bin_end": 0.4,
                        "count": 0
                      },
                      {
                        "bin_start": 0.4,
                        "bin_end": 0.5,
                        "count": 0
                      },
                      {
                        "bin_start": 0.5,
                        "bin_end": 0.6000000000000001,
                        "count": 0
                      },
                      {
                        "bin_start": 0.6000000000000001,
                        "bin_end": 0.7000000000000001,
                        "count": 0
                      },
                      {
                        "bin_start": 0.7000000000000001,
                        "bin_end": 0.8,
                        "count": 0
                      },
                      {
                        "bin_start": 0.8,
                        "bin_end": 0.9,
                        "count": 0
                      },
                      {
                        "bin_start": 0.9,
                        "bin_end": 1,
                        "count": 0
                      }
                    ]
                  }
                },
                {
                  "name": "wk74",
                  "dtype": "float64",
                  "stats": {
                    "unique_count": 0,
                    "nan_count": 317,
                    "min": null,
                    "max": null,
                    "histogram": [
                      {
                        "bin_start": 0,
                        "bin_end": 0.1,
                        "count": 0
                      },
                      {
                        "bin_start": 0.1,
                        "bin_end": 0.2,
                        "count": 0
                      },
                      {
                        "bin_start": 0.2,
                        "bin_end": 0.30000000000000004,
                        "count": 0
                      },
                      {
                        "bin_start": 0.30000000000000004,
                        "bin_end": 0.4,
                        "count": 0
                      },
                      {
                        "bin_start": 0.4,
                        "bin_end": 0.5,
                        "count": 0
                      },
                      {
                        "bin_start": 0.5,
                        "bin_end": 0.6000000000000001,
                        "count": 0
                      },
                      {
                        "bin_start": 0.6000000000000001,
                        "bin_end": 0.7000000000000001,
                        "count": 0
                      },
                      {
                        "bin_start": 0.7000000000000001,
                        "bin_end": 0.8,
                        "count": 0
                      },
                      {
                        "bin_start": 0.8,
                        "bin_end": 0.9,
                        "count": 0
                      },
                      {
                        "bin_start": 0.9,
                        "bin_end": 1,
                        "count": 0
                      }
                    ]
                  }
                },
                {
                  "name": "wk75",
                  "dtype": "float64",
                  "stats": {
                    "unique_count": 0,
                    "nan_count": 317,
                    "min": null,
                    "max": null,
                    "histogram": [
                      {
                        "bin_start": 0,
                        "bin_end": 0.1,
                        "count": 0
                      },
                      {
                        "bin_start": 0.1,
                        "bin_end": 0.2,
                        "count": 0
                      },
                      {
                        "bin_start": 0.2,
                        "bin_end": 0.30000000000000004,
                        "count": 0
                      },
                      {
                        "bin_start": 0.30000000000000004,
                        "bin_end": 0.4,
                        "count": 0
                      },
                      {
                        "bin_start": 0.4,
                        "bin_end": 0.5,
                        "count": 0
                      },
                      {
                        "bin_start": 0.5,
                        "bin_end": 0.6000000000000001,
                        "count": 0
                      },
                      {
                        "bin_start": 0.6000000000000001,
                        "bin_end": 0.7000000000000001,
                        "count": 0
                      },
                      {
                        "bin_start": 0.7000000000000001,
                        "bin_end": 0.8,
                        "count": 0
                      },
                      {
                        "bin_start": 0.8,
                        "bin_end": 0.9,
                        "count": 0
                      },
                      {
                        "bin_start": 0.9,
                        "bin_end": 1,
                        "count": 0
                      }
                    ]
                  }
                },
                {
                  "name": "wk76",
                  "dtype": "float64",
                  "stats": {
                    "unique_count": 0,
                    "nan_count": 317,
                    "min": null,
                    "max": null,
                    "histogram": [
                      {
                        "bin_start": 0,
                        "bin_end": 0.1,
                        "count": 0
                      },
                      {
                        "bin_start": 0.1,
                        "bin_end": 0.2,
                        "count": 0
                      },
                      {
                        "bin_start": 0.2,
                        "bin_end": 0.30000000000000004,
                        "count": 0
                      },
                      {
                        "bin_start": 0.30000000000000004,
                        "bin_end": 0.4,
                        "count": 0
                      },
                      {
                        "bin_start": 0.4,
                        "bin_end": 0.5,
                        "count": 0
                      },
                      {
                        "bin_start": 0.5,
                        "bin_end": 0.6000000000000001,
                        "count": 0
                      },
                      {
                        "bin_start": 0.6000000000000001,
                        "bin_end": 0.7000000000000001,
                        "count": 0
                      },
                      {
                        "bin_start": 0.7000000000000001,
                        "bin_end": 0.8,
                        "count": 0
                      },
                      {
                        "bin_start": 0.8,
                        "bin_end": 0.9,
                        "count": 0
                      },
                      {
                        "bin_start": 0.9,
                        "bin_end": 1,
                        "count": 0
                      }
                    ]
                  }
                },
                {
                  "name": "_deepnote_index_column",
                  "dtype": "int64"
                }
              ],
              "rows_top": [
                {
                  "year": 2000,
                  "artist": "2 Pac",
                  "track": "Baby Don't Cry (Keep...",
                  "time": "4:22",
                  "date.entered": "2000-02-26",
                  "wk1": 87,
                  "wk2": 82,
                  "wk3": 72,
                  "wk4": "77.0",
                  "wk5": "87.0",
                  "wk6": "94.0",
                  "wk7": "99.0",
                  "wk8": "nan",
                  "wk9": "nan",
                  "wk10": "nan",
                  "wk11": "nan",
                  "wk12": "nan",
                  "wk13": "nan",
                  "wk14": "nan",
                  "wk15": "nan",
                  "wk16": "nan",
                  "wk17": "nan",
                  "wk18": "nan",
                  "wk19": "nan",
                  "wk20": "nan",
                  "wk21": "nan",
                  "wk22": "nan",
                  "wk23": "nan",
                  "wk24": "nan",
                  "wk25": "nan",
                  "wk26": "nan",
                  "wk27": "nan",
                  "wk28": "nan",
                  "wk29": "nan",
                  "wk30": "nan",
                  "wk31": "nan",
                  "wk32": "nan",
                  "wk33": "nan",
                  "wk34": "nan",
                  "wk35": "nan",
                  "wk36": "nan",
                  "wk37": "nan",
                  "wk38": "nan",
                  "wk39": "nan",
                  "wk40": "nan",
                  "wk41": "nan",
                  "wk42": "nan",
                  "wk43": "nan",
                  "wk44": "nan",
                  "wk45": "nan",
                  "wk46": "nan",
                  "wk47": "nan",
                  "wk48": "nan",
                  "wk49": "nan",
                  "wk50": "nan",
                  "wk51": "nan",
                  "wk52": "nan",
                  "wk53": "nan",
                  "wk54": "nan",
                  "wk55": "nan",
                  "wk56": "nan",
                  "wk57": "nan",
                  "wk58": "nan",
                  "wk59": "nan",
                  "wk60": "nan",
                  "wk61": "nan",
                  "wk62": "nan",
                  "wk63": "nan",
                  "wk64": "nan",
                  "wk65": "nan",
                  "wk66": "nan",
                  "wk67": "nan",
                  "wk68": "nan",
                  "wk69": "nan",
                  "wk70": "nan",
                  "wk71": "nan",
                  "wk72": "nan",
                  "wk73": "nan",
                  "wk74": "nan",
                  "wk75": "nan",
                  "wk76": "nan",
                  "_deepnote_index_column": 0
                },
                {
                  "year": 2000,
                  "artist": "2Ge+her",
                  "track": "The Hardest Part Of ...",
                  "time": "3:15",
                  "date.entered": "2000-09-02",
                  "wk1": 91,
                  "wk2": 87,
                  "wk3": 92,
                  "wk4": "nan",
                  "wk5": "nan",
                  "wk6": "nan",
                  "wk7": "nan",
                  "wk8": "nan",
                  "wk9": "nan",
                  "wk10": "nan",
                  "wk11": "nan",
                  "wk12": "nan",
                  "wk13": "nan",
                  "wk14": "nan",
                  "wk15": "nan",
                  "wk16": "nan",
                  "wk17": "nan",
                  "wk18": "nan",
                  "wk19": "nan",
                  "wk20": "nan",
                  "wk21": "nan",
                  "wk22": "nan",
                  "wk23": "nan",
                  "wk24": "nan",
                  "wk25": "nan",
                  "wk26": "nan",
                  "wk27": "nan",
                  "wk28": "nan",
                  "wk29": "nan",
                  "wk30": "nan",
                  "wk31": "nan",
                  "wk32": "nan",
                  "wk33": "nan",
                  "wk34": "nan",
                  "wk35": "nan",
                  "wk36": "nan",
                  "wk37": "nan",
                  "wk38": "nan",
                  "wk39": "nan",
                  "wk40": "nan",
                  "wk41": "nan",
                  "wk42": "nan",
                  "wk43": "nan",
                  "wk44": "nan",
                  "wk45": "nan",
                  "wk46": "nan",
                  "wk47": "nan",
                  "wk48": "nan",
                  "wk49": "nan",
                  "wk50": "nan",
                  "wk51": "nan",
                  "wk52": "nan",
                  "wk53": "nan",
                  "wk54": "nan",
                  "wk55": "nan",
                  "wk56": "nan",
                  "wk57": "nan",
                  "wk58": "nan",
                  "wk59": "nan",
                  "wk60": "nan",
                  "wk61": "nan",
                  "wk62": "nan",
                  "wk63": "nan",
                  "wk64": "nan",
                  "wk65": "nan",
                  "wk66": "nan",
                  "wk67": "nan",
                  "wk68": "nan",
                  "wk69": "nan",
                  "wk70": "nan",
                  "wk71": "nan",
                  "wk72": "nan",
                  "wk73": "nan",
                  "wk74": "nan",
                  "wk75": "nan",
                  "wk76": "nan",
                  "_deepnote_index_column": 1
                },
                {
                  "year": 2000,
                  "artist": "3 Doors Down",
                  "track": "Kryptonite",
                  "time": "3:53",
                  "date.entered": "2000-04-08",
                  "wk1": 81,
                  "wk2": 70,
                  "wk3": 68,
                  "wk4": "67.0",
                  "wk5": "66.0",
                  "wk6": "57.0",
                  "wk7": "54.0",
                  "wk8": "53.0",
                  "wk9": "51.0",
                  "wk10": "51.0",
                  "wk11": "51.0",
                  "wk12": "51.0",
                  "wk13": "47.0",
                  "wk14": "44.0",
                  "wk15": "38.0",
                  "wk16": "28.0",
                  "wk17": "22.0",
                  "wk18": "18.0",
                  "wk19": "18.0",
                  "wk20": "14.0",
                  "wk21": "12.0",
                  "wk22": "7.0",
                  "wk23": "6.0",
                  "wk24": "6.0",
                  "wk25": "6.0",
                  "wk26": "5.0",
                  "wk27": "5.0",
                  "wk28": "4.0",
                  "wk29": "4.0",
                  "wk30": "4.0",
                  "wk31": "4.0",
                  "wk32": "3.0",
                  "wk33": "3.0",
                  "wk34": "3.0",
                  "wk35": "4.0",
                  "wk36": "5.0",
                  "wk37": "5.0",
                  "wk38": "9.0",
                  "wk39": "9.0",
                  "wk40": "15.0",
                  "wk41": "14.0",
                  "wk42": "13.0",
                  "wk43": "14.0",
                  "wk44": "16.0",
                  "wk45": "17.0",
                  "wk46": "21.0",
                  "wk47": "22.0",
                  "wk48": "24.0",
                  "wk49": "28.0",
                  "wk50": "33.0",
                  "wk51": "42.0",
                  "wk52": "42.0",
                  "wk53": "49.0",
                  "wk54": "nan",
                  "wk55": "nan",
                  "wk56": "nan",
                  "wk57": "nan",
                  "wk58": "nan",
                  "wk59": "nan",
                  "wk60": "nan",
                  "wk61": "nan",
                  "wk62": "nan",
                  "wk63": "nan",
                  "wk64": "nan",
                  "wk65": "nan",
                  "wk66": "nan",
                  "wk67": "nan",
                  "wk68": "nan",
                  "wk69": "nan",
                  "wk70": "nan",
                  "wk71": "nan",
                  "wk72": "nan",
                  "wk73": "nan",
                  "wk74": "nan",
                  "wk75": "nan",
                  "wk76": "nan",
                  "_deepnote_index_column": 2
                },
                {
                  "year": 2000,
                  "artist": "3 Doors Down",
                  "track": "Loser",
                  "time": "4:24",
                  "date.entered": "2000-10-21",
                  "wk1": 76,
                  "wk2": 76,
                  "wk3": 72,
                  "wk4": "69.0",
                  "wk5": "67.0",
                  "wk6": "65.0",
                  "wk7": "55.0",
                  "wk8": "59.0",
                  "wk9": "62.0",
                  "wk10": "61.0",
                  "wk11": "61.0",
                  "wk12": "59.0",
                  "wk13": "61.0",
                  "wk14": "66.0",
                  "wk15": "72.0",
                  "wk16": "76.0",
                  "wk17": "75.0",
                  "wk18": "67.0",
                  "wk19": "73.0",
                  "wk20": "70.0",
                  "wk21": "nan",
                  "wk22": "nan",
                  "wk23": "nan",
                  "wk24": "nan",
                  "wk25": "nan",
                  "wk26": "nan",
                  "wk27": "nan",
                  "wk28": "nan",
                  "wk29": "nan",
                  "wk30": "nan",
                  "wk31": "nan",
                  "wk32": "nan",
                  "wk33": "nan",
                  "wk34": "nan",
                  "wk35": "nan",
                  "wk36": "nan",
                  "wk37": "nan",
                  "wk38": "nan",
                  "wk39": "nan",
                  "wk40": "nan",
                  "wk41": "nan",
                  "wk42": "nan",
                  "wk43": "nan",
                  "wk44": "nan",
                  "wk45": "nan",
                  "wk46": "nan",
                  "wk47": "nan",
                  "wk48": "nan",
                  "wk49": "nan",
                  "wk50": "nan",
                  "wk51": "nan",
                  "wk52": "nan",
                  "wk53": "nan",
                  "wk54": "nan",
                  "wk55": "nan",
                  "wk56": "nan",
                  "wk57": "nan",
                  "wk58": "nan",
                  "wk59": "nan",
                  "wk60": "nan",
                  "wk61": "nan",
                  "wk62": "nan",
                  "wk63": "nan",
                  "wk64": "nan",
                  "wk65": "nan",
                  "wk66": "nan",
                  "wk67": "nan",
                  "wk68": "nan",
                  "wk69": "nan",
                  "wk70": "nan",
                  "wk71": "nan",
                  "wk72": "nan",
                  "wk73": "nan",
                  "wk74": "nan",
                  "wk75": "nan",
                  "wk76": "nan",
                  "_deepnote_index_column": 3
                },
                {
                  "year": 2000,
                  "artist": "504 Boyz",
                  "track": "Wobble Wobble",
                  "time": "3:35",
                  "date.entered": "2000-04-15",
                  "wk1": 57,
                  "wk2": 34,
                  "wk3": 25,
                  "wk4": "17.0",
                  "wk5": "17.0",
                  "wk6": "31.0",
                  "wk7": "36.0",
                  "wk8": "49.0",
                  "wk9": "53.0",
                  "wk10": "57.0",
                  "wk11": "64.0",
                  "wk12": "70.0",
                  "wk13": "75.0",
                  "wk14": "76.0",
                  "wk15": "78.0",
                  "wk16": "85.0",
                  "wk17": "92.0",
                  "wk18": "96.0",
                  "wk19": "nan",
                  "wk20": "nan",
                  "wk21": "nan",
                  "wk22": "nan",
                  "wk23": "nan",
                  "wk24": "nan",
                  "wk25": "nan",
                  "wk26": "nan",
                  "wk27": "nan",
                  "wk28": "nan",
                  "wk29": "nan",
                  "wk30": "nan",
                  "wk31": "nan",
                  "wk32": "nan",
                  "wk33": "nan",
                  "wk34": "nan",
                  "wk35": "nan",
                  "wk36": "nan",
                  "wk37": "nan",
                  "wk38": "nan",
                  "wk39": "nan",
                  "wk40": "nan",
                  "wk41": "nan",
                  "wk42": "nan",
                  "wk43": "nan",
                  "wk44": "nan",
                  "wk45": "nan",
                  "wk46": "nan",
                  "wk47": "nan",
                  "wk48": "nan",
                  "wk49": "nan",
                  "wk50": "nan",
                  "wk51": "nan",
                  "wk52": "nan",
                  "wk53": "nan",
                  "wk54": "nan",
                  "wk55": "nan",
                  "wk56": "nan",
                  "wk57": "nan",
                  "wk58": "nan",
                  "wk59": "nan",
                  "wk60": "nan",
                  "wk61": "nan",
                  "wk62": "nan",
                  "wk63": "nan",
                  "wk64": "nan",
                  "wk65": "nan",
                  "wk66": "nan",
                  "wk67": "nan",
                  "wk68": "nan",
                  "wk69": "nan",
                  "wk70": "nan",
                  "wk71": "nan",
                  "wk72": "nan",
                  "wk73": "nan",
                  "wk74": "nan",
                  "wk75": "nan",
                  "wk76": "nan",
                  "_deepnote_index_column": 4
                },
                {
                  "year": 2000,
                  "artist": "98^0",
                  "track": "Give Me Just One Nig...",
                  "time": "3:24",
                  "date.entered": "2000-08-19",
                  "wk1": 51,
                  "wk2": 39,
                  "wk3": 34,
                  "wk4": "26.0",
                  "wk5": "26.0",
                  "wk6": "19.0",
                  "wk7": "2.0",
                  "wk8": "2.0",
                  "wk9": "3.0",
                  "wk10": "6.0",
                  "wk11": "7.0",
                  "wk12": "22.0",
                  "wk13": "29.0",
                  "wk14": "36.0",
                  "wk15": "47.0",
                  "wk16": "67.0",
                  "wk17": "66.0",
                  "wk18": "84.0",
                  "wk19": "93.0",
                  "wk20": "94.0",
                  "wk21": "nan",
                  "wk22": "nan",
                  "wk23": "nan",
                  "wk24": "nan",
                  "wk25": "nan",
                  "wk26": "nan",
                  "wk27": "nan",
                  "wk28": "nan",
                  "wk29": "nan",
                  "wk30": "nan",
                  "wk31": "nan",
                  "wk32": "nan",
                  "wk33": "nan",
                  "wk34": "nan",
                  "wk35": "nan",
                  "wk36": "nan",
                  "wk37": "nan",
                  "wk38": "nan",
                  "wk39": "nan",
                  "wk40": "nan",
                  "wk41": "nan",
                  "wk42": "nan",
                  "wk43": "nan",
                  "wk44": "nan",
                  "wk45": "nan",
                  "wk46": "nan",
                  "wk47": "nan",
                  "wk48": "nan",
                  "wk49": "nan",
                  "wk50": "nan",
                  "wk51": "nan",
                  "wk52": "nan",
                  "wk53": "nan",
                  "wk54": "nan",
                  "wk55": "nan",
                  "wk56": "nan",
                  "wk57": "nan",
                  "wk58": "nan",
                  "wk59": "nan",
                  "wk60": "nan",
                  "wk61": "nan",
                  "wk62": "nan",
                  "wk63": "nan",
                  "wk64": "nan",
                  "wk65": "nan",
                  "wk66": "nan",
                  "wk67": "nan",
                  "wk68": "nan",
                  "wk69": "nan",
                  "wk70": "nan",
                  "wk71": "nan",
                  "wk72": "nan",
                  "wk73": "nan",
                  "wk74": "nan",
                  "wk75": "nan",
                  "wk76": "nan",
                  "_deepnote_index_column": 5
                }
              ],
              "rows_bottom": [
                {
                  "year": 2000,
                  "artist": "Wright, Chely",
                  "track": "It Was",
                  "time": "3:51",
                  "date.entered": "2000-03-04",
                  "wk1": 86,
                  "wk2": 78,
                  "wk3": "75.0",
                  "wk4": "72.0",
                  "wk5": "71.0",
                  "wk6": "69.0",
                  "wk7": "64.0",
                  "wk8": "75.0",
                  "wk9": "85.0",
                  "wk10": "98.0",
                  "wk11": "nan",
                  "wk12": "nan",
                  "wk13": "nan",
                  "wk14": "nan",
                  "wk15": "nan",
                  "wk16": "nan",
                  "wk17": "nan",
                  "wk18": "nan",
                  "wk19": "nan",
                  "wk20": "nan",
                  "wk21": "nan",
                  "wk22": "nan",
                  "wk23": "nan",
                  "wk24": "nan",
                  "wk25": "nan",
                  "wk26": "nan",
                  "wk27": "nan",
                  "wk28": "nan",
                  "wk29": "nan",
                  "wk30": "nan",
                  "wk31": "nan",
                  "wk32": "nan",
                  "wk33": "nan",
                  "wk34": "nan",
                  "wk35": "nan",
                  "wk36": "nan",
                  "wk37": "nan",
                  "wk38": "nan",
                  "wk39": "nan",
                  "wk40": "nan",
                  "wk41": "nan",
                  "wk42": "nan",
                  "wk43": "nan",
                  "wk44": "nan",
                  "wk45": "nan",
                  "wk46": "nan",
                  "wk47": "nan",
                  "wk48": "nan",
                  "wk49": "nan",
                  "wk50": "nan",
                  "wk51": "nan",
                  "wk52": "nan",
                  "wk53": "nan",
                  "wk54": "nan",
                  "wk55": "nan",
                  "wk56": "nan",
                  "wk57": "nan",
                  "wk58": "nan",
                  "wk59": "nan",
                  "wk60": "nan",
                  "wk61": "nan",
                  "wk62": "nan",
                  "wk63": "nan",
                  "wk64": "nan",
                  "wk65": "nan",
                  "wk66": "nan",
                  "wk67": "nan",
                  "wk68": "nan",
                  "wk69": "nan",
                  "wk70": "nan",
                  "wk71": "nan",
                  "wk72": "nan",
                  "wk73": "nan",
                  "wk74": "nan",
                  "wk75": "nan",
                  "wk76": "nan",
                  "_deepnote_index_column": 311
                },
                {
                  "year": 2000,
                  "artist": "Yankee Grey",
                  "track": "Another Nine Minutes",
                  "time": "3:10",
                  "date.entered": "2000-04-29",
                  "wk1": 86,
                  "wk2": 83,
                  "wk3": "77.0",
                  "wk4": "74.0",
                  "wk5": "83.0",
                  "wk6": "79.0",
                  "wk7": "88.0",
                  "wk8": "95.0",
                  "wk9": "nan",
                  "wk10": "nan",
                  "wk11": "nan",
                  "wk12": "nan",
                  "wk13": "nan",
                  "wk14": "nan",
                  "wk15": "nan",
                  "wk16": "nan",
                  "wk17": "nan",
                  "wk18": "nan",
                  "wk19": "nan",
                  "wk20": "nan",
                  "wk21": "nan",
                  "wk22": "nan",
                  "wk23": "nan",
                  "wk24": "nan",
                  "wk25": "nan",
                  "wk26": "nan",
                  "wk27": "nan",
                  "wk28": "nan",
                  "wk29": "nan",
                  "wk30": "nan",
                  "wk31": "nan",
                  "wk32": "nan",
                  "wk33": "nan",
                  "wk34": "nan",
                  "wk35": "nan",
                  "wk36": "nan",
                  "wk37": "nan",
                  "wk38": "nan",
                  "wk39": "nan",
                  "wk40": "nan",
                  "wk41": "nan",
                  "wk42": "nan",
                  "wk43": "nan",
                  "wk44": "nan",
                  "wk45": "nan",
                  "wk46": "nan",
                  "wk47": "nan",
                  "wk48": "nan",
                  "wk49": "nan",
                  "wk50": "nan",
                  "wk51": "nan",
                  "wk52": "nan",
                  "wk53": "nan",
                  "wk54": "nan",
                  "wk55": "nan",
                  "wk56": "nan",
                  "wk57": "nan",
                  "wk58": "nan",
                  "wk59": "nan",
                  "wk60": "nan",
                  "wk61": "nan",
                  "wk62": "nan",
                  "wk63": "nan",
                  "wk64": "nan",
                  "wk65": "nan",
                  "wk66": "nan",
                  "wk67": "nan",
                  "wk68": "nan",
                  "wk69": "nan",
                  "wk70": "nan",
                  "wk71": "nan",
                  "wk72": "nan",
                  "wk73": "nan",
                  "wk74": "nan",
                  "wk75": "nan",
                  "wk76": "nan",
                  "_deepnote_index_column": 312
                },
                {
                  "year": 2000,
                  "artist": "Yearwood, Trisha",
                  "track": "Real Live Woman",
                  "time": "3:55",
                  "date.entered": "2000-04-01",
                  "wk1": 85,
                  "wk2": 83,
                  "wk3": "83.0",
                  "wk4": "82.0",
                  "wk5": "81.0",
                  "wk6": "91.0",
                  "wk7": "nan",
                  "wk8": "nan",
                  "wk9": "nan",
                  "wk10": "nan",
                  "wk11": "nan",
                  "wk12": "nan",
                  "wk13": "nan",
                  "wk14": "nan",
                  "wk15": "nan",
                  "wk16": "nan",
                  "wk17": "nan",
                  "wk18": "nan",
                  "wk19": "nan",
                  "wk20": "nan",
                  "wk21": "nan",
                  "wk22": "nan",
                  "wk23": "nan",
                  "wk24": "nan",
                  "wk25": "nan",
                  "wk26": "nan",
                  "wk27": "nan",
                  "wk28": "nan",
                  "wk29": "nan",
                  "wk30": "nan",
                  "wk31": "nan",
                  "wk32": "nan",
                  "wk33": "nan",
                  "wk34": "nan",
                  "wk35": "nan",
                  "wk36": "nan",
                  "wk37": "nan",
                  "wk38": "nan",
                  "wk39": "nan",
                  "wk40": "nan",
                  "wk41": "nan",
                  "wk42": "nan",
                  "wk43": "nan",
                  "wk44": "nan",
                  "wk45": "nan",
                  "wk46": "nan",
                  "wk47": "nan",
                  "wk48": "nan",
                  "wk49": "nan",
                  "wk50": "nan",
                  "wk51": "nan",
                  "wk52": "nan",
                  "wk53": "nan",
                  "wk54": "nan",
                  "wk55": "nan",
                  "wk56": "nan",
                  "wk57": "nan",
                  "wk58": "nan",
                  "wk59": "nan",
                  "wk60": "nan",
                  "wk61": "nan",
                  "wk62": "nan",
                  "wk63": "nan",
                  "wk64": "nan",
                  "wk65": "nan",
                  "wk66": "nan",
                  "wk67": "nan",
                  "wk68": "nan",
                  "wk69": "nan",
                  "wk70": "nan",
                  "wk71": "nan",
                  "wk72": "nan",
                  "wk73": "nan",
                  "wk74": "nan",
                  "wk75": "nan",
                  "wk76": "nan",
                  "_deepnote_index_column": 313
                },
                {
                  "year": 2000,
                  "artist": "Ying Yang Twins",
                  "track": "Whistle While You Tw...",
                  "time": "4:19",
                  "date.entered": "2000-03-18",
                  "wk1": 95,
                  "wk2": 94,
                  "wk3": "91.0",
                  "wk4": "85.0",
                  "wk5": "84.0",
                  "wk6": "78.0",
                  "wk7": "74.0",
                  "wk8": "78.0",
                  "wk9": "85.0",
                  "wk10": "89.0",
                  "wk11": "97.0",
                  "wk12": "96.0",
                  "wk13": "99.0",
                  "wk14": "99.0",
                  "wk15": "nan",
                  "wk16": "nan",
                  "wk17": "nan",
                  "wk18": "nan",
                  "wk19": "nan",
                  "wk20": "nan",
                  "wk21": "nan",
                  "wk22": "nan",
                  "wk23": "nan",
                  "wk24": "nan",
                  "wk25": "nan",
                  "wk26": "nan",
                  "wk27": "nan",
                  "wk28": "nan",
                  "wk29": "nan",
                  "wk30": "nan",
                  "wk31": "nan",
                  "wk32": "nan",
                  "wk33": "nan",
                  "wk34": "nan",
                  "wk35": "nan",
                  "wk36": "nan",
                  "wk37": "nan",
                  "wk38": "nan",
                  "wk39": "nan",
                  "wk40": "nan",
                  "wk41": "nan",
                  "wk42": "nan",
                  "wk43": "nan",
                  "wk44": "nan",
                  "wk45": "nan",
                  "wk46": "nan",
                  "wk47": "nan",
                  "wk48": "nan",
                  "wk49": "nan",
                  "wk50": "nan",
                  "wk51": "nan",
                  "wk52": "nan",
                  "wk53": "nan",
                  "wk54": "nan",
                  "wk55": "nan",
                  "wk56": "nan",
                  "wk57": "nan",
                  "wk58": "nan",
                  "wk59": "nan",
                  "wk60": "nan",
                  "wk61": "nan",
                  "wk62": "nan",
                  "wk63": "nan",
                  "wk64": "nan",
                  "wk65": "nan",
                  "wk66": "nan",
                  "wk67": "nan",
                  "wk68": "nan",
                  "wk69": "nan",
                  "wk70": "nan",
                  "wk71": "nan",
                  "wk72": "nan",
                  "wk73": "nan",
                  "wk74": "nan",
                  "wk75": "nan",
                  "wk76": "nan",
                  "_deepnote_index_column": 314
                },
                {
                  "year": 2000,
                  "artist": "Zombie Nation",
                  "track": "Kernkraft 400",
                  "time": "3:30",
                  "date.entered": "2000-09-02",
                  "wk1": 99,
                  "wk2": 99,
                  "wk3": "nan",
                  "wk4": "nan",
                  "wk5": "nan",
                  "wk6": "nan",
                  "wk7": "nan",
                  "wk8": "nan",
                  "wk9": "nan",
                  "wk10": "nan",
                  "wk11": "nan",
                  "wk12": "nan",
                  "wk13": "nan",
                  "wk14": "nan",
                  "wk15": "nan",
                  "wk16": "nan",
                  "wk17": "nan",
                  "wk18": "nan",
                  "wk19": "nan",
                  "wk20": "nan",
                  "wk21": "nan",
                  "wk22": "nan",
                  "wk23": "nan",
                  "wk24": "nan",
                  "wk25": "nan",
                  "wk26": "nan",
                  "wk27": "nan",
                  "wk28": "nan",
                  "wk29": "nan",
                  "wk30": "nan",
                  "wk31": "nan",
                  "wk32": "nan",
                  "wk33": "nan",
                  "wk34": "nan",
                  "wk35": "nan",
                  "wk36": "nan",
                  "wk37": "nan",
                  "wk38": "nan",
                  "wk39": "nan",
                  "wk40": "nan",
                  "wk41": "nan",
                  "wk42": "nan",
                  "wk43": "nan",
                  "wk44": "nan",
                  "wk45": "nan",
                  "wk46": "nan",
                  "wk47": "nan",
                  "wk48": "nan",
                  "wk49": "nan",
                  "wk50": "nan",
                  "wk51": "nan",
                  "wk52": "nan",
                  "wk53": "nan",
                  "wk54": "nan",
                  "wk55": "nan",
                  "wk56": "nan",
                  "wk57": "nan",
                  "wk58": "nan",
                  "wk59": "nan",
                  "wk60": "nan",
                  "wk61": "nan",
                  "wk62": "nan",
                  "wk63": "nan",
                  "wk64": "nan",
                  "wk65": "nan",
                  "wk66": "nan",
                  "wk67": "nan",
                  "wk68": "nan",
                  "wk69": "nan",
                  "wk70": "nan",
                  "wk71": "nan",
                  "wk72": "nan",
                  "wk73": "nan",
                  "wk74": "nan",
                  "wk75": "nan",
                  "wk76": "nan",
                  "_deepnote_index_column": 315
                },
                {
                  "year": 2000,
                  "artist": "matchbox twenty",
                  "track": "Bent",
                  "time": "4:12",
                  "date.entered": "2000-04-29",
                  "wk1": 60,
                  "wk2": 37,
                  "wk3": "29.0",
                  "wk4": "24.0",
                  "wk5": "22.0",
                  "wk6": "21.0",
                  "wk7": "18.0",
                  "wk8": "16.0",
                  "wk9": "13.0",
                  "wk10": "12.0",
                  "wk11": "8.0",
                  "wk12": "6.0",
                  "wk13": "1.0",
                  "wk14": "2.0",
                  "wk15": "3.0",
                  "wk16": "2.0",
                  "wk17": "2.0",
                  "wk18": "3.0",
                  "wk19": "4.0",
                  "wk20": "5.0",
                  "wk21": "4.0",
                  "wk22": "4.0",
                  "wk23": "6.0",
                  "wk24": "9.0",
                  "wk25": "12.0",
                  "wk26": "13.0",
                  "wk27": "19.0",
                  "wk28": "20.0",
                  "wk29": "20.0",
                  "wk30": "24.0",
                  "wk31": "29.0",
                  "wk32": "28.0",
                  "wk33": "27.0",
                  "wk34": "30.0",
                  "wk35": "33.0",
                  "wk36": "37.0",
                  "wk37": "38.0",
                  "wk38": "38.0",
                  "wk39": "48.0",
                  "wk40": "nan",
                  "wk41": "nan",
                  "wk42": "nan",
                  "wk43": "nan",
                  "wk44": "nan",
                  "wk45": "nan",
                  "wk46": "nan",
                  "wk47": "nan",
                  "wk48": "nan",
                  "wk49": "nan",
                  "wk50": "nan",
                  "wk51": "nan",
                  "wk52": "nan",
                  "wk53": "nan",
                  "wk54": "nan",
                  "wk55": "nan",
                  "wk56": "nan",
                  "wk57": "nan",
                  "wk58": "nan",
                  "wk59": "nan",
                  "wk60": "nan",
                  "wk61": "nan",
                  "wk62": "nan",
                  "wk63": "nan",
                  "wk64": "nan",
                  "wk65": "nan",
                  "wk66": "nan",
                  "wk67": "nan",
                  "wk68": "nan",
                  "wk69": "nan",
                  "wk70": "nan",
                  "wk71": "nan",
                  "wk72": "nan",
                  "wk73": "nan",
                  "wk74": "nan",
                  "wk75": "nan",
                  "wk76": "nan",
                  "_deepnote_index_column": 316
                }
              ]
            },
            "text/plain": "     year            artist                    track  time date.entered  wk1  \\\n0    2000             2 Pac  Baby Don't Cry (Keep...  4:22   2000-02-26   87   \n1    2000           2Ge+her  The Hardest Part Of ...  3:15   2000-09-02   91   \n2    2000      3 Doors Down               Kryptonite  3:53   2000-04-08   81   \n3    2000      3 Doors Down                    Loser  4:24   2000-10-21   76   \n4    2000          504 Boyz            Wobble Wobble  3:35   2000-04-15   57   \n..    ...               ...                      ...   ...          ...  ...   \n312  2000       Yankee Grey     Another Nine Minutes  3:10   2000-04-29   86   \n313  2000  Yearwood, Trisha          Real Live Woman  3:55   2000-04-01   85   \n314  2000   Ying Yang Twins  Whistle While You Tw...  4:19   2000-03-18   95   \n315  2000     Zombie Nation            Kernkraft 400  3:30   2000-09-02   99   \n316  2000   matchbox twenty                     Bent  4:12   2000-04-29   60   \n\n      wk2   wk3   wk4   wk5  ...  wk67  wk68  wk69  wk70  wk71  wk72  wk73  \\\n0    82.0  72.0  77.0  87.0  ...   NaN   NaN   NaN   NaN   NaN   NaN   NaN   \n1    87.0  92.0   NaN   NaN  ...   NaN   NaN   NaN   NaN   NaN   NaN   NaN   \n2    70.0  68.0  67.0  66.0  ...   NaN   NaN   NaN   NaN   NaN   NaN   NaN   \n3    76.0  72.0  69.0  67.0  ...   NaN   NaN   NaN   NaN   NaN   NaN   NaN   \n4    34.0  25.0  17.0  17.0  ...   NaN   NaN   NaN   NaN   NaN   NaN   NaN   \n..    ...   ...   ...   ...  ...   ...   ...   ...   ...   ...   ...   ...   \n312  83.0  77.0  74.0  83.0  ...   NaN   NaN   NaN   NaN   NaN   NaN   NaN   \n313  83.0  83.0  82.0  81.0  ...   NaN   NaN   NaN   NaN   NaN   NaN   NaN   \n314  94.0  91.0  85.0  84.0  ...   NaN   NaN   NaN   NaN   NaN   NaN   NaN   \n315  99.0   NaN   NaN   NaN  ...   NaN   NaN   NaN   NaN   NaN   NaN   NaN   \n316  37.0  29.0  24.0  22.0  ...   NaN   NaN   NaN   NaN   NaN   NaN   NaN   \n\n     wk74  wk75  wk76  \n0     NaN   NaN   NaN  \n1     NaN   NaN   NaN  \n2     NaN   NaN   NaN  \n3     NaN   NaN   NaN  \n4     NaN   NaN   NaN  \n..    ...   ...   ...  \n312   NaN   NaN   NaN  \n313   NaN   NaN   NaN  \n314   NaN   NaN   NaN  \n315   NaN   NaN   NaN  \n316   NaN   NaN   NaN  \n\n[317 rows x 81 columns]",
            "text/html": "<div>\n<style scoped>\n    .dataframe tbody tr th:only-of-type {\n        vertical-align: middle;\n    }\n\n    .dataframe tbody tr th {\n        vertical-align: top;\n    }\n\n    .dataframe thead th {\n        text-align: right;\n    }\n</style>\n<table border=\"1\" class=\"dataframe\">\n  <thead>\n    <tr style=\"text-align: right;\">\n      <th></th>\n      <th>year</th>\n      <th>artist</th>\n      <th>track</th>\n      <th>time</th>\n      <th>date.entered</th>\n      <th>wk1</th>\n      <th>wk2</th>\n      <th>wk3</th>\n      <th>wk4</th>\n      <th>wk5</th>\n      <th>...</th>\n      <th>wk67</th>\n      <th>wk68</th>\n      <th>wk69</th>\n      <th>wk70</th>\n      <th>wk71</th>\n      <th>wk72</th>\n      <th>wk73</th>\n      <th>wk74</th>\n      <th>wk75</th>\n      <th>wk76</th>\n    </tr>\n  </thead>\n  <tbody>\n    <tr>\n      <th>0</th>\n      <td>2000</td>\n      <td>2 Pac</td>\n      <td>Baby Don't Cry (Keep...</td>\n      <td>4:22</td>\n      <td>2000-02-26</td>\n      <td>87</td>\n      <td>82.0</td>\n      <td>72.0</td>\n      <td>77.0</td>\n      <td>87.0</td>\n      <td>...</td>\n      <td>NaN</td>\n      <td>NaN</td>\n      <td>NaN</td>\n      <td>NaN</td>\n      <td>NaN</td>\n      <td>NaN</td>\n      <td>NaN</td>\n      <td>NaN</td>\n      <td>NaN</td>\n      <td>NaN</td>\n    </tr>\n    <tr>\n      <th>1</th>\n      <td>2000</td>\n      <td>2Ge+her</td>\n      <td>The Hardest Part Of ...</td>\n      <td>3:15</td>\n      <td>2000-09-02</td>\n      <td>91</td>\n      <td>87.0</td>\n      <td>92.0</td>\n      <td>NaN</td>\n      <td>NaN</td>\n      <td>...</td>\n      <td>NaN</td>\n      <td>NaN</td>\n      <td>NaN</td>\n      <td>NaN</td>\n      <td>NaN</td>\n      <td>NaN</td>\n      <td>NaN</td>\n      <td>NaN</td>\n      <td>NaN</td>\n      <td>NaN</td>\n    </tr>\n    <tr>\n      <th>2</th>\n      <td>2000</td>\n      <td>3 Doors Down</td>\n      <td>Kryptonite</td>\n      <td>3:53</td>\n      <td>2000-04-08</td>\n      <td>81</td>\n      <td>70.0</td>\n      <td>68.0</td>\n      <td>67.0</td>\n      <td>66.0</td>\n      <td>...</td>\n      <td>NaN</td>\n      <td>NaN</td>\n      <td>NaN</td>\n      <td>NaN</td>\n      <td>NaN</td>\n      <td>NaN</td>\n      <td>NaN</td>\n      <td>NaN</td>\n      <td>NaN</td>\n      <td>NaN</td>\n    </tr>\n    <tr>\n      <th>3</th>\n      <td>2000</td>\n      <td>3 Doors Down</td>\n      <td>Loser</td>\n      <td>4:24</td>\n      <td>2000-10-21</td>\n      <td>76</td>\n      <td>76.0</td>\n      <td>72.0</td>\n      <td>69.0</td>\n      <td>67.0</td>\n      <td>...</td>\n      <td>NaN</td>\n      <td>NaN</td>\n      <td>NaN</td>\n      <td>NaN</td>\n      <td>NaN</td>\n      <td>NaN</td>\n      <td>NaN</td>\n      <td>NaN</td>\n      <td>NaN</td>\n      <td>NaN</td>\n    </tr>\n    <tr>\n      <th>4</th>\n      <td>2000</td>\n      <td>504 Boyz</td>\n      <td>Wobble Wobble</td>\n      <td>3:35</td>\n      <td>2000-04-15</td>\n      <td>57</td>\n      <td>34.0</td>\n      <td>25.0</td>\n      <td>17.0</td>\n      <td>17.0</td>\n      <td>...</td>\n      <td>NaN</td>\n      <td>NaN</td>\n      <td>NaN</td>\n      <td>NaN</td>\n      <td>NaN</td>\n      <td>NaN</td>\n      <td>NaN</td>\n      <td>NaN</td>\n      <td>NaN</td>\n      <td>NaN</td>\n    </tr>\n    <tr>\n      <th>...</th>\n      <td>...</td>\n      <td>...</td>\n      <td>...</td>\n      <td>...</td>\n      <td>...</td>\n      <td>...</td>\n      <td>...</td>\n      <td>...</td>\n      <td>...</td>\n      <td>...</td>\n      <td>...</td>\n      <td>...</td>\n      <td>...</td>\n      <td>...</td>\n      <td>...</td>\n      <td>...</td>\n      <td>...</td>\n      <td>...</td>\n      <td>...</td>\n      <td>...</td>\n      <td>...</td>\n    </tr>\n    <tr>\n      <th>312</th>\n      <td>2000</td>\n      <td>Yankee Grey</td>\n      <td>Another Nine Minutes</td>\n      <td>3:10</td>\n      <td>2000-04-29</td>\n      <td>86</td>\n      <td>83.0</td>\n      <td>77.0</td>\n      <td>74.0</td>\n      <td>83.0</td>\n      <td>...</td>\n      <td>NaN</td>\n      <td>NaN</td>\n      <td>NaN</td>\n      <td>NaN</td>\n      <td>NaN</td>\n      <td>NaN</td>\n      <td>NaN</td>\n      <td>NaN</td>\n      <td>NaN</td>\n      <td>NaN</td>\n    </tr>\n    <tr>\n      <th>313</th>\n      <td>2000</td>\n      <td>Yearwood, Trisha</td>\n      <td>Real Live Woman</td>\n      <td>3:55</td>\n      <td>2000-04-01</td>\n      <td>85</td>\n      <td>83.0</td>\n      <td>83.0</td>\n      <td>82.0</td>\n      <td>81.0</td>\n      <td>...</td>\n      <td>NaN</td>\n      <td>NaN</td>\n      <td>NaN</td>\n      <td>NaN</td>\n      <td>NaN</td>\n      <td>NaN</td>\n      <td>NaN</td>\n      <td>NaN</td>\n      <td>NaN</td>\n      <td>NaN</td>\n    </tr>\n    <tr>\n      <th>314</th>\n      <td>2000</td>\n      <td>Ying Yang Twins</td>\n      <td>Whistle While You Tw...</td>\n      <td>4:19</td>\n      <td>2000-03-18</td>\n      <td>95</td>\n      <td>94.0</td>\n      <td>91.0</td>\n      <td>85.0</td>\n      <td>84.0</td>\n      <td>...</td>\n      <td>NaN</td>\n      <td>NaN</td>\n      <td>NaN</td>\n      <td>NaN</td>\n      <td>NaN</td>\n      <td>NaN</td>\n      <td>NaN</td>\n      <td>NaN</td>\n      <td>NaN</td>\n      <td>NaN</td>\n    </tr>\n    <tr>\n      <th>315</th>\n      <td>2000</td>\n      <td>Zombie Nation</td>\n      <td>Kernkraft 400</td>\n      <td>3:30</td>\n      <td>2000-09-02</td>\n      <td>99</td>\n      <td>99.0</td>\n      <td>NaN</td>\n      <td>NaN</td>\n      <td>NaN</td>\n      <td>...</td>\n      <td>NaN</td>\n      <td>NaN</td>\n      <td>NaN</td>\n      <td>NaN</td>\n      <td>NaN</td>\n      <td>NaN</td>\n      <td>NaN</td>\n      <td>NaN</td>\n      <td>NaN</td>\n      <td>NaN</td>\n    </tr>\n    <tr>\n      <th>316</th>\n      <td>2000</td>\n      <td>matchbox twenty</td>\n      <td>Bent</td>\n      <td>4:12</td>\n      <td>2000-04-29</td>\n      <td>60</td>\n      <td>37.0</td>\n      <td>29.0</td>\n      <td>24.0</td>\n      <td>22.0</td>\n      <td>...</td>\n      <td>NaN</td>\n      <td>NaN</td>\n      <td>NaN</td>\n      <td>NaN</td>\n      <td>NaN</td>\n      <td>NaN</td>\n      <td>NaN</td>\n      <td>NaN</td>\n      <td>NaN</td>\n      <td>NaN</td>\n    </tr>\n  </tbody>\n</table>\n<p>317 rows × 81 columns</p>\n</div>"
          },
          "metadata": {}
        }
      ]
    },
    {
      "cell_type": "code",
      "metadata": {
        "tags": [],
        "cell_id": "00054-04102d32-6e11-4f91-9dd7-6382b9b1dd52",
        "deepnote_to_be_reexecuted": false,
        "source_hash": "b88bc023",
        "execution_start": 1620041145011,
        "execution_millis": 24,
        "deepnote_cell_type": "code"
      },
      "source": "billboard_melt.head() # top 5",
      "execution_count": 85,
      "outputs": [
        {
          "output_type": "execute_result",
          "execution_count": 85,
          "data": {
            "application/vnd.deepnote.dataframe.v2+json": {
              "row_count": 5,
              "column_count": 7,
              "columns": [
                {
                  "name": "year",
                  "dtype": "int64",
                  "stats": {
                    "unique_count": 1,
                    "nan_count": 0,
                    "min": "2000",
                    "max": "2000",
                    "histogram": [
                      {
                        "bin_start": 1999.5,
                        "bin_end": 1999.6,
                        "count": 0
                      },
                      {
                        "bin_start": 1999.6,
                        "bin_end": 1999.7,
                        "count": 0
                      },
                      {
                        "bin_start": 1999.7,
                        "bin_end": 1999.8,
                        "count": 0
                      },
                      {
                        "bin_start": 1999.8,
                        "bin_end": 1999.9,
                        "count": 0
                      },
                      {
                        "bin_start": 1999.9,
                        "bin_end": 2000,
                        "count": 0
                      },
                      {
                        "bin_start": 2000,
                        "bin_end": 2000.1,
                        "count": 5
                      },
                      {
                        "bin_start": 2000.1,
                        "bin_end": 2000.2,
                        "count": 0
                      },
                      {
                        "bin_start": 2000.2,
                        "bin_end": 2000.3,
                        "count": 0
                      },
                      {
                        "bin_start": 2000.3,
                        "bin_end": 2000.4,
                        "count": 0
                      },
                      {
                        "bin_start": 2000.4,
                        "bin_end": 2000.5,
                        "count": 0
                      }
                    ]
                  }
                },
                {
                  "name": "artist",
                  "dtype": "object",
                  "stats": {
                    "unique_count": 4,
                    "nan_count": 0,
                    "categories": [
                      {
                        "name": "3 Doors Down",
                        "count": 2
                      },
                      {
                        "name": "2 Pac",
                        "count": 1
                      },
                      {
                        "name": "2 others",
                        "count": 2
                      }
                    ]
                  }
                },
                {
                  "name": "track",
                  "dtype": "object",
                  "stats": {
                    "unique_count": 5,
                    "nan_count": 0,
                    "categories": [
                      {
                        "name": "Baby Don't Cry (Keep...",
                        "count": 1
                      },
                      {
                        "name": "The Hardest Part Of ...",
                        "count": 1
                      },
                      {
                        "name": "3 others",
                        "count": 3
                      }
                    ]
                  }
                },
                {
                  "name": "time",
                  "dtype": "object",
                  "stats": {
                    "unique_count": 5,
                    "nan_count": 0,
                    "categories": [
                      {
                        "name": "4:22",
                        "count": 1
                      },
                      {
                        "name": "3:15",
                        "count": 1
                      },
                      {
                        "name": "3 others",
                        "count": 3
                      }
                    ]
                  }
                },
                {
                  "name": "date.entered",
                  "dtype": "object",
                  "stats": {
                    "unique_count": 5,
                    "nan_count": 0,
                    "categories": [
                      {
                        "name": "2000-02-26",
                        "count": 1
                      },
                      {
                        "name": "2000-09-02",
                        "count": 1
                      },
                      {
                        "name": "3 others",
                        "count": 3
                      }
                    ]
                  }
                },
                {
                  "name": "week",
                  "dtype": "object",
                  "stats": {
                    "unique_count": 1,
                    "nan_count": 0,
                    "categories": [
                      {
                        "name": "wk1",
                        "count": 5
                      }
                    ]
                  }
                },
                {
                  "name": "rating",
                  "dtype": "float64",
                  "stats": {
                    "unique_count": 5,
                    "nan_count": 0,
                    "min": "57.0",
                    "max": "91.0",
                    "histogram": [
                      {
                        "bin_start": 57,
                        "bin_end": 60.4,
                        "count": 1
                      },
                      {
                        "bin_start": 60.4,
                        "bin_end": 63.8,
                        "count": 0
                      },
                      {
                        "bin_start": 63.8,
                        "bin_end": 67.2,
                        "count": 0
                      },
                      {
                        "bin_start": 67.2,
                        "bin_end": 70.6,
                        "count": 0
                      },
                      {
                        "bin_start": 70.6,
                        "bin_end": 74,
                        "count": 0
                      },
                      {
                        "bin_start": 74,
                        "bin_end": 77.4,
                        "count": 1
                      },
                      {
                        "bin_start": 77.4,
                        "bin_end": 80.8,
                        "count": 0
                      },
                      {
                        "bin_start": 80.8,
                        "bin_end": 84.2,
                        "count": 1
                      },
                      {
                        "bin_start": 84.2,
                        "bin_end": 87.6,
                        "count": 1
                      },
                      {
                        "bin_start": 87.6,
                        "bin_end": 91,
                        "count": 1
                      }
                    ]
                  }
                },
                {
                  "name": "_deepnote_index_column",
                  "dtype": "int64"
                }
              ],
              "rows_top": [
                {
                  "year": 2000,
                  "artist": "2 Pac",
                  "track": "Baby Don't Cry (Keep...",
                  "time": "4:22",
                  "date.entered": "2000-02-26",
                  "week": "wk1",
                  "rating": 87,
                  "_deepnote_index_column": 0
                },
                {
                  "year": 2000,
                  "artist": "2Ge+her",
                  "track": "The Hardest Part Of ...",
                  "time": "3:15",
                  "date.entered": "2000-09-02",
                  "week": "wk1",
                  "rating": 91,
                  "_deepnote_index_column": 1
                },
                {
                  "year": 2000,
                  "artist": "3 Doors Down",
                  "track": "Kryptonite",
                  "time": "3:53",
                  "date.entered": "2000-04-08",
                  "week": "wk1",
                  "rating": 81,
                  "_deepnote_index_column": 2
                },
                {
                  "year": 2000,
                  "artist": "3 Doors Down",
                  "track": "Loser",
                  "time": "4:24",
                  "date.entered": "2000-10-21",
                  "week": "wk1",
                  "rating": 76,
                  "_deepnote_index_column": 3
                },
                {
                  "year": 2000,
                  "artist": "504 Boyz",
                  "track": "Wobble Wobble",
                  "time": "3:35",
                  "date.entered": "2000-04-15",
                  "week": "wk1",
                  "rating": 57,
                  "_deepnote_index_column": 4
                }
              ],
              "rows_bottom": null
            },
            "text/plain": "   year        artist                    track  time date.entered week  rating\n0  2000         2 Pac  Baby Don't Cry (Keep...  4:22   2000-02-26  wk1    87.0\n1  2000       2Ge+her  The Hardest Part Of ...  3:15   2000-09-02  wk1    91.0\n2  2000  3 Doors Down               Kryptonite  3:53   2000-04-08  wk1    81.0\n3  2000  3 Doors Down                    Loser  4:24   2000-10-21  wk1    76.0\n4  2000      504 Boyz            Wobble Wobble  3:35   2000-04-15  wk1    57.0",
            "text/html": "<div>\n<style scoped>\n    .dataframe tbody tr th:only-of-type {\n        vertical-align: middle;\n    }\n\n    .dataframe tbody tr th {\n        vertical-align: top;\n    }\n\n    .dataframe thead th {\n        text-align: right;\n    }\n</style>\n<table border=\"1\" class=\"dataframe\">\n  <thead>\n    <tr style=\"text-align: right;\">\n      <th></th>\n      <th>year</th>\n      <th>artist</th>\n      <th>track</th>\n      <th>time</th>\n      <th>date.entered</th>\n      <th>week</th>\n      <th>rating</th>\n    </tr>\n  </thead>\n  <tbody>\n    <tr>\n      <th>0</th>\n      <td>2000</td>\n      <td>2 Pac</td>\n      <td>Baby Don't Cry (Keep...</td>\n      <td>4:22</td>\n      <td>2000-02-26</td>\n      <td>wk1</td>\n      <td>87.0</td>\n    </tr>\n    <tr>\n      <th>1</th>\n      <td>2000</td>\n      <td>2Ge+her</td>\n      <td>The Hardest Part Of ...</td>\n      <td>3:15</td>\n      <td>2000-09-02</td>\n      <td>wk1</td>\n      <td>91.0</td>\n    </tr>\n    <tr>\n      <th>2</th>\n      <td>2000</td>\n      <td>3 Doors Down</td>\n      <td>Kryptonite</td>\n      <td>3:53</td>\n      <td>2000-04-08</td>\n      <td>wk1</td>\n      <td>81.0</td>\n    </tr>\n    <tr>\n      <th>3</th>\n      <td>2000</td>\n      <td>3 Doors Down</td>\n      <td>Loser</td>\n      <td>4:24</td>\n      <td>2000-10-21</td>\n      <td>wk1</td>\n      <td>76.0</td>\n    </tr>\n    <tr>\n      <th>4</th>\n      <td>2000</td>\n      <td>504 Boyz</td>\n      <td>Wobble Wobble</td>\n      <td>3:35</td>\n      <td>2000-04-15</td>\n      <td>wk1</td>\n      <td>57.0</td>\n    </tr>\n  </tbody>\n</table>\n</div>"
          },
          "metadata": {}
        }
      ]
    },
    {
      "cell_type": "code",
      "metadata": {
        "tags": [],
        "cell_id": "00055-5e6ca289-bcae-4fa6-b6b2-3681007f958a",
        "deepnote_to_be_reexecuted": false,
        "source_hash": "5e510d76",
        "execution_start": 1620041168055,
        "execution_millis": 39,
        "deepnote_cell_type": "code"
      },
      "source": "billboard_melt.loc[billboard_melt['track']=='Loser'] # you can see repetitions of the songs",
      "execution_count": 86,
      "outputs": [
        {
          "output_type": "execute_result",
          "execution_count": 86,
          "data": {
            "application/vnd.deepnote.dataframe.v2+json": {
              "row_count": 76,
              "column_count": 7,
              "columns": [
                {
                  "name": "year",
                  "dtype": "int64",
                  "stats": {
                    "unique_count": 1,
                    "nan_count": 0,
                    "min": "2000",
                    "max": "2000",
                    "histogram": [
                      {
                        "bin_start": 1999.5,
                        "bin_end": 1999.6,
                        "count": 0
                      },
                      {
                        "bin_start": 1999.6,
                        "bin_end": 1999.7,
                        "count": 0
                      },
                      {
                        "bin_start": 1999.7,
                        "bin_end": 1999.8,
                        "count": 0
                      },
                      {
                        "bin_start": 1999.8,
                        "bin_end": 1999.9,
                        "count": 0
                      },
                      {
                        "bin_start": 1999.9,
                        "bin_end": 2000,
                        "count": 0
                      },
                      {
                        "bin_start": 2000,
                        "bin_end": 2000.1,
                        "count": 76
                      },
                      {
                        "bin_start": 2000.1,
                        "bin_end": 2000.2,
                        "count": 0
                      },
                      {
                        "bin_start": 2000.2,
                        "bin_end": 2000.3,
                        "count": 0
                      },
                      {
                        "bin_start": 2000.3,
                        "bin_end": 2000.4,
                        "count": 0
                      },
                      {
                        "bin_start": 2000.4,
                        "bin_end": 2000.5,
                        "count": 0
                      }
                    ]
                  }
                },
                {
                  "name": "artist",
                  "dtype": "object",
                  "stats": {
                    "unique_count": 1,
                    "nan_count": 0,
                    "categories": [
                      {
                        "name": "3 Doors Down",
                        "count": 76
                      }
                    ]
                  }
                },
                {
                  "name": "track",
                  "dtype": "object",
                  "stats": {
                    "unique_count": 1,
                    "nan_count": 0,
                    "categories": [
                      {
                        "name": "Loser",
                        "count": 76
                      }
                    ]
                  }
                },
                {
                  "name": "time",
                  "dtype": "object",
                  "stats": {
                    "unique_count": 1,
                    "nan_count": 0,
                    "categories": [
                      {
                        "name": "4:24",
                        "count": 76
                      }
                    ]
                  }
                },
                {
                  "name": "date.entered",
                  "dtype": "object",
                  "stats": {
                    "unique_count": 1,
                    "nan_count": 0,
                    "categories": [
                      {
                        "name": "2000-10-21",
                        "count": 76
                      }
                    ]
                  }
                },
                {
                  "name": "week",
                  "dtype": "object",
                  "stats": {
                    "unique_count": 76,
                    "nan_count": 0,
                    "categories": [
                      {
                        "name": "wk1",
                        "count": 1
                      },
                      {
                        "name": "wk2",
                        "count": 1
                      },
                      {
                        "name": "74 others",
                        "count": 74
                      }
                    ]
                  }
                },
                {
                  "name": "rating",
                  "dtype": "float64",
                  "stats": {
                    "unique_count": 13,
                    "nan_count": 56,
                    "min": "55.0",
                    "max": "76.0",
                    "histogram": [
                      {
                        "bin_start": 55,
                        "bin_end": 57.1,
                        "count": 1
                      },
                      {
                        "bin_start": 57.1,
                        "bin_end": 59.2,
                        "count": 2
                      },
                      {
                        "bin_start": 59.2,
                        "bin_end": 61.3,
                        "count": 3
                      },
                      {
                        "bin_start": 61.3,
                        "bin_end": 63.4,
                        "count": 1
                      },
                      {
                        "bin_start": 63.4,
                        "bin_end": 65.5,
                        "count": 1
                      },
                      {
                        "bin_start": 65.5,
                        "bin_end": 67.6,
                        "count": 3
                      },
                      {
                        "bin_start": 67.6,
                        "bin_end": 69.7,
                        "count": 1
                      },
                      {
                        "bin_start": 69.7,
                        "bin_end": 71.8,
                        "count": 1
                      },
                      {
                        "bin_start": 71.8,
                        "bin_end": 73.9,
                        "count": 3
                      },
                      {
                        "bin_start": 73.9,
                        "bin_end": 76,
                        "count": 4
                      }
                    ]
                  }
                },
                {
                  "name": "_deepnote_index_column",
                  "dtype": "int64"
                }
              ],
              "rows_top": [
                {
                  "year": 2000,
                  "artist": "3 Doors Down",
                  "track": "Loser",
                  "time": "4:24",
                  "date.entered": "2000-10-21",
                  "week": "wk1",
                  "rating": "76.0",
                  "_deepnote_index_column": 3
                },
                {
                  "year": 2000,
                  "artist": "3 Doors Down",
                  "track": "Loser",
                  "time": "4:24",
                  "date.entered": "2000-10-21",
                  "week": "wk2",
                  "rating": "76.0",
                  "_deepnote_index_column": 320
                },
                {
                  "year": 2000,
                  "artist": "3 Doors Down",
                  "track": "Loser",
                  "time": "4:24",
                  "date.entered": "2000-10-21",
                  "week": "wk3",
                  "rating": "72.0",
                  "_deepnote_index_column": 637
                },
                {
                  "year": 2000,
                  "artist": "3 Doors Down",
                  "track": "Loser",
                  "time": "4:24",
                  "date.entered": "2000-10-21",
                  "week": "wk4",
                  "rating": "69.0",
                  "_deepnote_index_column": 954
                },
                {
                  "year": 2000,
                  "artist": "3 Doors Down",
                  "track": "Loser",
                  "time": "4:24",
                  "date.entered": "2000-10-21",
                  "week": "wk5",
                  "rating": "67.0",
                  "_deepnote_index_column": 1271
                },
                {
                  "year": 2000,
                  "artist": "3 Doors Down",
                  "track": "Loser",
                  "time": "4:24",
                  "date.entered": "2000-10-21",
                  "week": "wk6",
                  "rating": "65.0",
                  "_deepnote_index_column": 1588
                },
                {
                  "year": 2000,
                  "artist": "3 Doors Down",
                  "track": "Loser",
                  "time": "4:24",
                  "date.entered": "2000-10-21",
                  "week": "wk7",
                  "rating": "55.0",
                  "_deepnote_index_column": 1905
                },
                {
                  "year": 2000,
                  "artist": "3 Doors Down",
                  "track": "Loser",
                  "time": "4:24",
                  "date.entered": "2000-10-21",
                  "week": "wk8",
                  "rating": "59.0",
                  "_deepnote_index_column": 2222
                },
                {
                  "year": 2000,
                  "artist": "3 Doors Down",
                  "track": "Loser",
                  "time": "4:24",
                  "date.entered": "2000-10-21",
                  "week": "wk9",
                  "rating": "62.0",
                  "_deepnote_index_column": 2539
                },
                {
                  "year": 2000,
                  "artist": "3 Doors Down",
                  "track": "Loser",
                  "time": "4:24",
                  "date.entered": "2000-10-21",
                  "week": "wk10",
                  "rating": "61.0",
                  "_deepnote_index_column": 2856
                },
                {
                  "year": 2000,
                  "artist": "3 Doors Down",
                  "track": "Loser",
                  "time": "4:24",
                  "date.entered": "2000-10-21",
                  "week": "wk11",
                  "rating": "61.0",
                  "_deepnote_index_column": 3173
                },
                {
                  "year": 2000,
                  "artist": "3 Doors Down",
                  "track": "Loser",
                  "time": "4:24",
                  "date.entered": "2000-10-21",
                  "week": "wk12",
                  "rating": "59.0",
                  "_deepnote_index_column": 3490
                },
                {
                  "year": 2000,
                  "artist": "3 Doors Down",
                  "track": "Loser",
                  "time": "4:24",
                  "date.entered": "2000-10-21",
                  "week": "wk13",
                  "rating": "61.0",
                  "_deepnote_index_column": 3807
                },
                {
                  "year": 2000,
                  "artist": "3 Doors Down",
                  "track": "Loser",
                  "time": "4:24",
                  "date.entered": "2000-10-21",
                  "week": "wk14",
                  "rating": "66.0",
                  "_deepnote_index_column": 4124
                },
                {
                  "year": 2000,
                  "artist": "3 Doors Down",
                  "track": "Loser",
                  "time": "4:24",
                  "date.entered": "2000-10-21",
                  "week": "wk15",
                  "rating": "72.0",
                  "_deepnote_index_column": 4441
                },
                {
                  "year": 2000,
                  "artist": "3 Doors Down",
                  "track": "Loser",
                  "time": "4:24",
                  "date.entered": "2000-10-21",
                  "week": "wk16",
                  "rating": "76.0",
                  "_deepnote_index_column": 4758
                },
                {
                  "year": 2000,
                  "artist": "3 Doors Down",
                  "track": "Loser",
                  "time": "4:24",
                  "date.entered": "2000-10-21",
                  "week": "wk17",
                  "rating": "75.0",
                  "_deepnote_index_column": 5075
                },
                {
                  "year": 2000,
                  "artist": "3 Doors Down",
                  "track": "Loser",
                  "time": "4:24",
                  "date.entered": "2000-10-21",
                  "week": "wk18",
                  "rating": "67.0",
                  "_deepnote_index_column": 5392
                },
                {
                  "year": 2000,
                  "artist": "3 Doors Down",
                  "track": "Loser",
                  "time": "4:24",
                  "date.entered": "2000-10-21",
                  "week": "wk19",
                  "rating": "73.0",
                  "_deepnote_index_column": 5709
                },
                {
                  "year": 2000,
                  "artist": "3 Doors Down",
                  "track": "Loser",
                  "time": "4:24",
                  "date.entered": "2000-10-21",
                  "week": "wk20",
                  "rating": "70.0",
                  "_deepnote_index_column": 6026
                },
                {
                  "year": 2000,
                  "artist": "3 Doors Down",
                  "track": "Loser",
                  "time": "4:24",
                  "date.entered": "2000-10-21",
                  "week": "wk21",
                  "rating": "nan",
                  "_deepnote_index_column": 6343
                },
                {
                  "year": 2000,
                  "artist": "3 Doors Down",
                  "track": "Loser",
                  "time": "4:24",
                  "date.entered": "2000-10-21",
                  "week": "wk22",
                  "rating": "nan",
                  "_deepnote_index_column": 6660
                },
                {
                  "year": 2000,
                  "artist": "3 Doors Down",
                  "track": "Loser",
                  "time": "4:24",
                  "date.entered": "2000-10-21",
                  "week": "wk23",
                  "rating": "nan",
                  "_deepnote_index_column": 6977
                },
                {
                  "year": 2000,
                  "artist": "3 Doors Down",
                  "track": "Loser",
                  "time": "4:24",
                  "date.entered": "2000-10-21",
                  "week": "wk24",
                  "rating": "nan",
                  "_deepnote_index_column": 7294
                },
                {
                  "year": 2000,
                  "artist": "3 Doors Down",
                  "track": "Loser",
                  "time": "4:24",
                  "date.entered": "2000-10-21",
                  "week": "wk25",
                  "rating": "nan",
                  "_deepnote_index_column": 7611
                },
                {
                  "year": 2000,
                  "artist": "3 Doors Down",
                  "track": "Loser",
                  "time": "4:24",
                  "date.entered": "2000-10-21",
                  "week": "wk26",
                  "rating": "nan",
                  "_deepnote_index_column": 7928
                },
                {
                  "year": 2000,
                  "artist": "3 Doors Down",
                  "track": "Loser",
                  "time": "4:24",
                  "date.entered": "2000-10-21",
                  "week": "wk27",
                  "rating": "nan",
                  "_deepnote_index_column": 8245
                },
                {
                  "year": 2000,
                  "artist": "3 Doors Down",
                  "track": "Loser",
                  "time": "4:24",
                  "date.entered": "2000-10-21",
                  "week": "wk28",
                  "rating": "nan",
                  "_deepnote_index_column": 8562
                },
                {
                  "year": 2000,
                  "artist": "3 Doors Down",
                  "track": "Loser",
                  "time": "4:24",
                  "date.entered": "2000-10-21",
                  "week": "wk29",
                  "rating": "nan",
                  "_deepnote_index_column": 8879
                },
                {
                  "year": 2000,
                  "artist": "3 Doors Down",
                  "track": "Loser",
                  "time": "4:24",
                  "date.entered": "2000-10-21",
                  "week": "wk30",
                  "rating": "nan",
                  "_deepnote_index_column": 9196
                },
                {
                  "year": 2000,
                  "artist": "3 Doors Down",
                  "track": "Loser",
                  "time": "4:24",
                  "date.entered": "2000-10-21",
                  "week": "wk31",
                  "rating": "nan",
                  "_deepnote_index_column": 9513
                },
                {
                  "year": 2000,
                  "artist": "3 Doors Down",
                  "track": "Loser",
                  "time": "4:24",
                  "date.entered": "2000-10-21",
                  "week": "wk32",
                  "rating": "nan",
                  "_deepnote_index_column": 9830
                },
                {
                  "year": 2000,
                  "artist": "3 Doors Down",
                  "track": "Loser",
                  "time": "4:24",
                  "date.entered": "2000-10-21",
                  "week": "wk33",
                  "rating": "nan",
                  "_deepnote_index_column": 10147
                },
                {
                  "year": 2000,
                  "artist": "3 Doors Down",
                  "track": "Loser",
                  "time": "4:24",
                  "date.entered": "2000-10-21",
                  "week": "wk34",
                  "rating": "nan",
                  "_deepnote_index_column": 10464
                },
                {
                  "year": 2000,
                  "artist": "3 Doors Down",
                  "track": "Loser",
                  "time": "4:24",
                  "date.entered": "2000-10-21",
                  "week": "wk35",
                  "rating": "nan",
                  "_deepnote_index_column": 10781
                },
                {
                  "year": 2000,
                  "artist": "3 Doors Down",
                  "track": "Loser",
                  "time": "4:24",
                  "date.entered": "2000-10-21",
                  "week": "wk36",
                  "rating": "nan",
                  "_deepnote_index_column": 11098
                },
                {
                  "year": 2000,
                  "artist": "3 Doors Down",
                  "track": "Loser",
                  "time": "4:24",
                  "date.entered": "2000-10-21",
                  "week": "wk37",
                  "rating": "nan",
                  "_deepnote_index_column": 11415
                },
                {
                  "year": 2000,
                  "artist": "3 Doors Down",
                  "track": "Loser",
                  "time": "4:24",
                  "date.entered": "2000-10-21",
                  "week": "wk38",
                  "rating": "nan",
                  "_deepnote_index_column": 11732
                },
                {
                  "year": 2000,
                  "artist": "3 Doors Down",
                  "track": "Loser",
                  "time": "4:24",
                  "date.entered": "2000-10-21",
                  "week": "wk39",
                  "rating": "nan",
                  "_deepnote_index_column": 12049
                },
                {
                  "year": 2000,
                  "artist": "3 Doors Down",
                  "track": "Loser",
                  "time": "4:24",
                  "date.entered": "2000-10-21",
                  "week": "wk40",
                  "rating": "nan",
                  "_deepnote_index_column": 12366
                },
                {
                  "year": 2000,
                  "artist": "3 Doors Down",
                  "track": "Loser",
                  "time": "4:24",
                  "date.entered": "2000-10-21",
                  "week": "wk41",
                  "rating": "nan",
                  "_deepnote_index_column": 12683
                },
                {
                  "year": 2000,
                  "artist": "3 Doors Down",
                  "track": "Loser",
                  "time": "4:24",
                  "date.entered": "2000-10-21",
                  "week": "wk42",
                  "rating": "nan",
                  "_deepnote_index_column": 13000
                },
                {
                  "year": 2000,
                  "artist": "3 Doors Down",
                  "track": "Loser",
                  "time": "4:24",
                  "date.entered": "2000-10-21",
                  "week": "wk43",
                  "rating": "nan",
                  "_deepnote_index_column": 13317
                },
                {
                  "year": 2000,
                  "artist": "3 Doors Down",
                  "track": "Loser",
                  "time": "4:24",
                  "date.entered": "2000-10-21",
                  "week": "wk44",
                  "rating": "nan",
                  "_deepnote_index_column": 13634
                },
                {
                  "year": 2000,
                  "artist": "3 Doors Down",
                  "track": "Loser",
                  "time": "4:24",
                  "date.entered": "2000-10-21",
                  "week": "wk45",
                  "rating": "nan",
                  "_deepnote_index_column": 13951
                },
                {
                  "year": 2000,
                  "artist": "3 Doors Down",
                  "track": "Loser",
                  "time": "4:24",
                  "date.entered": "2000-10-21",
                  "week": "wk46",
                  "rating": "nan",
                  "_deepnote_index_column": 14268
                },
                {
                  "year": 2000,
                  "artist": "3 Doors Down",
                  "track": "Loser",
                  "time": "4:24",
                  "date.entered": "2000-10-21",
                  "week": "wk47",
                  "rating": "nan",
                  "_deepnote_index_column": 14585
                },
                {
                  "year": 2000,
                  "artist": "3 Doors Down",
                  "track": "Loser",
                  "time": "4:24",
                  "date.entered": "2000-10-21",
                  "week": "wk48",
                  "rating": "nan",
                  "_deepnote_index_column": 14902
                },
                {
                  "year": 2000,
                  "artist": "3 Doors Down",
                  "track": "Loser",
                  "time": "4:24",
                  "date.entered": "2000-10-21",
                  "week": "wk49",
                  "rating": "nan",
                  "_deepnote_index_column": 15219
                },
                {
                  "year": 2000,
                  "artist": "3 Doors Down",
                  "track": "Loser",
                  "time": "4:24",
                  "date.entered": "2000-10-21",
                  "week": "wk50",
                  "rating": "nan",
                  "_deepnote_index_column": 15536
                },
                {
                  "year": 2000,
                  "artist": "3 Doors Down",
                  "track": "Loser",
                  "time": "4:24",
                  "date.entered": "2000-10-21",
                  "week": "wk51",
                  "rating": "nan",
                  "_deepnote_index_column": 15853
                },
                {
                  "year": 2000,
                  "artist": "3 Doors Down",
                  "track": "Loser",
                  "time": "4:24",
                  "date.entered": "2000-10-21",
                  "week": "wk52",
                  "rating": "nan",
                  "_deepnote_index_column": 16170
                },
                {
                  "year": 2000,
                  "artist": "3 Doors Down",
                  "track": "Loser",
                  "time": "4:24",
                  "date.entered": "2000-10-21",
                  "week": "wk53",
                  "rating": "nan",
                  "_deepnote_index_column": 16487
                },
                {
                  "year": 2000,
                  "artist": "3 Doors Down",
                  "track": "Loser",
                  "time": "4:24",
                  "date.entered": "2000-10-21",
                  "week": "wk54",
                  "rating": "nan",
                  "_deepnote_index_column": 16804
                },
                {
                  "year": 2000,
                  "artist": "3 Doors Down",
                  "track": "Loser",
                  "time": "4:24",
                  "date.entered": "2000-10-21",
                  "week": "wk55",
                  "rating": "nan",
                  "_deepnote_index_column": 17121
                },
                {
                  "year": 2000,
                  "artist": "3 Doors Down",
                  "track": "Loser",
                  "time": "4:24",
                  "date.entered": "2000-10-21",
                  "week": "wk56",
                  "rating": "nan",
                  "_deepnote_index_column": 17438
                },
                {
                  "year": 2000,
                  "artist": "3 Doors Down",
                  "track": "Loser",
                  "time": "4:24",
                  "date.entered": "2000-10-21",
                  "week": "wk57",
                  "rating": "nan",
                  "_deepnote_index_column": 17755
                },
                {
                  "year": 2000,
                  "artist": "3 Doors Down",
                  "track": "Loser",
                  "time": "4:24",
                  "date.entered": "2000-10-21",
                  "week": "wk58",
                  "rating": "nan",
                  "_deepnote_index_column": 18072
                },
                {
                  "year": 2000,
                  "artist": "3 Doors Down",
                  "track": "Loser",
                  "time": "4:24",
                  "date.entered": "2000-10-21",
                  "week": "wk59",
                  "rating": "nan",
                  "_deepnote_index_column": 18389
                },
                {
                  "year": 2000,
                  "artist": "3 Doors Down",
                  "track": "Loser",
                  "time": "4:24",
                  "date.entered": "2000-10-21",
                  "week": "wk60",
                  "rating": "nan",
                  "_deepnote_index_column": 18706
                },
                {
                  "year": 2000,
                  "artist": "3 Doors Down",
                  "track": "Loser",
                  "time": "4:24",
                  "date.entered": "2000-10-21",
                  "week": "wk61",
                  "rating": "nan",
                  "_deepnote_index_column": 19023
                },
                {
                  "year": 2000,
                  "artist": "3 Doors Down",
                  "track": "Loser",
                  "time": "4:24",
                  "date.entered": "2000-10-21",
                  "week": "wk62",
                  "rating": "nan",
                  "_deepnote_index_column": 19340
                },
                {
                  "year": 2000,
                  "artist": "3 Doors Down",
                  "track": "Loser",
                  "time": "4:24",
                  "date.entered": "2000-10-21",
                  "week": "wk63",
                  "rating": "nan",
                  "_deepnote_index_column": 19657
                },
                {
                  "year": 2000,
                  "artist": "3 Doors Down",
                  "track": "Loser",
                  "time": "4:24",
                  "date.entered": "2000-10-21",
                  "week": "wk64",
                  "rating": "nan",
                  "_deepnote_index_column": 19974
                },
                {
                  "year": 2000,
                  "artist": "3 Doors Down",
                  "track": "Loser",
                  "time": "4:24",
                  "date.entered": "2000-10-21",
                  "week": "wk65",
                  "rating": "nan",
                  "_deepnote_index_column": 20291
                },
                {
                  "year": 2000,
                  "artist": "3 Doors Down",
                  "track": "Loser",
                  "time": "4:24",
                  "date.entered": "2000-10-21",
                  "week": "wk66",
                  "rating": "nan",
                  "_deepnote_index_column": 20608
                },
                {
                  "year": 2000,
                  "artist": "3 Doors Down",
                  "track": "Loser",
                  "time": "4:24",
                  "date.entered": "2000-10-21",
                  "week": "wk67",
                  "rating": "nan",
                  "_deepnote_index_column": 20925
                },
                {
                  "year": 2000,
                  "artist": "3 Doors Down",
                  "track": "Loser",
                  "time": "4:24",
                  "date.entered": "2000-10-21",
                  "week": "wk68",
                  "rating": "nan",
                  "_deepnote_index_column": 21242
                },
                {
                  "year": 2000,
                  "artist": "3 Doors Down",
                  "track": "Loser",
                  "time": "4:24",
                  "date.entered": "2000-10-21",
                  "week": "wk69",
                  "rating": "nan",
                  "_deepnote_index_column": 21559
                },
                {
                  "year": 2000,
                  "artist": "3 Doors Down",
                  "track": "Loser",
                  "time": "4:24",
                  "date.entered": "2000-10-21",
                  "week": "wk70",
                  "rating": "nan",
                  "_deepnote_index_column": 21876
                },
                {
                  "year": 2000,
                  "artist": "3 Doors Down",
                  "track": "Loser",
                  "time": "4:24",
                  "date.entered": "2000-10-21",
                  "week": "wk71",
                  "rating": "nan",
                  "_deepnote_index_column": 22193
                },
                {
                  "year": 2000,
                  "artist": "3 Doors Down",
                  "track": "Loser",
                  "time": "4:24",
                  "date.entered": "2000-10-21",
                  "week": "wk72",
                  "rating": "nan",
                  "_deepnote_index_column": 22510
                },
                {
                  "year": 2000,
                  "artist": "3 Doors Down",
                  "track": "Loser",
                  "time": "4:24",
                  "date.entered": "2000-10-21",
                  "week": "wk73",
                  "rating": "nan",
                  "_deepnote_index_column": 22827
                },
                {
                  "year": 2000,
                  "artist": "3 Doors Down",
                  "track": "Loser",
                  "time": "4:24",
                  "date.entered": "2000-10-21",
                  "week": "wk74",
                  "rating": "nan",
                  "_deepnote_index_column": 23144
                },
                {
                  "year": 2000,
                  "artist": "3 Doors Down",
                  "track": "Loser",
                  "time": "4:24",
                  "date.entered": "2000-10-21",
                  "week": "wk75",
                  "rating": "nan",
                  "_deepnote_index_column": 23461
                },
                {
                  "year": 2000,
                  "artist": "3 Doors Down",
                  "track": "Loser",
                  "time": "4:24",
                  "date.entered": "2000-10-21",
                  "week": "wk76",
                  "rating": "nan",
                  "_deepnote_index_column": 23778
                }
              ],
              "rows_bottom": null
            },
            "text/plain": "       year        artist  track  time date.entered  week  rating\n3      2000  3 Doors Down  Loser  4:24   2000-10-21   wk1    76.0\n320    2000  3 Doors Down  Loser  4:24   2000-10-21   wk2    76.0\n637    2000  3 Doors Down  Loser  4:24   2000-10-21   wk3    72.0\n954    2000  3 Doors Down  Loser  4:24   2000-10-21   wk4    69.0\n1271   2000  3 Doors Down  Loser  4:24   2000-10-21   wk5    67.0\n...     ...           ...    ...   ...          ...   ...     ...\n22510  2000  3 Doors Down  Loser  4:24   2000-10-21  wk72     NaN\n22827  2000  3 Doors Down  Loser  4:24   2000-10-21  wk73     NaN\n23144  2000  3 Doors Down  Loser  4:24   2000-10-21  wk74     NaN\n23461  2000  3 Doors Down  Loser  4:24   2000-10-21  wk75     NaN\n23778  2000  3 Doors Down  Loser  4:24   2000-10-21  wk76     NaN\n\n[76 rows x 7 columns]",
            "text/html": "<div>\n<style scoped>\n    .dataframe tbody tr th:only-of-type {\n        vertical-align: middle;\n    }\n\n    .dataframe tbody tr th {\n        vertical-align: top;\n    }\n\n    .dataframe thead th {\n        text-align: right;\n    }\n</style>\n<table border=\"1\" class=\"dataframe\">\n  <thead>\n    <tr style=\"text-align: right;\">\n      <th></th>\n      <th>year</th>\n      <th>artist</th>\n      <th>track</th>\n      <th>time</th>\n      <th>date.entered</th>\n      <th>week</th>\n      <th>rating</th>\n    </tr>\n  </thead>\n  <tbody>\n    <tr>\n      <th>3</th>\n      <td>2000</td>\n      <td>3 Doors Down</td>\n      <td>Loser</td>\n      <td>4:24</td>\n      <td>2000-10-21</td>\n      <td>wk1</td>\n      <td>76.0</td>\n    </tr>\n    <tr>\n      <th>320</th>\n      <td>2000</td>\n      <td>3 Doors Down</td>\n      <td>Loser</td>\n      <td>4:24</td>\n      <td>2000-10-21</td>\n      <td>wk2</td>\n      <td>76.0</td>\n    </tr>\n    <tr>\n      <th>637</th>\n      <td>2000</td>\n      <td>3 Doors Down</td>\n      <td>Loser</td>\n      <td>4:24</td>\n      <td>2000-10-21</td>\n      <td>wk3</td>\n      <td>72.0</td>\n    </tr>\n    <tr>\n      <th>954</th>\n      <td>2000</td>\n      <td>3 Doors Down</td>\n      <td>Loser</td>\n      <td>4:24</td>\n      <td>2000-10-21</td>\n      <td>wk4</td>\n      <td>69.0</td>\n    </tr>\n    <tr>\n      <th>1271</th>\n      <td>2000</td>\n      <td>3 Doors Down</td>\n      <td>Loser</td>\n      <td>4:24</td>\n      <td>2000-10-21</td>\n      <td>wk5</td>\n      <td>67.0</td>\n    </tr>\n    <tr>\n      <th>...</th>\n      <td>...</td>\n      <td>...</td>\n      <td>...</td>\n      <td>...</td>\n      <td>...</td>\n      <td>...</td>\n      <td>...</td>\n    </tr>\n    <tr>\n      <th>22510</th>\n      <td>2000</td>\n      <td>3 Doors Down</td>\n      <td>Loser</td>\n      <td>4:24</td>\n      <td>2000-10-21</td>\n      <td>wk72</td>\n      <td>NaN</td>\n    </tr>\n    <tr>\n      <th>22827</th>\n      <td>2000</td>\n      <td>3 Doors Down</td>\n      <td>Loser</td>\n      <td>4:24</td>\n      <td>2000-10-21</td>\n      <td>wk73</td>\n      <td>NaN</td>\n    </tr>\n    <tr>\n      <th>23144</th>\n      <td>2000</td>\n      <td>3 Doors Down</td>\n      <td>Loser</td>\n      <td>4:24</td>\n      <td>2000-10-21</td>\n      <td>wk74</td>\n      <td>NaN</td>\n    </tr>\n    <tr>\n      <th>23461</th>\n      <td>2000</td>\n      <td>3 Doors Down</td>\n      <td>Loser</td>\n      <td>4:24</td>\n      <td>2000-10-21</td>\n      <td>wk75</td>\n      <td>NaN</td>\n    </tr>\n    <tr>\n      <th>23778</th>\n      <td>2000</td>\n      <td>3 Doors Down</td>\n      <td>Loser</td>\n      <td>4:24</td>\n      <td>2000-10-21</td>\n      <td>wk76</td>\n      <td>NaN</td>\n    </tr>\n  </tbody>\n</table>\n<p>76 rows × 7 columns</p>\n</div>"
          },
          "metadata": {}
        }
      ]
    },
    {
      "cell_type": "markdown",
      "source": "Fixing the repetitions helps making the data storage frendly",
      "metadata": {
        "tags": [],
        "cell_id": "00056-d2070df4-f853-42a4-ad11-7d47d239974b",
        "deepnote_cell_type": "markdown"
      }
    },
    {
      "cell_type": "code",
      "metadata": {
        "tags": [],
        "cell_id": "00057-455b0715-9e77-4d21-9b4c-888191989f4c",
        "deepnote_to_be_reexecuted": false,
        "source_hash": "7d4827e9",
        "execution_start": 1620041225594,
        "execution_millis": 1,
        "deepnote_cell_type": "code"
      },
      "source": "billboard_songs=billboard_melt[['year', 'artist', 'track', 'time']] # only take these columns",
      "execution_count": 87,
      "outputs": []
    },
    {
      "cell_type": "code",
      "metadata": {
        "tags": [],
        "cell_id": "00058-5f781978-e776-47a6-9de5-f22d2f192158",
        "deepnote_to_be_reexecuted": false,
        "source_hash": "5919101a",
        "execution_start": 1620041234941,
        "execution_millis": 31,
        "deepnote_cell_type": "code"
      },
      "source": "billboard_songs.head() # confirm",
      "execution_count": 88,
      "outputs": [
        {
          "output_type": "execute_result",
          "execution_count": 88,
          "data": {
            "application/vnd.deepnote.dataframe.v2+json": {
              "row_count": 5,
              "column_count": 4,
              "columns": [
                {
                  "name": "year",
                  "dtype": "int64",
                  "stats": {
                    "unique_count": 1,
                    "nan_count": 0,
                    "min": "2000",
                    "max": "2000",
                    "histogram": [
                      {
                        "bin_start": 1999.5,
                        "bin_end": 1999.6,
                        "count": 0
                      },
                      {
                        "bin_start": 1999.6,
                        "bin_end": 1999.7,
                        "count": 0
                      },
                      {
                        "bin_start": 1999.7,
                        "bin_end": 1999.8,
                        "count": 0
                      },
                      {
                        "bin_start": 1999.8,
                        "bin_end": 1999.9,
                        "count": 0
                      },
                      {
                        "bin_start": 1999.9,
                        "bin_end": 2000,
                        "count": 0
                      },
                      {
                        "bin_start": 2000,
                        "bin_end": 2000.1,
                        "count": 5
                      },
                      {
                        "bin_start": 2000.1,
                        "bin_end": 2000.2,
                        "count": 0
                      },
                      {
                        "bin_start": 2000.2,
                        "bin_end": 2000.3,
                        "count": 0
                      },
                      {
                        "bin_start": 2000.3,
                        "bin_end": 2000.4,
                        "count": 0
                      },
                      {
                        "bin_start": 2000.4,
                        "bin_end": 2000.5,
                        "count": 0
                      }
                    ]
                  }
                },
                {
                  "name": "artist",
                  "dtype": "object",
                  "stats": {
                    "unique_count": 4,
                    "nan_count": 0,
                    "categories": [
                      {
                        "name": "3 Doors Down",
                        "count": 2
                      },
                      {
                        "name": "2 Pac",
                        "count": 1
                      },
                      {
                        "name": "2 others",
                        "count": 2
                      }
                    ]
                  }
                },
                {
                  "name": "track",
                  "dtype": "object",
                  "stats": {
                    "unique_count": 5,
                    "nan_count": 0,
                    "categories": [
                      {
                        "name": "Baby Don't Cry (Keep...",
                        "count": 1
                      },
                      {
                        "name": "The Hardest Part Of ...",
                        "count": 1
                      },
                      {
                        "name": "3 others",
                        "count": 3
                      }
                    ]
                  }
                },
                {
                  "name": "time",
                  "dtype": "object",
                  "stats": {
                    "unique_count": 5,
                    "nan_count": 0,
                    "categories": [
                      {
                        "name": "4:22",
                        "count": 1
                      },
                      {
                        "name": "3:15",
                        "count": 1
                      },
                      {
                        "name": "3 others",
                        "count": 3
                      }
                    ]
                  }
                },
                {
                  "name": "_deepnote_index_column",
                  "dtype": "int64"
                }
              ],
              "rows_top": [
                {
                  "year": 2000,
                  "artist": "2 Pac",
                  "track": "Baby Don't Cry (Keep...",
                  "time": "4:22",
                  "_deepnote_index_column": 0
                },
                {
                  "year": 2000,
                  "artist": "2Ge+her",
                  "track": "The Hardest Part Of ...",
                  "time": "3:15",
                  "_deepnote_index_column": 1
                },
                {
                  "year": 2000,
                  "artist": "3 Doors Down",
                  "track": "Kryptonite",
                  "time": "3:53",
                  "_deepnote_index_column": 2
                },
                {
                  "year": 2000,
                  "artist": "3 Doors Down",
                  "track": "Loser",
                  "time": "4:24",
                  "_deepnote_index_column": 3
                },
                {
                  "year": 2000,
                  "artist": "504 Boyz",
                  "track": "Wobble Wobble",
                  "time": "3:35",
                  "_deepnote_index_column": 4
                }
              ],
              "rows_bottom": null
            },
            "text/plain": "   year        artist                    track  time\n0  2000         2 Pac  Baby Don't Cry (Keep...  4:22\n1  2000       2Ge+her  The Hardest Part Of ...  3:15\n2  2000  3 Doors Down               Kryptonite  3:53\n3  2000  3 Doors Down                    Loser  4:24\n4  2000      504 Boyz            Wobble Wobble  3:35",
            "text/html": "<div>\n<style scoped>\n    .dataframe tbody tr th:only-of-type {\n        vertical-align: middle;\n    }\n\n    .dataframe tbody tr th {\n        vertical-align: top;\n    }\n\n    .dataframe thead th {\n        text-align: right;\n    }\n</style>\n<table border=\"1\" class=\"dataframe\">\n  <thead>\n    <tr style=\"text-align: right;\">\n      <th></th>\n      <th>year</th>\n      <th>artist</th>\n      <th>track</th>\n      <th>time</th>\n    </tr>\n  </thead>\n  <tbody>\n    <tr>\n      <th>0</th>\n      <td>2000</td>\n      <td>2 Pac</td>\n      <td>Baby Don't Cry (Keep...</td>\n      <td>4:22</td>\n    </tr>\n    <tr>\n      <th>1</th>\n      <td>2000</td>\n      <td>2Ge+her</td>\n      <td>The Hardest Part Of ...</td>\n      <td>3:15</td>\n    </tr>\n    <tr>\n      <th>2</th>\n      <td>2000</td>\n      <td>3 Doors Down</td>\n      <td>Kryptonite</td>\n      <td>3:53</td>\n    </tr>\n    <tr>\n      <th>3</th>\n      <td>2000</td>\n      <td>3 Doors Down</td>\n      <td>Loser</td>\n      <td>4:24</td>\n    </tr>\n    <tr>\n      <th>4</th>\n      <td>2000</td>\n      <td>504 Boyz</td>\n      <td>Wobble Wobble</td>\n      <td>3:35</td>\n    </tr>\n  </tbody>\n</table>\n</div>"
          },
          "metadata": {}
        }
      ]
    },
    {
      "cell_type": "code",
      "metadata": {
        "tags": [],
        "cell_id": "00059-b7a0230d-98df-4a89-aaf5-698dde1d95a0",
        "deepnote_to_be_reexecuted": false,
        "source_hash": "99ebd66a",
        "execution_start": 1620041264681,
        "execution_millis": 10,
        "deepnote_cell_type": "code"
      },
      "source": "billboard_songs.shape # rows and columns",
      "execution_count": 90,
      "outputs": [
        {
          "output_type": "execute_result",
          "execution_count": 90,
          "data": {
            "text/plain": "(24092, 4)"
          },
          "metadata": {}
        }
      ]
    },
    {
      "cell_type": "code",
      "metadata": {
        "tags": [],
        "cell_id": "00060-b652b8b0-65f9-40c1-b1b8-8241e3a901c4",
        "deepnote_to_be_reexecuted": false,
        "source_hash": "7c9bd220",
        "execution_start": 1620041276561,
        "execution_millis": 1,
        "deepnote_cell_type": "code"
      },
      "source": "billboard_songs=billboard_songs.drop_duplicates() # get rid of the duplicates",
      "execution_count": 91,
      "outputs": []
    },
    {
      "cell_type": "code",
      "metadata": {
        "tags": [],
        "cell_id": "00061-e6b07917-ccfe-4734-a733-8d49239cd92a",
        "deepnote_to_be_reexecuted": false,
        "source_hash": "e98bc886",
        "execution_start": 1620041289225,
        "execution_millis": 8,
        "deepnote_cell_type": "code"
      },
      "source": "billboard_songs.shape # now the storage is better",
      "execution_count": 92,
      "outputs": [
        {
          "output_type": "execute_result",
          "execution_count": 92,
          "data": {
            "text/plain": "(317, 4)"
          },
          "metadata": {}
        }
      ]
    },
    {
      "cell_type": "markdown",
      "source": "## 7. Combining datasets",
      "metadata": {
        "tags": [],
        "cell_id": "00062-9c8c098e-6e80-4f6a-8d0f-9c9342b7bea7",
        "deepnote_cell_type": "markdown"
      }
    },
    {
      "cell_type": "code",
      "metadata": {
        "tags": [],
        "cell_id": "00063-b42b744c-36ba-4f41-843f-2bdb1e92c82c",
        "deepnote_to_be_reexecuted": false,
        "source_hash": "9f445bb2",
        "execution_start": 1620041443743,
        "execution_millis": 1,
        "deepnote_cell_type": "code"
      },
      "source": "billboard_songs['id']=range((len(billboard_songs))) #creating a key",
      "execution_count": 95,
      "outputs": []
    },
    {
      "cell_type": "code",
      "metadata": {
        "tags": [],
        "cell_id": "00064-cb1f1dcb-5b17-45f7-9f33-dae6d4c627e1",
        "deepnote_to_be_reexecuted": false,
        "source_hash": "42633652",
        "execution_start": 1620041470840,
        "execution_millis": 20,
        "deepnote_cell_type": "code"
      },
      "source": "billboard_songs.head()#confirm weather column was created",
      "execution_count": 96,
      "outputs": [
        {
          "output_type": "execute_result",
          "execution_count": 96,
          "data": {
            "application/vnd.deepnote.dataframe.v2+json": {
              "row_count": 5,
              "column_count": 5,
              "columns": [
                {
                  "name": "year",
                  "dtype": "int64",
                  "stats": {
                    "unique_count": 1,
                    "nan_count": 0,
                    "min": "2000",
                    "max": "2000",
                    "histogram": [
                      {
                        "bin_start": 1999.5,
                        "bin_end": 1999.6,
                        "count": 0
                      },
                      {
                        "bin_start": 1999.6,
                        "bin_end": 1999.7,
                        "count": 0
                      },
                      {
                        "bin_start": 1999.7,
                        "bin_end": 1999.8,
                        "count": 0
                      },
                      {
                        "bin_start": 1999.8,
                        "bin_end": 1999.9,
                        "count": 0
                      },
                      {
                        "bin_start": 1999.9,
                        "bin_end": 2000,
                        "count": 0
                      },
                      {
                        "bin_start": 2000,
                        "bin_end": 2000.1,
                        "count": 5
                      },
                      {
                        "bin_start": 2000.1,
                        "bin_end": 2000.2,
                        "count": 0
                      },
                      {
                        "bin_start": 2000.2,
                        "bin_end": 2000.3,
                        "count": 0
                      },
                      {
                        "bin_start": 2000.3,
                        "bin_end": 2000.4,
                        "count": 0
                      },
                      {
                        "bin_start": 2000.4,
                        "bin_end": 2000.5,
                        "count": 0
                      }
                    ]
                  }
                },
                {
                  "name": "artist",
                  "dtype": "object",
                  "stats": {
                    "unique_count": 4,
                    "nan_count": 0,
                    "categories": [
                      {
                        "name": "3 Doors Down",
                        "count": 2
                      },
                      {
                        "name": "2 Pac",
                        "count": 1
                      },
                      {
                        "name": "2 others",
                        "count": 2
                      }
                    ]
                  }
                },
                {
                  "name": "track",
                  "dtype": "object",
                  "stats": {
                    "unique_count": 5,
                    "nan_count": 0,
                    "categories": [
                      {
                        "name": "Baby Don't Cry (Keep...",
                        "count": 1
                      },
                      {
                        "name": "The Hardest Part Of ...",
                        "count": 1
                      },
                      {
                        "name": "3 others",
                        "count": 3
                      }
                    ]
                  }
                },
                {
                  "name": "time",
                  "dtype": "object",
                  "stats": {
                    "unique_count": 5,
                    "nan_count": 0,
                    "categories": [
                      {
                        "name": "4:22",
                        "count": 1
                      },
                      {
                        "name": "3:15",
                        "count": 1
                      },
                      {
                        "name": "3 others",
                        "count": 3
                      }
                    ]
                  }
                },
                {
                  "name": "id",
                  "dtype": "int64",
                  "stats": {
                    "unique_count": 5,
                    "nan_count": 0,
                    "min": "0",
                    "max": "4",
                    "histogram": [
                      {
                        "bin_start": 0,
                        "bin_end": 0.4,
                        "count": 1
                      },
                      {
                        "bin_start": 0.4,
                        "bin_end": 0.8,
                        "count": 0
                      },
                      {
                        "bin_start": 0.8,
                        "bin_end": 1.2000000000000002,
                        "count": 1
                      },
                      {
                        "bin_start": 1.2000000000000002,
                        "bin_end": 1.6,
                        "count": 0
                      },
                      {
                        "bin_start": 1.6,
                        "bin_end": 2,
                        "count": 0
                      },
                      {
                        "bin_start": 2,
                        "bin_end": 2.4000000000000004,
                        "count": 1
                      },
                      {
                        "bin_start": 2.4000000000000004,
                        "bin_end": 2.8000000000000003,
                        "count": 0
                      },
                      {
                        "bin_start": 2.8000000000000003,
                        "bin_end": 3.2,
                        "count": 1
                      },
                      {
                        "bin_start": 3.2,
                        "bin_end": 3.6,
                        "count": 0
                      },
                      {
                        "bin_start": 3.6,
                        "bin_end": 4,
                        "count": 1
                      }
                    ]
                  }
                },
                {
                  "name": "_deepnote_index_column",
                  "dtype": "int64"
                }
              ],
              "rows_top": [
                {
                  "year": 2000,
                  "artist": "2 Pac",
                  "track": "Baby Don't Cry (Keep...",
                  "time": "4:22",
                  "id": 0,
                  "_deepnote_index_column": 0
                },
                {
                  "year": 2000,
                  "artist": "2Ge+her",
                  "track": "The Hardest Part Of ...",
                  "time": "3:15",
                  "id": 1,
                  "_deepnote_index_column": 1
                },
                {
                  "year": 2000,
                  "artist": "3 Doors Down",
                  "track": "Kryptonite",
                  "time": "3:53",
                  "id": 2,
                  "_deepnote_index_column": 2
                },
                {
                  "year": 2000,
                  "artist": "3 Doors Down",
                  "track": "Loser",
                  "time": "4:24",
                  "id": 3,
                  "_deepnote_index_column": 3
                },
                {
                  "year": 2000,
                  "artist": "504 Boyz",
                  "track": "Wobble Wobble",
                  "time": "3:35",
                  "id": 4,
                  "_deepnote_index_column": 4
                }
              ],
              "rows_bottom": null
            },
            "text/plain": "   year        artist                    track  time  id\n0  2000         2 Pac  Baby Don't Cry (Keep...  4:22   0\n1  2000       2Ge+her  The Hardest Part Of ...  3:15   1\n2  2000  3 Doors Down               Kryptonite  3:53   2\n3  2000  3 Doors Down                    Loser  4:24   3\n4  2000      504 Boyz            Wobble Wobble  3:35   4",
            "text/html": "<div>\n<style scoped>\n    .dataframe tbody tr th:only-of-type {\n        vertical-align: middle;\n    }\n\n    .dataframe tbody tr th {\n        vertical-align: top;\n    }\n\n    .dataframe thead th {\n        text-align: right;\n    }\n</style>\n<table border=\"1\" class=\"dataframe\">\n  <thead>\n    <tr style=\"text-align: right;\">\n      <th></th>\n      <th>year</th>\n      <th>artist</th>\n      <th>track</th>\n      <th>time</th>\n      <th>id</th>\n    </tr>\n  </thead>\n  <tbody>\n    <tr>\n      <th>0</th>\n      <td>2000</td>\n      <td>2 Pac</td>\n      <td>Baby Don't Cry (Keep...</td>\n      <td>4:22</td>\n      <td>0</td>\n    </tr>\n    <tr>\n      <th>1</th>\n      <td>2000</td>\n      <td>2Ge+her</td>\n      <td>The Hardest Part Of ...</td>\n      <td>3:15</td>\n      <td>1</td>\n    </tr>\n    <tr>\n      <th>2</th>\n      <td>2000</td>\n      <td>3 Doors Down</td>\n      <td>Kryptonite</td>\n      <td>3:53</td>\n      <td>2</td>\n    </tr>\n    <tr>\n      <th>3</th>\n      <td>2000</td>\n      <td>3 Doors Down</td>\n      <td>Loser</td>\n      <td>4:24</td>\n      <td>3</td>\n    </tr>\n    <tr>\n      <th>4</th>\n      <td>2000</td>\n      <td>504 Boyz</td>\n      <td>Wobble Wobble</td>\n      <td>3:35</td>\n      <td>4</td>\n    </tr>\n  </tbody>\n</table>\n</div>"
          },
          "metadata": {}
        }
      ]
    },
    {
      "cell_type": "code",
      "metadata": {
        "tags": [],
        "cell_id": "00065-32f646e1-2c3e-4c16-a3a5-9970a268ab71",
        "deepnote_to_be_reexecuted": false,
        "source_hash": "9b351f1",
        "execution_start": 1620041647877,
        "execution_millis": 1,
        "deepnote_cell_type": "code"
      },
      "source": "billboard_songs.to_csv('billboard_songs.csv',index=False ) #save data use index=False to avoid the numbers",
      "execution_count": 97,
      "outputs": []
    },
    {
      "cell_type": "code",
      "metadata": {
        "tags": [],
        "cell_id": "00066-28d94c5b-8bfe-47cf-8e63-5cc0bb80e63a",
        "deepnote_to_be_reexecuted": false,
        "source_hash": "949837dc",
        "execution_start": 1620041856637,
        "execution_millis": 1,
        "deepnote_cell_type": "code"
      },
      "source": "billboard_raitings=billboard_melt.merge(\n    billboard_songs, on=['year', 'artist', 'track', 'time']\n)# this is to get the id column",
      "execution_count": 99,
      "outputs": []
    },
    {
      "cell_type": "code",
      "metadata": {
        "tags": [],
        "cell_id": "00067-2a2a73d7-6233-46d4-aa66-e9026afeee9c",
        "deepnote_to_be_reexecuted": false,
        "source_hash": "37d5cadb",
        "execution_start": 1620041872936,
        "execution_millis": 41,
        "deepnote_cell_type": "code"
      },
      "source": "billboard_raitings.head()# confirm",
      "execution_count": 100,
      "outputs": [
        {
          "output_type": "execute_result",
          "execution_count": 100,
          "data": {
            "application/vnd.deepnote.dataframe.v2+json": {
              "row_count": 5,
              "column_count": 8,
              "columns": [
                {
                  "name": "year",
                  "dtype": "int64",
                  "stats": {
                    "unique_count": 1,
                    "nan_count": 0,
                    "min": "2000",
                    "max": "2000",
                    "histogram": [
                      {
                        "bin_start": 1999.5,
                        "bin_end": 1999.6,
                        "count": 0
                      },
                      {
                        "bin_start": 1999.6,
                        "bin_end": 1999.7,
                        "count": 0
                      },
                      {
                        "bin_start": 1999.7,
                        "bin_end": 1999.8,
                        "count": 0
                      },
                      {
                        "bin_start": 1999.8,
                        "bin_end": 1999.9,
                        "count": 0
                      },
                      {
                        "bin_start": 1999.9,
                        "bin_end": 2000,
                        "count": 0
                      },
                      {
                        "bin_start": 2000,
                        "bin_end": 2000.1,
                        "count": 5
                      },
                      {
                        "bin_start": 2000.1,
                        "bin_end": 2000.2,
                        "count": 0
                      },
                      {
                        "bin_start": 2000.2,
                        "bin_end": 2000.3,
                        "count": 0
                      },
                      {
                        "bin_start": 2000.3,
                        "bin_end": 2000.4,
                        "count": 0
                      },
                      {
                        "bin_start": 2000.4,
                        "bin_end": 2000.5,
                        "count": 0
                      }
                    ]
                  }
                },
                {
                  "name": "artist",
                  "dtype": "object",
                  "stats": {
                    "unique_count": 1,
                    "nan_count": 0,
                    "categories": [
                      {
                        "name": "2 Pac",
                        "count": 5
                      }
                    ]
                  }
                },
                {
                  "name": "track",
                  "dtype": "object",
                  "stats": {
                    "unique_count": 1,
                    "nan_count": 0,
                    "categories": [
                      {
                        "name": "Baby Don't Cry (Keep...",
                        "count": 5
                      }
                    ]
                  }
                },
                {
                  "name": "time",
                  "dtype": "object",
                  "stats": {
                    "unique_count": 1,
                    "nan_count": 0,
                    "categories": [
                      {
                        "name": "4:22",
                        "count": 5
                      }
                    ]
                  }
                },
                {
                  "name": "date.entered",
                  "dtype": "object",
                  "stats": {
                    "unique_count": 1,
                    "nan_count": 0,
                    "categories": [
                      {
                        "name": "2000-02-26",
                        "count": 5
                      }
                    ]
                  }
                },
                {
                  "name": "week",
                  "dtype": "object",
                  "stats": {
                    "unique_count": 5,
                    "nan_count": 0,
                    "categories": [
                      {
                        "name": "wk1",
                        "count": 1
                      },
                      {
                        "name": "wk2",
                        "count": 1
                      },
                      {
                        "name": "3 others",
                        "count": 3
                      }
                    ]
                  }
                },
                {
                  "name": "rating",
                  "dtype": "float64",
                  "stats": {
                    "unique_count": 4,
                    "nan_count": 0,
                    "min": "72.0",
                    "max": "87.0",
                    "histogram": [
                      {
                        "bin_start": 72,
                        "bin_end": 73.5,
                        "count": 1
                      },
                      {
                        "bin_start": 73.5,
                        "bin_end": 75,
                        "count": 0
                      },
                      {
                        "bin_start": 75,
                        "bin_end": 76.5,
                        "count": 0
                      },
                      {
                        "bin_start": 76.5,
                        "bin_end": 78,
                        "count": 1
                      },
                      {
                        "bin_start": 78,
                        "bin_end": 79.5,
                        "count": 0
                      },
                      {
                        "bin_start": 79.5,
                        "bin_end": 81,
                        "count": 0
                      },
                      {
                        "bin_start": 81,
                        "bin_end": 82.5,
                        "count": 1
                      },
                      {
                        "bin_start": 82.5,
                        "bin_end": 84,
                        "count": 0
                      },
                      {
                        "bin_start": 84,
                        "bin_end": 85.5,
                        "count": 0
                      },
                      {
                        "bin_start": 85.5,
                        "bin_end": 87,
                        "count": 2
                      }
                    ]
                  }
                },
                {
                  "name": "id",
                  "dtype": "int64",
                  "stats": {
                    "unique_count": 1,
                    "nan_count": 0,
                    "min": "0",
                    "max": "0",
                    "histogram": [
                      {
                        "bin_start": -0.5,
                        "bin_end": -0.4,
                        "count": 0
                      },
                      {
                        "bin_start": -0.4,
                        "bin_end": -0.3,
                        "count": 0
                      },
                      {
                        "bin_start": -0.3,
                        "bin_end": -0.19999999999999996,
                        "count": 0
                      },
                      {
                        "bin_start": -0.19999999999999996,
                        "bin_end": -0.09999999999999998,
                        "count": 0
                      },
                      {
                        "bin_start": -0.09999999999999998,
                        "bin_end": 0,
                        "count": 0
                      },
                      {
                        "bin_start": 0,
                        "bin_end": 0.10000000000000009,
                        "count": 5
                      },
                      {
                        "bin_start": 0.10000000000000009,
                        "bin_end": 0.20000000000000007,
                        "count": 0
                      },
                      {
                        "bin_start": 0.20000000000000007,
                        "bin_end": 0.30000000000000004,
                        "count": 0
                      },
                      {
                        "bin_start": 0.30000000000000004,
                        "bin_end": 0.4,
                        "count": 0
                      },
                      {
                        "bin_start": 0.4,
                        "bin_end": 0.5,
                        "count": 0
                      }
                    ]
                  }
                },
                {
                  "name": "_deepnote_index_column",
                  "dtype": "int64"
                }
              ],
              "rows_top": [
                {
                  "year": 2000,
                  "artist": "2 Pac",
                  "track": "Baby Don't Cry (Keep...",
                  "time": "4:22",
                  "date.entered": "2000-02-26",
                  "week": "wk1",
                  "rating": 87,
                  "id": 0,
                  "_deepnote_index_column": 0
                },
                {
                  "year": 2000,
                  "artist": "2 Pac",
                  "track": "Baby Don't Cry (Keep...",
                  "time": "4:22",
                  "date.entered": "2000-02-26",
                  "week": "wk2",
                  "rating": 82,
                  "id": 0,
                  "_deepnote_index_column": 1
                },
                {
                  "year": 2000,
                  "artist": "2 Pac",
                  "track": "Baby Don't Cry (Keep...",
                  "time": "4:22",
                  "date.entered": "2000-02-26",
                  "week": "wk3",
                  "rating": 72,
                  "id": 0,
                  "_deepnote_index_column": 2
                },
                {
                  "year": 2000,
                  "artist": "2 Pac",
                  "track": "Baby Don't Cry (Keep...",
                  "time": "4:22",
                  "date.entered": "2000-02-26",
                  "week": "wk4",
                  "rating": 77,
                  "id": 0,
                  "_deepnote_index_column": 3
                },
                {
                  "year": 2000,
                  "artist": "2 Pac",
                  "track": "Baby Don't Cry (Keep...",
                  "time": "4:22",
                  "date.entered": "2000-02-26",
                  "week": "wk5",
                  "rating": 87,
                  "id": 0,
                  "_deepnote_index_column": 4
                }
              ],
              "rows_bottom": null
            },
            "text/plain": "   year artist                    track  time date.entered week  rating  id\n0  2000  2 Pac  Baby Don't Cry (Keep...  4:22   2000-02-26  wk1    87.0   0\n1  2000  2 Pac  Baby Don't Cry (Keep...  4:22   2000-02-26  wk2    82.0   0\n2  2000  2 Pac  Baby Don't Cry (Keep...  4:22   2000-02-26  wk3    72.0   0\n3  2000  2 Pac  Baby Don't Cry (Keep...  4:22   2000-02-26  wk4    77.0   0\n4  2000  2 Pac  Baby Don't Cry (Keep...  4:22   2000-02-26  wk5    87.0   0",
            "text/html": "<div>\n<style scoped>\n    .dataframe tbody tr th:only-of-type {\n        vertical-align: middle;\n    }\n\n    .dataframe tbody tr th {\n        vertical-align: top;\n    }\n\n    .dataframe thead th {\n        text-align: right;\n    }\n</style>\n<table border=\"1\" class=\"dataframe\">\n  <thead>\n    <tr style=\"text-align: right;\">\n      <th></th>\n      <th>year</th>\n      <th>artist</th>\n      <th>track</th>\n      <th>time</th>\n      <th>date.entered</th>\n      <th>week</th>\n      <th>rating</th>\n      <th>id</th>\n    </tr>\n  </thead>\n  <tbody>\n    <tr>\n      <th>0</th>\n      <td>2000</td>\n      <td>2 Pac</td>\n      <td>Baby Don't Cry (Keep...</td>\n      <td>4:22</td>\n      <td>2000-02-26</td>\n      <td>wk1</td>\n      <td>87.0</td>\n      <td>0</td>\n    </tr>\n    <tr>\n      <th>1</th>\n      <td>2000</td>\n      <td>2 Pac</td>\n      <td>Baby Don't Cry (Keep...</td>\n      <td>4:22</td>\n      <td>2000-02-26</td>\n      <td>wk2</td>\n      <td>82.0</td>\n      <td>0</td>\n    </tr>\n    <tr>\n      <th>2</th>\n      <td>2000</td>\n      <td>2 Pac</td>\n      <td>Baby Don't Cry (Keep...</td>\n      <td>4:22</td>\n      <td>2000-02-26</td>\n      <td>wk3</td>\n      <td>72.0</td>\n      <td>0</td>\n    </tr>\n    <tr>\n      <th>3</th>\n      <td>2000</td>\n      <td>2 Pac</td>\n      <td>Baby Don't Cry (Keep...</td>\n      <td>4:22</td>\n      <td>2000-02-26</td>\n      <td>wk4</td>\n      <td>77.0</td>\n      <td>0</td>\n    </tr>\n    <tr>\n      <th>4</th>\n      <td>2000</td>\n      <td>2 Pac</td>\n      <td>Baby Don't Cry (Keep...</td>\n      <td>4:22</td>\n      <td>2000-02-26</td>\n      <td>wk5</td>\n      <td>87.0</td>\n      <td>0</td>\n    </tr>\n  </tbody>\n</table>\n</div>"
          },
          "metadata": {}
        }
      ]
    },
    {
      "cell_type": "code",
      "metadata": {
        "tags": [],
        "cell_id": "00068-e70c3c72-e016-4442-b105-cf1501989ae2",
        "deepnote_to_be_reexecuted": false,
        "source_hash": "518e8682",
        "execution_start": 1620042035714,
        "execution_millis": 4,
        "deepnote_cell_type": "code"
      },
      "source": "billboard_raitings=billboard_raitings[['id', 'date.entered', 'week','rating']] #select the columns we care about",
      "execution_count": 103,
      "outputs": []
    },
    {
      "cell_type": "code",
      "metadata": {
        "tags": [],
        "cell_id": "00069-d5951517-8655-4dcb-8e33-059cd8b7fa95",
        "deepnote_to_be_reexecuted": false,
        "source_hash": "b8c6bde9",
        "execution_start": 1620042062162,
        "execution_millis": 9,
        "deepnote_cell_type": "code"
      },
      "source": "billboard_raitings.head() #confirm",
      "execution_count": 104,
      "outputs": [
        {
          "output_type": "execute_result",
          "execution_count": 104,
          "data": {
            "application/vnd.deepnote.dataframe.v2+json": {
              "row_count": 5,
              "column_count": 4,
              "columns": [
                {
                  "name": "id",
                  "dtype": "int64",
                  "stats": {
                    "unique_count": 1,
                    "nan_count": 0,
                    "min": "0",
                    "max": "0",
                    "histogram": [
                      {
                        "bin_start": -0.5,
                        "bin_end": -0.4,
                        "count": 0
                      },
                      {
                        "bin_start": -0.4,
                        "bin_end": -0.3,
                        "count": 0
                      },
                      {
                        "bin_start": -0.3,
                        "bin_end": -0.19999999999999996,
                        "count": 0
                      },
                      {
                        "bin_start": -0.19999999999999996,
                        "bin_end": -0.09999999999999998,
                        "count": 0
                      },
                      {
                        "bin_start": -0.09999999999999998,
                        "bin_end": 0,
                        "count": 0
                      },
                      {
                        "bin_start": 0,
                        "bin_end": 0.10000000000000009,
                        "count": 5
                      },
                      {
                        "bin_start": 0.10000000000000009,
                        "bin_end": 0.20000000000000007,
                        "count": 0
                      },
                      {
                        "bin_start": 0.20000000000000007,
                        "bin_end": 0.30000000000000004,
                        "count": 0
                      },
                      {
                        "bin_start": 0.30000000000000004,
                        "bin_end": 0.4,
                        "count": 0
                      },
                      {
                        "bin_start": 0.4,
                        "bin_end": 0.5,
                        "count": 0
                      }
                    ]
                  }
                },
                {
                  "name": "date.entered",
                  "dtype": "object",
                  "stats": {
                    "unique_count": 1,
                    "nan_count": 0,
                    "categories": [
                      {
                        "name": "2000-02-26",
                        "count": 5
                      }
                    ]
                  }
                },
                {
                  "name": "week",
                  "dtype": "object",
                  "stats": {
                    "unique_count": 5,
                    "nan_count": 0,
                    "categories": [
                      {
                        "name": "wk1",
                        "count": 1
                      },
                      {
                        "name": "wk2",
                        "count": 1
                      },
                      {
                        "name": "3 others",
                        "count": 3
                      }
                    ]
                  }
                },
                {
                  "name": "rating",
                  "dtype": "float64",
                  "stats": {
                    "unique_count": 4,
                    "nan_count": 0,
                    "min": "72.0",
                    "max": "87.0",
                    "histogram": [
                      {
                        "bin_start": 72,
                        "bin_end": 73.5,
                        "count": 1
                      },
                      {
                        "bin_start": 73.5,
                        "bin_end": 75,
                        "count": 0
                      },
                      {
                        "bin_start": 75,
                        "bin_end": 76.5,
                        "count": 0
                      },
                      {
                        "bin_start": 76.5,
                        "bin_end": 78,
                        "count": 1
                      },
                      {
                        "bin_start": 78,
                        "bin_end": 79.5,
                        "count": 0
                      },
                      {
                        "bin_start": 79.5,
                        "bin_end": 81,
                        "count": 0
                      },
                      {
                        "bin_start": 81,
                        "bin_end": 82.5,
                        "count": 1
                      },
                      {
                        "bin_start": 82.5,
                        "bin_end": 84,
                        "count": 0
                      },
                      {
                        "bin_start": 84,
                        "bin_end": 85.5,
                        "count": 0
                      },
                      {
                        "bin_start": 85.5,
                        "bin_end": 87,
                        "count": 2
                      }
                    ]
                  }
                },
                {
                  "name": "_deepnote_index_column",
                  "dtype": "int64"
                }
              ],
              "rows_top": [
                {
                  "id": 0,
                  "date.entered": "2000-02-26",
                  "week": "wk1",
                  "rating": 87,
                  "_deepnote_index_column": 0
                },
                {
                  "id": 0,
                  "date.entered": "2000-02-26",
                  "week": "wk2",
                  "rating": 82,
                  "_deepnote_index_column": 1
                },
                {
                  "id": 0,
                  "date.entered": "2000-02-26",
                  "week": "wk3",
                  "rating": 72,
                  "_deepnote_index_column": 2
                },
                {
                  "id": 0,
                  "date.entered": "2000-02-26",
                  "week": "wk4",
                  "rating": 77,
                  "_deepnote_index_column": 3
                },
                {
                  "id": 0,
                  "date.entered": "2000-02-26",
                  "week": "wk5",
                  "rating": 87,
                  "_deepnote_index_column": 4
                }
              ],
              "rows_bottom": null
            },
            "text/plain": "   id date.entered week  rating\n0   0   2000-02-26  wk1    87.0\n1   0   2000-02-26  wk2    82.0\n2   0   2000-02-26  wk3    72.0\n3   0   2000-02-26  wk4    77.0\n4   0   2000-02-26  wk5    87.0",
            "text/html": "<div>\n<style scoped>\n    .dataframe tbody tr th:only-of-type {\n        vertical-align: middle;\n    }\n\n    .dataframe tbody tr th {\n        vertical-align: top;\n    }\n\n    .dataframe thead th {\n        text-align: right;\n    }\n</style>\n<table border=\"1\" class=\"dataframe\">\n  <thead>\n    <tr style=\"text-align: right;\">\n      <th></th>\n      <th>id</th>\n      <th>date.entered</th>\n      <th>week</th>\n      <th>rating</th>\n    </tr>\n  </thead>\n  <tbody>\n    <tr>\n      <th>0</th>\n      <td>0</td>\n      <td>2000-02-26</td>\n      <td>wk1</td>\n      <td>87.0</td>\n    </tr>\n    <tr>\n      <th>1</th>\n      <td>0</td>\n      <td>2000-02-26</td>\n      <td>wk2</td>\n      <td>82.0</td>\n    </tr>\n    <tr>\n      <th>2</th>\n      <td>0</td>\n      <td>2000-02-26</td>\n      <td>wk3</td>\n      <td>72.0</td>\n    </tr>\n    <tr>\n      <th>3</th>\n      <td>0</td>\n      <td>2000-02-26</td>\n      <td>wk4</td>\n      <td>77.0</td>\n    </tr>\n    <tr>\n      <th>4</th>\n      <td>0</td>\n      <td>2000-02-26</td>\n      <td>wk5</td>\n      <td>87.0</td>\n    </tr>\n  </tbody>\n</table>\n</div>"
          },
          "metadata": {}
        }
      ]
    },
    {
      "cell_type": "code",
      "metadata": {
        "tags": [],
        "cell_id": "00070-0bd3acd2-2656-43ad-b966-6ef8989d927b",
        "deepnote_to_be_reexecuted": false,
        "source_hash": "afb1b204",
        "execution_start": 1620042184438,
        "execution_millis": 5,
        "deepnote_cell_type": "code"
      },
      "source": "billboard_raitings=billboard_raitings.drop_duplicates() #drop duplicates if any",
      "execution_count": 105,
      "outputs": []
    },
    {
      "cell_type": "code",
      "metadata": {
        "tags": [],
        "cell_id": "00071-124a8450-fec6-41a2-8267-1780da5b37f2",
        "deepnote_to_be_reexecuted": false,
        "source_hash": "b3298696",
        "execution_start": 1620042250135,
        "execution_millis": 45,
        "deepnote_cell_type": "code"
      },
      "source": "billboard_raitings.to_csv('billboard_rating.csv', index=False)# save",
      "execution_count": 106,
      "outputs": []
    },
    {
      "cell_type": "code",
      "metadata": {
        "tags": [],
        "cell_id": "00072-9a548462-72a3-4822-8b25-622009e29611",
        "deepnote_to_be_reexecuted": false,
        "source_hash": "38dc0716",
        "execution_start": 1620042320526,
        "execution_millis": 45,
        "deepnote_cell_type": "code"
      },
      "source": "billboard_raitings.info()",
      "execution_count": 107,
      "outputs": [
        {
          "name": "stdout",
          "text": "<class 'pandas.core.frame.DataFrame'>\nInt64Index: 24092 entries, 0 to 24091\nData columns (total 4 columns):\n #   Column        Non-Null Count  Dtype  \n---  ------        --------------  -----  \n 0   id            24092 non-null  int64  \n 1   date.entered  24092 non-null  object \n 2   week          24092 non-null  object \n 3   rating        5307 non-null   float64\ndtypes: float64(1), int64(1), object(2)\nmemory usage: 1.4+ MB\n",
          "output_type": "stream"
        }
      ]
    },
    {
      "cell_type": "code",
      "metadata": {
        "tags": [],
        "cell_id": "00073-671d9105-65cc-4a09-a97f-8195729f99a2",
        "deepnote_to_be_reexecuted": false,
        "source_hash": "d94fcda9",
        "execution_start": 1620042341775,
        "execution_millis": 9,
        "deepnote_cell_type": "code"
      },
      "source": "billboard_songs.info()",
      "execution_count": 108,
      "outputs": [
        {
          "name": "stdout",
          "text": "<class 'pandas.core.frame.DataFrame'>\nInt64Index: 317 entries, 0 to 316\nData columns (total 5 columns):\n #   Column  Non-Null Count  Dtype \n---  ------  --------------  ----- \n 0   year    317 non-null    int64 \n 1   artist  317 non-null    object\n 2   track   317 non-null    object\n 3   time    317 non-null    object\n 4   id      317 non-null    int64 \ndtypes: int64(2), object(3)\nmemory usage: 23.0+ KB\n",
          "output_type": "stream"
        }
      ]
    },
    {
      "cell_type": "code",
      "metadata": {
        "tags": [],
        "cell_id": "00074-02001d07-1b3f-44f5-85ad-3d61a1e979e4",
        "deepnote_to_be_reexecuted": false,
        "source_hash": "b6c262a3",
        "execution_start": 1620042424573,
        "execution_millis": 13,
        "deepnote_cell_type": "code"
      },
      "source": "billboard_melt.info()",
      "execution_count": 109,
      "outputs": [
        {
          "name": "stdout",
          "text": "<class 'pandas.core.frame.DataFrame'>\nRangeIndex: 24092 entries, 0 to 24091\nData columns (total 7 columns):\n #   Column        Non-Null Count  Dtype  \n---  ------        --------------  -----  \n 0   year          24092 non-null  int64  \n 1   artist        24092 non-null  object \n 2   track         24092 non-null  object \n 3   time          24092 non-null  object \n 4   date.entered  24092 non-null  object \n 5   week          24092 non-null  object \n 6   rating        5307 non-null   float64\ndtypes: float64(1), int64(1), object(5)\nmemory usage: 1.3+ MB\n",
          "output_type": "stream"
        }
      ]
    },
    {
      "cell_type": "markdown",
      "source": "<a style='text-decoration:none;line-height:16px;display:flex;color:#5B5B62;padding:10px;justify-content:end;' href='https://deepnote.com?utm_source=created-in-deepnote-cell&projectId=78fe3ed8-a981-457c-b44a-76c423bfa7ce' target=\"_blank\">\n<img alt='Created in deepnote.com' style='display:inline;max-height:16px;margin:0px;margin-right:7.5px;' src='data:image/svg+xml;base64,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' > </img>\nCreated in <span style='font-weight:600;margin-left:4px;'>Deepnote</span></a>",
      "metadata": {
        "tags": [],
        "created_in_deepnote_cell": true,
        "deepnote_cell_type": "markdown"
      }
    }
  ],
  "nbformat": 4,
  "nbformat_minor": 2,
  "metadata": {
    "orig_nbformat": 2,
    "deepnote": {
      "is_reactive": false
    },
    "deepnote_notebook_id": "3a375010-32f2-4010-94cd-4152b3439114",
    "deepnote_execution_queue": []
  }
}
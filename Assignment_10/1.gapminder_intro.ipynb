{
  "cells": [
    {
      "cell_type": "markdown",
      "source": "# Assignment 10\n\nName: Shaimar R. González Morales\n\nDate: 5/2/2021",
      "metadata": {
        "tags": [],
        "cell_id": "00000-7d2ace7d-6956-40d3-ac5f-8dc4d9496713",
        "deepnote_cell_type": "markdown"
      }
    },
    {
      "cell_type": "markdown",
      "source": "# Introduction",
      "metadata": {
        "tags": [],
        "cell_id": "00001-4286a363-ee1b-4b25-b51c-64967fcf3061",
        "deepnote_cell_type": "markdown"
      }
    },
    {
      "cell_type": "markdown",
      "source": "Following along:\nDaniel Chen: Cleaning and Tidying Data in Pandas tutorial\n\nhttps://www.youtube.com/watch?v=iYie42M1ZyU",
      "metadata": {
        "tags": [],
        "cell_id": "00001-01591178-d44c-40ee-965a-9dad7a58b8c3",
        "deepnote_cell_type": "markdown"
      }
    },
    {
      "cell_type": "markdown",
      "source": "## 1. Import libraries",
      "metadata": {
        "tags": [],
        "cell_id": "00001-9cb23051-a946-4442-a58f-43f84649deba",
        "deepnote_cell_type": "markdown"
      }
    },
    {
      "cell_type": "code",
      "metadata": {
        "tags": [],
        "cell_id": "00000-09d7b64d-e473-49dc-a2e1-80f4d586d126",
        "deepnote_to_be_reexecuted": false,
        "source_hash": "9b82ee11",
        "execution_start": 1620032810151,
        "execution_millis": 1,
        "deepnote_cell_type": "code"
      },
      "source": "import pandas as pd",
      "execution_count": 1,
      "outputs": []
    },
    {
      "cell_type": "markdown",
      "source": "## 2. Get the data",
      "metadata": {
        "tags": [],
        "cell_id": "00004-3ef0c9fb-a677-4bbb-8b0c-69c63c2e1718",
        "deepnote_cell_type": "markdown"
      }
    },
    {
      "cell_type": "code",
      "metadata": {
        "tags": [],
        "cell_id": "00003-60b19a6c-25d2-415e-90cf-09e7fa94532d",
        "deepnote_to_be_reexecuted": false,
        "source_hash": "3c227cb2",
        "execution_start": 1620032810152,
        "execution_millis": 42,
        "deepnote_cell_type": "code"
      },
      "source": "df=pd.read_csv('/work/gapminder.tsv', sep=\"\\t\")",
      "execution_count": 2,
      "outputs": []
    },
    {
      "cell_type": "markdown",
      "source": "## 3. Explore the data",
      "metadata": {
        "tags": [],
        "cell_id": "00006-26b04ed6-ef7e-4de4-8077-53396e819211",
        "deepnote_cell_type": "markdown"
      }
    },
    {
      "cell_type": "code",
      "metadata": {
        "tags": [],
        "cell_id": "00004-590ce0ae-e3a7-4937-8c7b-bdb9ddfa2a7f",
        "deepnote_to_be_reexecuted": false,
        "source_hash": "d00b6b4e",
        "execution_start": 1620032810194,
        "execution_millis": 82,
        "deepnote_cell_type": "code"
      },
      "source": "df.head() #top 5 values",
      "execution_count": 3,
      "outputs": [
        {
          "output_type": "execute_result",
          "execution_count": 3,
          "data": {
            "application/vnd.deepnote.dataframe.v2+json": {
              "row_count": 5,
              "column_count": 6,
              "columns": [
                {
                  "name": "country",
                  "dtype": "object",
                  "stats": {
                    "unique_count": 1,
                    "nan_count": 0,
                    "categories": [
                      {
                        "name": "Afghanistan",
                        "count": 5
                      }
                    ]
                  }
                },
                {
                  "name": "continent",
                  "dtype": "object",
                  "stats": {
                    "unique_count": 1,
                    "nan_count": 0,
                    "categories": [
                      {
                        "name": "Asia",
                        "count": 5
                      }
                    ]
                  }
                },
                {
                  "name": "year",
                  "dtype": "int64",
                  "stats": {
                    "unique_count": 5,
                    "nan_count": 0,
                    "min": "1952",
                    "max": "1972",
                    "histogram": [
                      {
                        "bin_start": 1952,
                        "bin_end": 1954,
                        "count": 1
                      },
                      {
                        "bin_start": 1954,
                        "bin_end": 1956,
                        "count": 0
                      },
                      {
                        "bin_start": 1956,
                        "bin_end": 1958,
                        "count": 1
                      },
                      {
                        "bin_start": 1958,
                        "bin_end": 1960,
                        "count": 0
                      },
                      {
                        "bin_start": 1960,
                        "bin_end": 1962,
                        "count": 0
                      },
                      {
                        "bin_start": 1962,
                        "bin_end": 1964,
                        "count": 1
                      },
                      {
                        "bin_start": 1964,
                        "bin_end": 1966,
                        "count": 0
                      },
                      {
                        "bin_start": 1966,
                        "bin_end": 1968,
                        "count": 1
                      },
                      {
                        "bin_start": 1968,
                        "bin_end": 1970,
                        "count": 0
                      },
                      {
                        "bin_start": 1970,
                        "bin_end": 1972,
                        "count": 1
                      }
                    ]
                  }
                },
                {
                  "name": "lifeExp",
                  "dtype": "float64",
                  "stats": {
                    "unique_count": 5,
                    "nan_count": 0,
                    "min": "28.801",
                    "max": "36.088",
                    "histogram": [
                      {
                        "bin_start": 28.801,
                        "bin_end": 29.5297,
                        "count": 1
                      },
                      {
                        "bin_start": 29.5297,
                        "bin_end": 30.258399999999998,
                        "count": 0
                      },
                      {
                        "bin_start": 30.258399999999998,
                        "bin_end": 30.987099999999998,
                        "count": 1
                      },
                      {
                        "bin_start": 30.987099999999998,
                        "bin_end": 31.715799999999998,
                        "count": 0
                      },
                      {
                        "bin_start": 31.715799999999998,
                        "bin_end": 32.4445,
                        "count": 1
                      },
                      {
                        "bin_start": 32.4445,
                        "bin_end": 33.1732,
                        "count": 0
                      },
                      {
                        "bin_start": 33.1732,
                        "bin_end": 33.9019,
                        "count": 0
                      },
                      {
                        "bin_start": 33.9019,
                        "bin_end": 34.6306,
                        "count": 1
                      },
                      {
                        "bin_start": 34.6306,
                        "bin_end": 35.3593,
                        "count": 0
                      },
                      {
                        "bin_start": 35.3593,
                        "bin_end": 36.088,
                        "count": 1
                      }
                    ]
                  }
                },
                {
                  "name": "pop",
                  "dtype": "int64",
                  "stats": {
                    "unique_count": 5,
                    "nan_count": 0,
                    "min": "8425333",
                    "max": "13079460",
                    "histogram": [
                      {
                        "bin_start": 8425333,
                        "bin_end": 8890745.7,
                        "count": 1
                      },
                      {
                        "bin_start": 8890745.7,
                        "bin_end": 9356158.4,
                        "count": 1
                      },
                      {
                        "bin_start": 9356158.4,
                        "bin_end": 9821571.1,
                        "count": 0
                      },
                      {
                        "bin_start": 9821571.1,
                        "bin_end": 10286983.8,
                        "count": 1
                      },
                      {
                        "bin_start": 10286983.8,
                        "bin_end": 10752396.5,
                        "count": 0
                      },
                      {
                        "bin_start": 10752396.5,
                        "bin_end": 11217809.2,
                        "count": 0
                      },
                      {
                        "bin_start": 11217809.2,
                        "bin_end": 11683221.9,
                        "count": 1
                      },
                      {
                        "bin_start": 11683221.9,
                        "bin_end": 12148634.6,
                        "count": 0
                      },
                      {
                        "bin_start": 12148634.6,
                        "bin_end": 12614047.3,
                        "count": 0
                      },
                      {
                        "bin_start": 12614047.3,
                        "bin_end": 13079460,
                        "count": 1
                      }
                    ]
                  }
                },
                {
                  "name": "gdpPercap",
                  "dtype": "float64",
                  "stats": {
                    "unique_count": 5,
                    "nan_count": 0,
                    "min": "739.9811058",
                    "max": "853.10071",
                    "histogram": [
                      {
                        "bin_start": 739.9811058,
                        "bin_end": 751.29306622,
                        "count": 1
                      },
                      {
                        "bin_start": 751.29306622,
                        "bin_end": 762.60502664,
                        "count": 0
                      },
                      {
                        "bin_start": 762.60502664,
                        "bin_end": 773.91698706,
                        "count": 0
                      },
                      {
                        "bin_start": 773.91698706,
                        "bin_end": 785.22894748,
                        "count": 1
                      },
                      {
                        "bin_start": 785.22894748,
                        "bin_end": 796.5409079000001,
                        "count": 0
                      },
                      {
                        "bin_start": 796.5409079000001,
                        "bin_end": 807.85286832,
                        "count": 0
                      },
                      {
                        "bin_start": 807.85286832,
                        "bin_end": 819.1648287400001,
                        "count": 0
                      },
                      {
                        "bin_start": 819.1648287400001,
                        "bin_end": 830.4767891600001,
                        "count": 1
                      },
                      {
                        "bin_start": 830.4767891600001,
                        "bin_end": 841.7887495800001,
                        "count": 1
                      },
                      {
                        "bin_start": 841.7887495800001,
                        "bin_end": 853.10071,
                        "count": 1
                      }
                    ]
                  }
                },
                {
                  "name": "_deepnote_index_column",
                  "dtype": "int64"
                }
              ],
              "rows_top": [
                {
                  "country": "Afghanistan",
                  "continent": "Asia",
                  "year": 1952,
                  "lifeExp": 28.801,
                  "pop": 8425333,
                  "gdpPercap": 779.4453145,
                  "_deepnote_index_column": 0
                },
                {
                  "country": "Afghanistan",
                  "continent": "Asia",
                  "year": 1957,
                  "lifeExp": 30.332,
                  "pop": 9240934,
                  "gdpPercap": 820.8530296,
                  "_deepnote_index_column": 1
                },
                {
                  "country": "Afghanistan",
                  "continent": "Asia",
                  "year": 1962,
                  "lifeExp": 31.997,
                  "pop": 10267083,
                  "gdpPercap": 853.10071,
                  "_deepnote_index_column": 2
                },
                {
                  "country": "Afghanistan",
                  "continent": "Asia",
                  "year": 1967,
                  "lifeExp": 34.02,
                  "pop": 11537966,
                  "gdpPercap": 836.1971382,
                  "_deepnote_index_column": 3
                },
                {
                  "country": "Afghanistan",
                  "continent": "Asia",
                  "year": 1972,
                  "lifeExp": 36.088,
                  "pop": 13079460,
                  "gdpPercap": 739.9811058,
                  "_deepnote_index_column": 4
                }
              ],
              "rows_bottom": null
            },
            "text/plain": "       country continent  year  lifeExp       pop   gdpPercap\n0  Afghanistan      Asia  1952   28.801   8425333  779.445314\n1  Afghanistan      Asia  1957   30.332   9240934  820.853030\n2  Afghanistan      Asia  1962   31.997  10267083  853.100710\n3  Afghanistan      Asia  1967   34.020  11537966  836.197138\n4  Afghanistan      Asia  1972   36.088  13079460  739.981106",
            "text/html": "<div>\n<style scoped>\n    .dataframe tbody tr th:only-of-type {\n        vertical-align: middle;\n    }\n\n    .dataframe tbody tr th {\n        vertical-align: top;\n    }\n\n    .dataframe thead th {\n        text-align: right;\n    }\n</style>\n<table border=\"1\" class=\"dataframe\">\n  <thead>\n    <tr style=\"text-align: right;\">\n      <th></th>\n      <th>country</th>\n      <th>continent</th>\n      <th>year</th>\n      <th>lifeExp</th>\n      <th>pop</th>\n      <th>gdpPercap</th>\n    </tr>\n  </thead>\n  <tbody>\n    <tr>\n      <th>0</th>\n      <td>Afghanistan</td>\n      <td>Asia</td>\n      <td>1952</td>\n      <td>28.801</td>\n      <td>8425333</td>\n      <td>779.445314</td>\n    </tr>\n    <tr>\n      <th>1</th>\n      <td>Afghanistan</td>\n      <td>Asia</td>\n      <td>1957</td>\n      <td>30.332</td>\n      <td>9240934</td>\n      <td>820.853030</td>\n    </tr>\n    <tr>\n      <th>2</th>\n      <td>Afghanistan</td>\n      <td>Asia</td>\n      <td>1962</td>\n      <td>31.997</td>\n      <td>10267083</td>\n      <td>853.100710</td>\n    </tr>\n    <tr>\n      <th>3</th>\n      <td>Afghanistan</td>\n      <td>Asia</td>\n      <td>1967</td>\n      <td>34.020</td>\n      <td>11537966</td>\n      <td>836.197138</td>\n    </tr>\n    <tr>\n      <th>4</th>\n      <td>Afghanistan</td>\n      <td>Asia</td>\n      <td>1972</td>\n      <td>36.088</td>\n      <td>13079460</td>\n      <td>739.981106</td>\n    </tr>\n  </tbody>\n</table>\n</div>"
          },
          "metadata": {}
        }
      ]
    },
    {
      "cell_type": "code",
      "metadata": {
        "tags": [],
        "cell_id": "00005-0678cc14-9596-4636-bed7-8fa031611b5a",
        "deepnote_to_be_reexecuted": false,
        "source_hash": "a2b159f",
        "execution_start": 1620032810231,
        "execution_millis": 0,
        "deepnote_cell_type": "code"
      },
      "source": "df.columns # access only column names",
      "execution_count": 4,
      "outputs": [
        {
          "output_type": "execute_result",
          "execution_count": 4,
          "data": {
            "text/plain": "Index(['country', 'continent', 'year', 'lifeExp', 'pop', 'gdpPercap'], dtype='object')"
          },
          "metadata": {}
        }
      ]
    },
    {
      "cell_type": "code",
      "metadata": {
        "tags": [],
        "cell_id": "00006-e10b0902-094d-4658-84ee-b06ca88e2ddb",
        "deepnote_to_be_reexecuted": false,
        "source_hash": "7fec77f2",
        "execution_start": 1620032810232,
        "execution_millis": 5,
        "deepnote_cell_type": "code"
      },
      "source": "df.index # access row",
      "execution_count": 5,
      "outputs": []
    },
    {
      "cell_type": "code",
      "metadata": {
        "tags": [],
        "cell_id": "00007-7efef03c-c2e9-4299-b48f-952dec5c576a",
        "deepnote_to_be_reexecuted": false,
        "source_hash": "b3a3e51d",
        "execution_start": 1620032810234,
        "execution_millis": 42,
        "deepnote_cell_type": "code"
      },
      "source": "df.values #body of the DataFrame and get array version of the data",
      "execution_count": 6,
      "outputs": [
        {
          "output_type": "execute_result",
          "execution_count": 6,
          "data": {
            "text/plain": "array([['Afghanistan', 'Asia', 1952, 28.801, 8425333, 779.4453145],\n       ['Afghanistan', 'Asia', 1957, 30.332, 9240934, 820.8530296],\n       ['Afghanistan', 'Asia', 1962, 31.997, 10267083, 853.10071],\n       ...,\n       ['Zimbabwe', 'Africa', 1997, 46.809, 11404948, 792.4499603],\n       ['Zimbabwe', 'Africa', 2002, 39.989, 11926563, 672.0386227],\n       ['Zimbabwe', 'Africa', 2007, 43.487, 12311143, 469.7092981]],\n      dtype=object)"
          },
          "metadata": {}
        }
      ]
    },
    {
      "cell_type": "code",
      "metadata": {
        "tags": [],
        "cell_id": "00009-6705d0a7-1748-4532-b87b-74757fe5aced",
        "deepnote_to_be_reexecuted": false,
        "source_hash": "c7f4a1f2",
        "execution_start": 1620032810240,
        "execution_millis": 37,
        "deepnote_cell_type": "code"
      },
      "source": "type(df) # checking type use to check for potential errors",
      "execution_count": 7,
      "outputs": [
        {
          "output_type": "execute_result",
          "execution_count": 7,
          "data": {
            "text/plain": "pandas.core.frame.DataFrame"
          },
          "metadata": {}
        }
      ]
    },
    {
      "cell_type": "code",
      "metadata": {
        "tags": [],
        "cell_id": "00010-ccd8f5df-de79-42b0-b1a3-44141bd5f9c5",
        "deepnote_to_be_reexecuted": false,
        "source_hash": "6f4068f0",
        "execution_start": 1620032810249,
        "execution_millis": 28,
        "deepnote_cell_type": "code"
      },
      "source": "df.shape # use to check if you get the data num cplumn and rows",
      "execution_count": 8,
      "outputs": [
        {
          "output_type": "execute_result",
          "execution_count": 8,
          "data": {
            "text/plain": "(1704, 6)"
          },
          "metadata": {}
        }
      ]
    },
    {
      "cell_type": "markdown",
      "source": "df.shape() gets you an error because the shape is already given and the machine don't know what to do with shape as a function",
      "metadata": {
        "tags": [],
        "cell_id": "00011-b28da0cd-6349-4dc5-9a82-d136f29b8b30",
        "deepnote_cell_type": "markdown"
      }
    },
    {
      "cell_type": "code",
      "metadata": {
        "tags": [],
        "cell_id": "00012-f13b508b-2001-49ea-868f-400ec3f73c66",
        "deepnote_to_be_reexecuted": false,
        "source_hash": "bd9ad2",
        "execution_start": 1620032810255,
        "execution_millis": 22,
        "deepnote_cell_type": "code"
      },
      "source": "df.info() # tells you the type, index, the columns and type of columns",
      "execution_count": 9,
      "outputs": [
        {
          "name": "stdout",
          "text": "<class 'pandas.core.frame.DataFrame'>\nRangeIndex: 1704 entries, 0 to 1703\nData columns (total 6 columns):\n #   Column     Non-Null Count  Dtype  \n---  ------     --------------  -----  \n 0   country    1704 non-null   object \n 1   continent  1704 non-null   object \n 2   year       1704 non-null   int64  \n 3   lifeExp    1704 non-null   float64\n 4   pop        1704 non-null   int64  \n 5   gdpPercap  1704 non-null   float64\ndtypes: float64(2), int64(2), object(2)\nmemory usage: 80.0+ KB\n",
          "output_type": "stream"
        }
      ]
    },
    {
      "cell_type": "markdown",
      "source": "## 4. Assign the country column to a variable",
      "metadata": {
        "tags": [],
        "cell_id": "00015-b3b11d59-c5f0-4e26-b9b3-c5700dec2a83",
        "deepnote_cell_type": "markdown"
      }
    },
    {
      "cell_type": "code",
      "metadata": {
        "tags": [],
        "cell_id": "00016-528273e9-94da-41d2-8570-429ab02d4826",
        "deepnote_to_be_reexecuted": false,
        "source_hash": "7fa32be7",
        "execution_start": 1620032810268,
        "execution_millis": 14,
        "deepnote_cell_type": "code"
      },
      "source": "df['country'] # asking for a column",
      "execution_count": 10,
      "outputs": [
        {
          "output_type": "execute_result",
          "execution_count": 10,
          "data": {
            "text/plain": "0       Afghanistan\n1       Afghanistan\n2       Afghanistan\n3       Afghanistan\n4       Afghanistan\n           ...     \n1699       Zimbabwe\n1700       Zimbabwe\n1701       Zimbabwe\n1702       Zimbabwe\n1703       Zimbabwe\nName: country, Length: 1704, dtype: object"
          },
          "metadata": {}
        }
      ]
    },
    {
      "cell_type": "code",
      "metadata": {
        "tags": [],
        "cell_id": "00017-c6b87e9e-cf8c-4f0a-846a-b2c1ae5ed8a5",
        "deepnote_to_be_reexecuted": false,
        "source_hash": "dbb3de95",
        "execution_start": 1620032810272,
        "execution_millis": 3,
        "deepnote_cell_type": "code"
      },
      "source": "country_df=df['country']",
      "execution_count": 11,
      "outputs": []
    },
    {
      "cell_type": "code",
      "metadata": {
        "tags": [],
        "cell_id": "00018-70a0a255-f988-4d79-be1a-df1d68d0ec7a",
        "deepnote_to_be_reexecuted": false,
        "source_hash": "2720e8e9",
        "execution_start": 1620032810297,
        "execution_millis": 10,
        "deepnote_cell_type": "code"
      },
      "source": "country_df.head #explore the data(top 5)",
      "execution_count": 12,
      "outputs": [
        {
          "output_type": "execute_result",
          "execution_count": 12,
          "data": {
            "text/plain": "<bound method NDFrame.head of 0       Afghanistan\n1       Afghanistan\n2       Afghanistan\n3       Afghanistan\n4       Afghanistan\n           ...     \n1699       Zimbabwe\n1700       Zimbabwe\n1701       Zimbabwe\n1702       Zimbabwe\n1703       Zimbabwe\nName: country, Length: 1704, dtype: object>"
          },
          "metadata": {}
        }
      ]
    },
    {
      "cell_type": "code",
      "metadata": {
        "tags": [],
        "cell_id": "00019-96abc4a2-209a-415f-beda-9e35a5355e86",
        "deepnote_to_be_reexecuted": false,
        "source_hash": "5e29ce13",
        "execution_start": 1620032810298,
        "execution_millis": 1,
        "deepnote_cell_type": "code"
      },
      "source": "type(country_df) #type of a single column return a series",
      "execution_count": 13,
      "outputs": [
        {
          "output_type": "execute_result",
          "execution_count": 13,
          "data": {
            "text/plain": "pandas.core.series.Series"
          },
          "metadata": {}
        }
      ]
    },
    {
      "cell_type": "markdown",
      "source": "## 5. Selecting a subset of the data",
      "metadata": {
        "tags": [],
        "cell_id": "00020-10e82ba3-d03e-4773-950c-1b1542458dcd",
        "deepnote_cell_type": "markdown"
      }
    },
    {
      "cell_type": "code",
      "metadata": {
        "tags": [],
        "cell_id": "00021-8cdcb5d4-2c3a-4bd5-90b7-b7b60fd0c389",
        "deepnote_to_be_reexecuted": false,
        "source_hash": "6e4cfe68",
        "execution_start": 1620032810300,
        "execution_millis": 2,
        "deepnote_cell_type": "code"
      },
      "source": "subset=df[['country', 'continent', 'year']] # to pick multiple column at the same time use the double brackets",
      "execution_count": 14,
      "outputs": []
    },
    {
      "cell_type": "code",
      "metadata": {
        "tags": [],
        "cell_id": "00022-c79db7c1-ac58-45bc-97d4-6372473b065d",
        "deepnote_to_be_reexecuted": false,
        "source_hash": "7faece31",
        "execution_start": 1620032810303,
        "execution_millis": 85,
        "deepnote_cell_type": "code"
      },
      "source": "subset.head() #exploring the data (top 5)",
      "execution_count": 15,
      "outputs": [
        {
          "output_type": "execute_result",
          "execution_count": 15,
          "data": {
            "application/vnd.deepnote.dataframe.v2+json": {
              "row_count": 5,
              "column_count": 3,
              "columns": [
                {
                  "name": "country",
                  "dtype": "object",
                  "stats": {
                    "unique_count": 1,
                    "nan_count": 0,
                    "categories": [
                      {
                        "name": "Afghanistan",
                        "count": 5
                      }
                    ]
                  }
                },
                {
                  "name": "continent",
                  "dtype": "object",
                  "stats": {
                    "unique_count": 1,
                    "nan_count": 0,
                    "categories": [
                      {
                        "name": "Asia",
                        "count": 5
                      }
                    ]
                  }
                },
                {
                  "name": "year",
                  "dtype": "int64",
                  "stats": {
                    "unique_count": 5,
                    "nan_count": 0,
                    "min": "1952",
                    "max": "1972",
                    "histogram": [
                      {
                        "bin_start": 1952,
                        "bin_end": 1954,
                        "count": 1
                      },
                      {
                        "bin_start": 1954,
                        "bin_end": 1956,
                        "count": 0
                      },
                      {
                        "bin_start": 1956,
                        "bin_end": 1958,
                        "count": 1
                      },
                      {
                        "bin_start": 1958,
                        "bin_end": 1960,
                        "count": 0
                      },
                      {
                        "bin_start": 1960,
                        "bin_end": 1962,
                        "count": 0
                      },
                      {
                        "bin_start": 1962,
                        "bin_end": 1964,
                        "count": 1
                      },
                      {
                        "bin_start": 1964,
                        "bin_end": 1966,
                        "count": 0
                      },
                      {
                        "bin_start": 1966,
                        "bin_end": 1968,
                        "count": 1
                      },
                      {
                        "bin_start": 1968,
                        "bin_end": 1970,
                        "count": 0
                      },
                      {
                        "bin_start": 1970,
                        "bin_end": 1972,
                        "count": 1
                      }
                    ]
                  }
                },
                {
                  "name": "_deepnote_index_column",
                  "dtype": "int64"
                }
              ],
              "rows_top": [
                {
                  "country": "Afghanistan",
                  "continent": "Asia",
                  "year": 1952,
                  "_deepnote_index_column": 0
                },
                {
                  "country": "Afghanistan",
                  "continent": "Asia",
                  "year": 1957,
                  "_deepnote_index_column": 1
                },
                {
                  "country": "Afghanistan",
                  "continent": "Asia",
                  "year": 1962,
                  "_deepnote_index_column": 2
                },
                {
                  "country": "Afghanistan",
                  "continent": "Asia",
                  "year": 1967,
                  "_deepnote_index_column": 3
                },
                {
                  "country": "Afghanistan",
                  "continent": "Asia",
                  "year": 1972,
                  "_deepnote_index_column": 4
                }
              ],
              "rows_bottom": null
            },
            "text/plain": "       country continent  year\n0  Afghanistan      Asia  1952\n1  Afghanistan      Asia  1957\n2  Afghanistan      Asia  1962\n3  Afghanistan      Asia  1967\n4  Afghanistan      Asia  1972",
            "text/html": "<div>\n<style scoped>\n    .dataframe tbody tr th:only-of-type {\n        vertical-align: middle;\n    }\n\n    .dataframe tbody tr th {\n        vertical-align: top;\n    }\n\n    .dataframe thead th {\n        text-align: right;\n    }\n</style>\n<table border=\"1\" class=\"dataframe\">\n  <thead>\n    <tr style=\"text-align: right;\">\n      <th></th>\n      <th>country</th>\n      <th>continent</th>\n      <th>year</th>\n    </tr>\n  </thead>\n  <tbody>\n    <tr>\n      <th>0</th>\n      <td>Afghanistan</td>\n      <td>Asia</td>\n      <td>1952</td>\n    </tr>\n    <tr>\n      <th>1</th>\n      <td>Afghanistan</td>\n      <td>Asia</td>\n      <td>1957</td>\n    </tr>\n    <tr>\n      <th>2</th>\n      <td>Afghanistan</td>\n      <td>Asia</td>\n      <td>1962</td>\n    </tr>\n    <tr>\n      <th>3</th>\n      <td>Afghanistan</td>\n      <td>Asia</td>\n      <td>1967</td>\n    </tr>\n    <tr>\n      <th>4</th>\n      <td>Afghanistan</td>\n      <td>Asia</td>\n      <td>1972</td>\n    </tr>\n  </tbody>\n</table>\n</div>"
          },
          "metadata": {}
        }
      ]
    },
    {
      "cell_type": "code",
      "metadata": {
        "tags": [],
        "cell_id": "00023-44ced433-eeb8-48e6-ad89-00e8b5d62ece",
        "deepnote_to_be_reexecuted": false,
        "source_hash": "27b73563",
        "execution_start": 1620032810361,
        "execution_millis": 27,
        "deepnote_cell_type": "code"
      },
      "source": "pd._version #used to check what Python version you are running\n#useful when searching the web for troubleshooting",
      "execution_count": 16,
      "outputs": [
        {
          "output_type": "execute_result",
          "execution_count": 16,
          "data": {
            "text/plain": "<module 'pandas._version' from '/shared-libs/python3.7/py/lib/python3.7/site-packages/pandas/_version.py'>"
          },
          "metadata": {}
        }
      ]
    },
    {
      "cell_type": "markdown",
      "source": "## 6. Getting specific rows",
      "metadata": {
        "tags": [],
        "cell_id": "00024-22445b33-e17d-4b03-8ce4-fdb4a185567d",
        "deepnote_cell_type": "markdown"
      }
    },
    {
      "cell_type": "code",
      "metadata": {
        "tags": [],
        "cell_id": "00024-a2c3e55a-debc-434a-b278-992014c5d59a",
        "deepnote_to_be_reexecuted": false,
        "source_hash": "fddbd63a",
        "execution_start": 1620032810362,
        "execution_millis": 26,
        "deepnote_cell_type": "code"
      },
      "source": "df.loc[2] #loc=location don't use the index use the caracter 2\n#acts as a character matching",
      "execution_count": 17,
      "outputs": [
        {
          "output_type": "execute_result",
          "execution_count": 17,
          "data": {
            "text/plain": "country      Afghanistan\ncontinent           Asia\nyear                1962\nlifeExp           31.997\npop             10267083\ngdpPercap      853.10071\nName: 2, dtype: object"
          },
          "metadata": {}
        }
      ]
    },
    {
      "cell_type": "code",
      "metadata": {
        "tags": [],
        "cell_id": "00026-a74aaa84-dbdd-4c64-9173-e1a1bd404095",
        "deepnote_to_be_reexecuted": false,
        "source_hash": "efed0d73",
        "execution_start": 1620032810363,
        "execution_millis": 30,
        "deepnote_cell_type": "code"
      },
      "source": "df.loc[[2,0]] #select character 2, 0",
      "execution_count": 18,
      "outputs": [
        {
          "output_type": "execute_result",
          "execution_count": 18,
          "data": {
            "application/vnd.deepnote.dataframe.v2+json": {
              "row_count": 2,
              "column_count": 6,
              "columns": [
                {
                  "name": "country",
                  "dtype": "object",
                  "stats": {
                    "unique_count": 1,
                    "nan_count": 0,
                    "categories": [
                      {
                        "name": "Afghanistan",
                        "count": 2
                      }
                    ]
                  }
                },
                {
                  "name": "continent",
                  "dtype": "object",
                  "stats": {
                    "unique_count": 1,
                    "nan_count": 0,
                    "categories": [
                      {
                        "name": "Asia",
                        "count": 2
                      }
                    ]
                  }
                },
                {
                  "name": "year",
                  "dtype": "int64",
                  "stats": {
                    "unique_count": 2,
                    "nan_count": 0,
                    "min": "1952",
                    "max": "1962",
                    "histogram": [
                      {
                        "bin_start": 1952,
                        "bin_end": 1953,
                        "count": 1
                      },
                      {
                        "bin_start": 1953,
                        "bin_end": 1954,
                        "count": 0
                      },
                      {
                        "bin_start": 1954,
                        "bin_end": 1955,
                        "count": 0
                      },
                      {
                        "bin_start": 1955,
                        "bin_end": 1956,
                        "count": 0
                      },
                      {
                        "bin_start": 1956,
                        "bin_end": 1957,
                        "count": 0
                      },
                      {
                        "bin_start": 1957,
                        "bin_end": 1958,
                        "count": 0
                      },
                      {
                        "bin_start": 1958,
                        "bin_end": 1959,
                        "count": 0
                      },
                      {
                        "bin_start": 1959,
                        "bin_end": 1960,
                        "count": 0
                      },
                      {
                        "bin_start": 1960,
                        "bin_end": 1961,
                        "count": 0
                      },
                      {
                        "bin_start": 1961,
                        "bin_end": 1962,
                        "count": 1
                      }
                    ]
                  }
                },
                {
                  "name": "lifeExp",
                  "dtype": "float64",
                  "stats": {
                    "unique_count": 2,
                    "nan_count": 0,
                    "min": "28.801",
                    "max": "31.997",
                    "histogram": [
                      {
                        "bin_start": 28.801,
                        "bin_end": 29.1206,
                        "count": 1
                      },
                      {
                        "bin_start": 29.1206,
                        "bin_end": 29.440199999999997,
                        "count": 0
                      },
                      {
                        "bin_start": 29.440199999999997,
                        "bin_end": 29.7598,
                        "count": 0
                      },
                      {
                        "bin_start": 29.7598,
                        "bin_end": 30.0794,
                        "count": 0
                      },
                      {
                        "bin_start": 30.0794,
                        "bin_end": 30.399,
                        "count": 0
                      },
                      {
                        "bin_start": 30.399,
                        "bin_end": 30.7186,
                        "count": 0
                      },
                      {
                        "bin_start": 30.7186,
                        "bin_end": 31.0382,
                        "count": 0
                      },
                      {
                        "bin_start": 31.0382,
                        "bin_end": 31.3578,
                        "count": 0
                      },
                      {
                        "bin_start": 31.3578,
                        "bin_end": 31.6774,
                        "count": 0
                      },
                      {
                        "bin_start": 31.6774,
                        "bin_end": 31.997,
                        "count": 1
                      }
                    ]
                  }
                },
                {
                  "name": "pop",
                  "dtype": "int64",
                  "stats": {
                    "unique_count": 2,
                    "nan_count": 0,
                    "min": "8425333",
                    "max": "10267083",
                    "histogram": [
                      {
                        "bin_start": 8425333,
                        "bin_end": 8609508,
                        "count": 1
                      },
                      {
                        "bin_start": 8609508,
                        "bin_end": 8793683,
                        "count": 0
                      },
                      {
                        "bin_start": 8793683,
                        "bin_end": 8977858,
                        "count": 0
                      },
                      {
                        "bin_start": 8977858,
                        "bin_end": 9162033,
                        "count": 0
                      },
                      {
                        "bin_start": 9162033,
                        "bin_end": 9346208,
                        "count": 0
                      },
                      {
                        "bin_start": 9346208,
                        "bin_end": 9530383,
                        "count": 0
                      },
                      {
                        "bin_start": 9530383,
                        "bin_end": 9714558,
                        "count": 0
                      },
                      {
                        "bin_start": 9714558,
                        "bin_end": 9898733,
                        "count": 0
                      },
                      {
                        "bin_start": 9898733,
                        "bin_end": 10082908,
                        "count": 0
                      },
                      {
                        "bin_start": 10082908,
                        "bin_end": 10267083,
                        "count": 1
                      }
                    ]
                  }
                },
                {
                  "name": "gdpPercap",
                  "dtype": "float64",
                  "stats": {
                    "unique_count": 2,
                    "nan_count": 0,
                    "min": "779.4453145",
                    "max": "853.10071",
                    "histogram": [
                      {
                        "bin_start": 779.4453145,
                        "bin_end": 786.81085405,
                        "count": 1
                      },
                      {
                        "bin_start": 786.81085405,
                        "bin_end": 794.1763936,
                        "count": 0
                      },
                      {
                        "bin_start": 794.1763936,
                        "bin_end": 801.54193315,
                        "count": 0
                      },
                      {
                        "bin_start": 801.54193315,
                        "bin_end": 808.9074727,
                        "count": 0
                      },
                      {
                        "bin_start": 808.9074727,
                        "bin_end": 816.27301225,
                        "count": 0
                      },
                      {
                        "bin_start": 816.27301225,
                        "bin_end": 823.6385518000001,
                        "count": 0
                      },
                      {
                        "bin_start": 823.6385518000001,
                        "bin_end": 831.0040913500001,
                        "count": 0
                      },
                      {
                        "bin_start": 831.0040913500001,
                        "bin_end": 838.3696309000001,
                        "count": 0
                      },
                      {
                        "bin_start": 838.3696309000001,
                        "bin_end": 845.73517045,
                        "count": 0
                      },
                      {
                        "bin_start": 845.73517045,
                        "bin_end": 853.10071,
                        "count": 1
                      }
                    ]
                  }
                },
                {
                  "name": "_deepnote_index_column",
                  "dtype": "int64"
                }
              ],
              "rows_top": [
                {
                  "country": "Afghanistan",
                  "continent": "Asia",
                  "year": 1962,
                  "lifeExp": 31.997,
                  "pop": 10267083,
                  "gdpPercap": 853.10071,
                  "_deepnote_index_column": 2
                },
                {
                  "country": "Afghanistan",
                  "continent": "Asia",
                  "year": 1952,
                  "lifeExp": 28.801,
                  "pop": 8425333,
                  "gdpPercap": 779.4453145,
                  "_deepnote_index_column": 0
                }
              ],
              "rows_bottom": null
            },
            "text/plain": "       country continent  year  lifeExp       pop   gdpPercap\n2  Afghanistan      Asia  1962   31.997  10267083  853.100710\n0  Afghanistan      Asia  1952   28.801   8425333  779.445314",
            "text/html": "<div>\n<style scoped>\n    .dataframe tbody tr th:only-of-type {\n        vertical-align: middle;\n    }\n\n    .dataframe tbody tr th {\n        vertical-align: top;\n    }\n\n    .dataframe thead th {\n        text-align: right;\n    }\n</style>\n<table border=\"1\" class=\"dataframe\">\n  <thead>\n    <tr style=\"text-align: right;\">\n      <th></th>\n      <th>country</th>\n      <th>continent</th>\n      <th>year</th>\n      <th>lifeExp</th>\n      <th>pop</th>\n      <th>gdpPercap</th>\n    </tr>\n  </thead>\n  <tbody>\n    <tr>\n      <th>2</th>\n      <td>Afghanistan</td>\n      <td>Asia</td>\n      <td>1962</td>\n      <td>31.997</td>\n      <td>10267083</td>\n      <td>853.100710</td>\n    </tr>\n    <tr>\n      <th>0</th>\n      <td>Afghanistan</td>\n      <td>Asia</td>\n      <td>1952</td>\n      <td>28.801</td>\n      <td>8425333</td>\n      <td>779.445314</td>\n    </tr>\n  </tbody>\n</table>\n</div>"
          },
          "metadata": {}
        }
      ]
    },
    {
      "cell_type": "code",
      "metadata": {
        "tags": [],
        "cell_id": "00027-41a37835-685b-465f-b2df-5986c0b75188",
        "deepnote_to_be_reexecuted": false,
        "source_hash": "9c4e5854",
        "execution_start": 1620032810377,
        "execution_millis": 16,
        "deepnote_cell_type": "code"
      },
      "source": "df.iloc[2] # iloc=index location here start with 0",
      "execution_count": 19,
      "outputs": [
        {
          "output_type": "execute_result",
          "execution_count": 19,
          "data": {
            "text/plain": "country      Afghanistan\ncontinent           Asia\nyear                1962\nlifeExp           31.997\npop             10267083\ngdpPercap      853.10071\nName: 2, dtype: object"
          },
          "metadata": {}
        }
      ]
    },
    {
      "cell_type": "code",
      "metadata": {
        "tags": [],
        "cell_id": "00028-f4215c43-b4fa-4ea2-9090-a422364a827f",
        "deepnote_to_be_reexecuted": false,
        "source_hash": "c085b6ba",
        "execution_start": 1620032810381,
        "execution_millis": 35,
        "deepnote_cell_type": "code"
      },
      "source": "df.head()",
      "execution_count": 20,
      "outputs": [
        {
          "output_type": "execute_result",
          "execution_count": 20,
          "data": {
            "application/vnd.deepnote.dataframe.v2+json": {
              "row_count": 5,
              "column_count": 6,
              "columns": [
                {
                  "name": "country",
                  "dtype": "object",
                  "stats": {
                    "unique_count": 1,
                    "nan_count": 0,
                    "categories": [
                      {
                        "name": "Afghanistan",
                        "count": 5
                      }
                    ]
                  }
                },
                {
                  "name": "continent",
                  "dtype": "object",
                  "stats": {
                    "unique_count": 1,
                    "nan_count": 0,
                    "categories": [
                      {
                        "name": "Asia",
                        "count": 5
                      }
                    ]
                  }
                },
                {
                  "name": "year",
                  "dtype": "int64",
                  "stats": {
                    "unique_count": 5,
                    "nan_count": 0,
                    "min": "1952",
                    "max": "1972",
                    "histogram": [
                      {
                        "bin_start": 1952,
                        "bin_end": 1954,
                        "count": 1
                      },
                      {
                        "bin_start": 1954,
                        "bin_end": 1956,
                        "count": 0
                      },
                      {
                        "bin_start": 1956,
                        "bin_end": 1958,
                        "count": 1
                      },
                      {
                        "bin_start": 1958,
                        "bin_end": 1960,
                        "count": 0
                      },
                      {
                        "bin_start": 1960,
                        "bin_end": 1962,
                        "count": 0
                      },
                      {
                        "bin_start": 1962,
                        "bin_end": 1964,
                        "count": 1
                      },
                      {
                        "bin_start": 1964,
                        "bin_end": 1966,
                        "count": 0
                      },
                      {
                        "bin_start": 1966,
                        "bin_end": 1968,
                        "count": 1
                      },
                      {
                        "bin_start": 1968,
                        "bin_end": 1970,
                        "count": 0
                      },
                      {
                        "bin_start": 1970,
                        "bin_end": 1972,
                        "count": 1
                      }
                    ]
                  }
                },
                {
                  "name": "lifeExp",
                  "dtype": "float64",
                  "stats": {
                    "unique_count": 5,
                    "nan_count": 0,
                    "min": "28.801",
                    "max": "36.088",
                    "histogram": [
                      {
                        "bin_start": 28.801,
                        "bin_end": 29.5297,
                        "count": 1
                      },
                      {
                        "bin_start": 29.5297,
                        "bin_end": 30.258399999999998,
                        "count": 0
                      },
                      {
                        "bin_start": 30.258399999999998,
                        "bin_end": 30.987099999999998,
                        "count": 1
                      },
                      {
                        "bin_start": 30.987099999999998,
                        "bin_end": 31.715799999999998,
                        "count": 0
                      },
                      {
                        "bin_start": 31.715799999999998,
                        "bin_end": 32.4445,
                        "count": 1
                      },
                      {
                        "bin_start": 32.4445,
                        "bin_end": 33.1732,
                        "count": 0
                      },
                      {
                        "bin_start": 33.1732,
                        "bin_end": 33.9019,
                        "count": 0
                      },
                      {
                        "bin_start": 33.9019,
                        "bin_end": 34.6306,
                        "count": 1
                      },
                      {
                        "bin_start": 34.6306,
                        "bin_end": 35.3593,
                        "count": 0
                      },
                      {
                        "bin_start": 35.3593,
                        "bin_end": 36.088,
                        "count": 1
                      }
                    ]
                  }
                },
                {
                  "name": "pop",
                  "dtype": "int64",
                  "stats": {
                    "unique_count": 5,
                    "nan_count": 0,
                    "min": "8425333",
                    "max": "13079460",
                    "histogram": [
                      {
                        "bin_start": 8425333,
                        "bin_end": 8890745.7,
                        "count": 1
                      },
                      {
                        "bin_start": 8890745.7,
                        "bin_end": 9356158.4,
                        "count": 1
                      },
                      {
                        "bin_start": 9356158.4,
                        "bin_end": 9821571.1,
                        "count": 0
                      },
                      {
                        "bin_start": 9821571.1,
                        "bin_end": 10286983.8,
                        "count": 1
                      },
                      {
                        "bin_start": 10286983.8,
                        "bin_end": 10752396.5,
                        "count": 0
                      },
                      {
                        "bin_start": 10752396.5,
                        "bin_end": 11217809.2,
                        "count": 0
                      },
                      {
                        "bin_start": 11217809.2,
                        "bin_end": 11683221.9,
                        "count": 1
                      },
                      {
                        "bin_start": 11683221.9,
                        "bin_end": 12148634.6,
                        "count": 0
                      },
                      {
                        "bin_start": 12148634.6,
                        "bin_end": 12614047.3,
                        "count": 0
                      },
                      {
                        "bin_start": 12614047.3,
                        "bin_end": 13079460,
                        "count": 1
                      }
                    ]
                  }
                },
                {
                  "name": "gdpPercap",
                  "dtype": "float64",
                  "stats": {
                    "unique_count": 5,
                    "nan_count": 0,
                    "min": "739.9811058",
                    "max": "853.10071",
                    "histogram": [
                      {
                        "bin_start": 739.9811058,
                        "bin_end": 751.29306622,
                        "count": 1
                      },
                      {
                        "bin_start": 751.29306622,
                        "bin_end": 762.60502664,
                        "count": 0
                      },
                      {
                        "bin_start": 762.60502664,
                        "bin_end": 773.91698706,
                        "count": 0
                      },
                      {
                        "bin_start": 773.91698706,
                        "bin_end": 785.22894748,
                        "count": 1
                      },
                      {
                        "bin_start": 785.22894748,
                        "bin_end": 796.5409079000001,
                        "count": 0
                      },
                      {
                        "bin_start": 796.5409079000001,
                        "bin_end": 807.85286832,
                        "count": 0
                      },
                      {
                        "bin_start": 807.85286832,
                        "bin_end": 819.1648287400001,
                        "count": 0
                      },
                      {
                        "bin_start": 819.1648287400001,
                        "bin_end": 830.4767891600001,
                        "count": 1
                      },
                      {
                        "bin_start": 830.4767891600001,
                        "bin_end": 841.7887495800001,
                        "count": 1
                      },
                      {
                        "bin_start": 841.7887495800001,
                        "bin_end": 853.10071,
                        "count": 1
                      }
                    ]
                  }
                },
                {
                  "name": "_deepnote_index_column",
                  "dtype": "int64"
                }
              ],
              "rows_top": [
                {
                  "country": "Afghanistan",
                  "continent": "Asia",
                  "year": 1952,
                  "lifeExp": 28.801,
                  "pop": 8425333,
                  "gdpPercap": 779.4453145,
                  "_deepnote_index_column": 0
                },
                {
                  "country": "Afghanistan",
                  "continent": "Asia",
                  "year": 1957,
                  "lifeExp": 30.332,
                  "pop": 9240934,
                  "gdpPercap": 820.8530296,
                  "_deepnote_index_column": 1
                },
                {
                  "country": "Afghanistan",
                  "continent": "Asia",
                  "year": 1962,
                  "lifeExp": 31.997,
                  "pop": 10267083,
                  "gdpPercap": 853.10071,
                  "_deepnote_index_column": 2
                },
                {
                  "country": "Afghanistan",
                  "continent": "Asia",
                  "year": 1967,
                  "lifeExp": 34.02,
                  "pop": 11537966,
                  "gdpPercap": 836.1971382,
                  "_deepnote_index_column": 3
                },
                {
                  "country": "Afghanistan",
                  "continent": "Asia",
                  "year": 1972,
                  "lifeExp": 36.088,
                  "pop": 13079460,
                  "gdpPercap": 739.9811058,
                  "_deepnote_index_column": 4
                }
              ],
              "rows_bottom": null
            },
            "text/plain": "       country continent  year  lifeExp       pop   gdpPercap\n0  Afghanistan      Asia  1952   28.801   8425333  779.445314\n1  Afghanistan      Asia  1957   30.332   9240934  820.853030\n2  Afghanistan      Asia  1962   31.997  10267083  853.100710\n3  Afghanistan      Asia  1967   34.020  11537966  836.197138\n4  Afghanistan      Asia  1972   36.088  13079460  739.981106",
            "text/html": "<div>\n<style scoped>\n    .dataframe tbody tr th:only-of-type {\n        vertical-align: middle;\n    }\n\n    .dataframe tbody tr th {\n        vertical-align: top;\n    }\n\n    .dataframe thead th {\n        text-align: right;\n    }\n</style>\n<table border=\"1\" class=\"dataframe\">\n  <thead>\n    <tr style=\"text-align: right;\">\n      <th></th>\n      <th>country</th>\n      <th>continent</th>\n      <th>year</th>\n      <th>lifeExp</th>\n      <th>pop</th>\n      <th>gdpPercap</th>\n    </tr>\n  </thead>\n  <tbody>\n    <tr>\n      <th>0</th>\n      <td>Afghanistan</td>\n      <td>Asia</td>\n      <td>1952</td>\n      <td>28.801</td>\n      <td>8425333</td>\n      <td>779.445314</td>\n    </tr>\n    <tr>\n      <th>1</th>\n      <td>Afghanistan</td>\n      <td>Asia</td>\n      <td>1957</td>\n      <td>30.332</td>\n      <td>9240934</td>\n      <td>820.853030</td>\n    </tr>\n    <tr>\n      <th>2</th>\n      <td>Afghanistan</td>\n      <td>Asia</td>\n      <td>1962</td>\n      <td>31.997</td>\n      <td>10267083</td>\n      <td>853.100710</td>\n    </tr>\n    <tr>\n      <th>3</th>\n      <td>Afghanistan</td>\n      <td>Asia</td>\n      <td>1967</td>\n      <td>34.020</td>\n      <td>11537966</td>\n      <td>836.197138</td>\n    </tr>\n    <tr>\n      <th>4</th>\n      <td>Afghanistan</td>\n      <td>Asia</td>\n      <td>1972</td>\n      <td>36.088</td>\n      <td>13079460</td>\n      <td>739.981106</td>\n    </tr>\n  </tbody>\n</table>\n</div>"
          },
          "metadata": {}
        }
      ]
    },
    {
      "cell_type": "markdown",
      "source": "## 7. Subset column and filter by row",
      "metadata": {
        "tags": [],
        "cell_id": "00029-feef6704-cc93-4ce2-b3e8-0d2b03cbe525",
        "deepnote_cell_type": "markdown"
      }
    },
    {
      "cell_type": "code",
      "metadata": {
        "tags": [],
        "cell_id": "00030-a9a8e887-4fe0-4f30-ad90-220d83c98153",
        "deepnote_to_be_reexecuted": false,
        "source_hash": "e87b0094",
        "execution_start": 1620032810414,
        "execution_millis": 8,
        "deepnote_cell_type": "code"
      },
      "source": "subset1=df.loc[:,['year', 'pop']] # [:,] give all the rows",
      "execution_count": 21,
      "outputs": []
    },
    {
      "cell_type": "code",
      "metadata": {
        "tags": [],
        "cell_id": "00031-dff168c6-801d-4dec-874a-4ce0faae7414",
        "deepnote_to_be_reexecuted": false,
        "source_hash": "9de76195",
        "execution_start": 1620032810427,
        "execution_millis": 21,
        "deepnote_cell_type": "code"
      },
      "source": "subset1.head() # top 5",
      "execution_count": 22,
      "outputs": [
        {
          "output_type": "execute_result",
          "execution_count": 22,
          "data": {
            "application/vnd.deepnote.dataframe.v2+json": {
              "row_count": 5,
              "column_count": 2,
              "columns": [
                {
                  "name": "year",
                  "dtype": "int64",
                  "stats": {
                    "unique_count": 5,
                    "nan_count": 0,
                    "min": "1952",
                    "max": "1972",
                    "histogram": [
                      {
                        "bin_start": 1952,
                        "bin_end": 1954,
                        "count": 1
                      },
                      {
                        "bin_start": 1954,
                        "bin_end": 1956,
                        "count": 0
                      },
                      {
                        "bin_start": 1956,
                        "bin_end": 1958,
                        "count": 1
                      },
                      {
                        "bin_start": 1958,
                        "bin_end": 1960,
                        "count": 0
                      },
                      {
                        "bin_start": 1960,
                        "bin_end": 1962,
                        "count": 0
                      },
                      {
                        "bin_start": 1962,
                        "bin_end": 1964,
                        "count": 1
                      },
                      {
                        "bin_start": 1964,
                        "bin_end": 1966,
                        "count": 0
                      },
                      {
                        "bin_start": 1966,
                        "bin_end": 1968,
                        "count": 1
                      },
                      {
                        "bin_start": 1968,
                        "bin_end": 1970,
                        "count": 0
                      },
                      {
                        "bin_start": 1970,
                        "bin_end": 1972,
                        "count": 1
                      }
                    ]
                  }
                },
                {
                  "name": "pop",
                  "dtype": "int64",
                  "stats": {
                    "unique_count": 5,
                    "nan_count": 0,
                    "min": "8425333",
                    "max": "13079460",
                    "histogram": [
                      {
                        "bin_start": 8425333,
                        "bin_end": 8890745.7,
                        "count": 1
                      },
                      {
                        "bin_start": 8890745.7,
                        "bin_end": 9356158.4,
                        "count": 1
                      },
                      {
                        "bin_start": 9356158.4,
                        "bin_end": 9821571.1,
                        "count": 0
                      },
                      {
                        "bin_start": 9821571.1,
                        "bin_end": 10286983.8,
                        "count": 1
                      },
                      {
                        "bin_start": 10286983.8,
                        "bin_end": 10752396.5,
                        "count": 0
                      },
                      {
                        "bin_start": 10752396.5,
                        "bin_end": 11217809.2,
                        "count": 0
                      },
                      {
                        "bin_start": 11217809.2,
                        "bin_end": 11683221.9,
                        "count": 1
                      },
                      {
                        "bin_start": 11683221.9,
                        "bin_end": 12148634.6,
                        "count": 0
                      },
                      {
                        "bin_start": 12148634.6,
                        "bin_end": 12614047.3,
                        "count": 0
                      },
                      {
                        "bin_start": 12614047.3,
                        "bin_end": 13079460,
                        "count": 1
                      }
                    ]
                  }
                },
                {
                  "name": "_deepnote_index_column",
                  "dtype": "int64"
                }
              ],
              "rows_top": [
                {
                  "year": 1952,
                  "pop": 8425333,
                  "_deepnote_index_column": 0
                },
                {
                  "year": 1957,
                  "pop": 9240934,
                  "_deepnote_index_column": 1
                },
                {
                  "year": 1962,
                  "pop": 10267083,
                  "_deepnote_index_column": 2
                },
                {
                  "year": 1967,
                  "pop": 11537966,
                  "_deepnote_index_column": 3
                },
                {
                  "year": 1972,
                  "pop": 13079460,
                  "_deepnote_index_column": 4
                }
              ],
              "rows_bottom": null
            },
            "text/plain": "   year       pop\n0  1952   8425333\n1  1957   9240934\n2  1962  10267083\n3  1967  11537966\n4  1972  13079460",
            "text/html": "<div>\n<style scoped>\n    .dataframe tbody tr th:only-of-type {\n        vertical-align: middle;\n    }\n\n    .dataframe tbody tr th {\n        vertical-align: top;\n    }\n\n    .dataframe thead th {\n        text-align: right;\n    }\n</style>\n<table border=\"1\" class=\"dataframe\">\n  <thead>\n    <tr style=\"text-align: right;\">\n      <th></th>\n      <th>year</th>\n      <th>pop</th>\n    </tr>\n  </thead>\n  <tbody>\n    <tr>\n      <th>0</th>\n      <td>1952</td>\n      <td>8425333</td>\n    </tr>\n    <tr>\n      <th>1</th>\n      <td>1957</td>\n      <td>9240934</td>\n    </tr>\n    <tr>\n      <th>2</th>\n      <td>1962</td>\n      <td>10267083</td>\n    </tr>\n    <tr>\n      <th>3</th>\n      <td>1967</td>\n      <td>11537966</td>\n    </tr>\n    <tr>\n      <th>4</th>\n      <td>1972</td>\n      <td>13079460</td>\n    </tr>\n  </tbody>\n</table>\n</div>"
          },
          "metadata": {}
        }
      ]
    },
    {
      "cell_type": "code",
      "metadata": {
        "tags": [],
        "cell_id": "00032-ae6bec4d-3a18-4a06-9ee2-5155f65f3b2c",
        "deepnote_to_be_reexecuted": false,
        "source_hash": "eb433a49",
        "execution_start": 1620032810479,
        "execution_millis": 7,
        "deepnote_cell_type": "code"
      },
      "source": "df.loc[df['year']==1967, ['year', 'pop']] #df['year']==1967 just take rows from 1967",
      "execution_count": 23,
      "outputs": [
        {
          "output_type": "execute_result",
          "execution_count": 23,
          "data": {
            "application/vnd.deepnote.dataframe.v2+json": {
              "row_count": 142,
              "column_count": 2,
              "columns": [
                {
                  "name": "year",
                  "dtype": "int64",
                  "stats": {
                    "unique_count": 1,
                    "nan_count": 0,
                    "min": "1967",
                    "max": "1967",
                    "histogram": [
                      {
                        "bin_start": 1966.5,
                        "bin_end": 1966.6,
                        "count": 0
                      },
                      {
                        "bin_start": 1966.6,
                        "bin_end": 1966.7,
                        "count": 0
                      },
                      {
                        "bin_start": 1966.7,
                        "bin_end": 1966.8,
                        "count": 0
                      },
                      {
                        "bin_start": 1966.8,
                        "bin_end": 1966.9,
                        "count": 0
                      },
                      {
                        "bin_start": 1966.9,
                        "bin_end": 1967,
                        "count": 0
                      },
                      {
                        "bin_start": 1967,
                        "bin_end": 1967.1,
                        "count": 142
                      },
                      {
                        "bin_start": 1967.1,
                        "bin_end": 1967.2,
                        "count": 0
                      },
                      {
                        "bin_start": 1967.2,
                        "bin_end": 1967.3,
                        "count": 0
                      },
                      {
                        "bin_start": 1967.3,
                        "bin_end": 1967.4,
                        "count": 0
                      },
                      {
                        "bin_start": 1967.4,
                        "bin_end": 1967.5,
                        "count": 0
                      }
                    ]
                  }
                },
                {
                  "name": "pop",
                  "dtype": "int64",
                  "stats": {
                    "unique_count": 142,
                    "nan_count": 0,
                    "min": "70787",
                    "max": "754550000",
                    "histogram": [
                      {
                        "bin_start": 70787,
                        "bin_end": 75518708.3,
                        "count": 135
                      },
                      {
                        "bin_start": 75518708.3,
                        "bin_end": 150966629.6,
                        "count": 4
                      },
                      {
                        "bin_start": 150966629.6,
                        "bin_end": 226414550.89999998,
                        "count": 1
                      },
                      {
                        "bin_start": 226414550.89999998,
                        "bin_end": 301862472.2,
                        "count": 0
                      },
                      {
                        "bin_start": 301862472.2,
                        "bin_end": 377310393.5,
                        "count": 0
                      },
                      {
                        "bin_start": 377310393.5,
                        "bin_end": 452758314.79999995,
                        "count": 0
                      },
                      {
                        "bin_start": 452758314.79999995,
                        "bin_end": 528206236.09999996,
                        "count": 1
                      },
                      {
                        "bin_start": 528206236.09999996,
                        "bin_end": 603654157.4,
                        "count": 0
                      },
                      {
                        "bin_start": 603654157.4,
                        "bin_end": 679102078.6999999,
                        "count": 0
                      },
                      {
                        "bin_start": 679102078.6999999,
                        "bin_end": 754550000,
                        "count": 1
                      }
                    ]
                  }
                },
                {
                  "name": "_deepnote_index_column",
                  "dtype": "int64"
                }
              ],
              "rows_top": [
                {
                  "year": 1967,
                  "pop": 11537966,
                  "_deepnote_index_column": 3
                },
                {
                  "year": 1967,
                  "pop": 1984060,
                  "_deepnote_index_column": 15
                },
                {
                  "year": 1967,
                  "pop": 12760499,
                  "_deepnote_index_column": 27
                },
                {
                  "year": 1967,
                  "pop": 5247469,
                  "_deepnote_index_column": 39
                },
                {
                  "year": 1967,
                  "pop": 22934225,
                  "_deepnote_index_column": 51
                },
                {
                  "year": 1967,
                  "pop": 11872264,
                  "_deepnote_index_column": 63
                },
                {
                  "year": 1967,
                  "pop": 7376998,
                  "_deepnote_index_column": 75
                },
                {
                  "year": 1967,
                  "pop": 202182,
                  "_deepnote_index_column": 87
                },
                {
                  "year": 1967,
                  "pop": 62821884,
                  "_deepnote_index_column": 99
                },
                {
                  "year": 1967,
                  "pop": 9556500,
                  "_deepnote_index_column": 111
                },
                {
                  "year": 1967,
                  "pop": 2427334,
                  "_deepnote_index_column": 123
                },
                {
                  "year": 1967,
                  "pop": 4040665,
                  "_deepnote_index_column": 135
                },
                {
                  "year": 1967,
                  "pop": 3585000,
                  "_deepnote_index_column": 147
                },
                {
                  "year": 1967,
                  "pop": 553541,
                  "_deepnote_index_column": 159
                },
                {
                  "year": 1967,
                  "pop": 88049823,
                  "_deepnote_index_column": 171
                },
                {
                  "year": 1967,
                  "pop": 8310226,
                  "_deepnote_index_column": 183
                },
                {
                  "year": 1967,
                  "pop": 5127935,
                  "_deepnote_index_column": 195
                },
                {
                  "year": 1967,
                  "pop": 3330989,
                  "_deepnote_index_column": 207
                },
                {
                  "year": 1967,
                  "pop": 6960067,
                  "_deepnote_index_column": 219
                },
                {
                  "year": 1967,
                  "pop": 6335506,
                  "_deepnote_index_column": 231
                },
                {
                  "year": 1967,
                  "pop": 20819767,
                  "_deepnote_index_column": 243
                },
                {
                  "year": 1967,
                  "pop": 1733638,
                  "_deepnote_index_column": 255
                },
                {
                  "year": 1967,
                  "pop": 3495967,
                  "_deepnote_index_column": 267
                },
                {
                  "year": 1967,
                  "pop": 8858908,
                  "_deepnote_index_column": 279
                },
                {
                  "year": 1967,
                  "pop": 754550000,
                  "_deepnote_index_column": 291
                },
                {
                  "year": 1967,
                  "pop": 19764027,
                  "_deepnote_index_column": 303
                },
                {
                  "year": 1967,
                  "pop": 217378,
                  "_deepnote_index_column": 315
                },
                {
                  "year": 1967,
                  "pop": 19941073,
                  "_deepnote_index_column": 327
                },
                {
                  "year": 1967,
                  "pop": 1179760,
                  "_deepnote_index_column": 339
                },
                {
                  "year": 1967,
                  "pop": 1588717,
                  "_deepnote_index_column": 351
                },
                {
                  "year": 1967,
                  "pop": 4744870,
                  "_deepnote_index_column": 363
                },
                {
                  "year": 1967,
                  "pop": 4174366,
                  "_deepnote_index_column": 375
                },
                {
                  "year": 1967,
                  "pop": 8139332,
                  "_deepnote_index_column": 387
                },
                {
                  "year": 1967,
                  "pop": 9835109,
                  "_deepnote_index_column": 399
                },
                {
                  "year": 1967,
                  "pop": 4838800,
                  "_deepnote_index_column": 411
                },
                {
                  "year": 1967,
                  "pop": 127617,
                  "_deepnote_index_column": 423
                },
                {
                  "year": 1967,
                  "pop": 4049146,
                  "_deepnote_index_column": 435
                },
                {
                  "year": 1967,
                  "pop": 5432424,
                  "_deepnote_index_column": 447
                },
                {
                  "year": 1967,
                  "pop": 31681188,
                  "_deepnote_index_column": 459
                },
                {
                  "year": 1967,
                  "pop": 3232927,
                  "_deepnote_index_column": 471
                },
                {
                  "year": 1967,
                  "pop": 259864,
                  "_deepnote_index_column": 483
                },
                {
                  "year": 1967,
                  "pop": 1820319,
                  "_deepnote_index_column": 495
                },
                {
                  "year": 1967,
                  "pop": 27860297,
                  "_deepnote_index_column": 507
                },
                {
                  "year": 1967,
                  "pop": 4605744,
                  "_deepnote_index_column": 519
                },
                {
                  "year": 1967,
                  "pop": 49569000,
                  "_deepnote_index_column": 531
                },
                {
                  "year": 1967,
                  "pop": 489004,
                  "_deepnote_index_column": 543
                },
                {
                  "year": 1967,
                  "pop": 439593,
                  "_deepnote_index_column": 555
                },
                {
                  "year": 1967,
                  "pop": 76368453,
                  "_deepnote_index_column": 567
                },
                {
                  "year": 1967,
                  "pop": 8490213,
                  "_deepnote_index_column": 579
                },
                {
                  "year": 1967,
                  "pop": 8716441,
                  "_deepnote_index_column": 591
                },
                {
                  "year": 1967,
                  "pop": 4690773,
                  "_deepnote_index_column": 603
                },
                {
                  "year": 1967,
                  "pop": 3451418,
                  "_deepnote_index_column": 615
                },
                {
                  "year": 1967,
                  "pop": 601287,
                  "_deepnote_index_column": 627
                },
                {
                  "year": 1967,
                  "pop": 4318137,
                  "_deepnote_index_column": 639
                },
                {
                  "year": 1967,
                  "pop": 2500689,
                  "_deepnote_index_column": 651
                },
                {
                  "year": 1967,
                  "pop": 3722800,
                  "_deepnote_index_column": 663
                },
                {
                  "year": 1967,
                  "pop": 10223422,
                  "_deepnote_index_column": 675
                },
                {
                  "year": 1967,
                  "pop": 198676,
                  "_deepnote_index_column": 687
                },
                {
                  "year": 1967,
                  "pop": 506000000,
                  "_deepnote_index_column": 699
                },
                {
                  "year": 1967,
                  "pop": 109343000,
                  "_deepnote_index_column": 711
                },
                {
                  "year": 1967,
                  "pop": 26538000,
                  "_deepnote_index_column": 723
                },
                {
                  "year": 1967,
                  "pop": 8519282,
                  "_deepnote_index_column": 735
                },
                {
                  "year": 1967,
                  "pop": 2900100,
                  "_deepnote_index_column": 747
                },
                {
                  "year": 1967,
                  "pop": 2693585,
                  "_deepnote_index_column": 759
                },
                {
                  "year": 1967,
                  "pop": 52667100,
                  "_deepnote_index_column": 771
                },
                {
                  "year": 1967,
                  "pop": 1861096,
                  "_deepnote_index_column": 783
                },
                {
                  "year": 1967,
                  "pop": 100825279,
                  "_deepnote_index_column": 795
                },
                {
                  "year": 1967,
                  "pop": 1255058,
                  "_deepnote_index_column": 807
                },
                {
                  "year": 1967,
                  "pop": 10191512,
                  "_deepnote_index_column": 819
                },
                {
                  "year": 1967,
                  "pop": 12617009,
                  "_deepnote_index_column": 831
                },
                {
                  "year": 1967,
                  "pop": 30131000,
                  "_deepnote_index_column": 843
                },
                {
                  "year": 1967,
                  "pop": 575003,
                  "_deepnote_index_column": 855
                },
                {
                  "year": 1967,
                  "pop": 2186894,
                  "_deepnote_index_column": 867
                },
                {
                  "year": 1967,
                  "pop": 996380,
                  "_deepnote_index_column": 879
                },
                {
                  "year": 1967,
                  "pop": 1279406,
                  "_deepnote_index_column": 891
                },
                {
                  "year": 1967,
                  "pop": 1759224,
                  "_deepnote_index_column": 903
                },
                {
                  "year": 1967,
                  "pop": 6334556,
                  "_deepnote_index_column": 915
                },
                {
                  "year": 1967,
                  "pop": 4147252,
                  "_deepnote_index_column": 927
                },
                {
                  "year": 1967,
                  "pop": 10154878,
                  "_deepnote_index_column": 939
                },
                {
                  "year": 1967,
                  "pop": 5212416,
                  "_deepnote_index_column": 951
                },
                {
                  "year": 1967,
                  "pop": 1230542,
                  "_deepnote_index_column": 963
                },
                {
                  "year": 1967,
                  "pop": 789309,
                  "_deepnote_index_column": 975
                },
                {
                  "year": 1967,
                  "pop": 47995559,
                  "_deepnote_index_column": 987
                },
                {
                  "year": 1967,
                  "pop": 1149500,
                  "_deepnote_index_column": 999
                },
                {
                  "year": 1967,
                  "pop": 501035,
                  "_deepnote_index_column": 1011
                },
                {
                  "year": 1967,
                  "pop": 14770296,
                  "_deepnote_index_column": 1023
                },
                {
                  "year": 1967,
                  "pop": 8680909,
                  "_deepnote_index_column": 1035
                },
                {
                  "year": 1967,
                  "pop": 25870271,
                  "_deepnote_index_column": 1047
                },
                {
                  "year": 1967,
                  "pop": 706640,
                  "_deepnote_index_column": 1059
                },
                {
                  "year": 1967,
                  "pop": 11261690,
                  "_deepnote_index_column": 1071
                },
                {
                  "year": 1967,
                  "pop": 12596822,
                  "_deepnote_index_column": 1083
                },
                {
                  "year": 1967,
                  "pop": 2728150,
                  "_deepnote_index_column": 1095
                },
                {
                  "year": 1967,
                  "pop": 1865490,
                  "_deepnote_index_column": 1107
                },
                {
                  "year": 1967,
                  "pop": 4534062,
                  "_deepnote_index_column": 1119
                },
                {
                  "year": 1967,
                  "pop": 47287752,
                  "_deepnote_index_column": 1131
                },
                {
                  "year": 1967,
                  "pop": 3786019,
                  "_deepnote_index_column": 1143
                },
                {
                  "year": 1967,
                  "pop": 714775,
                  "_deepnote_index_column": 1155
                },
                {
                  "year": 1967,
                  "pop": 60641899,
                  "_deepnote_index_column": 1167
                },
                {
                  "year": 1967,
                  "pop": 1405486,
                  "_deepnote_index_column": 1179
                },
                {
                  "year": 1967,
                  "pop": 2287985,
                  "_deepnote_index_column": 1191
                },
                {
                  "year": 1967,
                  "pop": 12132200,
                  "_deepnote_index_column": 1203
                },
                {
                  "year": 1967,
                  "pop": 35356600,
                  "_deepnote_index_column": 1215
                },
                {
                  "year": 1967,
                  "pop": 31785378,
                  "_deepnote_index_column": 1227
                },
                {
                  "year": 1967,
                  "pop": 9103000,
                  "_deepnote_index_column": 1239
                },
                {
                  "year": 1967,
                  "pop": 2648961,
                  "_deepnote_index_column": 1251
                },
                {
                  "year": 1967,
                  "pop": 414024,
                  "_deepnote_index_column": 1263
                },
                {
                  "year": 1967,
                  "pop": 19284814,
                  "_deepnote_index_column": 1275
                },
                {
                  "year": 1967,
                  "pop": 3451079,
                  "_deepnote_index_column": 1287
                },
                {
                  "year": 1967,
                  "pop": 70787,
                  "_deepnote_index_column": 1299
                },
                {
                  "year": 1967,
                  "pop": 5618198,
                  "_deepnote_index_column": 1311
                },
                {
                  "year": 1967,
                  "pop": 3965841,
                  "_deepnote_index_column": 1323
                },
                {
                  "year": 1967,
                  "pop": 7971222,
                  "_deepnote_index_column": 1335
                },
                {
                  "year": 1967,
                  "pop": 2662190,
                  "_deepnote_index_column": 1347
                },
                {
                  "year": 1967,
                  "pop": 1977600,
                  "_deepnote_index_column": 1359
                },
                {
                  "year": 1967,
                  "pop": 4442238,
                  "_deepnote_index_column": 1371
                },
                {
                  "year": 1967,
                  "pop": 1646912,
                  "_deepnote_index_column": 1383
                },
                {
                  "year": 1967,
                  "pop": 3428839,
                  "_deepnote_index_column": 1395
                },
                {
                  "year": 1967,
                  "pop": 20997321,
                  "_deepnote_index_column": 1407
                },
                {
                  "year": 1967,
                  "pop": 32850275,
                  "_deepnote_index_column": 1419
                },
                {
                  "year": 1967,
                  "pop": 11737396,
                  "_deepnote_index_column": 1431
                },
                {
                  "year": 1967,
                  "pop": 12716129,
                  "_deepnote_index_column": 1443
                },
                {
                  "year": 1967,
                  "pop": 420690,
                  "_deepnote_index_column": 1455
                },
                {
                  "year": 1967,
                  "pop": 7867931,
                  "_deepnote_index_column": 1467
                },
                {
                  "year": 1967,
                  "pop": 6063000,
                  "_deepnote_index_column": 1479
                },
                {
                  "year": 1967,
                  "pop": 5680812,
                  "_deepnote_index_column": 1491
                },
                {
                  "year": 1967,
                  "pop": 13648692,
                  "_deepnote_index_column": 1503
                },
                {
                  "year": 1967,
                  "pop": 12607312,
                  "_deepnote_index_column": 1515
                },
                {
                  "year": 1967,
                  "pop": 34024249,
                  "_deepnote_index_column": 1527
                },
                {
                  "year": 1967,
                  "pop": 1735550,
                  "_deepnote_index_column": 1539
                },
                {
                  "year": 1967,
                  "pop": 960155,
                  "_deepnote_index_column": 1551
                },
                {
                  "year": 1967,
                  "pop": 4786986,
                  "_deepnote_index_column": 1563
                },
                {
                  "year": 1967,
                  "pop": 33411317,
                  "_deepnote_index_column": 1575
                },
                {
                  "year": 1967,
                  "pop": 8900294,
                  "_deepnote_index_column": 1587
                },
                {
                  "year": 1967,
                  "pop": 54959000,
                  "_deepnote_index_column": 1599
                },
                {
                  "year": 1967,
                  "pop": 198712000,
                  "_deepnote_index_column": 1611
                },
                {
                  "year": 1967,
                  "pop": 2748579,
                  "_deepnote_index_column": 1623
                },
                {
                  "year": 1967,
                  "pop": 9709552,
                  "_deepnote_index_column": 1635
                },
                {
                  "year": 1967,
                  "pop": 39463910,
                  "_deepnote_index_column": 1647
                },
                {
                  "year": 1967,
                  "pop": 1142636,
                  "_deepnote_index_column": 1659
                },
                {
                  "year": 1967,
                  "pop": 6740785,
                  "_deepnote_index_column": 1671
                },
                {
                  "year": 1967,
                  "pop": 3900000,
                  "_deepnote_index_column": 1683
                },
                {
                  "year": 1967,
                  "pop": 4995432,
                  "_deepnote_index_column": 1695
                }
              ],
              "rows_bottom": null
            },
            "text/plain": "      year       pop\n3     1967  11537966\n15    1967   1984060\n27    1967  12760499\n39    1967   5247469\n51    1967  22934225\n...    ...       ...\n1647  1967  39463910\n1659  1967   1142636\n1671  1967   6740785\n1683  1967   3900000\n1695  1967   4995432\n\n[142 rows x 2 columns]",
            "text/html": "<div>\n<style scoped>\n    .dataframe tbody tr th:only-of-type {\n        vertical-align: middle;\n    }\n\n    .dataframe tbody tr th {\n        vertical-align: top;\n    }\n\n    .dataframe thead th {\n        text-align: right;\n    }\n</style>\n<table border=\"1\" class=\"dataframe\">\n  <thead>\n    <tr style=\"text-align: right;\">\n      <th></th>\n      <th>year</th>\n      <th>pop</th>\n    </tr>\n  </thead>\n  <tbody>\n    <tr>\n      <th>3</th>\n      <td>1967</td>\n      <td>11537966</td>\n    </tr>\n    <tr>\n      <th>15</th>\n      <td>1967</td>\n      <td>1984060</td>\n    </tr>\n    <tr>\n      <th>27</th>\n      <td>1967</td>\n      <td>12760499</td>\n    </tr>\n    <tr>\n      <th>39</th>\n      <td>1967</td>\n      <td>5247469</td>\n    </tr>\n    <tr>\n      <th>51</th>\n      <td>1967</td>\n      <td>22934225</td>\n    </tr>\n    <tr>\n      <th>...</th>\n      <td>...</td>\n      <td>...</td>\n    </tr>\n    <tr>\n      <th>1647</th>\n      <td>1967</td>\n      <td>39463910</td>\n    </tr>\n    <tr>\n      <th>1659</th>\n      <td>1967</td>\n      <td>1142636</td>\n    </tr>\n    <tr>\n      <th>1671</th>\n      <td>1967</td>\n      <td>6740785</td>\n    </tr>\n    <tr>\n      <th>1683</th>\n      <td>1967</td>\n      <td>3900000</td>\n    </tr>\n    <tr>\n      <th>1695</th>\n      <td>1967</td>\n      <td>4995432</td>\n    </tr>\n  </tbody>\n</table>\n<p>142 rows × 2 columns</p>\n</div>"
          },
          "metadata": {}
        }
      ]
    },
    {
      "cell_type": "code",
      "metadata": {
        "tags": [],
        "cell_id": "00033-1a874870-e6c8-46c9-a063-ca789ca8582b",
        "deepnote_to_be_reexecuted": false,
        "source_hash": "dc481696",
        "execution_start": 1620032810506,
        "execution_millis": 7,
        "deepnote_cell_type": "code"
      },
      "source": "#multiple boolian subsetting \ndf.loc[(df['year']==1967)& (df['pop']> 1_000_000), ['year', 'pop']] #_ is the same as 1000000 (integers) and makes code easier to read\n# & both true or at least one is true\n",
      "execution_count": 24,
      "outputs": [
        {
          "output_type": "execute_result",
          "execution_count": 24,
          "data": {
            "application/vnd.deepnote.dataframe.v2+json": {
              "row_count": 123,
              "column_count": 2,
              "columns": [
                {
                  "name": "year",
                  "dtype": "int64",
                  "stats": {
                    "unique_count": 1,
                    "nan_count": 0,
                    "min": "1967",
                    "max": "1967",
                    "histogram": [
                      {
                        "bin_start": 1966.5,
                        "bin_end": 1966.6,
                        "count": 0
                      },
                      {
                        "bin_start": 1966.6,
                        "bin_end": 1966.7,
                        "count": 0
                      },
                      {
                        "bin_start": 1966.7,
                        "bin_end": 1966.8,
                        "count": 0
                      },
                      {
                        "bin_start": 1966.8,
                        "bin_end": 1966.9,
                        "count": 0
                      },
                      {
                        "bin_start": 1966.9,
                        "bin_end": 1967,
                        "count": 0
                      },
                      {
                        "bin_start": 1967,
                        "bin_end": 1967.1,
                        "count": 123
                      },
                      {
                        "bin_start": 1967.1,
                        "bin_end": 1967.2,
                        "count": 0
                      },
                      {
                        "bin_start": 1967.2,
                        "bin_end": 1967.3,
                        "count": 0
                      },
                      {
                        "bin_start": 1967.3,
                        "bin_end": 1967.4,
                        "count": 0
                      },
                      {
                        "bin_start": 1967.4,
                        "bin_end": 1967.5,
                        "count": 0
                      }
                    ]
                  }
                },
                {
                  "name": "pop",
                  "dtype": "int64",
                  "stats": {
                    "unique_count": 123,
                    "nan_count": 0,
                    "min": "1142636",
                    "max": "754550000",
                    "histogram": [
                      {
                        "bin_start": 1142636,
                        "bin_end": 76483372.4,
                        "count": 117
                      },
                      {
                        "bin_start": 76483372.4,
                        "bin_end": 151824108.8,
                        "count": 3
                      },
                      {
                        "bin_start": 151824108.8,
                        "bin_end": 227164845.20000002,
                        "count": 1
                      },
                      {
                        "bin_start": 227164845.20000002,
                        "bin_end": 302505581.6,
                        "count": 0
                      },
                      {
                        "bin_start": 302505581.6,
                        "bin_end": 377846318,
                        "count": 0
                      },
                      {
                        "bin_start": 377846318,
                        "bin_end": 453187054.40000004,
                        "count": 0
                      },
                      {
                        "bin_start": 453187054.40000004,
                        "bin_end": 528527790.8000001,
                        "count": 1
                      },
                      {
                        "bin_start": 528527790.8000001,
                        "bin_end": 603868527.2,
                        "count": 0
                      },
                      {
                        "bin_start": 603868527.2,
                        "bin_end": 679209263.6,
                        "count": 0
                      },
                      {
                        "bin_start": 679209263.6,
                        "bin_end": 754550000,
                        "count": 1
                      }
                    ]
                  }
                },
                {
                  "name": "_deepnote_index_column",
                  "dtype": "int64"
                }
              ],
              "rows_top": [
                {
                  "year": 1967,
                  "pop": 11537966,
                  "_deepnote_index_column": 3
                },
                {
                  "year": 1967,
                  "pop": 1984060,
                  "_deepnote_index_column": 15
                },
                {
                  "year": 1967,
                  "pop": 12760499,
                  "_deepnote_index_column": 27
                },
                {
                  "year": 1967,
                  "pop": 5247469,
                  "_deepnote_index_column": 39
                },
                {
                  "year": 1967,
                  "pop": 22934225,
                  "_deepnote_index_column": 51
                },
                {
                  "year": 1967,
                  "pop": 11872264,
                  "_deepnote_index_column": 63
                },
                {
                  "year": 1967,
                  "pop": 7376998,
                  "_deepnote_index_column": 75
                },
                {
                  "year": 1967,
                  "pop": 62821884,
                  "_deepnote_index_column": 99
                },
                {
                  "year": 1967,
                  "pop": 9556500,
                  "_deepnote_index_column": 111
                },
                {
                  "year": 1967,
                  "pop": 2427334,
                  "_deepnote_index_column": 123
                },
                {
                  "year": 1967,
                  "pop": 4040665,
                  "_deepnote_index_column": 135
                },
                {
                  "year": 1967,
                  "pop": 3585000,
                  "_deepnote_index_column": 147
                },
                {
                  "year": 1967,
                  "pop": 88049823,
                  "_deepnote_index_column": 171
                },
                {
                  "year": 1967,
                  "pop": 8310226,
                  "_deepnote_index_column": 183
                },
                {
                  "year": 1967,
                  "pop": 5127935,
                  "_deepnote_index_column": 195
                },
                {
                  "year": 1967,
                  "pop": 3330989,
                  "_deepnote_index_column": 207
                },
                {
                  "year": 1967,
                  "pop": 6960067,
                  "_deepnote_index_column": 219
                },
                {
                  "year": 1967,
                  "pop": 6335506,
                  "_deepnote_index_column": 231
                },
                {
                  "year": 1967,
                  "pop": 20819767,
                  "_deepnote_index_column": 243
                },
                {
                  "year": 1967,
                  "pop": 1733638,
                  "_deepnote_index_column": 255
                },
                {
                  "year": 1967,
                  "pop": 3495967,
                  "_deepnote_index_column": 267
                },
                {
                  "year": 1967,
                  "pop": 8858908,
                  "_deepnote_index_column": 279
                },
                {
                  "year": 1967,
                  "pop": 754550000,
                  "_deepnote_index_column": 291
                },
                {
                  "year": 1967,
                  "pop": 19764027,
                  "_deepnote_index_column": 303
                },
                {
                  "year": 1967,
                  "pop": 19941073,
                  "_deepnote_index_column": 327
                },
                {
                  "year": 1967,
                  "pop": 1179760,
                  "_deepnote_index_column": 339
                },
                {
                  "year": 1967,
                  "pop": 1588717,
                  "_deepnote_index_column": 351
                },
                {
                  "year": 1967,
                  "pop": 4744870,
                  "_deepnote_index_column": 363
                },
                {
                  "year": 1967,
                  "pop": 4174366,
                  "_deepnote_index_column": 375
                },
                {
                  "year": 1967,
                  "pop": 8139332,
                  "_deepnote_index_column": 387
                },
                {
                  "year": 1967,
                  "pop": 9835109,
                  "_deepnote_index_column": 399
                },
                {
                  "year": 1967,
                  "pop": 4838800,
                  "_deepnote_index_column": 411
                },
                {
                  "year": 1967,
                  "pop": 4049146,
                  "_deepnote_index_column": 435
                },
                {
                  "year": 1967,
                  "pop": 5432424,
                  "_deepnote_index_column": 447
                },
                {
                  "year": 1967,
                  "pop": 31681188,
                  "_deepnote_index_column": 459
                },
                {
                  "year": 1967,
                  "pop": 3232927,
                  "_deepnote_index_column": 471
                },
                {
                  "year": 1967,
                  "pop": 1820319,
                  "_deepnote_index_column": 495
                },
                {
                  "year": 1967,
                  "pop": 27860297,
                  "_deepnote_index_column": 507
                },
                {
                  "year": 1967,
                  "pop": 4605744,
                  "_deepnote_index_column": 519
                },
                {
                  "year": 1967,
                  "pop": 49569000,
                  "_deepnote_index_column": 531
                },
                {
                  "year": 1967,
                  "pop": 76368453,
                  "_deepnote_index_column": 567
                },
                {
                  "year": 1967,
                  "pop": 8490213,
                  "_deepnote_index_column": 579
                },
                {
                  "year": 1967,
                  "pop": 8716441,
                  "_deepnote_index_column": 591
                },
                {
                  "year": 1967,
                  "pop": 4690773,
                  "_deepnote_index_column": 603
                },
                {
                  "year": 1967,
                  "pop": 3451418,
                  "_deepnote_index_column": 615
                },
                {
                  "year": 1967,
                  "pop": 4318137,
                  "_deepnote_index_column": 639
                },
                {
                  "year": 1967,
                  "pop": 2500689,
                  "_deepnote_index_column": 651
                },
                {
                  "year": 1967,
                  "pop": 3722800,
                  "_deepnote_index_column": 663
                },
                {
                  "year": 1967,
                  "pop": 10223422,
                  "_deepnote_index_column": 675
                },
                {
                  "year": 1967,
                  "pop": 506000000,
                  "_deepnote_index_column": 699
                },
                {
                  "year": 1967,
                  "pop": 109343000,
                  "_deepnote_index_column": 711
                },
                {
                  "year": 1967,
                  "pop": 26538000,
                  "_deepnote_index_column": 723
                },
                {
                  "year": 1967,
                  "pop": 8519282,
                  "_deepnote_index_column": 735
                },
                {
                  "year": 1967,
                  "pop": 2900100,
                  "_deepnote_index_column": 747
                },
                {
                  "year": 1967,
                  "pop": 2693585,
                  "_deepnote_index_column": 759
                },
                {
                  "year": 1967,
                  "pop": 52667100,
                  "_deepnote_index_column": 771
                },
                {
                  "year": 1967,
                  "pop": 1861096,
                  "_deepnote_index_column": 783
                },
                {
                  "year": 1967,
                  "pop": 100825279,
                  "_deepnote_index_column": 795
                },
                {
                  "year": 1967,
                  "pop": 1255058,
                  "_deepnote_index_column": 807
                },
                {
                  "year": 1967,
                  "pop": 10191512,
                  "_deepnote_index_column": 819
                },
                {
                  "year": 1967,
                  "pop": 12617009,
                  "_deepnote_index_column": 831
                },
                {
                  "year": 1967,
                  "pop": 30131000,
                  "_deepnote_index_column": 843
                },
                {
                  "year": 1967,
                  "pop": 2186894,
                  "_deepnote_index_column": 867
                },
                {
                  "year": 1967,
                  "pop": 1279406,
                  "_deepnote_index_column": 891
                },
                {
                  "year": 1967,
                  "pop": 1759224,
                  "_deepnote_index_column": 903
                },
                {
                  "year": 1967,
                  "pop": 6334556,
                  "_deepnote_index_column": 915
                },
                {
                  "year": 1967,
                  "pop": 4147252,
                  "_deepnote_index_column": 927
                },
                {
                  "year": 1967,
                  "pop": 10154878,
                  "_deepnote_index_column": 939
                },
                {
                  "year": 1967,
                  "pop": 5212416,
                  "_deepnote_index_column": 951
                },
                {
                  "year": 1967,
                  "pop": 1230542,
                  "_deepnote_index_column": 963
                },
                {
                  "year": 1967,
                  "pop": 47995559,
                  "_deepnote_index_column": 987
                },
                {
                  "year": 1967,
                  "pop": 1149500,
                  "_deepnote_index_column": 999
                },
                {
                  "year": 1967,
                  "pop": 14770296,
                  "_deepnote_index_column": 1023
                },
                {
                  "year": 1967,
                  "pop": 8680909,
                  "_deepnote_index_column": 1035
                },
                {
                  "year": 1967,
                  "pop": 25870271,
                  "_deepnote_index_column": 1047
                },
                {
                  "year": 1967,
                  "pop": 11261690,
                  "_deepnote_index_column": 1071
                },
                {
                  "year": 1967,
                  "pop": 12596822,
                  "_deepnote_index_column": 1083
                },
                {
                  "year": 1967,
                  "pop": 2728150,
                  "_deepnote_index_column": 1095
                },
                {
                  "year": 1967,
                  "pop": 1865490,
                  "_deepnote_index_column": 1107
                },
                {
                  "year": 1967,
                  "pop": 4534062,
                  "_deepnote_index_column": 1119
                },
                {
                  "year": 1967,
                  "pop": 47287752,
                  "_deepnote_index_column": 1131
                },
                {
                  "year": 1967,
                  "pop": 3786019,
                  "_deepnote_index_column": 1143
                },
                {
                  "year": 1967,
                  "pop": 60641899,
                  "_deepnote_index_column": 1167
                },
                {
                  "year": 1967,
                  "pop": 1405486,
                  "_deepnote_index_column": 1179
                },
                {
                  "year": 1967,
                  "pop": 2287985,
                  "_deepnote_index_column": 1191
                },
                {
                  "year": 1967,
                  "pop": 12132200,
                  "_deepnote_index_column": 1203
                },
                {
                  "year": 1967,
                  "pop": 35356600,
                  "_deepnote_index_column": 1215
                },
                {
                  "year": 1967,
                  "pop": 31785378,
                  "_deepnote_index_column": 1227
                },
                {
                  "year": 1967,
                  "pop": 9103000,
                  "_deepnote_index_column": 1239
                },
                {
                  "year": 1967,
                  "pop": 2648961,
                  "_deepnote_index_column": 1251
                },
                {
                  "year": 1967,
                  "pop": 19284814,
                  "_deepnote_index_column": 1275
                },
                {
                  "year": 1967,
                  "pop": 3451079,
                  "_deepnote_index_column": 1287
                },
                {
                  "year": 1967,
                  "pop": 5618198,
                  "_deepnote_index_column": 1311
                },
                {
                  "year": 1967,
                  "pop": 3965841,
                  "_deepnote_index_column": 1323
                },
                {
                  "year": 1967,
                  "pop": 7971222,
                  "_deepnote_index_column": 1335
                },
                {
                  "year": 1967,
                  "pop": 2662190,
                  "_deepnote_index_column": 1347
                },
                {
                  "year": 1967,
                  "pop": 1977600,
                  "_deepnote_index_column": 1359
                },
                {
                  "year": 1967,
                  "pop": 4442238,
                  "_deepnote_index_column": 1371
                },
                {
                  "year": 1967,
                  "pop": 1646912,
                  "_deepnote_index_column": 1383
                },
                {
                  "year": 1967,
                  "pop": 3428839,
                  "_deepnote_index_column": 1395
                },
                {
                  "year": 1967,
                  "pop": 20997321,
                  "_deepnote_index_column": 1407
                },
                {
                  "year": 1967,
                  "pop": 32850275,
                  "_deepnote_index_column": 1419
                },
                {
                  "year": 1967,
                  "pop": 11737396,
                  "_deepnote_index_column": 1431
                },
                {
                  "year": 1967,
                  "pop": 12716129,
                  "_deepnote_index_column": 1443
                },
                {
                  "year": 1967,
                  "pop": 7867931,
                  "_deepnote_index_column": 1467
                },
                {
                  "year": 1967,
                  "pop": 6063000,
                  "_deepnote_index_column": 1479
                },
                {
                  "year": 1967,
                  "pop": 5680812,
                  "_deepnote_index_column": 1491
                },
                {
                  "year": 1967,
                  "pop": 13648692,
                  "_deepnote_index_column": 1503
                },
                {
                  "year": 1967,
                  "pop": 12607312,
                  "_deepnote_index_column": 1515
                },
                {
                  "year": 1967,
                  "pop": 34024249,
                  "_deepnote_index_column": 1527
                },
                {
                  "year": 1967,
                  "pop": 1735550,
                  "_deepnote_index_column": 1539
                },
                {
                  "year": 1967,
                  "pop": 4786986,
                  "_deepnote_index_column": 1563
                },
                {
                  "year": 1967,
                  "pop": 33411317,
                  "_deepnote_index_column": 1575
                },
                {
                  "year": 1967,
                  "pop": 8900294,
                  "_deepnote_index_column": 1587
                },
                {
                  "year": 1967,
                  "pop": 54959000,
                  "_deepnote_index_column": 1599
                },
                {
                  "year": 1967,
                  "pop": 198712000,
                  "_deepnote_index_column": 1611
                },
                {
                  "year": 1967,
                  "pop": 2748579,
                  "_deepnote_index_column": 1623
                },
                {
                  "year": 1967,
                  "pop": 9709552,
                  "_deepnote_index_column": 1635
                },
                {
                  "year": 1967,
                  "pop": 39463910,
                  "_deepnote_index_column": 1647
                },
                {
                  "year": 1967,
                  "pop": 1142636,
                  "_deepnote_index_column": 1659
                },
                {
                  "year": 1967,
                  "pop": 6740785,
                  "_deepnote_index_column": 1671
                },
                {
                  "year": 1967,
                  "pop": 3900000,
                  "_deepnote_index_column": 1683
                },
                {
                  "year": 1967,
                  "pop": 4995432,
                  "_deepnote_index_column": 1695
                }
              ],
              "rows_bottom": null
            },
            "text/plain": "      year       pop\n3     1967  11537966\n15    1967   1984060\n27    1967  12760499\n39    1967   5247469\n51    1967  22934225\n...    ...       ...\n1647  1967  39463910\n1659  1967   1142636\n1671  1967   6740785\n1683  1967   3900000\n1695  1967   4995432\n\n[123 rows x 2 columns]",
            "text/html": "<div>\n<style scoped>\n    .dataframe tbody tr th:only-of-type {\n        vertical-align: middle;\n    }\n\n    .dataframe tbody tr th {\n        vertical-align: top;\n    }\n\n    .dataframe thead th {\n        text-align: right;\n    }\n</style>\n<table border=\"1\" class=\"dataframe\">\n  <thead>\n    <tr style=\"text-align: right;\">\n      <th></th>\n      <th>year</th>\n      <th>pop</th>\n    </tr>\n  </thead>\n  <tbody>\n    <tr>\n      <th>3</th>\n      <td>1967</td>\n      <td>11537966</td>\n    </tr>\n    <tr>\n      <th>15</th>\n      <td>1967</td>\n      <td>1984060</td>\n    </tr>\n    <tr>\n      <th>27</th>\n      <td>1967</td>\n      <td>12760499</td>\n    </tr>\n    <tr>\n      <th>39</th>\n      <td>1967</td>\n      <td>5247469</td>\n    </tr>\n    <tr>\n      <th>51</th>\n      <td>1967</td>\n      <td>22934225</td>\n    </tr>\n    <tr>\n      <th>...</th>\n      <td>...</td>\n      <td>...</td>\n    </tr>\n    <tr>\n      <th>1647</th>\n      <td>1967</td>\n      <td>39463910</td>\n    </tr>\n    <tr>\n      <th>1659</th>\n      <td>1967</td>\n      <td>1142636</td>\n    </tr>\n    <tr>\n      <th>1671</th>\n      <td>1967</td>\n      <td>6740785</td>\n    </tr>\n    <tr>\n      <th>1683</th>\n      <td>1967</td>\n      <td>3900000</td>\n    </tr>\n    <tr>\n      <th>1695</th>\n      <td>1967</td>\n      <td>4995432</td>\n    </tr>\n  </tbody>\n</table>\n<p>123 rows × 2 columns</p>\n</div>"
          },
          "metadata": {}
        }
      ]
    },
    {
      "cell_type": "markdown",
      "source": "<a style='text-decoration:none;line-height:16px;display:flex;color:#5B5B62;padding:10px;justify-content:end;' href='https://deepnote.com?utm_source=created-in-deepnote-cell&projectId=78fe3ed8-a981-457c-b44a-76c423bfa7ce' target=\"_blank\">\n<img alt='Created in deepnote.com' style='display:inline;max-height:16px;margin:0px;margin-right:7.5px;' src='data:image/svg+xml;base64,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' > </img>\nCreated in <span style='font-weight:600;margin-left:4px;'>Deepnote</span></a>",
      "metadata": {
        "tags": [],
        "created_in_deepnote_cell": true,
        "deepnote_cell_type": "markdown"
      }
    }
  ],
  "nbformat": 4,
  "nbformat_minor": 2,
  "metadata": {
    "orig_nbformat": 2,
    "deepnote": {
      "is_reactive": false
    },
    "deepnote_notebook_id": "d97ffc31-dddb-48cf-937c-87acc4ce0005",
    "deepnote_execution_queue": []
  }
}
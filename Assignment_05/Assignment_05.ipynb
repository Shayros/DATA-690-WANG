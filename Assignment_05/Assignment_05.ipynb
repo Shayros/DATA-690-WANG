{
  "cells": [
    {
      "cell_type": "markdown",
      "source": "# Assignment # 5\n**Name:** Shaimar R. González Morales\n\n**Date:** 3/7/ 2021\n",
      "metadata": {
        "tags": [],
        "cell_id": "00000-620dd24b-6703-4be8-80bf-46b6b4e6763e",
        "deepnote_cell_type": "markdown"
      }
    },
    {
      "cell_type": "markdown",
      "source": "## Step1 : Upload the dataset",
      "metadata": {
        "tags": [],
        "cell_id": "00001-26c20e6e-37de-4e88-b728-10ab05daa96c",
        "deepnote_cell_type": "markdown"
      }
    },
    {
      "cell_type": "code",
      "metadata": {
        "tags": [],
        "cell_id": "00000-8621af84-1731-4851-9e13-eed4be1fdb30",
        "deepnote_to_be_reexecuted": false,
        "source_hash": "9b82ee11",
        "execution_millis": 2,
        "execution_start": 1615169696327,
        "deepnote_cell_type": "code"
      },
      "source": "import pandas as pd",
      "execution_count": 2,
      "outputs": []
    },
    {
      "cell_type": "code",
      "metadata": {
        "tags": [],
        "cell_id": "00003-9edf6610-4b2f-4ec4-b1bd-67622aca8189",
        "deepnote_to_be_reexecuted": false,
        "source_hash": "bc97683c",
        "execution_millis": 1784,
        "execution_start": 1615169698238,
        "deepnote_cell_type": "code"
      },
      "source": "df=pd.read_csv(\"MERGED2017_18_PP.csv\") # upload csv",
      "execution_count": 3,
      "outputs": [
        {
          "name": "stderr",
          "text": "/shared-libs/python3.7/py-core/lib/python3.7/site-packages/IPython/core/interactiveshell.py:3166: DtypeWarning: Columns (1729) have mixed types.Specify dtype option on import or set low_memory=False.\n  interactivity=interactivity, compiler=compiler, result=result)\n",
          "output_type": "stream"
        }
      ]
    },
    {
      "cell_type": "markdown",
      "source": "## Step 2: Explore dataset",
      "metadata": {
        "tags": [],
        "cell_id": "00004-59607650-b023-46e8-8e14-dda74c28bc63",
        "deepnote_cell_type": "markdown"
      }
    },
    {
      "cell_type": "code",
      "metadata": {
        "tags": [],
        "cell_id": "00005-5135da9f-d60f-4b92-90ab-f1335914c94f",
        "deepnote_to_be_reexecuted": false,
        "source_hash": "58488aee",
        "execution_millis": 8,
        "execution_start": 1615169702471,
        "deepnote_cell_type": "code"
      },
      "source": "print(len(df)) # number of rows",
      "execution_count": 4,
      "outputs": [
        {
          "name": "stdout",
          "text": "7112\n",
          "output_type": "stream"
        }
      ]
    },
    {
      "cell_type": "code",
      "metadata": {
        "tags": [],
        "cell_id": "00005-025bdc47-2112-4a31-bb6e-9fc9613f3131",
        "deepnote_to_be_reexecuted": false,
        "source_hash": "8f60c0d5",
        "execution_millis": 8,
        "execution_start": 1615169705127,
        "deepnote_cell_type": "code"
      },
      "source": "df.shape # explore how big is the data first number is row second is columns",
      "execution_count": 5,
      "outputs": [
        {
          "output_type": "execute_result",
          "execution_count": 5,
          "data": {
            "text/plain": "(7112, 1986)"
          },
          "metadata": {}
        }
      ]
    },
    {
      "cell_type": "code",
      "metadata": {
        "tags": [],
        "cell_id": "00006-18472900-2dfc-4019-bee2-93c0b961af6a",
        "deepnote_to_be_reexecuted": false,
        "source_hash": "eab20091",
        "execution_millis": 9,
        "execution_start": 1615169706836,
        "deepnote_cell_type": "code"
      },
      "source": "col=df.columns # explore # of columns\nprint(col)",
      "execution_count": 6,
      "outputs": [
        {
          "name": "stdout",
          "text": "Index(['UNITID', 'OPEID', 'OPEID6', 'INSTNM', 'CITY', 'STABBR', 'ZIP',\n       'ACCREDAGENCY', 'INSTURL', 'NPCURL',\n       ...\n       'OMENRUP_PARTTIME_POOLED_SUPP', 'FTFTPCTPELL', 'FTFTPCTFLOAN', 'UG12MN',\n       'G12MN', 'SCUGFFN', 'POOLYRS_FTFTAIDPCT', 'FTFTPCTPELL_POOLED_SUPP',\n       'FTFTPCTFLOAN_POOLED_SUPP', 'SCUGFFN_POOLED'],\n      dtype='object', length=1986)\n",
          "output_type": "stream"
        }
      ]
    },
    {
      "cell_type": "code",
      "metadata": {
        "tags": [],
        "cell_id": "00007-2bc98889-f7ce-4612-bd46-c2a5c1b59318",
        "deepnote_to_be_reexecuted": false,
        "source_hash": "11002da7",
        "execution_millis": 19,
        "execution_start": 1615169710209,
        "deepnote_cell_type": "code"
      },
      "source": "info_top5=df.head() # info of top row\nprint(info_top5)",
      "execution_count": 7,
      "outputs": [
        {
          "name": "stdout",
          "text": "   UNITID    OPEID  OPEID6                               INSTNM        CITY  \\\n0  100654   100200    1002             Alabama A & M University      Normal   \n1  100663   105200    1052  University of Alabama at Birmingham  Birmingham   \n2  100690  2503400   25034                   Amridge University  Montgomery   \n3  100706   105500    1055  University of Alabama in Huntsville  Huntsville   \n4  100724   100500    1005             Alabama State University  Montgomery   \n\n  STABBR         ZIP  ACCREDAGENCY  INSTURL  NPCURL  ...  \\\n0     AL       35762           NaN      NaN     NaN  ...   \n1     AL  35294-0110           NaN      NaN     NaN  ...   \n2     AL  36117-3553           NaN      NaN     NaN  ...   \n3     AL       35899           NaN      NaN     NaN  ...   \n4     AL  36104-0271           NaN      NaN     NaN  ...   \n\n   OMENRUP_PARTTIME_POOLED_SUPP  FTFTPCTPELL  FTFTPCTFLOAN   UG12MN   G12MN  \\\n0                           NaN       0.7106        0.7418   5207.0  1185.0   \n1                           NaN       0.4009        0.5488  13308.0  9888.0   \n2                           NaN       0.5000        0.5000    431.0   437.0   \n3                           NaN       0.2012        0.4231   7519.0  2378.0   \n4                           NaN       0.7594        0.7402   5229.0   687.0   \n\n   SCUGFFN  POOLYRS_FTFTAIDPCT  FTFTPCTPELL_POOLED_SUPP  \\\n0   1410.0                 NaN                      NaN   \n1   1948.0                 NaN                      NaN   \n2      4.0                 NaN                      NaN   \n3   1203.0                 NaN                      NaN   \n4   1143.0                 NaN                      NaN   \n\n   FTFTPCTFLOAN_POOLED_SUPP  SCUGFFN_POOLED  \n0                       NaN             NaN  \n1                       NaN             NaN  \n2                       NaN             NaN  \n3                       NaN             NaN  \n4                       NaN             NaN  \n\n[5 rows x 1986 columns]\n",
          "output_type": "stream"
        }
      ]
    },
    {
      "cell_type": "code",
      "metadata": {
        "tags": [],
        "cell_id": "00008-f8c3cb64-82be-40ab-af75-86c4191bccc4",
        "deepnote_to_be_reexecuted": false,
        "source_hash": "a1b65582",
        "execution_millis": 15,
        "execution_start": 1615169713079,
        "deepnote_cell_type": "code"
      },
      "source": "Top5=df['INSTNM']\nTop5=Top5[0:5]\nprint(Top5) # print the top 5 colleges",
      "execution_count": 8,
      "outputs": [
        {
          "name": "stdout",
          "text": "0               Alabama A & M University\n1    University of Alabama at Birmingham\n2                     Amridge University\n3    University of Alabama in Huntsville\n4               Alabama State University\nName: INSTNM, dtype: object\n",
          "output_type": "stream"
        }
      ]
    },
    {
      "cell_type": "code",
      "metadata": {
        "tags": [],
        "cell_id": "00008-ed1f1218-f7b7-4e5b-abd4-76b90d17f65d",
        "deepnote_to_be_reexecuted": false,
        "source_hash": "bd1d043f",
        "execution_millis": 18,
        "execution_start": 1615169716234,
        "deepnote_cell_type": "code"
      },
      "source": "info_last5=df.tail()\nprint(info_last5) # print last 5 rows",
      "execution_count": 9,
      "outputs": [
        {
          "name": "stdout",
          "text": "        UNITID    OPEID  OPEID6  \\\n7107  48312404   108163    1081   \n7108  48387801  4223701   42237   \n7109  48400201  4228101   42281   \n7110  48778201  4221501   42215   \n7111  49005401  4182601   41826   \n\n                                                 INSTNM             CITY  \\\n7107                   Arizona State University at Yuma             Yuma   \n7108  Bay Area Medical Academy - San Jose Satellite ...         San Jose   \n7109           High Desert Medical College - Bakerfield      Bakersfield   \n7110                                       BCI - Malden           Malden   \n7111               HCI College - Fort Lauderdale Campus  Fort Lauderdale   \n\n     STABBR        ZIP  ACCREDAGENCY  INSTURL  NPCURL  ...  \\\n7107     AZ  853656900           NaN      NaN     NaN  ...   \n7108     CA      95113           NaN      NaN     NaN  ...   \n7109     CA      93301           NaN      NaN     NaN  ...   \n7110     MA  021480000           NaN      NaN     NaN  ...   \n7111     FL      33309           NaN      NaN     NaN  ...   \n\n      OMENRUP_PARTTIME_POOLED_SUPP  FTFTPCTPELL  FTFTPCTFLOAN  UG12MN  G12MN  \\\n7107                           NaN          NaN           NaN     NaN    NaN   \n7108                           NaN          NaN           NaN     NaN    NaN   \n7109                           NaN          NaN           NaN     NaN    NaN   \n7110                           NaN          NaN           NaN     NaN    NaN   \n7111                           NaN          NaN           NaN     NaN    NaN   \n\n      SCUGFFN  POOLYRS_FTFTAIDPCT  FTFTPCTPELL_POOLED_SUPP  \\\n7107      NaN                 NaN                      NaN   \n7108      NaN                 NaN                      NaN   \n7109      NaN                 NaN                      NaN   \n7110      NaN                 NaN                      NaN   \n7111      NaN                 NaN                      NaN   \n\n      FTFTPCTFLOAN_POOLED_SUPP  SCUGFFN_POOLED  \n7107                       NaN             NaN  \n7108                       NaN             NaN  \n7109                       NaN             NaN  \n7110                       NaN             NaN  \n7111                       NaN             NaN  \n\n[5 rows x 1986 columns]\n",
          "output_type": "stream"
        }
      ]
    },
    {
      "cell_type": "code",
      "metadata": {
        "tags": [],
        "cell_id": "00010-00a28a54-39d4-4743-9e60-91c042e7e305",
        "deepnote_to_be_reexecuted": false,
        "source_hash": "8d76b73b",
        "execution_millis": 12,
        "execution_start": 1615169719204,
        "deepnote_cell_type": "code"
      },
      "source": "Last5=df['INSTNM']\nLast5=Last5[7107:]\nprint(Last5) # print the last 5 colleges",
      "execution_count": 10,
      "outputs": [
        {
          "name": "stdout",
          "text": "7107                     Arizona State University at Yuma\n7108    Bay Area Medical Academy - San Jose Satellite ...\n7109             High Desert Medical College - Bakerfield\n7110                                         BCI - Malden\n7111                 HCI College - Fort Lauderdale Campus\nName: INSTNM, dtype: object\n",
          "output_type": "stream"
        }
      ]
    },
    {
      "cell_type": "code",
      "metadata": {
        "tags": [],
        "cell_id": "00009-855ad493-6bfa-4e35-aae0-edaa48db0260",
        "deepnote_to_be_reexecuted": false,
        "source_hash": "83ef0ca9",
        "execution_millis": 13,
        "execution_start": 1615169721740,
        "deepnote_cell_type": "code"
      },
      "source": "random_samp=df['INSTNM'].sample(n=5, random_state=1)\nprint(random_samp) # look random colleges ",
      "execution_count": 11,
      "outputs": [
        {
          "name": "stdout",
          "text": "3205                  Allen University\n4775                   Hair Academy II\n4109    Great Plains Technology Center\n4482         Leech Lake Tribal College\n3506                Paul Quinn College\nName: INSTNM, dtype: object\n",
          "output_type": "stream"
        }
      ]
    },
    {
      "cell_type": "markdown",
      "source": "## Step 3: Create new data set with selected variables",
      "metadata": {
        "tags": [],
        "cell_id": "00012-140fe096-b748-4653-8f69-915ae22029ec",
        "deepnote_cell_type": "markdown"
      }
    },
    {
      "cell_type": "code",
      "metadata": {
        "tags": [],
        "cell_id": "00012-33560d84-1c76-460a-a469-2faa26613701",
        "deepnote_to_be_reexecuted": false,
        "source_hash": "f953f8a5",
        "execution_millis": 14,
        "execution_start": 1615169724348,
        "deepnote_cell_type": "code"
      },
      "source": "New_df=df[['UNITID','INSTNM', 'CITY', 'STABBR', 'ZIP', 'ADM_RATE', 'UGDS', 'TUITIONFEE_IN', 'MN_EARN_WNE_P10']] # Selecting 9 columns from the datasets\nprint(New_df)",
      "execution_count": 12,
      "outputs": [
        {
          "name": "stdout",
          "text": "        UNITID                                             INSTNM  \\\n0       100654                           Alabama A & M University   \n1       100663                University of Alabama at Birmingham   \n2       100690                                 Amridge University   \n3       100706                University of Alabama in Huntsville   \n4       100724                           Alabama State University   \n...        ...                                                ...   \n7107  48312404                   Arizona State University at Yuma   \n7108  48387801  Bay Area Medical Academy - San Jose Satellite ...   \n7109  48400201           High Desert Medical College - Bakerfield   \n7110  48778201                                       BCI - Malden   \n7111  49005401               HCI College - Fort Lauderdale Campus   \n\n                 CITY STABBR         ZIP  ADM_RATE     UGDS  TUITIONFEE_IN  \\\n0              Normal     AL       35762    0.9027   4824.0         9857.0   \n1          Birmingham     AL  35294-0110    0.9181  12866.0         8328.0   \n2          Montgomery     AL  36117-3553       NaN    318.0         6900.0   \n3          Huntsville     AL       35899    0.8123   6917.0        10280.0   \n4          Montgomery     AL  36104-0271    0.9787   4189.0        11068.0   \n...               ...    ...         ...       ...      ...            ...   \n7107             Yuma     AZ   853656900       NaN      NaN            NaN   \n7108         San Jose     CA       95113       NaN      NaN            NaN   \n7109      Bakersfield     CA       93301       NaN      NaN            NaN   \n7110           Malden     MA   021480000       NaN      NaN            NaN   \n7111  Fort Lauderdale     FL       33309       NaN      NaN        22575.0   \n\n      MN_EARN_WNE_P10  \n0                 NaN  \n1                 NaN  \n2                 NaN  \n3                 NaN  \n4                 NaN  \n...               ...  \n7107              NaN  \n7108              NaN  \n7109              NaN  \n7110              NaN  \n7111              NaN  \n\n[7112 rows x 9 columns]\n",
          "output_type": "stream"
        }
      ]
    },
    {
      "cell_type": "markdown",
      "source": "### Definitions of the variables in the dataset\n\nUNITID=Unit ID for institution\n\nINSTNM=Institution name\t(school\tname)\n\nCITY=City\n\nSTABBR=State postcode\n\nZIP=Zip code\n\nADM_RATE=Admission rate\n\nUGDS=Enrollment of undergraduate certificate/degree-seeking students\n\nTUITIONFEE_IN=In-state tuition and fees\n\nMN_EARN_WNE_P10=Mean earnings of students working and not enrolled 10 years after entry\n",
      "metadata": {
        "tags": [],
        "cell_id": "00015-d78ad735-a6b5-4ef7-bb1c-1f4da3987fa9",
        "deepnote_cell_type": "markdown"
      }
    },
    {
      "cell_type": "markdown",
      "source": "## Step4: Explore the new DataFrame",
      "metadata": {
        "tags": [],
        "cell_id": "00016-14ecdb7f-9a07-4e23-aa39-0fba985cea6e",
        "deepnote_cell_type": "markdown"
      }
    },
    {
      "cell_type": "code",
      "metadata": {
        "tags": [],
        "cell_id": "00017-51086e6b-f245-4d8b-9339-c743babe9e32",
        "deepnote_to_be_reexecuted": false,
        "source_hash": "6d30dc57",
        "execution_millis": 6,
        "execution_start": 1615169729396,
        "deepnote_cell_type": "code"
      },
      "source": "Top10_info=New_df.head(10) #explore top 10\nprint(Top10_info)",
      "execution_count": 13,
      "outputs": [
        {
          "name": "stdout",
          "text": "   UNITID                               INSTNM            CITY STABBR  \\\n0  100654             Alabama A & M University          Normal     AL   \n1  100663  University of Alabama at Birmingham      Birmingham     AL   \n2  100690                   Amridge University      Montgomery     AL   \n3  100706  University of Alabama in Huntsville      Huntsville     AL   \n4  100724             Alabama State University      Montgomery     AL   \n5  100751            The University of Alabama      Tuscaloosa     AL   \n6  100760    Central Alabama Community College  Alexander City     AL   \n7  100812              Athens State University          Athens     AL   \n8  100830      Auburn University at Montgomery      Montgomery     AL   \n9  100858                    Auburn University          Auburn     AL   \n\n          ZIP  ADM_RATE     UGDS  TUITIONFEE_IN  MN_EARN_WNE_P10  \n0       35762    0.9027   4824.0         9857.0              NaN  \n1  35294-0110    0.9181  12866.0         8328.0              NaN  \n2  36117-3553       NaN    318.0         6900.0              NaN  \n3       35899    0.8123   6917.0        10280.0              NaN  \n4  36104-0271    0.9787   4189.0        11068.0              NaN  \n5  35487-0100    0.5330  32387.0        10780.0              NaN  \n6       35010       NaN   1404.0         4440.0              NaN  \n7       35611       NaN   2801.0            NaN              NaN  \n8  36117-3596    0.8240   4211.0         8020.0              NaN  \n9       36849    0.8393  23391.0        10968.0              NaN  \n",
          "output_type": "stream"
        }
      ]
    },
    {
      "cell_type": "code",
      "metadata": {
        "tags": [],
        "cell_id": "00014-ea9c3c14-8ee1-4795-96a3-5786034a6b9b",
        "deepnote_to_be_reexecuted": false,
        "source_hash": "9aac94d2",
        "execution_millis": 6,
        "execution_start": 1615169732295,
        "deepnote_cell_type": "code"
      },
      "source": "Top10=New_df['INSTNM'] #only printing the top 10 colleges\nTop10=Top10[:10]\nprint(Top10)",
      "execution_count": 14,
      "outputs": [
        {
          "name": "stdout",
          "text": "0               Alabama A & M University\n1    University of Alabama at Birmingham\n2                     Amridge University\n3    University of Alabama in Huntsville\n4               Alabama State University\n5              The University of Alabama\n6      Central Alabama Community College\n7                Athens State University\n8        Auburn University at Montgomery\n9                      Auburn University\nName: INSTNM, dtype: object\n",
          "output_type": "stream"
        }
      ]
    },
    {
      "cell_type": "code",
      "metadata": {
        "tags": [],
        "cell_id": "00019-c336eb21-868f-4ac6-8892-a0f503a50605",
        "deepnote_to_be_reexecuted": false,
        "source_hash": "9d1dee78",
        "execution_millis": 9,
        "execution_start": 1615169734928,
        "deepnote_cell_type": "code"
      },
      "source": "New_df.shape",
      "execution_count": 15,
      "outputs": [
        {
          "output_type": "execute_result",
          "execution_count": 15,
          "data": {
            "text/plain": "(7112, 9)"
          },
          "metadata": {}
        }
      ]
    },
    {
      "cell_type": "code",
      "metadata": {
        "tags": [],
        "cell_id": "00020-5b49e170-edc5-4378-aea5-0d5d6efeed31",
        "deepnote_to_be_reexecuted": false,
        "source_hash": "9a181d3e",
        "execution_millis": 17,
        "execution_start": 1615169737827,
        "deepnote_cell_type": "code"
      },
      "source": "info_last10=df.tail(10)\nprint(info_last10) ",
      "execution_count": 16,
      "outputs": [
        {
          "name": "stdout",
          "text": "        UNITID    OPEID  OPEID6  \\\n7102  48154401  4220901   42209   \n7103  48305401  4224601   42246   \n7104  48312401   108131    1081   \n7105  48312402   108161    1081   \n7106  48312403   108162    1081   \n7107  48312404   108163    1081   \n7108  48387801  4223701   42237   \n7109  48400201  4228101   42281   \n7110  48778201  4221501   42215   \n7111  49005401  4182601   41826   \n\n                                                 INSTNM              CITY  \\\n7102  National Personal Training Institute of Cleveland  Highland Heights   \n7103             Barber School of Pittsburgh - Ambridge          Ambridge   \n7104                 Arizona State University at Tucson            Tucson   \n7105  Arizona State University - ASU Colleges at Lak...  Lake Havasu City   \n7106        Arizona State University at The Gila Valley          Thatcher   \n7107                   Arizona State University at Yuma              Yuma   \n7108  Bay Area Medical Academy - San Jose Satellite ...          San Jose   \n7109           High Desert Medical College - Bakerfield       Bakersfield   \n7110                                       BCI - Malden            Malden   \n7111               HCI College - Fort Lauderdale Campus   Fort Lauderdale   \n\n     STABBR        ZIP  ACCREDAGENCY  INSTURL  NPCURL  ...  \\\n7102     OH      44143           NaN      NaN     NaN  ...   \n7103     PA  150030000           NaN      NaN     NaN  ...   \n7104     AZ  857454284           NaN      NaN     NaN  ...   \n7105     AZ  864036877           NaN      NaN     NaN  ...   \n7106     AZ  855525545           NaN      NaN     NaN  ...   \n7107     AZ  853656900           NaN      NaN     NaN  ...   \n7108     CA      95113           NaN      NaN     NaN  ...   \n7109     CA      93301           NaN      NaN     NaN  ...   \n7110     MA  021480000           NaN      NaN     NaN  ...   \n7111     FL      33309           NaN      NaN     NaN  ...   \n\n      OMENRUP_PARTTIME_POOLED_SUPP  FTFTPCTPELL  FTFTPCTFLOAN  UG12MN  G12MN  \\\n7102                           NaN          NaN           NaN     NaN    NaN   \n7103                           NaN          NaN           NaN     NaN    NaN   \n7104                           NaN          NaN           NaN     NaN    NaN   \n7105                           NaN          NaN           NaN     NaN    NaN   \n7106                           NaN          NaN           NaN     NaN    NaN   \n7107                           NaN          NaN           NaN     NaN    NaN   \n7108                           NaN          NaN           NaN     NaN    NaN   \n7109                           NaN          NaN           NaN     NaN    NaN   \n7110                           NaN          NaN           NaN     NaN    NaN   \n7111                           NaN          NaN           NaN     NaN    NaN   \n\n      SCUGFFN  POOLYRS_FTFTAIDPCT  FTFTPCTPELL_POOLED_SUPP  \\\n7102      NaN                 NaN                      NaN   \n7103      NaN                 NaN                      NaN   \n7104      NaN                 NaN                      NaN   \n7105      NaN                 NaN                      NaN   \n7106      NaN                 NaN                      NaN   \n7107      NaN                 NaN                      NaN   \n7108      NaN                 NaN                      NaN   \n7109      NaN                 NaN                      NaN   \n7110      NaN                 NaN                      NaN   \n7111      NaN                 NaN                      NaN   \n\n      FTFTPCTFLOAN_POOLED_SUPP  SCUGFFN_POOLED  \n7102                       NaN             NaN  \n7103                       NaN             NaN  \n7104                       NaN             NaN  \n7105                       NaN             NaN  \n7106                       NaN             NaN  \n7107                       NaN             NaN  \n7108                       NaN             NaN  \n7109                       NaN             NaN  \n7110                       NaN             NaN  \n7111                       NaN             NaN  \n\n[10 rows x 1986 columns]\n",
          "output_type": "stream"
        }
      ]
    },
    {
      "cell_type": "code",
      "metadata": {
        "tags": [],
        "cell_id": "00019-931f5f07-9d26-41fc-a218-e60a7903b617",
        "deepnote_to_be_reexecuted": false,
        "source_hash": "2a4ae7b3",
        "execution_millis": 6,
        "execution_start": 1615169741891,
        "deepnote_cell_type": "code"
      },
      "source": "Last10=New_df['INSTNM'] #only printing the last 10 colleges\nLast10=Last10[7102:]\nprint(Last10)",
      "execution_count": 17,
      "outputs": [
        {
          "name": "stdout",
          "text": "7102    National Personal Training Institute of Cleveland\n7103               Barber School of Pittsburgh - Ambridge\n7104                   Arizona State University at Tucson\n7105    Arizona State University - ASU Colleges at Lak...\n7106          Arizona State University at The Gila Valley\n7107                     Arizona State University at Yuma\n7108    Bay Area Medical Academy - San Jose Satellite ...\n7109             High Desert Medical College - Bakerfield\n7110                                         BCI - Malden\n7111                 HCI College - Fort Lauderdale Campus\nName: INSTNM, dtype: object\n",
          "output_type": "stream"
        }
      ]
    },
    {
      "cell_type": "code",
      "metadata": {
        "tags": [],
        "cell_id": "00022-70b90203-d849-48af-9da1-ba3c3c38175f",
        "deepnote_to_be_reexecuted": false,
        "source_hash": "866e89b8",
        "execution_millis": 8,
        "execution_start": 1615169744737,
        "deepnote_cell_type": "code"
      },
      "source": "random_sampnewdf=New_df['INSTNM'].sample(n=10, random_state=1)\nprint(random_sampnewdf) # look random colleges ",
      "execution_count": 18,
      "outputs": [
        {
          "name": "stdout",
          "text": "3205                                     Allen University\n4775                                      Hair Academy II\n4109                       Great Plains Technology Center\n4482                            Leech Lake Tribal College\n3506                                   Paul Quinn College\n6726    Delaware Technical Community College-Stanton/W...\n5642                                 Metro Beauty Academy\n5523                Woodruff Medical Training and Testing\n3099        Pennsylvania State University-Penn State York\n420                                    Palo Verde College\nName: INSTNM, dtype: object\n",
          "output_type": "stream"
        }
      ]
    },
    {
      "cell_type": "markdown",
      "source": "## Step 5: Explore number and info of specific universities",
      "metadata": {
        "tags": [],
        "cell_id": "00023-04125db2-d238-4e0b-b1c3-cd441839327a",
        "deepnote_cell_type": "markdown"
      }
    },
    {
      "cell_type": "code",
      "metadata": {
        "tags": [],
        "cell_id": "00024-9742d46a-f0cd-46c6-abd6-4f8bdd85ad66",
        "deepnote_to_be_reexecuted": false,
        "source_hash": "28ae5663",
        "execution_millis": 6,
        "execution_start": 1615169747819,
        "deepnote_cell_type": "code"
      },
      "source": "print(New_df[New_df['INSTNM']=='University of Maryland-Baltimore County'].index.values) # find UMBC\n",
      "execution_count": 19,
      "outputs": [
        {
          "name": "stdout",
          "text": "[1478]\n",
          "output_type": "stream"
        }
      ]
    },
    {
      "cell_type": "code",
      "metadata": {
        "tags": [],
        "cell_id": "00026-fca312ad-73cd-4e54-bc46-accb8e8b5cce",
        "deepnote_to_be_reexecuted": false,
        "source_hash": "56e07613",
        "execution_millis": 8,
        "execution_start": 1615169750105,
        "deepnote_cell_type": "code"
      },
      "source": "UMBC=New_df[1478:1479]\nprint(UMBC) # print info of UMBC",
      "execution_count": 20,
      "outputs": [
        {
          "name": "stdout",
          "text": "      UNITID                                   INSTNM       CITY STABBR  \\\n1478  163268  University of Maryland-Baltimore County  Baltimore     MD   \n\n        ZIP  ADM_RATE     UGDS  TUITIONFEE_IN  MN_EARN_WNE_P10  \n1478  21250    0.6021  11130.0        11518.0              NaN  \n",
          "output_type": "stream"
        }
      ]
    },
    {
      "cell_type": "code",
      "metadata": {
        "tags": [],
        "cell_id": "00027-0c2289f0-4b7e-47e5-badd-8099c41db417",
        "deepnote_to_be_reexecuted": false,
        "source_hash": "ceb8a591",
        "execution_millis": 7,
        "execution_start": 1615169752206,
        "deepnote_cell_type": "code"
      },
      "source": "print(New_df[New_df['INSTNM']=='University of Maryland-College Park'].index.values) # find University Maryland College Park",
      "execution_count": 21,
      "outputs": [
        {
          "name": "stdout",
          "text": "[1479]\n",
          "output_type": "stream"
        }
      ]
    },
    {
      "cell_type": "code",
      "metadata": {
        "tags": [],
        "cell_id": "00028-a25f64dc-a72b-481a-8521-18dbd4792818",
        "deepnote_to_be_reexecuted": false,
        "source_hash": "66574396",
        "execution_millis": 19,
        "execution_start": 1615169754165,
        "deepnote_cell_type": "code"
      },
      "source": "UMD=New_df[1479:1480]\nprint(UMD) # print info of University Maryland College Park",
      "execution_count": 22,
      "outputs": [
        {
          "name": "stdout",
          "text": "      UNITID                               INSTNM          CITY STABBR    ZIP  \\\n1479  163286  University of Maryland-College Park  College Park     MD  20742   \n\n      ADM_RATE     UGDS  TUITIONFEE_IN  MN_EARN_WNE_P10  \n1479     0.445  29273.0        10399.0              NaN  \n",
          "output_type": "stream"
        }
      ]
    },
    {
      "cell_type": "code",
      "metadata": {
        "tags": [],
        "cell_id": "00029-8874de00-53fe-4606-8df0-2c935d2ba779",
        "deepnote_to_be_reexecuted": false,
        "source_hash": "4cbfe36e",
        "execution_millis": 7,
        "execution_start": 1615169756937,
        "deepnote_cell_type": "code"
      },
      "source": "print(New_df[New_df['INSTNM']=='Loyola University Maryland'].index.values) # find Loyola University Maryland",
      "execution_count": 23,
      "outputs": [
        {
          "name": "stdout",
          "text": "[1475]\n",
          "output_type": "stream"
        }
      ]
    },
    {
      "cell_type": "code",
      "metadata": {
        "tags": [],
        "cell_id": "00030-694c587c-60e6-4429-9e54-6ae23f8c274c",
        "deepnote_to_be_reexecuted": false,
        "source_hash": "4cb589d9",
        "execution_millis": 7,
        "execution_start": 1615169759631,
        "deepnote_cell_type": "code"
      },
      "source": "loyola=New_df[1475:1476]\nprint(loyola) # print info of Loyola University Maryland",
      "execution_count": 24,
      "outputs": [
        {
          "name": "stdout",
          "text": "      UNITID                      INSTNM       CITY STABBR         ZIP  \\\n1475  163046  Loyola University Maryland  Baltimore     MD  21210-2699   \n\n      ADM_RATE    UGDS  TUITIONFEE_IN  MN_EARN_WNE_P10  \n1475    0.7528  3903.0        47560.0              NaN  \n",
          "output_type": "stream"
        }
      ]
    },
    {
      "cell_type": "code",
      "metadata": {
        "tags": [],
        "cell_id": "00031-1417403b-dd33-47e4-8e2b-696468037f2c",
        "deepnote_to_be_reexecuted": false,
        "source_hash": "2229f8be",
        "execution_millis": 7,
        "execution_start": 1615169761683,
        "deepnote_cell_type": "code"
      },
      "source": "print(New_df[New_df['INSTNM']=='Johns Hopkins University'].index.values) # find Johns Hopskins",
      "execution_count": 25,
      "outputs": [
        {
          "name": "stdout",
          "text": "[1473]\n",
          "output_type": "stream"
        }
      ]
    },
    {
      "cell_type": "code",
      "metadata": {
        "tags": [],
        "cell_id": "00032-90c6c761-6d48-4c7f-bffe-917028cc0a14",
        "deepnote_to_be_reexecuted": false,
        "source_hash": "689a4514",
        "execution_millis": 8,
        "execution_start": 1615169764704,
        "deepnote_cell_type": "code"
      },
      "source": "JHU=New_df[1473:1474]\nprint(JHU) # print info of Johns Hopskins",
      "execution_count": 26,
      "outputs": [
        {
          "name": "stdout",
          "text": "      UNITID                    INSTNM       CITY STABBR         ZIP  \\\n1473  162928  Johns Hopkins University  Baltimore     MD  21218-2688   \n\n      ADM_RATE    UGDS  TUITIONFEE_IN  MN_EARN_WNE_P10  \n1473    0.1254  5663.0        52170.0              NaN  \n",
          "output_type": "stream"
        }
      ]
    },
    {
      "cell_type": "markdown",
      "source": "## Step 6: Calculate the min, max, and average in-state tution of the above four institutions",
      "metadata": {
        "tags": [],
        "cell_id": "00028-65ca4314-3c55-457d-a52d-8f5ab9090502",
        "deepnote_cell_type": "markdown"
      }
    },
    {
      "cell_type": "code",
      "metadata": {
        "tags": [],
        "cell_id": "00031-e700ffbb-21cf-413e-bd21-0e0f6f1d2526",
        "deepnote_to_be_reexecuted": false,
        "source_hash": "60c50245",
        "execution_millis": 13,
        "execution_start": 1615169768062,
        "deepnote_cell_type": "code"
      },
      "source": "fourcolleges=[JHU, loyola, UMBC, UMD] # creating a variable with info of interest\nall4colleges=pd.concat(fourcolleges) #adding that info to DataFrame\nprint(all4colleges)",
      "execution_count": 27,
      "outputs": [
        {
          "name": "stdout",
          "text": "      UNITID                                   INSTNM          CITY STABBR  \\\n1473  162928                 Johns Hopkins University     Baltimore     MD   \n1475  163046               Loyola University Maryland     Baltimore     MD   \n1478  163268  University of Maryland-Baltimore County     Baltimore     MD   \n1479  163286      University of Maryland-College Park  College Park     MD   \n\n             ZIP  ADM_RATE     UGDS  TUITIONFEE_IN  MN_EARN_WNE_P10  \n1473  21218-2688    0.1254   5663.0        52170.0              NaN  \n1475  21210-2699    0.7528   3903.0        47560.0              NaN  \n1478       21250    0.6021  11130.0        11518.0              NaN  \n1479       20742    0.4450  29273.0        10399.0              NaN  \n",
          "output_type": "stream"
        }
      ]
    },
    {
      "cell_type": "code",
      "metadata": {
        "tags": [],
        "cell_id": "00035-7fa8d13d-e303-4e23-8499-4fd629dd8d92",
        "deepnote_to_be_reexecuted": false,
        "source_hash": "567ec5c5",
        "execution_millis": 10,
        "execution_start": 1615169771201,
        "deepnote_cell_type": "code"
      },
      "source": "all4colleges['TUITIONFEE_IN'].describe() # Calculate the min, max, and mean in-state tution ",
      "execution_count": 28,
      "outputs": [
        {
          "output_type": "execute_result",
          "execution_count": 28,
          "data": {
            "text/plain": "count        4.000000\nmean     30411.750000\nstd      22546.011271\nmin      10399.000000\n25%      11238.250000\n50%      29539.000000\n75%      48712.500000\nmax      52170.000000\nName: TUITIONFEE_IN, dtype: float64"
          },
          "metadata": {}
        }
      ]
    },
    {
      "cell_type": "markdown",
      "source": "## Step 7: Filter dataset further to only keep colleges from certain states",
      "metadata": {
        "tags": [],
        "cell_id": "00033-6b21bfa0-640f-43a0-b2d9-7fb5c0c3e076",
        "deepnote_cell_type": "markdown"
      }
    },
    {
      "cell_type": "code",
      "metadata": {
        "tags": [],
        "cell_id": "00037-a34d114d-746b-4cfb-a5df-44639134ea61",
        "deepnote_to_be_reexecuted": false,
        "source_hash": "64c5a2f",
        "execution_millis": 17,
        "execution_start": 1615169773993,
        "deepnote_cell_type": "code"
      },
      "source": "axisMD=(New_df[New_df['STABBR']=='MD'].index.values) # axis of MD\nprint(axisMD)",
      "execution_count": 29,
      "outputs": [
        {
          "name": "stdout",
          "text": "[1446 1447 1448 1449 1450 1451 1452 1453 1454 1455 1456 1457 1458 1459\n 1460 1461 1462 1463 1464 1465 1466 1467 1468 1469 1470 1471 1472 1473\n 1474 1475 1476 1477 1478 1479 1480 1481 1482 1483 1484 1485 1486 1487\n 1488 1489 1490 1491 1492 1493 1494 1495 1496 1497 1498 1499 1500 1501\n 1502 1503 1504 3004 4144 4225 4413 4677 4752 4762 4769 4770 4775 5043\n 5143 5209 5314 5408 5473 5474 5529 5834 6016 6088 6099 6118 6134 6183\n 6483 6717 6800 7004 7005 7006 7007]\n",
          "output_type": "stream"
        }
      ]
    },
    {
      "cell_type": "code",
      "metadata": {
        "tags": [],
        "cell_id": "00036-7cdc9d6c-275b-4924-8df8-28a53ccf4735",
        "deepnote_to_be_reexecuted": false,
        "source_hash": "fec51ce9",
        "execution_millis": 6,
        "execution_start": 1615169776551,
        "deepnote_cell_type": "code"
      },
      "source": "Maryland = New_df.iloc[[1446, 1447, 1448, 1449, 1450, 1451, 1452,1453,1454, 1455, 1456, 1457, 1458, 1459,\n 1460, 1461, 1462, 1463, 1464, 1465, 1466, 1467, 1468, 1469, 1470, 1471, 1472, 1473,\n 1474, 1475, 1476, 1477, 1478, 1479, 1480,1481, 1482, 1483, 1484, 1485, 1486, 1487,\n 1488, 1489, 1490, 1491, 1492, 1493, 1494, 1495, 1496, 1497, 1498, 1499, 1500, 1501,\n 1502, 1503, 1504, 3004, 4144, 4225, 4413, 4677, 475, 4762, 4769, 4770,4775, 5043,\n 5143, 5209, 5314, 5408, 5473, 5474, 5529, 5834, 6016, 6088, 6099, 6118, 6134, 6183,\n 6483, 6717, 6800, 7004, 7005, 7006, 7007], :]\nprint(Maryland) # print info of colleges in Maryland",
      "execution_count": 30,
      "outputs": [
        {
          "name": "stdout",
          "text": "        UNITID                                  INSTNM          CITY STABBR  \\\n1446    161651     Aesthetics Institute of Cosmetology  Gaithersburg     MD   \n1447    161688            Allegany College of Maryland    Cumberland     MD   \n1448    161767          Anne Arundel Community College        Arnold     MD   \n1449    161776               Brightwood College-Towson        Towson     MD   \n1450    161800                     Award Beauty School    Hagerstown     MD   \n...        ...                                     ...           ...    ...   \n6800  16210401          Cecil College - Elkton Station        Elkton     MD   \n7004  43018401     Strayer University-Rockville Campus     Rockville     MD   \n7005  43018402  Strayer University-Anne Arundel Campus  Millersville     MD   \n7006  43018403   Strayer University-White Marsh Campus     Baltimore     MD   \n7007  43018404  Strayer University-Owings Mills Campus  Owings Mills     MD   \n\n             ZIP  ADM_RATE     UGDS  TUITIONFEE_IN  MN_EARN_WNE_P10  \n1446       20877       NaN     25.0            NaN              NaN  \n1447  21502-2596       NaN   1990.0         3940.0              NaN  \n1448  21012-1895       NaN  11294.0         4646.0              NaN  \n1449  21286-2201       NaN    309.0            NaN              NaN  \n1450  21740-5610       NaN    157.0            NaN              NaN  \n...          ...       ...      ...            ...              ...  \n6800   219215535       NaN      NaN         4005.0              NaN  \n7004       20850       NaN      NaN        13857.0              NaN  \n7005       21108       NaN      NaN        13857.0              NaN  \n7006       21236       NaN      NaN        13857.0              NaN  \n7007       21117       NaN      NaN        13857.0              NaN  \n\n[91 rows x 9 columns]\n",
          "output_type": "stream"
        }
      ]
    },
    {
      "cell_type": "code",
      "metadata": {
        "tags": [],
        "cell_id": "00033-c565907f-94f0-4f30-8ba9-86e817535b23",
        "deepnote_to_be_reexecuted": false,
        "source_hash": "79885fd3",
        "execution_millis": 8,
        "execution_start": 1615169779790,
        "deepnote_cell_type": "code"
      },
      "source": "axisVA=(New_df[New_df['STABBR']=='VA'].index.values) # find axis of VA\nprint(axisVA)",
      "execution_count": 31,
      "outputs": [
        {
          "name": "stdout",
          "text": "[3627 3628 3629 3630 3631 3632 3633 3634 3635 3636 3637 3638 3639 3640\n 3641 3642 3643 3644 3645 3646 3647 3648 3649 3650 3651 3652 3653 3654\n 3655 3656 3657 3658 3659 3660 3661 3662 3663 3664 3665 3666 3667 3668\n 3669 3670 3671 3672 3673 3674 3675 3676 3677 3678 3679 3680 3681 3682\n 3683 3684 3685 3686 3687 3688 3689 3690 3691 3692 3693 3694 3695 3696\n 3697 3698 3699 3700 3701 3702 3703 3704 3705 3706 3707 3708 3709 3710\n 3711 3712 3713 3714 3715 3716 4046 4154 4275 4276 4277 4325 4422 4599\n 4606 4655 4656 4657 4681 4682 4705 4726 4798 4810 4822 4825 4880 4942\n 4943 4970 4975 5042 5114 5119 5133 5223 5296 5303 5304 5309 5333 5391\n 5536 5654 5655 5674 5700 5702 5713 5714 5766 5798 5801 5836 5839 5955\n 5999 6013 6064 6089 6114 6160 6218 6263 6267 6269 6270 6331 6338 6413\n 6426 6592 6626 6693 6799 6930 6931 6932 6933 6934 6935 6936 6937 6938\n 6939 6959 6963 6968 6969 6970 6971 6972 6973]\n",
          "output_type": "stream"
        }
      ]
    },
    {
      "cell_type": "code",
      "metadata": {
        "tags": [],
        "cell_id": "00040-ddc1c5e9-3382-4eff-adfc-afea426cdeb4",
        "deepnote_to_be_reexecuted": false,
        "source_hash": "26bc5ec8",
        "execution_millis": 11,
        "execution_start": 1615169782356,
        "deepnote_cell_type": "code"
      },
      "source": "Virginia=New_df.iloc[[3627, 3628, 3629, 3630, 3631,3632, 3633, 3634, 3635, 3636, 3637, 3638, 3639, 3640,\n 3641, 3642, 3643, 3644, 3645, 3646, 3647, 3648, 3649, 3650, 3651, 3652, 3653, 3654,\n 3655,3656, 3657, 3658, 3659, 3660, 3661, 3662, 3663, 3664, 3665, 3666, 3667, 3668,\n 3669, 3670, 3671, 3672, 3673, 3674, 3675, 3676, 3677, 3678, 3679, 3680, 3681, 3682,\n 3683, 3684, 3685, 3686, 3687, 3688, 3689, 3690, 3691, 3692, 3693, 3694, 3695, 3696,\n 3697, 3698, 3699, 3700, 3701, 3702, 3703, 3704, 3705, 3706, 3707, 3708, 3709, 3710,\n 3711, 3712, 3713, 3714, 3715, 3716, 4046, 4154, 4275, 4276, 4277, 4325, 4422, 4599,\n 4606, 4655, 4656, 4657, 4681, 4682, 4705, 4726, 4798, 4810, 4822, 4825, 4880, 4942,\n 4943, 4970, 4975, 5042, 5114, 5119, 5133, 5223, 5296, 5303, 5304, 5309, 5333, 5391,\n 5536, 5654, 5655, 5674, 5700, 5702, 5713, 5714, 5766, 5798, 5801, 5836, 5839, 5955,\n 5999, 6013, 6064, 6089, 6114, 6160, 6218, 6263, 6267, 6269, 6270, 6331, 6338, 6413,\n 6426, 6592, 6626, 6693, 6799, 6930, 6931, 6932, 6933, 6934, 6935, 6936, 6937, 6938,\n 6939, 6959, 6963, 6968, 6969, 6970, 6971, 6972, 6973], :]\nprint(Virginia) # print info of colleges in Virginia",
      "execution_count": 32,
      "outputs": [
        {
          "name": "stdout",
          "text": "        UNITID                                          INSTNM  \\\n3627    231280                Paul Mitchell the School-Roanoke   \n3628    231411                   Advanced Technology Institute   \n3629    231420                              Averett University   \n3630    231536                    Blue Ridge Community College   \n3631    231554                               Bluefield College   \n...        ...                                             ...   \n6969  24893411  ECPI University-Virginia Beach Health Sciences   \n6970  24893412                  ECPI University-Richmond South   \n6971  24893413                       ECPI University-Innsbrook   \n6972  24893414                   ECPI University-Richmond West   \n6973  24893415                       ECPI University - Roanoke   \n\n                CITY STABBR         ZIP  ADM_RATE    UGDS  TUITIONFEE_IN  \\\n3627         Roanoke     VA       24015       NaN    84.0            NaN   \n3628  Virginia Beach     VA       23462    0.7954   464.0        13250.0   \n3629        Danville     VA       24541    0.6102   908.0        33350.0   \n3630     Weyers Cave     VA  24486-0080       NaN  3054.0         5252.0   \n3631       Bluefield     VA       24605    0.9112   874.0        24800.0   \n...              ...    ...         ...       ...     ...            ...   \n6969  Virginia Beach     VA   234621603       NaN     NaN        15261.0   \n6970        Richmond     VA   232361603       NaN     NaN        14985.0   \n6971      Glen Allen     VA   230601603       NaN     NaN        15263.0   \n6972        Richmond     VA   232941603       NaN     NaN        16039.0   \n6973         Roanoke     VA   240121603       NaN     NaN        15525.0   \n\n      MN_EARN_WNE_P10  \n3627              NaN  \n3628              NaN  \n3629              NaN  \n3630              NaN  \n3631              NaN  \n...               ...  \n6969              NaN  \n6970              NaN  \n6971              NaN  \n6972              NaN  \n6973              NaN  \n\n[177 rows x 9 columns]\n",
          "output_type": "stream"
        }
      ]
    },
    {
      "cell_type": "code",
      "metadata": {
        "tags": [],
        "cell_id": "00041-c98eb747-5df9-4578-bf91-2fd7137ce6fe",
        "deepnote_to_be_reexecuted": false,
        "source_hash": "d8024580",
        "execution_millis": 13,
        "execution_start": 1615169785318,
        "deepnote_cell_type": "code"
      },
      "source": "axisPA=(New_df[New_df['STABBR']=='PA'].index.values) # find axis of Pennsylvannia\nprint(axisPA)",
      "execution_count": 33,
      "outputs": [
        {
          "name": "stdout",
          "text": "[2933 2934 2935 2936 2937 2938 2939 2940 2941 2942 2943 2944 2945 2946\n 2947 2948 2949 2950 2951 2952 2953 2954 2955 2956 2957 2958 2959 2960\n 2961 2962 2963 2964 2965 2966 2967 2968 2969 2970 2971 2972 2973 2974\n 2975 2976 2977 2978 2979 2980 2981 2982 2983 2984 2985 2986 2987 2988\n 2989 2990 2991 2992 2993 2994 2995 2996 2998 2999 3000 3001 3002 3003\n 3005 3006 3007 3008 3009 3010 3011 3012 3013 3014 3015 3016 3017 3018\n 3019 3020 3021 3022 3023 3024 3025 3026 3027 3028 3029 3030 3031 3032\n 3033 3034 3035 3036 3037 3038 3039 3040 3041 3042 3043 3044 3045 3046\n 3047 3048 3049 3050 3051 3052 3053 3054 3055 3056 3057 3058 3059 3060\n 3061 3062 3063 3064 3065 3066 3067 3068 3069 3070 3071 3072 3073 3074\n 3075 3076 3077 3078 3079 3080 3081 3082 3083 3084 3085 3086 3087 3088\n 3089 3090 3091 3092 3093 3094 3095 3096 3097 3098 3099 3100 3101 3102\n 3103 3104 3105 3106 3107 3108 3109 3110 3111 3112 3113 3114 3115 3116\n 3117 3118 3119 3120 3121 3122 3123 3124 3125 3126 3127 3128 3129 3130\n 3131 3132 3133 3134 3135 3136 3137 3138 3139 3140 3141 3142 3143 3144\n 3145 3146 3147 3148 3149 3150 3151 3152 3153 3154 3155 3156 3157 3158\n 3159 3160 3161 3162 3163 3164 3165 3166 3167 3168 3169 3170 3171 3172\n 3173 3174 3175 3176 3177 3178 3179 3180 3181 3182 3183 3184 3185 3186\n 3187 3188 4010 4039 4040 4050 4051 4052 4057 4062 4079 4125 4136 4151\n 4164 4175 4193 4255 4256 4257 4335 4351 4419 4420 4446 4455 4494 4499\n 4502 4535 4562 4563 4564 4565 4566 4567 4568 4569 4570 4571 4572 4573\n 4574 4575 4595 4596 4600 4679 4693 4695 4710 4816 4817 4873 4874 4908\n 4935 4950 4959 5007 5008 5025 5034 5044 5076 5116 5144 5154 5159 5240\n 5246 5249 5334 5381 5396 5532 5559 5562 5641 5642 5672 5683 5767 5779\n 5817 5818 5929 5947 6066 6081 6084 6120 6215 6222 6233 6243 6266 6271\n 6332 6349 6360 6383 6392 6536 6607 6899 6904 6905 6906 6907 6908 6909\n 6910 6911 6913 6914 6915 6984 7020 7021 7022 7023 7024 7063 7089 7103]\n",
          "output_type": "stream"
        }
      ]
    },
    {
      "cell_type": "code",
      "metadata": {
        "tags": [],
        "cell_id": "00035-39dcac58-fc3d-41d7-85e1-fd1c9180762c",
        "deepnote_to_be_reexecuted": false,
        "source_hash": "7ce20782",
        "execution_millis": 9,
        "execution_start": 1615169788789,
        "deepnote_cell_type": "code"
      },
      "source": "Pennsylvania=New_df.iloc[[2933, 2934, 2935, 2936, 2937, 2938, 2939, 2940, 2941, 2942, 2943, 2944, 2945, 2946,\n 2947, 2948, 2949, 2950, 2951, 2952, 2953, 2954, 2955, 2956, 2957, 2958, 2959, 2960,\n 2961, 2962, 2963, 2964, 2965, 2966, 2967, 2968, 2969, 2970, 2971, 2972, 2973, 2974,\n 2975, 2976, 2977, 2978, 2979, 2980, 2981, 2982, 2983, 2984, 2985, 2986, 2987, 2988,\n 2989, 2990, 2991, 2992, 2993, 2994, 2995, 2996, 2998, 2999, 3000, 3001, 3002, 3003,\n 3005, 3006, 3007, 3008, 3009, 3010, 3011, 3012, 3013, 3014, 3015, 3016, 3017, 3018,\n 3019, 3020, 3021, 3022, 3023, 3024, 3025, 3026, 3027, 3028, 3029, 3030, 3031, 3032,\n 3033, 3034, 3035, 3036, 3037, 3038, 3039, 3040, 3041, 3042, 3043, 3044, 3045, 3046,\n 3047, 3048, 3049, 3050, 3051, 3052, 3053, 3054, 3055, 3056, 3057, 3058, 3059, 3060,\n 3061, 3062, 3063, 3064, 3065, 3066, 3067, 3068, 3069, 3070, 3071, 3072, 3073, 3074,\n 3075, 3076, 3077, 3078, 3079, 3080, 3081, 3082, 3083, 3084, 3085, 3086, 3087, 3088,\n 3089, 3090, 3091, 3092, 3093, 3094, 3095, 3096, 3097, 3098, 3099, 3100, 3101, 3102,\n 3103, 3104, 3105, 3106, 3107, 3108, 3109, 3110, 3111, 3112, 3113, 3114, 3115, 3116,\n 3117, 3118, 3119, 3120, 3121, 3122, 3123, 3124, 3125, 3126, 3127, 3128, 3129, 3130,\n 3131, 3132, 3133, 3134, 3135, 3136, 3137, 3138, 3139, 3140, 3141, 3142, 3143, 3144,\n 3145, 3146, 3147, 3148, 3149, 3150, 3151, 3152, 3153, 3154, 3155, 3156, 3157, 3158,\n 3159, 3160, 3161, 3162, 3163, 3164, 3165, 3166, 3167, 3168, 3169, 3170, 3171, 3172,\n 3173, 3174, 3175, 3176, 3177, 3178, 3179, 3180, 3181, 3182, 3183, 3184, 3185, 3186,\n 3187, 3188, 4010, 4039, 4040, 4050, 4051, 4052, 4057, 4062, 4079, 4125, 4136, 4151,\n 4164, 4175, 4193, 4255, 4256, 4257, 4335, 4351, 4419, 4420, 4446, 4455, 4494, 4499,\n 4502, 4535, 4562, 4563, 4564, 4565, 4566, 4567, 4568, 4569, 4570, 4571, 4572, 4573,\n 4574, 4575, 4595, 4596, 4600, 4679, 4693, 4695, 4710, 4816, 4817, 4873, 4874, 4908,\n 4935, 4950, 4959, 5007, 5008, 5025, 5034, 5044, 5076, 5116, 5144, 5154, 5159, 5240,\n 5246, 5249, 5334, 5381, 5396, 5532, 5559, 5562, 5641, 5642, 5672, 5683, 5767, 5779,\n 5817, 5818, 5929, 5947, 6066, 6081, 6084, 6120, 6215, 6222, 6233, 6243, 6266, 6271,\n 6332, 6349, 6360, 6383, 6392, 6536, 6607, 6899, 6904, 6905, 6906, 6907, 6908, 6909,\n 6910, 6911, 6913, 6914, 6915, 6984, 7020, 7021, 7022, 7023, 7024, 7063, 7089, 7103], :]\nprint(Pennsylvania) # print info of colleges in Pennsylvannia",
      "execution_count": 34,
      "outputs": [
        {
          "name": "stdout",
          "text": "        UNITID                                             INSTNM  \\\n2933    210474             Jolie Hair and Beauty Academy-Hazleton   \n2934    210492               Bryn Athyn College of the New Church   \n2935    210508                              Academy of Vocal Arts   \n2936    210571                                   Albright College   \n2937    210599                            All-State Career School   \n...        ...                                                ...   \n7023  44378405               Strayer University-Warrendale Campus   \n7024  44378406                Strayer University-Allentown Campus   \n7063  45794301   Somerset County Technology Center - Bedford Site   \n7089  47503308  Relay Graduate School of Education - Philadelp...   \n7103  48305401             Barber School of Pittsburgh - Ambridge   \n\n               CITY STABBR         ZIP  ADM_RATE    UGDS  TUITIONFEE_IN  \\\n2933       Hazleton     PA       18201       NaN    61.0            NaN   \n2934     Bryn Athyn     PA  19009-0711    0.8755   323.0        21126.0   \n2935   Philadelphia     PA  19103-6685       NaN     NaN            NaN   \n2936        Reading     PA  19612-5234    0.5004  1999.0        43454.0   \n2937      Essington     PA       19029       NaN   306.0            NaN   \n...             ...    ...         ...       ...     ...            ...   \n7023     Warrendale     PA       15086       NaN     NaN        13857.0   \n7024  Center Valley     PA       18034       NaN     NaN        13857.0   \n7063        Bedford     PA       15522       NaN     NaN            NaN   \n7089   Philadelphia     PA   191224906       NaN     NaN            NaN   \n7103       Ambridge     PA   150030000       NaN     NaN            NaN   \n\n      MN_EARN_WNE_P10  \n2933              NaN  \n2934              NaN  \n2935              NaN  \n2936              NaN  \n2937              NaN  \n...               ...  \n7023              NaN  \n7024              NaN  \n7063              NaN  \n7089              NaN  \n7103              NaN  \n\n[378 rows x 9 columns]\n",
          "output_type": "stream"
        }
      ]
    },
    {
      "cell_type": "code",
      "metadata": {
        "tags": [],
        "cell_id": "00042-8ca6abf0-b831-4ed0-886a-dcefd527edf4",
        "deepnote_to_be_reexecuted": false,
        "source_hash": "21b508a6",
        "execution_millis": 12,
        "execution_start": 1615169794805,
        "deepnote_cell_type": "code"
      },
      "source": "axisDE=(New_df[New_df['STABBR']=='DE'].index.values) # find axis of Delaware\nprint(axisDE)",
      "execution_count": 35,
      "outputs": [
        {
          "name": "stdout",
          "text": "[ 634  635  636  637  638  639  640  641  642 4729 4917 5037 5275 5322\n 5354 5718 6527 6725 6726 7084]\n",
          "output_type": "stream"
        }
      ]
    },
    {
      "cell_type": "code",
      "metadata": {
        "tags": [],
        "cell_id": "00040-7b6ef535-a0ef-44c2-9470-11654de5b22e",
        "deepnote_to_be_reexecuted": false,
        "source_hash": "b9e127ec",
        "execution_millis": 9,
        "execution_start": 1615169797050,
        "deepnote_cell_type": "code"
      },
      "source": "Delaware=New_df.iloc[[634,  635,  636,  637,  638,  639,  640,  641,  642, 4729, 4917, 5037, 5275, 5322,\n 5354, 5718, 6527, 6725, 6726, 7084], :]\nprint(Delaware) # print info of colleges in Delaware",
      "execution_count": 36,
      "outputs": [
        {
          "name": "stdout",
          "text": "        UNITID                                             INSTNM        CITY  \\\n634     130837  Margaret H Rollins School of Nursing at Beebe ...       Lewes   \n635     130873                          Dawn Career Institute LLC      Newark   \n636     130907         Delaware Technical Community College-Terry       Dover   \n637     130934                          Delaware State University       Dover   \n638     130943                             University of Delaware      Newark   \n639     130989                              Goldey-Beacom College  Wilmington   \n640     131061        Schilling-Douglas School of Hair Design LLC      Newark   \n641     131098                                     Wesley College       Dover   \n642     131113                              Wilmington University  New Castle   \n4729    432524                 Delaware College of Art and Design  Wilmington   \n4917    441362        Harris School of Business-Wilmington Campus  Wilmington   \n5037    444200             Harris School of Business-Dover Campus       Dover   \n5275    449472         Delaware Learning Institute of Cosmetology    Dagsboro   \n5322    450298                        Strayer University-Delaware      Newark   \n5354    451051                    Academy of Massage and Bodywork        Bear   \n5718    459301                  Paul Mitchell the School-Delaware      Newark   \n6527    488262          Hair Academy School of Barbering & Beauty      Newark   \n6725  13090701         Delaware Technical Community College-Owens  Georgetown   \n6726  13090702  Delaware Technical Community College-Stanton/W...  Wilmington   \n7084  47503303      Relay Graduate School of Education - Delaware  Wilmington   \n\n     STABBR         ZIP  ADM_RATE     UGDS  TUITIONFEE_IN  MN_EARN_WNE_P10  \n634      DE       19958       NaN     59.0            NaN              NaN  \n635      DE       19702       NaN    108.0            NaN              NaN  \n636      DE       19901       NaN  12408.0         4848.0              NaN  \n637      DE       19901    0.4518   3678.0         7868.0              NaN  \n638      DE       19716    0.6289  18948.0        13160.0              NaN  \n639      DE       19808    0.5177    770.0        23850.0              NaN  \n640      DE       19711       NaN    133.0            NaN              NaN  \n641      DE  19901-3875    0.6151   1342.0        26406.0              NaN  \n642      DE       19720       NaN   8346.0        10940.0              NaN  \n4729     DE  19801-3007    0.7900    143.0        25710.0              NaN  \n4917     DE       19803       NaN    219.0            NaN              NaN  \n5037     DE       19901       NaN    226.0            NaN              NaN  \n5275     DE       19939       NaN     39.0            NaN              NaN  \n5322     DE       19713       NaN    267.0        13857.0              NaN  \n5354     DE       19701       NaN     95.0            NaN              NaN  \n5718     DE       19702       NaN    103.0            NaN              NaN  \n6527     DE  19713-2305       NaN     33.0            NaN              NaN  \n6725     DE       19947       NaN      NaN         4848.0              NaN  \n6726     DE       19801       NaN      NaN         4848.0              NaN  \n7084     DE       19801       NaN      NaN            NaN              NaN  \n",
          "output_type": "stream"
        }
      ]
    },
    {
      "cell_type": "code",
      "metadata": {
        "tags": [],
        "cell_id": "00043-53e06a5e-e568-42be-9167-44660ae4d6f2",
        "deepnote_to_be_reexecuted": false,
        "source_hash": "61e281f8",
        "execution_millis": 10,
        "execution_start": 1615169800502,
        "deepnote_cell_type": "code"
      },
      "source": "axisDC=(New_df[New_df['STABBR']=='DC'].index.values) # find axis of DC\nprint(axisDC)",
      "execution_count": 37,
      "outputs": [
        {
          "name": "stdout",
          "text": "[ 643  644  645  646  647  648  649  650  651  652  653  654 4100 4348\n 4616 4844 5079 5328 5520 5521 5739 5747 6727 7094]\n",
          "output_type": "stream"
        }
      ]
    },
    {
      "cell_type": "code",
      "metadata": {
        "tags": [],
        "cell_id": "00041-75dc0272-5adc-414d-88a8-28e6077c41c3",
        "deepnote_to_be_reexecuted": false,
        "source_hash": "771ad006",
        "execution_millis": 11,
        "execution_start": 1615169802912,
        "deepnote_cell_type": "code"
      },
      "source": "Washington_DC=New_df.iloc[[643,  644,  645,  646,  647,  648,  649,  650,  651,  652,  653,  654, 4100, 4348,\n 4616, 4844, 5079, 5328, 5520, 5521, 5739, 5747, 6727, 7094], :]\nprint(Washington_DC) # print info of colleges in DC",
      "execution_count": 38,
      "outputs": [
        {
          "name": "stdout",
          "text": "        UNITID                                             INSTNM        CITY  \\\n643     131159                                American University  Washington   \n644     131283                 The Catholic University of America  Washington   \n645     131399             University of the District of Columbia  Washington   \n646     131405  Pontifical Faculty of the Immaculate Conceptio...  Washington   \n647     131450                               Gallaudet University  Washington   \n648     131469                       George Washington University  Washington   \n649     131496                              Georgetown University  Washington   \n650     131520                                  Howard University  Washington   \n651     131803            Strayer University-District of Columbia  Washington   \n652     131830             National Conservatory of Dramatic Arts  Washington   \n653     131876                      Trinity Washington University  Washington   \n654     131973                        Wesley Theological Seminary  Washington   \n4100    363721  University of the District of Columbia-David A...  Washington   \n4348    384412     University of the Potomac-Washington DC Campus  Washington   \n4616    420370                         Career Technical Institute  Washington   \n4844    439473                           Bennett Career Institute  Washington   \n5079    444893                     Technical Learning Centers Inc  Washington   \n5328    450483                University of Phoenix-Washington DC  Washington   \n5520    455804                        Institute of World Politics  Washington   \n5521    455813  Pontifical John Paul II Institute for Studies ...  Washington   \n5739    459745  The Chicago School of Professional Psychology ...  Washington   \n5747    459994                   Strayer University-Global Region  Washington   \n6727  13180301              Strayer University-Takoma Park Campus  Washington   \n7094  47503313  Relay Graduate School of Education - Washingto...  Washington   \n\n     STABBR         ZIP  ADM_RATE     UGDS  TUITIONFEE_IN  MN_EARN_WNE_P10  \n643      DC  20016-8001    0.2940   7433.0        46615.0              NaN  \n644      DC       20064    0.8258   3284.0        44060.0              NaN  \n645      DC       20008       NaN   3606.0         5756.0              NaN  \n646      DC  20017-1585       NaN      NaN            NaN              NaN  \n647      DC  20002-3695    0.5901   1111.0        16558.0              NaN  \n648      DC       20052    0.4098  11718.0        53518.0              NaN  \n649      DC  20057-0001    0.1568   7128.0        52300.0              NaN  \n650      DC  20059-0001    0.4142   6276.0        25697.0              NaN  \n651      DC       20005       NaN    687.0        13857.0              NaN  \n652      DC       20007    1.0000     32.0         9900.0              NaN  \n653      DC  20017-1094    0.9228   1498.0        23690.0              NaN  \n654      DC  20016-5690       NaN      NaN            NaN              NaN  \n4100     DC       20008       NaN      NaN            NaN              NaN  \n4348     DC       20005       NaN     65.0        13884.0              NaN  \n4616     DC       20005       NaN    387.0            NaN              NaN  \n4844     DC       20017       NaN    312.0            NaN              NaN  \n5079     DC  20006-5540       NaN    172.0            NaN              NaN  \n5328     DC  20001-1431       NaN     70.0         9960.0              NaN  \n5520     DC       20036       NaN      NaN            NaN              NaN  \n5521     DC       20064       NaN      NaN            NaN              NaN  \n5739     DC       20005       NaN      NaN            NaN              NaN  \n5747     DC       20005       NaN   5543.0        13857.0              NaN  \n6727     DC       20012       NaN      NaN        13857.0              NaN  \n7094     DC       20002       NaN      NaN            NaN              NaN  \n",
          "output_type": "stream"
        }
      ]
    },
    {
      "cell_type": "code",
      "metadata": {
        "tags": [],
        "cell_id": "00042-fe752608-79e8-4b62-89e0-4a70500714a0",
        "deepnote_to_be_reexecuted": false,
        "source_hash": "275dc765",
        "execution_millis": 0,
        "execution_start": 1615170414573,
        "deepnote_cell_type": "code"
      },
      "source": "five=[Maryland, Virginia, Pennsylvania,Delaware, Washington_DC]\nfive_states=pd.concat(five) # adding the data of the five states into a dataframe",
      "execution_count": 41,
      "outputs": []
    },
    {
      "cell_type": "markdown",
      "source": "## Step 8: Save the filtered dataset to a a csv file",
      "metadata": {
        "tags": [],
        "cell_id": "00036-c11d494b-d21d-4b7f-b4e6-a0adae709212",
        "deepnote_cell_type": "markdown"
      }
    },
    {
      "cell_type": "code",
      "metadata": {
        "tags": [],
        "cell_id": "00036-fa1ed3fb-ce06-405e-a4dc-c8264331b4d1",
        "deepnote_to_be_reexecuted": false,
        "source_hash": "4a6e41e8",
        "execution_start": 1615169809415,
        "execution_millis": 20,
        "deepnote_cell_type": "code"
      },
      "source": "five_states.to_csv(\"Five_States_Colleges.csv\")",
      "execution_count": 40,
      "outputs": []
    },
    {
      "cell_type": "markdown",
      "source": "<a style='text-decoration:none;line-height:16px;display:flex;color:#5B5B62;padding:10px;justify-content:end;' href='https://deepnote.com?utm_source=created-in-deepnote-cell&projectId=5e850d88-26c1-4229-ad7b-bc0cc7c74f9d' target=\"_blank\">\n<img style='display:inline;max-height:16px;margin:0px;margin-right:7.5px;' src='data:image/svg+xml;base64,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' > </img>\nCreated in <span style='font-weight:600;margin-left:4px;'>Deepnote</span></a>",
      "metadata": {
        "tags": [],
        "created_in_deepnote_cell": true,
        "deepnote_cell_type": "markdown"
      }
    }
  ],
  "nbformat": 4,
  "nbformat_minor": 2,
  "metadata": {
    "orig_nbformat": 2,
    "deepnote_notebook_id": "59e6048c-de4c-4251-b174-2d2ec3153f14",
    "deepnote": {},
    "deepnote_execution_queue": []
  }
}
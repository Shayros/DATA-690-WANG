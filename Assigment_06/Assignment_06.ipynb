{
  "cells": [
    {
      "cell_type": "markdown",
      "source": "# Assignment # 6\n**Name:** Shaimar R. González Morales\n\n**Date:** 3/15/ 2021",
      "metadata": {
        "tags": [],
        "cell_id": "00000-d8901fe2-835d-4298-bc5e-8d844aeacc2d",
        "deepnote_cell_type": "markdown"
      }
    },
    {
      "cell_type": "markdown",
      "source": "## Step 1: Upload the dataset",
      "metadata": {
        "tags": [],
        "cell_id": "00001-a4e0fb30-95ef-40bf-936e-998f0653ce3e",
        "deepnote_cell_type": "markdown"
      }
    },
    {
      "cell_type": "code",
      "metadata": {
        "deepnote_to_be_reexecuted": false,
        "execution_millis": 3,
        "source_hash": "9b82ee11",
        "tags": [],
        "cell_id": "00002-8b7b1836-62b2-45af-be52-5c4d96607826",
        "execution_start": 1615876513433,
        "deepnote_cell_type": "code"
      },
      "source": "import pandas as pd",
      "execution_count": 1,
      "outputs": []
    },
    {
      "cell_type": "code",
      "metadata": {
        "deepnote_to_be_reexecuted": false,
        "execution_millis": 315,
        "source_hash": "522750b0",
        "tags": [],
        "cell_id": "00003-38beac2c-0dee-451a-b76f-f5a438336a20",
        "execution_start": 1615876513437,
        "deepnote_cell_type": "code"
      },
      "source": "df=pd.read_html('https://www.genealogybranches.com/censuscosts.html') #importing the data",
      "execution_count": 2,
      "outputs": []
    },
    {
      "cell_type": "code",
      "metadata": {
        "deepnote_to_be_reexecuted": false,
        "execution_millis": 12,
        "source_hash": "93a0c15",
        "tags": [],
        "cell_id": "00004-fc99a159-6387-4176-a8a3-e49d500bc991",
        "execution_start": 1615876513760,
        "deepnote_cell_type": "code"
      },
      "source": "df # print to visualize the tables",
      "execution_count": 3,
      "outputs": [
        {
          "output_type": "execute_result",
          "execution_count": 3,
          "data": {
            "text/plain": "[              0                 1               2                        3\n 0   Census Year  Total Population     Census Cost  Average Cost Per Person\n 1          1790           3929214         $44,377               1.13 cents\n 2          1800           5308483         $66,109               1.24 cents\n 3          1810           7239881        $178,445               2.46 cents\n 4          1820           9633822        $208,526               2.16 cents\n 5          1830          12866020        $378,545               2.94 cents\n 6          1840          17069458        $833,371               4.88 cents\n 7          1850          23191876      $1,423,351               6.14 cents\n 8          1860          31443321      $1,969,377               6.26 cents\n 9          1870          38558371      $3,421,198               8.87 cents\n 10         1880          50155783      $5,790,678              11.54 cents\n 11         1890          62979766     $11,547,127              18.33 cents\n 12         1900          76303387     $11,854,000              15.54 cents\n 13         1910          91972266     $15,968,000              17.07 cents\n 14         1920         105710620     $25,117,000              23.76 cents\n 15         1930         122775046     $40,156,000              32.71 cents\n 16         1940         131669275     $67,527,000              51.29 cents\n 17         1950         151325798     $91,462,000              60.44 cents\n 18         1960         179323175    $127,934,000              71.34 cents\n 19         1970         203302031    $247,653,000                    $1.22\n 20         1980         226542199  $1,078,488,000                    $4.76\n 21         1990         248718301  $2,492,830,000                   $10.02\n 22         2000         281421906    $4.5 Billion                   $15.99\n 23        2010*         308745538     $13 Billion                   $42.11,\n                                                    0\n 0  The U.S. population reached 300,000,000 on 17 ...]"
          },
          "metadata": {}
        }
      ]
    },
    {
      "cell_type": "markdown",
      "source": "## Step 2: Finding out how many HTML tables pandas retreive",
      "metadata": {
        "tags": [],
        "cell_id": "00005-c2186e56-1707-4eb9-ba96-27676f77000a",
        "deepnote_cell_type": "markdown"
      }
    },
    {
      "cell_type": "code",
      "metadata": {
        "deepnote_to_be_reexecuted": false,
        "execution_millis": 11,
        "source_hash": "6922d87f",
        "tags": [],
        "cell_id": "00006-09ab9e44-ccd3-41db-9d11-1c461a3c107f",
        "execution_start": 1615876513770,
        "deepnote_cell_type": "code"
      },
      "source": "print(f'Total tables: {len(df)}') # asking the len/amount of tables",
      "execution_count": 4,
      "outputs": [
        {
          "name": "stdout",
          "text": "Total tables: 2\n",
          "output_type": "stream"
        }
      ]
    },
    {
      "cell_type": "markdown",
      "source": "## Step 3: Finding out which one contains the data of interest",
      "metadata": {
        "tags": [],
        "cell_id": "00007-23930719-c0bb-445e-bd23-47c80d0ed415",
        "deepnote_cell_type": "markdown"
      }
    },
    {
      "cell_type": "code",
      "metadata": {
        "deepnote_to_be_reexecuted": false,
        "execution_millis": 3176,
        "source_hash": "40840f8b",
        "tags": [],
        "cell_id": "00008-6736636b-749f-42a8-892a-80458a9c6805",
        "execution_start": 1615876513787,
        "deepnote_cell_type": "code"
      },
      "source": "pip install html5lib",
      "execution_count": 5,
      "outputs": [
        {
          "name": "stdout",
          "text": "Requirement already satisfied: html5lib in /usr/local/lib/python3.7/site-packages (1.1)\nRequirement already satisfied: webencodings in /shared-libs/python3.7/py-core/lib/python3.7/site-packages (from html5lib) (0.5.1)\nRequirement already satisfied: six>=1.9 in /shared-libs/python3.7/py-core/lib/python3.7/site-packages (from html5lib) (1.15.0)\n\u001b[33mWARNING: You are using pip version 20.1.1; however, version 21.0.1 is available.\nYou should consider upgrading via the '/usr/local/bin/python -m pip install --upgrade pip' command.\u001b[0m\nNote: you may need to restart the kernel to use updated packages.\n",
          "output_type": "stream"
        }
      ]
    },
    {
      "cell_type": "code",
      "metadata": {
        "deepnote_to_be_reexecuted": false,
        "execution_millis": 1,
        "source_hash": "68519f09",
        "tags": [],
        "cell_id": "00009-f1636488-c343-470e-b6aa-ba5385344bae",
        "execution_start": 1615876516964,
        "deepnote_cell_type": "code"
      },
      "source": "import html5lib",
      "execution_count": 6,
      "outputs": []
    },
    {
      "cell_type": "code",
      "metadata": {
        "deepnote_to_be_reexecuted": false,
        "execution_millis": 2836,
        "source_hash": "aa934e99",
        "tags": [],
        "cell_id": "00010-6b7f7b69-da4b-4942-a11e-4a518f38373a",
        "execution_start": 1615876516976,
        "deepnote_cell_type": "code"
      },
      "source": "pip install bs4",
      "execution_count": 7,
      "outputs": [
        {
          "name": "stdout",
          "text": "Requirement already satisfied: bs4 in /usr/local/lib/python3.7/site-packages (0.0.1)\nRequirement already satisfied: beautifulsoup4 in /usr/local/lib/python3.7/site-packages (from bs4) (4.9.3)\nRequirement already satisfied: soupsieve>1.2; python_version >= \"3.0\" in /usr/local/lib/python3.7/site-packages (from beautifulsoup4->bs4) (2.2)\n\u001b[33mWARNING: You are using pip version 20.1.1; however, version 21.0.1 is available.\nYou should consider upgrading via the '/usr/local/bin/python -m pip install --upgrade pip' command.\u001b[0m\nNote: you may need to restart the kernel to use updated packages.\n",
          "output_type": "stream"
        }
      ]
    },
    {
      "cell_type": "code",
      "metadata": {
        "deepnote_to_be_reexecuted": false,
        "execution_millis": 2,
        "source_hash": "40f3c29d",
        "tags": [],
        "cell_id": "00011-c5ddf4aa-4cfa-4df1-b98c-5c23aa83e11a",
        "execution_start": 1615876519815,
        "deepnote_cell_type": "code"
      },
      "source": "import bs4 ",
      "execution_count": 8,
      "outputs": []
    },
    {
      "cell_type": "code",
      "metadata": {
        "deepnote_to_be_reexecuted": false,
        "execution_millis": 100,
        "source_hash": "ab9644e2",
        "tags": [],
        "cell_id": "00012-62919569-4124-4ba4-b2d1-229396289e5f",
        "execution_start": 1615876519818,
        "deepnote_cell_type": "code"
      },
      "source": "df1 = pd.read_html('https://www.genealogybranches.com/censuscosts.html', match='Census Year', header=None) # we ask for something matching an item that we are interested in on the table\n#error was appearing without installing bs4 and html5lib\n",
      "execution_count": 9,
      "outputs": []
    },
    {
      "cell_type": "code",
      "metadata": {
        "deepnote_to_be_reexecuted": false,
        "execution_millis": 10,
        "source_hash": "2c0d7517",
        "tags": [],
        "cell_id": "00013-05b183ca-3f6d-4b03-ac56-a6069122ad99",
        "execution_start": 1615876519924,
        "deepnote_cell_type": "code"
      },
      "source": "df1",
      "execution_count": 10,
      "outputs": [
        {
          "output_type": "execute_result",
          "execution_count": 10,
          "data": {
            "text/plain": "[              0                 1               2                        3\n 0   Census Year  Total Population     Census Cost  Average Cost Per Person\n 1          1790           3929214         $44,377               1.13 cents\n 2          1800           5308483         $66,109               1.24 cents\n 3          1810           7239881        $178,445               2.46 cents\n 4          1820           9633822        $208,526               2.16 cents\n 5          1830          12866020        $378,545               2.94 cents\n 6          1840          17069458        $833,371               4.88 cents\n 7          1850          23191876      $1,423,351               6.14 cents\n 8          1860          31443321      $1,969,377               6.26 cents\n 9          1870          38558371      $3,421,198               8.87 cents\n 10         1880          50155783      $5,790,678              11.54 cents\n 11         1890          62979766     $11,547,127              18.33 cents\n 12         1900          76303387     $11,854,000              15.54 cents\n 13         1910          91972266     $15,968,000              17.07 cents\n 14         1920         105710620     $25,117,000              23.76 cents\n 15         1930         122775046     $40,156,000              32.71 cents\n 16         1940         131669275     $67,527,000              51.29 cents\n 17         1950         151325798     $91,462,000              60.44 cents\n 18         1960         179323175    $127,934,000              71.34 cents\n 19         1970         203302031    $247,653,000                    $1.22\n 20         1980         226542199  $1,078,488,000                    $4.76\n 21         1990         248718301  $2,492,830,000                   $10.02\n 22         2000         281421906    $4.5 Billion                   $15.99\n 23        2010*         308745538     $13 Billion                   $42.11]"
          },
          "metadata": {}
        }
      ]
    },
    {
      "cell_type": "markdown",
      "source": "## Step 4: Display and explore the data ",
      "metadata": {
        "tags": [],
        "cell_id": "00014-0f082370-f1a0-40f8-add9-6547d65c1b0e",
        "deepnote_cell_type": "markdown"
      }
    },
    {
      "cell_type": "code",
      "metadata": {
        "deepnote_to_be_reexecuted": false,
        "execution_millis": 44,
        "source_hash": "ab9f623e",
        "tags": [],
        "cell_id": "00015-390ec2d5-d8d9-46dd-a4b1-65fea2fbbca0",
        "execution_start": 1615876519931,
        "deepnote_cell_type": "code"
      },
      "source": "type(df1) # determine the type of data",
      "execution_count": 11,
      "outputs": [
        {
          "output_type": "execute_result",
          "execution_count": 11,
          "data": {
            "text/plain": "list"
          },
          "metadata": {}
        }
      ]
    },
    {
      "cell_type": "code",
      "metadata": {
        "deepnote_to_be_reexecuted": false,
        "execution_millis": 18,
        "source_hash": "7d41dc6e",
        "tags": [],
        "cell_id": "00016-1b4577ae-a503-4b85-8dc6-bc9845a378c8",
        "execution_start": 1615876519957,
        "deepnote_cell_type": "code"
      },
      "source": "real_df=df1[0] # convert list to pandas dataframe\nreal_df\n",
      "execution_count": 12,
      "outputs": [
        {
          "output_type": "execute_result",
          "execution_count": 12,
          "data": {
            "application/vnd.deepnote.dataframe.v2+json": {
              "row_count": 24,
              "column_count": 4,
              "columns": [
                {
                  "name": 0,
                  "dtype": "object",
                  "stats": {
                    "unique_count": 24,
                    "nan_count": 0,
                    "categories": [
                      {
                        "name": "Census Year",
                        "count": 1
                      },
                      {
                        "name": "1790",
                        "count": 1
                      },
                      {
                        "name": "22 others",
                        "count": 22
                      }
                    ]
                  }
                },
                {
                  "name": 1,
                  "dtype": "object",
                  "stats": {
                    "unique_count": 24,
                    "nan_count": 0,
                    "categories": [
                      {
                        "name": "Total Population",
                        "count": 1
                      },
                      {
                        "name": "3929214",
                        "count": 1
                      },
                      {
                        "name": "22 others",
                        "count": 22
                      }
                    ]
                  }
                },
                {
                  "name": 2,
                  "dtype": "object",
                  "stats": {
                    "unique_count": 24,
                    "nan_count": 0,
                    "categories": [
                      {
                        "name": "Census Cost",
                        "count": 1
                      },
                      {
                        "name": "$44,377",
                        "count": 1
                      },
                      {
                        "name": "22 others",
                        "count": 22
                      }
                    ]
                  }
                },
                {
                  "name": 3,
                  "dtype": "object",
                  "stats": {
                    "unique_count": 24,
                    "nan_count": 0,
                    "categories": [
                      {
                        "name": "Average Cost Per Person",
                        "count": 1
                      },
                      {
                        "name": "1.13 cents",
                        "count": 1
                      },
                      {
                        "name": "22 others",
                        "count": 22
                      }
                    ]
                  }
                },
                {
                  "name": "_deepnote_index_column",
                  "dtype": "int64"
                }
              ],
              "rows_top": [
                {
                  "0": "Census Year",
                  "1": "Total Population",
                  "2": "Census Cost",
                  "3": "Average Cost Per Person",
                  "_deepnote_index_column": 0
                },
                {
                  "0": "1790",
                  "1": "3929214",
                  "2": "$44,377",
                  "3": "1.13 cents",
                  "_deepnote_index_column": 1
                },
                {
                  "0": "1800",
                  "1": "5308483",
                  "2": "$66,109",
                  "3": "1.24 cents",
                  "_deepnote_index_column": 2
                },
                {
                  "0": "1810",
                  "1": "7239881",
                  "2": "$178,445",
                  "3": "2.46 cents",
                  "_deepnote_index_column": 3
                },
                {
                  "0": "1820",
                  "1": "9633822",
                  "2": "$208,526",
                  "3": "2.16 cents",
                  "_deepnote_index_column": 4
                },
                {
                  "0": "1830",
                  "1": "12866020",
                  "2": "$378,545",
                  "3": "2.94 cents",
                  "_deepnote_index_column": 5
                },
                {
                  "0": "1840",
                  "1": "17069458",
                  "2": "$833,371",
                  "3": "4.88 cents",
                  "_deepnote_index_column": 6
                },
                {
                  "0": "1850",
                  "1": "23191876",
                  "2": "$1,423,351",
                  "3": "6.14 cents",
                  "_deepnote_index_column": 7
                },
                {
                  "0": "1860",
                  "1": "31443321",
                  "2": "$1,969,377",
                  "3": "6.26 cents",
                  "_deepnote_index_column": 8
                },
                {
                  "0": "1870",
                  "1": "38558371",
                  "2": "$3,421,198",
                  "3": "8.87 cents",
                  "_deepnote_index_column": 9
                },
                {
                  "0": "1880",
                  "1": "50155783",
                  "2": "$5,790,678",
                  "3": "11.54 cents",
                  "_deepnote_index_column": 10
                },
                {
                  "0": "1890",
                  "1": "62979766",
                  "2": "$11,547,127",
                  "3": "18.33 cents",
                  "_deepnote_index_column": 11
                },
                {
                  "0": "1900",
                  "1": "76303387",
                  "2": "$11,854,000",
                  "3": "15.54 cents",
                  "_deepnote_index_column": 12
                },
                {
                  "0": "1910",
                  "1": "91972266",
                  "2": "$15,968,000",
                  "3": "17.07 cents",
                  "_deepnote_index_column": 13
                },
                {
                  "0": "1920",
                  "1": "105710620",
                  "2": "$25,117,000",
                  "3": "23.76 cents",
                  "_deepnote_index_column": 14
                },
                {
                  "0": "1930",
                  "1": "122775046",
                  "2": "$40,156,000",
                  "3": "32.71 cents",
                  "_deepnote_index_column": 15
                },
                {
                  "0": "1940",
                  "1": "131669275",
                  "2": "$67,527,000",
                  "3": "51.29 cents",
                  "_deepnote_index_column": 16
                },
                {
                  "0": "1950",
                  "1": "151325798",
                  "2": "$91,462,000",
                  "3": "60.44 cents",
                  "_deepnote_index_column": 17
                },
                {
                  "0": "1960",
                  "1": "179323175",
                  "2": "$127,934,000",
                  "3": "71.34 cents",
                  "_deepnote_index_column": 18
                },
                {
                  "0": "1970",
                  "1": "203302031",
                  "2": "$247,653,000",
                  "3": "$1.22",
                  "_deepnote_index_column": 19
                },
                {
                  "0": "1980",
                  "1": "226542199",
                  "2": "$1,078,488,000",
                  "3": "$4.76",
                  "_deepnote_index_column": 20
                },
                {
                  "0": "1990",
                  "1": "248718301",
                  "2": "$2,492,830,000",
                  "3": "$10.02",
                  "_deepnote_index_column": 21
                },
                {
                  "0": "2000",
                  "1": "281421906",
                  "2": "$4.5 Billion",
                  "3": "$15.99",
                  "_deepnote_index_column": 22
                },
                {
                  "0": "2010*",
                  "1": "308745538",
                  "2": "$13 Billion",
                  "3": "$42.11",
                  "_deepnote_index_column": 23
                }
              ],
              "rows_bottom": null
            },
            "text/plain": "              0                 1               2                        3\n0   Census Year  Total Population     Census Cost  Average Cost Per Person\n1          1790           3929214         $44,377               1.13 cents\n2          1800           5308483         $66,109               1.24 cents\n3          1810           7239881        $178,445               2.46 cents\n4          1820           9633822        $208,526               2.16 cents\n5          1830          12866020        $378,545               2.94 cents\n6          1840          17069458        $833,371               4.88 cents\n7          1850          23191876      $1,423,351               6.14 cents\n8          1860          31443321      $1,969,377               6.26 cents\n9          1870          38558371      $3,421,198               8.87 cents\n10         1880          50155783      $5,790,678              11.54 cents\n11         1890          62979766     $11,547,127              18.33 cents\n12         1900          76303387     $11,854,000              15.54 cents\n13         1910          91972266     $15,968,000              17.07 cents\n14         1920         105710620     $25,117,000              23.76 cents\n15         1930         122775046     $40,156,000              32.71 cents\n16         1940         131669275     $67,527,000              51.29 cents\n17         1950         151325798     $91,462,000              60.44 cents\n18         1960         179323175    $127,934,000              71.34 cents\n19         1970         203302031    $247,653,000                    $1.22\n20         1980         226542199  $1,078,488,000                    $4.76\n21         1990         248718301  $2,492,830,000                   $10.02\n22         2000         281421906    $4.5 Billion                   $15.99\n23        2010*         308745538     $13 Billion                   $42.11",
            "text/html": "<div>\n<style scoped>\n    .dataframe tbody tr th:only-of-type {\n        vertical-align: middle;\n    }\n\n    .dataframe tbody tr th {\n        vertical-align: top;\n    }\n\n    .dataframe thead th {\n        text-align: right;\n    }\n</style>\n<table border=\"1\" class=\"dataframe\">\n  <thead>\n    <tr style=\"text-align: right;\">\n      <th></th>\n      <th>0</th>\n      <th>1</th>\n      <th>2</th>\n      <th>3</th>\n    </tr>\n  </thead>\n  <tbody>\n    <tr>\n      <th>0</th>\n      <td>Census Year</td>\n      <td>Total Population</td>\n      <td>Census Cost</td>\n      <td>Average Cost Per Person</td>\n    </tr>\n    <tr>\n      <th>1</th>\n      <td>1790</td>\n      <td>3929214</td>\n      <td>$44,377</td>\n      <td>1.13 cents</td>\n    </tr>\n    <tr>\n      <th>2</th>\n      <td>1800</td>\n      <td>5308483</td>\n      <td>$66,109</td>\n      <td>1.24 cents</td>\n    </tr>\n    <tr>\n      <th>3</th>\n      <td>1810</td>\n      <td>7239881</td>\n      <td>$178,445</td>\n      <td>2.46 cents</td>\n    </tr>\n    <tr>\n      <th>4</th>\n      <td>1820</td>\n      <td>9633822</td>\n      <td>$208,526</td>\n      <td>2.16 cents</td>\n    </tr>\n    <tr>\n      <th>5</th>\n      <td>1830</td>\n      <td>12866020</td>\n      <td>$378,545</td>\n      <td>2.94 cents</td>\n    </tr>\n    <tr>\n      <th>6</th>\n      <td>1840</td>\n      <td>17069458</td>\n      <td>$833,371</td>\n      <td>4.88 cents</td>\n    </tr>\n    <tr>\n      <th>7</th>\n      <td>1850</td>\n      <td>23191876</td>\n      <td>$1,423,351</td>\n      <td>6.14 cents</td>\n    </tr>\n    <tr>\n      <th>8</th>\n      <td>1860</td>\n      <td>31443321</td>\n      <td>$1,969,377</td>\n      <td>6.26 cents</td>\n    </tr>\n    <tr>\n      <th>9</th>\n      <td>1870</td>\n      <td>38558371</td>\n      <td>$3,421,198</td>\n      <td>8.87 cents</td>\n    </tr>\n    <tr>\n      <th>10</th>\n      <td>1880</td>\n      <td>50155783</td>\n      <td>$5,790,678</td>\n      <td>11.54 cents</td>\n    </tr>\n    <tr>\n      <th>11</th>\n      <td>1890</td>\n      <td>62979766</td>\n      <td>$11,547,127</td>\n      <td>18.33 cents</td>\n    </tr>\n    <tr>\n      <th>12</th>\n      <td>1900</td>\n      <td>76303387</td>\n      <td>$11,854,000</td>\n      <td>15.54 cents</td>\n    </tr>\n    <tr>\n      <th>13</th>\n      <td>1910</td>\n      <td>91972266</td>\n      <td>$15,968,000</td>\n      <td>17.07 cents</td>\n    </tr>\n    <tr>\n      <th>14</th>\n      <td>1920</td>\n      <td>105710620</td>\n      <td>$25,117,000</td>\n      <td>23.76 cents</td>\n    </tr>\n    <tr>\n      <th>15</th>\n      <td>1930</td>\n      <td>122775046</td>\n      <td>$40,156,000</td>\n      <td>32.71 cents</td>\n    </tr>\n    <tr>\n      <th>16</th>\n      <td>1940</td>\n      <td>131669275</td>\n      <td>$67,527,000</td>\n      <td>51.29 cents</td>\n    </tr>\n    <tr>\n      <th>17</th>\n      <td>1950</td>\n      <td>151325798</td>\n      <td>$91,462,000</td>\n      <td>60.44 cents</td>\n    </tr>\n    <tr>\n      <th>18</th>\n      <td>1960</td>\n      <td>179323175</td>\n      <td>$127,934,000</td>\n      <td>71.34 cents</td>\n    </tr>\n    <tr>\n      <th>19</th>\n      <td>1970</td>\n      <td>203302031</td>\n      <td>$247,653,000</td>\n      <td>$1.22</td>\n    </tr>\n    <tr>\n      <th>20</th>\n      <td>1980</td>\n      <td>226542199</td>\n      <td>$1,078,488,000</td>\n      <td>$4.76</td>\n    </tr>\n    <tr>\n      <th>21</th>\n      <td>1990</td>\n      <td>248718301</td>\n      <td>$2,492,830,000</td>\n      <td>$10.02</td>\n    </tr>\n    <tr>\n      <th>22</th>\n      <td>2000</td>\n      <td>281421906</td>\n      <td>$4.5 Billion</td>\n      <td>$15.99</td>\n    </tr>\n    <tr>\n      <th>23</th>\n      <td>2010*</td>\n      <td>308745538</td>\n      <td>$13 Billion</td>\n      <td>$42.11</td>\n    </tr>\n  </tbody>\n</table>\n</div>"
          },
          "metadata": {}
        }
      ]
    },
    {
      "cell_type": "code",
      "metadata": {
        "deepnote_to_be_reexecuted": false,
        "execution_millis": 14,
        "source_hash": "59eccad",
        "tags": [],
        "cell_id": "00017-ec553f0b-ae5a-4347-be07-fee398b46ec7",
        "execution_start": 1615876519961,
        "deepnote_cell_type": "code"
      },
      "source": "type(real_df) # making sure is a DataFrame and not a list",
      "execution_count": 13,
      "outputs": [
        {
          "output_type": "execute_result",
          "execution_count": 13,
          "data": {
            "text/plain": "pandas.core.frame.DataFrame"
          },
          "metadata": {}
        }
      ]
    },
    {
      "cell_type": "code",
      "metadata": {
        "deepnote_to_be_reexecuted": false,
        "execution_millis": 12,
        "source_hash": "8dc689e7",
        "tags": [],
        "cell_id": "00018-82ddcb82-6511-4cd2-b2af-4e68afd4172e",
        "execution_start": 1615876519966,
        "deepnote_cell_type": "code"
      },
      "source": "real_df.columns # columns",
      "execution_count": 14,
      "outputs": [
        {
          "output_type": "execute_result",
          "execution_count": 14,
          "data": {
            "text/plain": "Int64Index([0, 1, 2, 3], dtype='int64')"
          },
          "metadata": {}
        }
      ]
    },
    {
      "cell_type": "code",
      "metadata": {
        "deepnote_to_be_reexecuted": false,
        "execution_millis": 6,
        "source_hash": "8c5b5ee2",
        "tags": [],
        "cell_id": "00019-ab110108-ce2a-4524-9513-4319d0ca2d0d",
        "execution_start": 1615876520021,
        "deepnote_cell_type": "code"
      },
      "source": "rows_real_df=real_df.iloc[0] #The name of the columns\nrows_real_df",
      "execution_count": 15,
      "outputs": [
        {
          "output_type": "execute_result",
          "execution_count": 15,
          "data": {
            "text/plain": "0                Census Year\n1           Total Population\n2                Census Cost\n3    Average Cost Per Person\nName: 0, dtype: object"
          },
          "metadata": {}
        }
      ]
    },
    {
      "cell_type": "markdown",
      "source": "## Step 5: Convert the columns name to the header",
      "metadata": {
        "cell_id": "00020-746cf384-ab09-4ad9-82c8-4c114ecfa0a3",
        "deepnote_cell_type": "markdown"
      }
    },
    {
      "cell_type": "code",
      "metadata": {
        "cell_id": "00021-4b144d3f-25f3-439e-bded-a6c90c3ccfa6",
        "deepnote_to_be_reexecuted": false,
        "source_hash": "9ef76171",
        "execution_millis": 1,
        "execution_start": 1615876520022,
        "deepnote_cell_type": "code"
      },
      "source": "real_df.columns = real_df.iloc[0] # making the columns names the header of the column instead of numbers",
      "execution_count": 16,
      "outputs": []
    },
    {
      "cell_type": "code",
      "metadata": {
        "cell_id": "00022-7c49610a-37cb-42eb-8d50-3721229817c3",
        "deepnote_to_be_reexecuted": false,
        "source_hash": "c38fcfb6",
        "execution_millis": 29,
        "execution_start": 1615876520057,
        "deepnote_cell_type": "code"
      },
      "source": "real_df.columns # print columns names",
      "execution_count": 17,
      "outputs": [
        {
          "output_type": "execute_result",
          "execution_count": 17,
          "data": {
            "text/plain": "Index(['Census Year', 'Total Population', 'Census Cost',\n       'Average Cost Per Person'],\n      dtype='object', name=0)"
          },
          "metadata": {}
        }
      ]
    },
    {
      "cell_type": "code",
      "metadata": {
        "cell_id": "00023-a52a4fdf-7423-403f-a7e6-fcbdcea3ac6c",
        "deepnote_to_be_reexecuted": false,
        "source_hash": "a507fbef",
        "execution_millis": 29,
        "execution_start": 1615876520057,
        "deepnote_cell_type": "code"
      },
      "source": "real_df # Now 0,1,2,3 doesn't showed and the column names replace the numbers",
      "execution_count": 18,
      "outputs": [
        {
          "output_type": "execute_result",
          "execution_count": 18,
          "data": {
            "application/vnd.deepnote.dataframe.v2+json": {
              "row_count": 24,
              "column_count": 4,
              "columns": [
                {
                  "name": "Census Year",
                  "dtype": "object",
                  "stats": {
                    "unique_count": 24,
                    "nan_count": 0,
                    "categories": [
                      {
                        "name": "Census Year",
                        "count": 1
                      },
                      {
                        "name": "1790",
                        "count": 1
                      },
                      {
                        "name": "22 others",
                        "count": 22
                      }
                    ]
                  }
                },
                {
                  "name": "Total Population",
                  "dtype": "object",
                  "stats": {
                    "unique_count": 24,
                    "nan_count": 0,
                    "categories": [
                      {
                        "name": "Total Population",
                        "count": 1
                      },
                      {
                        "name": "3929214",
                        "count": 1
                      },
                      {
                        "name": "22 others",
                        "count": 22
                      }
                    ]
                  }
                },
                {
                  "name": "Census Cost",
                  "dtype": "object",
                  "stats": {
                    "unique_count": 24,
                    "nan_count": 0,
                    "categories": [
                      {
                        "name": "Census Cost",
                        "count": 1
                      },
                      {
                        "name": "$44,377",
                        "count": 1
                      },
                      {
                        "name": "22 others",
                        "count": 22
                      }
                    ]
                  }
                },
                {
                  "name": "Average Cost Per Person",
                  "dtype": "object",
                  "stats": {
                    "unique_count": 24,
                    "nan_count": 0,
                    "categories": [
                      {
                        "name": "Average Cost Per Person",
                        "count": 1
                      },
                      {
                        "name": "1.13 cents",
                        "count": 1
                      },
                      {
                        "name": "22 others",
                        "count": 22
                      }
                    ]
                  }
                },
                {
                  "name": "_deepnote_index_column",
                  "dtype": "int64"
                }
              ],
              "rows_top": [
                {
                  "Census Year": "Census Year",
                  "Total Population": "Total Population",
                  "Census Cost": "Census Cost",
                  "Average Cost Per Person": "Average Cost Per Person",
                  "_deepnote_index_column": 0
                },
                {
                  "Census Year": "1790",
                  "Total Population": "3929214",
                  "Census Cost": "$44,377",
                  "Average Cost Per Person": "1.13 cents",
                  "_deepnote_index_column": 1
                },
                {
                  "Census Year": "1800",
                  "Total Population": "5308483",
                  "Census Cost": "$66,109",
                  "Average Cost Per Person": "1.24 cents",
                  "_deepnote_index_column": 2
                },
                {
                  "Census Year": "1810",
                  "Total Population": "7239881",
                  "Census Cost": "$178,445",
                  "Average Cost Per Person": "2.46 cents",
                  "_deepnote_index_column": 3
                },
                {
                  "Census Year": "1820",
                  "Total Population": "9633822",
                  "Census Cost": "$208,526",
                  "Average Cost Per Person": "2.16 cents",
                  "_deepnote_index_column": 4
                },
                {
                  "Census Year": "1830",
                  "Total Population": "12866020",
                  "Census Cost": "$378,545",
                  "Average Cost Per Person": "2.94 cents",
                  "_deepnote_index_column": 5
                },
                {
                  "Census Year": "1840",
                  "Total Population": "17069458",
                  "Census Cost": "$833,371",
                  "Average Cost Per Person": "4.88 cents",
                  "_deepnote_index_column": 6
                },
                {
                  "Census Year": "1850",
                  "Total Population": "23191876",
                  "Census Cost": "$1,423,351",
                  "Average Cost Per Person": "6.14 cents",
                  "_deepnote_index_column": 7
                },
                {
                  "Census Year": "1860",
                  "Total Population": "31443321",
                  "Census Cost": "$1,969,377",
                  "Average Cost Per Person": "6.26 cents",
                  "_deepnote_index_column": 8
                },
                {
                  "Census Year": "1870",
                  "Total Population": "38558371",
                  "Census Cost": "$3,421,198",
                  "Average Cost Per Person": "8.87 cents",
                  "_deepnote_index_column": 9
                },
                {
                  "Census Year": "1880",
                  "Total Population": "50155783",
                  "Census Cost": "$5,790,678",
                  "Average Cost Per Person": "11.54 cents",
                  "_deepnote_index_column": 10
                },
                {
                  "Census Year": "1890",
                  "Total Population": "62979766",
                  "Census Cost": "$11,547,127",
                  "Average Cost Per Person": "18.33 cents",
                  "_deepnote_index_column": 11
                },
                {
                  "Census Year": "1900",
                  "Total Population": "76303387",
                  "Census Cost": "$11,854,000",
                  "Average Cost Per Person": "15.54 cents",
                  "_deepnote_index_column": 12
                },
                {
                  "Census Year": "1910",
                  "Total Population": "91972266",
                  "Census Cost": "$15,968,000",
                  "Average Cost Per Person": "17.07 cents",
                  "_deepnote_index_column": 13
                },
                {
                  "Census Year": "1920",
                  "Total Population": "105710620",
                  "Census Cost": "$25,117,000",
                  "Average Cost Per Person": "23.76 cents",
                  "_deepnote_index_column": 14
                },
                {
                  "Census Year": "1930",
                  "Total Population": "122775046",
                  "Census Cost": "$40,156,000",
                  "Average Cost Per Person": "32.71 cents",
                  "_deepnote_index_column": 15
                },
                {
                  "Census Year": "1940",
                  "Total Population": "131669275",
                  "Census Cost": "$67,527,000",
                  "Average Cost Per Person": "51.29 cents",
                  "_deepnote_index_column": 16
                },
                {
                  "Census Year": "1950",
                  "Total Population": "151325798",
                  "Census Cost": "$91,462,000",
                  "Average Cost Per Person": "60.44 cents",
                  "_deepnote_index_column": 17
                },
                {
                  "Census Year": "1960",
                  "Total Population": "179323175",
                  "Census Cost": "$127,934,000",
                  "Average Cost Per Person": "71.34 cents",
                  "_deepnote_index_column": 18
                },
                {
                  "Census Year": "1970",
                  "Total Population": "203302031",
                  "Census Cost": "$247,653,000",
                  "Average Cost Per Person": "$1.22",
                  "_deepnote_index_column": 19
                },
                {
                  "Census Year": "1980",
                  "Total Population": "226542199",
                  "Census Cost": "$1,078,488,000",
                  "Average Cost Per Person": "$4.76",
                  "_deepnote_index_column": 20
                },
                {
                  "Census Year": "1990",
                  "Total Population": "248718301",
                  "Census Cost": "$2,492,830,000",
                  "Average Cost Per Person": "$10.02",
                  "_deepnote_index_column": 21
                },
                {
                  "Census Year": "2000",
                  "Total Population": "281421906",
                  "Census Cost": "$4.5 Billion",
                  "Average Cost Per Person": "$15.99",
                  "_deepnote_index_column": 22
                },
                {
                  "Census Year": "2010*",
                  "Total Population": "308745538",
                  "Census Cost": "$13 Billion",
                  "Average Cost Per Person": "$42.11",
                  "_deepnote_index_column": 23
                }
              ],
              "rows_bottom": null
            },
            "text/plain": "0   Census Year  Total Population     Census Cost  Average Cost Per Person\n0   Census Year  Total Population     Census Cost  Average Cost Per Person\n1          1790           3929214         $44,377               1.13 cents\n2          1800           5308483         $66,109               1.24 cents\n3          1810           7239881        $178,445               2.46 cents\n4          1820           9633822        $208,526               2.16 cents\n5          1830          12866020        $378,545               2.94 cents\n6          1840          17069458        $833,371               4.88 cents\n7          1850          23191876      $1,423,351               6.14 cents\n8          1860          31443321      $1,969,377               6.26 cents\n9          1870          38558371      $3,421,198               8.87 cents\n10         1880          50155783      $5,790,678              11.54 cents\n11         1890          62979766     $11,547,127              18.33 cents\n12         1900          76303387     $11,854,000              15.54 cents\n13         1910          91972266     $15,968,000              17.07 cents\n14         1920         105710620     $25,117,000              23.76 cents\n15         1930         122775046     $40,156,000              32.71 cents\n16         1940         131669275     $67,527,000              51.29 cents\n17         1950         151325798     $91,462,000              60.44 cents\n18         1960         179323175    $127,934,000              71.34 cents\n19         1970         203302031    $247,653,000                    $1.22\n20         1980         226542199  $1,078,488,000                    $4.76\n21         1990         248718301  $2,492,830,000                   $10.02\n22         2000         281421906    $4.5 Billion                   $15.99\n23        2010*         308745538     $13 Billion                   $42.11",
            "text/html": "<div>\n<style scoped>\n    .dataframe tbody tr th:only-of-type {\n        vertical-align: middle;\n    }\n\n    .dataframe tbody tr th {\n        vertical-align: top;\n    }\n\n    .dataframe thead th {\n        text-align: right;\n    }\n</style>\n<table border=\"1\" class=\"dataframe\">\n  <thead>\n    <tr style=\"text-align: right;\">\n      <th></th>\n      <th>Census Year</th>\n      <th>Total Population</th>\n      <th>Census Cost</th>\n      <th>Average Cost Per Person</th>\n    </tr>\n  </thead>\n  <tbody>\n    <tr>\n      <th>0</th>\n      <td>Census Year</td>\n      <td>Total Population</td>\n      <td>Census Cost</td>\n      <td>Average Cost Per Person</td>\n    </tr>\n    <tr>\n      <th>1</th>\n      <td>1790</td>\n      <td>3929214</td>\n      <td>$44,377</td>\n      <td>1.13 cents</td>\n    </tr>\n    <tr>\n      <th>2</th>\n      <td>1800</td>\n      <td>5308483</td>\n      <td>$66,109</td>\n      <td>1.24 cents</td>\n    </tr>\n    <tr>\n      <th>3</th>\n      <td>1810</td>\n      <td>7239881</td>\n      <td>$178,445</td>\n      <td>2.46 cents</td>\n    </tr>\n    <tr>\n      <th>4</th>\n      <td>1820</td>\n      <td>9633822</td>\n      <td>$208,526</td>\n      <td>2.16 cents</td>\n    </tr>\n    <tr>\n      <th>5</th>\n      <td>1830</td>\n      <td>12866020</td>\n      <td>$378,545</td>\n      <td>2.94 cents</td>\n    </tr>\n    <tr>\n      <th>6</th>\n      <td>1840</td>\n      <td>17069458</td>\n      <td>$833,371</td>\n      <td>4.88 cents</td>\n    </tr>\n    <tr>\n      <th>7</th>\n      <td>1850</td>\n      <td>23191876</td>\n      <td>$1,423,351</td>\n      <td>6.14 cents</td>\n    </tr>\n    <tr>\n      <th>8</th>\n      <td>1860</td>\n      <td>31443321</td>\n      <td>$1,969,377</td>\n      <td>6.26 cents</td>\n    </tr>\n    <tr>\n      <th>9</th>\n      <td>1870</td>\n      <td>38558371</td>\n      <td>$3,421,198</td>\n      <td>8.87 cents</td>\n    </tr>\n    <tr>\n      <th>10</th>\n      <td>1880</td>\n      <td>50155783</td>\n      <td>$5,790,678</td>\n      <td>11.54 cents</td>\n    </tr>\n    <tr>\n      <th>11</th>\n      <td>1890</td>\n      <td>62979766</td>\n      <td>$11,547,127</td>\n      <td>18.33 cents</td>\n    </tr>\n    <tr>\n      <th>12</th>\n      <td>1900</td>\n      <td>76303387</td>\n      <td>$11,854,000</td>\n      <td>15.54 cents</td>\n    </tr>\n    <tr>\n      <th>13</th>\n      <td>1910</td>\n      <td>91972266</td>\n      <td>$15,968,000</td>\n      <td>17.07 cents</td>\n    </tr>\n    <tr>\n      <th>14</th>\n      <td>1920</td>\n      <td>105710620</td>\n      <td>$25,117,000</td>\n      <td>23.76 cents</td>\n    </tr>\n    <tr>\n      <th>15</th>\n      <td>1930</td>\n      <td>122775046</td>\n      <td>$40,156,000</td>\n      <td>32.71 cents</td>\n    </tr>\n    <tr>\n      <th>16</th>\n      <td>1940</td>\n      <td>131669275</td>\n      <td>$67,527,000</td>\n      <td>51.29 cents</td>\n    </tr>\n    <tr>\n      <th>17</th>\n      <td>1950</td>\n      <td>151325798</td>\n      <td>$91,462,000</td>\n      <td>60.44 cents</td>\n    </tr>\n    <tr>\n      <th>18</th>\n      <td>1960</td>\n      <td>179323175</td>\n      <td>$127,934,000</td>\n      <td>71.34 cents</td>\n    </tr>\n    <tr>\n      <th>19</th>\n      <td>1970</td>\n      <td>203302031</td>\n      <td>$247,653,000</td>\n      <td>$1.22</td>\n    </tr>\n    <tr>\n      <th>20</th>\n      <td>1980</td>\n      <td>226542199</td>\n      <td>$1,078,488,000</td>\n      <td>$4.76</td>\n    </tr>\n    <tr>\n      <th>21</th>\n      <td>1990</td>\n      <td>248718301</td>\n      <td>$2,492,830,000</td>\n      <td>$10.02</td>\n    </tr>\n    <tr>\n      <th>22</th>\n      <td>2000</td>\n      <td>281421906</td>\n      <td>$4.5 Billion</td>\n      <td>$15.99</td>\n    </tr>\n    <tr>\n      <th>23</th>\n      <td>2010*</td>\n      <td>308745538</td>\n      <td>$13 Billion</td>\n      <td>$42.11</td>\n    </tr>\n  </tbody>\n</table>\n</div>"
          },
          "metadata": {}
        }
      ]
    },
    {
      "cell_type": "code",
      "metadata": {
        "cell_id": "00024-194748ab-685c-4422-baf6-ccb2fa2daf02",
        "deepnote_to_be_reexecuted": false,
        "source_hash": "14e99ffa",
        "execution_millis": 0,
        "execution_start": 1615876520061,
        "deepnote_cell_type": "code"
      },
      "source": "real_df=real_df.drop([0,])  # drop row with the names",
      "execution_count": 19,
      "outputs": []
    },
    {
      "cell_type": "code",
      "metadata": {
        "cell_id": "00025-e9a2f941-5a15-4ce6-a992-088a8981a6b9",
        "deepnote_to_be_reexecuted": false,
        "source_hash": "fcabc85c",
        "execution_millis": 12,
        "execution_start": 1615876520110,
        "deepnote_cell_type": "code"
      },
      "source": "real_df # Now that row doesn't show up",
      "execution_count": 20,
      "outputs": [
        {
          "output_type": "execute_result",
          "execution_count": 20,
          "data": {
            "application/vnd.deepnote.dataframe.v2+json": {
              "row_count": 23,
              "column_count": 4,
              "columns": [
                {
                  "name": "Census Year",
                  "dtype": "object",
                  "stats": {
                    "unique_count": 23,
                    "nan_count": 0,
                    "categories": [
                      {
                        "name": "1790",
                        "count": 1
                      },
                      {
                        "name": "1800",
                        "count": 1
                      },
                      {
                        "name": "21 others",
                        "count": 21
                      }
                    ]
                  }
                },
                {
                  "name": "Total Population",
                  "dtype": "object",
                  "stats": {
                    "unique_count": 23,
                    "nan_count": 0,
                    "categories": [
                      {
                        "name": "3929214",
                        "count": 1
                      },
                      {
                        "name": "5308483",
                        "count": 1
                      },
                      {
                        "name": "21 others",
                        "count": 21
                      }
                    ]
                  }
                },
                {
                  "name": "Census Cost",
                  "dtype": "object",
                  "stats": {
                    "unique_count": 23,
                    "nan_count": 0,
                    "categories": [
                      {
                        "name": "$44,377",
                        "count": 1
                      },
                      {
                        "name": "$66,109",
                        "count": 1
                      },
                      {
                        "name": "21 others",
                        "count": 21
                      }
                    ]
                  }
                },
                {
                  "name": "Average Cost Per Person",
                  "dtype": "object",
                  "stats": {
                    "unique_count": 23,
                    "nan_count": 0,
                    "categories": [
                      {
                        "name": "1.13 cents",
                        "count": 1
                      },
                      {
                        "name": "1.24 cents",
                        "count": 1
                      },
                      {
                        "name": "21 others",
                        "count": 21
                      }
                    ]
                  }
                },
                {
                  "name": "_deepnote_index_column",
                  "dtype": "int64"
                }
              ],
              "rows_top": [
                {
                  "Census Year": "1790",
                  "Total Population": "3929214",
                  "Census Cost": "$44,377",
                  "Average Cost Per Person": "1.13 cents",
                  "_deepnote_index_column": 1
                },
                {
                  "Census Year": "1800",
                  "Total Population": "5308483",
                  "Census Cost": "$66,109",
                  "Average Cost Per Person": "1.24 cents",
                  "_deepnote_index_column": 2
                },
                {
                  "Census Year": "1810",
                  "Total Population": "7239881",
                  "Census Cost": "$178,445",
                  "Average Cost Per Person": "2.46 cents",
                  "_deepnote_index_column": 3
                },
                {
                  "Census Year": "1820",
                  "Total Population": "9633822",
                  "Census Cost": "$208,526",
                  "Average Cost Per Person": "2.16 cents",
                  "_deepnote_index_column": 4
                },
                {
                  "Census Year": "1830",
                  "Total Population": "12866020",
                  "Census Cost": "$378,545",
                  "Average Cost Per Person": "2.94 cents",
                  "_deepnote_index_column": 5
                },
                {
                  "Census Year": "1840",
                  "Total Population": "17069458",
                  "Census Cost": "$833,371",
                  "Average Cost Per Person": "4.88 cents",
                  "_deepnote_index_column": 6
                },
                {
                  "Census Year": "1850",
                  "Total Population": "23191876",
                  "Census Cost": "$1,423,351",
                  "Average Cost Per Person": "6.14 cents",
                  "_deepnote_index_column": 7
                },
                {
                  "Census Year": "1860",
                  "Total Population": "31443321",
                  "Census Cost": "$1,969,377",
                  "Average Cost Per Person": "6.26 cents",
                  "_deepnote_index_column": 8
                },
                {
                  "Census Year": "1870",
                  "Total Population": "38558371",
                  "Census Cost": "$3,421,198",
                  "Average Cost Per Person": "8.87 cents",
                  "_deepnote_index_column": 9
                },
                {
                  "Census Year": "1880",
                  "Total Population": "50155783",
                  "Census Cost": "$5,790,678",
                  "Average Cost Per Person": "11.54 cents",
                  "_deepnote_index_column": 10
                },
                {
                  "Census Year": "1890",
                  "Total Population": "62979766",
                  "Census Cost": "$11,547,127",
                  "Average Cost Per Person": "18.33 cents",
                  "_deepnote_index_column": 11
                },
                {
                  "Census Year": "1900",
                  "Total Population": "76303387",
                  "Census Cost": "$11,854,000",
                  "Average Cost Per Person": "15.54 cents",
                  "_deepnote_index_column": 12
                },
                {
                  "Census Year": "1910",
                  "Total Population": "91972266",
                  "Census Cost": "$15,968,000",
                  "Average Cost Per Person": "17.07 cents",
                  "_deepnote_index_column": 13
                },
                {
                  "Census Year": "1920",
                  "Total Population": "105710620",
                  "Census Cost": "$25,117,000",
                  "Average Cost Per Person": "23.76 cents",
                  "_deepnote_index_column": 14
                },
                {
                  "Census Year": "1930",
                  "Total Population": "122775046",
                  "Census Cost": "$40,156,000",
                  "Average Cost Per Person": "32.71 cents",
                  "_deepnote_index_column": 15
                },
                {
                  "Census Year": "1940",
                  "Total Population": "131669275",
                  "Census Cost": "$67,527,000",
                  "Average Cost Per Person": "51.29 cents",
                  "_deepnote_index_column": 16
                },
                {
                  "Census Year": "1950",
                  "Total Population": "151325798",
                  "Census Cost": "$91,462,000",
                  "Average Cost Per Person": "60.44 cents",
                  "_deepnote_index_column": 17
                },
                {
                  "Census Year": "1960",
                  "Total Population": "179323175",
                  "Census Cost": "$127,934,000",
                  "Average Cost Per Person": "71.34 cents",
                  "_deepnote_index_column": 18
                },
                {
                  "Census Year": "1970",
                  "Total Population": "203302031",
                  "Census Cost": "$247,653,000",
                  "Average Cost Per Person": "$1.22",
                  "_deepnote_index_column": 19
                },
                {
                  "Census Year": "1980",
                  "Total Population": "226542199",
                  "Census Cost": "$1,078,488,000",
                  "Average Cost Per Person": "$4.76",
                  "_deepnote_index_column": 20
                },
                {
                  "Census Year": "1990",
                  "Total Population": "248718301",
                  "Census Cost": "$2,492,830,000",
                  "Average Cost Per Person": "$10.02",
                  "_deepnote_index_column": 21
                },
                {
                  "Census Year": "2000",
                  "Total Population": "281421906",
                  "Census Cost": "$4.5 Billion",
                  "Average Cost Per Person": "$15.99",
                  "_deepnote_index_column": 22
                },
                {
                  "Census Year": "2010*",
                  "Total Population": "308745538",
                  "Census Cost": "$13 Billion",
                  "Average Cost Per Person": "$42.11",
                  "_deepnote_index_column": 23
                }
              ],
              "rows_bottom": null
            },
            "text/plain": "0  Census Year Total Population     Census Cost Average Cost Per Person\n1         1790          3929214         $44,377              1.13 cents\n2         1800          5308483         $66,109              1.24 cents\n3         1810          7239881        $178,445              2.46 cents\n4         1820          9633822        $208,526              2.16 cents\n5         1830         12866020        $378,545              2.94 cents\n6         1840         17069458        $833,371              4.88 cents\n7         1850         23191876      $1,423,351              6.14 cents\n8         1860         31443321      $1,969,377              6.26 cents\n9         1870         38558371      $3,421,198              8.87 cents\n10        1880         50155783      $5,790,678             11.54 cents\n11        1890         62979766     $11,547,127             18.33 cents\n12        1900         76303387     $11,854,000             15.54 cents\n13        1910         91972266     $15,968,000             17.07 cents\n14        1920        105710620     $25,117,000             23.76 cents\n15        1930        122775046     $40,156,000             32.71 cents\n16        1940        131669275     $67,527,000             51.29 cents\n17        1950        151325798     $91,462,000             60.44 cents\n18        1960        179323175    $127,934,000             71.34 cents\n19        1970        203302031    $247,653,000                   $1.22\n20        1980        226542199  $1,078,488,000                   $4.76\n21        1990        248718301  $2,492,830,000                  $10.02\n22        2000        281421906    $4.5 Billion                  $15.99\n23       2010*        308745538     $13 Billion                  $42.11",
            "text/html": "<div>\n<style scoped>\n    .dataframe tbody tr th:only-of-type {\n        vertical-align: middle;\n    }\n\n    .dataframe tbody tr th {\n        vertical-align: top;\n    }\n\n    .dataframe thead th {\n        text-align: right;\n    }\n</style>\n<table border=\"1\" class=\"dataframe\">\n  <thead>\n    <tr style=\"text-align: right;\">\n      <th></th>\n      <th>Census Year</th>\n      <th>Total Population</th>\n      <th>Census Cost</th>\n      <th>Average Cost Per Person</th>\n    </tr>\n  </thead>\n  <tbody>\n    <tr>\n      <th>1</th>\n      <td>1790</td>\n      <td>3929214</td>\n      <td>$44,377</td>\n      <td>1.13 cents</td>\n    </tr>\n    <tr>\n      <th>2</th>\n      <td>1800</td>\n      <td>5308483</td>\n      <td>$66,109</td>\n      <td>1.24 cents</td>\n    </tr>\n    <tr>\n      <th>3</th>\n      <td>1810</td>\n      <td>7239881</td>\n      <td>$178,445</td>\n      <td>2.46 cents</td>\n    </tr>\n    <tr>\n      <th>4</th>\n      <td>1820</td>\n      <td>9633822</td>\n      <td>$208,526</td>\n      <td>2.16 cents</td>\n    </tr>\n    <tr>\n      <th>5</th>\n      <td>1830</td>\n      <td>12866020</td>\n      <td>$378,545</td>\n      <td>2.94 cents</td>\n    </tr>\n    <tr>\n      <th>6</th>\n      <td>1840</td>\n      <td>17069458</td>\n      <td>$833,371</td>\n      <td>4.88 cents</td>\n    </tr>\n    <tr>\n      <th>7</th>\n      <td>1850</td>\n      <td>23191876</td>\n      <td>$1,423,351</td>\n      <td>6.14 cents</td>\n    </tr>\n    <tr>\n      <th>8</th>\n      <td>1860</td>\n      <td>31443321</td>\n      <td>$1,969,377</td>\n      <td>6.26 cents</td>\n    </tr>\n    <tr>\n      <th>9</th>\n      <td>1870</td>\n      <td>38558371</td>\n      <td>$3,421,198</td>\n      <td>8.87 cents</td>\n    </tr>\n    <tr>\n      <th>10</th>\n      <td>1880</td>\n      <td>50155783</td>\n      <td>$5,790,678</td>\n      <td>11.54 cents</td>\n    </tr>\n    <tr>\n      <th>11</th>\n      <td>1890</td>\n      <td>62979766</td>\n      <td>$11,547,127</td>\n      <td>18.33 cents</td>\n    </tr>\n    <tr>\n      <th>12</th>\n      <td>1900</td>\n      <td>76303387</td>\n      <td>$11,854,000</td>\n      <td>15.54 cents</td>\n    </tr>\n    <tr>\n      <th>13</th>\n      <td>1910</td>\n      <td>91972266</td>\n      <td>$15,968,000</td>\n      <td>17.07 cents</td>\n    </tr>\n    <tr>\n      <th>14</th>\n      <td>1920</td>\n      <td>105710620</td>\n      <td>$25,117,000</td>\n      <td>23.76 cents</td>\n    </tr>\n    <tr>\n      <th>15</th>\n      <td>1930</td>\n      <td>122775046</td>\n      <td>$40,156,000</td>\n      <td>32.71 cents</td>\n    </tr>\n    <tr>\n      <th>16</th>\n      <td>1940</td>\n      <td>131669275</td>\n      <td>$67,527,000</td>\n      <td>51.29 cents</td>\n    </tr>\n    <tr>\n      <th>17</th>\n      <td>1950</td>\n      <td>151325798</td>\n      <td>$91,462,000</td>\n      <td>60.44 cents</td>\n    </tr>\n    <tr>\n      <th>18</th>\n      <td>1960</td>\n      <td>179323175</td>\n      <td>$127,934,000</td>\n      <td>71.34 cents</td>\n    </tr>\n    <tr>\n      <th>19</th>\n      <td>1970</td>\n      <td>203302031</td>\n      <td>$247,653,000</td>\n      <td>$1.22</td>\n    </tr>\n    <tr>\n      <th>20</th>\n      <td>1980</td>\n      <td>226542199</td>\n      <td>$1,078,488,000</td>\n      <td>$4.76</td>\n    </tr>\n    <tr>\n      <th>21</th>\n      <td>1990</td>\n      <td>248718301</td>\n      <td>$2,492,830,000</td>\n      <td>$10.02</td>\n    </tr>\n    <tr>\n      <th>22</th>\n      <td>2000</td>\n      <td>281421906</td>\n      <td>$4.5 Billion</td>\n      <td>$15.99</td>\n    </tr>\n    <tr>\n      <th>23</th>\n      <td>2010*</td>\n      <td>308745538</td>\n      <td>$13 Billion</td>\n      <td>$42.11</td>\n    </tr>\n  </tbody>\n</table>\n</div>"
          },
          "metadata": {}
        }
      ]
    },
    {
      "cell_type": "markdown",
      "source": "## Step 6: Determine the data quality",
      "metadata": {
        "tags": [],
        "cell_id": "00026-3df2da88-f1c8-454e-9f09-ca0044f6a90f",
        "deepnote_cell_type": "markdown"
      }
    },
    {
      "cell_type": "code",
      "metadata": {
        "deepnote_to_be_reexecuted": false,
        "execution_millis": 9,
        "source_hash": "42fea25",
        "tags": [],
        "cell_id": "00027-ba340834-f454-4760-a596-4f1aa7b2be58",
        "execution_start": 1615876520140,
        "deepnote_cell_type": "code"
      },
      "source": "real_df.dtypes #verify types of data in columns",
      "execution_count": 21,
      "outputs": [
        {
          "output_type": "execute_result",
          "execution_count": 21,
          "data": {
            "text/plain": "0\nCensus Year                object\nTotal Population           object\nCensus Cost                object\nAverage Cost Per Person    object\ndtype: object"
          },
          "metadata": {}
        }
      ]
    },
    {
      "cell_type": "markdown",
      "source": "As the elements in the columns are object changes need to make in some to perform the cleaning",
      "metadata": {
        "tags": [],
        "cell_id": "00028-0246196e-14b1-4871-a60d-6c4f0c49249e",
        "deepnote_cell_type": "markdown"
      }
    },
    {
      "cell_type": "code",
      "metadata": {
        "deepnote_to_be_reexecuted": false,
        "execution_millis": 11,
        "source_hash": "af3079a5",
        "tags": [],
        "cell_id": "00029-603b484e-bcff-41b6-98b4-7dd1918f621d",
        "execution_start": 1615876520141,
        "deepnote_cell_type": "code"
      },
      "source": "nullval_df= real_df.isnull() # check null values\nnullval_df",
      "execution_count": 22,
      "outputs": [
        {
          "output_type": "execute_result",
          "execution_count": 22,
          "data": {
            "application/vnd.deepnote.dataframe.v2+json": {
              "row_count": 23,
              "column_count": 4,
              "columns": [
                {
                  "name": "Census Year",
                  "dtype": "bool",
                  "stats": {
                    "unique_count": 1,
                    "nan_count": 0,
                    "categories": [
                      {
                        "name": "False",
                        "count": 23
                      }
                    ]
                  }
                },
                {
                  "name": "Total Population",
                  "dtype": "bool",
                  "stats": {
                    "unique_count": 1,
                    "nan_count": 0,
                    "categories": [
                      {
                        "name": "False",
                        "count": 23
                      }
                    ]
                  }
                },
                {
                  "name": "Census Cost",
                  "dtype": "bool",
                  "stats": {
                    "unique_count": 1,
                    "nan_count": 0,
                    "categories": [
                      {
                        "name": "False",
                        "count": 23
                      }
                    ]
                  }
                },
                {
                  "name": "Average Cost Per Person",
                  "dtype": "bool",
                  "stats": {
                    "unique_count": 1,
                    "nan_count": 0,
                    "categories": [
                      {
                        "name": "False",
                        "count": 23
                      }
                    ]
                  }
                },
                {
                  "name": "_deepnote_index_column",
                  "dtype": "int64"
                }
              ],
              "rows_top": [
                {
                  "Census Year": false,
                  "Total Population": false,
                  "Census Cost": false,
                  "Average Cost Per Person": false,
                  "_deepnote_index_column": 1
                },
                {
                  "Census Year": false,
                  "Total Population": false,
                  "Census Cost": false,
                  "Average Cost Per Person": false,
                  "_deepnote_index_column": 2
                },
                {
                  "Census Year": false,
                  "Total Population": false,
                  "Census Cost": false,
                  "Average Cost Per Person": false,
                  "_deepnote_index_column": 3
                },
                {
                  "Census Year": false,
                  "Total Population": false,
                  "Census Cost": false,
                  "Average Cost Per Person": false,
                  "_deepnote_index_column": 4
                },
                {
                  "Census Year": false,
                  "Total Population": false,
                  "Census Cost": false,
                  "Average Cost Per Person": false,
                  "_deepnote_index_column": 5
                },
                {
                  "Census Year": false,
                  "Total Population": false,
                  "Census Cost": false,
                  "Average Cost Per Person": false,
                  "_deepnote_index_column": 6
                },
                {
                  "Census Year": false,
                  "Total Population": false,
                  "Census Cost": false,
                  "Average Cost Per Person": false,
                  "_deepnote_index_column": 7
                },
                {
                  "Census Year": false,
                  "Total Population": false,
                  "Census Cost": false,
                  "Average Cost Per Person": false,
                  "_deepnote_index_column": 8
                },
                {
                  "Census Year": false,
                  "Total Population": false,
                  "Census Cost": false,
                  "Average Cost Per Person": false,
                  "_deepnote_index_column": 9
                },
                {
                  "Census Year": false,
                  "Total Population": false,
                  "Census Cost": false,
                  "Average Cost Per Person": false,
                  "_deepnote_index_column": 10
                },
                {
                  "Census Year": false,
                  "Total Population": false,
                  "Census Cost": false,
                  "Average Cost Per Person": false,
                  "_deepnote_index_column": 11
                },
                {
                  "Census Year": false,
                  "Total Population": false,
                  "Census Cost": false,
                  "Average Cost Per Person": false,
                  "_deepnote_index_column": 12
                },
                {
                  "Census Year": false,
                  "Total Population": false,
                  "Census Cost": false,
                  "Average Cost Per Person": false,
                  "_deepnote_index_column": 13
                },
                {
                  "Census Year": false,
                  "Total Population": false,
                  "Census Cost": false,
                  "Average Cost Per Person": false,
                  "_deepnote_index_column": 14
                },
                {
                  "Census Year": false,
                  "Total Population": false,
                  "Census Cost": false,
                  "Average Cost Per Person": false,
                  "_deepnote_index_column": 15
                },
                {
                  "Census Year": false,
                  "Total Population": false,
                  "Census Cost": false,
                  "Average Cost Per Person": false,
                  "_deepnote_index_column": 16
                },
                {
                  "Census Year": false,
                  "Total Population": false,
                  "Census Cost": false,
                  "Average Cost Per Person": false,
                  "_deepnote_index_column": 17
                },
                {
                  "Census Year": false,
                  "Total Population": false,
                  "Census Cost": false,
                  "Average Cost Per Person": false,
                  "_deepnote_index_column": 18
                },
                {
                  "Census Year": false,
                  "Total Population": false,
                  "Census Cost": false,
                  "Average Cost Per Person": false,
                  "_deepnote_index_column": 19
                },
                {
                  "Census Year": false,
                  "Total Population": false,
                  "Census Cost": false,
                  "Average Cost Per Person": false,
                  "_deepnote_index_column": 20
                },
                {
                  "Census Year": false,
                  "Total Population": false,
                  "Census Cost": false,
                  "Average Cost Per Person": false,
                  "_deepnote_index_column": 21
                },
                {
                  "Census Year": false,
                  "Total Population": false,
                  "Census Cost": false,
                  "Average Cost Per Person": false,
                  "_deepnote_index_column": 22
                },
                {
                  "Census Year": false,
                  "Total Population": false,
                  "Census Cost": false,
                  "Average Cost Per Person": false,
                  "_deepnote_index_column": 23
                }
              ],
              "rows_bottom": null
            },
            "text/plain": "0   Census Year  Total Population  Census Cost  Average Cost Per Person\n1         False             False        False                    False\n2         False             False        False                    False\n3         False             False        False                    False\n4         False             False        False                    False\n5         False             False        False                    False\n6         False             False        False                    False\n7         False             False        False                    False\n8         False             False        False                    False\n9         False             False        False                    False\n10        False             False        False                    False\n11        False             False        False                    False\n12        False             False        False                    False\n13        False             False        False                    False\n14        False             False        False                    False\n15        False             False        False                    False\n16        False             False        False                    False\n17        False             False        False                    False\n18        False             False        False                    False\n19        False             False        False                    False\n20        False             False        False                    False\n21        False             False        False                    False\n22        False             False        False                    False\n23        False             False        False                    False",
            "text/html": "<div>\n<style scoped>\n    .dataframe tbody tr th:only-of-type {\n        vertical-align: middle;\n    }\n\n    .dataframe tbody tr th {\n        vertical-align: top;\n    }\n\n    .dataframe thead th {\n        text-align: right;\n    }\n</style>\n<table border=\"1\" class=\"dataframe\">\n  <thead>\n    <tr style=\"text-align: right;\">\n      <th></th>\n      <th>Census Year</th>\n      <th>Total Population</th>\n      <th>Census Cost</th>\n      <th>Average Cost Per Person</th>\n    </tr>\n  </thead>\n  <tbody>\n    <tr>\n      <th>1</th>\n      <td>False</td>\n      <td>False</td>\n      <td>False</td>\n      <td>False</td>\n    </tr>\n    <tr>\n      <th>2</th>\n      <td>False</td>\n      <td>False</td>\n      <td>False</td>\n      <td>False</td>\n    </tr>\n    <tr>\n      <th>3</th>\n      <td>False</td>\n      <td>False</td>\n      <td>False</td>\n      <td>False</td>\n    </tr>\n    <tr>\n      <th>4</th>\n      <td>False</td>\n      <td>False</td>\n      <td>False</td>\n      <td>False</td>\n    </tr>\n    <tr>\n      <th>5</th>\n      <td>False</td>\n      <td>False</td>\n      <td>False</td>\n      <td>False</td>\n    </tr>\n    <tr>\n      <th>6</th>\n      <td>False</td>\n      <td>False</td>\n      <td>False</td>\n      <td>False</td>\n    </tr>\n    <tr>\n      <th>7</th>\n      <td>False</td>\n      <td>False</td>\n      <td>False</td>\n      <td>False</td>\n    </tr>\n    <tr>\n      <th>8</th>\n      <td>False</td>\n      <td>False</td>\n      <td>False</td>\n      <td>False</td>\n    </tr>\n    <tr>\n      <th>9</th>\n      <td>False</td>\n      <td>False</td>\n      <td>False</td>\n      <td>False</td>\n    </tr>\n    <tr>\n      <th>10</th>\n      <td>False</td>\n      <td>False</td>\n      <td>False</td>\n      <td>False</td>\n    </tr>\n    <tr>\n      <th>11</th>\n      <td>False</td>\n      <td>False</td>\n      <td>False</td>\n      <td>False</td>\n    </tr>\n    <tr>\n      <th>12</th>\n      <td>False</td>\n      <td>False</td>\n      <td>False</td>\n      <td>False</td>\n    </tr>\n    <tr>\n      <th>13</th>\n      <td>False</td>\n      <td>False</td>\n      <td>False</td>\n      <td>False</td>\n    </tr>\n    <tr>\n      <th>14</th>\n      <td>False</td>\n      <td>False</td>\n      <td>False</td>\n      <td>False</td>\n    </tr>\n    <tr>\n      <th>15</th>\n      <td>False</td>\n      <td>False</td>\n      <td>False</td>\n      <td>False</td>\n    </tr>\n    <tr>\n      <th>16</th>\n      <td>False</td>\n      <td>False</td>\n      <td>False</td>\n      <td>False</td>\n    </tr>\n    <tr>\n      <th>17</th>\n      <td>False</td>\n      <td>False</td>\n      <td>False</td>\n      <td>False</td>\n    </tr>\n    <tr>\n      <th>18</th>\n      <td>False</td>\n      <td>False</td>\n      <td>False</td>\n      <td>False</td>\n    </tr>\n    <tr>\n      <th>19</th>\n      <td>False</td>\n      <td>False</td>\n      <td>False</td>\n      <td>False</td>\n    </tr>\n    <tr>\n      <th>20</th>\n      <td>False</td>\n      <td>False</td>\n      <td>False</td>\n      <td>False</td>\n    </tr>\n    <tr>\n      <th>21</th>\n      <td>False</td>\n      <td>False</td>\n      <td>False</td>\n      <td>False</td>\n    </tr>\n    <tr>\n      <th>22</th>\n      <td>False</td>\n      <td>False</td>\n      <td>False</td>\n      <td>False</td>\n    </tr>\n    <tr>\n      <th>23</th>\n      <td>False</td>\n      <td>False</td>\n      <td>False</td>\n      <td>False</td>\n    </tr>\n  </tbody>\n</table>\n</div>"
          },
          "metadata": {}
        }
      ]
    },
    {
      "cell_type": "markdown",
      "source": "There is no missing values",
      "metadata": {
        "tags": [],
        "cell_id": "00030-8364c4ca-e460-48e5-999c-02d8cc256837",
        "deepnote_cell_type": "markdown"
      }
    },
    {
      "cell_type": "code",
      "metadata": {
        "deepnote_to_be_reexecuted": false,
        "execution_millis": 25,
        "source_hash": "72625f6",
        "tags": [],
        "cell_id": "00031-0ded206b-1bf1-4602-bddc-6c046249ea3f",
        "execution_start": 1615876520146,
        "deepnote_cell_type": "code"
      },
      "source": "elem_check=real_df.applymap(lambda x: isinstance(x, (int, float)))# check wether elements are numbers\nelem_check",
      "execution_count": 23,
      "outputs": [
        {
          "output_type": "execute_result",
          "execution_count": 23,
          "data": {
            "application/vnd.deepnote.dataframe.v2+json": {
              "row_count": 23,
              "column_count": 4,
              "columns": [
                {
                  "name": "Census Year",
                  "dtype": "bool",
                  "stats": {
                    "unique_count": 1,
                    "nan_count": 0,
                    "categories": [
                      {
                        "name": "False",
                        "count": 23
                      }
                    ]
                  }
                },
                {
                  "name": "Total Population",
                  "dtype": "bool",
                  "stats": {
                    "unique_count": 1,
                    "nan_count": 0,
                    "categories": [
                      {
                        "name": "False",
                        "count": 23
                      }
                    ]
                  }
                },
                {
                  "name": "Census Cost",
                  "dtype": "bool",
                  "stats": {
                    "unique_count": 1,
                    "nan_count": 0,
                    "categories": [
                      {
                        "name": "False",
                        "count": 23
                      }
                    ]
                  }
                },
                {
                  "name": "Average Cost Per Person",
                  "dtype": "bool",
                  "stats": {
                    "unique_count": 1,
                    "nan_count": 0,
                    "categories": [
                      {
                        "name": "False",
                        "count": 23
                      }
                    ]
                  }
                },
                {
                  "name": "_deepnote_index_column",
                  "dtype": "int64"
                }
              ],
              "rows_top": [
                {
                  "Census Year": false,
                  "Total Population": false,
                  "Census Cost": false,
                  "Average Cost Per Person": false,
                  "_deepnote_index_column": 1
                },
                {
                  "Census Year": false,
                  "Total Population": false,
                  "Census Cost": false,
                  "Average Cost Per Person": false,
                  "_deepnote_index_column": 2
                },
                {
                  "Census Year": false,
                  "Total Population": false,
                  "Census Cost": false,
                  "Average Cost Per Person": false,
                  "_deepnote_index_column": 3
                },
                {
                  "Census Year": false,
                  "Total Population": false,
                  "Census Cost": false,
                  "Average Cost Per Person": false,
                  "_deepnote_index_column": 4
                },
                {
                  "Census Year": false,
                  "Total Population": false,
                  "Census Cost": false,
                  "Average Cost Per Person": false,
                  "_deepnote_index_column": 5
                },
                {
                  "Census Year": false,
                  "Total Population": false,
                  "Census Cost": false,
                  "Average Cost Per Person": false,
                  "_deepnote_index_column": 6
                },
                {
                  "Census Year": false,
                  "Total Population": false,
                  "Census Cost": false,
                  "Average Cost Per Person": false,
                  "_deepnote_index_column": 7
                },
                {
                  "Census Year": false,
                  "Total Population": false,
                  "Census Cost": false,
                  "Average Cost Per Person": false,
                  "_deepnote_index_column": 8
                },
                {
                  "Census Year": false,
                  "Total Population": false,
                  "Census Cost": false,
                  "Average Cost Per Person": false,
                  "_deepnote_index_column": 9
                },
                {
                  "Census Year": false,
                  "Total Population": false,
                  "Census Cost": false,
                  "Average Cost Per Person": false,
                  "_deepnote_index_column": 10
                },
                {
                  "Census Year": false,
                  "Total Population": false,
                  "Census Cost": false,
                  "Average Cost Per Person": false,
                  "_deepnote_index_column": 11
                },
                {
                  "Census Year": false,
                  "Total Population": false,
                  "Census Cost": false,
                  "Average Cost Per Person": false,
                  "_deepnote_index_column": 12
                },
                {
                  "Census Year": false,
                  "Total Population": false,
                  "Census Cost": false,
                  "Average Cost Per Person": false,
                  "_deepnote_index_column": 13
                },
                {
                  "Census Year": false,
                  "Total Population": false,
                  "Census Cost": false,
                  "Average Cost Per Person": false,
                  "_deepnote_index_column": 14
                },
                {
                  "Census Year": false,
                  "Total Population": false,
                  "Census Cost": false,
                  "Average Cost Per Person": false,
                  "_deepnote_index_column": 15
                },
                {
                  "Census Year": false,
                  "Total Population": false,
                  "Census Cost": false,
                  "Average Cost Per Person": false,
                  "_deepnote_index_column": 16
                },
                {
                  "Census Year": false,
                  "Total Population": false,
                  "Census Cost": false,
                  "Average Cost Per Person": false,
                  "_deepnote_index_column": 17
                },
                {
                  "Census Year": false,
                  "Total Population": false,
                  "Census Cost": false,
                  "Average Cost Per Person": false,
                  "_deepnote_index_column": 18
                },
                {
                  "Census Year": false,
                  "Total Population": false,
                  "Census Cost": false,
                  "Average Cost Per Person": false,
                  "_deepnote_index_column": 19
                },
                {
                  "Census Year": false,
                  "Total Population": false,
                  "Census Cost": false,
                  "Average Cost Per Person": false,
                  "_deepnote_index_column": 20
                },
                {
                  "Census Year": false,
                  "Total Population": false,
                  "Census Cost": false,
                  "Average Cost Per Person": false,
                  "_deepnote_index_column": 21
                },
                {
                  "Census Year": false,
                  "Total Population": false,
                  "Census Cost": false,
                  "Average Cost Per Person": false,
                  "_deepnote_index_column": 22
                },
                {
                  "Census Year": false,
                  "Total Population": false,
                  "Census Cost": false,
                  "Average Cost Per Person": false,
                  "_deepnote_index_column": 23
                }
              ],
              "rows_bottom": null
            },
            "text/plain": "0   Census Year  Total Population  Census Cost  Average Cost Per Person\n1         False             False        False                    False\n2         False             False        False                    False\n3         False             False        False                    False\n4         False             False        False                    False\n5         False             False        False                    False\n6         False             False        False                    False\n7         False             False        False                    False\n8         False             False        False                    False\n9         False             False        False                    False\n10        False             False        False                    False\n11        False             False        False                    False\n12        False             False        False                    False\n13        False             False        False                    False\n14        False             False        False                    False\n15        False             False        False                    False\n16        False             False        False                    False\n17        False             False        False                    False\n18        False             False        False                    False\n19        False             False        False                    False\n20        False             False        False                    False\n21        False             False        False                    False\n22        False             False        False                    False\n23        False             False        False                    False",
            "text/html": "<div>\n<style scoped>\n    .dataframe tbody tr th:only-of-type {\n        vertical-align: middle;\n    }\n\n    .dataframe tbody tr th {\n        vertical-align: top;\n    }\n\n    .dataframe thead th {\n        text-align: right;\n    }\n</style>\n<table border=\"1\" class=\"dataframe\">\n  <thead>\n    <tr style=\"text-align: right;\">\n      <th></th>\n      <th>Census Year</th>\n      <th>Total Population</th>\n      <th>Census Cost</th>\n      <th>Average Cost Per Person</th>\n    </tr>\n  </thead>\n  <tbody>\n    <tr>\n      <th>1</th>\n      <td>False</td>\n      <td>False</td>\n      <td>False</td>\n      <td>False</td>\n    </tr>\n    <tr>\n      <th>2</th>\n      <td>False</td>\n      <td>False</td>\n      <td>False</td>\n      <td>False</td>\n    </tr>\n    <tr>\n      <th>3</th>\n      <td>False</td>\n      <td>False</td>\n      <td>False</td>\n      <td>False</td>\n    </tr>\n    <tr>\n      <th>4</th>\n      <td>False</td>\n      <td>False</td>\n      <td>False</td>\n      <td>False</td>\n    </tr>\n    <tr>\n      <th>5</th>\n      <td>False</td>\n      <td>False</td>\n      <td>False</td>\n      <td>False</td>\n    </tr>\n    <tr>\n      <th>6</th>\n      <td>False</td>\n      <td>False</td>\n      <td>False</td>\n      <td>False</td>\n    </tr>\n    <tr>\n      <th>7</th>\n      <td>False</td>\n      <td>False</td>\n      <td>False</td>\n      <td>False</td>\n    </tr>\n    <tr>\n      <th>8</th>\n      <td>False</td>\n      <td>False</td>\n      <td>False</td>\n      <td>False</td>\n    </tr>\n    <tr>\n      <th>9</th>\n      <td>False</td>\n      <td>False</td>\n      <td>False</td>\n      <td>False</td>\n    </tr>\n    <tr>\n      <th>10</th>\n      <td>False</td>\n      <td>False</td>\n      <td>False</td>\n      <td>False</td>\n    </tr>\n    <tr>\n      <th>11</th>\n      <td>False</td>\n      <td>False</td>\n      <td>False</td>\n      <td>False</td>\n    </tr>\n    <tr>\n      <th>12</th>\n      <td>False</td>\n      <td>False</td>\n      <td>False</td>\n      <td>False</td>\n    </tr>\n    <tr>\n      <th>13</th>\n      <td>False</td>\n      <td>False</td>\n      <td>False</td>\n      <td>False</td>\n    </tr>\n    <tr>\n      <th>14</th>\n      <td>False</td>\n      <td>False</td>\n      <td>False</td>\n      <td>False</td>\n    </tr>\n    <tr>\n      <th>15</th>\n      <td>False</td>\n      <td>False</td>\n      <td>False</td>\n      <td>False</td>\n    </tr>\n    <tr>\n      <th>16</th>\n      <td>False</td>\n      <td>False</td>\n      <td>False</td>\n      <td>False</td>\n    </tr>\n    <tr>\n      <th>17</th>\n      <td>False</td>\n      <td>False</td>\n      <td>False</td>\n      <td>False</td>\n    </tr>\n    <tr>\n      <th>18</th>\n      <td>False</td>\n      <td>False</td>\n      <td>False</td>\n      <td>False</td>\n    </tr>\n    <tr>\n      <th>19</th>\n      <td>False</td>\n      <td>False</td>\n      <td>False</td>\n      <td>False</td>\n    </tr>\n    <tr>\n      <th>20</th>\n      <td>False</td>\n      <td>False</td>\n      <td>False</td>\n      <td>False</td>\n    </tr>\n    <tr>\n      <th>21</th>\n      <td>False</td>\n      <td>False</td>\n      <td>False</td>\n      <td>False</td>\n    </tr>\n    <tr>\n      <th>22</th>\n      <td>False</td>\n      <td>False</td>\n      <td>False</td>\n      <td>False</td>\n    </tr>\n    <tr>\n      <th>23</th>\n      <td>False</td>\n      <td>False</td>\n      <td>False</td>\n      <td>False</td>\n    </tr>\n  </tbody>\n</table>\n</div>"
          },
          "metadata": {}
        }
      ]
    },
    {
      "cell_type": "markdown",
      "source": "Since it result false it means that the elements are not an integer or float",
      "metadata": {
        "tags": [],
        "cell_id": "00032-fad1f99f-cfe2-4428-a836-2e3c5ade4c4f",
        "deepnote_cell_type": "markdown"
      }
    },
    {
      "cell_type": "code",
      "metadata": {
        "deepnote_to_be_reexecuted": false,
        "execution_millis": 11,
        "source_hash": "c5194d2b",
        "tags": [],
        "cell_id": "00033-36453582-deee-428d-b88e-04dd40bb07f6",
        "execution_start": 1615876520216,
        "deepnote_cell_type": "code"
      },
      "source": "real_df",
      "execution_count": 24,
      "outputs": [
        {
          "output_type": "execute_result",
          "execution_count": 24,
          "data": {
            "application/vnd.deepnote.dataframe.v2+json": {
              "row_count": 23,
              "column_count": 4,
              "columns": [
                {
                  "name": "Census Year",
                  "dtype": "object",
                  "stats": {
                    "unique_count": 23,
                    "nan_count": 0,
                    "categories": [
                      {
                        "name": "1790",
                        "count": 1
                      },
                      {
                        "name": "1800",
                        "count": 1
                      },
                      {
                        "name": "21 others",
                        "count": 21
                      }
                    ]
                  }
                },
                {
                  "name": "Total Population",
                  "dtype": "object",
                  "stats": {
                    "unique_count": 23,
                    "nan_count": 0,
                    "categories": [
                      {
                        "name": "3929214",
                        "count": 1
                      },
                      {
                        "name": "5308483",
                        "count": 1
                      },
                      {
                        "name": "21 others",
                        "count": 21
                      }
                    ]
                  }
                },
                {
                  "name": "Census Cost",
                  "dtype": "object",
                  "stats": {
                    "unique_count": 23,
                    "nan_count": 0,
                    "categories": [
                      {
                        "name": "$44,377",
                        "count": 1
                      },
                      {
                        "name": "$66,109",
                        "count": 1
                      },
                      {
                        "name": "21 others",
                        "count": 21
                      }
                    ]
                  }
                },
                {
                  "name": "Average Cost Per Person",
                  "dtype": "object",
                  "stats": {
                    "unique_count": 23,
                    "nan_count": 0,
                    "categories": [
                      {
                        "name": "1.13 cents",
                        "count": 1
                      },
                      {
                        "name": "1.24 cents",
                        "count": 1
                      },
                      {
                        "name": "21 others",
                        "count": 21
                      }
                    ]
                  }
                },
                {
                  "name": "_deepnote_index_column",
                  "dtype": "int64"
                }
              ],
              "rows_top": [
                {
                  "Census Year": "1790",
                  "Total Population": "3929214",
                  "Census Cost": "$44,377",
                  "Average Cost Per Person": "1.13 cents",
                  "_deepnote_index_column": 1
                },
                {
                  "Census Year": "1800",
                  "Total Population": "5308483",
                  "Census Cost": "$66,109",
                  "Average Cost Per Person": "1.24 cents",
                  "_deepnote_index_column": 2
                },
                {
                  "Census Year": "1810",
                  "Total Population": "7239881",
                  "Census Cost": "$178,445",
                  "Average Cost Per Person": "2.46 cents",
                  "_deepnote_index_column": 3
                },
                {
                  "Census Year": "1820",
                  "Total Population": "9633822",
                  "Census Cost": "$208,526",
                  "Average Cost Per Person": "2.16 cents",
                  "_deepnote_index_column": 4
                },
                {
                  "Census Year": "1830",
                  "Total Population": "12866020",
                  "Census Cost": "$378,545",
                  "Average Cost Per Person": "2.94 cents",
                  "_deepnote_index_column": 5
                },
                {
                  "Census Year": "1840",
                  "Total Population": "17069458",
                  "Census Cost": "$833,371",
                  "Average Cost Per Person": "4.88 cents",
                  "_deepnote_index_column": 6
                },
                {
                  "Census Year": "1850",
                  "Total Population": "23191876",
                  "Census Cost": "$1,423,351",
                  "Average Cost Per Person": "6.14 cents",
                  "_deepnote_index_column": 7
                },
                {
                  "Census Year": "1860",
                  "Total Population": "31443321",
                  "Census Cost": "$1,969,377",
                  "Average Cost Per Person": "6.26 cents",
                  "_deepnote_index_column": 8
                },
                {
                  "Census Year": "1870",
                  "Total Population": "38558371",
                  "Census Cost": "$3,421,198",
                  "Average Cost Per Person": "8.87 cents",
                  "_deepnote_index_column": 9
                },
                {
                  "Census Year": "1880",
                  "Total Population": "50155783",
                  "Census Cost": "$5,790,678",
                  "Average Cost Per Person": "11.54 cents",
                  "_deepnote_index_column": 10
                },
                {
                  "Census Year": "1890",
                  "Total Population": "62979766",
                  "Census Cost": "$11,547,127",
                  "Average Cost Per Person": "18.33 cents",
                  "_deepnote_index_column": 11
                },
                {
                  "Census Year": "1900",
                  "Total Population": "76303387",
                  "Census Cost": "$11,854,000",
                  "Average Cost Per Person": "15.54 cents",
                  "_deepnote_index_column": 12
                },
                {
                  "Census Year": "1910",
                  "Total Population": "91972266",
                  "Census Cost": "$15,968,000",
                  "Average Cost Per Person": "17.07 cents",
                  "_deepnote_index_column": 13
                },
                {
                  "Census Year": "1920",
                  "Total Population": "105710620",
                  "Census Cost": "$25,117,000",
                  "Average Cost Per Person": "23.76 cents",
                  "_deepnote_index_column": 14
                },
                {
                  "Census Year": "1930",
                  "Total Population": "122775046",
                  "Census Cost": "$40,156,000",
                  "Average Cost Per Person": "32.71 cents",
                  "_deepnote_index_column": 15
                },
                {
                  "Census Year": "1940",
                  "Total Population": "131669275",
                  "Census Cost": "$67,527,000",
                  "Average Cost Per Person": "51.29 cents",
                  "_deepnote_index_column": 16
                },
                {
                  "Census Year": "1950",
                  "Total Population": "151325798",
                  "Census Cost": "$91,462,000",
                  "Average Cost Per Person": "60.44 cents",
                  "_deepnote_index_column": 17
                },
                {
                  "Census Year": "1960",
                  "Total Population": "179323175",
                  "Census Cost": "$127,934,000",
                  "Average Cost Per Person": "71.34 cents",
                  "_deepnote_index_column": 18
                },
                {
                  "Census Year": "1970",
                  "Total Population": "203302031",
                  "Census Cost": "$247,653,000",
                  "Average Cost Per Person": "$1.22",
                  "_deepnote_index_column": 19
                },
                {
                  "Census Year": "1980",
                  "Total Population": "226542199",
                  "Census Cost": "$1,078,488,000",
                  "Average Cost Per Person": "$4.76",
                  "_deepnote_index_column": 20
                },
                {
                  "Census Year": "1990",
                  "Total Population": "248718301",
                  "Census Cost": "$2,492,830,000",
                  "Average Cost Per Person": "$10.02",
                  "_deepnote_index_column": 21
                },
                {
                  "Census Year": "2000",
                  "Total Population": "281421906",
                  "Census Cost": "$4.5 Billion",
                  "Average Cost Per Person": "$15.99",
                  "_deepnote_index_column": 22
                },
                {
                  "Census Year": "2010*",
                  "Total Population": "308745538",
                  "Census Cost": "$13 Billion",
                  "Average Cost Per Person": "$42.11",
                  "_deepnote_index_column": 23
                }
              ],
              "rows_bottom": null
            },
            "text/plain": "0  Census Year Total Population     Census Cost Average Cost Per Person\n1         1790          3929214         $44,377              1.13 cents\n2         1800          5308483         $66,109              1.24 cents\n3         1810          7239881        $178,445              2.46 cents\n4         1820          9633822        $208,526              2.16 cents\n5         1830         12866020        $378,545              2.94 cents\n6         1840         17069458        $833,371              4.88 cents\n7         1850         23191876      $1,423,351              6.14 cents\n8         1860         31443321      $1,969,377              6.26 cents\n9         1870         38558371      $3,421,198              8.87 cents\n10        1880         50155783      $5,790,678             11.54 cents\n11        1890         62979766     $11,547,127             18.33 cents\n12        1900         76303387     $11,854,000             15.54 cents\n13        1910         91972266     $15,968,000             17.07 cents\n14        1920        105710620     $25,117,000             23.76 cents\n15        1930        122775046     $40,156,000             32.71 cents\n16        1940        131669275     $67,527,000             51.29 cents\n17        1950        151325798     $91,462,000             60.44 cents\n18        1960        179323175    $127,934,000             71.34 cents\n19        1970        203302031    $247,653,000                   $1.22\n20        1980        226542199  $1,078,488,000                   $4.76\n21        1990        248718301  $2,492,830,000                  $10.02\n22        2000        281421906    $4.5 Billion                  $15.99\n23       2010*        308745538     $13 Billion                  $42.11",
            "text/html": "<div>\n<style scoped>\n    .dataframe tbody tr th:only-of-type {\n        vertical-align: middle;\n    }\n\n    .dataframe tbody tr th {\n        vertical-align: top;\n    }\n\n    .dataframe thead th {\n        text-align: right;\n    }\n</style>\n<table border=\"1\" class=\"dataframe\">\n  <thead>\n    <tr style=\"text-align: right;\">\n      <th></th>\n      <th>Census Year</th>\n      <th>Total Population</th>\n      <th>Census Cost</th>\n      <th>Average Cost Per Person</th>\n    </tr>\n  </thead>\n  <tbody>\n    <tr>\n      <th>1</th>\n      <td>1790</td>\n      <td>3929214</td>\n      <td>$44,377</td>\n      <td>1.13 cents</td>\n    </tr>\n    <tr>\n      <th>2</th>\n      <td>1800</td>\n      <td>5308483</td>\n      <td>$66,109</td>\n      <td>1.24 cents</td>\n    </tr>\n    <tr>\n      <th>3</th>\n      <td>1810</td>\n      <td>7239881</td>\n      <td>$178,445</td>\n      <td>2.46 cents</td>\n    </tr>\n    <tr>\n      <th>4</th>\n      <td>1820</td>\n      <td>9633822</td>\n      <td>$208,526</td>\n      <td>2.16 cents</td>\n    </tr>\n    <tr>\n      <th>5</th>\n      <td>1830</td>\n      <td>12866020</td>\n      <td>$378,545</td>\n      <td>2.94 cents</td>\n    </tr>\n    <tr>\n      <th>6</th>\n      <td>1840</td>\n      <td>17069458</td>\n      <td>$833,371</td>\n      <td>4.88 cents</td>\n    </tr>\n    <tr>\n      <th>7</th>\n      <td>1850</td>\n      <td>23191876</td>\n      <td>$1,423,351</td>\n      <td>6.14 cents</td>\n    </tr>\n    <tr>\n      <th>8</th>\n      <td>1860</td>\n      <td>31443321</td>\n      <td>$1,969,377</td>\n      <td>6.26 cents</td>\n    </tr>\n    <tr>\n      <th>9</th>\n      <td>1870</td>\n      <td>38558371</td>\n      <td>$3,421,198</td>\n      <td>8.87 cents</td>\n    </tr>\n    <tr>\n      <th>10</th>\n      <td>1880</td>\n      <td>50155783</td>\n      <td>$5,790,678</td>\n      <td>11.54 cents</td>\n    </tr>\n    <tr>\n      <th>11</th>\n      <td>1890</td>\n      <td>62979766</td>\n      <td>$11,547,127</td>\n      <td>18.33 cents</td>\n    </tr>\n    <tr>\n      <th>12</th>\n      <td>1900</td>\n      <td>76303387</td>\n      <td>$11,854,000</td>\n      <td>15.54 cents</td>\n    </tr>\n    <tr>\n      <th>13</th>\n      <td>1910</td>\n      <td>91972266</td>\n      <td>$15,968,000</td>\n      <td>17.07 cents</td>\n    </tr>\n    <tr>\n      <th>14</th>\n      <td>1920</td>\n      <td>105710620</td>\n      <td>$25,117,000</td>\n      <td>23.76 cents</td>\n    </tr>\n    <tr>\n      <th>15</th>\n      <td>1930</td>\n      <td>122775046</td>\n      <td>$40,156,000</td>\n      <td>32.71 cents</td>\n    </tr>\n    <tr>\n      <th>16</th>\n      <td>1940</td>\n      <td>131669275</td>\n      <td>$67,527,000</td>\n      <td>51.29 cents</td>\n    </tr>\n    <tr>\n      <th>17</th>\n      <td>1950</td>\n      <td>151325798</td>\n      <td>$91,462,000</td>\n      <td>60.44 cents</td>\n    </tr>\n    <tr>\n      <th>18</th>\n      <td>1960</td>\n      <td>179323175</td>\n      <td>$127,934,000</td>\n      <td>71.34 cents</td>\n    </tr>\n    <tr>\n      <th>19</th>\n      <td>1970</td>\n      <td>203302031</td>\n      <td>$247,653,000</td>\n      <td>$1.22</td>\n    </tr>\n    <tr>\n      <th>20</th>\n      <td>1980</td>\n      <td>226542199</td>\n      <td>$1,078,488,000</td>\n      <td>$4.76</td>\n    </tr>\n    <tr>\n      <th>21</th>\n      <td>1990</td>\n      <td>248718301</td>\n      <td>$2,492,830,000</td>\n      <td>$10.02</td>\n    </tr>\n    <tr>\n      <th>22</th>\n      <td>2000</td>\n      <td>281421906</td>\n      <td>$4.5 Billion</td>\n      <td>$15.99</td>\n    </tr>\n    <tr>\n      <th>23</th>\n      <td>2010*</td>\n      <td>308745538</td>\n      <td>$13 Billion</td>\n      <td>$42.11</td>\n    </tr>\n  </tbody>\n</table>\n</div>"
          },
          "metadata": {}
        }
      ]
    },
    {
      "cell_type": "code",
      "metadata": {
        "cell_id": "00034-024055e6-8dc4-4ae6-b3ec-ee3f778b27d6",
        "deepnote_to_be_reexecuted": false,
        "source_hash": "7c213535",
        "execution_millis": 1,
        "execution_start": 1615876520246,
        "deepnote_cell_type": "code"
      },
      "source": "real_df2=real_df # I just name it diferrently to illustrate some of the problem with the year",
      "execution_count": 25,
      "outputs": []
    },
    {
      "cell_type": "code",
      "metadata": {
        "deepnote_to_be_reexecuted": false,
        "execution_millis": 14,
        "source_hash": "43e0d5fa",
        "tags": [],
        "cell_id": "00035-d8f172fc-f665-42aa-929d-3bbd888f89ef",
        "execution_start": 1615876520247,
        "deepnote_cell_type": "code"
      },
      "source": "data=real_df2['Length']= real_df2['Census Year'].str.len() #calculating if element number is the same in first column\ndata",
      "execution_count": 26,
      "outputs": [
        {
          "output_type": "execute_result",
          "execution_count": 26,
          "data": {
            "text/plain": "1     4\n2     4\n3     4\n4     4\n5     4\n6     4\n7     4\n8     4\n9     4\n10    4\n11    4\n12    4\n13    4\n14    4\n15    4\n16    4\n17    4\n18    4\n19    4\n20    4\n21    4\n22    4\n23    5\nName: Census Year, dtype: int64"
          },
          "metadata": {}
        }
      ]
    },
    {
      "cell_type": "markdown",
      "source": "This show that the first column have a different lenght and we know it is due to the *. Similarly if we run Census Cost and Average Cost Per Person will show that have different lenght due to the addition of Bilion and cents respectively. ",
      "metadata": {
        "tags": [],
        "cell_id": "00036-fdab8df6-b5d3-4be7-81d3-80ff824264aa",
        "deepnote_cell_type": "markdown"
      }
    },
    {
      "cell_type": "markdown",
      "source": "## Step 7: Create a function that help us remove the * ",
      "metadata": {
        "tags": [],
        "cell_id": "00037-83c639e1-ad0a-45a9-aab1-08220b236825",
        "deepnote_cell_type": "markdown"
      }
    },
    {
      "cell_type": "code",
      "metadata": {
        "deepnote_to_be_reexecuted": false,
        "execution_millis": 1,
        "source_hash": "71b4313f",
        "tags": [],
        "cell_id": "00038-e0620594-b808-4d8c-a221-eaef4866c8ab",
        "execution_start": 1615876520248,
        "deepnote_cell_type": "code"
      },
      "source": "real_df=real_df.drop(columns=['Length']) #deleting the column length",
      "execution_count": 27,
      "outputs": []
    },
    {
      "cell_type": "code",
      "metadata": {
        "cell_id": "00039-e690a8ae-b2ca-4e98-8edb-b89587ae66d7",
        "deepnote_to_be_reexecuted": false,
        "source_hash": "2ad00645",
        "execution_millis": 11,
        "execution_start": 1615876520250,
        "deepnote_cell_type": "code"
      },
      "source": "import re\ndef cleanse_year(x):\n    match = re.sub(r'\\*',\"\",x)# all symbols that means something should be preceed with backlash\n    return match # it will sustitute the * for empty space\n\nreal_df['Census Year'] = real_df['Census Year'].apply(cleanse_year) #apply the function\n\nprint(real_df) #test",
      "execution_count": 28,
      "outputs": [
        {
          "name": "stdout",
          "text": "0  Census Year Total Population     Census Cost Average Cost Per Person\n1         1790          3929214         $44,377              1.13 cents\n2         1800          5308483         $66,109              1.24 cents\n3         1810          7239881        $178,445              2.46 cents\n4         1820          9633822        $208,526              2.16 cents\n5         1830         12866020        $378,545              2.94 cents\n6         1840         17069458        $833,371              4.88 cents\n7         1850         23191876      $1,423,351              6.14 cents\n8         1860         31443321      $1,969,377              6.26 cents\n9         1870         38558371      $3,421,198              8.87 cents\n10        1880         50155783      $5,790,678             11.54 cents\n11        1890         62979766     $11,547,127             18.33 cents\n12        1900         76303387     $11,854,000             15.54 cents\n13        1910         91972266     $15,968,000             17.07 cents\n14        1920        105710620     $25,117,000             23.76 cents\n15        1930        122775046     $40,156,000             32.71 cents\n16        1940        131669275     $67,527,000             51.29 cents\n17        1950        151325798     $91,462,000             60.44 cents\n18        1960        179323175    $127,934,000             71.34 cents\n19        1970        203302031    $247,653,000                   $1.22\n20        1980        226542199  $1,078,488,000                   $4.76\n21        1990        248718301  $2,492,830,000                  $10.02\n22        2000        281421906    $4.5 Billion                  $15.99\n23        2010        308745538     $13 Billion                  $42.11\n",
          "output_type": "stream"
        }
      ]
    },
    {
      "cell_type": "markdown",
      "source": "Now I don't have the * but we still have things that needs to be change like Billion, $, cents and making sure that the data is in the column is in the same unit.",
      "metadata": {
        "tags": [],
        "cell_id": "00040-946696e4-60d0-45d5-a3a2-eb62c0802836",
        "deepnote_cell_type": "markdown"
      }
    },
    {
      "cell_type": "markdown",
      "source": "## Step 8: Create a function that help clean Census Cost column",
      "metadata": {
        "tags": [],
        "cell_id": "00041-4d566d76-7c5c-40ff-861e-8d3721120554",
        "deepnote_cell_type": "markdown"
      }
    },
    {
      "cell_type": "code",
      "metadata": {
        "cell_id": "00040-fe7d6b14-0096-434c-848e-c40b92bfa7f2",
        "deepnote_to_be_reexecuted": false,
        "source_hash": "691e3fb8",
        "execution_millis": 0,
        "execution_start": 1615876520253,
        "deepnote_cell_type": "code"
      },
      "source": "def cleanse_cost(init_cost):\n    fin_cost = init_cost.lstrip(\"$\").replace(\",\",\"\") #lstrip will remove the element at the begining will replace will get rid of the commas\n    if  init_cost.find(\"4.5\") != -1:          \n        fin_cost = \"4500000000\" # This part will find the elem first and then sustitute the element for the one assigned\n    elif init_cost.find(\"13\") != -1:     \n        fin_cost = \"13000000000\" # similarly than before\n    return fin_cost",
      "execution_count": 29,
      "outputs": []
    },
    {
      "cell_type": "code",
      "metadata": {
        "deepnote_to_be_reexecuted": false,
        "execution_millis": 56,
        "source_hash": "56b73643",
        "tags": [],
        "cell_id": "00041-cd2a4428-60f5-405c-83a3-b7ef32daecaf",
        "execution_start": 1615876520256,
        "deepnote_cell_type": "code"
      },
      "source": "real_df[\"Census Cost\"] = real_df['Census Cost'].apply(cleanse_cost) #apply the function\nreal_df #test function",
      "execution_count": 30,
      "outputs": [
        {
          "output_type": "execute_result",
          "execution_count": 30,
          "data": {
            "application/vnd.deepnote.dataframe.v2+json": {
              "row_count": 23,
              "column_count": 4,
              "columns": [
                {
                  "name": "Census Year",
                  "dtype": "object",
                  "stats": {
                    "unique_count": 23,
                    "nan_count": 0,
                    "categories": [
                      {
                        "name": "1790",
                        "count": 1
                      },
                      {
                        "name": "1800",
                        "count": 1
                      },
                      {
                        "name": "21 others",
                        "count": 21
                      }
                    ]
                  }
                },
                {
                  "name": "Total Population",
                  "dtype": "object",
                  "stats": {
                    "unique_count": 23,
                    "nan_count": 0,
                    "categories": [
                      {
                        "name": "3929214",
                        "count": 1
                      },
                      {
                        "name": "5308483",
                        "count": 1
                      },
                      {
                        "name": "21 others",
                        "count": 21
                      }
                    ]
                  }
                },
                {
                  "name": "Census Cost",
                  "dtype": "object",
                  "stats": {
                    "unique_count": 23,
                    "nan_count": 0,
                    "categories": [
                      {
                        "name": "44377",
                        "count": 1
                      },
                      {
                        "name": "66109",
                        "count": 1
                      },
                      {
                        "name": "21 others",
                        "count": 21
                      }
                    ]
                  }
                },
                {
                  "name": "Average Cost Per Person",
                  "dtype": "object",
                  "stats": {
                    "unique_count": 23,
                    "nan_count": 0,
                    "categories": [
                      {
                        "name": "1.13 cents",
                        "count": 1
                      },
                      {
                        "name": "1.24 cents",
                        "count": 1
                      },
                      {
                        "name": "21 others",
                        "count": 21
                      }
                    ]
                  }
                },
                {
                  "name": "_deepnote_index_column",
                  "dtype": "int64"
                }
              ],
              "rows_top": [
                {
                  "Census Year": "1790",
                  "Total Population": "3929214",
                  "Census Cost": "44377",
                  "Average Cost Per Person": "1.13 cents",
                  "_deepnote_index_column": 1
                },
                {
                  "Census Year": "1800",
                  "Total Population": "5308483",
                  "Census Cost": "66109",
                  "Average Cost Per Person": "1.24 cents",
                  "_deepnote_index_column": 2
                },
                {
                  "Census Year": "1810",
                  "Total Population": "7239881",
                  "Census Cost": "178445",
                  "Average Cost Per Person": "2.46 cents",
                  "_deepnote_index_column": 3
                },
                {
                  "Census Year": "1820",
                  "Total Population": "9633822",
                  "Census Cost": "208526",
                  "Average Cost Per Person": "2.16 cents",
                  "_deepnote_index_column": 4
                },
                {
                  "Census Year": "1830",
                  "Total Population": "12866020",
                  "Census Cost": "378545",
                  "Average Cost Per Person": "2.94 cents",
                  "_deepnote_index_column": 5
                },
                {
                  "Census Year": "1840",
                  "Total Population": "17069458",
                  "Census Cost": "833371",
                  "Average Cost Per Person": "4.88 cents",
                  "_deepnote_index_column": 6
                },
                {
                  "Census Year": "1850",
                  "Total Population": "23191876",
                  "Census Cost": "1423351",
                  "Average Cost Per Person": "6.14 cents",
                  "_deepnote_index_column": 7
                },
                {
                  "Census Year": "1860",
                  "Total Population": "31443321",
                  "Census Cost": "1969377",
                  "Average Cost Per Person": "6.26 cents",
                  "_deepnote_index_column": 8
                },
                {
                  "Census Year": "1870",
                  "Total Population": "38558371",
                  "Census Cost": "3421198",
                  "Average Cost Per Person": "8.87 cents",
                  "_deepnote_index_column": 9
                },
                {
                  "Census Year": "1880",
                  "Total Population": "50155783",
                  "Census Cost": "5790678",
                  "Average Cost Per Person": "11.54 cents",
                  "_deepnote_index_column": 10
                },
                {
                  "Census Year": "1890",
                  "Total Population": "62979766",
                  "Census Cost": "11547127",
                  "Average Cost Per Person": "18.33 cents",
                  "_deepnote_index_column": 11
                },
                {
                  "Census Year": "1900",
                  "Total Population": "76303387",
                  "Census Cost": "11854000",
                  "Average Cost Per Person": "15.54 cents",
                  "_deepnote_index_column": 12
                },
                {
                  "Census Year": "1910",
                  "Total Population": "91972266",
                  "Census Cost": "15968000",
                  "Average Cost Per Person": "17.07 cents",
                  "_deepnote_index_column": 13
                },
                {
                  "Census Year": "1920",
                  "Total Population": "105710620",
                  "Census Cost": "25117000",
                  "Average Cost Per Person": "23.76 cents",
                  "_deepnote_index_column": 14
                },
                {
                  "Census Year": "1930",
                  "Total Population": "122775046",
                  "Census Cost": "40156000",
                  "Average Cost Per Person": "32.71 cents",
                  "_deepnote_index_column": 15
                },
                {
                  "Census Year": "1940",
                  "Total Population": "131669275",
                  "Census Cost": "67527000",
                  "Average Cost Per Person": "51.29 cents",
                  "_deepnote_index_column": 16
                },
                {
                  "Census Year": "1950",
                  "Total Population": "151325798",
                  "Census Cost": "91462000",
                  "Average Cost Per Person": "60.44 cents",
                  "_deepnote_index_column": 17
                },
                {
                  "Census Year": "1960",
                  "Total Population": "179323175",
                  "Census Cost": "127934000",
                  "Average Cost Per Person": "71.34 cents",
                  "_deepnote_index_column": 18
                },
                {
                  "Census Year": "1970",
                  "Total Population": "203302031",
                  "Census Cost": "247653000",
                  "Average Cost Per Person": "$1.22",
                  "_deepnote_index_column": 19
                },
                {
                  "Census Year": "1980",
                  "Total Population": "226542199",
                  "Census Cost": "1078488000",
                  "Average Cost Per Person": "$4.76",
                  "_deepnote_index_column": 20
                },
                {
                  "Census Year": "1990",
                  "Total Population": "248718301",
                  "Census Cost": "2492830000",
                  "Average Cost Per Person": "$10.02",
                  "_deepnote_index_column": 21
                },
                {
                  "Census Year": "2000",
                  "Total Population": "281421906",
                  "Census Cost": "4500000000",
                  "Average Cost Per Person": "$15.99",
                  "_deepnote_index_column": 22
                },
                {
                  "Census Year": "2010",
                  "Total Population": "308745538",
                  "Census Cost": "13000000000",
                  "Average Cost Per Person": "$42.11",
                  "_deepnote_index_column": 23
                }
              ],
              "rows_bottom": null
            },
            "text/plain": "0  Census Year Total Population  Census Cost Average Cost Per Person\n1         1790          3929214        44377              1.13 cents\n2         1800          5308483        66109              1.24 cents\n3         1810          7239881       178445              2.46 cents\n4         1820          9633822       208526              2.16 cents\n5         1830         12866020       378545              2.94 cents\n6         1840         17069458       833371              4.88 cents\n7         1850         23191876      1423351              6.14 cents\n8         1860         31443321      1969377              6.26 cents\n9         1870         38558371      3421198              8.87 cents\n10        1880         50155783      5790678             11.54 cents\n11        1890         62979766     11547127             18.33 cents\n12        1900         76303387     11854000             15.54 cents\n13        1910         91972266     15968000             17.07 cents\n14        1920        105710620     25117000             23.76 cents\n15        1930        122775046     40156000             32.71 cents\n16        1940        131669275     67527000             51.29 cents\n17        1950        151325798     91462000             60.44 cents\n18        1960        179323175    127934000             71.34 cents\n19        1970        203302031    247653000                   $1.22\n20        1980        226542199   1078488000                   $4.76\n21        1990        248718301   2492830000                  $10.02\n22        2000        281421906   4500000000                  $15.99\n23        2010        308745538  13000000000                  $42.11",
            "text/html": "<div>\n<style scoped>\n    .dataframe tbody tr th:only-of-type {\n        vertical-align: middle;\n    }\n\n    .dataframe tbody tr th {\n        vertical-align: top;\n    }\n\n    .dataframe thead th {\n        text-align: right;\n    }\n</style>\n<table border=\"1\" class=\"dataframe\">\n  <thead>\n    <tr style=\"text-align: right;\">\n      <th></th>\n      <th>Census Year</th>\n      <th>Total Population</th>\n      <th>Census Cost</th>\n      <th>Average Cost Per Person</th>\n    </tr>\n  </thead>\n  <tbody>\n    <tr>\n      <th>1</th>\n      <td>1790</td>\n      <td>3929214</td>\n      <td>44377</td>\n      <td>1.13 cents</td>\n    </tr>\n    <tr>\n      <th>2</th>\n      <td>1800</td>\n      <td>5308483</td>\n      <td>66109</td>\n      <td>1.24 cents</td>\n    </tr>\n    <tr>\n      <th>3</th>\n      <td>1810</td>\n      <td>7239881</td>\n      <td>178445</td>\n      <td>2.46 cents</td>\n    </tr>\n    <tr>\n      <th>4</th>\n      <td>1820</td>\n      <td>9633822</td>\n      <td>208526</td>\n      <td>2.16 cents</td>\n    </tr>\n    <tr>\n      <th>5</th>\n      <td>1830</td>\n      <td>12866020</td>\n      <td>378545</td>\n      <td>2.94 cents</td>\n    </tr>\n    <tr>\n      <th>6</th>\n      <td>1840</td>\n      <td>17069458</td>\n      <td>833371</td>\n      <td>4.88 cents</td>\n    </tr>\n    <tr>\n      <th>7</th>\n      <td>1850</td>\n      <td>23191876</td>\n      <td>1423351</td>\n      <td>6.14 cents</td>\n    </tr>\n    <tr>\n      <th>8</th>\n      <td>1860</td>\n      <td>31443321</td>\n      <td>1969377</td>\n      <td>6.26 cents</td>\n    </tr>\n    <tr>\n      <th>9</th>\n      <td>1870</td>\n      <td>38558371</td>\n      <td>3421198</td>\n      <td>8.87 cents</td>\n    </tr>\n    <tr>\n      <th>10</th>\n      <td>1880</td>\n      <td>50155783</td>\n      <td>5790678</td>\n      <td>11.54 cents</td>\n    </tr>\n    <tr>\n      <th>11</th>\n      <td>1890</td>\n      <td>62979766</td>\n      <td>11547127</td>\n      <td>18.33 cents</td>\n    </tr>\n    <tr>\n      <th>12</th>\n      <td>1900</td>\n      <td>76303387</td>\n      <td>11854000</td>\n      <td>15.54 cents</td>\n    </tr>\n    <tr>\n      <th>13</th>\n      <td>1910</td>\n      <td>91972266</td>\n      <td>15968000</td>\n      <td>17.07 cents</td>\n    </tr>\n    <tr>\n      <th>14</th>\n      <td>1920</td>\n      <td>105710620</td>\n      <td>25117000</td>\n      <td>23.76 cents</td>\n    </tr>\n    <tr>\n      <th>15</th>\n      <td>1930</td>\n      <td>122775046</td>\n      <td>40156000</td>\n      <td>32.71 cents</td>\n    </tr>\n    <tr>\n      <th>16</th>\n      <td>1940</td>\n      <td>131669275</td>\n      <td>67527000</td>\n      <td>51.29 cents</td>\n    </tr>\n    <tr>\n      <th>17</th>\n      <td>1950</td>\n      <td>151325798</td>\n      <td>91462000</td>\n      <td>60.44 cents</td>\n    </tr>\n    <tr>\n      <th>18</th>\n      <td>1960</td>\n      <td>179323175</td>\n      <td>127934000</td>\n      <td>71.34 cents</td>\n    </tr>\n    <tr>\n      <th>19</th>\n      <td>1970</td>\n      <td>203302031</td>\n      <td>247653000</td>\n      <td>$1.22</td>\n    </tr>\n    <tr>\n      <th>20</th>\n      <td>1980</td>\n      <td>226542199</td>\n      <td>1078488000</td>\n      <td>$4.76</td>\n    </tr>\n    <tr>\n      <th>21</th>\n      <td>1990</td>\n      <td>248718301</td>\n      <td>2492830000</td>\n      <td>$10.02</td>\n    </tr>\n    <tr>\n      <th>22</th>\n      <td>2000</td>\n      <td>281421906</td>\n      <td>4500000000</td>\n      <td>$15.99</td>\n    </tr>\n    <tr>\n      <th>23</th>\n      <td>2010</td>\n      <td>308745538</td>\n      <td>13000000000</td>\n      <td>$42.11</td>\n    </tr>\n  </tbody>\n</table>\n</div>"
          },
          "metadata": {}
        }
      ]
    },
    {
      "cell_type": "markdown",
      "source": "## Step 9: Create a function that help clean Average Cost Per Person column",
      "metadata": {
        "tags": [],
        "cell_id": "00044-8a977278-5c35-4186-942f-1ec61993204f",
        "deepnote_cell_type": "markdown"
      }
    },
    {
      "cell_type": "code",
      "metadata": {
        "tags": [],
        "cell_id": "00042-390bca26-3f5a-4e16-b88c-0408a0a3e6c4",
        "deepnote_to_be_reexecuted": false,
        "source_hash": "29ae0fe2",
        "execution_millis": 0,
        "execution_start": 1615876520338,
        "deepnote_cell_type": "code"
      },
      "source": "import re\ndef cleanse_average(raw_average):\n    average=raw_average\n    if average.find('cents') != -1:\n        average=re.sub(r\"\\ cents\", \"\", average)# this code help removed the things at the end of the number with space\n        return average \n    elif average.find('$') != -1:\n        average = average.lstrip(\"$\") # take out the dollar sign at the begining\n        return average # it is important to add retrun twice because if not only execute the last part",
      "execution_count": 31,
      "outputs": []
    },
    {
      "cell_type": "code",
      "metadata": {
        "cell_id": "00043-bda29438-8f79-4958-ac26-a74f6f12c938",
        "deepnote_to_be_reexecuted": false,
        "source_hash": "9b1c2ae3",
        "execution_millis": 7,
        "execution_start": 1615876520338,
        "deepnote_cell_type": "code"
      },
      "source": "real_df[\"Average Cost Per Person\"] = real_df['Average Cost Per Person'].apply(cleanse_average) # apply function\nreal_df #test function",
      "execution_count": 32,
      "outputs": [
        {
          "output_type": "execute_result",
          "execution_count": 32,
          "data": {
            "application/vnd.deepnote.dataframe.v2+json": {
              "row_count": 23,
              "column_count": 4,
              "columns": [
                {
                  "name": "Census Year",
                  "dtype": "object",
                  "stats": {
                    "unique_count": 23,
                    "nan_count": 0,
                    "categories": [
                      {
                        "name": "1790",
                        "count": 1
                      },
                      {
                        "name": "1800",
                        "count": 1
                      },
                      {
                        "name": "21 others",
                        "count": 21
                      }
                    ]
                  }
                },
                {
                  "name": "Total Population",
                  "dtype": "object",
                  "stats": {
                    "unique_count": 23,
                    "nan_count": 0,
                    "categories": [
                      {
                        "name": "3929214",
                        "count": 1
                      },
                      {
                        "name": "5308483",
                        "count": 1
                      },
                      {
                        "name": "21 others",
                        "count": 21
                      }
                    ]
                  }
                },
                {
                  "name": "Census Cost",
                  "dtype": "object",
                  "stats": {
                    "unique_count": 23,
                    "nan_count": 0,
                    "categories": [
                      {
                        "name": "44377",
                        "count": 1
                      },
                      {
                        "name": "66109",
                        "count": 1
                      },
                      {
                        "name": "21 others",
                        "count": 21
                      }
                    ]
                  }
                },
                {
                  "name": "Average Cost Per Person",
                  "dtype": "object",
                  "stats": {
                    "unique_count": 23,
                    "nan_count": 0,
                    "categories": [
                      {
                        "name": "1.13",
                        "count": 1
                      },
                      {
                        "name": "1.24",
                        "count": 1
                      },
                      {
                        "name": "21 others",
                        "count": 21
                      }
                    ]
                  }
                },
                {
                  "name": "_deepnote_index_column",
                  "dtype": "int64"
                }
              ],
              "rows_top": [
                {
                  "Census Year": "1790",
                  "Total Population": "3929214",
                  "Census Cost": "44377",
                  "Average Cost Per Person": "1.13",
                  "_deepnote_index_column": 1
                },
                {
                  "Census Year": "1800",
                  "Total Population": "5308483",
                  "Census Cost": "66109",
                  "Average Cost Per Person": "1.24",
                  "_deepnote_index_column": 2
                },
                {
                  "Census Year": "1810",
                  "Total Population": "7239881",
                  "Census Cost": "178445",
                  "Average Cost Per Person": "2.46",
                  "_deepnote_index_column": 3
                },
                {
                  "Census Year": "1820",
                  "Total Population": "9633822",
                  "Census Cost": "208526",
                  "Average Cost Per Person": "2.16",
                  "_deepnote_index_column": 4
                },
                {
                  "Census Year": "1830",
                  "Total Population": "12866020",
                  "Census Cost": "378545",
                  "Average Cost Per Person": "2.94",
                  "_deepnote_index_column": 5
                },
                {
                  "Census Year": "1840",
                  "Total Population": "17069458",
                  "Census Cost": "833371",
                  "Average Cost Per Person": "4.88",
                  "_deepnote_index_column": 6
                },
                {
                  "Census Year": "1850",
                  "Total Population": "23191876",
                  "Census Cost": "1423351",
                  "Average Cost Per Person": "6.14",
                  "_deepnote_index_column": 7
                },
                {
                  "Census Year": "1860",
                  "Total Population": "31443321",
                  "Census Cost": "1969377",
                  "Average Cost Per Person": "6.26",
                  "_deepnote_index_column": 8
                },
                {
                  "Census Year": "1870",
                  "Total Population": "38558371",
                  "Census Cost": "3421198",
                  "Average Cost Per Person": "8.87",
                  "_deepnote_index_column": 9
                },
                {
                  "Census Year": "1880",
                  "Total Population": "50155783",
                  "Census Cost": "5790678",
                  "Average Cost Per Person": "11.54",
                  "_deepnote_index_column": 10
                },
                {
                  "Census Year": "1890",
                  "Total Population": "62979766",
                  "Census Cost": "11547127",
                  "Average Cost Per Person": "18.33",
                  "_deepnote_index_column": 11
                },
                {
                  "Census Year": "1900",
                  "Total Population": "76303387",
                  "Census Cost": "11854000",
                  "Average Cost Per Person": "15.54",
                  "_deepnote_index_column": 12
                },
                {
                  "Census Year": "1910",
                  "Total Population": "91972266",
                  "Census Cost": "15968000",
                  "Average Cost Per Person": "17.07",
                  "_deepnote_index_column": 13
                },
                {
                  "Census Year": "1920",
                  "Total Population": "105710620",
                  "Census Cost": "25117000",
                  "Average Cost Per Person": "23.76",
                  "_deepnote_index_column": 14
                },
                {
                  "Census Year": "1930",
                  "Total Population": "122775046",
                  "Census Cost": "40156000",
                  "Average Cost Per Person": "32.71",
                  "_deepnote_index_column": 15
                },
                {
                  "Census Year": "1940",
                  "Total Population": "131669275",
                  "Census Cost": "67527000",
                  "Average Cost Per Person": "51.29",
                  "_deepnote_index_column": 16
                },
                {
                  "Census Year": "1950",
                  "Total Population": "151325798",
                  "Census Cost": "91462000",
                  "Average Cost Per Person": "60.44",
                  "_deepnote_index_column": 17
                },
                {
                  "Census Year": "1960",
                  "Total Population": "179323175",
                  "Census Cost": "127934000",
                  "Average Cost Per Person": "71.34",
                  "_deepnote_index_column": 18
                },
                {
                  "Census Year": "1970",
                  "Total Population": "203302031",
                  "Census Cost": "247653000",
                  "Average Cost Per Person": "1.22",
                  "_deepnote_index_column": 19
                },
                {
                  "Census Year": "1980",
                  "Total Population": "226542199",
                  "Census Cost": "1078488000",
                  "Average Cost Per Person": "4.76",
                  "_deepnote_index_column": 20
                },
                {
                  "Census Year": "1990",
                  "Total Population": "248718301",
                  "Census Cost": "2492830000",
                  "Average Cost Per Person": "10.02",
                  "_deepnote_index_column": 21
                },
                {
                  "Census Year": "2000",
                  "Total Population": "281421906",
                  "Census Cost": "4500000000",
                  "Average Cost Per Person": "15.99",
                  "_deepnote_index_column": 22
                },
                {
                  "Census Year": "2010",
                  "Total Population": "308745538",
                  "Census Cost": "13000000000",
                  "Average Cost Per Person": "42.11",
                  "_deepnote_index_column": 23
                }
              ],
              "rows_bottom": null
            },
            "text/plain": "0  Census Year Total Population  Census Cost Average Cost Per Person\n1         1790          3929214        44377                    1.13\n2         1800          5308483        66109                    1.24\n3         1810          7239881       178445                    2.46\n4         1820          9633822       208526                    2.16\n5         1830         12866020       378545                    2.94\n6         1840         17069458       833371                    4.88\n7         1850         23191876      1423351                    6.14\n8         1860         31443321      1969377                    6.26\n9         1870         38558371      3421198                    8.87\n10        1880         50155783      5790678                   11.54\n11        1890         62979766     11547127                   18.33\n12        1900         76303387     11854000                   15.54\n13        1910         91972266     15968000                   17.07\n14        1920        105710620     25117000                   23.76\n15        1930        122775046     40156000                   32.71\n16        1940        131669275     67527000                   51.29\n17        1950        151325798     91462000                   60.44\n18        1960        179323175    127934000                   71.34\n19        1970        203302031    247653000                    1.22\n20        1980        226542199   1078488000                    4.76\n21        1990        248718301   2492830000                   10.02\n22        2000        281421906   4500000000                   15.99\n23        2010        308745538  13000000000                   42.11",
            "text/html": "<div>\n<style scoped>\n    .dataframe tbody tr th:only-of-type {\n        vertical-align: middle;\n    }\n\n    .dataframe tbody tr th {\n        vertical-align: top;\n    }\n\n    .dataframe thead th {\n        text-align: right;\n    }\n</style>\n<table border=\"1\" class=\"dataframe\">\n  <thead>\n    <tr style=\"text-align: right;\">\n      <th></th>\n      <th>Census Year</th>\n      <th>Total Population</th>\n      <th>Census Cost</th>\n      <th>Average Cost Per Person</th>\n    </tr>\n  </thead>\n  <tbody>\n    <tr>\n      <th>1</th>\n      <td>1790</td>\n      <td>3929214</td>\n      <td>44377</td>\n      <td>1.13</td>\n    </tr>\n    <tr>\n      <th>2</th>\n      <td>1800</td>\n      <td>5308483</td>\n      <td>66109</td>\n      <td>1.24</td>\n    </tr>\n    <tr>\n      <th>3</th>\n      <td>1810</td>\n      <td>7239881</td>\n      <td>178445</td>\n      <td>2.46</td>\n    </tr>\n    <tr>\n      <th>4</th>\n      <td>1820</td>\n      <td>9633822</td>\n      <td>208526</td>\n      <td>2.16</td>\n    </tr>\n    <tr>\n      <th>5</th>\n      <td>1830</td>\n      <td>12866020</td>\n      <td>378545</td>\n      <td>2.94</td>\n    </tr>\n    <tr>\n      <th>6</th>\n      <td>1840</td>\n      <td>17069458</td>\n      <td>833371</td>\n      <td>4.88</td>\n    </tr>\n    <tr>\n      <th>7</th>\n      <td>1850</td>\n      <td>23191876</td>\n      <td>1423351</td>\n      <td>6.14</td>\n    </tr>\n    <tr>\n      <th>8</th>\n      <td>1860</td>\n      <td>31443321</td>\n      <td>1969377</td>\n      <td>6.26</td>\n    </tr>\n    <tr>\n      <th>9</th>\n      <td>1870</td>\n      <td>38558371</td>\n      <td>3421198</td>\n      <td>8.87</td>\n    </tr>\n    <tr>\n      <th>10</th>\n      <td>1880</td>\n      <td>50155783</td>\n      <td>5790678</td>\n      <td>11.54</td>\n    </tr>\n    <tr>\n      <th>11</th>\n      <td>1890</td>\n      <td>62979766</td>\n      <td>11547127</td>\n      <td>18.33</td>\n    </tr>\n    <tr>\n      <th>12</th>\n      <td>1900</td>\n      <td>76303387</td>\n      <td>11854000</td>\n      <td>15.54</td>\n    </tr>\n    <tr>\n      <th>13</th>\n      <td>1910</td>\n      <td>91972266</td>\n      <td>15968000</td>\n      <td>17.07</td>\n    </tr>\n    <tr>\n      <th>14</th>\n      <td>1920</td>\n      <td>105710620</td>\n      <td>25117000</td>\n      <td>23.76</td>\n    </tr>\n    <tr>\n      <th>15</th>\n      <td>1930</td>\n      <td>122775046</td>\n      <td>40156000</td>\n      <td>32.71</td>\n    </tr>\n    <tr>\n      <th>16</th>\n      <td>1940</td>\n      <td>131669275</td>\n      <td>67527000</td>\n      <td>51.29</td>\n    </tr>\n    <tr>\n      <th>17</th>\n      <td>1950</td>\n      <td>151325798</td>\n      <td>91462000</td>\n      <td>60.44</td>\n    </tr>\n    <tr>\n      <th>18</th>\n      <td>1960</td>\n      <td>179323175</td>\n      <td>127934000</td>\n      <td>71.34</td>\n    </tr>\n    <tr>\n      <th>19</th>\n      <td>1970</td>\n      <td>203302031</td>\n      <td>247653000</td>\n      <td>1.22</td>\n    </tr>\n    <tr>\n      <th>20</th>\n      <td>1980</td>\n      <td>226542199</td>\n      <td>1078488000</td>\n      <td>4.76</td>\n    </tr>\n    <tr>\n      <th>21</th>\n      <td>1990</td>\n      <td>248718301</td>\n      <td>2492830000</td>\n      <td>10.02</td>\n    </tr>\n    <tr>\n      <th>22</th>\n      <td>2000</td>\n      <td>281421906</td>\n      <td>4500000000</td>\n      <td>15.99</td>\n    </tr>\n    <tr>\n      <th>23</th>\n      <td>2010</td>\n      <td>308745538</td>\n      <td>13000000000</td>\n      <td>42.11</td>\n    </tr>\n  </tbody>\n</table>\n</div>"
          },
          "metadata": {}
        }
      ]
    },
    {
      "cell_type": "markdown",
      "source": "Although I was able to removed cents and $ the elements still aren't in the same unit.",
      "metadata": {
        "tags": [],
        "cell_id": "00045-39ef8872-62e6-4f75-a5ab-6cf72d25342a",
        "deepnote_cell_type": "markdown"
      }
    },
    {
      "cell_type": "code",
      "metadata": {
        "cell_id": "00044-167e65f6-c07a-4aa2-ba15-76883bbc7266",
        "deepnote_to_be_reexecuted": false,
        "source_hash": "42e2d74",
        "execution_millis": 4,
        "execution_start": 1615876520342,
        "deepnote_cell_type": "code"
      },
      "source": "real1=real_df.iloc[18:, 0:4] # I added the elements that are in dollar value to other DataFrame",
      "execution_count": 33,
      "outputs": []
    },
    {
      "cell_type": "code",
      "metadata": {
        "cell_id": "00045-dea08a73-582d-47c6-a184-04ba5567ad8a",
        "deepnote_to_be_reexecuted": false,
        "source_hash": "2b418928",
        "execution_millis": 3,
        "execution_start": 1615876520348,
        "deepnote_cell_type": "code"
      },
      "source": "real_df['Average Cost Per Person']=pd.to_numeric(real_df['Average Cost Per Person'], downcast=\"float\") #in order to make a division to covert elements in dollars they should be change to a float\n#and this line does just that",
      "execution_count": 34,
      "outputs": []
    },
    {
      "cell_type": "code",
      "metadata": {
        "cell_id": "00046-30237043-a6ae-4922-b579-3ccfa1e159f0",
        "deepnote_to_be_reexecuted": false,
        "source_hash": "f0e01728",
        "execution_millis": 10,
        "execution_start": 1615876520368,
        "deepnote_cell_type": "code"
      },
      "source": "real_df.dtypes #to confirm that I indeed did this",
      "execution_count": 35,
      "outputs": [
        {
          "output_type": "execute_result",
          "execution_count": 35,
          "data": {
            "text/plain": "0\nCensus Year                 object\nTotal Population            object\nCensus Cost                 object\nAverage Cost Per Person    float32\ndtype: object"
          },
          "metadata": {}
        }
      ]
    },
    {
      "cell_type": "code",
      "metadata": {
        "cell_id": "00047-478e9a6f-f438-46e8-b4d4-6a8e4bee26f1",
        "deepnote_to_be_reexecuted": false,
        "source_hash": "b697f06c",
        "execution_millis": 0,
        "execution_start": 1615876520369,
        "deepnote_cell_type": "code"
      },
      "source": "real2=real_df.iloc[0:18, 0:4] # Now, let's put the other elements in another DataFrame",
      "execution_count": 36,
      "outputs": []
    },
    {
      "cell_type": "code",
      "metadata": {
        "cell_id": "00048-60113937-bbd5-45c1-8f0f-3e6da4ad4c7c",
        "deepnote_to_be_reexecuted": false,
        "source_hash": "5737d21a",
        "execution_millis": 0,
        "execution_start": 1615876520370,
        "deepnote_cell_type": "code"
      },
      "source": "real2['Average Cost Per Person']=real2['Average Cost Per Person'].div(100)# I divide elements by 100 to get the dollar value",
      "execution_count": 37,
      "outputs": []
    },
    {
      "cell_type": "code",
      "metadata": {
        "cell_id": "00049-b16a9f5c-890e-4c3f-904a-6892483be792",
        "deepnote_to_be_reexecuted": false,
        "source_hash": "adea80d5",
        "execution_millis": 2,
        "execution_start": 1615876520371,
        "deepnote_cell_type": "code"
      },
      "source": "real_df3=[real2, real1] #creating a variable with both DataFrame",
      "execution_count": 38,
      "outputs": []
    },
    {
      "cell_type": "code",
      "metadata": {
        "cell_id": "00050-391a8999-5205-408e-83c0-76058277fa01",
        "deepnote_to_be_reexecuted": false,
        "source_hash": "f56d9452",
        "execution_millis": 26,
        "execution_start": 1615876520390,
        "deepnote_cell_type": "code"
      },
      "source": "real_df4=pd.concat(real_df3)#adding the two DataFrame in the same one",
      "execution_count": 39,
      "outputs": []
    },
    {
      "cell_type": "code",
      "metadata": {
        "cell_id": "00051-46590d7a-65df-4849-8cdc-e34238123041",
        "deepnote_to_be_reexecuted": false,
        "source_hash": "bdda133e",
        "execution_millis": 27,
        "execution_start": 1615876520433,
        "deepnote_cell_type": "code"
      },
      "source": "real_df4 # test",
      "execution_count": 40,
      "outputs": [
        {
          "output_type": "execute_result",
          "execution_count": 40,
          "data": {
            "application/vnd.deepnote.dataframe.v2+json": {
              "row_count": 23,
              "column_count": 4,
              "columns": [
                {
                  "name": "Census Year",
                  "dtype": "object",
                  "stats": {
                    "unique_count": 23,
                    "nan_count": 0,
                    "categories": [
                      {
                        "name": "1790",
                        "count": 1
                      },
                      {
                        "name": "1800",
                        "count": 1
                      },
                      {
                        "name": "21 others",
                        "count": 21
                      }
                    ]
                  }
                },
                {
                  "name": "Total Population",
                  "dtype": "object",
                  "stats": {
                    "unique_count": 23,
                    "nan_count": 0,
                    "categories": [
                      {
                        "name": "3929214",
                        "count": 1
                      },
                      {
                        "name": "5308483",
                        "count": 1
                      },
                      {
                        "name": "21 others",
                        "count": 21
                      }
                    ]
                  }
                },
                {
                  "name": "Census Cost",
                  "dtype": "object",
                  "stats": {
                    "unique_count": 23,
                    "nan_count": 0,
                    "categories": [
                      {
                        "name": "44377",
                        "count": 1
                      },
                      {
                        "name": "66109",
                        "count": 1
                      },
                      {
                        "name": "21 others",
                        "count": 21
                      }
                    ]
                  }
                },
                {
                  "name": "Average Cost Per Person",
                  "dtype": "object",
                  "stats": {
                    "unique_count": 23,
                    "nan_count": 0,
                    "categories": [
                      {
                        "name": "0.011300000362098217",
                        "count": 1
                      },
                      {
                        "name": "0.012400000356137753",
                        "count": 1
                      },
                      {
                        "name": "21 others",
                        "count": 21
                      }
                    ]
                  }
                },
                {
                  "name": "_deepnote_index_column",
                  "dtype": "int64"
                }
              ],
              "rows_top": [
                {
                  "Census Year": "1790",
                  "Total Population": "3929214",
                  "Census Cost": "44377",
                  "Average Cost Per Person": "0.011300000362098217",
                  "_deepnote_index_column": 1
                },
                {
                  "Census Year": "1800",
                  "Total Population": "5308483",
                  "Census Cost": "66109",
                  "Average Cost Per Person": "0.012400000356137753",
                  "_deepnote_index_column": 2
                },
                {
                  "Census Year": "1810",
                  "Total Population": "7239881",
                  "Census Cost": "178445",
                  "Average Cost Per Person": "0.02460000105202198",
                  "_deepnote_index_column": 3
                },
                {
                  "Census Year": "1820",
                  "Total Population": "9633822",
                  "Census Cost": "208526",
                  "Average Cost Per Person": "0.02160000056028366",
                  "_deepnote_index_column": 4
                },
                {
                  "Census Year": "1830",
                  "Total Population": "12866020",
                  "Census Cost": "378545",
                  "Average Cost Per Person": "0.029400000348687172",
                  "_deepnote_index_column": 5
                },
                {
                  "Census Year": "1840",
                  "Total Population": "17069458",
                  "Census Cost": "833371",
                  "Average Cost Per Person": "0.04880000278353691",
                  "_deepnote_index_column": 6
                },
                {
                  "Census Year": "1850",
                  "Total Population": "23191876",
                  "Census Cost": "1423351",
                  "Average Cost Per Person": "0.061400000005960464",
                  "_deepnote_index_column": 7
                },
                {
                  "Census Year": "1860",
                  "Total Population": "31443321",
                  "Census Cost": "1969377",
                  "Average Cost Per Person": "0.06260000169277191",
                  "_deepnote_index_column": 8
                },
                {
                  "Census Year": "1870",
                  "Total Population": "38558371",
                  "Census Cost": "3421198",
                  "Average Cost Per Person": "0.08869999647140503",
                  "_deepnote_index_column": 9
                },
                {
                  "Census Year": "1880",
                  "Total Population": "50155783",
                  "Census Cost": "5790678",
                  "Average Cost Per Person": "0.11540000140666962",
                  "_deepnote_index_column": 10
                },
                {
                  "Census Year": "1890",
                  "Total Population": "62979766",
                  "Census Cost": "11547127",
                  "Average Cost Per Person": "0.18330000340938568",
                  "_deepnote_index_column": 11
                },
                {
                  "Census Year": "1900",
                  "Total Population": "76303387",
                  "Census Cost": "11854000",
                  "Average Cost Per Person": "0.15539999306201935",
                  "_deepnote_index_column": 12
                },
                {
                  "Census Year": "1910",
                  "Total Population": "91972266",
                  "Census Cost": "15968000",
                  "Average Cost Per Person": "0.17069999873638153",
                  "_deepnote_index_column": 13
                },
                {
                  "Census Year": "1920",
                  "Total Population": "105710620",
                  "Census Cost": "25117000",
                  "Average Cost Per Person": "0.23759999871253967",
                  "_deepnote_index_column": 14
                },
                {
                  "Census Year": "1930",
                  "Total Population": "122775046",
                  "Census Cost": "40156000",
                  "Average Cost Per Person": "0.3270999789237976",
                  "_deepnote_index_column": 15
                },
                {
                  "Census Year": "1940",
                  "Total Population": "131669275",
                  "Census Cost": "67527000",
                  "Average Cost Per Person": "0.5128999948501587",
                  "_deepnote_index_column": 16
                },
                {
                  "Census Year": "1950",
                  "Total Population": "151325798",
                  "Census Cost": "91462000",
                  "Average Cost Per Person": "0.6043999791145325",
                  "_deepnote_index_column": 17
                },
                {
                  "Census Year": "1960",
                  "Total Population": "179323175",
                  "Census Cost": "127934000",
                  "Average Cost Per Person": "0.7133999466896057",
                  "_deepnote_index_column": 18
                },
                {
                  "Census Year": "1970",
                  "Total Population": "203302031",
                  "Census Cost": "247653000",
                  "Average Cost Per Person": "1.22",
                  "_deepnote_index_column": 19
                },
                {
                  "Census Year": "1980",
                  "Total Population": "226542199",
                  "Census Cost": "1078488000",
                  "Average Cost Per Person": "4.76",
                  "_deepnote_index_column": 20
                },
                {
                  "Census Year": "1990",
                  "Total Population": "248718301",
                  "Census Cost": "2492830000",
                  "Average Cost Per Person": "10.02",
                  "_deepnote_index_column": 21
                },
                {
                  "Census Year": "2000",
                  "Total Population": "281421906",
                  "Census Cost": "4500000000",
                  "Average Cost Per Person": "15.99",
                  "_deepnote_index_column": 22
                },
                {
                  "Census Year": "2010",
                  "Total Population": "308745538",
                  "Census Cost": "13000000000",
                  "Average Cost Per Person": "42.11",
                  "_deepnote_index_column": 23
                }
              ],
              "rows_bottom": null
            },
            "text/plain": "0  Census Year Total Population  Census Cost Average Cost Per Person\n1         1790          3929214        44377                  0.0113\n2         1800          5308483        66109                  0.0124\n3         1810          7239881       178445                  0.0246\n4         1820          9633822       208526                  0.0216\n5         1830         12866020       378545                  0.0294\n6         1840         17069458       833371                  0.0488\n7         1850         23191876      1423351                  0.0614\n8         1860         31443321      1969377                  0.0626\n9         1870         38558371      3421198                  0.0887\n10        1880         50155783      5790678                  0.1154\n11        1890         62979766     11547127                  0.1833\n12        1900         76303387     11854000                  0.1554\n13        1910         91972266     15968000                  0.1707\n14        1920        105710620     25117000                  0.2376\n15        1930        122775046     40156000                  0.3271\n16        1940        131669275     67527000                  0.5129\n17        1950        151325798     91462000                  0.6044\n18        1960        179323175    127934000                  0.7134\n19        1970        203302031    247653000                    1.22\n20        1980        226542199   1078488000                    4.76\n21        1990        248718301   2492830000                   10.02\n22        2000        281421906   4500000000                   15.99\n23        2010        308745538  13000000000                   42.11",
            "text/html": "<div>\n<style scoped>\n    .dataframe tbody tr th:only-of-type {\n        vertical-align: middle;\n    }\n\n    .dataframe tbody tr th {\n        vertical-align: top;\n    }\n\n    .dataframe thead th {\n        text-align: right;\n    }\n</style>\n<table border=\"1\" class=\"dataframe\">\n  <thead>\n    <tr style=\"text-align: right;\">\n      <th></th>\n      <th>Census Year</th>\n      <th>Total Population</th>\n      <th>Census Cost</th>\n      <th>Average Cost Per Person</th>\n    </tr>\n  </thead>\n  <tbody>\n    <tr>\n      <th>1</th>\n      <td>1790</td>\n      <td>3929214</td>\n      <td>44377</td>\n      <td>0.0113</td>\n    </tr>\n    <tr>\n      <th>2</th>\n      <td>1800</td>\n      <td>5308483</td>\n      <td>66109</td>\n      <td>0.0124</td>\n    </tr>\n    <tr>\n      <th>3</th>\n      <td>1810</td>\n      <td>7239881</td>\n      <td>178445</td>\n      <td>0.0246</td>\n    </tr>\n    <tr>\n      <th>4</th>\n      <td>1820</td>\n      <td>9633822</td>\n      <td>208526</td>\n      <td>0.0216</td>\n    </tr>\n    <tr>\n      <th>5</th>\n      <td>1830</td>\n      <td>12866020</td>\n      <td>378545</td>\n      <td>0.0294</td>\n    </tr>\n    <tr>\n      <th>6</th>\n      <td>1840</td>\n      <td>17069458</td>\n      <td>833371</td>\n      <td>0.0488</td>\n    </tr>\n    <tr>\n      <th>7</th>\n      <td>1850</td>\n      <td>23191876</td>\n      <td>1423351</td>\n      <td>0.0614</td>\n    </tr>\n    <tr>\n      <th>8</th>\n      <td>1860</td>\n      <td>31443321</td>\n      <td>1969377</td>\n      <td>0.0626</td>\n    </tr>\n    <tr>\n      <th>9</th>\n      <td>1870</td>\n      <td>38558371</td>\n      <td>3421198</td>\n      <td>0.0887</td>\n    </tr>\n    <tr>\n      <th>10</th>\n      <td>1880</td>\n      <td>50155783</td>\n      <td>5790678</td>\n      <td>0.1154</td>\n    </tr>\n    <tr>\n      <th>11</th>\n      <td>1890</td>\n      <td>62979766</td>\n      <td>11547127</td>\n      <td>0.1833</td>\n    </tr>\n    <tr>\n      <th>12</th>\n      <td>1900</td>\n      <td>76303387</td>\n      <td>11854000</td>\n      <td>0.1554</td>\n    </tr>\n    <tr>\n      <th>13</th>\n      <td>1910</td>\n      <td>91972266</td>\n      <td>15968000</td>\n      <td>0.1707</td>\n    </tr>\n    <tr>\n      <th>14</th>\n      <td>1920</td>\n      <td>105710620</td>\n      <td>25117000</td>\n      <td>0.2376</td>\n    </tr>\n    <tr>\n      <th>15</th>\n      <td>1930</td>\n      <td>122775046</td>\n      <td>40156000</td>\n      <td>0.3271</td>\n    </tr>\n    <tr>\n      <th>16</th>\n      <td>1940</td>\n      <td>131669275</td>\n      <td>67527000</td>\n      <td>0.5129</td>\n    </tr>\n    <tr>\n      <th>17</th>\n      <td>1950</td>\n      <td>151325798</td>\n      <td>91462000</td>\n      <td>0.6044</td>\n    </tr>\n    <tr>\n      <th>18</th>\n      <td>1960</td>\n      <td>179323175</td>\n      <td>127934000</td>\n      <td>0.7134</td>\n    </tr>\n    <tr>\n      <th>19</th>\n      <td>1970</td>\n      <td>203302031</td>\n      <td>247653000</td>\n      <td>1.22</td>\n    </tr>\n    <tr>\n      <th>20</th>\n      <td>1980</td>\n      <td>226542199</td>\n      <td>1078488000</td>\n      <td>4.76</td>\n    </tr>\n    <tr>\n      <th>21</th>\n      <td>1990</td>\n      <td>248718301</td>\n      <td>2492830000</td>\n      <td>10.02</td>\n    </tr>\n    <tr>\n      <th>22</th>\n      <td>2000</td>\n      <td>281421906</td>\n      <td>4500000000</td>\n      <td>15.99</td>\n    </tr>\n    <tr>\n      <th>23</th>\n      <td>2010</td>\n      <td>308745538</td>\n      <td>13000000000</td>\n      <td>42.11</td>\n    </tr>\n  </tbody>\n</table>\n</div>"
          },
          "metadata": {}
        }
      ]
    },
    {
      "cell_type": "markdown",
      "source": "## Step 10: Creating a csv file",
      "metadata": {
        "tags": [],
        "cell_id": "00056-d6d9338c-a4af-48d6-8732-a545f5276e1d",
        "deepnote_cell_type": "markdown"
      }
    },
    {
      "cell_type": "code",
      "source": "real_df4.to_csv('census_cost_cleansed.csv',index=False) #making a csv file starting from the frist column",
      "metadata": {
        "tags": [],
        "cell_id": "00054-d69aabe7-050a-47fa-86fe-9bc2022ad10f",
        "deepnote_to_be_reexecuted": false,
        "source_hash": "723ad7d5",
        "execution_millis": 1,
        "execution_start": 1615876520452,
        "deepnote_cell_type": "code"
      },
      "outputs": [],
      "execution_count": 41
    },
    {
      "cell_type": "markdown",
      "source": "## Step 11: Open csv file",
      "metadata": {
        "tags": [],
        "cell_id": "00058-43eba8e3-b636-43c9-b588-bbf7468a49a3",
        "deepnote_cell_type": "markdown"
      }
    },
    {
      "cell_type": "code",
      "metadata": {
        "cell_id": "00055-df914728-ef03-4a27-8d51-1109c21acc67",
        "deepnote_to_be_reexecuted": false,
        "source_hash": "e67284db",
        "execution_millis": 1,
        "execution_start": 1615876520453,
        "deepnote_cell_type": "code"
      },
      "source": "with open (\"census_cost_cleansed.csv\", \"rt\") as f:\n    all_lines=f.readlines() #open the file",
      "execution_count": 42,
      "outputs": []
    },
    {
      "cell_type": "code",
      "metadata": {
        "cell_id": "00056-ee3bc4e8-fae3-4f64-8686-edc9690f97b8",
        "deepnote_to_be_reexecuted": false,
        "source_hash": "c2a1322a",
        "execution_millis": 47,
        "execution_start": 1615876520454,
        "deepnote_cell_type": "code"
      },
      "source": "for row in all_lines:\n    print(row) # display the file without a pandas DataFrame",
      "execution_count": 43,
      "outputs": [
        {
          "name": "stdout",
          "text": "Census Year,Total Population,Census Cost,Average Cost Per Person\n\n1790,3929214,44377,0.011300000362098217\n\n1800,5308483,66109,0.012400000356137753\n\n1810,7239881,178445,0.02460000105202198\n\n1820,9633822,208526,0.02160000056028366\n\n1830,12866020,378545,0.029400000348687172\n\n1840,17069458,833371,0.04880000278353691\n\n1850,23191876,1423351,0.061400000005960464\n\n1860,31443321,1969377,0.06260000169277191\n\n1870,38558371,3421198,0.08869999647140503\n\n1880,50155783,5790678,0.11540000140666962\n\n1890,62979766,11547127,0.18330000340938568\n\n1900,76303387,11854000,0.15539999306201935\n\n1910,91972266,15968000,0.17069999873638153\n\n1920,105710620,25117000,0.23759999871253967\n\n1930,122775046,40156000,0.3270999789237976\n\n1940,131669275,67527000,0.5128999948501587\n\n1950,151325798,91462000,0.6043999791145325\n\n1960,179323175,127934000,0.7133999466896057\n\n1970,203302031,247653000,1.22\n\n1980,226542199,1078488000,4.76\n\n1990,248718301,2492830000,10.02\n\n2000,281421906,4500000000,15.99\n\n2010,308745538,13000000000,42.11\n\n",
          "output_type": "stream"
        }
      ]
    },
    {
      "cell_type": "code",
      "metadata": {
        "cell_id": "00057-0d99634c-8c8c-468c-8a46-f4746789ffb5",
        "deepnote_to_be_reexecuted": false,
        "source_hash": "2eea9b98",
        "execution_millis": 24,
        "execution_start": 1615876520494,
        "deepnote_cell_type": "code"
      },
      "source": "pd.read_csv('census_cost_cleansed.csv')   # display the file with a pandas DataFrame",
      "execution_count": 44,
      "outputs": [
        {
          "output_type": "execute_result",
          "execution_count": 44,
          "data": {
            "application/vnd.deepnote.dataframe.v2+json": {
              "row_count": 23,
              "column_count": 4,
              "columns": [
                {
                  "name": "Census Year",
                  "dtype": "int64",
                  "stats": {
                    "unique_count": 23,
                    "nan_count": 0,
                    "min": 1790,
                    "max": 2010,
                    "histogram": [
                      {
                        "bin_start": 1790,
                        "bin_end": 1812,
                        "count": 3
                      },
                      {
                        "bin_start": 1812,
                        "bin_end": 1834,
                        "count": 2
                      },
                      {
                        "bin_start": 1834,
                        "bin_end": 1856,
                        "count": 2
                      },
                      {
                        "bin_start": 1856,
                        "bin_end": 1878,
                        "count": 2
                      },
                      {
                        "bin_start": 1878,
                        "bin_end": 1900,
                        "count": 2
                      },
                      {
                        "bin_start": 1900,
                        "bin_end": 1922,
                        "count": 3
                      },
                      {
                        "bin_start": 1922,
                        "bin_end": 1944,
                        "count": 2
                      },
                      {
                        "bin_start": 1944,
                        "bin_end": 1966,
                        "count": 2
                      },
                      {
                        "bin_start": 1966,
                        "bin_end": 1988,
                        "count": 2
                      },
                      {
                        "bin_start": 1988,
                        "bin_end": 2010,
                        "count": 3
                      }
                    ]
                  }
                },
                {
                  "name": "Total Population",
                  "dtype": "int64",
                  "stats": {
                    "unique_count": 23,
                    "nan_count": 0,
                    "min": 3929214,
                    "max": 308745538,
                    "histogram": [
                      {
                        "bin_start": 3929214,
                        "bin_end": 34410846.4,
                        "count": 8
                      },
                      {
                        "bin_start": 34410846.4,
                        "bin_end": 64892478.8,
                        "count": 3
                      },
                      {
                        "bin_start": 64892478.8,
                        "bin_end": 95374111.19999999,
                        "count": 2
                      },
                      {
                        "bin_start": 95374111.19999999,
                        "bin_end": 125855743.6,
                        "count": 2
                      },
                      {
                        "bin_start": 125855743.6,
                        "bin_end": 156337376,
                        "count": 2
                      },
                      {
                        "bin_start": 156337376,
                        "bin_end": 186819008.39999998,
                        "count": 1
                      },
                      {
                        "bin_start": 186819008.39999998,
                        "bin_end": 217300640.79999998,
                        "count": 1
                      },
                      {
                        "bin_start": 217300640.79999998,
                        "bin_end": 247782273.2,
                        "count": 1
                      },
                      {
                        "bin_start": 247782273.2,
                        "bin_end": 278263905.59999996,
                        "count": 1
                      },
                      {
                        "bin_start": 278263905.59999996,
                        "bin_end": 308745538,
                        "count": 2
                      }
                    ]
                  }
                },
                {
                  "name": "Census Cost",
                  "dtype": "int64",
                  "stats": {
                    "unique_count": 23,
                    "nan_count": 0,
                    "min": 44377,
                    "max": 13000000000,
                    "histogram": [
                      {
                        "bin_start": 44377,
                        "bin_end": 1300039939.3,
                        "count": 20
                      },
                      {
                        "bin_start": 1300039939.3,
                        "bin_end": 2600035501.6,
                        "count": 1
                      },
                      {
                        "bin_start": 2600035501.6,
                        "bin_end": 3900031063.8999996,
                        "count": 0
                      },
                      {
                        "bin_start": 3900031063.8999996,
                        "bin_end": 5200026626.2,
                        "count": 1
                      },
                      {
                        "bin_start": 5200026626.2,
                        "bin_end": 6500022188.5,
                        "count": 0
                      },
                      {
                        "bin_start": 6500022188.5,
                        "bin_end": 7800017750.799999,
                        "count": 0
                      },
                      {
                        "bin_start": 7800017750.799999,
                        "bin_end": 9100013313.1,
                        "count": 0
                      },
                      {
                        "bin_start": 9100013313.1,
                        "bin_end": 10400008875.4,
                        "count": 0
                      },
                      {
                        "bin_start": 10400008875.4,
                        "bin_end": 11700004437.699999,
                        "count": 0
                      },
                      {
                        "bin_start": 11700004437.699999,
                        "bin_end": 13000000000,
                        "count": 1
                      }
                    ]
                  }
                },
                {
                  "name": "Average Cost Per Person",
                  "dtype": "float64",
                  "stats": {
                    "unique_count": 23,
                    "nan_count": 0,
                    "min": 0.0113000003620982,
                    "max": 42.11,
                    "histogram": [
                      {
                        "bin_start": 0.0113000003620982,
                        "bin_end": 4.2211700003258885,
                        "count": 19
                      },
                      {
                        "bin_start": 4.2211700003258885,
                        "bin_end": 8.431040000289679,
                        "count": 1
                      },
                      {
                        "bin_start": 8.431040000289679,
                        "bin_end": 12.64091000025347,
                        "count": 1
                      },
                      {
                        "bin_start": 12.64091000025347,
                        "bin_end": 16.85078000021726,
                        "count": 1
                      },
                      {
                        "bin_start": 16.85078000021726,
                        "bin_end": 21.06065000018105,
                        "count": 0
                      },
                      {
                        "bin_start": 21.06065000018105,
                        "bin_end": 25.270520000144842,
                        "count": 0
                      },
                      {
                        "bin_start": 25.270520000144842,
                        "bin_end": 29.48039000010863,
                        "count": 0
                      },
                      {
                        "bin_start": 29.48039000010863,
                        "bin_end": 33.69026000007242,
                        "count": 0
                      },
                      {
                        "bin_start": 33.69026000007242,
                        "bin_end": 37.900130000036214,
                        "count": 0
                      },
                      {
                        "bin_start": 37.900130000036214,
                        "bin_end": 42.11,
                        "count": 1
                      }
                    ]
                  }
                },
                {
                  "name": "_deepnote_index_column",
                  "dtype": "int64"
                }
              ],
              "rows_top": [
                {
                  "Census Year": 1790,
                  "Total Population": 3929214,
                  "Census Cost": 44377,
                  "Average Cost Per Person": 0.0113000003620982,
                  "_deepnote_index_column": 0
                },
                {
                  "Census Year": 1800,
                  "Total Population": 5308483,
                  "Census Cost": 66109,
                  "Average Cost Per Person": 0.0124000003561377,
                  "_deepnote_index_column": 1
                },
                {
                  "Census Year": 1810,
                  "Total Population": 7239881,
                  "Census Cost": 178445,
                  "Average Cost Per Person": 0.0246000010520219,
                  "_deepnote_index_column": 2
                },
                {
                  "Census Year": 1820,
                  "Total Population": 9633822,
                  "Census Cost": 208526,
                  "Average Cost Per Person": 0.0216000005602836,
                  "_deepnote_index_column": 3
                },
                {
                  "Census Year": 1830,
                  "Total Population": 12866020,
                  "Census Cost": 378545,
                  "Average Cost Per Person": 0.0294000003486871,
                  "_deepnote_index_column": 4
                },
                {
                  "Census Year": 1840,
                  "Total Population": 17069458,
                  "Census Cost": 833371,
                  "Average Cost Per Person": 0.0488000027835369,
                  "_deepnote_index_column": 5
                },
                {
                  "Census Year": 1850,
                  "Total Population": 23191876,
                  "Census Cost": 1423351,
                  "Average Cost Per Person": 0.0614000000059604,
                  "_deepnote_index_column": 6
                },
                {
                  "Census Year": 1860,
                  "Total Population": 31443321,
                  "Census Cost": 1969377,
                  "Average Cost Per Person": 0.0626000016927719,
                  "_deepnote_index_column": 7
                },
                {
                  "Census Year": 1870,
                  "Total Population": 38558371,
                  "Census Cost": 3421198,
                  "Average Cost Per Person": 0.088699996471405,
                  "_deepnote_index_column": 8
                },
                {
                  "Census Year": 1880,
                  "Total Population": 50155783,
                  "Census Cost": 5790678,
                  "Average Cost Per Person": 0.1154000014066696,
                  "_deepnote_index_column": 9
                },
                {
                  "Census Year": 1890,
                  "Total Population": 62979766,
                  "Census Cost": 11547127,
                  "Average Cost Per Person": 0.1833000034093856,
                  "_deepnote_index_column": 10
                },
                {
                  "Census Year": 1900,
                  "Total Population": 76303387,
                  "Census Cost": 11854000,
                  "Average Cost Per Person": 0.1553999930620193,
                  "_deepnote_index_column": 11
                },
                {
                  "Census Year": 1910,
                  "Total Population": 91972266,
                  "Census Cost": 15968000,
                  "Average Cost Per Person": 0.1706999987363815,
                  "_deepnote_index_column": 12
                },
                {
                  "Census Year": 1920,
                  "Total Population": 105710620,
                  "Census Cost": 25117000,
                  "Average Cost Per Person": 0.2375999987125396,
                  "_deepnote_index_column": 13
                },
                {
                  "Census Year": 1930,
                  "Total Population": 122775046,
                  "Census Cost": 40156000,
                  "Average Cost Per Person": 0.3270999789237976,
                  "_deepnote_index_column": 14
                },
                {
                  "Census Year": 1940,
                  "Total Population": 131669275,
                  "Census Cost": 67527000,
                  "Average Cost Per Person": 0.5128999948501587,
                  "_deepnote_index_column": 15
                },
                {
                  "Census Year": 1950,
                  "Total Population": 151325798,
                  "Census Cost": 91462000,
                  "Average Cost Per Person": 0.6043999791145325,
                  "_deepnote_index_column": 16
                },
                {
                  "Census Year": 1960,
                  "Total Population": 179323175,
                  "Census Cost": 127934000,
                  "Average Cost Per Person": 0.7133999466896057,
                  "_deepnote_index_column": 17
                },
                {
                  "Census Year": 1970,
                  "Total Population": 203302031,
                  "Census Cost": 247653000,
                  "Average Cost Per Person": 1.22,
                  "_deepnote_index_column": 18
                },
                {
                  "Census Year": 1980,
                  "Total Population": 226542199,
                  "Census Cost": 1078488000,
                  "Average Cost Per Person": 4.76,
                  "_deepnote_index_column": 19
                },
                {
                  "Census Year": 1990,
                  "Total Population": 248718301,
                  "Census Cost": 2492830000,
                  "Average Cost Per Person": 10.02,
                  "_deepnote_index_column": 20
                },
                {
                  "Census Year": 2000,
                  "Total Population": 281421906,
                  "Census Cost": 4500000000,
                  "Average Cost Per Person": 15.99,
                  "_deepnote_index_column": 21
                },
                {
                  "Census Year": 2010,
                  "Total Population": 308745538,
                  "Census Cost": 13000000000,
                  "Average Cost Per Person": 42.11,
                  "_deepnote_index_column": 22
                }
              ],
              "rows_bottom": null
            },
            "text/plain": "    Census Year  Total Population  Census Cost  Average Cost Per Person\n0          1790           3929214        44377                   0.0113\n1          1800           5308483        66109                   0.0124\n2          1810           7239881       178445                   0.0246\n3          1820           9633822       208526                   0.0216\n4          1830          12866020       378545                   0.0294\n5          1840          17069458       833371                   0.0488\n6          1850          23191876      1423351                   0.0614\n7          1860          31443321      1969377                   0.0626\n8          1870          38558371      3421198                   0.0887\n9          1880          50155783      5790678                   0.1154\n10         1890          62979766     11547127                   0.1833\n11         1900          76303387     11854000                   0.1554\n12         1910          91972266     15968000                   0.1707\n13         1920         105710620     25117000                   0.2376\n14         1930         122775046     40156000                   0.3271\n15         1940         131669275     67527000                   0.5129\n16         1950         151325798     91462000                   0.6044\n17         1960         179323175    127934000                   0.7134\n18         1970         203302031    247653000                   1.2200\n19         1980         226542199   1078488000                   4.7600\n20         1990         248718301   2492830000                  10.0200\n21         2000         281421906   4500000000                  15.9900\n22         2010         308745538  13000000000                  42.1100",
            "text/html": "<div>\n<style scoped>\n    .dataframe tbody tr th:only-of-type {\n        vertical-align: middle;\n    }\n\n    .dataframe tbody tr th {\n        vertical-align: top;\n    }\n\n    .dataframe thead th {\n        text-align: right;\n    }\n</style>\n<table border=\"1\" class=\"dataframe\">\n  <thead>\n    <tr style=\"text-align: right;\">\n      <th></th>\n      <th>Census Year</th>\n      <th>Total Population</th>\n      <th>Census Cost</th>\n      <th>Average Cost Per Person</th>\n    </tr>\n  </thead>\n  <tbody>\n    <tr>\n      <th>0</th>\n      <td>1790</td>\n      <td>3929214</td>\n      <td>44377</td>\n      <td>0.0113</td>\n    </tr>\n    <tr>\n      <th>1</th>\n      <td>1800</td>\n      <td>5308483</td>\n      <td>66109</td>\n      <td>0.0124</td>\n    </tr>\n    <tr>\n      <th>2</th>\n      <td>1810</td>\n      <td>7239881</td>\n      <td>178445</td>\n      <td>0.0246</td>\n    </tr>\n    <tr>\n      <th>3</th>\n      <td>1820</td>\n      <td>9633822</td>\n      <td>208526</td>\n      <td>0.0216</td>\n    </tr>\n    <tr>\n      <th>4</th>\n      <td>1830</td>\n      <td>12866020</td>\n      <td>378545</td>\n      <td>0.0294</td>\n    </tr>\n    <tr>\n      <th>5</th>\n      <td>1840</td>\n      <td>17069458</td>\n      <td>833371</td>\n      <td>0.0488</td>\n    </tr>\n    <tr>\n      <th>6</th>\n      <td>1850</td>\n      <td>23191876</td>\n      <td>1423351</td>\n      <td>0.0614</td>\n    </tr>\n    <tr>\n      <th>7</th>\n      <td>1860</td>\n      <td>31443321</td>\n      <td>1969377</td>\n      <td>0.0626</td>\n    </tr>\n    <tr>\n      <th>8</th>\n      <td>1870</td>\n      <td>38558371</td>\n      <td>3421198</td>\n      <td>0.0887</td>\n    </tr>\n    <tr>\n      <th>9</th>\n      <td>1880</td>\n      <td>50155783</td>\n      <td>5790678</td>\n      <td>0.1154</td>\n    </tr>\n    <tr>\n      <th>10</th>\n      <td>1890</td>\n      <td>62979766</td>\n      <td>11547127</td>\n      <td>0.1833</td>\n    </tr>\n    <tr>\n      <th>11</th>\n      <td>1900</td>\n      <td>76303387</td>\n      <td>11854000</td>\n      <td>0.1554</td>\n    </tr>\n    <tr>\n      <th>12</th>\n      <td>1910</td>\n      <td>91972266</td>\n      <td>15968000</td>\n      <td>0.1707</td>\n    </tr>\n    <tr>\n      <th>13</th>\n      <td>1920</td>\n      <td>105710620</td>\n      <td>25117000</td>\n      <td>0.2376</td>\n    </tr>\n    <tr>\n      <th>14</th>\n      <td>1930</td>\n      <td>122775046</td>\n      <td>40156000</td>\n      <td>0.3271</td>\n    </tr>\n    <tr>\n      <th>15</th>\n      <td>1940</td>\n      <td>131669275</td>\n      <td>67527000</td>\n      <td>0.5129</td>\n    </tr>\n    <tr>\n      <th>16</th>\n      <td>1950</td>\n      <td>151325798</td>\n      <td>91462000</td>\n      <td>0.6044</td>\n    </tr>\n    <tr>\n      <th>17</th>\n      <td>1960</td>\n      <td>179323175</td>\n      <td>127934000</td>\n      <td>0.7134</td>\n    </tr>\n    <tr>\n      <th>18</th>\n      <td>1970</td>\n      <td>203302031</td>\n      <td>247653000</td>\n      <td>1.2200</td>\n    </tr>\n    <tr>\n      <th>19</th>\n      <td>1980</td>\n      <td>226542199</td>\n      <td>1078488000</td>\n      <td>4.7600</td>\n    </tr>\n    <tr>\n      <th>20</th>\n      <td>1990</td>\n      <td>248718301</td>\n      <td>2492830000</td>\n      <td>10.0200</td>\n    </tr>\n    <tr>\n      <th>21</th>\n      <td>2000</td>\n      <td>281421906</td>\n      <td>4500000000</td>\n      <td>15.9900</td>\n    </tr>\n    <tr>\n      <th>22</th>\n      <td>2010</td>\n      <td>308745538</td>\n      <td>13000000000</td>\n      <td>42.1100</td>\n    </tr>\n  </tbody>\n</table>\n</div>"
          },
          "metadata": {}
        }
      ]
    },
    {
      "cell_type": "markdown",
      "source": "<a style='text-decoration:none;line-height:16px;display:flex;color:#5B5B62;padding:10px;justify-content:end;' href='https://deepnote.com?utm_source=created-in-deepnote-cell&projectId=5e850d88-26c1-4229-ad7b-bc0cc7c74f9d' target=\"_blank\">\n<img style='display:inline;max-height:16px;margin:0px;margin-right:7.5px;' src='data:image/svg+xml;base64,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' > </img>\nCreated in <span style='font-weight:600;margin-left:4px;'>Deepnote</span></a>",
      "metadata": {
        "tags": [],
        "created_in_deepnote_cell": true,
        "deepnote_cell_type": "markdown"
      }
    }
  ],
  "nbformat": 4,
  "nbformat_minor": 2,
  "metadata": {
    "deepnote": {},
    "deepnote_execution_queue": [],
    "deepnote_notebook_id": "138d73fb-2f27-4c16-9895-e88416383a85",
    "kernelspec": {
      "display_name": "Python 3",
      "language": "python",
      "name": "python3"
    },
    "language_info": {
      "codemirror_mode": {
        "name": "ipython",
        "version": 3
      },
      "file_extension": ".py",
      "mimetype": "text/x-python",
      "name": "python",
      "nbconvert_exporter": "python",
      "pygments_lexer": "ipython3",
      "version": "3.7.6"
    }
  }
}
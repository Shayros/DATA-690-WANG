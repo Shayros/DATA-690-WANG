{
 "cells": [
  {
   "cell_type": "markdown",
   "metadata": {},
   "source": [
    "# Assignment # 3\n",
    "**Name:** Shaimar R. Gonzaález Morales\n",
    "\n",
    "**Date:** 2/16/2021"
   ]
  },
  {
   "cell_type": "markdown",
   "metadata": {},
   "source": [
    "## Step 1: Creating a maxtrix 10 x 10"
   ]
  },
  {
   "cell_type": "code",
   "execution_count": 7,
   "metadata": {},
   "outputs": [
    {
     "name": "stdout",
     "output_type": "stream",
     "text": [
      "8 2 1 3 8 4 6 3 1 1 \n",
      "5 2 8 0 5 2 2 7 7 4 \n",
      "4 6 0 0 7 4 4 3 6 1 \n",
      "6 0 5 7 6 5 2 2 9 2 \n",
      "2 6 1 6 7 0 5 7 1 2 \n",
      "0 0 6 3 3 0 5 4 2 1 \n",
      "9 6 0 0 7 7 7 0 5 7 \n",
      "3 3 7 4 4 7 6 8 2 4 \n",
      "1 3 4 6 0 6 3 7 5 3 \n",
      "7 5 3 1 4 2 1 4 6 1 \n"
     ]
    }
   ],
   "source": [
    "import random\n",
    "w, h = 10, 10; #telling how tall and long is the matrix\n",
    "Matrix = [[random.randint(0,9) for x in range(w)] for y in range(h)] #I want to have it in random numbers\n",
    "for row in Matrix:\n",
    "    for elem in row:\n",
    "        print(elem, end=' ') # how I want the data to be display\n",
    "    print()"
   ]
  },
  {
   "cell_type": "markdown",
   "metadata": {},
   "source": [
    "## Step 2: Sustitute odd number"
   ]
  },
  {
   "cell_type": "code",
   "execution_count": 8,
   "metadata": {},
   "outputs": [
    {
     "name": "stdout",
     "output_type": "stream",
     "text": [
      "6 @ 0 @ 8 @ @ @ 0 @ \n",
      "@ 0 @ 0 4 8 @ @ 4 6 \n",
      "@ @ @ 4 @ @ 6 4 @ @ \n",
      "0 @ @ 4 @ 0 @ @ @ 4 \n",
      "@ @ @ @ @ 0 2 8 @ @ \n",
      "6 @ @ @ @ 0 0 @ 2 4 \n",
      "@ @ @ 4 @ @ @ 6 4 @ \n",
      "@ 8 2 @ 2 4 @ @ 6 4 \n",
      "@ @ @ 8 2 6 @ 6 8 @ \n",
      "@ @ 8 8 8 @ 6 8 @ 2 \n"
     ]
    }
   ],
   "source": [
    "import random\n",
    "w, h = 10, 10; #telling how tall and long is the matrix\n",
    "Matrix = [[random.randint(0,9) for x in range(w)] for y in range(h)] #I want to have it in random numbers\n",
    "for row in Matrix:\n",
    "    for elem in row:\n",
    "        if elem % 2==0: # check if even number\n",
    "            print(elem, end=' ')\n",
    "        else:\n",
    "            print('@',end=' ') # sustitute for '@' when see odd number\n",
    "    print()"
   ]
  },
  {
   "cell_type": "markdown",
   "metadata": {},
   "source": [
    "## Step 3: Calculate and print total "
   ]
  },
  {
   "cell_type": "code",
   "execution_count": 9,
   "metadata": {},
   "outputs": [
    {
     "name": "stdout",
     "output_type": "stream",
     "text": [
      "4 0 1 2 2 1 6 8 0 2 * 26\n",
      "4 0 7 6 0 3 8 9 9 8 * 54\n",
      "5 7 9 4 9 7 7 7 1 8 * 64\n",
      "8 6 3 5 7 2 2 9 1 5 * 48\n",
      "2 7 5 1 7 0 8 0 3 3 * 36\n",
      "2 1 6 3 4 7 1 2 3 5 * 34\n",
      "9 3 8 1 5 1 8 7 0 9 * 51\n",
      "9 4 6 1 0 7 6 6 0 3 * 42\n",
      "2 7 8 9 6 8 9 6 2 4 * 61\n",
      "6 6 8 5 5 8 4 4 2 1 * 49\n"
     ]
    }
   ],
   "source": [
    "import random\n",
    "w, h = 10, 10; #telling how tall and long is the matrix\n",
    "Matrix = [[random.randint(0,9) for x in range(w)] for y in range(h)] #I want to have it in random numbers\n",
    "for row in Matrix:\n",
    "    for elem in row:\n",
    "        print(elem, end=' ')\n",
    "    print(\"*\",sum(row))# print the total of the row and put it on the side"
   ]
  },
  {
   "cell_type": "markdown",
   "metadata": {},
   "source": [
    "## Step 4: Sorounding matrix with '*'"
   ]
  },
  {
   "cell_type": "code",
   "execution_count": 10,
   "metadata": {},
   "outputs": [
    {
     "name": "stdout",
     "output_type": "stream",
     "text": [
      "* * * * * * * * * *\n",
      "8 4 5 4 5 5 2 7 3 0 *\n",
      "1 5 1 4 7 4 2 4 3 8 *\n",
      "0 3 9 2 8 9 8 2 9 7 *\n",
      "0 5 9 4 8 3 4 3 6 9 *\n",
      "0 3 9 8 2 9 5 5 2 9 *\n",
      "1 8 6 3 6 2 1 7 9 1 *\n",
      "8 2 1 9 5 2 2 7 0 0 *\n",
      "1 7 6 6 4 1 0 9 9 6 *\n",
      "6 7 3 4 4 5 9 5 2 7 *\n",
      "3 6 2 2 9 8 5 2 8 9 *\n",
      "* * * * * * * * * *\n"
     ]
    }
   ],
   "source": [
    "import random\n",
    "w, h = 10, 10; #telling how tall and long is the matrix\n",
    "Matrix = [[random.randint(0,9) for x in range(w)] for y in range(h)] #I want to have it in random numbers\n",
    "print('*','*','*', '*','*','*','*','*', '*','*')\n",
    "for row in Matrix:\n",
    "    for elem in row:\n",
    "        print (elem, end=' ')\n",
    "    print(\"*\")\n",
    "print('*','*','*', '*','*','*','*','*', '*','*')\n"
   ]
  },
  {
   "cell_type": "code",
   "execution_count": 11,
   "metadata": {},
   "outputs": [
    {
     "name": "stdout",
     "output_type": "stream",
     "text": [
      "* * * * * * * * * * * * \n",
      "* 8 6 7 4 5 7 6 8 2 7 * \n",
      "* 2 9 5 4 0 6 3 6 9 2 * \n",
      "* 7 2 6 9 1 4 1 3 5 3 * \n",
      "* 4 4 7 9 7 2 8 2 0 6 * \n",
      "* 7 3 7 0 8 5 8 1 2 5 * \n",
      "* 2 2 9 3 6 4 5 6 7 2 * \n",
      "* 1 8 7 5 3 6 2 4 2 2 * \n",
      "* 3 8 8 7 6 0 9 3 0 7 * \n",
      "* 0 3 7 7 0 5 8 5 9 1 * \n",
      "* 7 1 0 9 5 8 0 7 0 8 * \n",
      "* * * * * * * * * * * * \n"
     ]
    }
   ],
   "source": [
    "import random\n",
    "a1=['*','*', '*', '*','*','*','*', '*', '*','*','*','*']\n",
    "a = ['*']+[random.randint(0,9) for x in range(10)] + ['*']\n",
    "b=['*']+[random.randint(0,9) for x in range(10)] + ['*']\n",
    "c = ['*']+[random.randint(0,9) for x in range(10)] + ['*']\n",
    "d=['*']+[random.randint(0,9) for x in range(10)] + ['*']\n",
    "e = ['*']+[random.randint(0,9) for x in range(10)] + ['*']\n",
    "f=['*']+[random.randint(0,9) for x in range(10)] + ['*']\n",
    "g =['*']+[random.randint(0,9) for x in range(10)] + ['*']\n",
    "h=['*']+[random.randint(0,9) for x in range(10)] + ['*']\n",
    "j = ['*']+[random.randint(0,9) for x in range(10)] + ['*']\n",
    "k=['*']+[random.randint(0,9) for x in range(10)] + ['*']\n",
    "k2=['*','*', '*', '*','*','*','*', '*', '*','*','*','*']\n",
    "bas= [a1, a, b, c , d , e , f , g , h ,j , k, k2]\n",
    "for row in bas:\n",
    "    for elem in row:\n",
    "        print(elem, end=' ')\n",
    "    print()"
   ]
  },
  {
   "cell_type": "markdown",
   "metadata": {},
   "source": [
    "* I tried cover with '*' but didn't exactly succeed to do it as the one in the instructions"
   ]
  },
  {
   "cell_type": "code",
   "execution_count": 12,
   "metadata": {},
   "outputs": [
    {
     "name": "stdout",
     "output_type": "stream",
     "text": [
      "***********************\n",
      "* 1 1 1 8 4 1 3 7 4 5 * \n",
      "* 8 2 1 3 4 5 8 2 7 8 * \n",
      "* 1 8 9 6 2 2 5 6 7 5 * \n",
      "* 4 3 3 0 8 1 1 2 4 8 * \n",
      "* 1 4 1 4 4 6 3 9 4 4 * \n",
      "* 9 0 0 6 4 2 0 7 0 2 * \n",
      "* 0 8 3 5 8 5 9 5 1 7 * \n",
      "* 5 6 7 5 7 9 2 4 1 6 * \n",
      "* 0 8 5 9 0 7 7 6 5 8 * \n",
      "* 7 4 9 7 6 5 1 4 2 9 * \n",
      "***********************\n"
     ]
    }
   ],
   "source": [
    "import random\n",
    "a1=['*']*23 # helps repeat 23 times\n",
    "a = ['*']+[random.randint(0,9) for x in range(10)] + ['*']\n",
    "b=['*']+[random.randint(0,9) for x in range(10)] + ['*']\n",
    "c = ['*']+[random.randint(0,9) for x in range(10)] + ['*']\n",
    "d=['*']+[random.randint(0,9) for x in range(10)] + ['*']\n",
    "e = ['*']+[random.randint(0,9) for x in range(10)] + ['*']\n",
    "f=['*']+[random.randint(0,9) for x in range(10)] + ['*']\n",
    "g =['*']+[random.randint(0,9) for x in range(10)] + ['*']\n",
    "h=['*']+[random.randint(0,9) for x in range(10)] + ['*']\n",
    "j = ['*']+[random.randint(0,9) for x in range(10)] + ['*']\n",
    "k=['*']+[random.randint(0,9) for x in range(10)] + ['*']\n",
    "bas= [a, b, c , d , e , f , g , h ,j , k]\n",
    "print(''.join(a1)) # draw the 23 stars on top\n",
    "for row in bas:\n",
    "    for elem in row:\n",
    "        print(elem, end=' ')\n",
    "    print()\n",
    "print(''.join(a1))# draw the 23 stars on bottom\n"
   ]
  },
  {
   "cell_type": "markdown",
   "metadata": {},
   "source": [
    "* I tried join and it fix the issue "
   ]
  },
  {
   "cell_type": "markdown",
   "metadata": {},
   "source": [
    "## Step 5: Calculate the row and column"
   ]
  },
  {
   "cell_type": "code",
   "execution_count": 13,
   "metadata": {},
   "outputs": [
    {
     "name": "stdout",
     "output_type": "stream",
     "text": [
      "0 5 6 7 4 1 8 5 4 2 * 42\n",
      "5 4 0 9 5 1 4 3 2 4 * 37\n",
      "1 7 2 0 6 2 1 6 5 8 * 38\n",
      "4 8 4 1 7 7 3 0 2 3 * 39\n",
      "8 6 1 9 0 3 0 5 2 8 * 42\n",
      "7 8 1 4 3 7 0 5 5 0 * 40\n",
      "8 8 6 2 8 8 8 1 5 6 * 60\n",
      "0 4 4 9 2 0 5 2 8 9 * 43\n",
      "5 2 8 7 8 4 3 5 1 7 * 50\n",
      "5 8 9 5 8 7 0 1 0 3 * 46\n",
      "* * * * * * * * * *\n",
      "43 60 41 53 51 40 32 33 34 50\n"
     ]
    }
   ],
   "source": [
    "w, h = 10, 10; #telling how tall and long is the matrix\n",
    "Matrix = [[random.randint(0,9) for x in range(w)] for y in range(h)] #I want to have it in random numbers\n",
    "for row in Matrix:\n",
    "    for elem in row:\n",
    "        print(elem, end=' ')\n",
    "    print(\"*\",sum(row))\n",
    "\n",
    "column1=0\n",
    "column2=1\n",
    "column3=2\n",
    "column4=3\n",
    "column5=4\n",
    "column6=5\n",
    "column7=6\n",
    "column8=7\n",
    "column9=8\n",
    "column10=9\n",
    "\n",
    "col1=sum(row[column1] for row in Matrix)\n",
    "col2=sum(row[column2] for row in Matrix)\n",
    "col3=sum(row[column3] for row in Matrix)\n",
    "col4=sum(row[column4] for row in Matrix)\n",
    "col5=sum(row[column5] for row in Matrix)\n",
    "col6=sum(row[column6] for row in Matrix)\n",
    "col7=sum(row[column7] for row in Matrix)\n",
    "col8=sum(row[column8] for row in Matrix)\n",
    "col9=sum(row[column9] for row in Matrix)\n",
    "col10=sum(row[column10] for row in Matrix)\n",
    "print('*','*','*', '*','*','*','*','*', '*','*')\n",
    "print(col1, col2, col3, col4, col5, col6, col7, col8, col9, col10)"
   ]
  },
  {
   "cell_type": "markdown",
   "metadata": {},
   "source": [
    "* I tried to align it but didn't succeed"
   ]
  },
  {
   "cell_type": "code",
   "execution_count": 14,
   "metadata": {},
   "outputs": [
    {
     "name": "stdout",
     "output_type": "stream",
     "text": [
      " 8  9  9  1  9  0  9  5  4  8 * 62\n",
      " 7  2  9  8  2  3  9  8  4  4 * 56\n",
      " 3  1  1  0  8  4  6  3  4  4 * 34\n",
      " 1  7  6  0  3  6  7  9  4  2 * 45\n",
      " 6  7  4  2  4  2  5  4  5  6 * 45\n",
      " 0  4  5  2  9  6  2  0  5  9 * 42\n",
      " 2  2  5  8  2  8  6  0  2  0 * 35\n",
      " 9  8  1  3  4  9  5  4  8  2 * 53\n",
      " 9  1  9  9  2  3  9  5  4  7 * 58\n",
      " 4  6  9  5  7  7  1  3  7  1 * 50\n",
      " *  *  *  *  *  *  *  *  *  * \n",
      "49 47 58 38 50 48 59 41 47 43\n"
     ]
    }
   ],
   "source": [
    "import random\n",
    "w, h = 10, 10; #telling how tall and long is the matrix\n",
    "Matrix = [[random.randint(0,9) for x in range(w)] for y in range(h)] #I want to have it in random numbers\n",
    "for row in Matrix:\n",
    "    for elem in row:\n",
    "        print(' ' + str(elem), end=' ')\n",
    "    print(\"*\",sum(row))\n",
    "\n",
    "column1=0\n",
    "column2=1\n",
    "column3=2\n",
    "column4=3\n",
    "column5=4\n",
    "column6=5\n",
    "column7=6\n",
    "column8=7\n",
    "column9=8\n",
    "column10=9\n",
    "\n",
    "col1=sum(row[column1] for row in Matrix)\n",
    "col2=sum(row[column2] for row in Matrix)\n",
    "col3=sum(row[column3] for row in Matrix)\n",
    "col4=sum(row[column4] for row in Matrix)\n",
    "col5=sum(row[column5] for row in Matrix)\n",
    "col6=sum(row[column6] for row in Matrix)\n",
    "col7=sum(row[column7] for row in Matrix)\n",
    "col8=sum(row[column8] for row in Matrix)\n",
    "col9=sum(row[column9] for row in Matrix)\n",
    "col10=sum(row[column10] for row in Matrix)\n",
    "star=[' * ']*10\n",
    "print(''.join(star))\n",
    "print(col1, col2, col3, col4, col5, col6, col7, col8, col9, col10)"
   ]
  },
  {
   "cell_type": "markdown",
   "metadata": {},
   "source": [
    "* I tried join & it solved the aligment issue "
   ]
  }
 ],
 "metadata": {
  "kernelspec": {
   "display_name": "Python 3",
   "language": "python",
   "name": "python3"
  },
  "language_info": {
   "codemirror_mode": {
    "name": "ipython",
    "version": 3
   },
   "file_extension": ".py",
   "mimetype": "text/x-python",
   "name": "python",
   "nbconvert_exporter": "python",
   "pygments_lexer": "ipython3",
   "version": "3.7.6"
  }
 },
 "nbformat": 4,
 "nbformat_minor": 4
}

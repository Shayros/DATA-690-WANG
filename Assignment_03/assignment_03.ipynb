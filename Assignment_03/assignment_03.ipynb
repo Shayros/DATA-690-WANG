{
 "cells": [
  {
   "cell_type": "markdown",
   "metadata": {},
   "source": [
    "# Assignment # 3\n",
    "**Name:** Shaimar R. Gonzaález Morales\n",
    "\n",
    "**Date:** 2/16/2021"
   ]
  },
  {
   "cell_type": "markdown",
   "metadata": {},
   "source": [
    "## Step 1: Creating a maxtrix 10 x 10"
   ]
  },
  {
   "cell_type": "code",
   "execution_count": 2,
   "metadata": {},
   "outputs": [
    {
     "name": "stdout",
     "output_type": "stream",
     "text": [
      "5 6 1 0 6 7 9 4 8 0 \n",
      "8 0 1 3 4 9 9 7 0 4 \n",
      "4 9 6 3 2 2 7 6 8 8 \n",
      "5 3 1 2 6 6 4 1 7 5 \n",
      "0 6 5 5 8 9 8 8 9 5 \n",
      "4 5 6 6 6 4 6 9 9 2 \n",
      "7 1 7 6 9 5 4 6 5 6 \n",
      "0 7 2 2 8 9 3 1 0 8 \n",
      "6 5 3 3 3 7 5 6 9 3 \n",
      "8 1 0 0 9 6 3 3 5 2 \n"
     ]
    }
   ],
   "source": [
    "import random\n",
    "w, h = 10, 10; #telling how tall and long is the matrix\n",
    "Matrix = [[random.randint(0,9) for x in range(w)] for y in range(h)] #I want to have it in random numbers\n",
    "for row in Matrix:\n",
    "    for elem in row:\n",
    "        print(elem, end=' ') # how I want the data to be display\n",
    "    print()"
   ]
  },
  {
   "cell_type": "markdown",
   "metadata": {},
   "source": [
    "## Step 2: Sustitute odd number"
   ]
  },
  {
   "cell_type": "code",
   "execution_count": 3,
   "metadata": {},
   "outputs": [
    {
     "name": "stdout",
     "output_type": "stream",
     "text": [
      "8 @ @ 6 @ @ 2 0 4 @ \n",
      "@ @ @ 8 @ @ @ @ @ @ \n",
      "4 4 0 @ 0 8 @ 6 @ @ \n",
      "2 6 6 8 4 @ 6 4 @ @ \n",
      "0 2 6 2 @ @ 2 @ @ 8 \n",
      "@ 0 @ @ 0 4 @ @ 4 6 \n",
      "2 0 8 0 4 6 2 8 @ 8 \n",
      "@ 4 @ 0 6 @ 6 4 6 @ \n",
      "8 @ @ 2 4 @ @ 0 @ 4 \n",
      "0 8 @ 6 @ 6 @ @ @ @ \n"
     ]
    }
   ],
   "source": [
    "import random\n",
    "w, h = 10, 10; #telling how tall and long is the matrix\n",
    "Matrix = [[random.randint(0,9) for x in range(w)] for y in range(h)] #I want to have it in random numbers\n",
    "for row in Matrix:\n",
    "    for elem in row:\n",
    "        if elem % 2==0: # check if even number\n",
    "            print(elem, end=' ')\n",
    "        else:\n",
    "            print('@',end=' ') # sustitute for '@' when see odd number\n",
    "    print()"
   ]
  },
  {
   "cell_type": "markdown",
   "metadata": {},
   "source": [
    "## Step 3: Calculate and print total "
   ]
  },
  {
   "cell_type": "code",
   "execution_count": 4,
   "metadata": {},
   "outputs": [
    {
     "name": "stdout",
     "output_type": "stream",
     "text": [
      "8 7 7 0 7 4 3 2 1 2 * 41\n",
      "6 4 6 6 5 5 8 2 7 5 * 54\n",
      "9 9 7 5 9 1 5 7 3 5 * 60\n",
      "6 0 2 1 6 9 1 9 9 8 * 51\n",
      "3 1 1 5 9 7 2 7 2 1 * 38\n",
      "2 1 8 1 2 6 0 8 4 1 * 33\n",
      "3 6 2 3 1 2 6 5 2 4 * 34\n",
      "8 0 3 4 8 8 8 7 9 0 * 55\n",
      "4 8 6 8 6 1 6 2 3 7 * 51\n",
      "1 6 9 1 4 3 1 9 6 0 * 40\n"
     ]
    }
   ],
   "source": [
    "import random\n",
    "w, h = 10, 10; #telling how tall and long is the matrix\n",
    "Matrix = [[random.randint(0,9) for x in range(w)] for y in range(h)] #I want to have it in random numbers\n",
    "for row in Matrix:\n",
    "    for elem in row:\n",
    "        print(elem, end=' ')\n",
    "    print(\"*\",sum(row))# print the total of the row and put it on the side"
   ]
  },
  {
   "cell_type": "markdown",
   "metadata": {},
   "source": [
    "## Step 4: Sorounding matrix with '*'"
   ]
  },
  {
   "cell_type": "code",
   "execution_count": 5,
   "metadata": {},
   "outputs": [
    {
     "name": "stdout",
     "output_type": "stream",
     "text": [
      "* * * * * * * * * *\n",
      "1 9 4 1 9 6 7 7 5 2 *\n",
      "3 3 9 4 3 0 3 9 2 4 *\n",
      "5 0 6 8 2 0 7 9 3 0 *\n",
      "2 8 7 6 0 8 6 6 9 0 *\n",
      "5 6 5 8 7 7 6 5 9 3 *\n",
      "5 9 7 6 3 6 9 8 0 7 *\n",
      "0 6 5 8 5 8 3 9 5 5 *\n",
      "2 8 0 2 7 6 9 4 4 8 *\n",
      "0 1 9 6 1 6 7 8 7 0 *\n",
      "9 6 7 5 0 5 6 9 2 7 *\n",
      "* * * * * * * * * *\n"
     ]
    }
   ],
   "source": [
    "import random\n",
    "w, h = 10, 10; #telling how tall and long is the matrix\n",
    "Matrix = [[random.randint(0,9) for x in range(w)] for y in range(h)] #I want to have it in random numbers\n",
    "print('*','*','*', '*','*','*','*','*', '*','*')\n",
    "for row in Matrix:\n",
    "    for elem in row:\n",
    "        print (elem, end=' ')\n",
    "    print(\"*\")\n",
    "print('*','*','*', '*','*','*','*','*', '*','*')\n"
   ]
  },
  {
   "cell_type": "code",
   "execution_count": 6,
   "metadata": {},
   "outputs": [
    {
     "name": "stdout",
     "output_type": "stream",
     "text": [
      "* * * * * * * * * * * * \n",
      "* 5 6 8 8 3 3 0 8 6 6 * \n",
      "* 8 6 7 2 8 3 4 7 3 9 * \n",
      "* 3 4 3 8 1 4 0 0 3 6 * \n",
      "* 9 8 3 4 9 0 3 3 1 2 * \n",
      "* 3 0 9 1 1 8 3 5 9 3 * \n",
      "* 9 6 4 5 2 3 6 1 6 7 * \n",
      "* 5 7 0 7 7 5 8 9 5 5 * \n",
      "* 5 7 2 8 5 4 9 6 4 5 * \n",
      "* 2 1 4 4 2 5 7 6 6 8 * \n",
      "* 5 0 7 3 8 1 0 5 7 5 * \n",
      "* * * * * * * * * * * * \n"
     ]
    }
   ],
   "source": [
    "import random\n",
    "a1=['*','*', '*', '*','*','*','*', '*', '*','*','*','*']\n",
    "a = ['*']+[random.randint(0,9) for x in range(10)] + ['*']\n",
    "b=['*']+[random.randint(0,9) for x in range(10)] + ['*']\n",
    "c = ['*']+[random.randint(0,9) for x in range(10)] + ['*']\n",
    "d=['*']+[random.randint(0,9) for x in range(10)] + ['*']\n",
    "e = ['*']+[random.randint(0,9) for x in range(10)] + ['*']\n",
    "f=['*']+[random.randint(0,9) for x in range(10)] + ['*']\n",
    "g =['*']+[random.randint(0,9) for x in range(10)] + ['*']\n",
    "h=['*']+[random.randint(0,9) for x in range(10)] + ['*']\n",
    "j = ['*']+[random.randint(0,9) for x in range(10)] + ['*']\n",
    "k=['*']+[random.randint(0,9) for x in range(10)] + ['*']\n",
    "k2=['*','*', '*', '*','*','*','*', '*', '*','*','*','*']\n",
    "bas= [a1, a, b, c , d , e , f , g , h ,j , k, k2]\n",
    "for row in bas:\n",
    "    for elem in row:\n",
    "        print(elem, end=' ')\n",
    "    print()"
   ]
  },
  {
   "cell_type": "markdown",
   "metadata": {},
   "source": [
    "* I tried cover with '*' but didn't exactly succeed to do it as the one in the instructions"
   ]
  },
  {
   "cell_type": "markdown",
   "metadata": {},
   "source": [
    "## Step 5: Calculate the row and column"
   ]
  },
  {
   "cell_type": "code",
   "execution_count": 7,
   "metadata": {},
   "outputs": [
    {
     "name": "stdout",
     "output_type": "stream",
     "text": [
      "7 3 2 5 1 4 6 3 4 9 * 44\n",
      "8 0 5 2 8 8 5 9 2 5 * 52\n",
      "0 4 3 3 2 0 5 0 7 7 * 31\n",
      "5 9 1 9 9 1 7 1 8 9 * 59\n",
      "4 0 0 8 5 1 2 7 7 8 * 42\n",
      "5 1 1 7 5 1 7 1 2 5 * 35\n",
      "6 1 8 4 6 9 0 2 7 6 * 49\n",
      "0 8 2 9 3 3 8 2 3 6 * 44\n",
      "9 7 3 9 0 2 6 7 2 8 * 53\n",
      "7 6 1 8 4 3 8 2 4 9 * 52\n",
      "* * * * * * * * * *\n",
      "51 39 26 64 43 32 54 34 46 72\n"
     ]
    }
   ],
   "source": [
    "w, h = 10, 10; #telling how tall and long is the matrix\n",
    "Matrix = [[random.randint(0,9) for x in range(w)] for y in range(h)] #I want to have it in random numbers\n",
    "for row in Matrix:\n",
    "    for elem in row:\n",
    "        print(elem, end=' ')\n",
    "    print(\"*\",sum(row))\n",
    "\n",
    "column1=0\n",
    "column2=1\n",
    "column3=2\n",
    "column4=3\n",
    "column5=4\n",
    "column6=5\n",
    "column7=6\n",
    "column8=7\n",
    "column9=8\n",
    "column10=9\n",
    "\n",
    "col1=sum(row[column1] for row in Matrix)\n",
    "col2=sum(row[column2] for row in Matrix)\n",
    "col3=sum(row[column3] for row in Matrix)\n",
    "col4=sum(row[column4] for row in Matrix)\n",
    "col5=sum(row[column5] for row in Matrix)\n",
    "col6=sum(row[column6] for row in Matrix)\n",
    "col7=sum(row[column7] for row in Matrix)\n",
    "col8=sum(row[column8] for row in Matrix)\n",
    "col9=sum(row[column9] for row in Matrix)\n",
    "col10=sum(row[column10] for row in Matrix)\n",
    "print('*','*','*', '*','*','*','*','*', '*','*')\n",
    "print(col1, col2, col3, col4, col5, col6, col7, col8, col9, col10)"
   ]
  },
  {
   "cell_type": "markdown",
   "metadata": {},
   "source": [
    "* I tried to align it but didn't succeed"
   ]
  }
 ],
 "metadata": {
  "kernelspec": {
   "display_name": "Python 3",
   "language": "python",
   "name": "python3"
  },
  "language_info": {
   "codemirror_mode": {
    "name": "ipython",
    "version": 3
   },
   "file_extension": ".py",
   "mimetype": "text/x-python",
   "name": "python",
   "nbconvert_exporter": "python",
   "pygments_lexer": "ipython3",
   "version": "3.7.6"
  }
 },
 "nbformat": 4,
 "nbformat_minor": 4
}

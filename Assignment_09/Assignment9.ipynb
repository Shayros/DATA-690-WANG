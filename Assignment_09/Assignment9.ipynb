{
  "cells": [
    {
      "cell_type": "markdown",
      "source": "# Assignment 9\n\nName: Shaimar R. Gonzaález Morales\n\nDate: 2/25/21",
      "metadata": {
        "tags": [],
        "cell_id": "00000-e5d373dc-532a-43cb-bfae-43f7c3e50f44",
        "deepnote_cell_type": "markdown"
      }
    },
    {
      "cell_type": "markdown",
      "source": "## 1. Load libraries",
      "metadata": {
        "tags": [],
        "cell_id": "00001-8ce83d4a-8eda-4621-8595-6863df69a832",
        "deepnote_cell_type": "markdown"
      }
    },
    {
      "cell_type": "code",
      "metadata": {
        "tags": [],
        "cell_id": "00001-57a44610-7646-43c5-905b-96d437a62a8d",
        "deepnote_to_be_reexecuted": false,
        "source_hash": "c2602aa8",
        "execution_millis": 0,
        "execution_start": 1619432657115,
        "deepnote_cell_type": "code"
      },
      "source": "import numpy as np",
      "execution_count": 1,
      "outputs": []
    },
    {
      "cell_type": "markdown",
      "source": "## 2. Data processing",
      "metadata": {
        "tags": [],
        "cell_id": "00003-7aed81ff-b79f-4867-bb4d-5650165f70e6",
        "deepnote_cell_type": "markdown"
      }
    },
    {
      "cell_type": "markdown",
      "source": "A random survey of enrollment at 35 community colleges across the United States ",
      "metadata": {
        "tags": [],
        "cell_id": "00004-f53cb231-85c7-4bfc-846e-d71963c385cc",
        "deepnote_cell_type": "markdown"
      }
    },
    {
      "cell_type": "code",
      "metadata": {
        "tags": [],
        "cell_id": "00000-b00d1c6d-d821-4020-a176-d626b21a4f34",
        "deepnote_to_be_reexecuted": false,
        "source_hash": "f5e17635",
        "execution_millis": 8,
        "execution_start": 1619432657115,
        "deepnote_cell_type": "code"
      },
      "source": "data_1 = \"6,414; 1,550; 2,109; 9,350; 21,828; 4,300; 5,944; 5,722; 2,825; 2,044;\" \ndata_2 = \"5,481; 5,200; 5,853; 2,750; 10,012; 6,357; 27,000; 9,414; 7,681; 3,200; \"\ndata_3 = \"17,500; 9,200; 7,380; 18,314; 6,557; 13,713; 17,768; 7,493; 2,771; 2,861; \"\ndata_4 = \"1,263; 7,285; 28,165; 5,080; 11,622\"\ndata = data_1 + data_2 + data_3 + data_4 # adding string together\ndata",
      "execution_count": 2,
      "outputs": [
        {
          "output_type": "execute_result",
          "execution_count": 2,
          "data": {
            "text/plain": "'6,414; 1,550; 2,109; 9,350; 21,828; 4,300; 5,944; 5,722; 2,825; 2,044;5,481; 5,200; 5,853; 2,750; 10,012; 6,357; 27,000; 9,414; 7,681; 3,200; 17,500; 9,200; 7,380; 18,314; 6,557; 13,713; 17,768; 7,493; 2,771; 2,861; 1,263; 7,285; 28,165; 5,080; 11,622'"
          },
          "metadata": {}
        }
      ]
    },
    {
      "cell_type": "markdown",
      "source": "Convert the single string to a list without ' ; '",
      "metadata": {
        "tags": [],
        "cell_id": "00005-03b62792-433e-4f83-9833-a646e401c3a2",
        "deepnote_cell_type": "markdown"
      }
    },
    {
      "cell_type": "code",
      "metadata": {
        "tags": [],
        "cell_id": "00006-d325f1db-fa36-4126-8fab-17c3db81fb0b",
        "deepnote_to_be_reexecuted": false,
        "source_hash": "3bf5ba14",
        "execution_millis": 0,
        "execution_start": 1619432657117,
        "deepnote_cell_type": "code"
      },
      "source": "def Convert(string):\n    ls = list(string.split(';')) # split allow to brake the str when it see ';'\n    return ls",
      "execution_count": 3,
      "outputs": []
    },
    {
      "cell_type": "code",
      "metadata": {
        "tags": [],
        "cell_id": "00007-b7fe7ced-a873-49df-8f86-067b8c3ca71e",
        "deepnote_to_be_reexecuted": false,
        "source_hash": "457a3860",
        "execution_millis": 10,
        "execution_start": 1619432657120,
        "deepnote_cell_type": "code"
      },
      "source": "data_list=Convert(data) # applying the function\ndata_list",
      "execution_count": 4,
      "outputs": [
        {
          "output_type": "execute_result",
          "execution_count": 4,
          "data": {
            "text/plain": "['6,414',\n ' 1,550',\n ' 2,109',\n ' 9,350',\n ' 21,828',\n ' 4,300',\n ' 5,944',\n ' 5,722',\n ' 2,825',\n ' 2,044',\n '5,481',\n ' 5,200',\n ' 5,853',\n ' 2,750',\n ' 10,012',\n ' 6,357',\n ' 27,000',\n ' 9,414',\n ' 7,681',\n ' 3,200',\n ' 17,500',\n ' 9,200',\n ' 7,380',\n ' 18,314',\n ' 6,557',\n ' 13,713',\n ' 17,768',\n ' 7,493',\n ' 2,771',\n ' 2,861',\n ' 1,263',\n ' 7,285',\n ' 28,165',\n ' 5,080',\n ' 11,622']"
          },
          "metadata": {}
        }
      ]
    },
    {
      "cell_type": "markdown",
      "source": "Removed commas and convert to integers",
      "metadata": {
        "tags": [],
        "cell_id": "00008-7f659c01-0b53-46fe-a6ae-deda5866e6cd",
        "deepnote_cell_type": "markdown"
      }
    },
    {
      "cell_type": "code",
      "metadata": {
        "tags": [],
        "cell_id": "00009-f0880152-0084-46dc-8b47-04ccbaf60028",
        "deepnote_to_be_reexecuted": false,
        "source_hash": "e134463c",
        "execution_millis": 43,
        "execution_start": 1619432657143,
        "deepnote_cell_type": "code"
      },
      "source": "data_int = []\n\nfor s in data_list:\n\n    new = s.replace(\",\", \"\") # taking commas out\n    data_int.append(int(new)) # converting elements to integers\n\ndata_int",
      "execution_count": 5,
      "outputs": [
        {
          "output_type": "execute_result",
          "execution_count": 5,
          "data": {
            "text/plain": "[6414,\n 1550,\n 2109,\n 9350,\n 21828,\n 4300,\n 5944,\n 5722,\n 2825,\n 2044,\n 5481,\n 5200,\n 5853,\n 2750,\n 10012,\n 6357,\n 27000,\n 9414,\n 7681,\n 3200,\n 17500,\n 9200,\n 7380,\n 18314,\n 6557,\n 13713,\n 17768,\n 7493,\n 2771,\n 2861,\n 1263,\n 7285,\n 28165,\n 5080,\n 11622]"
          },
          "metadata": {}
        }
      ]
    },
    {
      "cell_type": "markdown",
      "source": "## 3. Calculate sample size and sample mean",
      "metadata": {
        "tags": [],
        "cell_id": "00010-0c99f920-68a1-4173-8118-5b7560a13d73",
        "deepnote_cell_type": "markdown"
      }
    },
    {
      "cell_type": "markdown",
      "source": "Size",
      "metadata": {
        "tags": [],
        "cell_id": "00011-de988489-7c61-47b2-a9e8-dfdb1e81c171",
        "deepnote_cell_type": "markdown"
      }
    },
    {
      "cell_type": "code",
      "metadata": {
        "tags": [],
        "cell_id": "00011-bb27896e-4bbb-4a18-9bed-5bf29ce26a38",
        "deepnote_to_be_reexecuted": false,
        "source_hash": "5604529d",
        "execution_millis": 42,
        "execution_start": 1619432657144,
        "deepnote_cell_type": "code"
      },
      "source": "sample_size=len(data_int)\nsample_size",
      "execution_count": 6,
      "outputs": [
        {
          "output_type": "execute_result",
          "execution_count": 6,
          "data": {
            "text/plain": "35"
          },
          "metadata": {}
        }
      ]
    },
    {
      "cell_type": "markdown",
      "source": "Alternative method of display",
      "metadata": {
        "tags": [],
        "cell_id": "00014-3a7ad64e-1b34-4a9f-bd1f-016d58d172a3",
        "deepnote_cell_type": "markdown"
      }
    },
    {
      "cell_type": "code",
      "metadata": {
        "tags": [],
        "cell_id": "00015-e6c00015-3687-493b-a118-ffa07abbb100",
        "deepnote_to_be_reexecuted": false,
        "source_hash": "949a9487",
        "execution_millis": 41,
        "execution_start": 1619432657145,
        "deepnote_cell_type": "code"
      },
      "source": "print ('Sample size = {}'.format(sample_size))",
      "execution_count": 7,
      "outputs": [
        {
          "name": "stdout",
          "text": "Sample size = 35\n",
          "output_type": "stream"
        }
      ]
    },
    {
      "cell_type": "markdown",
      "source": "Sample mean",
      "metadata": {
        "tags": [],
        "cell_id": "00014-3453ac57-6cf1-4ec4-92cf-4a8df028c9a1",
        "deepnote_cell_type": "markdown"
      }
    },
    {
      "cell_type": "code",
      "metadata": {
        "tags": [],
        "cell_id": "00010-195254ca-7535-4a84-a526-67d9ffa89421",
        "deepnote_to_be_reexecuted": false,
        "source_hash": "ddcaa6f1",
        "execution_millis": 37,
        "execution_start": 1619432657149,
        "deepnote_cell_type": "code"
      },
      "source": "sample_mean=(sum(data_int))/(len(data_int))\nsample_mean=(round(sample_mean, 0)) # the zero will round elements and leaving it as float\nsample_mean",
      "execution_count": 8,
      "outputs": [
        {
          "output_type": "execute_result",
          "execution_count": 8,
          "data": {
            "text/plain": "8629.0"
          },
          "metadata": {}
        }
      ]
    },
    {
      "cell_type": "markdown",
      "source": "alternative",
      "metadata": {
        "tags": [],
        "cell_id": "00014-ff5198b3-918a-4564-bfb6-3620d1d302a8",
        "deepnote_cell_type": "markdown"
      }
    },
    {
      "cell_type": "code",
      "metadata": {
        "tags": [],
        "cell_id": "00015-2d271088-a1ce-45c9-ace3-c881423fa9d8",
        "deepnote_to_be_reexecuted": false,
        "source_hash": "9fe8988e",
        "execution_millis": 27,
        "execution_start": 1619432657159,
        "deepnote_cell_type": "code"
      },
      "source": "import statistics\n\nsample_mean2=statistics.mean(data_int)\nprint(round(sample_mean2, 0))",
      "execution_count": 9,
      "outputs": [
        {
          "name": "stdout",
          "text": "8629.0\n",
          "output_type": "stream"
        }
      ]
    },
    {
      "cell_type": "markdown",
      "source": "Alternative method of display",
      "metadata": {
        "tags": [],
        "cell_id": "00020-442b07a0-0bff-4469-bce0-a46cc6014e02",
        "deepnote_cell_type": "markdown"
      }
    },
    {
      "cell_type": "code",
      "metadata": {
        "tags": [],
        "cell_id": "00021-ccc1ef38-4a83-4d5b-a977-e7258bceffbd",
        "deepnote_to_be_reexecuted": false,
        "source_hash": "b50ba5a",
        "execution_millis": 22,
        "execution_start": 1619432657165,
        "deepnote_cell_type": "code"
      },
      "source": "print ('Sample mean = {}'.format(sample_mean))",
      "execution_count": 10,
      "outputs": [
        {
          "name": "stdout",
          "text": "Sample mean = 8629.0\n",
          "output_type": "stream"
        }
      ]
    },
    {
      "cell_type": "markdown",
      "source": "## 4. Calculate standard deviation and standard error",
      "metadata": {
        "tags": [],
        "cell_id": "00017-780b1022-9c8e-4345-8a00-a94ba14f6530",
        "deepnote_cell_type": "markdown"
      }
    },
    {
      "cell_type": "markdown",
      "source": "Standard Deviation $S=\\sqrt{\\dfrac{1}{n-1}\\sum\\limits_{i=1}^n (X_i-\\bar{X})^2}$",
      "metadata": {
        "tags": [],
        "cell_id": "00018-03c3b676-be9d-480f-8a9c-575e1ebd1ead",
        "deepnote_cell_type": "markdown"
      }
    },
    {
      "cell_type": "markdown",
      "source": "Standard Deviation:",
      "metadata": {
        "tags": [],
        "cell_id": "00019-76fd89e0-50c7-428c-a526-d06cc39d6524",
        "deepnote_cell_type": "markdown"
      }
    },
    {
      "cell_type": "code",
      "metadata": {
        "tags": [],
        "cell_id": "00017-4bc3f67a-21e0-4470-af00-fb1362349c7a",
        "deepnote_to_be_reexecuted": false,
        "source_hash": "33d07463",
        "execution_millis": 21,
        "execution_start": 1619432657166,
        "deepnote_cell_type": "code"
      },
      "source": "data_st=np.std(data_int)\nprint(round(data_st,0))",
      "execution_count": 11,
      "outputs": [
        {
          "name": "stdout",
          "text": "6844.0\n",
          "output_type": "stream"
        }
      ]
    },
    {
      "cell_type": "markdown",
      "source": "Alternative method to corroborate results",
      "metadata": {
        "tags": [],
        "cell_id": "00021-7f54a178-15dc-49be-9742-b7dbee1c4af0",
        "deepnote_cell_type": "markdown"
      }
    },
    {
      "cell_type": "code",
      "metadata": {
        "tags": [],
        "cell_id": "00022-3e76c644-b12f-4fb0-b41b-b8b554107bfc",
        "deepnote_to_be_reexecuted": false,
        "source_hash": "eeb87731",
        "execution_millis": 2,
        "execution_start": 1619432657172,
        "deepnote_cell_type": "code"
      },
      "source": "def Mean1(a):\n    '''Function calculate the the sum of values in the list \n    and the total numbers of the list return the mean'''\n    sum_list=sum(a)\n    len_list=len(a)\n    mean_num=c=sum_list/len(data_int)\n    return(mean_num)",
      "execution_count": 12,
      "outputs": []
    },
    {
      "cell_type": "code",
      "metadata": {
        "tags": [],
        "cell_id": "00020-25791038-693c-4d36-b164-5ee3b773e001",
        "deepnote_to_be_reexecuted": false,
        "source_hash": "af75f6da",
        "execution_millis": 1,
        "execution_start": 1619432657176,
        "deepnote_cell_type": "code"
      },
      "source": "def Variance(a):\n    m=Mean1(a)\n    b=sum((x-m)**2 for x in a)\n    len_list=len(a)\n    variance_num=b/len(data_int)\n    return(variance_num)",
      "execution_count": 13,
      "outputs": []
    },
    {
      "cell_type": "code",
      "metadata": {
        "tags": [],
        "cell_id": "00023-bb244ea7-baa6-404d-87e9-c8f16522ff87",
        "deepnote_to_be_reexecuted": false,
        "source_hash": "157fed49",
        "execution_millis": 1,
        "execution_start": 1619432657196,
        "deepnote_cell_type": "code"
      },
      "source": "import math\ndef Standard(a):\n    variance_list=Variance(a)\n    standard_num=math.sqrt(variance_list)\n    return(standard_num)",
      "execution_count": 14,
      "outputs": []
    },
    {
      "cell_type": "code",
      "metadata": {
        "tags": [],
        "cell_id": "00024-f5c99abc-9c05-4a85-9687-e21208eb3ff3",
        "deepnote_to_be_reexecuted": false,
        "source_hash": "68a7b0c8",
        "execution_millis": 16,
        "execution_start": 1619432657197,
        "deepnote_cell_type": "code"
      },
      "source": "st_data=Standard(data_int)\nst_data=(round(st_data,0))\nst_data",
      "execution_count": 15,
      "outputs": [
        {
          "output_type": "execute_result",
          "execution_count": 15,
          "data": {
            "text/plain": "6844.0"
          },
          "metadata": {}
        }
      ]
    },
    {
      "cell_type": "markdown",
      "source": "Alternative method of display",
      "metadata": {
        "tags": [],
        "cell_id": "00031-e004aeee-e2fd-44b3-9e0d-a0210e9c03f5",
        "deepnote_cell_type": "markdown"
      }
    },
    {
      "cell_type": "code",
      "metadata": {
        "tags": [],
        "cell_id": "00032-2000176a-7fd7-4834-b883-d9bc45f3a140",
        "deepnote_to_be_reexecuted": false,
        "source_hash": "3b3565b8",
        "execution_millis": 15,
        "execution_start": 1619432657198,
        "deepnote_cell_type": "code"
      },
      "source": "print ('Sample Standard Deviation = {}'.format(st_data))",
      "execution_count": 16,
      "outputs": [
        {
          "name": "stdout",
          "text": "Sample Standard Deviation = 6844.0\n",
          "output_type": "stream"
        }
      ]
    },
    {
      "cell_type": "markdown",
      "source": "Standard Error = $\\dfrac{S}{\\sqrt{n}}$\n\nStandard Error:",
      "metadata": {
        "tags": [],
        "cell_id": "00023-baea2fd1-498b-487e-a324-8238f9fc751e",
        "deepnote_cell_type": "markdown"
      }
    },
    {
      "cell_type": "code",
      "metadata": {
        "tags": [],
        "cell_id": "00024-5ec4a350-629f-4b49-858f-eeb145b849e8",
        "deepnote_to_be_reexecuted": false,
        "source_hash": "7647909c",
        "execution_millis": 645,
        "execution_start": 1619432657200,
        "deepnote_cell_type": "code"
      },
      "source": "from scipy import stats\n\nst_error= stats.sem(data_int)\nst_error=(round(st_error,0))\nst_error",
      "execution_count": 17,
      "outputs": [
        {
          "output_type": "execute_result",
          "execution_count": 17,
          "data": {
            "text/plain": "1174.0"
          },
          "metadata": {}
        }
      ]
    },
    {
      "cell_type": "markdown",
      "source": "Alternative method of display",
      "metadata": {
        "tags": [],
        "cell_id": "00033-9c33b758-ab2a-488f-9c24-cf1fb44407b8",
        "deepnote_cell_type": "markdown"
      }
    },
    {
      "cell_type": "code",
      "metadata": {
        "tags": [],
        "cell_id": "00034-afaa613a-2191-4ad0-bb0e-aba8b49a8e4a",
        "deepnote_to_be_reexecuted": false,
        "source_hash": "a03d008",
        "execution_millis": 12,
        "execution_start": 1619432657838,
        "deepnote_cell_type": "code"
      },
      "source": "print ('Sample Standard Error is {}'.format(st_error))",
      "execution_count": 18,
      "outputs": [
        {
          "name": "stdout",
          "text": "Sample Standard Error is 1174.0\n",
          "output_type": "stream"
        }
      ]
    },
    {
      "cell_type": "markdown",
      "source": "## 5. Calculate t value using t-distribution",
      "metadata": {
        "tags": [],
        "cell_id": "00028-80c69208-4dfe-4707-957d-7afbb96f1a84",
        "deepnote_cell_type": "markdown"
      }
    },
    {
      "cell_type": "markdown",
      "source": "$\\alpha$ = 1 - Confidence Level = 1 - 95% = 0.05\n\n$\\dfrac{\\alpha}{2}$ = 0.025\n\nn (sample size) = 35\n\ndf (degree of freedom) = n - 1 = 35 - 1 = 34",
      "metadata": {
        "tags": [],
        "cell_id": "00029-3f222218-aa20-48af-8808-4d56bf515c0a",
        "deepnote_cell_type": "markdown"
      }
    },
    {
      "cell_type": "code",
      "metadata": {
        "tags": [],
        "cell_id": "00030-c1171743-de0c-4dcf-9f4a-2869247bf021",
        "deepnote_to_be_reexecuted": false,
        "source_hash": "80e6c3be",
        "execution_millis": 0,
        "execution_start": 1619432657858,
        "deepnote_cell_type": "code"
      },
      "source": "import scipy",
      "execution_count": 19,
      "outputs": []
    },
    {
      "cell_type": "code",
      "metadata": {
        "tags": [],
        "cell_id": "00030-2a073107-771c-4725-890c-bc9c7d962a64",
        "deepnote_to_be_reexecuted": false,
        "source_hash": "2995017",
        "execution_millis": 0,
        "execution_start": 1619432657859,
        "deepnote_cell_type": "code"
      },
      "source": "from scipy.stats import t",
      "execution_count": 20,
      "outputs": []
    },
    {
      "cell_type": "code",
      "metadata": {
        "tags": [],
        "cell_id": "00031-67dcdc7e-8492-4e24-8ae1-d799e061deea",
        "deepnote_to_be_reexecuted": false,
        "source_hash": "ad872fd",
        "execution_millis": 36,
        "execution_start": 1619432657859,
        "deepnote_cell_type": "code"
      },
      "source": "t_critical_value=scipy.stats.t.ppf(df=34, q=1-0.025) #q= alpha/2 \nt_critical_value=(round(t_critical_value, 2))\nt_critical_value",
      "execution_count": 21,
      "outputs": [
        {
          "output_type": "execute_result",
          "execution_count": 21,
          "data": {
            "text/plain": "2.03"
          },
          "metadata": {}
        }
      ]
    },
    {
      "cell_type": "markdown",
      "source": "Alternative method of display",
      "metadata": {
        "tags": [],
        "cell_id": "00034-cddb62b1-5fbd-47b0-9873-2e9f61b8861a",
        "deepnote_cell_type": "markdown"
      }
    },
    {
      "cell_type": "code",
      "metadata": {
        "tags": [],
        "cell_id": "00035-5fdd457a-b87a-4ff1-bc3b-7cd628ee8459",
        "deepnote_to_be_reexecuted": false,
        "source_hash": "4e1c5574",
        "execution_millis": 35,
        "execution_start": 1619432657860,
        "deepnote_cell_type": "code"
      },
      "source": "print ('t critical value= {}'.format(t_critical_value))",
      "execution_count": 22,
      "outputs": [
        {
          "name": "stdout",
          "text": "t critical value= 2.03\n",
          "output_type": "stream"
        }
      ]
    },
    {
      "cell_type": "markdown",
      "source": "## 6. Calculate margin of error",
      "metadata": {
        "tags": [],
        "cell_id": "00033-393bdad3-74ed-44bb-9132-6a334ed919ca",
        "deepnote_cell_type": "markdown"
      }
    },
    {
      "cell_type": "markdown",
      "source": "Margin of Error = t-Statistics * Sample Standard Error = $t_{\\alpha/2,n-1}\\left(\\dfrac{s}{\\sqrt{n}}\\right)$\n",
      "metadata": {
        "tags": [],
        "cell_id": "00034-98b20d73-cf35-4a4c-9a0e-3cdfd992f4b9",
        "deepnote_cell_type": "markdown"
      }
    },
    {
      "cell_type": "code",
      "metadata": {
        "tags": [],
        "cell_id": "00035-cc50f50f-849d-4973-b4cb-332ee1502a77",
        "deepnote_to_be_reexecuted": false,
        "source_hash": "68e541b2",
        "execution_millis": 33,
        "execution_start": 1619432657863,
        "deepnote_cell_type": "code"
      },
      "source": "Margin_error=t_critical_value*st_error\nMargin_error=round(Margin_error,0)\nMargin_error",
      "execution_count": 23,
      "outputs": [
        {
          "output_type": "execute_result",
          "execution_count": 23,
          "data": {
            "text/plain": "2383.0"
          },
          "metadata": {}
        }
      ]
    },
    {
      "cell_type": "markdown",
      "source": "Alternative method to display",
      "metadata": {
        "tags": [],
        "cell_id": "00037-b40def9b-cdb7-4455-9800-295d055c0bbd",
        "deepnote_cell_type": "markdown"
      }
    },
    {
      "cell_type": "code",
      "metadata": {
        "tags": [],
        "cell_id": "00037-807fe235-9ebf-456b-9940-5dfb0a28fe28",
        "deepnote_to_be_reexecuted": false,
        "source_hash": "e97d04d1",
        "execution_millis": 28,
        "execution_start": 1619432657868,
        "deepnote_cell_type": "code"
      },
      "source": "print ('Margin of Error= {}'.format(Margin_error))",
      "execution_count": 24,
      "outputs": [
        {
          "name": "stdout",
          "text": "Margin of Error= 2383.0\n",
          "output_type": "stream"
        }
      ]
    },
    {
      "cell_type": "markdown",
      "source": "## 7. Calculate lower and upper limit of the confidence interval\n",
      "metadata": {
        "tags": [],
        "cell_id": "00036-abaeabab-23d0-4267-970a-da0aefc549df",
        "deepnote_cell_type": "markdown"
      }
    },
    {
      "cell_type": "markdown",
      "source": "Lower Limit = Sample Mean - Margin of Error",
      "metadata": {
        "tags": [],
        "cell_id": "00038-d67171ee-8ce6-4c35-971b-8209fe5b6e0e",
        "deepnote_cell_type": "markdown"
      }
    },
    {
      "cell_type": "code",
      "metadata": {
        "tags": [],
        "cell_id": "00039-a8bffedc-43b9-47f3-97cb-f4ed3ccc1db2",
        "deepnote_to_be_reexecuted": false,
        "source_hash": "c50e9b86",
        "execution_millis": 22,
        "execution_start": 1619432657874,
        "deepnote_cell_type": "code"
      },
      "source": "Lower_limit=sample_mean-Margin_error\nLower_limit",
      "execution_count": 25,
      "outputs": [
        {
          "output_type": "execute_result",
          "execution_count": 25,
          "data": {
            "text/plain": "6246.0"
          },
          "metadata": {}
        }
      ]
    },
    {
      "cell_type": "markdown",
      "source": "Alternative method to display",
      "metadata": {
        "tags": [],
        "cell_id": "00041-1459327d-63be-498a-b168-ef7a40ec122b",
        "deepnote_cell_type": "markdown"
      }
    },
    {
      "cell_type": "code",
      "metadata": {
        "tags": [],
        "cell_id": "00040-ce0d0237-e6b0-4dac-9069-9b34793bf455",
        "deepnote_to_be_reexecuted": false,
        "source_hash": "d9d32584",
        "execution_millis": 14,
        "execution_start": 1619432657882,
        "deepnote_cell_type": "code"
      },
      "source": "print ('Lower Limit = {}'.format(Lower_limit))",
      "execution_count": 26,
      "outputs": [
        {
          "name": "stdout",
          "text": "Lower Limit = 6246.0\n",
          "output_type": "stream"
        }
      ]
    },
    {
      "cell_type": "markdown",
      "source": "Upper Limit = Sample Mean + Margin of Error",
      "metadata": {
        "tags": [],
        "cell_id": "00040-d00f57db-f357-494c-bed3-d24978fe4c17",
        "deepnote_cell_type": "markdown"
      }
    },
    {
      "cell_type": "code",
      "metadata": {
        "tags": [],
        "cell_id": "00040-4272b920-0adf-419c-aec8-fe9351296149",
        "deepnote_to_be_reexecuted": false,
        "source_hash": "2c8a4bea",
        "execution_millis": 20,
        "execution_start": 1619432657886,
        "deepnote_cell_type": "code"
      },
      "source": "Upper_limit=sample_mean+Margin_error\nUpper_limit",
      "execution_count": 27,
      "outputs": [
        {
          "output_type": "execute_result",
          "execution_count": 27,
          "data": {
            "text/plain": "11012.0"
          },
          "metadata": {}
        }
      ]
    },
    {
      "cell_type": "markdown",
      "source": "Alternative method to display",
      "metadata": {
        "tags": [],
        "cell_id": "00042-d14c24e2-6b20-4af6-8f0b-6ff2ca1966ee",
        "deepnote_cell_type": "markdown"
      }
    },
    {
      "cell_type": "code",
      "metadata": {
        "tags": [],
        "cell_id": "00042-a7b8fd3a-9553-407a-8e86-7add5acb0b4b",
        "deepnote_to_be_reexecuted": false,
        "source_hash": "253bd4e6",
        "execution_millis": 15,
        "execution_start": 1619432657891,
        "deepnote_cell_type": "code"
      },
      "source": "print ('Upper Limit = {}'.format(Upper_limit))",
      "execution_count": 28,
      "outputs": [
        {
          "name": "stdout",
          "text": "Upper Limit = 11012.0\n",
          "output_type": "stream"
        }
      ]
    },
    {
      "cell_type": "markdown",
      "source": "## 8.Print 95% confidence interval\n",
      "metadata": {
        "tags": [],
        "cell_id": "00042-844d2ecb-7e42-4b71-81f4-12677b546096",
        "deepnote_cell_type": "markdown"
      }
    },
    {
      "cell_type": "markdown",
      "source": "Confidence Interval ($\\sigma$ unknown) = $\\bar{x}\\space\\pm\\space t_{\\alpha/2}\\left(\\dfrac{S}{\\sqrt{n}}\\right)$ = Sample_Mean $\\pm$ Margin of Error",
      "metadata": {
        "tags": [],
        "cell_id": "00043-c21fdef9-c985-41d7-ab23-2e5c23e42fe6",
        "deepnote_cell_type": "markdown"
      }
    },
    {
      "cell_type": "code",
      "metadata": {
        "tags": [],
        "cell_id": "00045-3a369ec9-d90c-4b98-ab44-19f92cf8434c",
        "deepnote_to_be_reexecuted": false,
        "source_hash": "58f660d8",
        "execution_millis": 9,
        "execution_start": 1619432657899,
        "deepnote_cell_type": "code"
      },
      "source": "print ('The 95% Confidence Interval = ({},{})'.format(Lower_limit,Upper_limit))",
      "execution_count": 29,
      "outputs": [
        {
          "name": "stdout",
          "text": "The 95% Confidence Interval = (6246.0,11012.0)\n",
          "output_type": "stream"
        }
      ]
    },
    {
      "cell_type": "markdown",
      "source": "<a style='text-decoration:none;line-height:16px;display:flex;color:#5B5B62;padding:10px;justify-content:end;' href='https://deepnote.com?utm_source=created-in-deepnote-cell&projectId=e024a48b-a3c6-4959-958a-104d55d4d276' target=\"_blank\">\n<img alt='Created in deepnote.com' style='display:inline;max-height:16px;margin:0px;margin-right:7.5px;' src='data:image/svg+xml;base64,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' > </img>\nCreated in <span style='font-weight:600;margin-left:4px;'>Deepnote</span></a>",
      "metadata": {
        "tags": [],
        "created_in_deepnote_cell": true,
        "deepnote_cell_type": "markdown"
      }
    }
  ],
  "nbformat": 4,
  "nbformat_minor": 2,
  "metadata": {
    "orig_nbformat": 2,
    "deepnote": {
      "is_reactive": false
    },
    "deepnote_notebook_id": "83f99a00-cdf3-4dcb-a799-159b00f66700",
    "deepnote_execution_queue": []
  }
}
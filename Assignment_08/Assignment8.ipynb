{
  "cells": [
    {
      "cell_type": "markdown",
      "source": "# Assignment 8\n\nName: Shaimar R. Gonzalez Morales\n\nDate: 4/21/21",
      "metadata": {
        "tags": [],
        "cell_id": "00000-441db853-51b8-4687-adbd-27894fa84a44",
        "deepnote_cell_type": "markdown"
      }
    },
    {
      "cell_type": "markdown",
      "source": "## 1. Import libraries",
      "metadata": {
        "tags": [],
        "cell_id": "00001-602be511-3618-46f1-a643-2ff1e6a8d7d7",
        "deepnote_cell_type": "markdown"
      }
    },
    {
      "cell_type": "code",
      "metadata": {
        "tags": [],
        "cell_id": "00000-2e13c57a-a717-4bce-be02-388d30af5ea4",
        "deepnote_to_be_reexecuted": false,
        "source_hash": "ca95b7f9",
        "execution_millis": 1,
        "execution_start": 1619078019817,
        "deepnote_cell_type": "code"
      },
      "source": "import pandas as pd\nimport os",
      "execution_count": 296,
      "outputs": []
    },
    {
      "cell_type": "markdown",
      "source": "## 2. Import file ",
      "metadata": {
        "tags": [],
        "cell_id": "00003-1590200c-2b61-4f9e-97fd-3e37f8e4fe37",
        "deepnote_cell_type": "markdown"
      }
    },
    {
      "cell_type": "markdown",
      "source": "**Terminal was used to import the data**\n\nmkdir data # make a new folder\n\ncd data # change to the data folder\n\nls # list\n\nwget https://ed-public-download.app.cloud.gov/downloads/CollegeScorecard_Raw_Data_01192021.zip # getting the file \n\nunzip CollegeScorecard_Raw_Data_01192021.zip # open the folder\n\nmv 'Raw Data Files' input # change the name of the subfolder that was created when the folder was unzip\n",
      "metadata": {
        "tags": [],
        "cell_id": "00003-ddc01282-a44b-462f-9b33-48597b562ea4",
        "deepnote_cell_type": "markdown"
      }
    },
    {
      "cell_type": "markdown",
      "source": "## 3. Creating a variable that contained items that start with MERGED",
      "metadata": {
        "tags": [],
        "cell_id": "00005-e2fcadf8-9458-4ea9-8b9c-259b48db7d9a",
        "deepnote_cell_type": "markdown"
      }
    },
    {
      "cell_type": "code",
      "metadata": {
        "tags": [],
        "cell_id": "00002-bee4bd40-37b8-4b8a-b06c-2ec8ec2e2d4b",
        "deepnote_to_be_reexecuted": false,
        "source_hash": "2c337b37",
        "execution_millis": 0,
        "execution_start": 1619065348231,
        "deepnote_cell_type": "code"
      },
      "source": "current_folder=os.getcwd()\nprint(current_folder)",
      "execution_count": 2,
      "outputs": [
        {
          "name": "stdout",
          "text": "/work\n",
          "output_type": "stream"
        }
      ]
    },
    {
      "cell_type": "code",
      "metadata": {
        "tags": [],
        "cell_id": "00007-f4eb6108-eefa-4b28-bbae-755903cb53eb",
        "deepnote_to_be_reexecuted": false,
        "source_hash": "87f0b5ee",
        "execution_millis": 11,
        "execution_start": 1619078014826,
        "deepnote_cell_type": "code"
      },
      "source": "file_list=os.listdir(\"./data/input\") # create a list of the names of files\nprint(file_list)",
      "execution_count": 294,
      "outputs": [
        {
          "name": "stdout",
          "text": "['MERGED2012_13_PP.csv', 'data.yaml', 'MERGED1999_00_PP.csv', 'MERGED2005_06_PP.csv', 'MERGED2003_04_PP.csv', 'Most-Recent-Cohorts-All-Data-Elements.csv', 'MERGED1998_99_PP.csv', 'MERGED2010_11_PP.csv', 'MERGED2009_10_PP.csv', 'MERGED2001_02_PP.csv', 'MERGED2017_18_PP.csv', 'MERGED2014_15_PP.csv', 'MERGED2016_17_PP.csv', 'MERGED2008_09_PP.csv', 'Most-Recent-Cohorts-Field-of-Study.csv', 'FieldOfStudyData1516_1617_PP.csv', 'MERGED2002_03_PP.csv', 'MERGED1997_98_PP.csv', 'FieldOfStudyData1617_1718_PP.csv', 'FieldOfStudyData1415_1516_PP.csv', 'MERGED2015_16_PP.csv', 'MERGED1996_97_PP.csv', 'MERGED2013_14_PP.csv', 'MERGED2000_01_PP.csv', 'MERGED2011_12_PP.csv', 'MERGED2007_08_PP.csv', 'MERGED2004_05_PP.csv', 'Crosswalks.zip', 'MERGED2006_07_PP.csv', 'MERGED2018_19_PP.csv']\n",
          "output_type": "stream"
        }
      ]
    },
    {
      "cell_type": "code",
      "metadata": {
        "tags": [],
        "cell_id": "00007-e69e0805-529f-435c-83a9-c6ea5711ec06",
        "deepnote_to_be_reexecuted": false,
        "source_hash": "fbb92b4a",
        "execution_millis": 10,
        "execution_start": 1619078016129,
        "deepnote_cell_type": "code"
      },
      "source": "new_list= [i for i in file_list if i.startswith('MERGED')] # select further for the ones that starts with Merged\nnew_list",
      "execution_count": 295,
      "outputs": [
        {
          "output_type": "execute_result",
          "execution_count": 295,
          "data": {
            "text/plain": "['MERGED2012_13_PP.csv',\n 'MERGED1999_00_PP.csv',\n 'MERGED2005_06_PP.csv',\n 'MERGED2003_04_PP.csv',\n 'MERGED1998_99_PP.csv',\n 'MERGED2010_11_PP.csv',\n 'MERGED2009_10_PP.csv',\n 'MERGED2001_02_PP.csv',\n 'MERGED2017_18_PP.csv',\n 'MERGED2014_15_PP.csv',\n 'MERGED2016_17_PP.csv',\n 'MERGED2008_09_PP.csv',\n 'MERGED2002_03_PP.csv',\n 'MERGED1997_98_PP.csv',\n 'MERGED2015_16_PP.csv',\n 'MERGED1996_97_PP.csv',\n 'MERGED2013_14_PP.csv',\n 'MERGED2000_01_PP.csv',\n 'MERGED2011_12_PP.csv',\n 'MERGED2007_08_PP.csv',\n 'MERGED2004_05_PP.csv',\n 'MERGED2006_07_PP.csv',\n 'MERGED2018_19_PP.csv']"
          },
          "metadata": {}
        }
      ]
    },
    {
      "cell_type": "code",
      "metadata": {
        "tags": [],
        "cell_id": "00009-1c0f9173-08ee-479a-9404-5a9a16bc0dcb",
        "deepnote_to_be_reexecuted": false,
        "source_hash": "c7a2d467",
        "execution_millis": 15,
        "execution_start": 1619078035578,
        "deepnote_cell_type": "code"
      },
      "source": "os.mkdir('select')# create a new file in directory",
      "execution_count": 298,
      "outputs": []
    },
    {
      "cell_type": "code",
      "metadata": {
        "tags": [],
        "cell_id": "00010-0e9e4b35-2bb5-4e85-88f2-d6fca5479341",
        "deepnote_to_be_reexecuted": false,
        "source_hash": "1f807fd",
        "execution_millis": 5,
        "execution_start": 1619078037618,
        "deepnote_cell_type": "code"
      },
      "source": "import zipfile",
      "execution_count": 299,
      "outputs": []
    },
    {
      "cell_type": "code",
      "metadata": {
        "tags": [],
        "cell_id": "00009-600b57b1-766a-449c-9dfc-ded35df0f461",
        "deepnote_to_be_reexecuted": false,
        "source_hash": "dd0cbad7",
        "execution_millis": 24198,
        "execution_start": 1619078039066,
        "deepnote_cell_type": "code"
      },
      "source": "import shutil\n\nsource = '/work/data/CollegeScorecard_Raw_Data_01192021.zip'\ndest = '/work/select'\n\nwith zipfile.ZipFile(source) as zf:\n       for f in zf.namelist():\n#putting in the file only the items that start with Merged\n            if f.startswith(\"Raw Data Files/MERGED\"):\n                zf.extract(f,dest) ",
      "execution_count": 300,
      "outputs": []
    },
    {
      "cell_type": "markdown",
      "source": "mv 'Raw Data Files' merge was used to change the name of the file",
      "metadata": {
        "tags": [],
        "cell_id": "00012-17b39982-078b-4d24-beaa-a0b5517eff64",
        "deepnote_cell_type": "markdown"
      }
    },
    {
      "cell_type": "markdown",
      "source": "## 4. Selecting a random name from the list",
      "metadata": {
        "tags": [],
        "cell_id": "00009-271f297a-9aa2-44e3-b894-b8ff0b6d3c6b",
        "deepnote_cell_type": "markdown"
      }
    },
    {
      "cell_type": "code",
      "metadata": {
        "tags": [],
        "cell_id": "00009-508f5616-122d-4149-9ea3-23efcf665b91",
        "deepnote_to_be_reexecuted": false,
        "source_hash": "89047012",
        "execution_millis": 0,
        "execution_start": 1619078069600,
        "deepnote_cell_type": "code"
      },
      "source": "import random",
      "execution_count": 301,
      "outputs": []
    },
    {
      "cell_type": "code",
      "metadata": {
        "tags": [],
        "cell_id": "00011-e95e13e2-57fa-491b-a5fb-5818fff50a20",
        "deepnote_to_be_reexecuted": false,
        "source_hash": "cd01bb69",
        "execution_millis": 4,
        "execution_start": 1619078070926,
        "deepnote_cell_type": "code"
      },
      "source": "random_name=random.choice(new_list) # selecting random element of the list",
      "execution_count": 302,
      "outputs": []
    },
    {
      "cell_type": "code",
      "metadata": {
        "tags": [],
        "cell_id": "00011-db71ff8f-596f-4400-bb22-78e8e0e65c1d",
        "deepnote_to_be_reexecuted": false,
        "source_hash": "44c5ddc4",
        "execution_millis": 12,
        "execution_start": 1619078073007,
        "deepnote_cell_type": "code"
      },
      "source": "random_name",
      "execution_count": 303,
      "outputs": [
        {
          "output_type": "execute_result",
          "execution_count": 303,
          "data": {
            "text/plain": "'MERGED2017_18_PP.csv'"
          },
          "metadata": {}
        }
      ]
    },
    {
      "cell_type": "markdown",
      "source": "selecting a random name without using random function",
      "metadata": {
        "tags": [],
        "cell_id": "00013-4d88b5a2-f232-4a71-9a18-e58b9e6998f9",
        "deepnote_cell_type": "markdown"
      }
    },
    {
      "cell_type": "code",
      "metadata": {
        "tags": [],
        "cell_id": "00017-b0a83566-8752-4171-856f-eb881358a68a",
        "deepnote_to_be_reexecuted": false,
        "source_hash": "868dca09",
        "execution_millis": 2,
        "execution_start": 1619078074223,
        "deepnote_cell_type": "code"
      },
      "source": "index1=random.randrange(21)\nindex1=[index1] # creating a list with range of 21",
      "execution_count": 304,
      "outputs": []
    },
    {
      "cell_type": "code",
      "metadata": {
        "tags": [],
        "cell_id": "00019-e2b98953-c688-4d0a-8f31-3635a343c188",
        "deepnote_to_be_reexecuted": false,
        "source_hash": "f76f4836",
        "execution_millis": 10,
        "execution_start": 1619078076343,
        "deepnote_cell_type": "code"
      },
      "source": "selected_elements = []\nfor index in index1:\n    selected_elements.append(new_list[index])# use the list created above as an index to indicate the random choice\nprint(selected_elements) # selecting a random elemnt on that list",
      "execution_count": 305,
      "outputs": [
        {
          "name": "stdout",
          "text": "['MERGED2001_02_PP.csv']\n",
          "output_type": "stream"
        }
      ]
    },
    {
      "cell_type": "markdown",
      "source": "## 5. Only read two columns from the merged files",
      "metadata": {
        "tags": [],
        "cell_id": "00019-a43243ee-f731-4c63-8411-94f43de00a6b",
        "deepnote_cell_type": "markdown"
      }
    },
    {
      "cell_type": "code",
      "metadata": {
        "tags": [],
        "cell_id": "00020-c55e3bd4-8a55-468e-bfd9-bf7c138863af",
        "deepnote_to_be_reexecuted": false,
        "source_hash": "58d9952d",
        "execution_millis": 0,
        "execution_start": 1619078077962,
        "deepnote_cell_type": "code"
      },
      "source": "file_path='/work/select/merge' # creating a path that will lead to the data",
      "execution_count": 306,
      "outputs": []
    },
    {
      "cell_type": "code",
      "metadata": {
        "tags": [],
        "cell_id": "00019-0e4b93ac-d07f-45fe-8a2c-1287613591c2",
        "deepnote_to_be_reexecuted": false,
        "source_hash": "7a9f81a6",
        "execution_millis": 14874,
        "execution_start": 1619078224077,
        "deepnote_cell_type": "code"
      },
      "source": "df_list=[]\nfor i in new_list:\n    # combining the path and the folder name and filter data utilizing only the two columns\n    df=pd.read_csv(os.path.join(file_path,i), usecols=['INSTNM', 'TUITIONFEE_IN'])\n    df_list.append(df) #putting filter data to a list",
      "execution_count": 309,
      "outputs": []
    },
    {
      "cell_type": "code",
      "metadata": {
        "tags": [],
        "cell_id": "00023-385c9e04-30d2-4db7-9264-49dcc9893a6d",
        "deepnote_to_be_reexecuted": false,
        "source_hash": "285dc25f",
        "execution_millis": 11,
        "execution_start": 1619078241381,
        "deepnote_cell_type": "code"
      },
      "source": "merged_df=pd.concat(df_list) #making that list to a pandas DataFrame",
      "execution_count": 310,
      "outputs": []
    },
    {
      "cell_type": "code",
      "metadata": {
        "tags": [],
        "cell_id": "00024-4952d4e8-a3b6-47c8-a6ab-a5894ddd9253",
        "deepnote_to_be_reexecuted": false,
        "source_hash": "bef1e65",
        "execution_millis": 22,
        "execution_start": 1619078242665,
        "deepnote_cell_type": "code"
      },
      "source": "merged_df.info # print information of that DataFrame",
      "execution_count": 311,
      "outputs": [
        {
          "output_type": "execute_result",
          "execution_count": 311,
          "data": {
            "text/plain": "<bound method DataFrame.info of                                         INSTNM  TUITIONFEE_IN\n0           Community College of the Air Force            NaN\n1                     Alabama A & M University         7182.0\n2          University of Alabama at Birmingham         6798.0\n3                           Amridge University         6800.0\n4          University of Alabama in Huntsville         8794.0\n...                                        ...            ...\n6801         Georgia Military College - Dublin         6120.0\n6802        Georgia Military College - Eastman         6120.0\n6803  American College of Barbering - Florence            NaN\n6804      HCI College - Fort Lauderdale Campus        21420.0\n6805          ABC Adult School - Cabrillo Lane            NaN\n\n[163331 rows x 2 columns]>"
          },
          "metadata": {}
        }
      ]
    },
    {
      "cell_type": "markdown",
      "source": "## 6. Determine how many observation have missing values",
      "metadata": {
        "tags": [],
        "cell_id": "00025-595c6c53-fc97-4c20-861a-0b2b43e79580",
        "deepnote_cell_type": "markdown"
      }
    },
    {
      "cell_type": "code",
      "metadata": {
        "tags": [],
        "cell_id": "00026-67add1ae-564e-48a7-8349-9ef9981c884c",
        "deepnote_to_be_reexecuted": false,
        "source_hash": "c2602aa8",
        "execution_millis": 1,
        "execution_start": 1619078244812,
        "deepnote_cell_type": "code"
      },
      "source": "import numpy as np",
      "execution_count": 312,
      "outputs": []
    },
    {
      "cell_type": "code",
      "metadata": {
        "tags": [],
        "cell_id": "00027-9e17e24f-2367-444d-ac1a-d2e2e3ebc76d",
        "deepnote_to_be_reexecuted": false,
        "source_hash": "9dbd7a23",
        "execution_millis": 24,
        "execution_start": 1619078246778,
        "deepnote_cell_type": "code"
      },
      "source": "print(\" \\nTotal NaN at each column of merged_df : \\n\\n\",\n      merged_df.isnull().sum()) #calculate the nan items in the DataFrame",
      "execution_count": 313,
      "outputs": [
        {
          "name": "stdout",
          "text": " \nTotal NaN at each column of merged_df : \n\n INSTNM               0\nTUITIONFEE_IN    84136\ndtype: int64\n",
          "output_type": "stream"
        }
      ]
    },
    {
      "cell_type": "markdown",
      "source": "## 7. Drop missing values ",
      "metadata": {
        "tags": [],
        "cell_id": "00028-5ec3ea80-a325-4bf6-b3ab-5dff51133192",
        "deepnote_cell_type": "markdown"
      }
    },
    {
      "cell_type": "code",
      "metadata": {
        "tags": [],
        "cell_id": "00029-8a425580-e455-406a-97a2-85b86b04148c",
        "deepnote_to_be_reexecuted": false,
        "source_hash": "2d29662a",
        "execution_millis": 8,
        "execution_start": 1619078249067,
        "deepnote_cell_type": "code"
      },
      "source": "df_nonan=merged_df.dropna() # drop the values with nan",
      "execution_count": 314,
      "outputs": []
    },
    {
      "cell_type": "code",
      "metadata": {
        "tags": [],
        "cell_id": "00030-3d63a919-1e20-42e7-9d29-cdd4a3d9299a",
        "deepnote_to_be_reexecuted": false,
        "source_hash": "85de2e85",
        "execution_millis": 12,
        "execution_start": 1619078250716,
        "deepnote_cell_type": "code"
      },
      "source": "print(\" \\nTotal NaN at each column of merged_df : \\n\\n\",\n     df_nonan.isnull().sum()) # confirm that those values were indeed drop",
      "execution_count": 315,
      "outputs": [
        {
          "name": "stdout",
          "text": " \nTotal NaN at each column of merged_df : \n\n INSTNM           0\nTUITIONFEE_IN    0\ndtype: int64\n",
          "output_type": "stream"
        }
      ]
    },
    {
      "cell_type": "code",
      "metadata": {
        "tags": [],
        "cell_id": "00031-731a8ac2-4862-43e3-a4b3-11092ca6f76e",
        "deepnote_to_be_reexecuted": false,
        "source_hash": "a4c38b73",
        "execution_millis": 6,
        "execution_start": 1619078252877,
        "deepnote_cell_type": "code"
      },
      "source": "df_nonan.shape # print shape of the DataFrame",
      "execution_count": 316,
      "outputs": [
        {
          "output_type": "execute_result",
          "execution_count": 316,
          "data": {
            "text/plain": "(79195, 2)"
          },
          "metadata": {}
        }
      ]
    },
    {
      "cell_type": "markdown",
      "source": "## 8. Determine how many observations have 0 tuition",
      "metadata": {
        "tags": [],
        "cell_id": "00031-3dfadaa8-11a9-4603-b31b-5976b935e1b1",
        "deepnote_cell_type": "markdown"
      }
    },
    {
      "cell_type": "code",
      "metadata": {
        "tags": [],
        "cell_id": "00032-6acac5e9-ad1c-4b7a-8fc3-47b251dd9ef3",
        "deepnote_to_be_reexecuted": false,
        "source_hash": "1b56e6f",
        "execution_millis": 26,
        "execution_start": 1619078254863,
        "deepnote_cell_type": "code"
      },
      "source": "print(\" \\nTotal zero at each column of merged_df : \\n\\n\",\n     (df_nonan==0).sum()) # calculate numbers of zeros",
      "execution_count": 317,
      "outputs": [
        {
          "name": "stdout",
          "text": " \nTotal zero at each column of merged_df : \n\n INSTNM            0\nTUITIONFEE_IN    83\ndtype: int64\n",
          "output_type": "stream"
        }
      ]
    },
    {
      "cell_type": "markdown",
      "source": "## 9. Drop observations with 0 tution",
      "metadata": {
        "tags": [],
        "cell_id": "00033-36a887b1-a937-4d9e-ac0c-6fd0b7975f30",
        "deepnote_cell_type": "markdown"
      }
    },
    {
      "cell_type": "code",
      "metadata": {
        "tags": [],
        "cell_id": "00033-7afed79b-562a-483d-b7d3-10e7579c3d71",
        "deepnote_to_be_reexecuted": false,
        "source_hash": "3adf849c",
        "execution_millis": 15,
        "execution_start": 1619078256851,
        "deepnote_cell_type": "code"
      },
      "source": "filter_data= df_nonan.replace(0, np.nan) # convert the zeros to nan values\nfilter_data=filter_data.dropna()# drop nan values",
      "execution_count": 318,
      "outputs": []
    },
    {
      "cell_type": "code",
      "metadata": {
        "tags": [],
        "cell_id": "00034-81041cc6-d3f5-4273-a90c-1a8929cd660f",
        "deepnote_to_be_reexecuted": false,
        "source_hash": "6b2be981",
        "execution_millis": 18,
        "execution_start": 1619078258181,
        "deepnote_cell_type": "code"
      },
      "source": "print(\" \\nTotal zero at each column of merged_df : \\n\\n\",\n     (filter_data==0).sum())# confirmed that the values were drop",
      "execution_count": 319,
      "outputs": [
        {
          "name": "stdout",
          "text": " \nTotal zero at each column of merged_df : \n\n INSTNM           0\nTUITIONFEE_IN    0\ndtype: int64\n",
          "output_type": "stream"
        }
      ]
    },
    {
      "cell_type": "code",
      "metadata": {
        "tags": [],
        "cell_id": "00037-df2c538e-33bd-4474-9299-d1c23588ef1f",
        "deepnote_to_be_reexecuted": false,
        "source_hash": "64583874",
        "execution_millis": 21,
        "execution_start": 1619078260054,
        "deepnote_cell_type": "code"
      },
      "source": "filter_data.shape # check DataFrame size",
      "execution_count": 320,
      "outputs": [
        {
          "output_type": "execute_result",
          "execution_count": 320,
          "data": {
            "text/plain": "(79112, 2)"
          },
          "metadata": {}
        }
      ]
    },
    {
      "cell_type": "markdown",
      "source": "## 10. Calculate mean of tuitions",
      "metadata": {
        "tags": [],
        "cell_id": "00034-a9a542fd-9143-48c6-bff7-852fffda3c97",
        "deepnote_cell_type": "markdown"
      }
    },
    {
      "cell_type": "code",
      "metadata": {
        "tags": [],
        "cell_id": "00039-e1cb96b4-3975-4bb8-96a3-a00be00f9c44",
        "deepnote_to_be_reexecuted": false,
        "source_hash": "6a5851d4",
        "execution_millis": 17,
        "execution_start": 1619078261502,
        "deepnote_cell_type": "code"
      },
      "source": "filter_data['TUITIONFEE_IN'].describe() # calculate mean of in-state tuition",
      "execution_count": 321,
      "outputs": [
        {
          "output_type": "execute_result",
          "execution_count": 321,
          "data": {
            "text/plain": "count    79112.000000\nmean     11677.875822\nstd       9984.085455\nmin         11.000000\n25%       3785.000000\n50%       9300.000000\n75%      16160.000000\nmax      74787.000000\nName: TUITIONFEE_IN, dtype: float64"
          },
          "metadata": {}
        }
      ]
    },
    {
      "cell_type": "code",
      "metadata": {
        "tags": [],
        "cell_id": "00040-7a939ee6-d5e7-441c-bc5e-ded895b1117a",
        "deepnote_to_be_reexecuted": false,
        "source_hash": "9b9403c7",
        "execution_millis": 0,
        "execution_start": 1619078263604,
        "deepnote_cell_type": "code"
      },
      "source": "filter_data_mean=filter_data['TUITIONFEE_IN'].mean()# calculate the mean of the column",
      "execution_count": 322,
      "outputs": []
    },
    {
      "cell_type": "code",
      "metadata": {
        "tags": [],
        "cell_id": "00041-a2f5e4f5-9a86-4cee-8e98-134ad763b474",
        "deepnote_to_be_reexecuted": false,
        "source_hash": "78025775",
        "execution_millis": 7,
        "execution_start": 1619078265804,
        "deepnote_cell_type": "code"
      },
      "source": "filter_data_mean# print the in-state tuition mean",
      "execution_count": 323,
      "outputs": [
        {
          "output_type": "execute_result",
          "execution_count": 323,
          "data": {
            "text/plain": "11677.875821619982"
          },
          "metadata": {}
        }
      ]
    },
    {
      "cell_type": "markdown",
      "source": "## 11. Select one random observation",
      "metadata": {
        "tags": [],
        "cell_id": "00040-d2946a16-82b6-4f80-a534-fe9fe591e53e",
        "deepnote_cell_type": "markdown"
      }
    },
    {
      "cell_type": "markdown",
      "source": "Sample 1",
      "metadata": {
        "tags": [],
        "cell_id": "00043-678c8313-d096-4568-a127-703626d33020",
        "deepnote_cell_type": "markdown"
      }
    },
    {
      "cell_type": "code",
      "metadata": {
        "tags": [],
        "cell_id": "00041-4037a773-00e7-4039-abca-e3c06bdc10f5",
        "deepnote_to_be_reexecuted": false,
        "source_hash": "94ff27c7",
        "execution_millis": 16,
        "execution_start": 1619078268012,
        "deepnote_cell_type": "code"
      },
      "source": "random_samp1=filter_data.sample(n=1, random_state=1)\nprint(random_samp1) # select a random item",
      "execution_count": 324,
      "outputs": [
        {
          "name": "stdout",
          "text": "                                     INSTNM  TUITIONFEE_IN\n2291  Missouri State University-Springfield         6276.0\n",
          "output_type": "stream"
        }
      ]
    },
    {
      "cell_type": "code",
      "metadata": {
        "tags": [],
        "cell_id": "00044-3fb30dcb-a927-4994-90c9-e34168fcd828",
        "deepnote_to_be_reexecuted": false,
        "source_hash": "e1b79561",
        "execution_millis": 1,
        "execution_start": 1619078269334,
        "deepnote_cell_type": "code"
      },
      "source": "mean_samp1=random_samp1['TUITIONFEE_IN'].mean() # calculate the mean of the random item",
      "execution_count": 325,
      "outputs": []
    },
    {
      "cell_type": "code",
      "metadata": {
        "tags": [],
        "cell_id": "00045-0ca18479-0cac-4c30-8054-0b8fc9ed39d3",
        "deepnote_to_be_reexecuted": false,
        "source_hash": "2860aa1c",
        "execution_millis": 14,
        "execution_start": 1619078271163,
        "deepnote_cell_type": "code"
      },
      "source": "filter_data_mean-mean_samp1 # calculate difference of mean sample and mean of all in-state tuition",
      "execution_count": 326,
      "outputs": [
        {
          "output_type": "execute_result",
          "execution_count": 326,
          "data": {
            "text/plain": "5401.875821619982"
          },
          "metadata": {}
        }
      ]
    },
    {
      "cell_type": "markdown",
      "source": "Sample 2",
      "metadata": {
        "tags": [],
        "cell_id": "00047-b9296e6f-5531-4a43-b3f3-6a31f4067108",
        "deepnote_cell_type": "markdown"
      }
    },
    {
      "cell_type": "code",
      "metadata": {
        "tags": [],
        "cell_id": "00046-9934231a-d49e-4553-b617-696050c31904",
        "deepnote_to_be_reexecuted": false,
        "source_hash": "bdbd0587",
        "execution_millis": 13,
        "execution_start": 1619078273289,
        "deepnote_cell_type": "code"
      },
      "source": "random_samp2=filter_data.sample(n=1, random_state=6)#selecting a random item\nprint(random_samp2) ",
      "execution_count": 327,
      "outputs": [
        {
          "name": "stdout",
          "text": "                       INSTNM  TUITIONFEE_IN\n2864  Williston State College         3624.0\n",
          "output_type": "stream"
        }
      ]
    },
    {
      "cell_type": "code",
      "metadata": {
        "tags": [],
        "cell_id": "00047-52bbbbd0-cf72-42a2-9cbe-4aec28dda0c5",
        "deepnote_to_be_reexecuted": false,
        "source_hash": "e7708f9e",
        "execution_millis": 30,
        "execution_start": 1619078275077,
        "deepnote_cell_type": "code"
      },
      "source": "mean_samp2=random_samp2['TUITIONFEE_IN'].mean()# calculate the mean of the random item\nmean_samp2",
      "execution_count": 328,
      "outputs": [
        {
          "output_type": "execute_result",
          "execution_count": 328,
          "data": {
            "text/plain": "3624.0"
          },
          "metadata": {}
        }
      ]
    },
    {
      "cell_type": "code",
      "metadata": {
        "tags": [],
        "cell_id": "00048-c7de3663-c916-4bcf-b5c6-d450dbffe631",
        "deepnote_to_be_reexecuted": false,
        "source_hash": "ebe1c36b",
        "execution_millis": 9,
        "execution_start": 1619078277068,
        "deepnote_cell_type": "code"
      },
      "source": "filter_data_mean-mean_samp2 # calculate difference of mean sample and mean of all in-state tuition",
      "execution_count": 329,
      "outputs": [
        {
          "output_type": "execute_result",
          "execution_count": 329,
          "data": {
            "text/plain": "8053.875821619982"
          },
          "metadata": {}
        }
      ]
    },
    {
      "cell_type": "markdown",
      "source": "Sample 3",
      "metadata": {
        "tags": [],
        "cell_id": "00051-9672fec3-98a9-4f13-b9c7-5630b2044dd0",
        "deepnote_cell_type": "markdown"
      }
    },
    {
      "cell_type": "code",
      "metadata": {
        "tags": [],
        "cell_id": "00049-a8896d8a-d129-4523-bf8e-ea6813011b69",
        "deepnote_to_be_reexecuted": false,
        "source_hash": "69ee65fb",
        "execution_millis": 18,
        "execution_start": 1619078278472,
        "deepnote_cell_type": "code"
      },
      "source": "random_samp3=filter_data.sample(n=1, random_state=2)# calculate the mena of the random item\nmean_samp1\nprint(random_samp3)",
      "execution_count": 330,
      "outputs": [
        {
          "name": "stdout",
          "text": "                     INSTNM  TUITIONFEE_IN\n1906  Martin Luther College        12920.0\n",
          "output_type": "stream"
        }
      ]
    },
    {
      "cell_type": "code",
      "metadata": {
        "tags": [],
        "cell_id": "00050-69869bfa-109b-4076-86bc-d3b426285d78",
        "deepnote_to_be_reexecuted": false,
        "source_hash": "10ee6ff2",
        "execution_millis": 10,
        "execution_start": 1619078280571,
        "deepnote_cell_type": "code"
      },
      "source": "mean_samp3=random_samp3['TUITIONFEE_IN'].mean()# calculate the mean of the random item\nmean_samp3",
      "execution_count": 331,
      "outputs": [
        {
          "output_type": "execute_result",
          "execution_count": 331,
          "data": {
            "text/plain": "12920.0"
          },
          "metadata": {}
        }
      ]
    },
    {
      "cell_type": "code",
      "metadata": {
        "tags": [],
        "cell_id": "00051-0fb1582e-52a2-4f98-beab-df3bd27a947c",
        "deepnote_to_be_reexecuted": false,
        "source_hash": "ec721b5",
        "execution_millis": 13,
        "execution_start": 1619078282393,
        "deepnote_cell_type": "code"
      },
      "source": "mean_samp3-filter_data_mean # calculate difference of mean sample and mean of all in-state tuition",
      "execution_count": 332,
      "outputs": [
        {
          "output_type": "execute_result",
          "execution_count": 332,
          "data": {
            "text/plain": "1242.1241783800178"
          },
          "metadata": {}
        }
      ]
    },
    {
      "cell_type": "markdown",
      "source": "## 12. Randomly select 20 observations",
      "metadata": {
        "tags": [],
        "cell_id": "00055-1dbf2f16-7ba5-462c-be4d-a8de0cb6050c",
        "deepnote_cell_type": "markdown"
      }
    },
    {
      "cell_type": "markdown",
      "source": "Trial #1",
      "metadata": {
        "tags": [],
        "cell_id": "00056-7c6b424c-013f-4142-9d10-cdf79c967509",
        "deepnote_cell_type": "markdown"
      }
    },
    {
      "cell_type": "code",
      "metadata": {
        "tags": [],
        "cell_id": "00056-492a044f-6cad-4f62-a34d-3c590a336b78",
        "deepnote_to_be_reexecuted": false,
        "source_hash": "d2e36977",
        "execution_millis": 7,
        "execution_start": 1619078287919,
        "deepnote_cell_type": "code"
      },
      "source": "random_20samp=filter_data.sample(n=20, random_state=7)#select 20 random samples\nprint(random_20samp)",
      "execution_count": 333,
      "outputs": [
        {
          "name": "stdout",
          "text": "                                                 INSTNM  TUITIONFEE_IN\n2112                         Meridian Community College         2230.0\n6556                       California College San Diego        16968.0\n4583                                  Marian University        15825.0\n3561             Southeastern Oklahoma State University         2250.0\n2416                         SUNY Polytechnic Institute         7998.0\n3089                       Saint Augustine's University        11428.0\n3758                            Eastern Wyoming College         2928.0\n3754                                Lipscomb University        22000.0\n4503              ITT Technical Institute-Houston North        18048.0\n7076  Purdue University - Purdue Polytechnic South Bend         6740.0\n4436                  Chippewa Valley Technical College         3532.0\n3279                         University of Pennsylvania        49536.0\n3549                Pellissippi State Community College         3988.0\n2526                   Beth Hatalmud Rabbinical College         6150.0\n204              ITT Technical Institute-Rancho Cordova        18048.0\n3852                      Spartanburg Methodist College        10250.0\n4015                                   Victoria College         2400.0\n5200                          Leech Lake Tribal College         4430.0\n4746                  South Louisiana Community College         4205.0\n4307               Virginia Highlands Community College         2272.0\n",
          "output_type": "stream"
        }
      ]
    },
    {
      "cell_type": "code",
      "metadata": {
        "tags": [],
        "cell_id": "00057-06b2a230-704a-4b4d-b528-3fd74665fd79",
        "deepnote_to_be_reexecuted": false,
        "source_hash": "849253e5",
        "execution_millis": 7,
        "execution_start": 1619078290063,
        "deepnote_cell_type": "code"
      },
      "source": "mean_20samp=random_20samp['TUITIONFEE_IN'].mean()  # calculate the mean of 20 random samples\nmean_20samp",
      "execution_count": 334,
      "outputs": [
        {
          "output_type": "execute_result",
          "execution_count": 334,
          "data": {
            "text/plain": "10561.3"
          },
          "metadata": {}
        }
      ]
    },
    {
      "cell_type": "code",
      "metadata": {
        "tags": [],
        "cell_id": "00058-fc41d6a5-094d-477b-9495-b591d3822e85",
        "deepnote_to_be_reexecuted": false,
        "source_hash": "2fa336a8",
        "execution_millis": 7,
        "execution_start": 1619078292249,
        "deepnote_cell_type": "code"
      },
      "source": "filter_data_mean-mean_20samp # calculate the mean difference",
      "execution_count": 335,
      "outputs": [
        {
          "output_type": "execute_result",
          "execution_count": 335,
          "data": {
            "text/plain": "1116.575821619983"
          },
          "metadata": {}
        }
      ]
    },
    {
      "cell_type": "markdown",
      "source": "Trial #2",
      "metadata": {
        "tags": [],
        "cell_id": "00060-5fd91c7a-d270-432e-86ca-c0e19e3129eb",
        "deepnote_cell_type": "markdown"
      }
    },
    {
      "cell_type": "code",
      "metadata": {
        "tags": [],
        "cell_id": "00061-558348b6-d4d9-40b6-8607-89b7fe12139c",
        "deepnote_to_be_reexecuted": false,
        "source_hash": "a1ebdff7",
        "execution_millis": 18,
        "execution_start": 1619078293587,
        "deepnote_cell_type": "code"
      },
      "source": "random_20samp1=filter_data.sample(n=20, random_state=8)#select 20 random samples\nprint(random_20samp1)",
      "execution_count": 336,
      "outputs": [
        {
          "name": "stdout",
          "text": "                                             INSTNM  TUITIONFEE_IN\n2410                       Nashua Community College         6368.0\n7759         McCann School of Business & Technology         9820.0\n5891                      South University-Richmond        17331.0\n1964                                   Dean College        19110.0\n1420                   Purdue University Fort Wayne         3683.0\n1987            University of Minnesota-Twin Cities        13459.0\n3173              University of Akron Wayne College         4746.0\n1071                   Concordia University-Chicago        26476.0\n533                       University of the Pacific        23180.0\n1738                     Grambling State University         2740.0\n2844                     Brown Mackie College-Akron        12492.0\n5220                       City College-Gainesville        10905.0\n1126  City Colleges of Chicago-Olive-Harvey College         2410.0\n4498                Patrick Henry Community College         1313.0\n2236                           Creighton University        33330.0\n303                                 Compton College         1142.0\n5281                        Erwin Technical College         1650.0\n3292             Western Dakota Technical Institute         7360.0\n1266                        Colby Community College         3150.0\n3720                   The Art Institute of Houston        17668.0\n",
          "output_type": "stream"
        }
      ]
    },
    {
      "cell_type": "code",
      "metadata": {
        "tags": [],
        "cell_id": "00062-891c5294-b4ec-4325-8e0d-93e409c4ff45",
        "deepnote_to_be_reexecuted": false,
        "source_hash": "ad9c8364",
        "execution_millis": 17,
        "execution_start": 1619078296562,
        "deepnote_cell_type": "code"
      },
      "source": "mean_20samp1=random_20samp1['TUITIONFEE_IN'].mean()# calculate the mean of 20 random samples\nmean_20samp1",
      "execution_count": 337,
      "outputs": [
        {
          "output_type": "execute_result",
          "execution_count": 337,
          "data": {
            "text/plain": "10916.65"
          },
          "metadata": {}
        }
      ]
    },
    {
      "cell_type": "code",
      "metadata": {
        "tags": [],
        "cell_id": "00063-7f0266fd-042e-4267-9891-995fa8fe3106",
        "deepnote_to_be_reexecuted": false,
        "source_hash": "747d3731",
        "execution_millis": 12,
        "execution_start": 1619078298031,
        "deepnote_cell_type": "code"
      },
      "source": "filter_data_mean-mean_20samp1 # calculate the mean difference",
      "execution_count": 338,
      "outputs": [
        {
          "output_type": "execute_result",
          "execution_count": 338,
          "data": {
            "text/plain": "761.2258216199825"
          },
          "metadata": {}
        }
      ]
    },
    {
      "cell_type": "markdown",
      "source": "Trail #3",
      "metadata": {
        "tags": [],
        "cell_id": "00064-3880fbb0-990e-45f2-b12f-7b8114c0f10a",
        "deepnote_cell_type": "markdown"
      }
    },
    {
      "cell_type": "code",
      "metadata": {
        "tags": [],
        "cell_id": "00065-38f3693c-dbe0-4cb2-be61-e9fa4c775b5d",
        "deepnote_to_be_reexecuted": false,
        "source_hash": "9a5356e7",
        "execution_millis": 15,
        "execution_start": 1619078300218,
        "deepnote_cell_type": "code"
      },
      "source": "random_20samp2=filter_data.sample(n=20, random_state=9)#select 20 random samples\nprint(random_20samp2)",
      "execution_count": 339,
      "outputs": [
        {
          "name": "stdout",
          "text": "                                   INSTNM  TUITIONFEE_IN\n1264                 Northwestern College        28950.0\n2858         Union Institute & University        12416.0\n3384             Ohio Northern University        24645.0\n7461   Strayer University-Savannah Campus        14085.0\n5377   Center for Allied Health Education        21591.0\n2198                duCret School of Arts         9490.0\n3398      Jackson State Community College         4029.0\n5595       The Ohio Media School-Columbus        15705.0\n3660          Chemeketa Community College         1395.0\n204              University of the Ozarks        11880.0\n4682  Dorsey School of Business-Roseville        13450.0\n999      Chaminade University of Honolulu        19330.0\n4709    Paradise Valley Community College         1734.0\n1122                    DePaul University        24394.0\n4547          Pacific Lutheran University        19610.0\n4392            University of North Texas         2950.0\n2475    Beaufort County Community College         2518.0\n3830       Centura College-Virginia Beach        16887.0\n3424       Oklahoma School of Photography         9420.0\n1007                       Andrew College         7620.0\n",
          "output_type": "stream"
        }
      ]
    },
    {
      "cell_type": "code",
      "metadata": {
        "tags": [],
        "cell_id": "00066-0545c355-eef9-484e-b184-7dec5fa28b90",
        "deepnote_to_be_reexecuted": false,
        "source_hash": "ab096d3f",
        "execution_millis": 11,
        "execution_start": 1619078302442,
        "deepnote_cell_type": "code"
      },
      "source": "mean_20samp2=random_20samp2['TUITIONFEE_IN'].mean()# calculate the mean of 20 random samples\nmean_20samp2",
      "execution_count": 340,
      "outputs": [
        {
          "output_type": "execute_result",
          "execution_count": 340,
          "data": {
            "text/plain": "13104.95"
          },
          "metadata": {}
        }
      ]
    },
    {
      "cell_type": "code",
      "metadata": {
        "tags": [],
        "cell_id": "00067-32bcd3cc-2224-4c4c-9b6e-c84376ca8da6",
        "deepnote_to_be_reexecuted": false,
        "source_hash": "4f14097e",
        "execution_millis": 11,
        "execution_start": 1619078303810,
        "deepnote_cell_type": "code"
      },
      "source": "mean_20samp2-filter_data_mean # calculate the mean difference",
      "execution_count": 341,
      "outputs": [
        {
          "output_type": "execute_result",
          "execution_count": 341,
          "data": {
            "text/plain": "1427.0741783800186"
          },
          "metadata": {}
        }
      ]
    },
    {
      "cell_type": "markdown",
      "source": "On average when you compared one observation mean with the mean of all the datasets the difference tend to be larger. Nevertheless, in most cases that difference is reduced when using a larger sample size. You can see this with sample 2 where the difference was a little over 8,000 but the larger difference that whe have in the 20 sample was 1,427. ",
      "metadata": {
        "tags": [],
        "cell_id": "00068-6da95011-1d4f-4603-af76-9a3e333220f7",
        "deepnote_cell_type": "markdown"
      }
    },
    {
      "cell_type": "markdown",
      "source": "## 13. Create a function that calculate the difference in means",
      "metadata": {
        "tags": [],
        "cell_id": "00069-1b47cbb7-d75b-4aee-a809-0b5c67148afd",
        "deepnote_cell_type": "markdown"
      }
    },
    {
      "cell_type": "code",
      "metadata": {
        "tags": [],
        "cell_id": "00069-14e78425-1e7d-42e2-bd86-04f06c9e410b",
        "deepnote_to_be_reexecuted": false,
        "source_hash": "cac167a8",
        "execution_millis": 3,
        "execution_start": 1619078307530,
        "deepnote_cell_type": "code"
      },
      "source": "def difference (x, y):\n#select a random number in the length of the DataFrame that can't repeat\n    a=random.sample(range(0,len(y)),x) \n#calculate teh differences in mean\n    dif=(y['TUITIONFEE_IN'].mean())-(( y['TUITIONFEE_IN'].iloc[a]).mean())\n    return(abs(dif))",
      "execution_count": 342,
      "outputs": []
    },
    {
      "cell_type": "markdown",
      "source": "Try the function",
      "metadata": {
        "tags": [],
        "cell_id": "00071-63f6afd2-bb22-4e4e-a925-0fa23961890f",
        "deepnote_cell_type": "markdown"
      }
    },
    {
      "cell_type": "code",
      "metadata": {
        "tags": [],
        "cell_id": "00070-4b1938ec-ce89-4c30-a921-1268f881b5a2",
        "deepnote_to_be_reexecuted": false,
        "source_hash": "3516da60",
        "execution_millis": 0,
        "execution_start": 1619078309321,
        "deepnote_cell_type": "code"
      },
      "source": "b= difference(4, filter_data) # apply function to calculate differences",
      "execution_count": 343,
      "outputs": []
    },
    {
      "cell_type": "code",
      "metadata": {
        "tags": [],
        "cell_id": "00071-c2ddf8d5-ab90-4a6a-bd8d-48bf7d03dd83",
        "deepnote_to_be_reexecuted": false,
        "source_hash": "3a872",
        "execution_millis": 15,
        "execution_start": 1619078310680,
        "deepnote_cell_type": "code"
      },
      "source": "b# print differences",
      "execution_count": 344,
      "outputs": [
        {
          "output_type": "execute_result",
          "execution_count": 344,
          "data": {
            "text/plain": "3637.374178380018"
          },
          "metadata": {}
        }
      ]
    },
    {
      "cell_type": "markdown",
      "source": "## 14. Create a list from 1 to 50, name it \"sample_sizes\"",
      "metadata": {
        "tags": [],
        "cell_id": "00074-d73383fd-2bd0-438b-a1db-622c856af053",
        "deepnote_cell_type": "markdown"
      }
    },
    {
      "cell_type": "code",
      "metadata": {
        "tags": [],
        "cell_id": "00072-e351bd18-53a8-467f-bba9-eda8699c9bd4",
        "deepnote_to_be_reexecuted": false,
        "source_hash": "65b48d3d",
        "execution_millis": 3,
        "execution_start": 1619078312791,
        "deepnote_cell_type": "code"
      },
      "source": "sample_sizes= list(range(1,50)) # create a list that goes from 1-49",
      "execution_count": 345,
      "outputs": []
    },
    {
      "cell_type": "code",
      "metadata": {
        "tags": [],
        "cell_id": "00073-1055906f-4ab0-47df-b308-ae34f2568aef",
        "deepnote_to_be_reexecuted": false,
        "source_hash": "dba6081d",
        "execution_millis": 22,
        "execution_start": 1619078313976,
        "deepnote_cell_type": "code"
      },
      "source": "sample_sizes #print the list",
      "execution_count": 346,
      "outputs": [
        {
          "output_type": "execute_result",
          "execution_count": 346,
          "data": {
            "text/plain": "[1,\n 2,\n 3,\n 4,\n 5,\n 6,\n 7,\n 8,\n 9,\n 10,\n 11,\n 12,\n 13,\n 14,\n 15,\n 16,\n 17,\n 18,\n 19,\n 20,\n 21,\n 22,\n 23,\n 24,\n 25,\n 26,\n 27,\n 28,\n 29,\n 30,\n 31,\n 32,\n 33,\n 34,\n 35,\n 36,\n 37,\n 38,\n 39,\n 40,\n 41,\n 42,\n 43,\n 44,\n 45,\n 46,\n 47,\n 48,\n 49]"
          },
          "metadata": {}
        }
      ]
    },
    {
      "cell_type": "markdown",
      "source": "## 15. Create empty list call means_diff for different population means",
      "metadata": {
        "tags": [],
        "cell_id": "00077-89c4a90e-229a-49a1-8623-e8ca5363e377",
        "deepnote_cell_type": "markdown"
      }
    },
    {
      "cell_type": "markdown",
      "source": "Calculate mean of sample",
      "metadata": {
        "tags": [],
        "cell_id": "00078-f525005c-1d48-400c-815a-7002f5ccbd29",
        "deepnote_cell_type": "markdown"
      }
    },
    {
      "cell_type": "code",
      "metadata": {
        "tags": [],
        "cell_id": "00079-b0e42910-1b48-4309-b8a3-1fbf2b9afc8f",
        "deepnote_to_be_reexecuted": false,
        "source_hash": "bf9c0512",
        "execution_millis": 16,
        "execution_start": 1619078317873,
        "deepnote_cell_type": "code"
      },
      "source": "mean_samp=[]\nfor i in sample_sizes:\n# select numbers in the length of the list that don't repeat\n    samp=random.sample(range(0,len(sample_sizes)),i) \n#calculate the mean of the samples\n    sample_means=(filter_data['TUITIONFEE_IN'].iloc[samp]).mean()\n    mean_samp.append(sample_means) #put those mean to a list\nprint(mean_samp)",
      "execution_count": 347,
      "outputs": [
        {
          "name": "stdout",
          "text": "[4608.0, 5451.0, 8786.666666666666, 6701.0, 10550.4, 7625.666666666667, 9751.714285714286, 5880.375, 10813.555555555555, 6759.8, 9749.454545454546, 7995.416666666667, 5863.7692307692305, 8124.285714285715, 7633.266666666666, 10392.1875, 8160.882352941177, 8338.555555555555, 7446.9473684210525, 9000.7, 8772.809523809523, 7482.636363636364, 10387.434782608696, 8014.0, 7455.6, 7405.2692307692305, 7329.666666666667, 7938.178571428572, 7968.379310344828, 8580.166666666666, 9096.806451612903, 8055.96875, 8832.030303030304, 8615.735294117647, 8047.742857142857, 7449.361111111111, 9038.675675675675, 9197.763157894737, 8981.461538461539, 8809.3, 7911.048780487805, 8736.833333333334, 8764.209302325582, 8297.068181818182, 8360.466666666667, 8312.45652173913, 8470.063829787234, 8440.020833333334, 8352.265306122448]\n",
          "output_type": "stream"
        }
      ]
    },
    {
      "cell_type": "markdown",
      "source": "Calculate mean vs all data",
      "metadata": {
        "tags": [],
        "cell_id": "00080-11837cca-4f4a-4ba9-b3a7-3bcafd781c76",
        "deepnote_cell_type": "markdown"
      }
    },
    {
      "cell_type": "code",
      "metadata": {
        "tags": [],
        "cell_id": "00081-19fef130-cf4f-46a5-84a7-3a30ce8034d2",
        "deepnote_to_be_reexecuted": false,
        "source_hash": "13b39485",
        "execution_millis": 11,
        "execution_start": 1619078320107,
        "deepnote_cell_type": "code"
      },
      "source": "means_diff=abs((filter_data['TUITIONFEE_IN'].mean())-mean_samp)# calculate mean differences\nmeans_diff",
      "execution_count": 348,
      "outputs": [
        {
          "output_type": "execute_result",
          "execution_count": 348,
          "data": {
            "text/plain": "array([7069.87582162, 6226.87582162, 2891.20915495, 4976.87582162,\n       1127.47582162, 4052.20915495, 1926.16153591, 5797.50082162,\n        864.32026606, 4918.07582162, 1928.42127617, 3682.45915495,\n       5814.10659085, 3553.59010733, 4044.60915495, 1285.68832162,\n       3516.99346868, 3339.32026606, 4230.9284532 , 2677.17582162,\n       2905.06629781, 4195.23945798, 1290.44103901, 3663.87582162,\n       4222.27582162, 4272.60659085, 4348.20915495, 3739.69725019,\n       3709.49651128, 3097.70915495, 2581.06937001, 3621.90707162,\n       2845.84551859, 3062.1405275 , 3630.13296448, 4228.51471051,\n       2639.20014594, 2480.11266373, 2696.41428316, 2868.57582162,\n       3766.82704113, 2941.04248829, 2913.66651929, 3380.8076398 ,\n       3317.40915495, 3365.41929988, 3207.81199183, 3237.85498829,\n       3325.6105155 ])"
          },
          "metadata": {}
        }
      ]
    },
    {
      "cell_type": "markdown",
      "source": "Alternative approach",
      "metadata": {
        "tags": [],
        "cell_id": "00081-cfe5e4bd-8767-4443-b08c-b9553615a78b",
        "deepnote_cell_type": "markdown"
      }
    },
    {
      "cell_type": "code",
      "metadata": {
        "tags": [],
        "cell_id": "00081-0805c738-8b69-4892-b0c6-ee63f5809bcf",
        "deepnote_to_be_reexecuted": false,
        "source_hash": "9cabf9c5",
        "execution_millis": 66,
        "execution_start": 1619078322366,
        "deepnote_cell_type": "code"
      },
      "source": "means_diff2=[]\nmean_samp2=[]\nfor i in sample_sizes:\n    samp2=random.sample(range(0,len(sample_sizes)),i) # random sample that don't repeat\n    sample_means2=(filter_data['TUITIONFEE_IN'].iloc[samp2]).mean()# calculate mena of the random sample\n    mean_samp2.append(sample_means2) # put the means to a list\nprint(mean_samp2)\nfor i in mean_samp2:\n    c=abs((filter_data['TUITIONFEE_IN'].mean())-mean_samp2) # calculate mean differences\n    means_diff2.append(c)# put the difference to a list\nprint(c)",
      "execution_count": 349,
      "outputs": [
        {
          "name": "stdout",
          "text": "[30690.0, 4404.0, 9584.666666666666, 6571.0, 10548.0, 11716.666666666666, 8924.857142857143, 8118.0, 9021.777777777777, 7665.2, 12136.363636363636, 8502.166666666666, 7111.384615384615, 7089.428571428572, 9054.666666666666, 11409.25, 8276.470588235294, 6845.0, 8191.0526315789475, 6944.45, 7873.714285714285, 7895.818181818182, 7291.478260869565, 8201.333333333334, 7478.72, 9736.884615384615, 7633.518518518518, 9030.357142857143, 8817.275862068966, 7061.233333333334, 8549.0, 9413.34375, 7627.090909090909, 7897.205882352941, 7988.142857142857, 8644.972222222223, 8296.18918918919, 7753.5, 8150.794871794872, 8514.425, 8658.365853658537, 8277.47619047619, 8644.116279069767, 8710.431818181818, 8345.577777777778, 7976.065217391304, 8530.872340425532, 8448.6875, 8352.265306122448]\n[19012.12417838  7273.87582162  2093.20915495  5106.87582162\n  1129.87582162    38.79084505  2753.01867876  3559.87582162\n  2656.09804384  4012.67582162   458.48781474  3175.70915495\n  4566.49120624  4588.44725019  2623.20915495   268.62582162\n  3401.40523338  4832.87582162  3486.82319004  4733.42582162\n  3804.16153591  3782.0576398   4386.39756075  3476.54248829\n  4199.15582162  1940.99120624  4044.3573031   2647.51867876\n  2860.59995955  4616.64248829  3128.87582162  2264.53207162\n  4050.78491253  3780.66993927  3689.73296448  3032.9035994\n  3381.68663243  3924.37582162  3527.08094983  3163.45082162\n  3019.50996796  3400.39963114  3033.75954255  2967.44400344\n  3332.29804384  3701.81060423  3147.00348119  3229.18832162\n  3325.6105155 ]\n",
          "output_type": "stream"
        }
      ]
    },
    {
      "cell_type": "markdown",
      "source": "## 16. Calculating the mean differances just running over the list",
      "metadata": {
        "tags": [],
        "cell_id": "00084-cc5471e9-2407-4ab9-8943-300ed262738c",
        "deepnote_cell_type": "markdown"
      }
    },
    {
      "cell_type": "code",
      "metadata": {
        "tags": [],
        "cell_id": "00069-44e6de37-51cf-403e-92a1-2adac2760040",
        "deepnote_to_be_reexecuted": false,
        "source_hash": "ce81e236",
        "execution_millis": 42,
        "execution_start": 1619078325702,
        "deepnote_cell_type": "code"
      },
      "source": "import numpy as np\n\n#calculate difference\ndiffer= [difference(t,filter_data) for t in sample_sizes]\nprint(differ)",
      "execution_count": 350,
      "outputs": [
        {
          "name": "stdout",
          "text": "[7007.875821619982, 8635.875821619982, 3033.790845046684, 1427.3741783800178, 217.32417838001857, 1195.3758216199822, 1824.1241783800178, 2419.499178380018, 1284.6797339355726, 63.2241783800182, 1889.9423601981998, 4423.792488286649, 1782.4142831584431, 5105.2670355228765, 2110.8575117133514, 1618.9383216199822, 722.7581745611587, 2531.8464006022405, 833.1916110936672, 2137.4258216199814, 1497.6003688562087, 1102.830367074528, 2234.09321292433, 2931.874178380018, 802.3241783800186, 191.89340914924833, 857.8017475459073, 320.98132123716096, 3277.74486803519, 1672.2241783800182, 217.61775710385336, 1572.4991783800178, 360.0938753497139, 1288.8169980905695, 1628.6186787628394, 14.485289491129151, 2539.7947405389004, 2823.849505830509, 1234.1754604312991, 521.9241783800171, 1035.8758216199822, 209.6717974276362, 631.2637132637392, 33.05763980180018, 821.3686228244624, 2770.332343359112, 22.70560885402483, 2971.959154953316, 675.2839848852891]\n",
          "output_type": "stream"
        }
      ]
    },
    {
      "cell_type": "markdown",
      "source": "## 17. Create scatter plot of the differences",
      "metadata": {
        "tags": [],
        "cell_id": "00082-1eae86fa-0b46-4c32-bfc4-037b0d23aebd",
        "deepnote_cell_type": "markdown"
      }
    },
    {
      "cell_type": "code",
      "metadata": {
        "tags": [],
        "cell_id": "00088-9bebdf33-6e51-4b5a-93cd-9faeffb66e7b",
        "deepnote_to_be_reexecuted": false,
        "source_hash": "bceeddb3",
        "execution_start": 1619078328384,
        "execution_millis": 1,
        "deepnote_cell_type": "code"
      },
      "source": "import plotly.express as px",
      "execution_count": 351,
      "outputs": []
    },
    {
      "cell_type": "code",
      "metadata": {
        "tags": [],
        "cell_id": "00092-56d3a8ba-1cfe-441a-8d1d-35ecfc2a0c90",
        "deepnote_to_be_reexecuted": false,
        "source_hash": "2f43d696",
        "execution_millis": 73,
        "execution_start": 1619078330361,
        "deepnote_cell_type": "code"
      },
      "source": "fig = px.scatter( x=sample_sizes, y=differ, size_max=60,title=\"Mean difference with respect of number of sample\" )\nfig.update_layout(\n    xaxis_title=\"Sample size (number)\",\n    yaxis_title=\"Mean differance (pop-sample)\",\n    font=dict(\n        family=\"Courier New, monospace\",\n        size=15,\n        color=\"Black\"\n    )\n)\nfig.show()",
      "execution_count": 352,
      "outputs": [
        {
          "data": {
            "text/html": "<html>\n<head><meta charset=\"utf-8\" /></head>\n<body>\n    <div>            <script src=\"https://cdnjs.cloudflare.com/ajax/libs/mathjax/2.7.5/MathJax.js?config=TeX-AMS-MML_SVG\"></script><script type=\"text/javascript\">if (window.MathJax) {MathJax.Hub.Config({SVG: {font: \"STIX-Web\"}});}</script>                <script type=\"text/javascript\">window.PlotlyConfig = {MathJaxConfig: 'local'};</script>\n        <script src=\"https://cdn.plot.ly/plotly-latest.min.js\"></script>                <div id=\"5abd1816-3ae4-40f6-90ce-86c71e65dcaf\" class=\"plotly-graph-div\" style=\"height:525px; width:100%;\"></div>            <script type=\"text/javascript\">                                    window.PLOTLYENV=window.PLOTLYENV || {};                                    if (document.getElementById(\"5abd1816-3ae4-40f6-90ce-86c71e65dcaf\")) {                    Plotly.newPlot(                        \"5abd1816-3ae4-40f6-90ce-86c71e65dcaf\",                        [{\"hovertemplate\": \"x=%{x}<br>y=%{y}<extra></extra>\", \"legendgroup\": \"\", \"marker\": {\"color\": \"#636efa\", \"symbol\": \"circle\"}, \"mode\": \"markers\", \"name\": \"\", \"orientation\": \"v\", \"showlegend\": false, \"type\": \"scatter\", \"x\": [1, 2, 3, 4, 5, 6, 7, 8, 9, 10, 11, 12, 13, 14, 15, 16, 17, 18, 19, 20, 21, 22, 23, 24, 25, 26, 27, 28, 29, 30, 31, 32, 33, 34, 35, 36, 37, 38, 39, 40, 41, 42, 43, 44, 45, 46, 47, 48, 49], \"xaxis\": \"x\", \"y\": [7007.875821619982, 8635.875821619982, 3033.790845046684, 1427.3741783800178, 217.32417838001857, 1195.3758216199822, 1824.1241783800178, 2419.499178380018, 1284.6797339355726, 63.2241783800182, 1889.9423601981998, 4423.792488286649, 1782.4142831584431, 5105.2670355228765, 2110.8575117133514, 1618.9383216199822, 722.7581745611587, 2531.8464006022405, 833.1916110936672, 2137.4258216199814, 1497.6003688562087, 1102.830367074528, 2234.09321292433, 2931.874178380018, 802.3241783800186, 191.89340914924833, 857.8017475459073, 320.98132123716096, 3277.74486803519, 1672.2241783800182, 217.61775710385336, 1572.4991783800178, 360.0938753497139, 1288.8169980905695, 1628.6186787628394, 14.485289491129151, 2539.7947405389004, 2823.849505830509, 1234.1754604312991, 521.9241783800171, 1035.8758216199822, 209.6717974276362, 631.2637132637392, 33.05763980180018, 821.3686228244624, 2770.332343359112, 22.70560885402483, 2971.959154953316, 675.2839848852891], \"yaxis\": \"y\"}],                        {\"font\": {\"color\": \"Black\", \"family\": \"Courier New, monospace\", \"size\": 15}, \"legend\": {\"tracegroupgap\": 0}, \"template\": {\"data\": {\"bar\": [{\"error_x\": {\"color\": \"#2a3f5f\"}, \"error_y\": {\"color\": \"#2a3f5f\"}, \"marker\": {\"line\": {\"color\": \"#E5ECF6\", \"width\": 0.5}}, \"type\": \"bar\"}], \"barpolar\": [{\"marker\": {\"line\": {\"color\": \"#E5ECF6\", \"width\": 0.5}}, \"type\": \"barpolar\"}], \"carpet\": [{\"aaxis\": {\"endlinecolor\": \"#2a3f5f\", \"gridcolor\": \"white\", \"linecolor\": \"white\", \"minorgridcolor\": \"white\", \"startlinecolor\": \"#2a3f5f\"}, \"baxis\": {\"endlinecolor\": \"#2a3f5f\", \"gridcolor\": \"white\", \"linecolor\": \"white\", \"minorgridcolor\": \"white\", \"startlinecolor\": \"#2a3f5f\"}, \"type\": \"carpet\"}], \"choropleth\": [{\"colorbar\": {\"outlinewidth\": 0, \"ticks\": \"\"}, \"type\": \"choropleth\"}], \"contour\": [{\"colorbar\": {\"outlinewidth\": 0, \"ticks\": \"\"}, \"colorscale\": [[0.0, \"#0d0887\"], [0.1111111111111111, \"#46039f\"], [0.2222222222222222, \"#7201a8\"], [0.3333333333333333, \"#9c179e\"], [0.4444444444444444, \"#bd3786\"], [0.5555555555555556, \"#d8576b\"], [0.6666666666666666, \"#ed7953\"], [0.7777777777777778, \"#fb9f3a\"], [0.8888888888888888, \"#fdca26\"], [1.0, \"#f0f921\"]], \"type\": \"contour\"}], \"contourcarpet\": [{\"colorbar\": {\"outlinewidth\": 0, \"ticks\": \"\"}, \"type\": \"contourcarpet\"}], \"heatmap\": [{\"colorbar\": {\"outlinewidth\": 0, \"ticks\": \"\"}, \"colorscale\": [[0.0, \"#0d0887\"], [0.1111111111111111, \"#46039f\"], [0.2222222222222222, \"#7201a8\"], [0.3333333333333333, \"#9c179e\"], [0.4444444444444444, \"#bd3786\"], [0.5555555555555556, \"#d8576b\"], [0.6666666666666666, \"#ed7953\"], [0.7777777777777778, \"#fb9f3a\"], [0.8888888888888888, \"#fdca26\"], [1.0, \"#f0f921\"]], \"type\": \"heatmap\"}], \"heatmapgl\": [{\"colorbar\": {\"outlinewidth\": 0, \"ticks\": \"\"}, \"colorscale\": [[0.0, \"#0d0887\"], [0.1111111111111111, \"#46039f\"], [0.2222222222222222, \"#7201a8\"], [0.3333333333333333, \"#9c179e\"], [0.4444444444444444, \"#bd3786\"], [0.5555555555555556, \"#d8576b\"], [0.6666666666666666, \"#ed7953\"], [0.7777777777777778, \"#fb9f3a\"], [0.8888888888888888, \"#fdca26\"], [1.0, \"#f0f921\"]], \"type\": \"heatmapgl\"}], \"histogram\": [{\"marker\": {\"colorbar\": {\"outlinewidth\": 0, \"ticks\": \"\"}}, \"type\": \"histogram\"}], \"histogram2d\": [{\"colorbar\": {\"outlinewidth\": 0, \"ticks\": \"\"}, \"colorscale\": [[0.0, \"#0d0887\"], [0.1111111111111111, \"#46039f\"], [0.2222222222222222, \"#7201a8\"], [0.3333333333333333, \"#9c179e\"], [0.4444444444444444, \"#bd3786\"], [0.5555555555555556, \"#d8576b\"], [0.6666666666666666, \"#ed7953\"], [0.7777777777777778, \"#fb9f3a\"], [0.8888888888888888, \"#fdca26\"], [1.0, \"#f0f921\"]], \"type\": \"histogram2d\"}], \"histogram2dcontour\": [{\"colorbar\": {\"outlinewidth\": 0, \"ticks\": \"\"}, \"colorscale\": [[0.0, \"#0d0887\"], [0.1111111111111111, \"#46039f\"], [0.2222222222222222, \"#7201a8\"], [0.3333333333333333, \"#9c179e\"], [0.4444444444444444, \"#bd3786\"], [0.5555555555555556, \"#d8576b\"], [0.6666666666666666, \"#ed7953\"], [0.7777777777777778, \"#fb9f3a\"], [0.8888888888888888, \"#fdca26\"], [1.0, \"#f0f921\"]], \"type\": \"histogram2dcontour\"}], \"mesh3d\": [{\"colorbar\": {\"outlinewidth\": 0, \"ticks\": \"\"}, \"type\": \"mesh3d\"}], \"parcoords\": [{\"line\": {\"colorbar\": {\"outlinewidth\": 0, \"ticks\": \"\"}}, \"type\": \"parcoords\"}], \"pie\": [{\"automargin\": true, \"type\": \"pie\"}], \"scatter\": [{\"marker\": {\"colorbar\": {\"outlinewidth\": 0, \"ticks\": \"\"}}, \"type\": \"scatter\"}], \"scatter3d\": [{\"line\": {\"colorbar\": {\"outlinewidth\": 0, \"ticks\": \"\"}}, \"marker\": {\"colorbar\": {\"outlinewidth\": 0, \"ticks\": \"\"}}, \"type\": \"scatter3d\"}], \"scattercarpet\": [{\"marker\": {\"colorbar\": {\"outlinewidth\": 0, \"ticks\": \"\"}}, \"type\": \"scattercarpet\"}], \"scattergeo\": [{\"marker\": {\"colorbar\": {\"outlinewidth\": 0, \"ticks\": \"\"}}, \"type\": \"scattergeo\"}], \"scattergl\": [{\"marker\": {\"colorbar\": {\"outlinewidth\": 0, \"ticks\": \"\"}}, \"type\": \"scattergl\"}], \"scattermapbox\": [{\"marker\": {\"colorbar\": {\"outlinewidth\": 0, \"ticks\": \"\"}}, \"type\": \"scattermapbox\"}], \"scatterpolar\": [{\"marker\": {\"colorbar\": {\"outlinewidth\": 0, \"ticks\": \"\"}}, \"type\": \"scatterpolar\"}], \"scatterpolargl\": [{\"marker\": {\"colorbar\": {\"outlinewidth\": 0, \"ticks\": \"\"}}, \"type\": \"scatterpolargl\"}], \"scatterternary\": [{\"marker\": {\"colorbar\": {\"outlinewidth\": 0, \"ticks\": \"\"}}, \"type\": \"scatterternary\"}], \"surface\": [{\"colorbar\": {\"outlinewidth\": 0, \"ticks\": \"\"}, \"colorscale\": [[0.0, \"#0d0887\"], [0.1111111111111111, \"#46039f\"], [0.2222222222222222, \"#7201a8\"], [0.3333333333333333, \"#9c179e\"], [0.4444444444444444, \"#bd3786\"], [0.5555555555555556, \"#d8576b\"], [0.6666666666666666, \"#ed7953\"], [0.7777777777777778, \"#fb9f3a\"], [0.8888888888888888, \"#fdca26\"], [1.0, \"#f0f921\"]], \"type\": \"surface\"}], \"table\": [{\"cells\": {\"fill\": {\"color\": \"#EBF0F8\"}, \"line\": {\"color\": \"white\"}}, \"header\": {\"fill\": {\"color\": \"#C8D4E3\"}, \"line\": {\"color\": \"white\"}}, \"type\": \"table\"}]}, \"layout\": {\"annotationdefaults\": {\"arrowcolor\": \"#2a3f5f\", \"arrowhead\": 0, \"arrowwidth\": 1}, \"autotypenumbers\": \"strict\", \"coloraxis\": {\"colorbar\": {\"outlinewidth\": 0, \"ticks\": \"\"}}, \"colorscale\": {\"diverging\": [[0, \"#8e0152\"], [0.1, \"#c51b7d\"], [0.2, \"#de77ae\"], [0.3, \"#f1b6da\"], [0.4, \"#fde0ef\"], [0.5, \"#f7f7f7\"], [0.6, \"#e6f5d0\"], [0.7, \"#b8e186\"], [0.8, \"#7fbc41\"], [0.9, \"#4d9221\"], [1, \"#276419\"]], \"sequential\": [[0.0, \"#0d0887\"], [0.1111111111111111, \"#46039f\"], [0.2222222222222222, \"#7201a8\"], [0.3333333333333333, \"#9c179e\"], [0.4444444444444444, \"#bd3786\"], [0.5555555555555556, \"#d8576b\"], [0.6666666666666666, \"#ed7953\"], [0.7777777777777778, \"#fb9f3a\"], [0.8888888888888888, \"#fdca26\"], [1.0, \"#f0f921\"]], \"sequentialminus\": [[0.0, \"#0d0887\"], [0.1111111111111111, \"#46039f\"], [0.2222222222222222, \"#7201a8\"], [0.3333333333333333, \"#9c179e\"], [0.4444444444444444, \"#bd3786\"], [0.5555555555555556, \"#d8576b\"], [0.6666666666666666, \"#ed7953\"], [0.7777777777777778, \"#fb9f3a\"], [0.8888888888888888, \"#fdca26\"], [1.0, \"#f0f921\"]]}, \"colorway\": [\"#636efa\", \"#EF553B\", \"#00cc96\", \"#ab63fa\", \"#FFA15A\", \"#19d3f3\", \"#FF6692\", \"#B6E880\", \"#FF97FF\", \"#FECB52\"], \"font\": {\"color\": \"#2a3f5f\"}, \"geo\": {\"bgcolor\": \"white\", \"lakecolor\": \"white\", \"landcolor\": \"#E5ECF6\", \"showlakes\": true, \"showland\": true, \"subunitcolor\": \"white\"}, \"hoverlabel\": {\"align\": \"left\"}, \"hovermode\": \"closest\", \"mapbox\": {\"style\": \"light\"}, \"paper_bgcolor\": \"white\", \"plot_bgcolor\": \"#E5ECF6\", \"polar\": {\"angularaxis\": {\"gridcolor\": \"white\", \"linecolor\": \"white\", \"ticks\": \"\"}, \"bgcolor\": \"#E5ECF6\", \"radialaxis\": {\"gridcolor\": \"white\", \"linecolor\": \"white\", \"ticks\": \"\"}}, \"scene\": {\"xaxis\": {\"backgroundcolor\": \"#E5ECF6\", \"gridcolor\": \"white\", \"gridwidth\": 2, \"linecolor\": \"white\", \"showbackground\": true, \"ticks\": \"\", \"zerolinecolor\": \"white\"}, \"yaxis\": {\"backgroundcolor\": \"#E5ECF6\", \"gridcolor\": \"white\", \"gridwidth\": 2, \"linecolor\": \"white\", \"showbackground\": true, \"ticks\": \"\", \"zerolinecolor\": \"white\"}, \"zaxis\": {\"backgroundcolor\": \"#E5ECF6\", \"gridcolor\": \"white\", \"gridwidth\": 2, \"linecolor\": \"white\", \"showbackground\": true, \"ticks\": \"\", \"zerolinecolor\": \"white\"}}, \"shapedefaults\": {\"line\": {\"color\": \"#2a3f5f\"}}, \"ternary\": {\"aaxis\": {\"gridcolor\": \"white\", \"linecolor\": \"white\", \"ticks\": \"\"}, \"baxis\": {\"gridcolor\": \"white\", \"linecolor\": \"white\", \"ticks\": \"\"}, \"bgcolor\": \"#E5ECF6\", \"caxis\": {\"gridcolor\": \"white\", \"linecolor\": \"white\", \"ticks\": \"\"}}, \"title\": {\"x\": 0.05}, \"xaxis\": {\"automargin\": true, \"gridcolor\": \"white\", \"linecolor\": \"white\", \"ticks\": \"\", \"title\": {\"standoff\": 15}, \"zerolinecolor\": \"white\", \"zerolinewidth\": 2}, \"yaxis\": {\"automargin\": true, \"gridcolor\": \"white\", \"linecolor\": \"white\", \"ticks\": \"\", \"title\": {\"standoff\": 15}, \"zerolinecolor\": \"white\", \"zerolinewidth\": 2}}}, \"title\": {\"text\": \"Mean difference with respect of number of sample\"}, \"xaxis\": {\"anchor\": \"y\", \"domain\": [0.0, 1.0], \"title\": {\"text\": \"Sample size (number)\"}}, \"yaxis\": {\"anchor\": \"x\", \"domain\": [0.0, 1.0], \"title\": {\"text\": \"Mean differance (pop-sample)\"}}},                        {\"responsive\": true}                    ).then(function(){\n                            \nvar gd = document.getElementById('5abd1816-3ae4-40f6-90ce-86c71e65dcaf');\nvar x = new MutationObserver(function (mutations, observer) {{\n        var display = window.getComputedStyle(gd).display;\n        if (!display || display === 'none') {{\n            console.log([gd, 'removed!']);\n            Plotly.purge(gd);\n            observer.disconnect();\n        }}\n}});\n\n// Listen for the removal of the full notebook cells\nvar notebookContainer = gd.closest('#notebook-container');\nif (notebookContainer) {{\n    x.observe(notebookContainer, {childList: true});\n}}\n\n// Listen for the clearing of the current output cell\nvar outputEl = gd.closest('.output');\nif (outputEl) {{\n    x.observe(outputEl, {childList: true});\n}}\n\n                        })                };                            </script>        </div>\n</body>\n</html>"
          },
          "metadata": {},
          "output_type": "display_data"
        }
      ]
    },
    {
      "cell_type": "code",
      "metadata": {
        "tags": [],
        "cell_id": "00089-8a6dd654-d77e-4047-97ca-ef5c4ef1fe12",
        "deepnote_to_be_reexecuted": false,
        "source_hash": "cd51b9dc",
        "execution_millis": 8,
        "execution_start": 1619078334061,
        "deepnote_cell_type": "code"
      },
      "source": "import plotly.graph_objects as go",
      "execution_count": 353,
      "outputs": []
    },
    {
      "cell_type": "code",
      "metadata": {
        "tags": [],
        "cell_id": "00090-631ecfc9-8bff-44ff-8947-50954c854c42",
        "deepnote_to_be_reexecuted": false,
        "source_hash": "344a7a0d",
        "execution_millis": 17,
        "execution_start": 1619078335413,
        "deepnote_cell_type": "code"
      },
      "source": "fig = go.Figure()\nfig.add_trace(go.Scatter(x=sample_sizes, y=differ))\nfig.update_layout(\n    title=\"Mean difference with respect of number of sample\",\n    xaxis_title=\"Sample size (number)\",\n    yaxis_title=\"Mean differance (pop-sample)\",\n    font=dict(\n        family=\"Courier New, monospace\",\n        size=15,\n        color=\"Black\"\n    )\n)\nfig.show()",
      "execution_count": 354,
      "outputs": [
        {
          "data": {
            "text/html": "<html>\n<head><meta charset=\"utf-8\" /></head>\n<body>\n    <div>            <script src=\"https://cdnjs.cloudflare.com/ajax/libs/mathjax/2.7.5/MathJax.js?config=TeX-AMS-MML_SVG\"></script><script type=\"text/javascript\">if (window.MathJax) {MathJax.Hub.Config({SVG: {font: \"STIX-Web\"}});}</script>                <script type=\"text/javascript\">window.PlotlyConfig = {MathJaxConfig: 'local'};</script>\n        <script src=\"https://cdn.plot.ly/plotly-latest.min.js\"></script>                <div id=\"1afce039-3f93-4007-bd7c-6a6c5fc7187d\" class=\"plotly-graph-div\" style=\"height:525px; width:100%;\"></div>            <script type=\"text/javascript\">                                    window.PLOTLYENV=window.PLOTLYENV || {};                                    if (document.getElementById(\"1afce039-3f93-4007-bd7c-6a6c5fc7187d\")) {                    Plotly.newPlot(                        \"1afce039-3f93-4007-bd7c-6a6c5fc7187d\",                        [{\"type\": \"scatter\", \"x\": [1, 2, 3, 4, 5, 6, 7, 8, 9, 10, 11, 12, 13, 14, 15, 16, 17, 18, 19, 20, 21, 22, 23, 24, 25, 26, 27, 28, 29, 30, 31, 32, 33, 34, 35, 36, 37, 38, 39, 40, 41, 42, 43, 44, 45, 46, 47, 48, 49], \"y\": [7007.875821619982, 8635.875821619982, 3033.790845046684, 1427.3741783800178, 217.32417838001857, 1195.3758216199822, 1824.1241783800178, 2419.499178380018, 1284.6797339355726, 63.2241783800182, 1889.9423601981998, 4423.792488286649, 1782.4142831584431, 5105.2670355228765, 2110.8575117133514, 1618.9383216199822, 722.7581745611587, 2531.8464006022405, 833.1916110936672, 2137.4258216199814, 1497.6003688562087, 1102.830367074528, 2234.09321292433, 2931.874178380018, 802.3241783800186, 191.89340914924833, 857.8017475459073, 320.98132123716096, 3277.74486803519, 1672.2241783800182, 217.61775710385336, 1572.4991783800178, 360.0938753497139, 1288.8169980905695, 1628.6186787628394, 14.485289491129151, 2539.7947405389004, 2823.849505830509, 1234.1754604312991, 521.9241783800171, 1035.8758216199822, 209.6717974276362, 631.2637132637392, 33.05763980180018, 821.3686228244624, 2770.332343359112, 22.70560885402483, 2971.959154953316, 675.2839848852891]}],                        {\"font\": {\"color\": \"Black\", \"family\": \"Courier New, monospace\", \"size\": 15}, \"template\": {\"data\": {\"bar\": [{\"error_x\": {\"color\": \"#2a3f5f\"}, \"error_y\": {\"color\": \"#2a3f5f\"}, \"marker\": {\"line\": {\"color\": \"#E5ECF6\", \"width\": 0.5}}, \"type\": \"bar\"}], \"barpolar\": [{\"marker\": {\"line\": {\"color\": \"#E5ECF6\", \"width\": 0.5}}, \"type\": \"barpolar\"}], \"carpet\": [{\"aaxis\": {\"endlinecolor\": \"#2a3f5f\", \"gridcolor\": \"white\", \"linecolor\": \"white\", \"minorgridcolor\": \"white\", \"startlinecolor\": \"#2a3f5f\"}, \"baxis\": {\"endlinecolor\": \"#2a3f5f\", \"gridcolor\": \"white\", \"linecolor\": \"white\", \"minorgridcolor\": \"white\", \"startlinecolor\": \"#2a3f5f\"}, \"type\": \"carpet\"}], \"choropleth\": [{\"colorbar\": {\"outlinewidth\": 0, \"ticks\": \"\"}, \"type\": \"choropleth\"}], \"contour\": [{\"colorbar\": {\"outlinewidth\": 0, \"ticks\": \"\"}, \"colorscale\": [[0.0, \"#0d0887\"], [0.1111111111111111, \"#46039f\"], [0.2222222222222222, \"#7201a8\"], [0.3333333333333333, \"#9c179e\"], [0.4444444444444444, \"#bd3786\"], [0.5555555555555556, \"#d8576b\"], [0.6666666666666666, \"#ed7953\"], [0.7777777777777778, \"#fb9f3a\"], [0.8888888888888888, \"#fdca26\"], [1.0, \"#f0f921\"]], \"type\": \"contour\"}], \"contourcarpet\": [{\"colorbar\": {\"outlinewidth\": 0, \"ticks\": \"\"}, \"type\": \"contourcarpet\"}], \"heatmap\": [{\"colorbar\": {\"outlinewidth\": 0, \"ticks\": \"\"}, \"colorscale\": [[0.0, \"#0d0887\"], [0.1111111111111111, \"#46039f\"], [0.2222222222222222, \"#7201a8\"], [0.3333333333333333, \"#9c179e\"], [0.4444444444444444, \"#bd3786\"], [0.5555555555555556, \"#d8576b\"], [0.6666666666666666, \"#ed7953\"], [0.7777777777777778, \"#fb9f3a\"], [0.8888888888888888, \"#fdca26\"], [1.0, \"#f0f921\"]], \"type\": \"heatmap\"}], \"heatmapgl\": [{\"colorbar\": {\"outlinewidth\": 0, \"ticks\": \"\"}, \"colorscale\": [[0.0, \"#0d0887\"], [0.1111111111111111, \"#46039f\"], [0.2222222222222222, \"#7201a8\"], [0.3333333333333333, \"#9c179e\"], [0.4444444444444444, \"#bd3786\"], [0.5555555555555556, \"#d8576b\"], [0.6666666666666666, \"#ed7953\"], [0.7777777777777778, \"#fb9f3a\"], [0.8888888888888888, \"#fdca26\"], [1.0, \"#f0f921\"]], \"type\": \"heatmapgl\"}], \"histogram\": [{\"marker\": {\"colorbar\": {\"outlinewidth\": 0, \"ticks\": \"\"}}, \"type\": \"histogram\"}], \"histogram2d\": [{\"colorbar\": {\"outlinewidth\": 0, \"ticks\": \"\"}, \"colorscale\": [[0.0, \"#0d0887\"], [0.1111111111111111, \"#46039f\"], [0.2222222222222222, \"#7201a8\"], [0.3333333333333333, \"#9c179e\"], [0.4444444444444444, \"#bd3786\"], [0.5555555555555556, \"#d8576b\"], [0.6666666666666666, \"#ed7953\"], [0.7777777777777778, \"#fb9f3a\"], [0.8888888888888888, \"#fdca26\"], [1.0, \"#f0f921\"]], \"type\": \"histogram2d\"}], \"histogram2dcontour\": [{\"colorbar\": {\"outlinewidth\": 0, \"ticks\": \"\"}, \"colorscale\": [[0.0, \"#0d0887\"], [0.1111111111111111, \"#46039f\"], [0.2222222222222222, \"#7201a8\"], [0.3333333333333333, \"#9c179e\"], [0.4444444444444444, \"#bd3786\"], [0.5555555555555556, \"#d8576b\"], [0.6666666666666666, \"#ed7953\"], [0.7777777777777778, \"#fb9f3a\"], [0.8888888888888888, \"#fdca26\"], [1.0, \"#f0f921\"]], \"type\": \"histogram2dcontour\"}], \"mesh3d\": [{\"colorbar\": {\"outlinewidth\": 0, \"ticks\": \"\"}, \"type\": \"mesh3d\"}], \"parcoords\": [{\"line\": {\"colorbar\": {\"outlinewidth\": 0, \"ticks\": \"\"}}, \"type\": \"parcoords\"}], \"pie\": [{\"automargin\": true, \"type\": \"pie\"}], \"scatter\": [{\"marker\": {\"colorbar\": {\"outlinewidth\": 0, \"ticks\": \"\"}}, \"type\": \"scatter\"}], \"scatter3d\": [{\"line\": {\"colorbar\": {\"outlinewidth\": 0, \"ticks\": \"\"}}, \"marker\": {\"colorbar\": {\"outlinewidth\": 0, \"ticks\": \"\"}}, \"type\": \"scatter3d\"}], \"scattercarpet\": [{\"marker\": {\"colorbar\": {\"outlinewidth\": 0, \"ticks\": \"\"}}, \"type\": \"scattercarpet\"}], \"scattergeo\": [{\"marker\": {\"colorbar\": {\"outlinewidth\": 0, \"ticks\": \"\"}}, \"type\": \"scattergeo\"}], \"scattergl\": [{\"marker\": {\"colorbar\": {\"outlinewidth\": 0, \"ticks\": \"\"}}, \"type\": \"scattergl\"}], \"scattermapbox\": [{\"marker\": {\"colorbar\": {\"outlinewidth\": 0, \"ticks\": \"\"}}, \"type\": \"scattermapbox\"}], \"scatterpolar\": [{\"marker\": {\"colorbar\": {\"outlinewidth\": 0, \"ticks\": \"\"}}, \"type\": \"scatterpolar\"}], \"scatterpolargl\": [{\"marker\": {\"colorbar\": {\"outlinewidth\": 0, \"ticks\": \"\"}}, \"type\": \"scatterpolargl\"}], \"scatterternary\": [{\"marker\": {\"colorbar\": {\"outlinewidth\": 0, \"ticks\": \"\"}}, \"type\": \"scatterternary\"}], \"surface\": [{\"colorbar\": {\"outlinewidth\": 0, \"ticks\": \"\"}, \"colorscale\": [[0.0, \"#0d0887\"], [0.1111111111111111, \"#46039f\"], [0.2222222222222222, \"#7201a8\"], [0.3333333333333333, \"#9c179e\"], [0.4444444444444444, \"#bd3786\"], [0.5555555555555556, \"#d8576b\"], [0.6666666666666666, \"#ed7953\"], [0.7777777777777778, \"#fb9f3a\"], [0.8888888888888888, \"#fdca26\"], [1.0, \"#f0f921\"]], \"type\": \"surface\"}], \"table\": [{\"cells\": {\"fill\": {\"color\": \"#EBF0F8\"}, \"line\": {\"color\": \"white\"}}, \"header\": {\"fill\": {\"color\": \"#C8D4E3\"}, \"line\": {\"color\": \"white\"}}, \"type\": \"table\"}]}, \"layout\": {\"annotationdefaults\": {\"arrowcolor\": \"#2a3f5f\", \"arrowhead\": 0, \"arrowwidth\": 1}, \"autotypenumbers\": \"strict\", \"coloraxis\": {\"colorbar\": {\"outlinewidth\": 0, \"ticks\": \"\"}}, \"colorscale\": {\"diverging\": [[0, \"#8e0152\"], [0.1, \"#c51b7d\"], [0.2, \"#de77ae\"], [0.3, \"#f1b6da\"], [0.4, \"#fde0ef\"], [0.5, \"#f7f7f7\"], [0.6, \"#e6f5d0\"], [0.7, \"#b8e186\"], [0.8, \"#7fbc41\"], [0.9, \"#4d9221\"], [1, \"#276419\"]], \"sequential\": [[0.0, \"#0d0887\"], [0.1111111111111111, \"#46039f\"], [0.2222222222222222, \"#7201a8\"], [0.3333333333333333, \"#9c179e\"], [0.4444444444444444, \"#bd3786\"], [0.5555555555555556, \"#d8576b\"], [0.6666666666666666, \"#ed7953\"], [0.7777777777777778, \"#fb9f3a\"], [0.8888888888888888, \"#fdca26\"], [1.0, \"#f0f921\"]], \"sequentialminus\": [[0.0, \"#0d0887\"], [0.1111111111111111, \"#46039f\"], [0.2222222222222222, \"#7201a8\"], [0.3333333333333333, \"#9c179e\"], [0.4444444444444444, \"#bd3786\"], [0.5555555555555556, \"#d8576b\"], [0.6666666666666666, \"#ed7953\"], [0.7777777777777778, \"#fb9f3a\"], [0.8888888888888888, \"#fdca26\"], [1.0, \"#f0f921\"]]}, \"colorway\": [\"#636efa\", \"#EF553B\", \"#00cc96\", \"#ab63fa\", \"#FFA15A\", \"#19d3f3\", \"#FF6692\", \"#B6E880\", \"#FF97FF\", \"#FECB52\"], \"font\": {\"color\": \"#2a3f5f\"}, \"geo\": {\"bgcolor\": \"white\", \"lakecolor\": \"white\", \"landcolor\": \"#E5ECF6\", \"showlakes\": true, \"showland\": true, \"subunitcolor\": \"white\"}, \"hoverlabel\": {\"align\": \"left\"}, \"hovermode\": \"closest\", \"mapbox\": {\"style\": \"light\"}, \"paper_bgcolor\": \"white\", \"plot_bgcolor\": \"#E5ECF6\", \"polar\": {\"angularaxis\": {\"gridcolor\": \"white\", \"linecolor\": \"white\", \"ticks\": \"\"}, \"bgcolor\": \"#E5ECF6\", \"radialaxis\": {\"gridcolor\": \"white\", \"linecolor\": \"white\", \"ticks\": \"\"}}, \"scene\": {\"xaxis\": {\"backgroundcolor\": \"#E5ECF6\", \"gridcolor\": \"white\", \"gridwidth\": 2, \"linecolor\": \"white\", \"showbackground\": true, \"ticks\": \"\", \"zerolinecolor\": \"white\"}, \"yaxis\": {\"backgroundcolor\": \"#E5ECF6\", \"gridcolor\": \"white\", \"gridwidth\": 2, \"linecolor\": \"white\", \"showbackground\": true, \"ticks\": \"\", \"zerolinecolor\": \"white\"}, \"zaxis\": {\"backgroundcolor\": \"#E5ECF6\", \"gridcolor\": \"white\", \"gridwidth\": 2, \"linecolor\": \"white\", \"showbackground\": true, \"ticks\": \"\", \"zerolinecolor\": \"white\"}}, \"shapedefaults\": {\"line\": {\"color\": \"#2a3f5f\"}}, \"ternary\": {\"aaxis\": {\"gridcolor\": \"white\", \"linecolor\": \"white\", \"ticks\": \"\"}, \"baxis\": {\"gridcolor\": \"white\", \"linecolor\": \"white\", \"ticks\": \"\"}, \"bgcolor\": \"#E5ECF6\", \"caxis\": {\"gridcolor\": \"white\", \"linecolor\": \"white\", \"ticks\": \"\"}}, \"title\": {\"x\": 0.05}, \"xaxis\": {\"automargin\": true, \"gridcolor\": \"white\", \"linecolor\": \"white\", \"ticks\": \"\", \"title\": {\"standoff\": 15}, \"zerolinecolor\": \"white\", \"zerolinewidth\": 2}, \"yaxis\": {\"automargin\": true, \"gridcolor\": \"white\", \"linecolor\": \"white\", \"ticks\": \"\", \"title\": {\"standoff\": 15}, \"zerolinecolor\": \"white\", \"zerolinewidth\": 2}}}, \"title\": {\"text\": \"Mean difference with respect of number of sample\"}, \"xaxis\": {\"title\": {\"text\": \"Sample size (number)\"}}, \"yaxis\": {\"title\": {\"text\": \"Mean differance (pop-sample)\"}}},                        {\"responsive\": true}                    ).then(function(){\n                            \nvar gd = document.getElementById('1afce039-3f93-4007-bd7c-6a6c5fc7187d');\nvar x = new MutationObserver(function (mutations, observer) {{\n        var display = window.getComputedStyle(gd).display;\n        if (!display || display === 'none') {{\n            console.log([gd, 'removed!']);\n            Plotly.purge(gd);\n            observer.disconnect();\n        }}\n}});\n\n// Listen for the removal of the full notebook cells\nvar notebookContainer = gd.closest('#notebook-container');\nif (notebookContainer) {{\n    x.observe(notebookContainer, {childList: true});\n}}\n\n// Listen for the clearing of the current output cell\nvar outputEl = gd.closest('.output');\nif (outputEl) {{\n    x.observe(outputEl, {childList: true});\n}}\n\n                        })                };                            </script>        </div>\n</body>\n</html>"
          },
          "metadata": {},
          "output_type": "display_data"
        }
      ]
    },
    {
      "cell_type": "markdown",
      "source": "## 18. Create list from 300 and 1000",
      "metadata": {
        "tags": [],
        "cell_id": "00069-b848ccf5-e7b4-4a74-b8aa-0b37071a09a9",
        "deepnote_cell_type": "markdown"
      }
    },
    {
      "cell_type": "markdown",
      "source": "create a list with 300",
      "metadata": {
        "tags": [],
        "cell_id": "00092-7517e073-192e-43da-9576-f383f38adbf0",
        "deepnote_cell_type": "markdown"
      }
    },
    {
      "cell_type": "code",
      "metadata": {
        "tags": [],
        "cell_id": "00092-74b6d87c-086e-4c82-bcfd-cef6c6e6f026",
        "deepnote_to_be_reexecuted": false,
        "source_hash": "f1a901eb",
        "execution_millis": 0,
        "execution_start": 1619078339168,
        "deepnote_cell_type": "code"
      },
      "source": "sample_300= list(range(1,300)) # create a list that goes from 1-300",
      "execution_count": 355,
      "outputs": []
    },
    {
      "cell_type": "code",
      "metadata": {
        "tags": [],
        "cell_id": "00094-03fe3a29-06eb-4f68-b397-86b56453d84e",
        "deepnote_to_be_reexecuted": false,
        "source_hash": "f9a97a2a",
        "execution_millis": 34,
        "execution_start": 1619078341450,
        "deepnote_cell_type": "code"
      },
      "source": "sample_300",
      "execution_count": 356,
      "outputs": [
        {
          "output_type": "execute_result",
          "execution_count": 356,
          "data": {
            "text/plain": "[1,\n 2,\n 3,\n 4,\n 5,\n 6,\n 7,\n 8,\n 9,\n 10,\n 11,\n 12,\n 13,\n 14,\n 15,\n 16,\n 17,\n 18,\n 19,\n 20,\n 21,\n 22,\n 23,\n 24,\n 25,\n 26,\n 27,\n 28,\n 29,\n 30,\n 31,\n 32,\n 33,\n 34,\n 35,\n 36,\n 37,\n 38,\n 39,\n 40,\n 41,\n 42,\n 43,\n 44,\n 45,\n 46,\n 47,\n 48,\n 49,\n 50,\n 51,\n 52,\n 53,\n 54,\n 55,\n 56,\n 57,\n 58,\n 59,\n 60,\n 61,\n 62,\n 63,\n 64,\n 65,\n 66,\n 67,\n 68,\n 69,\n 70,\n 71,\n 72,\n 73,\n 74,\n 75,\n 76,\n 77,\n 78,\n 79,\n 80,\n 81,\n 82,\n 83,\n 84,\n 85,\n 86,\n 87,\n 88,\n 89,\n 90,\n 91,\n 92,\n 93,\n 94,\n 95,\n 96,\n 97,\n 98,\n 99,\n 100,\n 101,\n 102,\n 103,\n 104,\n 105,\n 106,\n 107,\n 108,\n 109,\n 110,\n 111,\n 112,\n 113,\n 114,\n 115,\n 116,\n 117,\n 118,\n 119,\n 120,\n 121,\n 122,\n 123,\n 124,\n 125,\n 126,\n 127,\n 128,\n 129,\n 130,\n 131,\n 132,\n 133,\n 134,\n 135,\n 136,\n 137,\n 138,\n 139,\n 140,\n 141,\n 142,\n 143,\n 144,\n 145,\n 146,\n 147,\n 148,\n 149,\n 150,\n 151,\n 152,\n 153,\n 154,\n 155,\n 156,\n 157,\n 158,\n 159,\n 160,\n 161,\n 162,\n 163,\n 164,\n 165,\n 166,\n 167,\n 168,\n 169,\n 170,\n 171,\n 172,\n 173,\n 174,\n 175,\n 176,\n 177,\n 178,\n 179,\n 180,\n 181,\n 182,\n 183,\n 184,\n 185,\n 186,\n 187,\n 188,\n 189,\n 190,\n 191,\n 192,\n 193,\n 194,\n 195,\n 196,\n 197,\n 198,\n 199,\n 200,\n 201,\n 202,\n 203,\n 204,\n 205,\n 206,\n 207,\n 208,\n 209,\n 210,\n 211,\n 212,\n 213,\n 214,\n 215,\n 216,\n 217,\n 218,\n 219,\n 220,\n 221,\n 222,\n 223,\n 224,\n 225,\n 226,\n 227,\n 228,\n 229,\n 230,\n 231,\n 232,\n 233,\n 234,\n 235,\n 236,\n 237,\n 238,\n 239,\n 240,\n 241,\n 242,\n 243,\n 244,\n 245,\n 246,\n 247,\n 248,\n 249,\n 250,\n 251,\n 252,\n 253,\n 254,\n 255,\n 256,\n 257,\n 258,\n 259,\n 260,\n 261,\n 262,\n 263,\n 264,\n 265,\n 266,\n 267,\n 268,\n 269,\n 270,\n 271,\n 272,\n 273,\n 274,\n 275,\n 276,\n 277,\n 278,\n 279,\n 280,\n 281,\n 282,\n 283,\n 284,\n 285,\n 286,\n 287,\n 288,\n 289,\n 290,\n 291,\n 292,\n 293,\n 294,\n 295,\n 296,\n 297,\n 298,\n 299]"
          },
          "metadata": {}
        }
      ]
    },
    {
      "cell_type": "code",
      "metadata": {
        "tags": [],
        "cell_id": "00092-a630ef03-9e10-43cc-b5cb-d622d534bd09",
        "deepnote_to_be_reexecuted": false,
        "source_hash": "ee770099",
        "execution_millis": 177,
        "execution_start": 1619078348856,
        "deepnote_cell_type": "code"
      },
      "source": "differ300= [difference(t,filter_data) for t in sample_300]\nprint(differ300)",
      "execution_count": 357,
      "outputs": [
        {
          "name": "stdout",
          "text": "[11779.124178380018, 3700.124178380018, 5195.209154953315, 4369.124178380018, 1886.6758216199814, 973.7908450466839, 3773.2670355228747, 6084.249178380018, 3168.209154953316, 796.2758216199818, 1008.7849125290722, 371.12417838001784, 747.2604370045974, 648.9098926657316, 1794.742488286649, 2893.938321619982, 2690.0065313211944, 780.7091549533161, 2423.454768988404, 416.57417838001857, 691.7908450466839, 452.6485488927101, 1995.4410390112862, 22.332511713351778, 468.43582161998165, 882.7604370045974, 699.8278820837222, 2358.0170355228747, 2476.4620285165347, 763.8758216199822, 1785.6500151683686, 1361.5633216199822, 1624.4272086830479, 1372.5817039729227, 589.5901073342684, 248.32026606442741, 115.07012432596457, 1595.3495058305089, 745.9959732518128, 105.92582161998143, 640.5388125263598, 163.8043930485528, 784.9223332478887, 198.94400343816415, 240.03137717553727, 21.863308814799893, 764.9752422098045, 378.50082161998216, 986.0425457269557, 1528.995821619983, 932.3006489682539, 1358.0681293122907, 593.7060102992273, 672.5980438422048, 508.58491252907334, 903.6420355228747, 1795.896108204579, 300.00348872484574, 1151.1300589081184, 1160.0575117133503, 430.67910030850726, 1003.666144200628, 268.78058352474363, 615.7491783800178, 1240.7527446969052, 1081.2394579836182, 14.810745544196834, 206.24346867880558, 1851.9482853880982, 353.19010733426876, 824.7490610566019, 1246.2785993977595, 884.7799312090228, 122.70525946109956, 571.4224882866492, 835.8083889063328, 118.65504239920301, 1470.6369988928382, 1457.3948089617552, 1353.7258216199825, 684.9128586570187, 392.12417838001784, 1309.7988771751989, 174.36391685807757, 139.6640569141, 379.01952721722773, 146.1816496443862, 2419.3173601982, 252.03312499076856, 550.9424882866497, 436.25604651188587, 491.5589609887138, 482.68227323288556, 533.6773698693796, 126.85476898840352, 534.0216549533161, 1321.1026257436934, 516.0901073342684, 2688.1039763598164, 2145.6858216199817, 790.3320991720975, 683.1013118160608, 1061.1727220693374, 1282.6145629954026, 219.62820257236308, 136.2248782237566, 27.006662741478067, 2519.4128586570187, 468.2434444350638, 2345.969632925473, 7.070124325964571, 219.3831069514472, 959.1418774950616, 1432.5803187308957, 263.7241783800182, 491.4620285165347, 192.3288130729743, 653.2936699054408, 2759.884224981326, 1386.8591549533157, 129.3555833386963, 349.59713309539256, 1721.2298694369292, 1747.7693396703398, 1717.4761783800186, 1251.1456628898231, 1052.620241372144, 952.3038658800178, 495.75983729474683, 587.906590850751, 537.860554444409, 738.1620571678959, 897.6956069514472, 1174.4056723662507, 717.4535993977606, 375.736115737629, 491.000090788777, 188.66567669244614, 776.8795740634705, 857.1098926657323, 2052.2872989473944, 1732.3053990847711, 778.7149824591434, 1796.771654953316, 540.6276266558798, 131.1515756402914, 166.2091549533161, 1693.0430972989361, 87.4597488498166, 928.5158216199816, 150.45198056037952, 231.11924267261384, 2.130723580767153, 1139.974827730668, 1622.6919203155012, 304.830949825111, 345.0350572887728, 279.2049355440322, 36.07386391460932, 949.5741783800186, 243.4036814856081, 636.7723265281656, 1624.7928900364604, 261.48393447757917, 45.42733677149772, 183.6121301872463, 1594.3577113141491, 774.272987903827, 1064.2249340460185, 1010.987586325864, 254.52768715194725, 244.57766675211133, 251.93940543501049, 784.2206492061887, 414.52725019141144, 1977.283269289108, 452.48576030092227, 1158.3926755525663, 709.6355981562956, 199.78528949112842, 809.8537221724691, 1940.6901124459528, 476.9329215494163, 1441.3089609887138, 555.0106648665042, 1145.6231334479398, 433.3541249040827, 638.9822045987057, 155.6483083924686, 364.5873362747552, 1274.530271881762, 112.65542838001784, 455.767013329827, 347.0201515168901, 516.1835139276736, 218.8911277424304, 418.4138926859723, 20.50208424624543, 4.152203529529288, 578.6191783800186, 516.4525365889731, 410.3708711249328, 136.02565621253052, 148.50653132119442, 801.6997881361149, 476.8620424576875, 593.3222460128673, 418.5809091492483, 150.51696994534177, 636.8472501914111, 798.517543308928, 111.18549913473544, 491.7251173471541, 191.3804945171778, 1164.8572169688196, 646.0702660644274, 105.05505395605542, 1523.885646269926, 167.06760244190082, 287.015087470927, 1110.4635448958543, 112.79924504340488, 1197.285613357597, 216.19278590569593, 147.04026606442676, 1219.3586916543536, 438.5603017280355, 1145.9810847778772, 854.7311652795815, 82.56712596780744, 21.927769671930946, 171.34564920618868, 19.523320010919633, 109.11513785929856, 1634.1226301306197, 621.1342961962528, 900.15793365428, 681.7586321615308, 430.474147979814, 739.3549882866482, 404.38973854599317, 334.25598690923835, 459.61389031417457, 283.75696916096604, 409.99764776777374, 617.2823256850224, 121.76790307637384, 281.25724289614664, 420.0284320617484, 121.1001783800184, 70.38712658718941, 387.7091549533161, 256.81192541559176, 1275.620241372144, 511.1032726003741, 21.987459630017838, 325.8719305693994, 1045.426209216881, 661.0662633221036, 96.45274469690594, 54.45368029572637, 198.5554760899413, 250.19261944465688, 204.17720868304787, 416.95884048790685, 607.7517614696062, 753.9469826686709, 362.44507390240506, 171.964327078902, 266.0684142125756, 363.41456700743583, 202.62785485060522, 97.80916006499865, 713.7663325688882, 1255.7023601982, 950.7490100257801, 270.5971025677427, 650.9441669437238, 360.71811552679173, 843.538464094303, 347.07079759709995, 153.17736986937962, 285.40585695567097, 102.70868542227072, 734.1740672340165, 1022.3268705710307, 327.10327245667213, 38.24570615779521, 596.4494378955897, 353.08616644756876, 96.3363027196392, 661.1207537224836, 594.8655827121329, 508.8826243410713, 1089.9876860267614, 114.95014594430722, 46.47771373355317, 168.6610911316966, 198.04304570024942]\n",
          "output_type": "stream"
        }
      ]
    },
    {
      "cell_type": "markdown",
      "source": "create a list with 1000",
      "metadata": {
        "tags": [],
        "cell_id": "00096-c0fefec7-d9c6-4935-b8a1-e106e2d569bd",
        "deepnote_cell_type": "markdown"
      }
    },
    {
      "cell_type": "code",
      "metadata": {
        "tags": [],
        "cell_id": "00094-711df793-6ab8-45ba-ba05-0a4293b71762",
        "deepnote_to_be_reexecuted": false,
        "source_hash": "63d37ad6",
        "execution_millis": 3,
        "execution_start": 1619078350999,
        "deepnote_cell_type": "code"
      },
      "source": "sample_1000= list(range(1,1000)) # create a list that goes from 1-1000",
      "execution_count": 358,
      "outputs": []
    },
    {
      "cell_type": "code",
      "metadata": {
        "tags": [],
        "cell_id": "00097-ec45b46e-5d09-43b9-a8e9-d927be6be283",
        "deepnote_to_be_reexecuted": false,
        "source_hash": "a469bbb9",
        "execution_millis": 18,
        "execution_start": 1619078352479,
        "deepnote_cell_type": "code"
      },
      "source": "sample_1000",
      "execution_count": 359,
      "outputs": [
        {
          "output_type": "execute_result",
          "execution_count": 359,
          "data": {
            "text/plain": "[1,\n 2,\n 3,\n 4,\n 5,\n 6,\n 7,\n 8,\n 9,\n 10,\n 11,\n 12,\n 13,\n 14,\n 15,\n 16,\n 17,\n 18,\n 19,\n 20,\n 21,\n 22,\n 23,\n 24,\n 25,\n 26,\n 27,\n 28,\n 29,\n 30,\n 31,\n 32,\n 33,\n 34,\n 35,\n 36,\n 37,\n 38,\n 39,\n 40,\n 41,\n 42,\n 43,\n 44,\n 45,\n 46,\n 47,\n 48,\n 49,\n 50,\n 51,\n 52,\n 53,\n 54,\n 55,\n 56,\n 57,\n 58,\n 59,\n 60,\n 61,\n 62,\n 63,\n 64,\n 65,\n 66,\n 67,\n 68,\n 69,\n 70,\n 71,\n 72,\n 73,\n 74,\n 75,\n 76,\n 77,\n 78,\n 79,\n 80,\n 81,\n 82,\n 83,\n 84,\n 85,\n 86,\n 87,\n 88,\n 89,\n 90,\n 91,\n 92,\n 93,\n 94,\n 95,\n 96,\n 97,\n 98,\n 99,\n 100,\n 101,\n 102,\n 103,\n 104,\n 105,\n 106,\n 107,\n 108,\n 109,\n 110,\n 111,\n 112,\n 113,\n 114,\n 115,\n 116,\n 117,\n 118,\n 119,\n 120,\n 121,\n 122,\n 123,\n 124,\n 125,\n 126,\n 127,\n 128,\n 129,\n 130,\n 131,\n 132,\n 133,\n 134,\n 135,\n 136,\n 137,\n 138,\n 139,\n 140,\n 141,\n 142,\n 143,\n 144,\n 145,\n 146,\n 147,\n 148,\n 149,\n 150,\n 151,\n 152,\n 153,\n 154,\n 155,\n 156,\n 157,\n 158,\n 159,\n 160,\n 161,\n 162,\n 163,\n 164,\n 165,\n 166,\n 167,\n 168,\n 169,\n 170,\n 171,\n 172,\n 173,\n 174,\n 175,\n 176,\n 177,\n 178,\n 179,\n 180,\n 181,\n 182,\n 183,\n 184,\n 185,\n 186,\n 187,\n 188,\n 189,\n 190,\n 191,\n 192,\n 193,\n 194,\n 195,\n 196,\n 197,\n 198,\n 199,\n 200,\n 201,\n 202,\n 203,\n 204,\n 205,\n 206,\n 207,\n 208,\n 209,\n 210,\n 211,\n 212,\n 213,\n 214,\n 215,\n 216,\n 217,\n 218,\n 219,\n 220,\n 221,\n 222,\n 223,\n 224,\n 225,\n 226,\n 227,\n 228,\n 229,\n 230,\n 231,\n 232,\n 233,\n 234,\n 235,\n 236,\n 237,\n 238,\n 239,\n 240,\n 241,\n 242,\n 243,\n 244,\n 245,\n 246,\n 247,\n 248,\n 249,\n 250,\n 251,\n 252,\n 253,\n 254,\n 255,\n 256,\n 257,\n 258,\n 259,\n 260,\n 261,\n 262,\n 263,\n 264,\n 265,\n 266,\n 267,\n 268,\n 269,\n 270,\n 271,\n 272,\n 273,\n 274,\n 275,\n 276,\n 277,\n 278,\n 279,\n 280,\n 281,\n 282,\n 283,\n 284,\n 285,\n 286,\n 287,\n 288,\n 289,\n 290,\n 291,\n 292,\n 293,\n 294,\n 295,\n 296,\n 297,\n 298,\n 299,\n 300,\n 301,\n 302,\n 303,\n 304,\n 305,\n 306,\n 307,\n 308,\n 309,\n 310,\n 311,\n 312,\n 313,\n 314,\n 315,\n 316,\n 317,\n 318,\n 319,\n 320,\n 321,\n 322,\n 323,\n 324,\n 325,\n 326,\n 327,\n 328,\n 329,\n 330,\n 331,\n 332,\n 333,\n 334,\n 335,\n 336,\n 337,\n 338,\n 339,\n 340,\n 341,\n 342,\n 343,\n 344,\n 345,\n 346,\n 347,\n 348,\n 349,\n 350,\n 351,\n 352,\n 353,\n 354,\n 355,\n 356,\n 357,\n 358,\n 359,\n 360,\n 361,\n 362,\n 363,\n 364,\n 365,\n 366,\n 367,\n 368,\n 369,\n 370,\n 371,\n 372,\n 373,\n 374,\n 375,\n 376,\n 377,\n 378,\n 379,\n 380,\n 381,\n 382,\n 383,\n 384,\n 385,\n 386,\n 387,\n 388,\n 389,\n 390,\n 391,\n 392,\n 393,\n 394,\n 395,\n 396,\n 397,\n 398,\n 399,\n 400,\n 401,\n 402,\n 403,\n 404,\n 405,\n 406,\n 407,\n 408,\n 409,\n 410,\n 411,\n 412,\n 413,\n 414,\n 415,\n 416,\n 417,\n 418,\n 419,\n 420,\n 421,\n 422,\n 423,\n 424,\n 425,\n 426,\n 427,\n 428,\n 429,\n 430,\n 431,\n 432,\n 433,\n 434,\n 435,\n 436,\n 437,\n 438,\n 439,\n 440,\n 441,\n 442,\n 443,\n 444,\n 445,\n 446,\n 447,\n 448,\n 449,\n 450,\n 451,\n 452,\n 453,\n 454,\n 455,\n 456,\n 457,\n 458,\n 459,\n 460,\n 461,\n 462,\n 463,\n 464,\n 465,\n 466,\n 467,\n 468,\n 469,\n 470,\n 471,\n 472,\n 473,\n 474,\n 475,\n 476,\n 477,\n 478,\n 479,\n 480,\n 481,\n 482,\n 483,\n 484,\n 485,\n 486,\n 487,\n 488,\n 489,\n 490,\n 491,\n 492,\n 493,\n 494,\n 495,\n 496,\n 497,\n 498,\n 499,\n 500,\n 501,\n 502,\n 503,\n 504,\n 505,\n 506,\n 507,\n 508,\n 509,\n 510,\n 511,\n 512,\n 513,\n 514,\n 515,\n 516,\n 517,\n 518,\n 519,\n 520,\n 521,\n 522,\n 523,\n 524,\n 525,\n 526,\n 527,\n 528,\n 529,\n 530,\n 531,\n 532,\n 533,\n 534,\n 535,\n 536,\n 537,\n 538,\n 539,\n 540,\n 541,\n 542,\n 543,\n 544,\n 545,\n 546,\n 547,\n 548,\n 549,\n 550,\n 551,\n 552,\n 553,\n 554,\n 555,\n 556,\n 557,\n 558,\n 559,\n 560,\n 561,\n 562,\n 563,\n 564,\n 565,\n 566,\n 567,\n 568,\n 569,\n 570,\n 571,\n 572,\n 573,\n 574,\n 575,\n 576,\n 577,\n 578,\n 579,\n 580,\n 581,\n 582,\n 583,\n 584,\n 585,\n 586,\n 587,\n 588,\n 589,\n 590,\n 591,\n 592,\n 593,\n 594,\n 595,\n 596,\n 597,\n 598,\n 599,\n 600,\n 601,\n 602,\n 603,\n 604,\n 605,\n 606,\n 607,\n 608,\n 609,\n 610,\n 611,\n 612,\n 613,\n 614,\n 615,\n 616,\n 617,\n 618,\n 619,\n 620,\n 621,\n 622,\n 623,\n 624,\n 625,\n 626,\n 627,\n 628,\n 629,\n 630,\n 631,\n 632,\n 633,\n 634,\n 635,\n 636,\n 637,\n 638,\n 639,\n 640,\n 641,\n 642,\n 643,\n 644,\n 645,\n 646,\n 647,\n 648,\n 649,\n 650,\n 651,\n 652,\n 653,\n 654,\n 655,\n 656,\n 657,\n 658,\n 659,\n 660,\n 661,\n 662,\n 663,\n 664,\n 665,\n 666,\n 667,\n 668,\n 669,\n 670,\n 671,\n 672,\n 673,\n 674,\n 675,\n 676,\n 677,\n 678,\n 679,\n 680,\n 681,\n 682,\n 683,\n 684,\n 685,\n 686,\n 687,\n 688,\n 689,\n 690,\n 691,\n 692,\n 693,\n 694,\n 695,\n 696,\n 697,\n 698,\n 699,\n 700,\n 701,\n 702,\n 703,\n 704,\n 705,\n 706,\n 707,\n 708,\n 709,\n 710,\n 711,\n 712,\n 713,\n 714,\n 715,\n 716,\n 717,\n 718,\n 719,\n 720,\n 721,\n 722,\n 723,\n 724,\n 725,\n 726,\n 727,\n 728,\n 729,\n 730,\n 731,\n 732,\n 733,\n 734,\n 735,\n 736,\n 737,\n 738,\n 739,\n 740,\n 741,\n 742,\n 743,\n 744,\n 745,\n 746,\n 747,\n 748,\n 749,\n 750,\n 751,\n 752,\n 753,\n 754,\n 755,\n 756,\n 757,\n 758,\n 759,\n 760,\n 761,\n 762,\n 763,\n 764,\n 765,\n 766,\n 767,\n 768,\n 769,\n 770,\n 771,\n 772,\n 773,\n 774,\n 775,\n 776,\n 777,\n 778,\n 779,\n 780,\n 781,\n 782,\n 783,\n 784,\n 785,\n 786,\n 787,\n 788,\n 789,\n 790,\n 791,\n 792,\n 793,\n 794,\n 795,\n 796,\n 797,\n 798,\n 799,\n 800,\n 801,\n 802,\n 803,\n 804,\n 805,\n 806,\n 807,\n 808,\n 809,\n 810,\n 811,\n 812,\n 813,\n 814,\n 815,\n 816,\n 817,\n 818,\n 819,\n 820,\n 821,\n 822,\n 823,\n 824,\n 825,\n 826,\n 827,\n 828,\n 829,\n 830,\n 831,\n 832,\n 833,\n 834,\n 835,\n 836,\n 837,\n 838,\n 839,\n 840,\n 841,\n 842,\n 843,\n 844,\n 845,\n 846,\n 847,\n 848,\n 849,\n 850,\n 851,\n 852,\n 853,\n 854,\n 855,\n 856,\n 857,\n 858,\n 859,\n 860,\n 861,\n 862,\n 863,\n 864,\n 865,\n 866,\n 867,\n 868,\n 869,\n 870,\n 871,\n 872,\n 873,\n 874,\n 875,\n 876,\n 877,\n 878,\n 879,\n 880,\n 881,\n 882,\n 883,\n 884,\n 885,\n 886,\n 887,\n 888,\n 889,\n 890,\n 891,\n 892,\n 893,\n 894,\n 895,\n 896,\n 897,\n 898,\n 899,\n 900,\n 901,\n 902,\n 903,\n 904,\n 905,\n 906,\n 907,\n 908,\n 909,\n 910,\n 911,\n 912,\n 913,\n 914,\n 915,\n 916,\n 917,\n 918,\n 919,\n 920,\n 921,\n 922,\n 923,\n 924,\n 925,\n 926,\n 927,\n 928,\n 929,\n 930,\n 931,\n 932,\n 933,\n 934,\n 935,\n 936,\n 937,\n 938,\n 939,\n 940,\n 941,\n 942,\n 943,\n 944,\n 945,\n 946,\n 947,\n 948,\n 949,\n 950,\n 951,\n 952,\n 953,\n 954,\n 955,\n 956,\n 957,\n 958,\n 959,\n 960,\n 961,\n 962,\n 963,\n 964,\n 965,\n 966,\n 967,\n 968,\n 969,\n 970,\n 971,\n 972,\n 973,\n 974,\n 975,\n 976,\n 977,\n 978,\n 979,\n 980,\n 981,\n 982,\n 983,\n 984,\n 985,\n 986,\n 987,\n 988,\n 989,\n 990,\n 991,\n 992,\n 993,\n 994,\n 995,\n 996,\n 997,\n 998,\n 999]"
          },
          "metadata": {}
        }
      ]
    },
    {
      "cell_type": "code",
      "metadata": {
        "tags": [],
        "cell_id": "00094-88f79d14-152d-471a-96e1-dc1ccaf65e81",
        "deepnote_to_be_reexecuted": false,
        "source_hash": "8d201002",
        "execution_millis": 1041,
        "execution_start": 1619078357243,
        "deepnote_cell_type": "code"
      },
      "source": "differ1000= [difference(t,filter_data) for t in sample_1000]\nprint(differ1000)",
      "execution_count": 360,
      "outputs": [
        {
          "name": "stdout",
          "text": "[19362.124178380018, 963.3758216199822, 5270.875821619982, 3339.624178380018, 4547.724178380018, 1789.6241783800178, 345.5527498085885, 4619.374178380018, 6320.568622824463, 2590.775821619982, 3638.3969056527458, 313.2075117133518, 2528.6450523892127, 3735.161535905697, 5901.409154953316, 853.8758216199822, 3321.1830019094305, 766.2647105088708, 4004.913652064228, 4204.375821619982, 4358.447250191411, 284.9212761654362, 436.7763522930618, 3869.292488286649, 3200.2441783800186, 1973.1450523892127, 2138.616562360723, 104.41153590569593, 738.8827990696736, 1752.4424882866497, 1968.9306299929212, 1551.5320716199822, 1442.033269289108, 132.46405691409927, 482.12417838001784, 90.9591549533161, 203.5295837854228, 1494.9136520642278, 1779.3630011071618, 2116.1991783800186, 1060.7782606443725, 22.409892665731604, 2017.2637132637392, 1113.0576398018002, 533.8130672689076, 1217.4192998808521, 2559.4077365136, 1246.7491783800178, 636.3248012118183, 1321.544178380018, 1830.6143744584497, 680.3565908507517, 625.8380857709253, 1278.9869327310935, 275.78491252907224, 2245.250821619982, 473.07154680107124, 646.2378905855003, 96.85299193934043, 1333.242488286649, 1105.9110636259193, 1647.1564364445348, 150.2250279691889, 1342.9851966199822, 766.9857168415565, 1830.093875349714, 1711.7265678886397, 904.7287627964524, 1080.107705677954, 1019.9098926657316, 930.4532864087141, 1933.540845046684, 646.0419865991953, 1706.083637839478, 547.8891549533164, 1287.8758216199822, 1655.9147826589433, 2563.580949825111, 745.7950644559678, 480.17582161998143, 804.0377586269315, 1509.5144222824565, 1065.4300384874514, 163.11227361811325, 967.7699392670402, 1304.3334807055999, 1767.634442309638, 621.0900874709278, 80.87582161998216, 183.3647105088712, 1472.058244314083, 606.9845172721562, 1324.511275154211, 1325.929013109344, 0.4820731168601924, 349.4887617133518, 747.0107763181622, 28.869076339202365, 352.4818822260422, 1075.2341783800184, 388.1035443922592, 833.9248412278248, 74.90494783357462, 914.5585139276736, 1275.3241783800186, 788.9701612426234, 982.2683449844681, 2083.809363565202, 862.7198583172303, 69.67872383456415, 1771.3172630614245, 2216.883106951447, 547.4333437438763, 424.62143565506994, 482.73287403219183, 2683.3827990696736, 459.6797339355726, 827.1072292274748, 33.32119977124239, 53.67417838001711, 321.7435902150228, 1516.6979488718207, 803.0347474857081, 1795.9322732328856, 2129.6678216199816, 784.0765593323995, 119.63598940363954, 882.2413658800178, 193.0076045657188, 1091.952744696906, 128.00204097543792, 2101.768117773958, 302.2670355228747, 282.21164251550545, 90.75730310146355, 1126.2655275023353, 1264.4161491829382, 580.9792508437858, 194.01251226746353, 437.8670355228751, 478.7270152594501, 452.47629105607484, 2582.229073484912, 411.3549882866482, 1367.393062999292, 1406.266232578886, 282.2534300806983, 269.72717297133386, 614.6342454941114, 7.490845046684626, 277.8956891696507, 360.2837163568238, 500.01307652194373, 499.33197058780934, 512.6790170896948, 181.9703322261721, 876.2197706645675, 1168.7618975693495, 575.2217335696678, 57.71957161998216, 138.54041789327493, 51.72911665162246, 71.79902500578464, 404.8636264980305, 561.4514511072903, 622.8999180055234, 1079.9924418530718, 1363.4694164752564, 799.840154711379, 389.56993926704126, 457.3202660644274, 692.2578993102507, 1335.3380512123877, 1288.6172009303264, 319.7470355228743, 2.1809965618358547, 326.6835004139157, 753.3826053463108, 118.1942573741726, 961.5591549533146, 716.2236258938301, 476.7230794789193, 1124.5449434073398, 744.3089609887138, 157.7460918902525, 422.70482354130763, 157.71241367413495, 32.78375284810318, 832.2141254699654, 1294.0136520642282, 773.3313190021818, 155.48355338001784, 334.6941265665464, 284.082007186993, 206.8882809441202, 747.3196991710029, 526.0433343103377, 181.8303670745281, 704.3201582795155, 72.88417838001806, 341.8161201274452, 988.0697229344732, 73.59995955101658, 39.12582161998216, 600.5246021077874, 492.3377706130268, 226.6555793462012, 98.7556293122907, 321.19161109366723, 525.2241783800182, 640.2360111934413, 144.55506690300172, 125.09600936593415, 488.4980101557194, 233.6897751083543, 787.9313771755369, 380.55324097482116, 494.97215189521194, 659.955228608329, 1454.7059965618355, 560.6988390135011, 944.4704162145772, 205.10175685535432, 464.3161426657316, 1156.0624882866487, 326.2436474065671, 405.6291255847391, 551.7864590817717, 109.03684213547604, 746.6453868373737, 454.09820435404436, 62.53366113863922, 582.7979981225071, 761.0258877817269, 744.1539656140612, 1052.7131614308655, 1581.517171830952, 285.976661956116, 388.4113864735391, 560.5116783800186, 82.14138178595749, 859.2233519337369, 72.08714134298134, 319.5053259210017, 55.91601511471163, 255.9408622703886, 71.46830793467416, 554.5798235413076, 110.33766900954106, 128.93582161998165, 832.5345369457555, 624.1122736181132, 144.21904004009775, 713.2895327107271, 473.70457053688006, 828.1531653699822, 344.8401316874115, 275.52727915521245, 305.77282702866614, 1101.96263991848, 589.7908450466839, 323.7577661662781, 1372.0367259085342, 620.7643298951698, 1095.0003499218692, 9.827185898815515, 148.0118188294564, 446.0101499781904, 854.481055703438, 15.57973393557404, 215.48098767164265, 327.0449392670416, 473.0692333250736, 684.3247267294719, 1104.2550874709268, 414.0299754814678, 1121.0555863222562, 464.7141064375719, 73.03098841585961, 285.4508216199829, 403.64806361286537, 905.1772400596983, 559.5224647295236, 66.5537558448068, 488.88985670770126, 1087.9913112471513, 117.19986343182973, 517.9366783800178, 961.6509081251734, 528.3931438972595, 260.5768525478179, 384.5693838594707, 1065.6710434629858, 540.3180559310385, 225.70294026404918, 243.67311891727877, 43.71340396924279, 290.3858887340757, 374.77214269021715, 398.909154953315, 295.08098901124686, 222.7599399694227, 476.5754915869784, 391.2722046958079, 947.4094242816573, 718.0097992950505, 723.8432483300803, 134.4196329254719, 872.3936209727326, 392.10482354130727, 240.64186326747767, 284.99917838001784, 117.41171831611973, 542.7929681889345, 251.21306726890725, 106.40746718960327, 661.664465153106, 897.6461909586342, 677.9197087673183, 1636.2460533800186, 166.66398361375104, 21.406877520603302, 599.8913014961436, 657.6289080397346, 152.31889854305882, 156.39729401262048, 55.494208961057666, 852.5678947907145, 292.5050009512888, 316.23326928910865, 643.1453264162719, 180.00369645230785, 470.18813393229357, 843.9415436494783, 262.92955296326545, 350.90558352474363, 717.6523682909974, 383.7515612649531, 360.752496964089, 390.2594724976643, 320.9872585701287, 16.840552649024175, 462.7101842109223, 420.5240774339363, 228.1154827278442, 300.436515261601, 555.1558786682017, 1740.5954427478337, 218.34767408202424, 237.8498926657321, 328.6251093692699, 139.96792838001784, 218.85599159165395, 246.06203148736313, 208.64248823917296, 20.297169934588965, 437.500471479927, 516.2585031842282, 184.27738172263707, 112.26584504668426, 560.705895831541, 99.21836305644683, 385.9864373331857, 319.7796677738279, 200.72239696244833, 110.70369047244094, 577.636439960399, 839.2763522930618, 543.0482976212097, 542.4596054037665, 341.21312716708053, 740.1510601004484, 161.8748486213044, 744.9186023686452, 462.29982161998305, 500.7704549757618, 372.2223216160928, 128.441638697479, 435.33492452235623, 459.7152953041932, 368.88533323566116, 319.530271881762, 576.1972854296255, 17.389803380017838, 352.52517226933196, 109.37547371680557, 1145.5066073205871, 487.67572477177055, 109.24343087448142, 713.5575117133503, 4.006256402590225, 57.126729400426484, 415.1725244359968, 566.6017099448545, 442.1340494680826, 378.29337029921044, 96.16196175533332, 706.3029572983742, 74.8835768762583, 7.219178380017183, 97.42841778151342, 856.3086574408771, 835.3475034420517, 545.7504160037806, 56.823969768131064, 360.5851812258934, 233.83670909254943, 500.4084921055073, 11.421053893820499, 896.0294801565669, 620.3893851926696, 1159.9777633675549, 993.3140782785777, 294.14833296938923, 180.03261211495737, 73.10899469690594, 194.77885463901112, 214.21987215992158, 300.60866525352685, 156.5003688562083, 40.40313753447117, 503.13365705300384, 139.17369396040704, 251.11874614828412, 685.7958216199822, 745.2368544363562, 186.50825332146997, 219.19124218073011, 49.655646911485746, 149.47582161998253, 9.766772896084149, 171.2167709726109, 1056.9717534377542, 735.0251000390035, 63.912603229176966, 489.1585820497421, 223.42852620610392, 271.37075372248364, 30.140058522032632, 153.76508747092703, 95.95972184673883, 409.72650035301376, 640.4289187863378, 1085.261565767405, 589.3578862451868, 526.5143129091666, 155.7371191591319, 790.6793930485528, 76.63642782322495, 495.5424882866482, 249.34588813882874, 203.04010758355798, 261.07891212770846, 316.17924445931385, 53.41648096064091, 129.8347046958079, 135.70185890518223, 703.3468858035994, 486.41393872860135, 259.34809142349695, 288.23914584205704, 932.4797177238779, 38.53024926577018, 979.8585802406724, 734.4811676273293, 36.46595037534644, 984.4432361958643, 165.99811000394948, 368.21484080974733, 243.04971029491207, 170.99471758601248, 56.26189024442465, 550.1992888504265, 142.47497773812574, 213.6295058305077, 704.4619560737628, 641.5886098799401, 688.0363122712315, 216.29745604181335, 62.352904953315374, 150.98696424280388, 174.29698344570897, 264.87375122660706, 52.96879682659346, 654.0119040942081, 172.6659450767729, 445.1920433858959, 429.93934621014523, 354.77357213122923, 83.35274980858958, 910.3115510887746, 1019.197349111726, 2.351358907400936, 352.0614253435797, 922.4231682790069, 770.491113863889, 182.60016769644062, 546.3577493308258, 606.657244512282, 220.236178380017, 98.29298728864524, 51.768251898865856, 858.8400363317123, 326.7848926657316, 573.0330892711063, 391.39097679898987, 283.4202003182072, 576.9506247695881, 796.3375112074082, 284.5522922082182, 87.74666310726207, 618.7469153699822, 327.28207311685946, 176.02301106484265, 515.0814599334153, 22.604503790524177, 305.2595748983931, 231.57080231496366, 388.53670793982747, 677.7607168415561, 190.2692957082745, 31.360495949484175, 178.6349038379558, 10.870096429141995, 319.5824882866491, 496.1685972853811, 91.65760530119587, 235.70561777395778, 45.264064958468225, 665.0928027520567, 74.31273310774122, 263.4343287559568, 274.3005386051591, 135.4863085113684, 534.8082905295505, 82.67641718598861, 336.7100860520113, 366.2951820974904, 329.7793466663643, 397.74989569405625, 103.37741313047991, 98.69982413647631, 106.96421941003791, 384.1958695564881, 290.2354546475053, 900.1487153928756, 609.1424599156671, 852.1570250953464, 866.7774609642438, 63.94963292547254, 94.011655693992, 40.25280156842382, 32.965046372784855, 82.04656105149843, 50.935281079440756, 252.2626675886513, 234.7543399599108, 31.017398680913175, 274.3585254283189, 370.43846409430444, 119.68211064383286, 53.17119528546209, 117.16178964840219, 215.54261809632953, 595.3820163102482, 689.4411926447174, 367.58128899211624, 257.87406105660193, 318.9267882280674, 514.3547689884035, 392.6793447547989, 688.5455070513472, 48.24634242888351, 481.1946369509933, 424.03234335911293, 324.3516089355726, 450.7862234406766, 199.66743097517428, 60.151812231486474, 191.4500404489827, 236.96015896937934, 274.9926601079551, 277.8620994930534, 263.6977394282021, 795.8780245338639, 456.1514821342844, 38.00870066597963, 755.2993484480448, 23.108419243071694, 178.2326529562888, 358.4714222968014, 735.5853270286661, 15.749810757757587, 583.6502323943932, 68.45359014472342, 241.81880925250152, 34.32473284276239, 723.2771594126243, 68.35122345514355, 550.9575117133518, 50.090463882877884, 42.59841298210813, 103.92849015447973, 218.05794082527973, 680.2642513720475, 376.1811021480353, 515.1900762383375, 212.8988479357722, 797.3688417626126, 519.6397560462119, 33.136050752551455, 108.55556018207426, 963.1645655025277, 85.07206111617415, 159.02336537188785, 755.7280744839136, 63.36852826503855, 163.51821644198935, 62.10845489946587, 212.46614420062724, 1006.5589609887138, 612.3556896340378, 292.27229031982097, 92.31652674818724, 499.655021619983, 1221.8486650704617, 447.96832560722214, 290.4172228938678, 650.6230394260238, 125.63137717553764, 184.88533033630483, 514.0356317465648, 244.2316033405241, 398.28821623490694, 783.7462256241124, 204.48895825423097, 317.5135033407714, 417.2629689554051, 180.04327075926267, 91.27261588001784, 436.7385361285633, 38.868726666622024, 200.6716122835951, 517.3432129243301, 113.1037285967268, 249.13965825617925, 559.9020967359011, 415.0193401385004, 602.8049433457145, 66.75033222617094, 113.89425479970487, 349.0429995340928, 213.26020140558649, 968.2969612546349, 695.9424989907056, 403.12887040046917, 299.7175263383997, 275.5034811944497, 490.3836624467858, 110.29690565274541, 381.3859030396252, 343.8356587425551, 48.397691906558975, 8.577628848897803, 19.292362973365016, 611.85329909746, 35.94328788684834, 492.67507658361137, 111.39473144429212, 124.90119475431129, 296.3020511281793, 8.89814304855281, 121.47484702786278, 147.35563238595205, 470.4343401385013, 382.90376417883454, 101.00305578031293, 44.09762970745214, 109.10945083951628, 938.5361157376301, 6.789184321891298, 116.9813934674894, 333.5888523666872, 240.34365787729257, 373.71249954790073, 182.44779354036837, 497.93550138708633, 216.04859698466862, 507.01822772689775, 1.7053378003074613, 967.3881226330068, 63.86426092634065, 364.5282187840585, 99.90464006378534, 60.58085759120513, 509.62725840159146, 9.649285984034577, 10.077827350640291, 76.3573686518339, 539.105606951447, 12.52360776660862, 131.75473899889948, 55.05789843363709, 359.15991252907224, 223.7197932511881, 202.92162880494652, 242.520217983978, 773.9704543883436, 214.34279615152627, 41.353755844806074, 308.76752344839224, 274.9429986047362, 96.32754443892372, 91.84500929505157, 473.1751223192823, 322.8588152515258, 311.22589135498856, 646.7133148702687, 55.28690438836202, 555.4102894911284, 474.49024603052385, 265.5452310115961, 89.32810377765782, 21.07307340764237, 46.46073010415603, 104.53740152051432, 661.4837996117294, 475.7109864551476, 365.98967621531847, 68.63061614053004, 28.996204656918053, 615.5739090516763, 775.1309996624186, 646.3131513202552, 240.00853212151378, 207.90542838001784, 186.53932229840757, 464.1214683529179, 316.4543542934134, 175.6866324307921, 583.3185103638243, 241.54428523184288, 421.2203707451499, 255.1174579499111, 43.73488202266708, 272.8413365569613, 233.3423845379839, 263.7231088613007, 478.014699074276, 182.35048828664912, 184.61286013767494, 116.83029540129428, 714.747003558894, 242.6569887287351, 75.45133069789881, 318.57523658107675, 91.8797846318721, 273.00642848014104, 2.7737172469478537, 357.5639795147199, 222.81406077898282, 136.15961145088477, 445.2087180813196, 165.89642968891894, 24.181694719887673, 43.45054913719832, 527.9879467829542, 97.5607174533161, 352.899210889771, 87.99300954884893, 315.46659083138, 204.80069208630266, 230.2380205533682, 493.9200440130935, 266.986113863888, 182.082007186993, 335.9851822410219, 13.009782493129023, 355.21403717334215, 135.83864213280322, 103.41611179871143, 247.7200863084072, 842.257686243227, 91.57060695144719, 312.46303188320235, 14.525948846445317, 278.56451285251023, 206.20793472519472, 398.9391340200691, 71.70898850659978, 268.9825854596638, 300.0967812159415, 227.04221116690314, 211.29017930260125, 717.7367569963699, 347.8289522493651, 343.16189439288064, 361.7642927979268, 208.06731098168348, 141.2058216199821, 235.45376639499955, 56.42195628332411, 69.87582161998216, 192.0735828140114, 189.38380570921072, 372.92544941154483, 583.6379034043694, 274.0057721150315, 486.3516196655564, 491.2105981331042, 532.4898783400804, 431.1672818282932, 132.28900002823502, 348.230858475019, 311.63092684627554, 130.22508632586505, 192.0533002001539, 226.7474597617911, 381.98986824570784, 712.5339344775784, 144.54086425091918, 29.093764754714357, 52.463182025217975, 20.64402550347768, 193.26842080426104, 896.9678313052118, 253.4772618141178, 475.0191059162498, 527.0857130554468, 170.74345548845122, 208.82092928254497, 296.5400437646331, 442.8590148972926, 108.67933425531737, 80.57522281758611, 248.63419482572317, 208.77904742643295, 42.36761513419515, 429.16708660409495, 596.9258216199814, 585.6616337902433, 129.94603111160905, 270.1023933874785, 123.19335716500609, 295.19400086522546, 647.2103369864126, 187.67157132482316, 204.5534236630374, 3.299849888533572, 229.7911157376293, 183.4880425365518, 337.1910797884684, 76.1044265437813, 398.1322619010134, 460.60020177183105, 274.18773750783294, 496.68328953130003, 288.01568175984175, 15.02289782122898, 69.82582161998289, 18.82336537188712, 23.801575680306996, 141.41386551790856, 323.6091320837222, 173.64556566325518, 307.47281931051293, 99.91079891058325, 386.0366207763309, 834.0712439726522, 283.21498297771905, 60.5248672433936, 155.43889501447848, 227.68910913430045, 261.06918546437555, 312.94439304855405, 53.75253394874926, 471.20969719415734, 328.408851232738, 34.77946848240754, 83.0076398018009, 234.0935313879636, 255.55722751567373, 476.2993776788717, 278.7536496742814, 119.79559563128169, 174.5067471278835, 3.2444800190805836, 39.931610812449435, 149.1916699435733, 635.9994171256003, 171.92328051245386, 49.00698753926554, 61.68968789849532, 266.9865944874, 381.5498767040408, 411.0661426657316, 305.012945365801, 25.453799760864058, 267.7059358883598, 464.5769327310936, 74.41718614916317, 159.197349111726, 243.41513501976078, 30.478160680902874, 287.5462778275323, 313.16501723211513, 157.47890872031348, 136.52229739090762, 426.0815421920397, 241.70549194965315, 157.86374697673273, 334.05893565506994, 554.6688117623708, 102.17997916921558, 223.23319866916245, 296.1629395239124, 300.7449601150747, 193.89433088546502, 266.3657453005835, 47.23016944606934, 38.01262943757138, 443.0959788138571, 485.03858791414495, 443.9824034882422, 317.85390810974786, 21.422234535524694, 20.63874148681316, 614.6064250682575, 93.72051853071753, 42.73708160582464, 165.42684202814598, 362.55178728521787, 1009.0408805696079, 230.03963318315073, 205.07711955648847, 719.3944775253167, 120.10816984213125, 7.632707164666499, 22.70010277014262, 349.038008167252, 198.1209902822502, 240.93309557746943, 434.0104981841396, 30.2995504335413, 234.10968405384483, 361.9286181263178, 84.15480140008185, 10.651604540355038, 835.5986877949035, 48.43891522212289, 311.1439604212446, 208.17249770774833, 115.31338720235362, 289.2709998170467, 41.31789565750478, 300.0285412852536, 120.70549769103673, 241.5898090938863, 40.79657240204688, 264.4289466199825, 81.2417642280925, 283.92251517835393, 360.6868288889327, 98.89388792358659, 156.22055143701255, 1024.5062564025902, 87.7176003169825, 429.132442842827, 103.23082677994171, 82.79437832101394, 77.863463226573, 454.65154178459125, 370.6384115480396, 95.08424051115253, 503.61530879946986, 60.65798985542824, 143.45719316553004, 58.24176529208307, 696.7339843044301, 204.259495089369, 112.42220286361044, 357.20576052018623, 147.34784603503795, 99.7091549533161, 646.9434677201189, 340.4679917674421, 155.45738190367047, 656.0539592718033, 229.2691482124992, 170.08781474365423, 79.24010012654071, 291.02538805743643, 4.375318095309922, 271.7047954630398, 106.44377636996796, 112.52176874146426, 25.105121208503988, 479.6543787342107, 256.7598140156533]\n",
          "output_type": "stream"
        }
      ]
    },
    {
      "cell_type": "markdown",
      "source": "## 17. Create scatter plot sof the differences when using 300 or 1000",
      "metadata": {
        "tags": [],
        "cell_id": "00100-0a20625d-75ab-481d-bfe2-790a4a73a15a",
        "deepnote_cell_type": "markdown"
      }
    },
    {
      "cell_type": "markdown",
      "source": "Plot with 300 samples",
      "metadata": {
        "tags": [],
        "cell_id": "00101-53b282f0-715f-4503-9327-63a3befab86f",
        "deepnote_cell_type": "markdown"
      }
    },
    {
      "cell_type": "code",
      "metadata": {
        "tags": [],
        "cell_id": "00101-27152e2a-cc09-4fce-86c6-02469e53eaf5",
        "deepnote_to_be_reexecuted": false,
        "source_hash": "2257483",
        "execution_millis": 51,
        "execution_start": 1619078360113,
        "deepnote_cell_type": "code"
      },
      "source": "fig = px.scatter( x=sample_300, y=differ300, size_max=60,title=\"Mean difference with respect of number of sample\" )\nfig.update_layout(\n    xaxis_title=\"Sample size (number)\",\n    yaxis_title=\"Mean differance (pop-sample)\",\n    font=dict(\n        family=\"Courier New, monospace\",\n        size=15,\n        color=\"Black\"\n    )\n)\nfig.show()",
      "execution_count": 361,
      "outputs": [
        {
          "data": {
            "text/html": "<html>\n<head><meta charset=\"utf-8\" /></head>\n<body>\n    <div>            <script src=\"https://cdnjs.cloudflare.com/ajax/libs/mathjax/2.7.5/MathJax.js?config=TeX-AMS-MML_SVG\"></script><script type=\"text/javascript\">if (window.MathJax) {MathJax.Hub.Config({SVG: {font: \"STIX-Web\"}});}</script>                <script type=\"text/javascript\">window.PlotlyConfig = {MathJaxConfig: 'local'};</script>\n        <script src=\"https://cdn.plot.ly/plotly-latest.min.js\"></script>                <div id=\"7ed423c5-9f0d-4525-9fe1-fec576c78912\" class=\"plotly-graph-div\" style=\"height:525px; width:100%;\"></div>            <script type=\"text/javascript\">                                    window.PLOTLYENV=window.PLOTLYENV || {};                                    if (document.getElementById(\"7ed423c5-9f0d-4525-9fe1-fec576c78912\")) {                    Plotly.newPlot(                        \"7ed423c5-9f0d-4525-9fe1-fec576c78912\",                        [{\"hovertemplate\": \"x=%{x}<br>y=%{y}<extra></extra>\", \"legendgroup\": \"\", \"marker\": {\"color\": \"#636efa\", \"symbol\": \"circle\"}, \"mode\": \"markers\", \"name\": \"\", \"orientation\": \"v\", \"showlegend\": false, \"type\": \"scatter\", \"x\": [1, 2, 3, 4, 5, 6, 7, 8, 9, 10, 11, 12, 13, 14, 15, 16, 17, 18, 19, 20, 21, 22, 23, 24, 25, 26, 27, 28, 29, 30, 31, 32, 33, 34, 35, 36, 37, 38, 39, 40, 41, 42, 43, 44, 45, 46, 47, 48, 49, 50, 51, 52, 53, 54, 55, 56, 57, 58, 59, 60, 61, 62, 63, 64, 65, 66, 67, 68, 69, 70, 71, 72, 73, 74, 75, 76, 77, 78, 79, 80, 81, 82, 83, 84, 85, 86, 87, 88, 89, 90, 91, 92, 93, 94, 95, 96, 97, 98, 99, 100, 101, 102, 103, 104, 105, 106, 107, 108, 109, 110, 111, 112, 113, 114, 115, 116, 117, 118, 119, 120, 121, 122, 123, 124, 125, 126, 127, 128, 129, 130, 131, 132, 133, 134, 135, 136, 137, 138, 139, 140, 141, 142, 143, 144, 145, 146, 147, 148, 149, 150, 151, 152, 153, 154, 155, 156, 157, 158, 159, 160, 161, 162, 163, 164, 165, 166, 167, 168, 169, 170, 171, 172, 173, 174, 175, 176, 177, 178, 179, 180, 181, 182, 183, 184, 185, 186, 187, 188, 189, 190, 191, 192, 193, 194, 195, 196, 197, 198, 199, 200, 201, 202, 203, 204, 205, 206, 207, 208, 209, 210, 211, 212, 213, 214, 215, 216, 217, 218, 219, 220, 221, 222, 223, 224, 225, 226, 227, 228, 229, 230, 231, 232, 233, 234, 235, 236, 237, 238, 239, 240, 241, 242, 243, 244, 245, 246, 247, 248, 249, 250, 251, 252, 253, 254, 255, 256, 257, 258, 259, 260, 261, 262, 263, 264, 265, 266, 267, 268, 269, 270, 271, 272, 273, 274, 275, 276, 277, 278, 279, 280, 281, 282, 283, 284, 285, 286, 287, 288, 289, 290, 291, 292, 293, 294, 295, 296, 297, 298, 299], \"xaxis\": \"x\", \"y\": [11779.124178380018, 3700.124178380018, 5195.209154953315, 4369.124178380018, 1886.6758216199814, 973.7908450466839, 3773.2670355228747, 6084.249178380018, 3168.209154953316, 796.2758216199818, 1008.7849125290722, 371.12417838001784, 747.2604370045974, 648.9098926657316, 1794.742488286649, 2893.938321619982, 2690.0065313211944, 780.7091549533161, 2423.454768988404, 416.57417838001857, 691.7908450466839, 452.6485488927101, 1995.4410390112862, 22.332511713351778, 468.43582161998165, 882.7604370045974, 699.8278820837222, 2358.0170355228747, 2476.4620285165347, 763.8758216199822, 1785.6500151683686, 1361.5633216199822, 1624.4272086830479, 1372.5817039729227, 589.5901073342684, 248.32026606442741, 115.07012432596457, 1595.3495058305089, 745.9959732518128, 105.92582161998143, 640.5388125263598, 163.8043930485528, 784.9223332478887, 198.94400343816415, 240.03137717553727, 21.863308814799893, 764.9752422098045, 378.50082161998216, 986.0425457269557, 1528.995821619983, 932.3006489682539, 1358.0681293122907, 593.7060102992273, 672.5980438422048, 508.58491252907334, 903.6420355228747, 1795.896108204579, 300.00348872484574, 1151.1300589081184, 1160.0575117133503, 430.67910030850726, 1003.666144200628, 268.78058352474363, 615.7491783800178, 1240.7527446969052, 1081.2394579836182, 14.810745544196834, 206.24346867880558, 1851.9482853880982, 353.19010733426876, 824.7490610566019, 1246.2785993977595, 884.7799312090228, 122.70525946109956, 571.4224882866492, 835.8083889063328, 118.65504239920301, 1470.6369988928382, 1457.3948089617552, 1353.7258216199825, 684.9128586570187, 392.12417838001784, 1309.7988771751989, 174.36391685807757, 139.6640569141, 379.01952721722773, 146.1816496443862, 2419.3173601982, 252.03312499076856, 550.9424882866497, 436.25604651188587, 491.5589609887138, 482.68227323288556, 533.6773698693796, 126.85476898840352, 534.0216549533161, 1321.1026257436934, 516.0901073342684, 2688.1039763598164, 2145.6858216199817, 790.3320991720975, 683.1013118160608, 1061.1727220693374, 1282.6145629954026, 219.62820257236308, 136.2248782237566, 27.006662741478067, 2519.4128586570187, 468.2434444350638, 2345.969632925473, 7.070124325964571, 219.3831069514472, 959.1418774950616, 1432.5803187308957, 263.7241783800182, 491.4620285165347, 192.3288130729743, 653.2936699054408, 2759.884224981326, 1386.8591549533157, 129.3555833386963, 349.59713309539256, 1721.2298694369292, 1747.7693396703398, 1717.4761783800186, 1251.1456628898231, 1052.620241372144, 952.3038658800178, 495.75983729474683, 587.906590850751, 537.860554444409, 738.1620571678959, 897.6956069514472, 1174.4056723662507, 717.4535993977606, 375.736115737629, 491.000090788777, 188.66567669244614, 776.8795740634705, 857.1098926657323, 2052.2872989473944, 1732.3053990847711, 778.7149824591434, 1796.771654953316, 540.6276266558798, 131.1515756402914, 166.2091549533161, 1693.0430972989361, 87.4597488498166, 928.5158216199816, 150.45198056037952, 231.11924267261384, 2.130723580767153, 1139.974827730668, 1622.6919203155012, 304.830949825111, 345.0350572887728, 279.2049355440322, 36.07386391460932, 949.5741783800186, 243.4036814856081, 636.7723265281656, 1624.7928900364604, 261.48393447757917, 45.42733677149772, 183.6121301872463, 1594.3577113141491, 774.272987903827, 1064.2249340460185, 1010.987586325864, 254.52768715194725, 244.57766675211133, 251.93940543501049, 784.2206492061887, 414.52725019141144, 1977.283269289108, 452.48576030092227, 1158.3926755525663, 709.6355981562956, 199.78528949112842, 809.8537221724691, 1940.6901124459528, 476.9329215494163, 1441.3089609887138, 555.0106648665042, 1145.6231334479398, 433.3541249040827, 638.9822045987057, 155.6483083924686, 364.5873362747552, 1274.530271881762, 112.65542838001784, 455.767013329827, 347.0201515168901, 516.1835139276736, 218.8911277424304, 418.4138926859723, 20.50208424624543, 4.152203529529288, 578.6191783800186, 516.4525365889731, 410.3708711249328, 136.02565621253052, 148.50653132119442, 801.6997881361149, 476.8620424576875, 593.3222460128673, 418.5809091492483, 150.51696994534177, 636.8472501914111, 798.517543308928, 111.18549913473544, 491.7251173471541, 191.3804945171778, 1164.8572169688196, 646.0702660644274, 105.05505395605542, 1523.885646269926, 167.06760244190082, 287.015087470927, 1110.4635448958543, 112.79924504340488, 1197.285613357597, 216.19278590569593, 147.04026606442676, 1219.3586916543536, 438.5603017280355, 1145.9810847778772, 854.7311652795815, 82.56712596780744, 21.927769671930946, 171.34564920618868, 19.523320010919633, 109.11513785929856, 1634.1226301306197, 621.1342961962528, 900.15793365428, 681.7586321615308, 430.474147979814, 739.3549882866482, 404.38973854599317, 334.25598690923835, 459.61389031417457, 283.75696916096604, 409.99764776777374, 617.2823256850224, 121.76790307637384, 281.25724289614664, 420.0284320617484, 121.1001783800184, 70.38712658718941, 387.7091549533161, 256.81192541559176, 1275.620241372144, 511.1032726003741, 21.987459630017838, 325.8719305693994, 1045.426209216881, 661.0662633221036, 96.45274469690594, 54.45368029572637, 198.5554760899413, 250.19261944465688, 204.17720868304787, 416.95884048790685, 607.7517614696062, 753.9469826686709, 362.44507390240506, 171.964327078902, 266.0684142125756, 363.41456700743583, 202.62785485060522, 97.80916006499865, 713.7663325688882, 1255.7023601982, 950.7490100257801, 270.5971025677427, 650.9441669437238, 360.71811552679173, 843.538464094303, 347.07079759709995, 153.17736986937962, 285.40585695567097, 102.70868542227072, 734.1740672340165, 1022.3268705710307, 327.10327245667213, 38.24570615779521, 596.4494378955897, 353.08616644756876, 96.3363027196392, 661.1207537224836, 594.8655827121329, 508.8826243410713, 1089.9876860267614, 114.95014594430722, 46.47771373355317, 168.6610911316966, 198.04304570024942], \"yaxis\": \"y\"}],                        {\"font\": {\"color\": \"Black\", \"family\": \"Courier New, monospace\", \"size\": 15}, \"legend\": {\"tracegroupgap\": 0}, \"template\": {\"data\": {\"bar\": [{\"error_x\": {\"color\": \"#2a3f5f\"}, \"error_y\": {\"color\": \"#2a3f5f\"}, \"marker\": {\"line\": {\"color\": \"#E5ECF6\", \"width\": 0.5}}, \"type\": \"bar\"}], \"barpolar\": [{\"marker\": {\"line\": {\"color\": \"#E5ECF6\", \"width\": 0.5}}, \"type\": \"barpolar\"}], \"carpet\": [{\"aaxis\": {\"endlinecolor\": \"#2a3f5f\", \"gridcolor\": \"white\", \"linecolor\": \"white\", \"minorgridcolor\": \"white\", \"startlinecolor\": \"#2a3f5f\"}, \"baxis\": {\"endlinecolor\": \"#2a3f5f\", \"gridcolor\": \"white\", \"linecolor\": \"white\", \"minorgridcolor\": \"white\", \"startlinecolor\": \"#2a3f5f\"}, \"type\": \"carpet\"}], \"choropleth\": [{\"colorbar\": {\"outlinewidth\": 0, \"ticks\": \"\"}, \"type\": \"choropleth\"}], \"contour\": [{\"colorbar\": {\"outlinewidth\": 0, \"ticks\": \"\"}, \"colorscale\": [[0.0, \"#0d0887\"], [0.1111111111111111, \"#46039f\"], [0.2222222222222222, \"#7201a8\"], [0.3333333333333333, \"#9c179e\"], [0.4444444444444444, \"#bd3786\"], [0.5555555555555556, \"#d8576b\"], [0.6666666666666666, \"#ed7953\"], [0.7777777777777778, \"#fb9f3a\"], [0.8888888888888888, \"#fdca26\"], [1.0, \"#f0f921\"]], \"type\": \"contour\"}], \"contourcarpet\": [{\"colorbar\": {\"outlinewidth\": 0, \"ticks\": \"\"}, \"type\": \"contourcarpet\"}], \"heatmap\": [{\"colorbar\": {\"outlinewidth\": 0, \"ticks\": \"\"}, \"colorscale\": [[0.0, \"#0d0887\"], [0.1111111111111111, \"#46039f\"], [0.2222222222222222, \"#7201a8\"], [0.3333333333333333, \"#9c179e\"], [0.4444444444444444, \"#bd3786\"], [0.5555555555555556, \"#d8576b\"], [0.6666666666666666, \"#ed7953\"], [0.7777777777777778, \"#fb9f3a\"], [0.8888888888888888, \"#fdca26\"], [1.0, \"#f0f921\"]], \"type\": \"heatmap\"}], \"heatmapgl\": [{\"colorbar\": {\"outlinewidth\": 0, \"ticks\": \"\"}, \"colorscale\": [[0.0, \"#0d0887\"], [0.1111111111111111, \"#46039f\"], [0.2222222222222222, \"#7201a8\"], [0.3333333333333333, \"#9c179e\"], [0.4444444444444444, \"#bd3786\"], [0.5555555555555556, \"#d8576b\"], [0.6666666666666666, \"#ed7953\"], [0.7777777777777778, \"#fb9f3a\"], [0.8888888888888888, \"#fdca26\"], [1.0, \"#f0f921\"]], \"type\": \"heatmapgl\"}], \"histogram\": [{\"marker\": {\"colorbar\": {\"outlinewidth\": 0, \"ticks\": \"\"}}, \"type\": \"histogram\"}], \"histogram2d\": [{\"colorbar\": {\"outlinewidth\": 0, \"ticks\": \"\"}, \"colorscale\": [[0.0, \"#0d0887\"], [0.1111111111111111, \"#46039f\"], [0.2222222222222222, \"#7201a8\"], [0.3333333333333333, \"#9c179e\"], [0.4444444444444444, \"#bd3786\"], [0.5555555555555556, \"#d8576b\"], [0.6666666666666666, \"#ed7953\"], [0.7777777777777778, \"#fb9f3a\"], [0.8888888888888888, \"#fdca26\"], [1.0, \"#f0f921\"]], \"type\": \"histogram2d\"}], \"histogram2dcontour\": [{\"colorbar\": {\"outlinewidth\": 0, \"ticks\": \"\"}, \"colorscale\": [[0.0, \"#0d0887\"], [0.1111111111111111, \"#46039f\"], [0.2222222222222222, \"#7201a8\"], [0.3333333333333333, \"#9c179e\"], [0.4444444444444444, \"#bd3786\"], [0.5555555555555556, \"#d8576b\"], [0.6666666666666666, \"#ed7953\"], [0.7777777777777778, \"#fb9f3a\"], [0.8888888888888888, \"#fdca26\"], [1.0, \"#f0f921\"]], \"type\": \"histogram2dcontour\"}], \"mesh3d\": [{\"colorbar\": {\"outlinewidth\": 0, \"ticks\": \"\"}, \"type\": \"mesh3d\"}], \"parcoords\": [{\"line\": {\"colorbar\": {\"outlinewidth\": 0, \"ticks\": \"\"}}, \"type\": \"parcoords\"}], \"pie\": [{\"automargin\": true, \"type\": \"pie\"}], \"scatter\": [{\"marker\": {\"colorbar\": {\"outlinewidth\": 0, \"ticks\": \"\"}}, \"type\": \"scatter\"}], \"scatter3d\": [{\"line\": {\"colorbar\": {\"outlinewidth\": 0, \"ticks\": \"\"}}, \"marker\": {\"colorbar\": {\"outlinewidth\": 0, \"ticks\": \"\"}}, \"type\": \"scatter3d\"}], \"scattercarpet\": [{\"marker\": {\"colorbar\": {\"outlinewidth\": 0, \"ticks\": \"\"}}, \"type\": \"scattercarpet\"}], \"scattergeo\": [{\"marker\": {\"colorbar\": {\"outlinewidth\": 0, \"ticks\": \"\"}}, \"type\": \"scattergeo\"}], \"scattergl\": [{\"marker\": {\"colorbar\": {\"outlinewidth\": 0, \"ticks\": \"\"}}, \"type\": \"scattergl\"}], \"scattermapbox\": [{\"marker\": {\"colorbar\": {\"outlinewidth\": 0, \"ticks\": \"\"}}, \"type\": \"scattermapbox\"}], \"scatterpolar\": [{\"marker\": {\"colorbar\": {\"outlinewidth\": 0, \"ticks\": \"\"}}, \"type\": \"scatterpolar\"}], \"scatterpolargl\": [{\"marker\": {\"colorbar\": {\"outlinewidth\": 0, \"ticks\": \"\"}}, \"type\": \"scatterpolargl\"}], \"scatterternary\": [{\"marker\": {\"colorbar\": {\"outlinewidth\": 0, \"ticks\": \"\"}}, \"type\": \"scatterternary\"}], \"surface\": [{\"colorbar\": {\"outlinewidth\": 0, \"ticks\": \"\"}, \"colorscale\": [[0.0, \"#0d0887\"], [0.1111111111111111, \"#46039f\"], [0.2222222222222222, \"#7201a8\"], [0.3333333333333333, \"#9c179e\"], [0.4444444444444444, \"#bd3786\"], [0.5555555555555556, \"#d8576b\"], [0.6666666666666666, \"#ed7953\"], [0.7777777777777778, \"#fb9f3a\"], [0.8888888888888888, \"#fdca26\"], [1.0, \"#f0f921\"]], \"type\": \"surface\"}], \"table\": [{\"cells\": {\"fill\": {\"color\": \"#EBF0F8\"}, \"line\": {\"color\": \"white\"}}, \"header\": {\"fill\": {\"color\": \"#C8D4E3\"}, \"line\": {\"color\": \"white\"}}, \"type\": \"table\"}]}, \"layout\": {\"annotationdefaults\": {\"arrowcolor\": \"#2a3f5f\", \"arrowhead\": 0, \"arrowwidth\": 1}, \"autotypenumbers\": \"strict\", \"coloraxis\": {\"colorbar\": {\"outlinewidth\": 0, \"ticks\": \"\"}}, \"colorscale\": {\"diverging\": [[0, \"#8e0152\"], [0.1, \"#c51b7d\"], [0.2, \"#de77ae\"], [0.3, \"#f1b6da\"], [0.4, \"#fde0ef\"], [0.5, \"#f7f7f7\"], [0.6, \"#e6f5d0\"], [0.7, \"#b8e186\"], [0.8, \"#7fbc41\"], [0.9, \"#4d9221\"], [1, \"#276419\"]], \"sequential\": [[0.0, \"#0d0887\"], [0.1111111111111111, \"#46039f\"], [0.2222222222222222, \"#7201a8\"], [0.3333333333333333, \"#9c179e\"], [0.4444444444444444, \"#bd3786\"], [0.5555555555555556, \"#d8576b\"], [0.6666666666666666, \"#ed7953\"], [0.7777777777777778, \"#fb9f3a\"], [0.8888888888888888, \"#fdca26\"], [1.0, \"#f0f921\"]], \"sequentialminus\": [[0.0, \"#0d0887\"], [0.1111111111111111, \"#46039f\"], [0.2222222222222222, \"#7201a8\"], [0.3333333333333333, \"#9c179e\"], [0.4444444444444444, \"#bd3786\"], [0.5555555555555556, \"#d8576b\"], [0.6666666666666666, \"#ed7953\"], [0.7777777777777778, \"#fb9f3a\"], [0.8888888888888888, \"#fdca26\"], [1.0, \"#f0f921\"]]}, \"colorway\": [\"#636efa\", \"#EF553B\", \"#00cc96\", \"#ab63fa\", \"#FFA15A\", \"#19d3f3\", \"#FF6692\", \"#B6E880\", \"#FF97FF\", \"#FECB52\"], \"font\": {\"color\": \"#2a3f5f\"}, \"geo\": {\"bgcolor\": \"white\", \"lakecolor\": \"white\", \"landcolor\": \"#E5ECF6\", \"showlakes\": true, \"showland\": true, \"subunitcolor\": \"white\"}, \"hoverlabel\": {\"align\": \"left\"}, \"hovermode\": \"closest\", \"mapbox\": {\"style\": \"light\"}, \"paper_bgcolor\": \"white\", \"plot_bgcolor\": \"#E5ECF6\", \"polar\": {\"angularaxis\": {\"gridcolor\": \"white\", \"linecolor\": \"white\", \"ticks\": \"\"}, \"bgcolor\": \"#E5ECF6\", \"radialaxis\": {\"gridcolor\": \"white\", \"linecolor\": \"white\", \"ticks\": \"\"}}, \"scene\": {\"xaxis\": {\"backgroundcolor\": \"#E5ECF6\", \"gridcolor\": \"white\", \"gridwidth\": 2, \"linecolor\": \"white\", \"showbackground\": true, \"ticks\": \"\", \"zerolinecolor\": \"white\"}, \"yaxis\": {\"backgroundcolor\": \"#E5ECF6\", \"gridcolor\": \"white\", \"gridwidth\": 2, \"linecolor\": \"white\", \"showbackground\": true, \"ticks\": \"\", \"zerolinecolor\": \"white\"}, \"zaxis\": {\"backgroundcolor\": \"#E5ECF6\", \"gridcolor\": \"white\", \"gridwidth\": 2, \"linecolor\": \"white\", \"showbackground\": true, \"ticks\": \"\", \"zerolinecolor\": \"white\"}}, \"shapedefaults\": {\"line\": {\"color\": \"#2a3f5f\"}}, \"ternary\": {\"aaxis\": {\"gridcolor\": \"white\", \"linecolor\": \"white\", \"ticks\": \"\"}, \"baxis\": {\"gridcolor\": \"white\", \"linecolor\": \"white\", \"ticks\": \"\"}, \"bgcolor\": \"#E5ECF6\", \"caxis\": {\"gridcolor\": \"white\", \"linecolor\": \"white\", \"ticks\": \"\"}}, \"title\": {\"x\": 0.05}, \"xaxis\": {\"automargin\": true, \"gridcolor\": \"white\", \"linecolor\": \"white\", \"ticks\": \"\", \"title\": {\"standoff\": 15}, \"zerolinecolor\": \"white\", \"zerolinewidth\": 2}, \"yaxis\": {\"automargin\": true, \"gridcolor\": \"white\", \"linecolor\": \"white\", \"ticks\": \"\", \"title\": {\"standoff\": 15}, \"zerolinecolor\": \"white\", \"zerolinewidth\": 2}}}, \"title\": {\"text\": \"Mean difference with respect of number of sample\"}, \"xaxis\": {\"anchor\": \"y\", \"domain\": [0.0, 1.0], \"title\": {\"text\": \"Sample size (number)\"}}, \"yaxis\": {\"anchor\": \"x\", \"domain\": [0.0, 1.0], \"title\": {\"text\": \"Mean differance (pop-sample)\"}}},                        {\"responsive\": true}                    ).then(function(){\n                            \nvar gd = document.getElementById('7ed423c5-9f0d-4525-9fe1-fec576c78912');\nvar x = new MutationObserver(function (mutations, observer) {{\n        var display = window.getComputedStyle(gd).display;\n        if (!display || display === 'none') {{\n            console.log([gd, 'removed!']);\n            Plotly.purge(gd);\n            observer.disconnect();\n        }}\n}});\n\n// Listen for the removal of the full notebook cells\nvar notebookContainer = gd.closest('#notebook-container');\nif (notebookContainer) {{\n    x.observe(notebookContainer, {childList: true});\n}}\n\n// Listen for the clearing of the current output cell\nvar outputEl = gd.closest('.output');\nif (outputEl) {{\n    x.observe(outputEl, {childList: true});\n}}\n\n                        })                };                            </script>        </div>\n</body>\n</html>"
          },
          "metadata": {},
          "output_type": "display_data"
        }
      ]
    },
    {
      "cell_type": "markdown",
      "source": "Plot with 1000",
      "metadata": {
        "tags": [],
        "cell_id": "00103-98bd4850-f804-44e3-baa6-1cc63ec32c12",
        "deepnote_cell_type": "markdown"
      }
    },
    {
      "cell_type": "code",
      "metadata": {
        "tags": [],
        "cell_id": "00102-6b6baab5-f4f3-4627-a958-b8d4b6b804ce",
        "deepnote_to_be_reexecuted": false,
        "source_hash": "c9c2d70b",
        "execution_millis": 52,
        "execution_start": 1619078363094,
        "deepnote_cell_type": "code"
      },
      "source": "fig = px.scatter( x=sample_1000, y=differ1000, size_max=60,title=\"Mean difference with respect of number of sample\" )\nfig.update_layout(\n    xaxis_title=\"Sample size (number)\",\n    yaxis_title=\"Mean differance (pop-sample)\",\n    font=dict(\n        family=\"Courier New, monospace\",\n        size=15,\n        color=\"Black\"\n    )\n)\nfig.show()",
      "execution_count": 362,
      "outputs": [
        {
          "data": {
            "text/html": "<html>\n<head><meta charset=\"utf-8\" /></head>\n<body>\n    <div>            <script src=\"https://cdnjs.cloudflare.com/ajax/libs/mathjax/2.7.5/MathJax.js?config=TeX-AMS-MML_SVG\"></script><script type=\"text/javascript\">if (window.MathJax) {MathJax.Hub.Config({SVG: {font: \"STIX-Web\"}});}</script>                <script type=\"text/javascript\">window.PlotlyConfig = {MathJaxConfig: 'local'};</script>\n        <script src=\"https://cdn.plot.ly/plotly-latest.min.js\"></script>                <div id=\"2a5ad0d5-1eb2-44e8-81b9-c0c935e7b896\" class=\"plotly-graph-div\" style=\"height:525px; width:100%;\"></div>            <script type=\"text/javascript\">                                    window.PLOTLYENV=window.PLOTLYENV || {};                                    if (document.getElementById(\"2a5ad0d5-1eb2-44e8-81b9-c0c935e7b896\")) {                    Plotly.newPlot(                        \"2a5ad0d5-1eb2-44e8-81b9-c0c935e7b896\",                        [{\"hovertemplate\": \"x=%{x}<br>y=%{y}<extra></extra>\", \"legendgroup\": \"\", \"marker\": {\"color\": \"#636efa\", \"symbol\": \"circle\"}, \"mode\": \"markers\", \"name\": \"\", \"orientation\": \"v\", \"showlegend\": false, \"type\": \"scatter\", \"x\": [1, 2, 3, 4, 5, 6, 7, 8, 9, 10, 11, 12, 13, 14, 15, 16, 17, 18, 19, 20, 21, 22, 23, 24, 25, 26, 27, 28, 29, 30, 31, 32, 33, 34, 35, 36, 37, 38, 39, 40, 41, 42, 43, 44, 45, 46, 47, 48, 49, 50, 51, 52, 53, 54, 55, 56, 57, 58, 59, 60, 61, 62, 63, 64, 65, 66, 67, 68, 69, 70, 71, 72, 73, 74, 75, 76, 77, 78, 79, 80, 81, 82, 83, 84, 85, 86, 87, 88, 89, 90, 91, 92, 93, 94, 95, 96, 97, 98, 99, 100, 101, 102, 103, 104, 105, 106, 107, 108, 109, 110, 111, 112, 113, 114, 115, 116, 117, 118, 119, 120, 121, 122, 123, 124, 125, 126, 127, 128, 129, 130, 131, 132, 133, 134, 135, 136, 137, 138, 139, 140, 141, 142, 143, 144, 145, 146, 147, 148, 149, 150, 151, 152, 153, 154, 155, 156, 157, 158, 159, 160, 161, 162, 163, 164, 165, 166, 167, 168, 169, 170, 171, 172, 173, 174, 175, 176, 177, 178, 179, 180, 181, 182, 183, 184, 185, 186, 187, 188, 189, 190, 191, 192, 193, 194, 195, 196, 197, 198, 199, 200, 201, 202, 203, 204, 205, 206, 207, 208, 209, 210, 211, 212, 213, 214, 215, 216, 217, 218, 219, 220, 221, 222, 223, 224, 225, 226, 227, 228, 229, 230, 231, 232, 233, 234, 235, 236, 237, 238, 239, 240, 241, 242, 243, 244, 245, 246, 247, 248, 249, 250, 251, 252, 253, 254, 255, 256, 257, 258, 259, 260, 261, 262, 263, 264, 265, 266, 267, 268, 269, 270, 271, 272, 273, 274, 275, 276, 277, 278, 279, 280, 281, 282, 283, 284, 285, 286, 287, 288, 289, 290, 291, 292, 293, 294, 295, 296, 297, 298, 299, 300, 301, 302, 303, 304, 305, 306, 307, 308, 309, 310, 311, 312, 313, 314, 315, 316, 317, 318, 319, 320, 321, 322, 323, 324, 325, 326, 327, 328, 329, 330, 331, 332, 333, 334, 335, 336, 337, 338, 339, 340, 341, 342, 343, 344, 345, 346, 347, 348, 349, 350, 351, 352, 353, 354, 355, 356, 357, 358, 359, 360, 361, 362, 363, 364, 365, 366, 367, 368, 369, 370, 371, 372, 373, 374, 375, 376, 377, 378, 379, 380, 381, 382, 383, 384, 385, 386, 387, 388, 389, 390, 391, 392, 393, 394, 395, 396, 397, 398, 399, 400, 401, 402, 403, 404, 405, 406, 407, 408, 409, 410, 411, 412, 413, 414, 415, 416, 417, 418, 419, 420, 421, 422, 423, 424, 425, 426, 427, 428, 429, 430, 431, 432, 433, 434, 435, 436, 437, 438, 439, 440, 441, 442, 443, 444, 445, 446, 447, 448, 449, 450, 451, 452, 453, 454, 455, 456, 457, 458, 459, 460, 461, 462, 463, 464, 465, 466, 467, 468, 469, 470, 471, 472, 473, 474, 475, 476, 477, 478, 479, 480, 481, 482, 483, 484, 485, 486, 487, 488, 489, 490, 491, 492, 493, 494, 495, 496, 497, 498, 499, 500, 501, 502, 503, 504, 505, 506, 507, 508, 509, 510, 511, 512, 513, 514, 515, 516, 517, 518, 519, 520, 521, 522, 523, 524, 525, 526, 527, 528, 529, 530, 531, 532, 533, 534, 535, 536, 537, 538, 539, 540, 541, 542, 543, 544, 545, 546, 547, 548, 549, 550, 551, 552, 553, 554, 555, 556, 557, 558, 559, 560, 561, 562, 563, 564, 565, 566, 567, 568, 569, 570, 571, 572, 573, 574, 575, 576, 577, 578, 579, 580, 581, 582, 583, 584, 585, 586, 587, 588, 589, 590, 591, 592, 593, 594, 595, 596, 597, 598, 599, 600, 601, 602, 603, 604, 605, 606, 607, 608, 609, 610, 611, 612, 613, 614, 615, 616, 617, 618, 619, 620, 621, 622, 623, 624, 625, 626, 627, 628, 629, 630, 631, 632, 633, 634, 635, 636, 637, 638, 639, 640, 641, 642, 643, 644, 645, 646, 647, 648, 649, 650, 651, 652, 653, 654, 655, 656, 657, 658, 659, 660, 661, 662, 663, 664, 665, 666, 667, 668, 669, 670, 671, 672, 673, 674, 675, 676, 677, 678, 679, 680, 681, 682, 683, 684, 685, 686, 687, 688, 689, 690, 691, 692, 693, 694, 695, 696, 697, 698, 699, 700, 701, 702, 703, 704, 705, 706, 707, 708, 709, 710, 711, 712, 713, 714, 715, 716, 717, 718, 719, 720, 721, 722, 723, 724, 725, 726, 727, 728, 729, 730, 731, 732, 733, 734, 735, 736, 737, 738, 739, 740, 741, 742, 743, 744, 745, 746, 747, 748, 749, 750, 751, 752, 753, 754, 755, 756, 757, 758, 759, 760, 761, 762, 763, 764, 765, 766, 767, 768, 769, 770, 771, 772, 773, 774, 775, 776, 777, 778, 779, 780, 781, 782, 783, 784, 785, 786, 787, 788, 789, 790, 791, 792, 793, 794, 795, 796, 797, 798, 799, 800, 801, 802, 803, 804, 805, 806, 807, 808, 809, 810, 811, 812, 813, 814, 815, 816, 817, 818, 819, 820, 821, 822, 823, 824, 825, 826, 827, 828, 829, 830, 831, 832, 833, 834, 835, 836, 837, 838, 839, 840, 841, 842, 843, 844, 845, 846, 847, 848, 849, 850, 851, 852, 853, 854, 855, 856, 857, 858, 859, 860, 861, 862, 863, 864, 865, 866, 867, 868, 869, 870, 871, 872, 873, 874, 875, 876, 877, 878, 879, 880, 881, 882, 883, 884, 885, 886, 887, 888, 889, 890, 891, 892, 893, 894, 895, 896, 897, 898, 899, 900, 901, 902, 903, 904, 905, 906, 907, 908, 909, 910, 911, 912, 913, 914, 915, 916, 917, 918, 919, 920, 921, 922, 923, 924, 925, 926, 927, 928, 929, 930, 931, 932, 933, 934, 935, 936, 937, 938, 939, 940, 941, 942, 943, 944, 945, 946, 947, 948, 949, 950, 951, 952, 953, 954, 955, 956, 957, 958, 959, 960, 961, 962, 963, 964, 965, 966, 967, 968, 969, 970, 971, 972, 973, 974, 975, 976, 977, 978, 979, 980, 981, 982, 983, 984, 985, 986, 987, 988, 989, 990, 991, 992, 993, 994, 995, 996, 997, 998, 999], \"xaxis\": \"x\", \"y\": [19362.124178380018, 963.3758216199822, 5270.875821619982, 3339.624178380018, 4547.724178380018, 1789.6241783800178, 345.5527498085885, 4619.374178380018, 6320.568622824463, 2590.775821619982, 3638.3969056527458, 313.2075117133518, 2528.6450523892127, 3735.161535905697, 5901.409154953316, 853.8758216199822, 3321.1830019094305, 766.2647105088708, 4004.913652064228, 4204.375821619982, 4358.447250191411, 284.9212761654362, 436.7763522930618, 3869.292488286649, 3200.2441783800186, 1973.1450523892127, 2138.616562360723, 104.41153590569593, 738.8827990696736, 1752.4424882866497, 1968.9306299929212, 1551.5320716199822, 1442.033269289108, 132.46405691409927, 482.12417838001784, 90.9591549533161, 203.5295837854228, 1494.9136520642278, 1779.3630011071618, 2116.1991783800186, 1060.7782606443725, 22.409892665731604, 2017.2637132637392, 1113.0576398018002, 533.8130672689076, 1217.4192998808521, 2559.4077365136, 1246.7491783800178, 636.3248012118183, 1321.544178380018, 1830.6143744584497, 680.3565908507517, 625.8380857709253, 1278.9869327310935, 275.78491252907224, 2245.250821619982, 473.07154680107124, 646.2378905855003, 96.85299193934043, 1333.242488286649, 1105.9110636259193, 1647.1564364445348, 150.2250279691889, 1342.9851966199822, 766.9857168415565, 1830.093875349714, 1711.7265678886397, 904.7287627964524, 1080.107705677954, 1019.9098926657316, 930.4532864087141, 1933.540845046684, 646.0419865991953, 1706.083637839478, 547.8891549533164, 1287.8758216199822, 1655.9147826589433, 2563.580949825111, 745.7950644559678, 480.17582161998143, 804.0377586269315, 1509.5144222824565, 1065.4300384874514, 163.11227361811325, 967.7699392670402, 1304.3334807055999, 1767.634442309638, 621.0900874709278, 80.87582161998216, 183.3647105088712, 1472.058244314083, 606.9845172721562, 1324.511275154211, 1325.929013109344, 0.4820731168601924, 349.4887617133518, 747.0107763181622, 28.869076339202365, 352.4818822260422, 1075.2341783800184, 388.1035443922592, 833.9248412278248, 74.90494783357462, 914.5585139276736, 1275.3241783800186, 788.9701612426234, 982.2683449844681, 2083.809363565202, 862.7198583172303, 69.67872383456415, 1771.3172630614245, 2216.883106951447, 547.4333437438763, 424.62143565506994, 482.73287403219183, 2683.3827990696736, 459.6797339355726, 827.1072292274748, 33.32119977124239, 53.67417838001711, 321.7435902150228, 1516.6979488718207, 803.0347474857081, 1795.9322732328856, 2129.6678216199816, 784.0765593323995, 119.63598940363954, 882.2413658800178, 193.0076045657188, 1091.952744696906, 128.00204097543792, 2101.768117773958, 302.2670355228747, 282.21164251550545, 90.75730310146355, 1126.2655275023353, 1264.4161491829382, 580.9792508437858, 194.01251226746353, 437.8670355228751, 478.7270152594501, 452.47629105607484, 2582.229073484912, 411.3549882866482, 1367.393062999292, 1406.266232578886, 282.2534300806983, 269.72717297133386, 614.6342454941114, 7.490845046684626, 277.8956891696507, 360.2837163568238, 500.01307652194373, 499.33197058780934, 512.6790170896948, 181.9703322261721, 876.2197706645675, 1168.7618975693495, 575.2217335696678, 57.71957161998216, 138.54041789327493, 51.72911665162246, 71.79902500578464, 404.8636264980305, 561.4514511072903, 622.8999180055234, 1079.9924418530718, 1363.4694164752564, 799.840154711379, 389.56993926704126, 457.3202660644274, 692.2578993102507, 1335.3380512123877, 1288.6172009303264, 319.7470355228743, 2.1809965618358547, 326.6835004139157, 753.3826053463108, 118.1942573741726, 961.5591549533146, 716.2236258938301, 476.7230794789193, 1124.5449434073398, 744.3089609887138, 157.7460918902525, 422.70482354130763, 157.71241367413495, 32.78375284810318, 832.2141254699654, 1294.0136520642282, 773.3313190021818, 155.48355338001784, 334.6941265665464, 284.082007186993, 206.8882809441202, 747.3196991710029, 526.0433343103377, 181.8303670745281, 704.3201582795155, 72.88417838001806, 341.8161201274452, 988.0697229344732, 73.59995955101658, 39.12582161998216, 600.5246021077874, 492.3377706130268, 226.6555793462012, 98.7556293122907, 321.19161109366723, 525.2241783800182, 640.2360111934413, 144.55506690300172, 125.09600936593415, 488.4980101557194, 233.6897751083543, 787.9313771755369, 380.55324097482116, 494.97215189521194, 659.955228608329, 1454.7059965618355, 560.6988390135011, 944.4704162145772, 205.10175685535432, 464.3161426657316, 1156.0624882866487, 326.2436474065671, 405.6291255847391, 551.7864590817717, 109.03684213547604, 746.6453868373737, 454.09820435404436, 62.53366113863922, 582.7979981225071, 761.0258877817269, 744.1539656140612, 1052.7131614308655, 1581.517171830952, 285.976661956116, 388.4113864735391, 560.5116783800186, 82.14138178595749, 859.2233519337369, 72.08714134298134, 319.5053259210017, 55.91601511471163, 255.9408622703886, 71.46830793467416, 554.5798235413076, 110.33766900954106, 128.93582161998165, 832.5345369457555, 624.1122736181132, 144.21904004009775, 713.2895327107271, 473.70457053688006, 828.1531653699822, 344.8401316874115, 275.52727915521245, 305.77282702866614, 1101.96263991848, 589.7908450466839, 323.7577661662781, 1372.0367259085342, 620.7643298951698, 1095.0003499218692, 9.827185898815515, 148.0118188294564, 446.0101499781904, 854.481055703438, 15.57973393557404, 215.48098767164265, 327.0449392670416, 473.0692333250736, 684.3247267294719, 1104.2550874709268, 414.0299754814678, 1121.0555863222562, 464.7141064375719, 73.03098841585961, 285.4508216199829, 403.64806361286537, 905.1772400596983, 559.5224647295236, 66.5537558448068, 488.88985670770126, 1087.9913112471513, 117.19986343182973, 517.9366783800178, 961.6509081251734, 528.3931438972595, 260.5768525478179, 384.5693838594707, 1065.6710434629858, 540.3180559310385, 225.70294026404918, 243.67311891727877, 43.71340396924279, 290.3858887340757, 374.77214269021715, 398.909154953315, 295.08098901124686, 222.7599399694227, 476.5754915869784, 391.2722046958079, 947.4094242816573, 718.0097992950505, 723.8432483300803, 134.4196329254719, 872.3936209727326, 392.10482354130727, 240.64186326747767, 284.99917838001784, 117.41171831611973, 542.7929681889345, 251.21306726890725, 106.40746718960327, 661.664465153106, 897.6461909586342, 677.9197087673183, 1636.2460533800186, 166.66398361375104, 21.406877520603302, 599.8913014961436, 657.6289080397346, 152.31889854305882, 156.39729401262048, 55.494208961057666, 852.5678947907145, 292.5050009512888, 316.23326928910865, 643.1453264162719, 180.00369645230785, 470.18813393229357, 843.9415436494783, 262.92955296326545, 350.90558352474363, 717.6523682909974, 383.7515612649531, 360.752496964089, 390.2594724976643, 320.9872585701287, 16.840552649024175, 462.7101842109223, 420.5240774339363, 228.1154827278442, 300.436515261601, 555.1558786682017, 1740.5954427478337, 218.34767408202424, 237.8498926657321, 328.6251093692699, 139.96792838001784, 218.85599159165395, 246.06203148736313, 208.64248823917296, 20.297169934588965, 437.500471479927, 516.2585031842282, 184.27738172263707, 112.26584504668426, 560.705895831541, 99.21836305644683, 385.9864373331857, 319.7796677738279, 200.72239696244833, 110.70369047244094, 577.636439960399, 839.2763522930618, 543.0482976212097, 542.4596054037665, 341.21312716708053, 740.1510601004484, 161.8748486213044, 744.9186023686452, 462.29982161998305, 500.7704549757618, 372.2223216160928, 128.441638697479, 435.33492452235623, 459.7152953041932, 368.88533323566116, 319.530271881762, 576.1972854296255, 17.389803380017838, 352.52517226933196, 109.37547371680557, 1145.5066073205871, 487.67572477177055, 109.24343087448142, 713.5575117133503, 4.006256402590225, 57.126729400426484, 415.1725244359968, 566.6017099448545, 442.1340494680826, 378.29337029921044, 96.16196175533332, 706.3029572983742, 74.8835768762583, 7.219178380017183, 97.42841778151342, 856.3086574408771, 835.3475034420517, 545.7504160037806, 56.823969768131064, 360.5851812258934, 233.83670909254943, 500.4084921055073, 11.421053893820499, 896.0294801565669, 620.3893851926696, 1159.9777633675549, 993.3140782785777, 294.14833296938923, 180.03261211495737, 73.10899469690594, 194.77885463901112, 214.21987215992158, 300.60866525352685, 156.5003688562083, 40.40313753447117, 503.13365705300384, 139.17369396040704, 251.11874614828412, 685.7958216199822, 745.2368544363562, 186.50825332146997, 219.19124218073011, 49.655646911485746, 149.47582161998253, 9.766772896084149, 171.2167709726109, 1056.9717534377542, 735.0251000390035, 63.912603229176966, 489.1585820497421, 223.42852620610392, 271.37075372248364, 30.140058522032632, 153.76508747092703, 95.95972184673883, 409.72650035301376, 640.4289187863378, 1085.261565767405, 589.3578862451868, 526.5143129091666, 155.7371191591319, 790.6793930485528, 76.63642782322495, 495.5424882866482, 249.34588813882874, 203.04010758355798, 261.07891212770846, 316.17924445931385, 53.41648096064091, 129.8347046958079, 135.70185890518223, 703.3468858035994, 486.41393872860135, 259.34809142349695, 288.23914584205704, 932.4797177238779, 38.53024926577018, 979.8585802406724, 734.4811676273293, 36.46595037534644, 984.4432361958643, 165.99811000394948, 368.21484080974733, 243.04971029491207, 170.99471758601248, 56.26189024442465, 550.1992888504265, 142.47497773812574, 213.6295058305077, 704.4619560737628, 641.5886098799401, 688.0363122712315, 216.29745604181335, 62.352904953315374, 150.98696424280388, 174.29698344570897, 264.87375122660706, 52.96879682659346, 654.0119040942081, 172.6659450767729, 445.1920433858959, 429.93934621014523, 354.77357213122923, 83.35274980858958, 910.3115510887746, 1019.197349111726, 2.351358907400936, 352.0614253435797, 922.4231682790069, 770.491113863889, 182.60016769644062, 546.3577493308258, 606.657244512282, 220.236178380017, 98.29298728864524, 51.768251898865856, 858.8400363317123, 326.7848926657316, 573.0330892711063, 391.39097679898987, 283.4202003182072, 576.9506247695881, 796.3375112074082, 284.5522922082182, 87.74666310726207, 618.7469153699822, 327.28207311685946, 176.02301106484265, 515.0814599334153, 22.604503790524177, 305.2595748983931, 231.57080231496366, 388.53670793982747, 677.7607168415561, 190.2692957082745, 31.360495949484175, 178.6349038379558, 10.870096429141995, 319.5824882866491, 496.1685972853811, 91.65760530119587, 235.70561777395778, 45.264064958468225, 665.0928027520567, 74.31273310774122, 263.4343287559568, 274.3005386051591, 135.4863085113684, 534.8082905295505, 82.67641718598861, 336.7100860520113, 366.2951820974904, 329.7793466663643, 397.74989569405625, 103.37741313047991, 98.69982413647631, 106.96421941003791, 384.1958695564881, 290.2354546475053, 900.1487153928756, 609.1424599156671, 852.1570250953464, 866.7774609642438, 63.94963292547254, 94.011655693992, 40.25280156842382, 32.965046372784855, 82.04656105149843, 50.935281079440756, 252.2626675886513, 234.7543399599108, 31.017398680913175, 274.3585254283189, 370.43846409430444, 119.68211064383286, 53.17119528546209, 117.16178964840219, 215.54261809632953, 595.3820163102482, 689.4411926447174, 367.58128899211624, 257.87406105660193, 318.9267882280674, 514.3547689884035, 392.6793447547989, 688.5455070513472, 48.24634242888351, 481.1946369509933, 424.03234335911293, 324.3516089355726, 450.7862234406766, 199.66743097517428, 60.151812231486474, 191.4500404489827, 236.96015896937934, 274.9926601079551, 277.8620994930534, 263.6977394282021, 795.8780245338639, 456.1514821342844, 38.00870066597963, 755.2993484480448, 23.108419243071694, 178.2326529562888, 358.4714222968014, 735.5853270286661, 15.749810757757587, 583.6502323943932, 68.45359014472342, 241.81880925250152, 34.32473284276239, 723.2771594126243, 68.35122345514355, 550.9575117133518, 50.090463882877884, 42.59841298210813, 103.92849015447973, 218.05794082527973, 680.2642513720475, 376.1811021480353, 515.1900762383375, 212.8988479357722, 797.3688417626126, 519.6397560462119, 33.136050752551455, 108.55556018207426, 963.1645655025277, 85.07206111617415, 159.02336537188785, 755.7280744839136, 63.36852826503855, 163.51821644198935, 62.10845489946587, 212.46614420062724, 1006.5589609887138, 612.3556896340378, 292.27229031982097, 92.31652674818724, 499.655021619983, 1221.8486650704617, 447.96832560722214, 290.4172228938678, 650.6230394260238, 125.63137717553764, 184.88533033630483, 514.0356317465648, 244.2316033405241, 398.28821623490694, 783.7462256241124, 204.48895825423097, 317.5135033407714, 417.2629689554051, 180.04327075926267, 91.27261588001784, 436.7385361285633, 38.868726666622024, 200.6716122835951, 517.3432129243301, 113.1037285967268, 249.13965825617925, 559.9020967359011, 415.0193401385004, 602.8049433457145, 66.75033222617094, 113.89425479970487, 349.0429995340928, 213.26020140558649, 968.2969612546349, 695.9424989907056, 403.12887040046917, 299.7175263383997, 275.5034811944497, 490.3836624467858, 110.29690565274541, 381.3859030396252, 343.8356587425551, 48.397691906558975, 8.577628848897803, 19.292362973365016, 611.85329909746, 35.94328788684834, 492.67507658361137, 111.39473144429212, 124.90119475431129, 296.3020511281793, 8.89814304855281, 121.47484702786278, 147.35563238595205, 470.4343401385013, 382.90376417883454, 101.00305578031293, 44.09762970745214, 109.10945083951628, 938.5361157376301, 6.789184321891298, 116.9813934674894, 333.5888523666872, 240.34365787729257, 373.71249954790073, 182.44779354036837, 497.93550138708633, 216.04859698466862, 507.01822772689775, 1.7053378003074613, 967.3881226330068, 63.86426092634065, 364.5282187840585, 99.90464006378534, 60.58085759120513, 509.62725840159146, 9.649285984034577, 10.077827350640291, 76.3573686518339, 539.105606951447, 12.52360776660862, 131.75473899889948, 55.05789843363709, 359.15991252907224, 223.7197932511881, 202.92162880494652, 242.520217983978, 773.9704543883436, 214.34279615152627, 41.353755844806074, 308.76752344839224, 274.9429986047362, 96.32754443892372, 91.84500929505157, 473.1751223192823, 322.8588152515258, 311.22589135498856, 646.7133148702687, 55.28690438836202, 555.4102894911284, 474.49024603052385, 265.5452310115961, 89.32810377765782, 21.07307340764237, 46.46073010415603, 104.53740152051432, 661.4837996117294, 475.7109864551476, 365.98967621531847, 68.63061614053004, 28.996204656918053, 615.5739090516763, 775.1309996624186, 646.3131513202552, 240.00853212151378, 207.90542838001784, 186.53932229840757, 464.1214683529179, 316.4543542934134, 175.6866324307921, 583.3185103638243, 241.54428523184288, 421.2203707451499, 255.1174579499111, 43.73488202266708, 272.8413365569613, 233.3423845379839, 263.7231088613007, 478.014699074276, 182.35048828664912, 184.61286013767494, 116.83029540129428, 714.747003558894, 242.6569887287351, 75.45133069789881, 318.57523658107675, 91.8797846318721, 273.00642848014104, 2.7737172469478537, 357.5639795147199, 222.81406077898282, 136.15961145088477, 445.2087180813196, 165.89642968891894, 24.181694719887673, 43.45054913719832, 527.9879467829542, 97.5607174533161, 352.899210889771, 87.99300954884893, 315.46659083138, 204.80069208630266, 230.2380205533682, 493.9200440130935, 266.986113863888, 182.082007186993, 335.9851822410219, 13.009782493129023, 355.21403717334215, 135.83864213280322, 103.41611179871143, 247.7200863084072, 842.257686243227, 91.57060695144719, 312.46303188320235, 14.525948846445317, 278.56451285251023, 206.20793472519472, 398.9391340200691, 71.70898850659978, 268.9825854596638, 300.0967812159415, 227.04221116690314, 211.29017930260125, 717.7367569963699, 347.8289522493651, 343.16189439288064, 361.7642927979268, 208.06731098168348, 141.2058216199821, 235.45376639499955, 56.42195628332411, 69.87582161998216, 192.0735828140114, 189.38380570921072, 372.92544941154483, 583.6379034043694, 274.0057721150315, 486.3516196655564, 491.2105981331042, 532.4898783400804, 431.1672818282932, 132.28900002823502, 348.230858475019, 311.63092684627554, 130.22508632586505, 192.0533002001539, 226.7474597617911, 381.98986824570784, 712.5339344775784, 144.54086425091918, 29.093764754714357, 52.463182025217975, 20.64402550347768, 193.26842080426104, 896.9678313052118, 253.4772618141178, 475.0191059162498, 527.0857130554468, 170.74345548845122, 208.82092928254497, 296.5400437646331, 442.8590148972926, 108.67933425531737, 80.57522281758611, 248.63419482572317, 208.77904742643295, 42.36761513419515, 429.16708660409495, 596.9258216199814, 585.6616337902433, 129.94603111160905, 270.1023933874785, 123.19335716500609, 295.19400086522546, 647.2103369864126, 187.67157132482316, 204.5534236630374, 3.299849888533572, 229.7911157376293, 183.4880425365518, 337.1910797884684, 76.1044265437813, 398.1322619010134, 460.60020177183105, 274.18773750783294, 496.68328953130003, 288.01568175984175, 15.02289782122898, 69.82582161998289, 18.82336537188712, 23.801575680306996, 141.41386551790856, 323.6091320837222, 173.64556566325518, 307.47281931051293, 99.91079891058325, 386.0366207763309, 834.0712439726522, 283.21498297771905, 60.5248672433936, 155.43889501447848, 227.68910913430045, 261.06918546437555, 312.94439304855405, 53.75253394874926, 471.20969719415734, 328.408851232738, 34.77946848240754, 83.0076398018009, 234.0935313879636, 255.55722751567373, 476.2993776788717, 278.7536496742814, 119.79559563128169, 174.5067471278835, 3.2444800190805836, 39.931610812449435, 149.1916699435733, 635.9994171256003, 171.92328051245386, 49.00698753926554, 61.68968789849532, 266.9865944874, 381.5498767040408, 411.0661426657316, 305.012945365801, 25.453799760864058, 267.7059358883598, 464.5769327310936, 74.41718614916317, 159.197349111726, 243.41513501976078, 30.478160680902874, 287.5462778275323, 313.16501723211513, 157.47890872031348, 136.52229739090762, 426.0815421920397, 241.70549194965315, 157.86374697673273, 334.05893565506994, 554.6688117623708, 102.17997916921558, 223.23319866916245, 296.1629395239124, 300.7449601150747, 193.89433088546502, 266.3657453005835, 47.23016944606934, 38.01262943757138, 443.0959788138571, 485.03858791414495, 443.9824034882422, 317.85390810974786, 21.422234535524694, 20.63874148681316, 614.6064250682575, 93.72051853071753, 42.73708160582464, 165.42684202814598, 362.55178728521787, 1009.0408805696079, 230.03963318315073, 205.07711955648847, 719.3944775253167, 120.10816984213125, 7.632707164666499, 22.70010277014262, 349.038008167252, 198.1209902822502, 240.93309557746943, 434.0104981841396, 30.2995504335413, 234.10968405384483, 361.9286181263178, 84.15480140008185, 10.651604540355038, 835.5986877949035, 48.43891522212289, 311.1439604212446, 208.17249770774833, 115.31338720235362, 289.2709998170467, 41.31789565750478, 300.0285412852536, 120.70549769103673, 241.5898090938863, 40.79657240204688, 264.4289466199825, 81.2417642280925, 283.92251517835393, 360.6868288889327, 98.89388792358659, 156.22055143701255, 1024.5062564025902, 87.7176003169825, 429.132442842827, 103.23082677994171, 82.79437832101394, 77.863463226573, 454.65154178459125, 370.6384115480396, 95.08424051115253, 503.61530879946986, 60.65798985542824, 143.45719316553004, 58.24176529208307, 696.7339843044301, 204.259495089369, 112.42220286361044, 357.20576052018623, 147.34784603503795, 99.7091549533161, 646.9434677201189, 340.4679917674421, 155.45738190367047, 656.0539592718033, 229.2691482124992, 170.08781474365423, 79.24010012654071, 291.02538805743643, 4.375318095309922, 271.7047954630398, 106.44377636996796, 112.52176874146426, 25.105121208503988, 479.6543787342107, 256.7598140156533], \"yaxis\": \"y\"}],                        {\"font\": {\"color\": \"Black\", \"family\": \"Courier New, monospace\", \"size\": 15}, \"legend\": {\"tracegroupgap\": 0}, \"template\": {\"data\": {\"bar\": [{\"error_x\": {\"color\": \"#2a3f5f\"}, \"error_y\": {\"color\": \"#2a3f5f\"}, \"marker\": {\"line\": {\"color\": \"#E5ECF6\", \"width\": 0.5}}, \"type\": \"bar\"}], \"barpolar\": [{\"marker\": {\"line\": {\"color\": \"#E5ECF6\", \"width\": 0.5}}, \"type\": \"barpolar\"}], \"carpet\": [{\"aaxis\": {\"endlinecolor\": \"#2a3f5f\", \"gridcolor\": \"white\", \"linecolor\": \"white\", \"minorgridcolor\": \"white\", \"startlinecolor\": \"#2a3f5f\"}, \"baxis\": {\"endlinecolor\": \"#2a3f5f\", \"gridcolor\": \"white\", \"linecolor\": \"white\", \"minorgridcolor\": \"white\", \"startlinecolor\": \"#2a3f5f\"}, \"type\": \"carpet\"}], \"choropleth\": [{\"colorbar\": {\"outlinewidth\": 0, \"ticks\": \"\"}, \"type\": \"choropleth\"}], \"contour\": [{\"colorbar\": {\"outlinewidth\": 0, \"ticks\": \"\"}, \"colorscale\": [[0.0, \"#0d0887\"], [0.1111111111111111, \"#46039f\"], [0.2222222222222222, \"#7201a8\"], [0.3333333333333333, \"#9c179e\"], [0.4444444444444444, \"#bd3786\"], [0.5555555555555556, \"#d8576b\"], [0.6666666666666666, \"#ed7953\"], [0.7777777777777778, \"#fb9f3a\"], [0.8888888888888888, \"#fdca26\"], [1.0, \"#f0f921\"]], \"type\": \"contour\"}], \"contourcarpet\": [{\"colorbar\": {\"outlinewidth\": 0, \"ticks\": \"\"}, \"type\": \"contourcarpet\"}], \"heatmap\": [{\"colorbar\": {\"outlinewidth\": 0, \"ticks\": \"\"}, \"colorscale\": [[0.0, \"#0d0887\"], [0.1111111111111111, \"#46039f\"], [0.2222222222222222, \"#7201a8\"], [0.3333333333333333, \"#9c179e\"], [0.4444444444444444, \"#bd3786\"], [0.5555555555555556, \"#d8576b\"], [0.6666666666666666, \"#ed7953\"], [0.7777777777777778, \"#fb9f3a\"], [0.8888888888888888, \"#fdca26\"], [1.0, \"#f0f921\"]], \"type\": \"heatmap\"}], \"heatmapgl\": [{\"colorbar\": {\"outlinewidth\": 0, \"ticks\": \"\"}, \"colorscale\": [[0.0, \"#0d0887\"], [0.1111111111111111, \"#46039f\"], [0.2222222222222222, \"#7201a8\"], [0.3333333333333333, \"#9c179e\"], [0.4444444444444444, \"#bd3786\"], [0.5555555555555556, \"#d8576b\"], [0.6666666666666666, \"#ed7953\"], [0.7777777777777778, \"#fb9f3a\"], [0.8888888888888888, \"#fdca26\"], [1.0, \"#f0f921\"]], \"type\": \"heatmapgl\"}], \"histogram\": [{\"marker\": {\"colorbar\": {\"outlinewidth\": 0, \"ticks\": \"\"}}, \"type\": \"histogram\"}], \"histogram2d\": [{\"colorbar\": {\"outlinewidth\": 0, \"ticks\": \"\"}, \"colorscale\": [[0.0, \"#0d0887\"], [0.1111111111111111, \"#46039f\"], [0.2222222222222222, \"#7201a8\"], [0.3333333333333333, \"#9c179e\"], [0.4444444444444444, \"#bd3786\"], [0.5555555555555556, \"#d8576b\"], [0.6666666666666666, \"#ed7953\"], [0.7777777777777778, \"#fb9f3a\"], [0.8888888888888888, \"#fdca26\"], [1.0, \"#f0f921\"]], \"type\": \"histogram2d\"}], \"histogram2dcontour\": [{\"colorbar\": {\"outlinewidth\": 0, \"ticks\": \"\"}, \"colorscale\": [[0.0, \"#0d0887\"], [0.1111111111111111, \"#46039f\"], [0.2222222222222222, \"#7201a8\"], [0.3333333333333333, \"#9c179e\"], [0.4444444444444444, \"#bd3786\"], [0.5555555555555556, \"#d8576b\"], [0.6666666666666666, \"#ed7953\"], [0.7777777777777778, \"#fb9f3a\"], [0.8888888888888888, \"#fdca26\"], [1.0, \"#f0f921\"]], \"type\": \"histogram2dcontour\"}], \"mesh3d\": [{\"colorbar\": {\"outlinewidth\": 0, \"ticks\": \"\"}, \"type\": \"mesh3d\"}], \"parcoords\": [{\"line\": {\"colorbar\": {\"outlinewidth\": 0, \"ticks\": \"\"}}, \"type\": \"parcoords\"}], \"pie\": [{\"automargin\": true, \"type\": \"pie\"}], \"scatter\": [{\"marker\": {\"colorbar\": {\"outlinewidth\": 0, \"ticks\": \"\"}}, \"type\": \"scatter\"}], \"scatter3d\": [{\"line\": {\"colorbar\": {\"outlinewidth\": 0, \"ticks\": \"\"}}, \"marker\": {\"colorbar\": {\"outlinewidth\": 0, \"ticks\": \"\"}}, \"type\": \"scatter3d\"}], \"scattercarpet\": [{\"marker\": {\"colorbar\": {\"outlinewidth\": 0, \"ticks\": \"\"}}, \"type\": \"scattercarpet\"}], \"scattergeo\": [{\"marker\": {\"colorbar\": {\"outlinewidth\": 0, \"ticks\": \"\"}}, \"type\": \"scattergeo\"}], \"scattergl\": [{\"marker\": {\"colorbar\": {\"outlinewidth\": 0, \"ticks\": \"\"}}, \"type\": \"scattergl\"}], \"scattermapbox\": [{\"marker\": {\"colorbar\": {\"outlinewidth\": 0, \"ticks\": \"\"}}, \"type\": \"scattermapbox\"}], \"scatterpolar\": [{\"marker\": {\"colorbar\": {\"outlinewidth\": 0, \"ticks\": \"\"}}, \"type\": \"scatterpolar\"}], \"scatterpolargl\": [{\"marker\": {\"colorbar\": {\"outlinewidth\": 0, \"ticks\": \"\"}}, \"type\": \"scatterpolargl\"}], \"scatterternary\": [{\"marker\": {\"colorbar\": {\"outlinewidth\": 0, \"ticks\": \"\"}}, \"type\": \"scatterternary\"}], \"surface\": [{\"colorbar\": {\"outlinewidth\": 0, \"ticks\": \"\"}, \"colorscale\": [[0.0, \"#0d0887\"], [0.1111111111111111, \"#46039f\"], [0.2222222222222222, \"#7201a8\"], [0.3333333333333333, \"#9c179e\"], [0.4444444444444444, \"#bd3786\"], [0.5555555555555556, \"#d8576b\"], [0.6666666666666666, \"#ed7953\"], [0.7777777777777778, \"#fb9f3a\"], [0.8888888888888888, \"#fdca26\"], [1.0, \"#f0f921\"]], \"type\": \"surface\"}], \"table\": [{\"cells\": {\"fill\": {\"color\": \"#EBF0F8\"}, \"line\": {\"color\": \"white\"}}, \"header\": {\"fill\": {\"color\": \"#C8D4E3\"}, \"line\": {\"color\": \"white\"}}, \"type\": \"table\"}]}, \"layout\": {\"annotationdefaults\": {\"arrowcolor\": \"#2a3f5f\", \"arrowhead\": 0, \"arrowwidth\": 1}, \"autotypenumbers\": \"strict\", \"coloraxis\": {\"colorbar\": {\"outlinewidth\": 0, \"ticks\": \"\"}}, \"colorscale\": {\"diverging\": [[0, \"#8e0152\"], [0.1, \"#c51b7d\"], [0.2, \"#de77ae\"], [0.3, \"#f1b6da\"], [0.4, \"#fde0ef\"], [0.5, \"#f7f7f7\"], [0.6, \"#e6f5d0\"], [0.7, \"#b8e186\"], [0.8, \"#7fbc41\"], [0.9, \"#4d9221\"], [1, \"#276419\"]], \"sequential\": [[0.0, \"#0d0887\"], [0.1111111111111111, \"#46039f\"], [0.2222222222222222, \"#7201a8\"], [0.3333333333333333, \"#9c179e\"], [0.4444444444444444, \"#bd3786\"], [0.5555555555555556, \"#d8576b\"], [0.6666666666666666, \"#ed7953\"], [0.7777777777777778, \"#fb9f3a\"], [0.8888888888888888, \"#fdca26\"], [1.0, \"#f0f921\"]], \"sequentialminus\": [[0.0, \"#0d0887\"], [0.1111111111111111, \"#46039f\"], [0.2222222222222222, \"#7201a8\"], [0.3333333333333333, \"#9c179e\"], [0.4444444444444444, \"#bd3786\"], [0.5555555555555556, \"#d8576b\"], [0.6666666666666666, \"#ed7953\"], [0.7777777777777778, \"#fb9f3a\"], [0.8888888888888888, \"#fdca26\"], [1.0, \"#f0f921\"]]}, \"colorway\": [\"#636efa\", \"#EF553B\", \"#00cc96\", \"#ab63fa\", \"#FFA15A\", \"#19d3f3\", \"#FF6692\", \"#B6E880\", \"#FF97FF\", \"#FECB52\"], \"font\": {\"color\": \"#2a3f5f\"}, \"geo\": {\"bgcolor\": \"white\", \"lakecolor\": \"white\", \"landcolor\": \"#E5ECF6\", \"showlakes\": true, \"showland\": true, \"subunitcolor\": \"white\"}, \"hoverlabel\": {\"align\": \"left\"}, \"hovermode\": \"closest\", \"mapbox\": {\"style\": \"light\"}, \"paper_bgcolor\": \"white\", \"plot_bgcolor\": \"#E5ECF6\", \"polar\": {\"angularaxis\": {\"gridcolor\": \"white\", \"linecolor\": \"white\", \"ticks\": \"\"}, \"bgcolor\": \"#E5ECF6\", \"radialaxis\": {\"gridcolor\": \"white\", \"linecolor\": \"white\", \"ticks\": \"\"}}, \"scene\": {\"xaxis\": {\"backgroundcolor\": \"#E5ECF6\", \"gridcolor\": \"white\", \"gridwidth\": 2, \"linecolor\": \"white\", \"showbackground\": true, \"ticks\": \"\", \"zerolinecolor\": \"white\"}, \"yaxis\": {\"backgroundcolor\": \"#E5ECF6\", \"gridcolor\": \"white\", \"gridwidth\": 2, \"linecolor\": \"white\", \"showbackground\": true, \"ticks\": \"\", \"zerolinecolor\": \"white\"}, \"zaxis\": {\"backgroundcolor\": \"#E5ECF6\", \"gridcolor\": \"white\", \"gridwidth\": 2, \"linecolor\": \"white\", \"showbackground\": true, \"ticks\": \"\", \"zerolinecolor\": \"white\"}}, \"shapedefaults\": {\"line\": {\"color\": \"#2a3f5f\"}}, \"ternary\": {\"aaxis\": {\"gridcolor\": \"white\", \"linecolor\": \"white\", \"ticks\": \"\"}, \"baxis\": {\"gridcolor\": \"white\", \"linecolor\": \"white\", \"ticks\": \"\"}, \"bgcolor\": \"#E5ECF6\", \"caxis\": {\"gridcolor\": \"white\", \"linecolor\": \"white\", \"ticks\": \"\"}}, \"title\": {\"x\": 0.05}, \"xaxis\": {\"automargin\": true, \"gridcolor\": \"white\", \"linecolor\": \"white\", \"ticks\": \"\", \"title\": {\"standoff\": 15}, \"zerolinecolor\": \"white\", \"zerolinewidth\": 2}, \"yaxis\": {\"automargin\": true, \"gridcolor\": \"white\", \"linecolor\": \"white\", \"ticks\": \"\", \"title\": {\"standoff\": 15}, \"zerolinecolor\": \"white\", \"zerolinewidth\": 2}}}, \"title\": {\"text\": \"Mean difference with respect of number of sample\"}, \"xaxis\": {\"anchor\": \"y\", \"domain\": [0.0, 1.0], \"title\": {\"text\": \"Sample size (number)\"}}, \"yaxis\": {\"anchor\": \"x\", \"domain\": [0.0, 1.0], \"title\": {\"text\": \"Mean differance (pop-sample)\"}}},                        {\"responsive\": true}                    ).then(function(){\n                            \nvar gd = document.getElementById('2a5ad0d5-1eb2-44e8-81b9-c0c935e7b896');\nvar x = new MutationObserver(function (mutations, observer) {{\n        var display = window.getComputedStyle(gd).display;\n        if (!display || display === 'none') {{\n            console.log([gd, 'removed!']);\n            Plotly.purge(gd);\n            observer.disconnect();\n        }}\n}});\n\n// Listen for the removal of the full notebook cells\nvar notebookContainer = gd.closest('#notebook-container');\nif (notebookContainer) {{\n    x.observe(notebookContainer, {childList: true});\n}}\n\n// Listen for the clearing of the current output cell\nvar outputEl = gd.closest('.output');\nif (outputEl) {{\n    x.observe(outputEl, {childList: true});\n}}\n\n                        })                };                            </script>        </div>\n</body>\n</html>"
          },
          "metadata": {},
          "output_type": "display_data"
        }
      ]
    },
    {
      "cell_type": "markdown",
      "source": "## Observations\n\nWe can se that as the begining when I run a larger samples in that case 20 the differences in mean seems to be smaller but were a little difficult to interpret. When we run around 50 samples you can see a similar problem. Now, wen that sample size is increase to 300 or even a 1000 the difference is less and less compare to the population.",
      "metadata": {
        "tags": [],
        "cell_id": "00105-2ff61455-b300-4c20-84c1-fe775319ae18",
        "deepnote_cell_type": "markdown"
      }
    },
    {
      "cell_type": "markdown",
      "source": "<a style='text-decoration:none;line-height:16px;display:flex;color:#5B5B62;padding:10px;justify-content:end;' href='https://deepnote.com?utm_source=created-in-deepnote-cell&projectId=b915ff2d-8090-4874-a35f-cf3a387889c8' target=\"_blank\">\n<img alt='Created in deepnote.com' style='display:inline;max-height:16px;margin:0px;margin-right:7.5px;' src='data:image/svg+xml;base64,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' > </img>\nCreated in <span style='font-weight:600;margin-left:4px;'>Deepnote</span></a>",
      "metadata": {
        "tags": [],
        "created_in_deepnote_cell": true,
        "deepnote_cell_type": "markdown"
      }
    }
  ],
  "nbformat": 4,
  "nbformat_minor": 2,
  "metadata": {
    "orig_nbformat": 2,
    "deepnote": {
      "is_reactive": false
    },
    "deepnote_notebook_id": "f086f9f8-33c7-4601-9ec5-4fbcde278599",
    "deepnote_execution_queue": []
  }
}